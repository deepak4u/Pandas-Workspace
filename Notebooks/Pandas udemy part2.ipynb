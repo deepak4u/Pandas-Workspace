{
 "cells": [
  {
   "cell_type": "markdown",
   "id": "1af69a8a",
   "metadata": {},
   "source": [
    "##  Datetime"
   ]
  },
  {
   "cell_type": "code",
   "execution_count": 1,
   "id": "c08f3276",
   "metadata": {},
   "outputs": [],
   "source": [
    "import pandas as pd\n",
    "import datetime as dt\n",
    "import re\n",
    "from pathlib import Path\n",
    "\n",
    "# Current dir\n",
    "# CURR_DIR = Path().absolute()\n",
    "BASE_DIR = Path().absolute().parents[0]\n",
    "input_files_dir = Path.joinpath(BASE_DIR, 'Data')"
   ]
  },
  {
   "cell_type": "code",
   "execution_count": 2,
   "id": "f7a28627",
   "metadata": {},
   "outputs": [
    {
     "data": {
      "text/plain": [
       "datetime.date(2022, 1, 26)"
      ]
     },
     "execution_count": 2,
     "metadata": {},
     "output_type": "execute_result"
    }
   ],
   "source": [
    "someday = dt.date(2022, 1, 26)\n",
    "someday"
   ]
  },
  {
   "cell_type": "code",
   "execution_count": 3,
   "id": "27ca2595",
   "metadata": {},
   "outputs": [
    {
     "data": {
      "text/plain": [
       "2022"
      ]
     },
     "execution_count": 3,
     "metadata": {},
     "output_type": "execute_result"
    }
   ],
   "source": [
    "someday.year"
   ]
  },
  {
   "cell_type": "code",
   "execution_count": 4,
   "id": "a9793f2c",
   "metadata": {},
   "outputs": [
    {
     "data": {
      "text/plain": [
       "26"
      ]
     },
     "execution_count": 4,
     "metadata": {},
     "output_type": "execute_result"
    }
   ],
   "source": [
    "someday.day"
   ]
  },
  {
   "cell_type": "code",
   "execution_count": 5,
   "id": "1774ec73",
   "metadata": {},
   "outputs": [
    {
     "data": {
      "text/plain": [
       "datetime.datetime(2022, 1, 26, 0, 0)"
      ]
     },
     "execution_count": 5,
     "metadata": {},
     "output_type": "execute_result"
    }
   ],
   "source": [
    "# Daefault midnight\n",
    "dt.datetime(2022, 1, 26)"
   ]
  },
  {
   "cell_type": "code",
   "execution_count": 6,
   "id": "079f289d",
   "metadata": {},
   "outputs": [],
   "source": [
    "someday = dt.datetime(2022, 1, 26, 18, 13, 57)"
   ]
  },
  {
   "cell_type": "code",
   "execution_count": 7,
   "id": "6680da83",
   "metadata": {},
   "outputs": [
    {
     "data": {
      "text/plain": [
       "18"
      ]
     },
     "execution_count": 7,
     "metadata": {},
     "output_type": "execute_result"
    }
   ],
   "source": [
    "someday.day\n",
    "someday.hour"
   ]
  },
  {
   "cell_type": "markdown",
   "id": "0489833a",
   "metadata": {},
   "source": [
    "## pandas timestamp object"
   ]
  },
  {
   "cell_type": "code",
   "execution_count": 8,
   "id": "c7fc71eb",
   "metadata": {},
   "outputs": [],
   "source": [
    "x = '2022-01-26 18:13:57'"
   ]
  },
  {
   "cell_type": "code",
   "execution_count": 9,
   "id": "5a793463",
   "metadata": {},
   "outputs": [
    {
     "data": {
      "text/plain": [
       "Timestamp('2022-01-26 18:13:57')"
      ]
     },
     "execution_count": 9,
     "metadata": {},
     "output_type": "execute_result"
    }
   ],
   "source": [
    "pd.Timestamp(x)"
   ]
  },
  {
   "cell_type": "code",
   "execution_count": null,
   "id": "f0adbbf5",
   "metadata": {},
   "outputs": [],
   "source": []
  },
  {
   "cell_type": "code",
   "execution_count": 10,
   "id": "343459e6",
   "metadata": {},
   "outputs": [],
   "source": [
    "# Careful about below assumption\n",
    "x = pd.Timestamp('13/1/2022')"
   ]
  },
  {
   "cell_type": "code",
   "execution_count": 11,
   "id": "1ca9324d",
   "metadata": {},
   "outputs": [
    {
     "data": {
      "text/plain": [
       "13"
      ]
     },
     "execution_count": 11,
     "metadata": {},
     "output_type": "execute_result"
    }
   ],
   "source": [
    "x.day"
   ]
  },
  {
   "cell_type": "code",
   "execution_count": 12,
   "id": "cd537d8d",
   "metadata": {},
   "outputs": [],
   "source": [
    "x = pd.Timestamp('12/1/2022')"
   ]
  },
  {
   "cell_type": "code",
   "execution_count": 13,
   "id": "3ffb4a7b",
   "metadata": {},
   "outputs": [
    {
     "data": {
      "text/plain": [
       "1"
      ]
     },
     "execution_count": 13,
     "metadata": {},
     "output_type": "execute_result"
    }
   ],
   "source": [
    "x.day"
   ]
  },
  {
   "cell_type": "code",
   "execution_count": 14,
   "id": "d68d5f73",
   "metadata": {},
   "outputs": [],
   "source": [
    "x = pd.Timestamp('1/13/2022')"
   ]
  },
  {
   "cell_type": "code",
   "execution_count": 15,
   "id": "df5a4746",
   "metadata": {},
   "outputs": [
    {
     "data": {
      "text/plain": [
       "13"
      ]
     },
     "execution_count": 15,
     "metadata": {},
     "output_type": "execute_result"
    }
   ],
   "source": [
    "x.day"
   ]
  },
  {
   "cell_type": "code",
   "execution_count": 16,
   "id": "c1236fa9",
   "metadata": {},
   "outputs": [
    {
     "data": {
      "text/plain": [
       "Timestamp('2022-01-26 20:13:57')"
      ]
     },
     "execution_count": 16,
     "metadata": {},
     "output_type": "execute_result"
    }
   ],
   "source": [
    "# am/pm to 24 hr\n",
    "pd.Timestamp('2022-01-26 8:13:57 pm')"
   ]
  },
  {
   "cell_type": "code",
   "execution_count": 17,
   "id": "d2592718",
   "metadata": {},
   "outputs": [
    {
     "data": {
      "text/plain": [
       "Timestamp('2022-01-26 16:35:25')"
      ]
     },
     "execution_count": 17,
     "metadata": {},
     "output_type": "execute_result"
    }
   ],
   "source": [
    "# timestamp pandas - more features\n",
    "# datetime default\n",
    "pd.Timestamp(dt.datetime(2022, 1, 26, 16, 35,25))"
   ]
  },
  {
   "cell_type": "markdown",
   "id": "28d41172",
   "metadata": {},
   "source": [
    "## DatetimeIndex object"
   ]
  },
  {
   "cell_type": "code",
   "execution_count": 18,
   "id": "d3527685",
   "metadata": {},
   "outputs": [
    {
     "data": {
      "text/plain": [
       "DatetimeIndex(['2022-01-26', '2022-01-27', '2022-01-28'], dtype='datetime64[ns]', freq=None)"
      ]
     },
     "execution_count": 18,
     "metadata": {},
     "output_type": "execute_result"
    }
   ],
   "source": [
    "dates = ['2022-01-26', '2022-01-27', '2022-01-28']\n",
    "dtindex = pd.DatetimeIndex(dates)\n",
    "dtindex"
   ]
  },
  {
   "cell_type": "code",
   "execution_count": 19,
   "id": "7c49f3e7",
   "metadata": {},
   "outputs": [
    {
     "data": {
      "text/plain": [
       "DatetimeIndex(['2022-01-26', '2022-01-27', '2022-01-28'], dtype='datetime64[ns]', freq=None)"
      ]
     },
     "execution_count": 19,
     "metadata": {},
     "output_type": "execute_result"
    }
   ],
   "source": [
    "dates = ['2022/01/26', '2022-01/27', '2022-01-28']\n",
    "pd.DatetimeIndex(dates)"
   ]
  },
  {
   "cell_type": "code",
   "execution_count": 20,
   "id": "fec07808",
   "metadata": {},
   "outputs": [
    {
     "data": {
      "text/plain": [
       "2022-01-26    100\n",
       "2022-01-27    200\n",
       "2022-01-28    300\n",
       "dtype: int64"
      ]
     },
     "execution_count": 20,
     "metadata": {},
     "output_type": "execute_result"
    }
   ],
   "source": [
    "values = [100, 200, 300]\n",
    "pd.Series(data=values, index=dtindex)"
   ]
  },
  {
   "cell_type": "markdown",
   "id": "6789e17f",
   "metadata": {},
   "source": [
    "## pd.to_datetime()"
   ]
  },
  {
   "cell_type": "code",
   "execution_count": 21,
   "id": "5f7fa1e4",
   "metadata": {},
   "outputs": [],
   "source": [
    "import pandas as pd"
   ]
  },
  {
   "cell_type": "code",
   "execution_count": 22,
   "id": "d0d6ff81",
   "metadata": {},
   "outputs": [],
   "source": [
    "# convert existing obj into pandas time obj\n"
   ]
  },
  {
   "cell_type": "code",
   "execution_count": 23,
   "id": "2c947bdc",
   "metadata": {},
   "outputs": [
    {
     "data": {
      "text/plain": [
       "Timestamp('2022-01-26 00:00:00')"
      ]
     },
     "execution_count": 23,
     "metadata": {},
     "output_type": "execute_result"
    }
   ],
   "source": [
    "pd.to_datetime('2022-01-26')"
   ]
  },
  {
   "cell_type": "code",
   "execution_count": 24,
   "id": "2a703b10",
   "metadata": {},
   "outputs": [
    {
     "data": {
      "text/plain": [
       "Timestamp('2022-01-26 20:12:35')"
      ]
     },
     "execution_count": 24,
     "metadata": {},
     "output_type": "execute_result"
    }
   ],
   "source": [
    "pd.to_datetime('2022-01-26 8:12:35 pm')"
   ]
  },
  {
   "cell_type": "code",
   "execution_count": 25,
   "id": "ee322a8c",
   "metadata": {},
   "outputs": [
    {
     "data": {
      "text/plain": [
       "DatetimeIndex(['2022-01-26', '2022-01-27', '2022-01-28', '2022-01-29',\n",
       "               '2021-01-01'],\n",
       "              dtype='datetime64[ns]', freq=None)"
      ]
     },
     "execution_count": 25,
     "metadata": {},
     "output_type": "execute_result"
    }
   ],
   "source": [
    "dates = ['2022/01/26', '2022-01/27', '2022-01-28', 'January 29th, 2022', '2021']\n",
    "pd.to_datetime(dates)"
   ]
  },
  {
   "cell_type": "code",
   "execution_count": 26,
   "id": "f846866a",
   "metadata": {},
   "outputs": [
    {
     "data": {
      "text/plain": [
       "0            2022/01/26\n",
       "1            2022-01/27\n",
       "2            2022-01-28\n",
       "3    January 29th, 2022\n",
       "4                  2021\n",
       "dtype: object"
      ]
     },
     "execution_count": 26,
     "metadata": {},
     "output_type": "execute_result"
    }
   ],
   "source": [
    "times = pd.Series(dates)\n",
    "times"
   ]
  },
  {
   "cell_type": "code",
   "execution_count": 27,
   "id": "a84245a0",
   "metadata": {},
   "outputs": [
    {
     "data": {
      "text/plain": [
       "0   2022-01-26\n",
       "1   2022-01-27\n",
       "2   2022-01-28\n",
       "3   2022-01-29\n",
       "4   2021-01-01\n",
       "dtype: datetime64[ns]"
      ]
     },
     "execution_count": 27,
     "metadata": {},
     "output_type": "execute_result"
    }
   ],
   "source": [
    "# dtype: object to dtype: datetime64[ns]\n",
    "pd.to_datetime(times)"
   ]
  },
  {
   "cell_type": "code",
   "execution_count": 28,
   "id": "65a88803",
   "metadata": {},
   "outputs": [],
   "source": [
    "# it is not perfect when data is bad (i.e messed up)"
   ]
  },
  {
   "cell_type": "code",
   "execution_count": 29,
   "id": "46cc775b",
   "metadata": {},
   "outputs": [
    {
     "data": {
      "text/plain": [
       "0                 Hello\n",
       "1            2022/01/26\n",
       "2            2022/01/27\n",
       "3            28-01-2022\n",
       "4    January 29th, 2022\n",
       "dtype: object"
      ]
     },
     "execution_count": 29,
     "metadata": {},
     "output_type": "execute_result"
    }
   ],
   "source": [
    "dates1 = pd.Series(['Hello', '2022/01/26', '2022/01/27', '28-01-2022', 'January 29th, 2022'])\n",
    "dates1"
   ]
  },
  {
   "cell_type": "code",
   "execution_count": 30,
   "id": "a2ed3625",
   "metadata": {},
   "outputs": [
    {
     "name": "stderr",
     "output_type": "stream",
     "text": [
      "C:\\Users\\naruto\\AppData\\Local\\Temp\\ipykernel_3084\\2502315880.py:2: UserWarning: Parsing '28-01-2022' in DD/MM/YYYY format. Provide format or specify infer_datetime_format=True for consistent parsing.\n",
      "  pd.to_datetime(dates1, errors= 'coerce')\n"
     ]
    },
    {
     "data": {
      "text/plain": [
       "0          NaT\n",
       "1   2022-01-26\n",
       "2   2022-01-27\n",
       "3   2022-01-28\n",
       "4   2022-01-29\n",
       "dtype: datetime64[ns]"
      ]
     },
     "execution_count": 30,
     "metadata": {},
     "output_type": "execute_result"
    }
   ],
   "source": [
    "# erroe handing\n",
    "pd.to_datetime(dates1, errors= 'coerce')"
   ]
  },
  {
   "cell_type": "code",
   "execution_count": 31,
   "id": "87666722",
   "metadata": {},
   "outputs": [
    {
     "data": {
      "text/plain": [
       "DatetimeIndex(['2012-10-08 18:15:05', '2012-10-09 18:15:05',\n",
       "               '2012-10-12 18:15:05'],\n",
       "              dtype='datetime64[ns]', freq=None)"
      ]
     },
     "execution_count": 31,
     "metadata": {},
     "output_type": "execute_result"
    }
   ],
   "source": [
    "# unix time seconds - [1349720105, 1349806505, 1350065705]\n",
    "pd.to_datetime([1349720105, 1349806505, 1350065705], unit='s')"
   ]
  },
  {
   "cell_type": "markdown",
   "id": "8eeb267d",
   "metadata": {},
   "source": [
    "## Range of Dates pd.date_range() Method part 1"
   ]
  },
  {
   "cell_type": "code",
   "execution_count": 32,
   "id": "b6932e8d",
   "metadata": {},
   "outputs": [
    {
     "data": {
      "text/plain": [
       "DatetimeIndex(['2022-01-26', '2022-01-27', '2022-01-28', '2022-01-29',\n",
       "               '2022-01-30', '2022-01-31', '2022-02-01', '2022-02-02',\n",
       "               '2022-02-03', '2022-02-04'],\n",
       "              dtype='datetime64[ns]', freq='D')"
      ]
     },
     "execution_count": 32,
     "metadata": {},
     "output_type": "execute_result"
    }
   ],
   "source": [
    "# freq='D' Days Default 1 Day\n",
    "times = pd.date_range(start='2022-01-26', end='2022-02-4', freq='D')\n",
    "times"
   ]
  },
  {
   "cell_type": "code",
   "execution_count": 33,
   "id": "921a621b",
   "metadata": {},
   "outputs": [
    {
     "data": {
      "text/plain": [
       "Timestamp('2022-01-26 00:00:00', freq='D')"
      ]
     },
     "execution_count": 33,
     "metadata": {},
     "output_type": "execute_result"
    }
   ],
   "source": [
    "times[0]"
   ]
  },
  {
   "cell_type": "code",
   "execution_count": 34,
   "id": "66885191",
   "metadata": {},
   "outputs": [
    {
     "data": {
      "text/plain": [
       "pandas._libs.tslibs.timestamps.Timestamp"
      ]
     },
     "execution_count": 34,
     "metadata": {},
     "output_type": "execute_result"
    }
   ],
   "source": [
    "type(times[0])"
   ]
  },
  {
   "cell_type": "code",
   "execution_count": 35,
   "id": "2bde687b",
   "metadata": {},
   "outputs": [
    {
     "data": {
      "text/plain": [
       "DatetimeIndex(['2022-01-26', '2022-01-28', '2022-01-30', '2022-02-01',\n",
       "               '2022-02-03'],\n",
       "              dtype='datetime64[ns]', freq='2D')"
      ]
     },
     "execution_count": 35,
     "metadata": {},
     "output_type": "execute_result"
    }
   ],
   "source": [
    "# freq='2D' 2 Days\n",
    "times = pd.date_range(start='2022-01-26', end='2022-02-4', freq='2D')\n",
    "times"
   ]
  },
  {
   "cell_type": "code",
   "execution_count": 36,
   "id": "620094a4",
   "metadata": {},
   "outputs": [
    {
     "data": {
      "text/plain": [
       "DatetimeIndex(['2022-01-26', '2022-01-27', '2022-01-28', '2022-01-31',\n",
       "               '2022-02-01', '2022-02-02', '2022-02-03', '2022-02-04'],\n",
       "              dtype='datetime64[ns]', freq='B')"
      ]
     },
     "execution_count": 36,
     "metadata": {},
     "output_type": "execute_result"
    }
   ],
   "source": [
    "# freq='B' Business days\n",
    "times = pd.date_range(start='2022-01-26', end='2022-02-4', freq='B')\n",
    "times"
   ]
  },
  {
   "cell_type": "code",
   "execution_count": 37,
   "id": "87db3e28",
   "metadata": {},
   "outputs": [
    {
     "data": {
      "text/plain": [
       "DatetimeIndex(['2022-01-30'], dtype='datetime64[ns]', freq='W-SUN')"
      ]
     },
     "execution_count": 37,
     "metadata": {},
     "output_type": "execute_result"
    }
   ],
   "source": [
    "# freq='W' Week\n",
    "times = pd.date_range(start='2022-01-26', end='2022-02-4', freq='W')\n",
    "times"
   ]
  },
  {
   "cell_type": "code",
   "execution_count": 38,
   "id": "de21e495",
   "metadata": {},
   "outputs": [
    {
     "data": {
      "text/plain": [
       "DatetimeIndex(['2022-01-28', '2022-02-04'], dtype='datetime64[ns]', freq='W-FRI')"
      ]
     },
     "execution_count": 38,
     "metadata": {},
     "output_type": "execute_result"
    }
   ],
   "source": [
    "# freq='W-FRI' start Week friday\n",
    "times = pd.date_range(start='2022-01-26', end='2022-02-4', freq='W-FRI')\n",
    "times"
   ]
  },
  {
   "cell_type": "code",
   "execution_count": 39,
   "id": "ac27c393",
   "metadata": {},
   "outputs": [
    {
     "data": {
      "text/plain": [
       "DatetimeIndex(['2022-01-26 00:00:00', '2022-01-26 01:00:00',\n",
       "               '2022-01-26 02:00:00', '2022-01-26 03:00:00',\n",
       "               '2022-01-26 04:00:00', '2022-01-26 05:00:00',\n",
       "               '2022-01-26 06:00:00', '2022-01-26 07:00:00',\n",
       "               '2022-01-26 08:00:00', '2022-01-26 09:00:00',\n",
       "               ...\n",
       "               '2022-02-03 15:00:00', '2022-02-03 16:00:00',\n",
       "               '2022-02-03 17:00:00', '2022-02-03 18:00:00',\n",
       "               '2022-02-03 19:00:00', '2022-02-03 20:00:00',\n",
       "               '2022-02-03 21:00:00', '2022-02-03 22:00:00',\n",
       "               '2022-02-03 23:00:00', '2022-02-04 00:00:00'],\n",
       "              dtype='datetime64[ns]', length=217, freq='H')"
      ]
     },
     "execution_count": 39,
     "metadata": {},
     "output_type": "execute_result"
    }
   ],
   "source": [
    "# freq='H' Hour\n",
    "times = pd.date_range(start='2022-01-26', end='2022-02-4', freq='H')\n",
    "times"
   ]
  },
  {
   "cell_type": "code",
   "execution_count": 40,
   "id": "5a1e7597",
   "metadata": {},
   "outputs": [
    {
     "data": {
      "text/plain": [
       "DatetimeIndex(['2022-01-26 00:00:00', '2022-01-26 06:00:00',\n",
       "               '2022-01-26 12:00:00', '2022-01-26 18:00:00',\n",
       "               '2022-01-27 00:00:00', '2022-01-27 06:00:00',\n",
       "               '2022-01-27 12:00:00', '2022-01-27 18:00:00',\n",
       "               '2022-01-28 00:00:00', '2022-01-28 06:00:00',\n",
       "               '2022-01-28 12:00:00', '2022-01-28 18:00:00',\n",
       "               '2022-01-29 00:00:00', '2022-01-29 06:00:00',\n",
       "               '2022-01-29 12:00:00', '2022-01-29 18:00:00',\n",
       "               '2022-01-30 00:00:00', '2022-01-30 06:00:00',\n",
       "               '2022-01-30 12:00:00', '2022-01-30 18:00:00',\n",
       "               '2022-01-31 00:00:00', '2022-01-31 06:00:00',\n",
       "               '2022-01-31 12:00:00', '2022-01-31 18:00:00',\n",
       "               '2022-02-01 00:00:00', '2022-02-01 06:00:00',\n",
       "               '2022-02-01 12:00:00', '2022-02-01 18:00:00',\n",
       "               '2022-02-02 00:00:00', '2022-02-02 06:00:00',\n",
       "               '2022-02-02 12:00:00', '2022-02-02 18:00:00',\n",
       "               '2022-02-03 00:00:00', '2022-02-03 06:00:00',\n",
       "               '2022-02-03 12:00:00', '2022-02-03 18:00:00',\n",
       "               '2022-02-04 00:00:00'],\n",
       "              dtype='datetime64[ns]', freq='6H')"
      ]
     },
     "execution_count": 40,
     "metadata": {},
     "output_type": "execute_result"
    }
   ],
   "source": [
    "# freq='6H' 6Hour\n",
    "times = pd.date_range(start='2022-01-26', end='2022-02-4', freq='6H')\n",
    "times"
   ]
  },
  {
   "cell_type": "code",
   "execution_count": 41,
   "id": "0ac28633",
   "metadata": {},
   "outputs": [
    {
     "data": {
      "text/plain": [
       "DatetimeIndex(['2022-01-31'], dtype='datetime64[ns]', freq='M')"
      ]
     },
     "execution_count": 41,
     "metadata": {},
     "output_type": "execute_result"
    }
   ],
   "source": [
    "# freq='M' last day of month Month\n",
    "times = pd.date_range(start='2022-01-26', end='2022-02-4', freq='M')\n",
    "times"
   ]
  },
  {
   "cell_type": "code",
   "execution_count": 42,
   "id": "c19cea65",
   "metadata": {},
   "outputs": [
    {
     "data": {
      "text/plain": [
       "DatetimeIndex(['2022-02-01'], dtype='datetime64[ns]', freq='MS')"
      ]
     },
     "execution_count": 42,
     "metadata": {},
     "output_type": "execute_result"
    }
   ],
   "source": [
    "# freq='MS' Month start\n",
    "times = pd.date_range(start='2022-01-26', end='2022-02-4', freq='MS')\n",
    "times"
   ]
  },
  {
   "cell_type": "code",
   "execution_count": 43,
   "id": "d5dd6e8f",
   "metadata": {},
   "outputs": [
    {
     "data": {
      "text/plain": [
       "DatetimeIndex(['2022-12-31', '2023-12-31', '2024-12-31', '2025-12-31',\n",
       "               '2026-12-31', '2027-12-31', '2028-12-31', '2029-12-31',\n",
       "               '2030-12-31', '2031-12-31', '2032-12-31', '2033-12-31',\n",
       "               '2034-12-31', '2035-12-31', '2036-12-31', '2037-12-31',\n",
       "               '2038-12-31', '2039-12-31', '2040-12-31', '2041-12-31',\n",
       "               '2042-12-31', '2043-12-31', '2044-12-31', '2045-12-31',\n",
       "               '2046-12-31', '2047-12-31', '2048-12-31', '2049-12-31'],\n",
       "              dtype='datetime64[ns]', freq='A-DEC')"
      ]
     },
     "execution_count": 43,
     "metadata": {},
     "output_type": "execute_result"
    }
   ],
   "source": [
    "# freq='A' last day of each tear\n",
    "times = pd.date_range(start='2022-01-26', end='2050-02-4', freq='A')\n",
    "times"
   ]
  },
  {
   "cell_type": "markdown",
   "id": "1452bba1",
   "metadata": {},
   "source": [
    "## Range of Dates pd.date_range() Method part 2"
   ]
  },
  {
   "cell_type": "code",
   "execution_count": 44,
   "id": "c18b6664",
   "metadata": {},
   "outputs": [
    {
     "data": {
      "text/plain": [
       "DatetimeIndex(['2022-01-26', '2022-01-27', '2022-01-28', '2022-01-29',\n",
       "               '2022-01-30', '2022-01-31', '2022-02-01', '2022-02-02',\n",
       "               '2022-02-03', '2022-02-04', '2022-02-05', '2022-02-06',\n",
       "               '2022-02-07', '2022-02-08', '2022-02-09', '2022-02-10',\n",
       "               '2022-02-11', '2022-02-12', '2022-02-13', '2022-02-14',\n",
       "               '2022-02-15', '2022-02-16', '2022-02-17', '2022-02-18',\n",
       "               '2022-02-19'],\n",
       "              dtype='datetime64[ns]', freq='D')"
      ]
     },
     "execution_count": 44,
     "metadata": {},
     "output_type": "execute_result"
    }
   ],
   "source": [
    "# 25 datesfrom start date\n",
    "pd.date_range(start='2022-01-26', periods=25, freq='D')"
   ]
  },
  {
   "cell_type": "code",
   "execution_count": 45,
   "id": "ba309dab",
   "metadata": {},
   "outputs": [
    {
     "data": {
      "text/plain": [
       "DatetimeIndex(['2022-01-26', '2022-01-27', '2022-01-28', '2022-01-31',\n",
       "               '2022-02-01', '2022-02-02', '2022-02-03', '2022-02-04',\n",
       "               '2022-02-07', '2022-02-08', '2022-02-09', '2022-02-10',\n",
       "               '2022-02-11', '2022-02-14', '2022-02-15', '2022-02-16',\n",
       "               '2022-02-17', '2022-02-18', '2022-02-21', '2022-02-22',\n",
       "               '2022-02-23', '2022-02-24', '2022-02-25', '2022-02-28',\n",
       "               '2022-03-01'],\n",
       "              dtype='datetime64[ns]', freq='B')"
      ]
     },
     "execution_count": 45,
     "metadata": {},
     "output_type": "execute_result"
    }
   ],
   "source": [
    "# 25 business days\n",
    "pd.date_range(start='2022-01-26', periods=25, freq='B')"
   ]
  },
  {
   "cell_type": "code",
   "execution_count": 46,
   "id": "a59de053",
   "metadata": {},
   "outputs": [
    {
     "data": {
      "text/plain": [
       "DatetimeIndex(['2022-01-02', '2022-01-03', '2022-01-04', '2022-01-05',\n",
       "               '2022-01-06', '2022-01-07', '2022-01-08', '2022-01-09',\n",
       "               '2022-01-10', '2022-01-11', '2022-01-12', '2022-01-13',\n",
       "               '2022-01-14', '2022-01-15', '2022-01-16', '2022-01-17',\n",
       "               '2022-01-18', '2022-01-19', '2022-01-20', '2022-01-21',\n",
       "               '2022-01-22', '2022-01-23', '2022-01-24', '2022-01-25',\n",
       "               '2022-01-26'],\n",
       "              dtype='datetime64[ns]', freq='D')"
      ]
     },
     "execution_count": 46,
     "metadata": {},
     "output_type": "execute_result"
    }
   ],
   "source": [
    "pd.date_range(end='2022-01-26', periods=25, freq='D')"
   ]
  },
  {
   "cell_type": "markdown",
   "id": "79a48e09",
   "metadata": {},
   "source": [
    "## .dt Accessor"
   ]
  },
  {
   "cell_type": "code",
   "execution_count": 47,
   "id": "b59db2b5",
   "metadata": {},
   "outputs": [],
   "source": [
    "bunch_of_dates = pd.date_range(start='2000-01-01', end='2010-12-31', freq='24D')"
   ]
  },
  {
   "cell_type": "code",
   "execution_count": 48,
   "id": "9fa31ebf",
   "metadata": {},
   "outputs": [
    {
     "data": {
      "text/plain": [
       "0     2000-01-01\n",
       "1     2000-01-25\n",
       "2     2000-02-18\n",
       "3     2000-03-13\n",
       "4     2000-04-06\n",
       "         ...    \n",
       "163   2010-09-17\n",
       "164   2010-10-11\n",
       "165   2010-11-04\n",
       "166   2010-11-28\n",
       "167   2010-12-22\n",
       "Length: 168, dtype: datetime64[ns]"
      ]
     },
     "execution_count": 48,
     "metadata": {},
     "output_type": "execute_result"
    }
   ],
   "source": [
    "s = pd.Series(bunch_of_dates)\n",
    "s"
   ]
  },
  {
   "cell_type": "code",
   "execution_count": 49,
   "id": "f14992bf",
   "metadata": {},
   "outputs": [
    {
     "data": {
      "text/plain": [
       "0       1\n",
       "1      25\n",
       "2      18\n",
       "3      13\n",
       "4       6\n",
       "       ..\n",
       "163    17\n",
       "164    11\n",
       "165     4\n",
       "166    28\n",
       "167    22\n",
       "Length: 168, dtype: int64"
      ]
     },
     "execution_count": 49,
     "metadata": {},
     "output_type": "execute_result"
    }
   ],
   "source": [
    "s.dt.day"
   ]
  },
  {
   "cell_type": "code",
   "execution_count": 50,
   "id": "e7a3d395",
   "metadata": {},
   "outputs": [
    {
     "data": {
      "text/plain": [
       "0       Saturday\n",
       "1        Tuesday\n",
       "2         Friday\n",
       "3         Monday\n",
       "4       Thursday\n",
       "         ...    \n",
       "163       Friday\n",
       "164       Monday\n",
       "165     Thursday\n",
       "166       Sunday\n",
       "167    Wednesday\n",
       "Length: 168, dtype: object"
      ]
     },
     "execution_count": 50,
     "metadata": {},
     "output_type": "execute_result"
    }
   ],
   "source": [
    "s.dt.day_name()"
   ]
  },
  {
   "cell_type": "code",
   "execution_count": 51,
   "id": "95f28ed7",
   "metadata": {},
   "outputs": [
    {
     "data": {
      "text/plain": [
       "0       True\n",
       "1      False\n",
       "2      False\n",
       "3      False\n",
       "4      False\n",
       "       ...  \n",
       "163    False\n",
       "164    False\n",
       "165    False\n",
       "166    False\n",
       "167    False\n",
       "Length: 168, dtype: bool"
      ]
     },
     "execution_count": 51,
     "metadata": {},
     "output_type": "execute_result"
    }
   ],
   "source": [
    "s.dt.is_quarter_start"
   ]
  },
  {
   "cell_type": "code",
   "execution_count": 52,
   "id": "cfbde239",
   "metadata": {},
   "outputs": [
    {
     "data": {
      "text/plain": [
       "0     2000-01-01\n",
       "19    2001-04-01\n",
       "38    2002-07-01\n",
       "137   2009-01-01\n",
       "dtype: datetime64[ns]"
      ]
     },
     "execution_count": 52,
     "metadata": {},
     "output_type": "execute_result"
    }
   ],
   "source": [
    "s[s.dt.is_quarter_start]"
   ]
  },
  {
   "cell_type": "code",
   "execution_count": 53,
   "id": "ffae6c7a",
   "metadata": {},
   "outputs": [
    {
     "data": {
      "text/plain": [
       "5     2000-04-30\n",
       "57    2003-09-30\n",
       "71    2004-08-31\n",
       "90    2005-11-30\n",
       "123   2008-01-31\n",
       "161   2010-07-31\n",
       "dtype: datetime64[ns]"
      ]
     },
     "execution_count": 53,
     "metadata": {},
     "output_type": "execute_result"
    }
   ],
   "source": [
    "s[s.dt.is_month_end]"
   ]
  },
  {
   "cell_type": "markdown",
   "id": "06a2e22a",
   "metadata": {},
   "source": [
    "## datareader - used to be a library in padas but split apart (live data like yahoo finance,stock)"
   ]
  },
  {
   "cell_type": "code",
   "execution_count": 58,
   "id": "b2356a3d",
   "metadata": {},
   "outputs": [],
   "source": [
    "# ! pip install pandas-datareader"
   ]
  },
  {
   "cell_type": "code",
   "execution_count": 59,
   "id": "0b4f1fcb",
   "metadata": {},
   "outputs": [],
   "source": [
    "# conda info --envs\n",
    "# conda activate env_name\n",
    "# conda install pandas-datareader"
   ]
  },
  {
   "cell_type": "code",
   "execution_count": 61,
   "id": "6fe47296",
   "metadata": {},
   "outputs": [],
   "source": [
    "import pandas as pd\n",
    "import datetime as dt\n",
    "from pandas_datareader import data"
   ]
  },
  {
   "cell_type": "raw",
   "id": "c281efeb",
   "metadata": {},
   "source": [
    "# data source use here is yahoo\n",
    "# microsoft - stock name\n",
    "data.DataReader(name='MSFT', data_source='yahoo', start='2010-01-01', end='2021-12-31')"
   ]
  },
  {
   "cell_type": "code",
   "execution_count": null,
   "id": "36f0aac4",
   "metadata": {},
   "outputs": [],
   "source": []
  },
  {
   "cell_type": "markdown",
   "id": "195d0e57",
   "metadata": {},
   "source": [
    "##  adding/sub time - `pd.DateOffset` object"
   ]
  },
  {
   "cell_type": "code",
   "execution_count": 62,
   "id": "03f0d0b0",
   "metadata": {},
   "outputs": [],
   "source": [
    "amazon_egp_df = pd.read_csv(Path.joinpath(input_files_dir, 'amazon_egp.csv'), parse_dates=['Report Date', 'Timestamp', 'Extract Date'])"
   ]
  },
  {
   "cell_type": "code",
   "execution_count": 63,
   "id": "f67a4101",
   "metadata": {},
   "outputs": [
    {
     "data": {
      "text/html": [
       "<div>\n",
       "<style scoped>\n",
       "    .dataframe tbody tr th:only-of-type {\n",
       "        vertical-align: middle;\n",
       "    }\n",
       "\n",
       "    .dataframe tbody tr th {\n",
       "        vertical-align: top;\n",
       "    }\n",
       "\n",
       "    .dataframe thead th {\n",
       "        text-align: right;\n",
       "    }\n",
       "</style>\n",
       "<table border=\"1\" class=\"dataframe\">\n",
       "  <thead>\n",
       "    <tr style=\"text-align: right;\">\n",
       "      <th></th>\n",
       "      <th>Report Date</th>\n",
       "      <th>Country</th>\n",
       "      <th>Prouduct Barcode</th>\n",
       "      <th>Flipkart ProductID</th>\n",
       "      <th>Flipkart ProductName</th>\n",
       "      <th>Category Level1</th>\n",
       "      <th>Category Level2</th>\n",
       "      <th>Category Level3</th>\n",
       "      <th>Category Level4</th>\n",
       "      <th>Site</th>\n",
       "      <th>...</th>\n",
       "      <th>Category from site1</th>\n",
       "      <th>Category from site2</th>\n",
       "      <th>Category from site3</th>\n",
       "      <th>Category from site4</th>\n",
       "      <th>Category from site5</th>\n",
       "      <th>Category from site6</th>\n",
       "      <th>Fulfillment</th>\n",
       "      <th>Extra2</th>\n",
       "      <th>Extra3</th>\n",
       "      <th>Extra4</th>\n",
       "    </tr>\n",
       "  </thead>\n",
       "  <tbody>\n",
       "    <tr>\n",
       "      <th>0</th>\n",
       "      <td>2021-12-03</td>\n",
       "      <td>Egypt</td>\n",
       "      <td>NaN</td>\n",
       "      <td>NaN</td>\n",
       "      <td>NaN</td>\n",
       "      <td>NaN</td>\n",
       "      <td>NaN</td>\n",
       "      <td>NaN</td>\n",
       "      <td>NaN</td>\n",
       "      <td>Amazon.eg</td>\n",
       "      <td>...</td>\n",
       "      <td>Electronics</td>\n",
       "      <td>Home Theater\",\" TV &amp; Video</td>\n",
       "      <td>TVs</td>\n",
       "      <td>NaN</td>\n",
       "      <td>NaN</td>\n",
       "      <td>NaN</td>\n",
       "      <td>NaN</td>\n",
       "      <td>Valid URLs OOS (Without price)</td>\n",
       "      <td>150_EGYPT_Amazon.eg</td>\n",
       "      <td>NaN</td>\n",
       "    </tr>\n",
       "    <tr>\n",
       "      <th>1</th>\n",
       "      <td>2021-12-03</td>\n",
       "      <td>Egypt</td>\n",
       "      <td>NaN</td>\n",
       "      <td>NaN</td>\n",
       "      <td>NaN</td>\n",
       "      <td>NaN</td>\n",
       "      <td>NaN</td>\n",
       "      <td>NaN</td>\n",
       "      <td>NaN</td>\n",
       "      <td>Amazon.eg</td>\n",
       "      <td>...</td>\n",
       "      <td>Electronics</td>\n",
       "      <td>Home Theater\",\" TV &amp; Video</td>\n",
       "      <td>TVs</td>\n",
       "      <td>NaN</td>\n",
       "      <td>NaN</td>\n",
       "      <td>NaN</td>\n",
       "      <td>NaN</td>\n",
       "      <td>Valid URLs OOS (Without price)</td>\n",
       "      <td>1_EGYPT_Amazon.eg</td>\n",
       "      <td>NaN</td>\n",
       "    </tr>\n",
       "  </tbody>\n",
       "</table>\n",
       "<p>2 rows × 46 columns</p>\n",
       "</div>"
      ],
      "text/plain": [
       "  Report Date Country  Prouduct Barcode  Flipkart ProductID  \\\n",
       "0  2021-12-03   Egypt               NaN                 NaN   \n",
       "1  2021-12-03   Egypt               NaN                 NaN   \n",
       "\n",
       "   Flipkart ProductName  Category Level1  Category Level2  Category Level3  \\\n",
       "0                   NaN              NaN              NaN              NaN   \n",
       "1                   NaN              NaN              NaN              NaN   \n",
       "\n",
       "   Category Level4       Site  ...  Category from site1  \\\n",
       "0              NaN  Amazon.eg  ...          Electronics   \n",
       "1              NaN  Amazon.eg  ...          Electronics   \n",
       "\n",
       "          Category from site2 Category from site3 Category from site4  \\\n",
       "0  Home Theater\",\" TV & Video                 TVs                 NaN   \n",
       "1  Home Theater\",\" TV & Video                 TVs                 NaN   \n",
       "\n",
       "  Category from site5 Category from site6  Fulfillment  \\\n",
       "0                 NaN                 NaN          NaN   \n",
       "1                 NaN                 NaN          NaN   \n",
       "\n",
       "                           Extra2               Extra3  Extra4  \n",
       "0  Valid URLs OOS (Without price)  150_EGYPT_Amazon.eg     NaN  \n",
       "1  Valid URLs OOS (Without price)    1_EGYPT_Amazon.eg     NaN  \n",
       "\n",
       "[2 rows x 46 columns]"
      ]
     },
     "execution_count": 63,
     "metadata": {},
     "output_type": "execute_result"
    }
   ],
   "source": [
    "amazon_egp_df.head(2)"
   ]
  },
  {
   "cell_type": "code",
   "execution_count": 64,
   "id": "dba6daca",
   "metadata": {},
   "outputs": [
    {
     "data": {
      "text/plain": [
       "0     2021-12-08 11:01:00\n",
       "1     2021-12-08 11:03:00\n",
       "2     2021-12-08 11:03:00\n",
       "3     2021-12-08 11:03:00\n",
       "4     2021-12-08 11:03:00\n",
       "              ...        \n",
       "750   2021-12-08 11:04:00\n",
       "751   2021-12-08 11:04:00\n",
       "752   2021-12-08 11:04:00\n",
       "753   2021-12-08 11:04:00\n",
       "754   2021-12-08 11:04:00\n",
       "Name: Timestamp, Length: 755, dtype: datetime64[ns]"
      ]
     },
     "execution_count": 64,
     "metadata": {},
     "output_type": "execute_result"
    }
   ],
   "source": [
    "amazon_egp_df['Timestamp'] + pd.DateOffset(days=5)"
   ]
  },
  {
   "cell_type": "code",
   "execution_count": 65,
   "id": "b6df8073",
   "metadata": {},
   "outputs": [
    {
     "data": {
      "text/plain": [
       "0   2021-12-03 11:01:00\n",
       "1   2021-12-03 11:03:00\n",
       "2   2021-12-03 11:03:00\n",
       "Name: Timestamp, dtype: datetime64[ns]"
      ]
     },
     "execution_count": 65,
     "metadata": {},
     "output_type": "execute_result"
    }
   ],
   "source": [
    "amazon_egp_df['Timestamp'][:3]"
   ]
  },
  {
   "cell_type": "code",
   "execution_count": 66,
   "id": "61efc843",
   "metadata": {},
   "outputs": [
    {
     "data": {
      "text/plain": [
       "0     2021-12-02 10:01:00\n",
       "1     2021-12-02 10:03:00\n",
       "2     2021-12-02 10:03:00\n",
       "3     2021-12-02 10:03:00\n",
       "4     2021-12-02 10:03:00\n",
       "              ...        \n",
       "750   2021-12-02 10:04:00\n",
       "751   2021-12-02 10:04:00\n",
       "752   2021-12-02 10:04:00\n",
       "753   2021-12-02 10:04:00\n",
       "754   2021-12-02 10:04:00\n",
       "Name: Timestamp, Length: 755, dtype: datetime64[ns]"
      ]
     },
     "execution_count": 66,
     "metadata": {},
     "output_type": "execute_result"
    }
   ],
   "source": [
    "amazon_egp_df['Timestamp'] - pd.DateOffset(days=1, hours=1)"
   ]
  },
  {
   "cell_type": "code",
   "execution_count": 67,
   "id": "092575a3",
   "metadata": {},
   "outputs": [
    {
     "data": {
      "text/plain": [
       "0     2021-11-05 11:01:00\n",
       "1     2021-11-05 11:03:00\n",
       "2     2021-11-05 11:03:00\n",
       "3     2021-11-05 11:03:00\n",
       "4     2021-11-05 11:03:00\n",
       "              ...        \n",
       "750   2021-11-05 11:04:00\n",
       "751   2021-11-05 11:04:00\n",
       "752   2021-11-05 11:04:00\n",
       "753   2021-11-05 11:04:00\n",
       "754   2021-11-05 11:04:00\n",
       "Name: Timestamp, Length: 755, dtype: datetime64[ns]"
      ]
     },
     "execution_count": 67,
     "metadata": {},
     "output_type": "execute_result"
    }
   ],
   "source": [
    "amazon_egp_df['Timestamp'] - pd.DateOffset(weeks=4)"
   ]
  },
  {
   "cell_type": "code",
   "execution_count": 68,
   "id": "c8d0b9a1",
   "metadata": {},
   "outputs": [
    {
     "data": {
      "text/plain": [
       "0     2020-11-01 08:58:59\n",
       "1     2020-11-01 09:00:59\n",
       "2     2020-11-01 09:00:59\n",
       "3     2020-11-01 09:00:59\n",
       "4     2020-11-01 09:00:59\n",
       "              ...        \n",
       "750   2020-11-01 09:01:59\n",
       "751   2020-11-01 09:01:59\n",
       "752   2020-11-01 09:01:59\n",
       "753   2020-11-01 09:01:59\n",
       "754   2020-11-01 09:01:59\n",
       "Name: Timestamp, Length: 755, dtype: datetime64[ns]"
      ]
     },
     "execution_count": 68,
     "metadata": {},
     "output_type": "execute_result"
    }
   ],
   "source": [
    "amazon_egp_df['Timestamp'] - pd.DateOffset(years=1, months=1, days=2, hours=2, minutes=2, seconds=1)"
   ]
  },
  {
   "cell_type": "markdown",
   "id": "4f659afe",
   "metadata": {},
   "source": [
    "## Timeseries Offset - Useful for business month end and begin (Mon-Fri)"
   ]
  },
  {
   "cell_type": "code",
   "execution_count": 69,
   "id": "642f6af3",
   "metadata": {},
   "outputs": [],
   "source": [
    "# dynamic amount of time - change multiple date set to perticular value"
   ]
  },
  {
   "cell_type": "code",
   "execution_count": 70,
   "id": "81451f90",
   "metadata": {},
   "outputs": [
    {
     "data": {
      "text/plain": [
       "0     2021-12-31 11:01:00\n",
       "1     2021-12-31 11:03:00\n",
       "2     2021-12-31 11:03:00\n",
       "3     2021-12-31 11:03:00\n",
       "4     2021-12-31 11:03:00\n",
       "              ...        \n",
       "750   2021-12-31 11:04:00\n",
       "751   2021-12-31 11:04:00\n",
       "752   2021-12-31 11:04:00\n",
       "753   2021-12-31 11:04:00\n",
       "754   2021-12-31 11:04:00\n",
       "Name: Timestamp, Length: 755, dtype: datetime64[ns]"
      ]
     },
     "execution_count": 70,
     "metadata": {},
     "output_type": "execute_result"
    }
   ],
   "source": [
    "# but if date is already last date it won't keep last date as it is already pass. it change to next month\n",
    "# if sub it goes to backword month for last date only\n",
    "# Similar in MonthBegin\n",
    "amazon_egp_df['Timestamp'] + pd.tseries.offsets.MonthEnd()"
   ]
  },
  {
   "cell_type": "code",
   "execution_count": 71,
   "id": "a7d70f8e",
   "metadata": {},
   "outputs": [],
   "source": [
    "# Best way you can import offsets\n",
    "from pandas.tseries import offsets"
   ]
  },
  {
   "cell_type": "code",
   "execution_count": 72,
   "id": "164cfb9a",
   "metadata": {},
   "outputs": [
    {
     "data": {
      "text/plain": [
       "0     2022-01-03 11:01:00\n",
       "1     2022-01-03 11:03:00\n",
       "2     2022-01-03 11:03:00\n",
       "3     2022-01-03 11:03:00\n",
       "4     2022-01-03 11:03:00\n",
       "              ...        \n",
       "750   2022-01-03 11:04:00\n",
       "751   2022-01-03 11:04:00\n",
       "752   2022-01-03 11:04:00\n",
       "753   2022-01-03 11:04:00\n",
       "754   2022-01-03 11:04:00\n",
       "Name: Timestamp, Length: 755, dtype: datetime64[ns]"
      ]
     },
     "execution_count": 72,
     "metadata": {},
     "output_type": "execute_result"
    }
   ],
   "source": [
    "amazon_egp_df['Timestamp'] + offsets.BMonthBegin()"
   ]
  },
  {
   "cell_type": "code",
   "execution_count": 73,
   "id": "de241f2d",
   "metadata": {},
   "outputs": [
    {
     "data": {
      "text/plain": [
       "0     2021-12-31 11:01:00\n",
       "1     2021-12-31 11:03:00\n",
       "2     2021-12-31 11:03:00\n",
       "3     2021-12-31 11:03:00\n",
       "4     2021-12-31 11:03:00\n",
       "              ...        \n",
       "750   2021-12-31 11:04:00\n",
       "751   2021-12-31 11:04:00\n",
       "752   2021-12-31 11:04:00\n",
       "753   2021-12-31 11:04:00\n",
       "754   2021-12-31 11:04:00\n",
       "Name: Timestamp, Length: 755, dtype: datetime64[ns]"
      ]
     },
     "execution_count": 73,
     "metadata": {},
     "output_type": "execute_result"
    }
   ],
   "source": [
    "amazon_egp_df['Timestamp'] + offsets.BMonthEnd()"
   ]
  },
  {
   "cell_type": "markdown",
   "id": "b9e9fd73",
   "metadata": {},
   "source": [
    "## Timedelta object"
   ]
  },
  {
   "cell_type": "code",
   "execution_count": 74,
   "id": "70b4452d",
   "metadata": {},
   "outputs": [],
   "source": [
    "# difference btwn 2 times\n",
    "# years parameter wont work here"
   ]
  },
  {
   "cell_type": "code",
   "execution_count": 75,
   "id": "77c7f165",
   "metadata": {},
   "outputs": [
    {
     "data": {
      "text/plain": [
       "Timedelta('0 days 23:07:50')"
      ]
     },
     "execution_count": 75,
     "metadata": {},
     "output_type": "execute_result"
    }
   ],
   "source": [
    "time_a = pd.Timestamp('2022-01-29 16:57:50')\n",
    "time_b = pd.Timestamp('2022-01-28 17:50:00')\n",
    "time_a - time_b"
   ]
  },
  {
   "cell_type": "code",
   "execution_count": 76,
   "id": "d0fb0e87",
   "metadata": {},
   "outputs": [
    {
     "data": {
      "text/plain": [
       "Timedelta('-1 days +00:52:10')"
      ]
     },
     "execution_count": 76,
     "metadata": {},
     "output_type": "execute_result"
    }
   ],
   "source": [
    "time_b - time_a"
   ]
  },
  {
   "cell_type": "code",
   "execution_count": 77,
   "id": "15870ee9",
   "metadata": {},
   "outputs": [],
   "source": [
    "# calculate time after specific timespan"
   ]
  },
  {
   "cell_type": "code",
   "execution_count": 78,
   "id": "fbb69326",
   "metadata": {},
   "outputs": [],
   "source": [
    "# set time 3 days 2hours\n",
    "time_x = pd.Timedelta(days=3, hours=2)"
   ]
  },
  {
   "cell_type": "code",
   "execution_count": 79,
   "id": "f481a4ca",
   "metadata": {},
   "outputs": [
    {
     "data": {
      "text/plain": [
       "Timestamp('2022-01-31 19:50:00')"
      ]
     },
     "execution_count": 79,
     "metadata": {},
     "output_type": "execute_result"
    }
   ],
   "source": [
    "time_b + time_x"
   ]
  },
  {
   "cell_type": "code",
   "execution_count": 80,
   "id": "b5015efb",
   "metadata": {},
   "outputs": [],
   "source": [
    "time_z = pd.Timedelta(weeks=2, days=3, hours=2, minutes=12)"
   ]
  },
  {
   "cell_type": "code",
   "execution_count": 81,
   "id": "7fa8cde0",
   "metadata": {},
   "outputs": [
    {
     "data": {
      "text/plain": [
       "Timestamp('2022-02-14 20:02:00')"
      ]
     },
     "execution_count": 81,
     "metadata": {},
     "output_type": "execute_result"
    }
   ],
   "source": [
    "time_b + time_z"
   ]
  },
  {
   "cell_type": "markdown",
   "id": "105f8cb4",
   "metadata": {},
   "source": [
    "### String conversion to time"
   ]
  },
  {
   "cell_type": "code",
   "execution_count": 82,
   "id": "40a3c5b7",
   "metadata": {},
   "outputs": [
    {
     "data": {
      "text/plain": [
       "Timedelta('0 days 06:03:00')"
      ]
     },
     "execution_count": 82,
     "metadata": {},
     "output_type": "execute_result"
    }
   ],
   "source": [
    "pd.Timedelta('6 hours 3 minutes')"
   ]
  },
  {
   "cell_type": "code",
   "execution_count": 83,
   "id": "e0d93da5",
   "metadata": {},
   "outputs": [
    {
     "data": {
      "text/plain": [
       "Timedelta('14 days 06:09:46')"
      ]
     },
     "execution_count": 83,
     "metadata": {},
     "output_type": "execute_result"
    }
   ],
   "source": [
    "pd.Timedelta('14 days 6 hours 9 minutes46 seconds')"
   ]
  },
  {
   "cell_type": "code",
   "execution_count": null,
   "id": "df6627cd",
   "metadata": {},
   "outputs": [],
   "source": []
  },
  {
   "cell_type": "markdown",
   "id": "20baaa3c",
   "metadata": {},
   "source": [
    "## Timedelta in dataset"
   ]
  },
  {
   "cell_type": "code",
   "execution_count": 85,
   "id": "2fde360b",
   "metadata": {},
   "outputs": [],
   "source": [
    "shipping = pd.read_csv(Path.joinpath(input_files_dir, 'ecommerce.csv'), index_col='ID', parse_dates=['order_date', 'delivery_date'])"
   ]
  },
  {
   "cell_type": "code",
   "execution_count": 86,
   "id": "8b253b5e",
   "metadata": {},
   "outputs": [
    {
     "data": {
      "text/html": [
       "<div>\n",
       "<style scoped>\n",
       "    .dataframe tbody tr th:only-of-type {\n",
       "        vertical-align: middle;\n",
       "    }\n",
       "\n",
       "    .dataframe tbody tr th {\n",
       "        vertical-align: top;\n",
       "    }\n",
       "\n",
       "    .dataframe thead th {\n",
       "        text-align: right;\n",
       "    }\n",
       "</style>\n",
       "<table border=\"1\" class=\"dataframe\">\n",
       "  <thead>\n",
       "    <tr style=\"text-align: right;\">\n",
       "      <th></th>\n",
       "      <th>order_date</th>\n",
       "      <th>delivery_date</th>\n",
       "    </tr>\n",
       "    <tr>\n",
       "      <th>ID</th>\n",
       "      <th></th>\n",
       "      <th></th>\n",
       "    </tr>\n",
       "  </thead>\n",
       "  <tbody>\n",
       "    <tr>\n",
       "      <th>1</th>\n",
       "      <td>1998-05-24</td>\n",
       "      <td>1999-02-05</td>\n",
       "    </tr>\n",
       "    <tr>\n",
       "      <th>2</th>\n",
       "      <td>1992-04-22</td>\n",
       "      <td>1998-03-06</td>\n",
       "    </tr>\n",
       "    <tr>\n",
       "      <th>4</th>\n",
       "      <td>1991-02-10</td>\n",
       "      <td>1992-08-26</td>\n",
       "    </tr>\n",
       "  </tbody>\n",
       "</table>\n",
       "</div>"
      ],
      "text/plain": [
       "   order_date delivery_date\n",
       "ID                         \n",
       "1  1998-05-24    1999-02-05\n",
       "2  1992-04-22    1998-03-06\n",
       "4  1991-02-10    1992-08-26"
      ]
     },
     "execution_count": 86,
     "metadata": {},
     "output_type": "execute_result"
    }
   ],
   "source": [
    "shipping.head(3)"
   ]
  },
  {
   "cell_type": "code",
   "execution_count": 87,
   "id": "fc02d640",
   "metadata": {},
   "outputs": [],
   "source": [
    "shipping['delivery_time'] = shipping['delivery_date'] - shipping['order_date']"
   ]
  },
  {
   "cell_type": "code",
   "execution_count": 88,
   "id": "3c165034",
   "metadata": {},
   "outputs": [
    {
     "data": {
      "text/html": [
       "<div>\n",
       "<style scoped>\n",
       "    .dataframe tbody tr th:only-of-type {\n",
       "        vertical-align: middle;\n",
       "    }\n",
       "\n",
       "    .dataframe tbody tr th {\n",
       "        vertical-align: top;\n",
       "    }\n",
       "\n",
       "    .dataframe thead th {\n",
       "        text-align: right;\n",
       "    }\n",
       "</style>\n",
       "<table border=\"1\" class=\"dataframe\">\n",
       "  <thead>\n",
       "    <tr style=\"text-align: right;\">\n",
       "      <th></th>\n",
       "      <th>order_date</th>\n",
       "      <th>delivery_date</th>\n",
       "      <th>delivery_time</th>\n",
       "    </tr>\n",
       "    <tr>\n",
       "      <th>ID</th>\n",
       "      <th></th>\n",
       "      <th></th>\n",
       "      <th></th>\n",
       "    </tr>\n",
       "  </thead>\n",
       "  <tbody>\n",
       "    <tr>\n",
       "      <th>1</th>\n",
       "      <td>1998-05-24</td>\n",
       "      <td>1999-02-05</td>\n",
       "      <td>257 days</td>\n",
       "    </tr>\n",
       "    <tr>\n",
       "      <th>2</th>\n",
       "      <td>1992-04-22</td>\n",
       "      <td>1998-03-06</td>\n",
       "      <td>2144 days</td>\n",
       "    </tr>\n",
       "    <tr>\n",
       "      <th>4</th>\n",
       "      <td>1991-02-10</td>\n",
       "      <td>1992-08-26</td>\n",
       "      <td>563 days</td>\n",
       "    </tr>\n",
       "  </tbody>\n",
       "</table>\n",
       "</div>"
      ],
      "text/plain": [
       "   order_date delivery_date delivery_time\n",
       "ID                                       \n",
       "1  1998-05-24    1999-02-05      257 days\n",
       "2  1992-04-22    1998-03-06     2144 days\n",
       "4  1991-02-10    1992-08-26      563 days"
      ]
     },
     "execution_count": 88,
     "metadata": {},
     "output_type": "execute_result"
    }
   ],
   "source": [
    "shipping.head(3)"
   ]
  },
  {
   "cell_type": "code",
   "execution_count": 89,
   "id": "ef9ec590",
   "metadata": {},
   "outputs": [
    {
     "data": {
      "text/plain": [
       "ID\n",
       "1     1999-10-20\n",
       "2     2004-01-18\n",
       "4     1994-03-12\n",
       "5     2003-03-22\n",
       "7     2003-03-18\n",
       "         ...    \n",
       "990   2000-09-12\n",
       "991   2004-10-18\n",
       "993   2005-10-06\n",
       "994   1993-06-23\n",
       "997   1993-07-01\n",
       "Length: 501, dtype: datetime64[ns]"
      ]
     },
     "execution_count": 89,
     "metadata": {},
     "output_type": "execute_result"
    }
   ],
   "source": [
    "shipping['delivery_time'] + shipping['delivery_date']"
   ]
  },
  {
   "cell_type": "code",
   "execution_count": 90,
   "id": "b87087e7",
   "metadata": {},
   "outputs": [
    {
     "data": {
      "text/html": [
       "<div>\n",
       "<style scoped>\n",
       "    .dataframe tbody tr th:only-of-type {\n",
       "        vertical-align: middle;\n",
       "    }\n",
       "\n",
       "    .dataframe tbody tr th {\n",
       "        vertical-align: top;\n",
       "    }\n",
       "\n",
       "    .dataframe thead th {\n",
       "        text-align: right;\n",
       "    }\n",
       "</style>\n",
       "<table border=\"1\" class=\"dataframe\">\n",
       "  <thead>\n",
       "    <tr style=\"text-align: right;\">\n",
       "      <th></th>\n",
       "      <th>order_date</th>\n",
       "      <th>delivery_date</th>\n",
       "      <th>delivery_time</th>\n",
       "    </tr>\n",
       "    <tr>\n",
       "      <th>ID</th>\n",
       "      <th></th>\n",
       "      <th></th>\n",
       "      <th></th>\n",
       "    </tr>\n",
       "  </thead>\n",
       "  <tbody>\n",
       "    <tr>\n",
       "      <th>19</th>\n",
       "      <td>1998-05-10</td>\n",
       "      <td>1998-05-19</td>\n",
       "      <td>9 days</td>\n",
       "    </tr>\n",
       "    <tr>\n",
       "      <th>310</th>\n",
       "      <td>1997-09-20</td>\n",
       "      <td>1997-10-06</td>\n",
       "      <td>16 days</td>\n",
       "    </tr>\n",
       "    <tr>\n",
       "      <th>612</th>\n",
       "      <td>1994-08-11</td>\n",
       "      <td>1994-08-20</td>\n",
       "      <td>9 days</td>\n",
       "    </tr>\n",
       "    <tr>\n",
       "      <th>730</th>\n",
       "      <td>1992-12-10</td>\n",
       "      <td>1992-12-28</td>\n",
       "      <td>18 days</td>\n",
       "    </tr>\n",
       "    <tr>\n",
       "      <th>898</th>\n",
       "      <td>1990-05-24</td>\n",
       "      <td>1990-06-01</td>\n",
       "      <td>8 days</td>\n",
       "    </tr>\n",
       "    <tr>\n",
       "      <th>994</th>\n",
       "      <td>1993-06-03</td>\n",
       "      <td>1993-06-13</td>\n",
       "      <td>10 days</td>\n",
       "    </tr>\n",
       "  </tbody>\n",
       "</table>\n",
       "</div>"
      ],
      "text/plain": [
       "    order_date delivery_date delivery_time\n",
       "ID                                        \n",
       "19  1998-05-10    1998-05-19        9 days\n",
       "310 1997-09-20    1997-10-06       16 days\n",
       "612 1994-08-11    1994-08-20        9 days\n",
       "730 1992-12-10    1992-12-28       18 days\n",
       "898 1990-05-24    1990-06-01        8 days\n",
       "994 1993-06-03    1993-06-13       10 days"
      ]
     },
     "execution_count": 90,
     "metadata": {},
     "output_type": "execute_result"
    }
   ],
   "source": [
    "shipping[shipping['delivery_time'] < '20 days']"
   ]
  },
  {
   "cell_type": "code",
   "execution_count": 91,
   "id": "e0db6e8d",
   "metadata": {},
   "outputs": [
    {
     "data": {
      "text/html": [
       "<div>\n",
       "<style scoped>\n",
       "    .dataframe tbody tr th:only-of-type {\n",
       "        vertical-align: middle;\n",
       "    }\n",
       "\n",
       "    .dataframe tbody tr th {\n",
       "        vertical-align: top;\n",
       "    }\n",
       "\n",
       "    .dataframe thead th {\n",
       "        text-align: right;\n",
       "    }\n",
       "</style>\n",
       "<table border=\"1\" class=\"dataframe\">\n",
       "  <thead>\n",
       "    <tr style=\"text-align: right;\">\n",
       "      <th></th>\n",
       "      <th>order_date</th>\n",
       "      <th>delivery_date</th>\n",
       "      <th>delivery_time</th>\n",
       "    </tr>\n",
       "    <tr>\n",
       "      <th>ID</th>\n",
       "      <th></th>\n",
       "      <th></th>\n",
       "      <th></th>\n",
       "    </tr>\n",
       "  </thead>\n",
       "  <tbody>\n",
       "    <tr>\n",
       "      <th>19</th>\n",
       "      <td>1998-05-10</td>\n",
       "      <td>1998-05-19</td>\n",
       "      <td>9 days</td>\n",
       "    </tr>\n",
       "    <tr>\n",
       "      <th>88</th>\n",
       "      <td>1997-08-29</td>\n",
       "      <td>1997-09-19</td>\n",
       "      <td>21 days</td>\n",
       "    </tr>\n",
       "    <tr>\n",
       "      <th>310</th>\n",
       "      <td>1997-09-20</td>\n",
       "      <td>1997-10-06</td>\n",
       "      <td>16 days</td>\n",
       "    </tr>\n",
       "    <tr>\n",
       "      <th>484</th>\n",
       "      <td>1993-08-30</td>\n",
       "      <td>1993-09-22</td>\n",
       "      <td>23 days</td>\n",
       "    </tr>\n",
       "    <tr>\n",
       "      <th>612</th>\n",
       "      <td>1994-08-11</td>\n",
       "      <td>1994-08-20</td>\n",
       "      <td>9 days</td>\n",
       "    </tr>\n",
       "    <tr>\n",
       "      <th>659</th>\n",
       "      <td>1998-10-11</td>\n",
       "      <td>1998-11-03</td>\n",
       "      <td>23 days</td>\n",
       "    </tr>\n",
       "    <tr>\n",
       "      <th>730</th>\n",
       "      <td>1992-12-10</td>\n",
       "      <td>1992-12-28</td>\n",
       "      <td>18 days</td>\n",
       "    </tr>\n",
       "    <tr>\n",
       "      <th>898</th>\n",
       "      <td>1990-05-24</td>\n",
       "      <td>1990-06-01</td>\n",
       "      <td>8 days</td>\n",
       "    </tr>\n",
       "    <tr>\n",
       "      <th>994</th>\n",
       "      <td>1993-06-03</td>\n",
       "      <td>1993-06-13</td>\n",
       "      <td>10 days</td>\n",
       "    </tr>\n",
       "  </tbody>\n",
       "</table>\n",
       "</div>"
      ],
      "text/plain": [
       "    order_date delivery_date delivery_time\n",
       "ID                                        \n",
       "19  1998-05-10    1998-05-19        9 days\n",
       "88  1997-08-29    1997-09-19       21 days\n",
       "310 1997-09-20    1997-10-06       16 days\n",
       "484 1993-08-30    1993-09-22       23 days\n",
       "612 1994-08-11    1994-08-20        9 days\n",
       "659 1998-10-11    1998-11-03       23 days\n",
       "730 1992-12-10    1992-12-28       18 days\n",
       "898 1990-05-24    1990-06-01        8 days\n",
       "994 1993-06-03    1993-06-13       10 days"
      ]
     },
     "execution_count": 91,
     "metadata": {},
     "output_type": "execute_result"
    }
   ],
   "source": [
    "shipping[shipping['delivery_time'] <= '25 days']"
   ]
  },
  {
   "cell_type": "code",
   "execution_count": 92,
   "id": "650d306a",
   "metadata": {},
   "outputs": [
    {
     "data": {
      "text/plain": [
       "Timedelta('8 days 00:00:00')"
      ]
     },
     "execution_count": 92,
     "metadata": {},
     "output_type": "execute_result"
    }
   ],
   "source": [
    "shipping['delivery_time'].min()"
   ]
  },
  {
   "cell_type": "code",
   "execution_count": 93,
   "id": "109052b3",
   "metadata": {},
   "outputs": [
    {
     "data": {
      "text/plain": [
       "Timedelta('3583 days 00:00:00')"
      ]
     },
     "execution_count": 93,
     "metadata": {},
     "output_type": "execute_result"
    }
   ],
   "source": [
    "shipping['delivery_time'].max()"
   ]
  },
  {
   "cell_type": "markdown",
   "id": "6576c67d",
   "metadata": {},
   "source": [
    "## Input and Output in pandas"
   ]
  },
  {
   "cell_type": "markdown",
   "id": "c4c81c4d",
   "metadata": {},
   "source": [
    "### pass a URL to `pd.read_csv` method"
   ]
  },
  {
   "cell_type": "code",
   "execution_count": 94,
   "id": "a91b81f8",
   "metadata": {},
   "outputs": [],
   "source": [
    "url = 'https://data.cityofnewyork.us/api/views/25th-nujf/rows.csv'\n",
    "baby_names = pd.read_csv(url)"
   ]
  },
  {
   "cell_type": "raw",
   "id": "a6d5a184",
   "metadata": {},
   "source": [
    "baby_names = pd.read_csv(Path.joinpath(input_files_dir, 'Popular_Baby_Names.csv'))\n",
    "baby_names.head(3)"
   ]
  },
  {
   "cell_type": "markdown",
   "id": "51e86223",
   "metadata": {},
   "source": [
    "### Object conversion to vanila python obj"
   ]
  },
  {
   "cell_type": "code",
   "execution_count": 95,
   "id": "065787d4",
   "metadata": {},
   "outputs": [
    {
     "data": {
      "text/html": [
       "<div>\n",
       "<style scoped>\n",
       "    .dataframe tbody tr th:only-of-type {\n",
       "        vertical-align: middle;\n",
       "    }\n",
       "\n",
       "    .dataframe tbody tr th {\n",
       "        vertical-align: top;\n",
       "    }\n",
       "\n",
       "    .dataframe thead th {\n",
       "        text-align: right;\n",
       "    }\n",
       "</style>\n",
       "<table border=\"1\" class=\"dataframe\">\n",
       "  <thead>\n",
       "    <tr style=\"text-align: right;\">\n",
       "      <th></th>\n",
       "      <th>Child's First Name</th>\n",
       "    </tr>\n",
       "  </thead>\n",
       "  <tbody>\n",
       "    <tr>\n",
       "      <th>0</th>\n",
       "      <td>GERALDINE</td>\n",
       "    </tr>\n",
       "    <tr>\n",
       "      <th>1</th>\n",
       "      <td>GIA</td>\n",
       "    </tr>\n",
       "    <tr>\n",
       "      <th>2</th>\n",
       "      <td>GIANNA</td>\n",
       "    </tr>\n",
       "    <tr>\n",
       "      <th>3</th>\n",
       "      <td>GISELLE</td>\n",
       "    </tr>\n",
       "    <tr>\n",
       "      <th>4</th>\n",
       "      <td>GRACE</td>\n",
       "    </tr>\n",
       "    <tr>\n",
       "      <th>...</th>\n",
       "      <td>...</td>\n",
       "    </tr>\n",
       "    <tr>\n",
       "      <th>49504</th>\n",
       "      <td>Nala</td>\n",
       "    </tr>\n",
       "    <tr>\n",
       "      <th>49505</th>\n",
       "      <td>Royalty</td>\n",
       "    </tr>\n",
       "    <tr>\n",
       "      <th>49506</th>\n",
       "      <td>Sariyah</td>\n",
       "    </tr>\n",
       "    <tr>\n",
       "      <th>49507</th>\n",
       "      <td>Simone</td>\n",
       "    </tr>\n",
       "    <tr>\n",
       "      <th>49508</th>\n",
       "      <td>Zahra</td>\n",
       "    </tr>\n",
       "  </tbody>\n",
       "</table>\n",
       "<p>49509 rows × 1 columns</p>\n",
       "</div>"
      ],
      "text/plain": [
       "      Child's First Name\n",
       "0              GERALDINE\n",
       "1                    GIA\n",
       "2                 GIANNA\n",
       "3                GISELLE\n",
       "4                  GRACE\n",
       "...                  ...\n",
       "49504               Nala\n",
       "49505            Royalty\n",
       "49506            Sariyah\n",
       "49507             Simone\n",
       "49508              Zahra\n",
       "\n",
       "[49509 rows x 1 columns]"
      ]
     },
     "execution_count": 95,
     "metadata": {},
     "output_type": "execute_result"
    }
   ],
   "source": [
    "baby_names[\"Child's First Name\"].to_frame()"
   ]
  },
  {
   "cell_type": "code",
   "execution_count": 96,
   "id": "9aa04d3d",
   "metadata": {},
   "outputs": [
    {
     "data": {
      "text/plain": [
       "['GERALDINE',\n",
       " 'GIA',\n",
       " 'GIANNA',\n",
       " 'GISELLE',\n",
       " 'GRACE',\n",
       " 'GUADALUPE',\n",
       " 'HAILEY',\n",
       " 'HALEY',\n",
       " 'HANNAH',\n",
       " 'HAYLEE',\n",
       " 'HAYLEY',\n",
       " 'HAZEL',\n",
       " 'HEAVEN',\n",
       " 'HEIDI',\n",
       " 'HEIDY',\n",
       " 'HELEN',\n",
       " 'IMANI',\n",
       " 'INGRID',\n",
       " 'IRENE',\n",
       " 'IRIS',\n",
       " 'ISABEL',\n",
       " 'ISABELA',\n",
       " 'ISABELLA',\n",
       " 'ISABELLE',\n",
       " 'ISIS',\n",
       " 'ITZEL',\n",
       " 'IZABELLA',\n",
       " 'JACQUELINE',\n",
       " 'JADA',\n",
       " 'JADE',\n",
       " 'JAELYNN',\n",
       " 'JAMIE',\n",
       " 'JANELLE',\n",
       " 'JASLENE',\n",
       " 'JASMIN',\n",
       " 'JASMINE',\n",
       " 'JAYDA',\n",
       " 'JAYLA',\n",
       " 'JAYLAH',\n",
       " 'JAYLEEN',\n",
       " 'JAYLENE',\n",
       " 'JAYLIN',\n",
       " 'JAYLYN',\n",
       " 'JAZLYN',\n",
       " 'JAZMIN',\n",
       " 'JAZMINE',\n",
       " 'JENNIFER',\n",
       " 'JESSICA',\n",
       " 'JIMENA',\n",
       " 'JOCELYN',\n",
       " 'JOHANNA',\n",
       " 'JOSELYN',\n",
       " 'JULIA',\n",
       " 'JULIANA',\n",
       " 'JULIANNA',\n",
       " 'JULIET',\n",
       " 'JULIETTE',\n",
       " 'JULISSA',\n",
       " 'KAELYN',\n",
       " 'KAILEY',\n",
       " 'KAILYN',\n",
       " 'KAITLYN',\n",
       " 'KAMILA',\n",
       " 'KAREN',\n",
       " 'KARLA',\n",
       " 'KATE',\n",
       " 'KATELYN',\n",
       " 'KATELYNN',\n",
       " 'KATHERINE',\n",
       " 'KATIE',\n",
       " 'KAYLA',\n",
       " 'KAYLEE',\n",
       " 'KAYLEEN',\n",
       " 'KAYLEIGH',\n",
       " 'KAYLIE',\n",
       " 'KAYLIN',\n",
       " 'KEILY',\n",
       " 'KELLY',\n",
       " 'KEYLA',\n",
       " 'KHLOE',\n",
       " 'KIARA',\n",
       " 'KIMBERLY',\n",
       " 'KRYSTAL',\n",
       " 'KYLEE',\n",
       " 'KYLIE',\n",
       " 'LAILA',\n",
       " 'LAURA',\n",
       " 'LAUREN',\n",
       " 'LAYLA',\n",
       " 'LEA',\n",
       " 'LEAH',\n",
       " 'LEILA',\n",
       " 'LEILANI',\n",
       " 'LESLEY',\n",
       " 'LESLIE',\n",
       " 'LESLY',\n",
       " 'LEYLA',\n",
       " 'LIA',\n",
       " 'LIANA',\n",
       " 'LILIANA',\n",
       " 'LILY',\n",
       " 'LINDSAY',\n",
       " 'LIZBETH',\n",
       " 'LONDON',\n",
       " 'LUCIA',\n",
       " 'LUNA',\n",
       " 'LUZ',\n",
       " 'MADELINE',\n",
       " 'MADELYN',\n",
       " 'MADISON',\n",
       " 'MAKAYLA',\n",
       " 'MARIA',\n",
       " 'MARIAH',\n",
       " 'MARIANA',\n",
       " 'MARILYN',\n",
       " 'MARISOL',\n",
       " 'MAYA',\n",
       " 'MEGAN',\n",
       " 'MELANIE',\n",
       " 'MELANY',\n",
       " 'MELISSA',\n",
       " 'MELODY',\n",
       " 'MIA',\n",
       " 'MIAH',\n",
       " 'MICHELLE',\n",
       " 'MIKAELA',\n",
       " 'MIKAYLA',\n",
       " 'MILA',\n",
       " 'MILEY',\n",
       " 'MIRANDA',\n",
       " 'MIRIAM',\n",
       " 'MYA',\n",
       " 'NADIA',\n",
       " 'NANCY',\n",
       " 'NAOMI',\n",
       " 'NATALIA',\n",
       " 'NATALIE',\n",
       " 'NATALY',\n",
       " 'NATASHA',\n",
       " 'NATHALIA',\n",
       " 'NATHALIE',\n",
       " 'NATHALY',\n",
       " 'NAYELI',\n",
       " 'NEVAEH',\n",
       " 'NICOLE',\n",
       " 'NINA',\n",
       " 'NOEMI',\n",
       " 'NYLA',\n",
       " 'OLIVIA',\n",
       " 'PAOLA',\n",
       " 'PENELOPE',\n",
       " 'PERLA',\n",
       " 'RACHEL',\n",
       " 'RAQUEL',\n",
       " 'REBECCA',\n",
       " 'RIHANNA',\n",
       " 'RILEY',\n",
       " 'ROSA',\n",
       " 'ROSE',\n",
       " 'ROSELYN',\n",
       " 'RUBY',\n",
       " 'SABRINA',\n",
       " 'SADIE',\n",
       " 'SAMANTHA',\n",
       " 'SAMARA',\n",
       " 'SARA',\n",
       " 'SARAH',\n",
       " 'SARAI',\n",
       " 'SARIAH',\n",
       " 'SASHA',\n",
       " 'SAVANNA',\n",
       " 'SAVANNAH',\n",
       " 'SCARLET',\n",
       " 'SCARLETT',\n",
       " 'SELENA',\n",
       " 'SERENITY',\n",
       " 'SHERLYN',\n",
       " 'SHIRLEY',\n",
       " 'SIENNA',\n",
       " 'SKYLA',\n",
       " 'SKYLAR',\n",
       " 'SOFIA',\n",
       " 'SOPHIA',\n",
       " 'SOPHIE',\n",
       " 'STACY',\n",
       " 'STELLA',\n",
       " 'STEPHANIE',\n",
       " 'STEPHANY',\n",
       " 'TATIANA',\n",
       " 'TAYLOR',\n",
       " 'TIANA',\n",
       " 'TIFFANY',\n",
       " 'VALENTINA',\n",
       " 'VALERIA',\n",
       " 'VALERIE',\n",
       " 'VANESSA',\n",
       " 'VERONICA',\n",
       " 'VICTORIA',\n",
       " 'VIOLET',\n",
       " 'VIVIANA',\n",
       " 'WENDY',\n",
       " 'XIMENA',\n",
       " 'YAMILET',\n",
       " 'YARETZI',\n",
       " 'ZOE',\n",
       " 'ZOEY',\n",
       " 'ABIGAIL',\n",
       " 'ADDISON',\n",
       " 'ADELE',\n",
       " 'ADELINE',\n",
       " 'ADINA',\n",
       " 'ADRIANA',\n",
       " 'ADRIANNA',\n",
       " 'AHUVA',\n",
       " 'ALESSANDRA',\n",
       " 'ALESSIA',\n",
       " 'ALEXA',\n",
       " 'ALEXANDRA',\n",
       " 'ALEXIS',\n",
       " 'ALICE',\n",
       " 'ALICIA',\n",
       " 'ALINA',\n",
       " 'ALISA',\n",
       " 'ALIZA',\n",
       " 'ALLISON',\n",
       " 'ALYSSA',\n",
       " 'AMANDA',\n",
       " 'AMELIA',\n",
       " 'AMELIE',\n",
       " 'AMINA',\n",
       " 'AMIRA',\n",
       " 'AMY',\n",
       " 'ANASTASIA',\n",
       " 'ANGELICA',\n",
       " 'ANGELINA',\n",
       " 'ANNA',\n",
       " 'ANNABEL',\n",
       " 'ANNABELLE',\n",
       " 'ARIANA',\n",
       " 'ARIANNA',\n",
       " 'ARIEL',\n",
       " 'ARIELA',\n",
       " 'ARIELLA',\n",
       " 'ASHLEY',\n",
       " 'ATARA',\n",
       " 'AUBREY',\n",
       " 'AUDREY',\n",
       " 'AUTUMN',\n",
       " 'AVA',\n",
       " 'AVERY',\n",
       " 'AVIGAIL',\n",
       " 'AVIVA',\n",
       " 'AYLA',\n",
       " 'BAILA',\n",
       " 'BARBARA',\n",
       " 'BATSHEVA',\n",
       " 'BATYA',\n",
       " 'BEATRICE',\n",
       " 'BELLA',\n",
       " 'BIANCA',\n",
       " 'BLAKE',\n",
       " 'BLIMA',\n",
       " 'BLIMY',\n",
       " 'BRACHA',\n",
       " 'BREINDY',\n",
       " 'BRIANNA',\n",
       " 'BRIDGET',\n",
       " 'BROOKE',\n",
       " 'BROOKLYN',\n",
       " 'BRUCHA',\n",
       " 'BRUCHY',\n",
       " 'BRYNN',\n",
       " 'CAITLIN',\n",
       " 'CAMERON',\n",
       " 'CAROLINE',\n",
       " 'CASEY',\n",
       " 'CATHERINE',\n",
       " 'CECILIA',\n",
       " 'CELIA',\n",
       " 'CHANA',\n",
       " 'CHANY',\n",
       " 'CHARLIE',\n",
       " 'CHARLOTTE',\n",
       " 'CHAVA',\n",
       " 'CHAVY',\n",
       " 'CHAYA',\n",
       " 'CHLOE',\n",
       " 'CHRISTINA',\n",
       " 'CLAIRE',\n",
       " 'CLARA',\n",
       " 'COLETTE',\n",
       " 'CORA',\n",
       " 'DAHLIA',\n",
       " 'DAISY',\n",
       " 'DALIA',\n",
       " 'DANIELA',\n",
       " 'DANIELLA',\n",
       " 'DANIELLE',\n",
       " 'DEVORA',\n",
       " 'DEVORAH',\n",
       " 'DIANA',\n",
       " 'DINA',\n",
       " 'DYLAN',\n",
       " 'EDEN',\n",
       " 'ELEANOR',\n",
       " 'ELENA',\n",
       " 'ELIANA',\n",
       " 'ELISE',\n",
       " 'ELISHEVA',\n",
       " 'ELIZA',\n",
       " 'ELIZABETH',\n",
       " 'ELLA',\n",
       " 'ELLE',\n",
       " 'ELLIANA',\n",
       " 'ELLIE',\n",
       " 'ELOISE',\n",
       " 'EMERSON',\n",
       " 'EMILIA',\n",
       " 'EMILY',\n",
       " 'EMMA',\n",
       " 'ERIN',\n",
       " 'ESTER',\n",
       " 'ESTHER',\n",
       " 'ESTY',\n",
       " 'ETTY',\n",
       " 'EVA',\n",
       " 'EVE',\n",
       " 'EVELYN',\n",
       " 'FAIGA',\n",
       " 'FAIGY',\n",
       " 'FINLEY',\n",
       " 'FIONA',\n",
       " 'FRADEL',\n",
       " 'FRAIDY',\n",
       " 'FRANCESCA',\n",
       " 'FRIMET',\n",
       " 'GABRIELA',\n",
       " 'GABRIELLA',\n",
       " 'GABRIELLE',\n",
       " 'GEMMA',\n",
       " 'GENEVIEVE',\n",
       " 'GEORGIA',\n",
       " 'GIA',\n",
       " 'GIANNA',\n",
       " 'GIOVANNA',\n",
       " 'GITTEL',\n",
       " 'GITTY',\n",
       " 'GIULIANA',\n",
       " 'GOLDA',\n",
       " 'GOLDY',\n",
       " 'GRACE',\n",
       " 'GRETA',\n",
       " 'HADASSA',\n",
       " 'HADASSAH',\n",
       " 'HAILEY',\n",
       " 'HANNA',\n",
       " 'HANNAH',\n",
       " 'HARPER',\n",
       " 'HAZEL',\n",
       " 'HENNY',\n",
       " 'HINDY',\n",
       " 'IDY',\n",
       " 'ILANA',\n",
       " 'Jared',\n",
       " 'ISABEL',\n",
       " 'ISABELLA',\n",
       " 'ISABELLE',\n",
       " 'ISLA',\n",
       " 'IVY',\n",
       " 'IZABELLA',\n",
       " 'JACQUELINE',\n",
       " 'JANE',\n",
       " 'JASMINE',\n",
       " 'JENNA',\n",
       " 'JESSICA',\n",
       " 'JORDYN',\n",
       " 'JOSEPHINE',\n",
       " 'JOYCE',\n",
       " 'JULIA',\n",
       " 'JULIANA',\n",
       " 'JULIANNA',\n",
       " 'JULIE',\n",
       " 'JULIET',\n",
       " 'JULIETTE',\n",
       " 'KAITLYN',\n",
       " 'ARELY',\n",
       " 'KATE',\n",
       " 'KATHERINE',\n",
       " 'KATHRYN',\n",
       " 'KAYLA',\n",
       " 'KAYLEE',\n",
       " 'KIRA',\n",
       " 'KYLIE',\n",
       " 'LAILA',\n",
       " 'LARA',\n",
       " 'LAURA',\n",
       " 'LAUREN',\n",
       " 'LAYLA',\n",
       " 'LEA',\n",
       " 'LEAH',\n",
       " 'LEILA',\n",
       " 'LENA',\n",
       " 'LEORA',\n",
       " 'LIA',\n",
       " 'LIANA',\n",
       " 'LIBA',\n",
       " 'LIBBY',\n",
       " 'LILA',\n",
       " 'LILAH',\n",
       " 'LILIANA',\n",
       " 'LILLIAN',\n",
       " 'LILLY',\n",
       " 'LILY',\n",
       " 'LINA',\n",
       " 'LOLA',\n",
       " 'LONDON',\n",
       " 'Jariel',\n",
       " 'LUCY',\n",
       " 'LYLA',\n",
       " 'MACKENZIE',\n",
       " 'MADELEINE',\n",
       " 'MADELINE',\n",
       " 'MADELYN',\n",
       " 'MADISON',\n",
       " 'MAEVE',\n",
       " 'MAKAYLA',\n",
       " 'MALAK',\n",
       " 'MALKA',\n",
       " 'MALKY',\n",
       " 'MARGARET',\n",
       " 'MARIA',\n",
       " 'MARIAM',\n",
       " 'MARY',\n",
       " 'MATILDA',\n",
       " 'MAYA',\n",
       " 'MELANIE',\n",
       " 'MIA',\n",
       " 'MICHAELA',\n",
       " 'MICHAL',\n",
       " 'MICHELLE',\n",
       " 'MIKAYLA',\n",
       " 'MILA',\n",
       " 'MILENA',\n",
       " 'MINDY',\n",
       " 'MIRI',\n",
       " 'MIRIAM',\n",
       " 'MOLLY',\n",
       " 'MORGAN',\n",
       " 'NAOMI',\n",
       " 'NATALIA',\n",
       " 'NATALIE',\n",
       " 'NECHAMA',\n",
       " 'NICOLE',\n",
       " 'NICOLETTE',\n",
       " 'NINA',\n",
       " 'NOA',\n",
       " 'NORA',\n",
       " 'OLIVIA',\n",
       " 'PAIGE',\n",
       " 'PARKER',\n",
       " 'PEARL',\n",
       " 'PENELOPE',\n",
       " 'PEREL',\n",
       " 'PESSY',\n",
       " 'PHOEBE',\n",
       " 'PIPER',\n",
       " 'QUINN',\n",
       " 'RACHEL',\n",
       " 'RAIZEL',\n",
       " 'RAIZY',\n",
       " 'REBECCA',\n",
       " 'REESE',\n",
       " 'RIFKA',\n",
       " 'RIFKY',\n",
       " 'RILEY',\n",
       " 'RIVKA',\n",
       " 'RIVKY',\n",
       " 'ROCHEL',\n",
       " 'ROIZY',\n",
       " 'ROSE',\n",
       " 'RUBY',\n",
       " 'RUCHY',\n",
       " 'RUTH',\n",
       " 'RYAN',\n",
       " 'SABRINA',\n",
       " 'SADIE',\n",
       " 'SALMA',\n",
       " 'SAMANTHA',\n",
       " 'SARA',\n",
       " 'SARAH',\n",
       " 'SASHA',\n",
       " 'SAVANNAH',\n",
       " 'SCARLETT',\n",
       " 'SERENA',\n",
       " 'SHAINA',\n",
       " 'SHAINDEL',\n",
       " 'SHAINDY',\n",
       " 'SHEVY',\n",
       " 'SHIFRA',\n",
       " 'SHIRA',\n",
       " 'SHOSHANA',\n",
       " 'SIENA',\n",
       " 'SIENNA',\n",
       " 'SIMA',\n",
       " 'SIMI',\n",
       " 'SIMONE',\n",
       " 'SKYLAR',\n",
       " 'SLOANE',\n",
       " 'SOFIA',\n",
       " 'SOPHIA',\n",
       " 'SOPHIE',\n",
       " 'STELLA',\n",
       " 'SUMMER',\n",
       " 'SURI',\n",
       " 'SURY',\n",
       " 'SYDNEY',\n",
       " 'SYLVIA',\n",
       " 'TALIA',\n",
       " 'TAMAR',\n",
       " 'TAYLOR',\n",
       " 'TESSA',\n",
       " 'TOBY',\n",
       " 'TZIPORA',\n",
       " 'TZIPORAH',\n",
       " 'TZIPPY',\n",
       " 'TZIVIA',\n",
       " 'VALENTINA',\n",
       " 'VALERIE',\n",
       " 'VANESSA',\n",
       " 'VERA',\n",
       " 'VERONICA',\n",
       " 'VERONIKA',\n",
       " 'VICTORIA',\n",
       " 'VIOLET',\n",
       " 'VIVIAN',\n",
       " 'VIVIENNE',\n",
       " 'WILLA',\n",
       " 'YACHET',\n",
       " 'YAEL',\n",
       " 'YASMINE',\n",
       " 'YEHUDIS',\n",
       " 'YIDES',\n",
       " 'YITTY',\n",
       " 'YOCHEVED',\n",
       " 'ZISSY',\n",
       " 'SCARLETT',\n",
       " 'ZOEY',\n",
       " 'AARAV',\n",
       " 'AARON',\n",
       " 'ABDUL',\n",
       " 'ABDULLAH',\n",
       " 'ADAM',\n",
       " 'ADITYA',\n",
       " 'ADRIAN',\n",
       " 'AHMED',\n",
       " 'AIDAN',\n",
       " 'AIDEN',\n",
       " 'ALAN',\n",
       " 'ALEX',\n",
       " 'ALEXANDER',\n",
       " 'ALI',\n",
       " 'ALLEN',\n",
       " 'ALVIN',\n",
       " 'ANDREW',\n",
       " 'ANDY',\n",
       " 'ANSON',\n",
       " 'ANTHONY',\n",
       " 'ARJUN',\n",
       " 'ARMAAN',\n",
       " 'ARYAN',\n",
       " 'AUSTIN',\n",
       " 'AYAAN',\n",
       " 'AYDEN',\n",
       " 'BENJAMIN',\n",
       " 'BENSON',\n",
       " 'BRANDON',\n",
       " 'BRIAN',\n",
       " 'BRYAN',\n",
       " 'CALEB',\n",
       " 'CALVIN',\n",
       " 'CARSON',\n",
       " 'CHARLES',\n",
       " 'CHRISTIAN',\n",
       " 'CHRISTOPHER',\n",
       " 'CODY',\n",
       " 'CONNOR',\n",
       " 'DANIEL',\n",
       " 'DANNY',\n",
       " 'DARREN',\n",
       " 'DAVID',\n",
       " 'DEREK',\n",
       " 'DEVIN',\n",
       " 'DYLAN',\n",
       " 'EASON',\n",
       " 'EDISON',\n",
       " 'EDWIN',\n",
       " 'ELIJAH',\n",
       " 'ELVIS',\n",
       " 'ERIC',\n",
       " 'ETHAN',\n",
       " 'EVAN',\n",
       " 'FARHAN',\n",
       " 'FELIX',\n",
       " 'GABRIEL',\n",
       " 'GAVIN',\n",
       " 'GEORGE',\n",
       " 'HARRISON',\n",
       " 'HAYDEN',\n",
       " 'HENRY',\n",
       " 'IAN',\n",
       " 'IBRAHIM',\n",
       " 'ISAAC',\n",
       " 'ISHAAN',\n",
       " 'IVAN',\n",
       " 'JACK',\n",
       " 'JACKSON',\n",
       " 'JACKY',\n",
       " 'JACOB',\n",
       " 'JADEN',\n",
       " 'JAKE',\n",
       " 'JAMES',\n",
       " 'JASON',\n",
       " 'JAY',\n",
       " 'JAYDEN',\n",
       " 'JEFFREY',\n",
       " 'JEREMY',\n",
       " 'JERRY',\n",
       " 'JIA',\n",
       " 'JOHN',\n",
       " 'JOHNNY',\n",
       " 'JONATHAN',\n",
       " 'JORDAN',\n",
       " 'JOSEPH',\n",
       " 'JOSHUA',\n",
       " 'JULIAN',\n",
       " 'JUSTIN',\n",
       " 'KAI',\n",
       " 'KEVIN',\n",
       " 'KINGSLEY',\n",
       " 'KYLE',\n",
       " 'LAWRENCE',\n",
       " 'LEO',\n",
       " 'LEON',\n",
       " 'LIAM',\n",
       " 'LOGAN',\n",
       " 'LOUIS',\n",
       " 'LUCAS',\n",
       " 'LUKE',\n",
       " 'MARCUS',\n",
       " 'MARTIN',\n",
       " 'MASON',\n",
       " 'MATTHEW',\n",
       " 'MAX',\n",
       " 'MICHAEL',\n",
       " 'MILES',\n",
       " 'MOHAMED',\n",
       " 'MOHAMMAD',\n",
       " 'MOHAMMED',\n",
       " 'MUHAMMAD',\n",
       " 'NATHAN',\n",
       " 'NATHANIEL',\n",
       " 'NELSON',\n",
       " 'NICHOLAS',\n",
       " 'NOAH',\n",
       " 'OLIVER',\n",
       " 'OSCAR',\n",
       " 'OWEN',\n",
       " 'PATRICK',\n",
       " 'PETER',\n",
       " 'RAYAN',\n",
       " 'RAYMOND',\n",
       " 'RICHARD',\n",
       " 'RICKY',\n",
       " 'ROHAN',\n",
       " 'RYAN',\n",
       " 'SAMUEL',\n",
       " 'SEAN',\n",
       " 'SEBASTIAN',\n",
       " 'SHAWN',\n",
       " 'SIMON',\n",
       " 'STANLEY',\n",
       " 'STEVEN',\n",
       " 'SYED',\n",
       " 'TENZIN',\n",
       " 'TERRY',\n",
       " 'THOMAS',\n",
       " 'TIMOTHY',\n",
       " 'TONY',\n",
       " 'TRAVIS',\n",
       " 'TYLER',\n",
       " 'VICTOR',\n",
       " 'VINCENT',\n",
       " 'WILLIAM',\n",
       " 'WILSON',\n",
       " 'XAVIER',\n",
       " 'ZACHARY',\n",
       " 'ZAIN',\n",
       " 'ZAYAN',\n",
       " 'AARON',\n",
       " 'ABDOUL',\n",
       " 'ABDOULAYE',\n",
       " 'ADAM',\n",
       " 'ADEN',\n",
       " 'ADONIS',\n",
       " 'ADRIAN',\n",
       " 'AHMED',\n",
       " 'AIDAN',\n",
       " 'AIDEN',\n",
       " 'ALEXANDER',\n",
       " 'ALI',\n",
       " 'ALIJAH',\n",
       " 'ALVIN',\n",
       " 'AMADOU',\n",
       " \"AMAR'E\",\n",
       " 'AMARE',\n",
       " 'AMARI',\n",
       " 'AMIR',\n",
       " 'ANDRE',\n",
       " 'ANDREW',\n",
       " 'ANGEL',\n",
       " 'ANTHONY',\n",
       " 'ANTONIO',\n",
       " 'ASHTON',\n",
       " 'AUSTIN',\n",
       " 'AVERY',\n",
       " 'AYDEN',\n",
       " 'BENJAMIN',\n",
       " 'BLAKE',\n",
       " 'BRANDON',\n",
       " 'BRIAN',\n",
       " 'BRYAN',\n",
       " 'BRYCE',\n",
       " 'BRYSON',\n",
       " 'CALEB',\n",
       " 'CAMERON',\n",
       " 'CARMELO',\n",
       " 'CARTER',\n",
       " 'CAYDEN',\n",
       " 'CHAD',\n",
       " 'CHANCE',\n",
       " 'CHARLES',\n",
       " 'CHASE',\n",
       " 'CHRIS',\n",
       " 'CHRISTIAN',\n",
       " 'CHRISTOPHER',\n",
       " 'CODY',\n",
       " 'COREY',\n",
       " 'DANIEL',\n",
       " 'DARIUS',\n",
       " 'DARREN',\n",
       " 'DAVID',\n",
       " 'DERRICK',\n",
       " 'DEVIN',\n",
       " 'DEVON',\n",
       " 'DOMINIC',\n",
       " 'DONOVAN',\n",
       " 'DWAYNE',\n",
       " 'DYLAN',\n",
       " 'EDWARD',\n",
       " 'ELI',\n",
       " 'ELIAS',\n",
       " 'ELIJAH',\n",
       " 'EMMANUEL',\n",
       " 'ERIC',\n",
       " 'ETHAN',\n",
       " 'EVAN',\n",
       " 'GABRIEL',\n",
       " 'GAVIN',\n",
       " 'GEORGE',\n",
       " 'GIOVANNI',\n",
       " 'HASSAN',\n",
       " 'HAYDEN',\n",
       " 'HUNTER',\n",
       " 'IAN',\n",
       " 'SERENA',\n",
       " 'IBRAHIMA',\n",
       " 'ISAAC',\n",
       " 'ISAIAH',\n",
       " 'ISHMAEL',\n",
       " 'ISIAH',\n",
       " 'JACE',\n",
       " 'JACKSON',\n",
       " 'JACOB',\n",
       " 'JADEN',\n",
       " 'JAHEIM',\n",
       " 'JAHMIR',\n",
       " 'JAIDEN',\n",
       " 'JALEN',\n",
       " 'JAMAL',\n",
       " 'JAMEL',\n",
       " 'JAMES',\n",
       " 'JAMIR',\n",
       " 'JARED',\n",
       " 'JASIAH',\n",
       " 'JASON',\n",
       " 'JAYDEN',\n",
       " 'JAYLEN',\n",
       " 'JAYSON',\n",
       " 'JELANI',\n",
       " 'JEREMIAH',\n",
       " 'JEREMY',\n",
       " 'JERMAINE',\n",
       " 'JESSE',\n",
       " 'JOEL',\n",
       " 'JOHN',\n",
       " 'JONATHAN',\n",
       " 'JORDAN',\n",
       " 'JOSEPH',\n",
       " 'JOSHUA',\n",
       " 'JOSIAH',\n",
       " 'SHAINA',\n",
       " 'JUSTICE',\n",
       " 'JUSTIN',\n",
       " 'KADEN',\n",
       " 'KAI',\n",
       " 'KAIDEN',\n",
       " 'KALEB',\n",
       " 'KAMARI',\n",
       " 'KAMERON',\n",
       " 'KAYDEN',\n",
       " 'KEITH',\n",
       " 'KENNETH',\n",
       " 'KEVIN',\n",
       " 'KHALIL',\n",
       " 'KING',\n",
       " 'KIYAN',\n",
       " 'KYLE',\n",
       " 'KYMANI',\n",
       " 'LAMAR',\n",
       " 'LANDON',\n",
       " 'LEVI',\n",
       " 'LIAM',\n",
       " 'LOGAN',\n",
       " 'LUCAS',\n",
       " 'MAKAI',\n",
       " 'MALACHI',\n",
       " 'MALCOLM',\n",
       " 'MALIK',\n",
       " 'MAMADOU',\n",
       " 'MARC',\n",
       " 'MARCUS',\n",
       " 'MARQUIS',\n",
       " 'MASON',\n",
       " 'MATTHEW',\n",
       " 'MAURICE',\n",
       " 'MEKHI',\n",
       " 'MESSIAH',\n",
       " 'MICAH',\n",
       " 'MICHAEL',\n",
       " 'MILES',\n",
       " 'MOHAMED',\n",
       " 'MOHAMMED',\n",
       " 'MOUSSA',\n",
       " 'MYLES',\n",
       " 'NANA',\n",
       " 'NASIR',\n",
       " 'NATHAN',\n",
       " 'NATHANIEL',\n",
       " 'NEHEMIAH',\n",
       " 'NICHOLAS',\n",
       " 'NICOLAS',\n",
       " 'NIGEL',\n",
       " 'NOAH',\n",
       " 'OMAR',\n",
       " 'OMARI',\n",
       " 'OUSMANE',\n",
       " 'PATRICK',\n",
       " 'PRESTON',\n",
       " 'PRINCE',\n",
       " 'QUINCY',\n",
       " 'RICARDO',\n",
       " 'RICHARD',\n",
       " 'ROBERT',\n",
       " 'RODNEY',\n",
       " 'RYAN',\n",
       " 'SAMUEL',\n",
       " 'SEAN',\n",
       " 'SEBASTIAN',\n",
       " 'SEKOU',\n",
       " 'SETH',\n",
       " 'SHAINDEL',\n",
       " 'SINCERE',\n",
       " 'STEPHEN',\n",
       " 'STEVEN',\n",
       " 'TERRELL',\n",
       " 'TERRENCE',\n",
       " 'TIMOTHY',\n",
       " 'TRAVIS',\n",
       " 'TRISTAN',\n",
       " 'TROY',\n",
       " 'TYLER',\n",
       " 'VICTOR',\n",
       " 'WILLIAM',\n",
       " 'XAVIER',\n",
       " 'ZACHARY',\n",
       " 'ZAIRE',\n",
       " 'ZION',\n",
       " 'ZYAIRE',\n",
       " 'AARON',\n",
       " 'ABDIEL',\n",
       " 'ABEL',\n",
       " 'ABRAHAM',\n",
       " 'ADAM',\n",
       " 'ADEN',\n",
       " 'ADONIS',\n",
       " 'ADRIAN',\n",
       " 'ADRIEL',\n",
       " 'AIDAN',\n",
       " 'AIDEN',\n",
       " 'ALAN',\n",
       " 'ALBERT',\n",
       " 'ALBERTO',\n",
       " 'ALDO',\n",
       " 'ALEJANDRO',\n",
       " 'ALEX',\n",
       " 'ALEXANDER',\n",
       " 'ALEXIS',\n",
       " 'ALFREDO',\n",
       " 'ALLAN',\n",
       " 'ALLEN',\n",
       " 'ALVIN',\n",
       " 'AMIR',\n",
       " 'ANDERSON',\n",
       " 'ANDRE',\n",
       " 'ANDRES',\n",
       " 'ANDREW',\n",
       " 'ANDY',\n",
       " 'ANGEL',\n",
       " 'ANGELO',\n",
       " 'ANTHONY',\n",
       " 'ANTONIO',\n",
       " 'ARIEL',\n",
       " 'ARMANDO',\n",
       " 'ARMANI',\n",
       " 'ARTURO',\n",
       " 'ASHTON',\n",
       " 'AUSTIN',\n",
       " 'AVERY',\n",
       " 'AXEL',\n",
       " 'AYDEN',\n",
       " 'BENJAMIN',\n",
       " 'BRADLEY',\n",
       " 'BRANDON',\n",
       " 'BRAYAN',\n",
       " 'BRAYDEN',\n",
       " 'Jason',\n",
       " 'BRYAN',\n",
       " 'BRYANT',\n",
       " 'BRYCE',\n",
       " 'BYRON',\n",
       " 'CALEB',\n",
       " 'CAMERON',\n",
       " 'CARLOS',\n",
       " 'CARMELO',\n",
       " 'CESAR',\n",
       " 'ABIGAIL',\n",
       " 'ADA',\n",
       " 'AISHA',\n",
       " 'AIZA',\n",
       " 'ALEENA',\n",
       " 'ALEXA',\n",
       " 'ALEXANDRA',\n",
       " 'ALICE',\n",
       " 'ALINA',\n",
       " 'ALISHA',\n",
       " 'ALIYAH',\n",
       " 'ALLISON',\n",
       " 'ALYSSA',\n",
       " 'AMANDA',\n",
       " 'AMBER',\n",
       " 'AMELIA',\n",
       " 'AMY',\n",
       " 'ANGEL',\n",
       " 'ANGELA',\n",
       " 'ANGELINA',\n",
       " 'ANGIE',\n",
       " 'ANIKA',\n",
       " 'ANNA',\n",
       " 'ANNABELLE',\n",
       " 'ANNIE',\n",
       " 'ARIA',\n",
       " 'ARIANA',\n",
       " 'ARIANNA',\n",
       " 'ARYA',\n",
       " 'ASHLEY',\n",
       " 'AUDREY',\n",
       " 'AVA',\n",
       " 'AYESHA',\n",
       " 'BELLA',\n",
       " 'BONNIE',\n",
       " 'BRIANNA',\n",
       " 'CATHERINE',\n",
       " 'CECILIA',\n",
       " 'CHARLOTTE',\n",
       " 'CHLOE',\n",
       " 'CHRISTINA',\n",
       " 'CHRISTINE',\n",
       " 'CHRISTY',\n",
       " 'CINDY',\n",
       " 'CLAIRE',\n",
       " ...]"
      ]
     },
     "execution_count": 96,
     "metadata": {},
     "output_type": "execute_result"
    }
   ],
   "source": [
    "baby_names[\"Child's First Name\"].tolist()"
   ]
  },
  {
   "cell_type": "code",
   "execution_count": 97,
   "id": "ebdfb717",
   "metadata": {},
   "outputs": [
    {
     "data": {
      "text/plain": [
       "{0: 'GERALDINE',\n",
       " 1: 'GIA',\n",
       " 2: 'GIANNA',\n",
       " 3: 'GISELLE',\n",
       " 4: 'GRACE',\n",
       " 5: 'GUADALUPE',\n",
       " 6: 'HAILEY',\n",
       " 7: 'HALEY',\n",
       " 8: 'HANNAH',\n",
       " 9: 'HAYLEE',\n",
       " 10: 'HAYLEY',\n",
       " 11: 'HAZEL',\n",
       " 12: 'HEAVEN',\n",
       " 13: 'HEIDI',\n",
       " 14: 'HEIDY',\n",
       " 15: 'HELEN',\n",
       " 16: 'IMANI',\n",
       " 17: 'INGRID',\n",
       " 18: 'IRENE',\n",
       " 19: 'IRIS',\n",
       " 20: 'ISABEL',\n",
       " 21: 'ISABELA',\n",
       " 22: 'ISABELLA',\n",
       " 23: 'ISABELLE',\n",
       " 24: 'ISIS',\n",
       " 25: 'ITZEL',\n",
       " 26: 'IZABELLA',\n",
       " 27: 'JACQUELINE',\n",
       " 28: 'JADA',\n",
       " 29: 'JADE',\n",
       " 30: 'JAELYNN',\n",
       " 31: 'JAMIE',\n",
       " 32: 'JANELLE',\n",
       " 33: 'JASLENE',\n",
       " 34: 'JASMIN',\n",
       " 35: 'JASMINE',\n",
       " 36: 'JAYDA',\n",
       " 37: 'JAYLA',\n",
       " 38: 'JAYLAH',\n",
       " 39: 'JAYLEEN',\n",
       " 40: 'JAYLENE',\n",
       " 41: 'JAYLIN',\n",
       " 42: 'JAYLYN',\n",
       " 43: 'JAZLYN',\n",
       " 44: 'JAZMIN',\n",
       " 45: 'JAZMINE',\n",
       " 46: 'JENNIFER',\n",
       " 47: 'JESSICA',\n",
       " 48: 'JIMENA',\n",
       " 49: 'JOCELYN',\n",
       " 50: 'JOHANNA',\n",
       " 51: 'JOSELYN',\n",
       " 52: 'JULIA',\n",
       " 53: 'JULIANA',\n",
       " 54: 'JULIANNA',\n",
       " 55: 'JULIET',\n",
       " 56: 'JULIETTE',\n",
       " 57: 'JULISSA',\n",
       " 58: 'KAELYN',\n",
       " 59: 'KAILEY',\n",
       " 60: 'KAILYN',\n",
       " 61: 'KAITLYN',\n",
       " 62: 'KAMILA',\n",
       " 63: 'KAREN',\n",
       " 64: 'KARLA',\n",
       " 65: 'KATE',\n",
       " 66: 'KATELYN',\n",
       " 67: 'KATELYNN',\n",
       " 68: 'KATHERINE',\n",
       " 69: 'KATIE',\n",
       " 70: 'KAYLA',\n",
       " 71: 'KAYLEE',\n",
       " 72: 'KAYLEEN',\n",
       " 73: 'KAYLEIGH',\n",
       " 74: 'KAYLIE',\n",
       " 75: 'KAYLIN',\n",
       " 76: 'KEILY',\n",
       " 77: 'KELLY',\n",
       " 78: 'KEYLA',\n",
       " 79: 'KHLOE',\n",
       " 80: 'KIARA',\n",
       " 81: 'KIMBERLY',\n",
       " 82: 'KRYSTAL',\n",
       " 83: 'KYLEE',\n",
       " 84: 'KYLIE',\n",
       " 85: 'LAILA',\n",
       " 86: 'LAURA',\n",
       " 87: 'LAUREN',\n",
       " 88: 'LAYLA',\n",
       " 89: 'LEA',\n",
       " 90: 'LEAH',\n",
       " 91: 'LEILA',\n",
       " 92: 'LEILANI',\n",
       " 93: 'LESLEY',\n",
       " 94: 'LESLIE',\n",
       " 95: 'LESLY',\n",
       " 96: 'LEYLA',\n",
       " 97: 'LIA',\n",
       " 98: 'LIANA',\n",
       " 99: 'LILIANA',\n",
       " 100: 'LILY',\n",
       " 101: 'LINDSAY',\n",
       " 102: 'LIZBETH',\n",
       " 103: 'LONDON',\n",
       " 104: 'LUCIA',\n",
       " 105: 'LUNA',\n",
       " 106: 'LUZ',\n",
       " 107: 'MADELINE',\n",
       " 108: 'MADELYN',\n",
       " 109: 'MADISON',\n",
       " 110: 'MAKAYLA',\n",
       " 111: 'MARIA',\n",
       " 112: 'MARIAH',\n",
       " 113: 'MARIANA',\n",
       " 114: 'MARILYN',\n",
       " 115: 'MARISOL',\n",
       " 116: 'MAYA',\n",
       " 117: 'MEGAN',\n",
       " 118: 'MELANIE',\n",
       " 119: 'MELANY',\n",
       " 120: 'MELISSA',\n",
       " 121: 'MELODY',\n",
       " 122: 'MIA',\n",
       " 123: 'MIAH',\n",
       " 124: 'MICHELLE',\n",
       " 125: 'MIKAELA',\n",
       " 126: 'MIKAYLA',\n",
       " 127: 'MILA',\n",
       " 128: 'MILEY',\n",
       " 129: 'MIRANDA',\n",
       " 130: 'MIRIAM',\n",
       " 131: 'MYA',\n",
       " 132: 'NADIA',\n",
       " 133: 'NANCY',\n",
       " 134: 'NAOMI',\n",
       " 135: 'NATALIA',\n",
       " 136: 'NATALIE',\n",
       " 137: 'NATALY',\n",
       " 138: 'NATASHA',\n",
       " 139: 'NATHALIA',\n",
       " 140: 'NATHALIE',\n",
       " 141: 'NATHALY',\n",
       " 142: 'NAYELI',\n",
       " 143: 'NEVAEH',\n",
       " 144: 'NICOLE',\n",
       " 145: 'NINA',\n",
       " 146: 'NOEMI',\n",
       " 147: 'NYLA',\n",
       " 148: 'OLIVIA',\n",
       " 149: 'PAOLA',\n",
       " 150: 'PENELOPE',\n",
       " 151: 'PERLA',\n",
       " 152: 'RACHEL',\n",
       " 153: 'RAQUEL',\n",
       " 154: 'REBECCA',\n",
       " 155: 'RIHANNA',\n",
       " 156: 'RILEY',\n",
       " 157: 'ROSA',\n",
       " 158: 'ROSE',\n",
       " 159: 'ROSELYN',\n",
       " 160: 'RUBY',\n",
       " 161: 'SABRINA',\n",
       " 162: 'SADIE',\n",
       " 163: 'SAMANTHA',\n",
       " 164: 'SAMARA',\n",
       " 165: 'SARA',\n",
       " 166: 'SARAH',\n",
       " 167: 'SARAI',\n",
       " 168: 'SARIAH',\n",
       " 169: 'SASHA',\n",
       " 170: 'SAVANNA',\n",
       " 171: 'SAVANNAH',\n",
       " 172: 'SCARLET',\n",
       " 173: 'SCARLETT',\n",
       " 174: 'SELENA',\n",
       " 175: 'SERENITY',\n",
       " 176: 'SHERLYN',\n",
       " 177: 'SHIRLEY',\n",
       " 178: 'SIENNA',\n",
       " 179: 'SKYLA',\n",
       " 180: 'SKYLAR',\n",
       " 181: 'SOFIA',\n",
       " 182: 'SOPHIA',\n",
       " 183: 'SOPHIE',\n",
       " 184: 'STACY',\n",
       " 185: 'STELLA',\n",
       " 186: 'STEPHANIE',\n",
       " 187: 'STEPHANY',\n",
       " 188: 'TATIANA',\n",
       " 189: 'TAYLOR',\n",
       " 190: 'TIANA',\n",
       " 191: 'TIFFANY',\n",
       " 192: 'VALENTINA',\n",
       " 193: 'VALERIA',\n",
       " 194: 'VALERIE',\n",
       " 195: 'VANESSA',\n",
       " 196: 'VERONICA',\n",
       " 197: 'VICTORIA',\n",
       " 198: 'VIOLET',\n",
       " 199: 'VIVIANA',\n",
       " 200: 'WENDY',\n",
       " 201: 'XIMENA',\n",
       " 202: 'YAMILET',\n",
       " 203: 'YARETZI',\n",
       " 204: 'ZOE',\n",
       " 205: 'ZOEY',\n",
       " 206: 'ABIGAIL',\n",
       " 207: 'ADDISON',\n",
       " 208: 'ADELE',\n",
       " 209: 'ADELINE',\n",
       " 210: 'ADINA',\n",
       " 211: 'ADRIANA',\n",
       " 212: 'ADRIANNA',\n",
       " 213: 'AHUVA',\n",
       " 214: 'ALESSANDRA',\n",
       " 215: 'ALESSIA',\n",
       " 216: 'ALEXA',\n",
       " 217: 'ALEXANDRA',\n",
       " 218: 'ALEXIS',\n",
       " 219: 'ALICE',\n",
       " 220: 'ALICIA',\n",
       " 221: 'ALINA',\n",
       " 222: 'ALISA',\n",
       " 223: 'ALIZA',\n",
       " 224: 'ALLISON',\n",
       " 225: 'ALYSSA',\n",
       " 226: 'AMANDA',\n",
       " 227: 'AMELIA',\n",
       " 228: 'AMELIE',\n",
       " 229: 'AMINA',\n",
       " 230: 'AMIRA',\n",
       " 231: 'AMY',\n",
       " 232: 'ANASTASIA',\n",
       " 233: 'ANGELICA',\n",
       " 234: 'ANGELINA',\n",
       " 235: 'ANNA',\n",
       " 236: 'ANNABEL',\n",
       " 237: 'ANNABELLE',\n",
       " 238: 'ARIANA',\n",
       " 239: 'ARIANNA',\n",
       " 240: 'ARIEL',\n",
       " 241: 'ARIELA',\n",
       " 242: 'ARIELLA',\n",
       " 243: 'ASHLEY',\n",
       " 244: 'ATARA',\n",
       " 245: 'AUBREY',\n",
       " 246: 'AUDREY',\n",
       " 247: 'AUTUMN',\n",
       " 248: 'AVA',\n",
       " 249: 'AVERY',\n",
       " 250: 'AVIGAIL',\n",
       " 251: 'AVIVA',\n",
       " 252: 'AYLA',\n",
       " 253: 'BAILA',\n",
       " 254: 'BARBARA',\n",
       " 255: 'BATSHEVA',\n",
       " 256: 'BATYA',\n",
       " 257: 'BEATRICE',\n",
       " 258: 'BELLA',\n",
       " 259: 'BIANCA',\n",
       " 260: 'BLAKE',\n",
       " 261: 'BLIMA',\n",
       " 262: 'BLIMY',\n",
       " 263: 'BRACHA',\n",
       " 264: 'BREINDY',\n",
       " 265: 'BRIANNA',\n",
       " 266: 'BRIDGET',\n",
       " 267: 'BROOKE',\n",
       " 268: 'BROOKLYN',\n",
       " 269: 'BRUCHA',\n",
       " 270: 'BRUCHY',\n",
       " 271: 'BRYNN',\n",
       " 272: 'CAITLIN',\n",
       " 273: 'CAMERON',\n",
       " 274: 'CAROLINE',\n",
       " 275: 'CASEY',\n",
       " 276: 'CATHERINE',\n",
       " 277: 'CECILIA',\n",
       " 278: 'CELIA',\n",
       " 279: 'CHANA',\n",
       " 280: 'CHANY',\n",
       " 281: 'CHARLIE',\n",
       " 282: 'CHARLOTTE',\n",
       " 283: 'CHAVA',\n",
       " 284: 'CHAVY',\n",
       " 285: 'CHAYA',\n",
       " 286: 'CHLOE',\n",
       " 287: 'CHRISTINA',\n",
       " 288: 'CLAIRE',\n",
       " 289: 'CLARA',\n",
       " 290: 'COLETTE',\n",
       " 291: 'CORA',\n",
       " 292: 'DAHLIA',\n",
       " 293: 'DAISY',\n",
       " 294: 'DALIA',\n",
       " 295: 'DANIELA',\n",
       " 296: 'DANIELLA',\n",
       " 297: 'DANIELLE',\n",
       " 298: 'DEVORA',\n",
       " 299: 'DEVORAH',\n",
       " 300: 'DIANA',\n",
       " 301: 'DINA',\n",
       " 302: 'DYLAN',\n",
       " 303: 'EDEN',\n",
       " 304: 'ELEANOR',\n",
       " 305: 'ELENA',\n",
       " 306: 'ELIANA',\n",
       " 307: 'ELISE',\n",
       " 308: 'ELISHEVA',\n",
       " 309: 'ELIZA',\n",
       " 310: 'ELIZABETH',\n",
       " 311: 'ELLA',\n",
       " 312: 'ELLE',\n",
       " 313: 'ELLIANA',\n",
       " 314: 'ELLIE',\n",
       " 315: 'ELOISE',\n",
       " 316: 'EMERSON',\n",
       " 317: 'EMILIA',\n",
       " 318: 'EMILY',\n",
       " 319: 'EMMA',\n",
       " 320: 'ERIN',\n",
       " 321: 'ESTER',\n",
       " 322: 'ESTHER',\n",
       " 323: 'ESTY',\n",
       " 324: 'ETTY',\n",
       " 325: 'EVA',\n",
       " 326: 'EVE',\n",
       " 327: 'EVELYN',\n",
       " 328: 'FAIGA',\n",
       " 329: 'FAIGY',\n",
       " 330: 'FINLEY',\n",
       " 331: 'FIONA',\n",
       " 332: 'FRADEL',\n",
       " 333: 'FRAIDY',\n",
       " 334: 'FRANCESCA',\n",
       " 335: 'FRIMET',\n",
       " 336: 'GABRIELA',\n",
       " 337: 'GABRIELLA',\n",
       " 338: 'GABRIELLE',\n",
       " 339: 'GEMMA',\n",
       " 340: 'GENEVIEVE',\n",
       " 341: 'GEORGIA',\n",
       " 342: 'GIA',\n",
       " 343: 'GIANNA',\n",
       " 344: 'GIOVANNA',\n",
       " 345: 'GITTEL',\n",
       " 346: 'GITTY',\n",
       " 347: 'GIULIANA',\n",
       " 348: 'GOLDA',\n",
       " 349: 'GOLDY',\n",
       " 350: 'GRACE',\n",
       " 351: 'GRETA',\n",
       " 352: 'HADASSA',\n",
       " 353: 'HADASSAH',\n",
       " 354: 'HAILEY',\n",
       " 355: 'HANNA',\n",
       " 356: 'HANNAH',\n",
       " 357: 'HARPER',\n",
       " 358: 'HAZEL',\n",
       " 359: 'HENNY',\n",
       " 360: 'HINDY',\n",
       " 361: 'IDY',\n",
       " 362: 'ILANA',\n",
       " 363: 'Jared',\n",
       " 364: 'ISABEL',\n",
       " 365: 'ISABELLA',\n",
       " 366: 'ISABELLE',\n",
       " 367: 'ISLA',\n",
       " 368: 'IVY',\n",
       " 369: 'IZABELLA',\n",
       " 370: 'JACQUELINE',\n",
       " 371: 'JANE',\n",
       " 372: 'JASMINE',\n",
       " 373: 'JENNA',\n",
       " 374: 'JESSICA',\n",
       " 375: 'JORDYN',\n",
       " 376: 'JOSEPHINE',\n",
       " 377: 'JOYCE',\n",
       " 378: 'JULIA',\n",
       " 379: 'JULIANA',\n",
       " 380: 'JULIANNA',\n",
       " 381: 'JULIE',\n",
       " 382: 'JULIET',\n",
       " 383: 'JULIETTE',\n",
       " 384: 'KAITLYN',\n",
       " 385: 'ARELY',\n",
       " 386: 'KATE',\n",
       " 387: 'KATHERINE',\n",
       " 388: 'KATHRYN',\n",
       " 389: 'KAYLA',\n",
       " 390: 'KAYLEE',\n",
       " 391: 'KIRA',\n",
       " 392: 'KYLIE',\n",
       " 393: 'LAILA',\n",
       " 394: 'LARA',\n",
       " 395: 'LAURA',\n",
       " 396: 'LAUREN',\n",
       " 397: 'LAYLA',\n",
       " 398: 'LEA',\n",
       " 399: 'LEAH',\n",
       " 400: 'LEILA',\n",
       " 401: 'LENA',\n",
       " 402: 'LEORA',\n",
       " 403: 'LIA',\n",
       " 404: 'LIANA',\n",
       " 405: 'LIBA',\n",
       " 406: 'LIBBY',\n",
       " 407: 'LILA',\n",
       " 408: 'LILAH',\n",
       " 409: 'LILIANA',\n",
       " 410: 'LILLIAN',\n",
       " 411: 'LILLY',\n",
       " 412: 'LILY',\n",
       " 413: 'LINA',\n",
       " 414: 'LOLA',\n",
       " 415: 'LONDON',\n",
       " 416: 'Jariel',\n",
       " 417: 'LUCY',\n",
       " 418: 'LYLA',\n",
       " 419: 'MACKENZIE',\n",
       " 420: 'MADELEINE',\n",
       " 421: 'MADELINE',\n",
       " 422: 'MADELYN',\n",
       " 423: 'MADISON',\n",
       " 424: 'MAEVE',\n",
       " 425: 'MAKAYLA',\n",
       " 426: 'MALAK',\n",
       " 427: 'MALKA',\n",
       " 428: 'MALKY',\n",
       " 429: 'MARGARET',\n",
       " 430: 'MARIA',\n",
       " 431: 'MARIAM',\n",
       " 432: 'MARY',\n",
       " 433: 'MATILDA',\n",
       " 434: 'MAYA',\n",
       " 435: 'MELANIE',\n",
       " 436: 'MIA',\n",
       " 437: 'MICHAELA',\n",
       " 438: 'MICHAL',\n",
       " 439: 'MICHELLE',\n",
       " 440: 'MIKAYLA',\n",
       " 441: 'MILA',\n",
       " 442: 'MILENA',\n",
       " 443: 'MINDY',\n",
       " 444: 'MIRI',\n",
       " 445: 'MIRIAM',\n",
       " 446: 'MOLLY',\n",
       " 447: 'MORGAN',\n",
       " 448: 'NAOMI',\n",
       " 449: 'NATALIA',\n",
       " 450: 'NATALIE',\n",
       " 451: 'NECHAMA',\n",
       " 452: 'NICOLE',\n",
       " 453: 'NICOLETTE',\n",
       " 454: 'NINA',\n",
       " 455: 'NOA',\n",
       " 456: 'NORA',\n",
       " 457: 'OLIVIA',\n",
       " 458: 'PAIGE',\n",
       " 459: 'PARKER',\n",
       " 460: 'PEARL',\n",
       " 461: 'PENELOPE',\n",
       " 462: 'PEREL',\n",
       " 463: 'PESSY',\n",
       " 464: 'PHOEBE',\n",
       " 465: 'PIPER',\n",
       " 466: 'QUINN',\n",
       " 467: 'RACHEL',\n",
       " 468: 'RAIZEL',\n",
       " 469: 'RAIZY',\n",
       " 470: 'REBECCA',\n",
       " 471: 'REESE',\n",
       " 472: 'RIFKA',\n",
       " 473: 'RIFKY',\n",
       " 474: 'RILEY',\n",
       " 475: 'RIVKA',\n",
       " 476: 'RIVKY',\n",
       " 477: 'ROCHEL',\n",
       " 478: 'ROIZY',\n",
       " 479: 'ROSE',\n",
       " 480: 'RUBY',\n",
       " 481: 'RUCHY',\n",
       " 482: 'RUTH',\n",
       " 483: 'RYAN',\n",
       " 484: 'SABRINA',\n",
       " 485: 'SADIE',\n",
       " 486: 'SALMA',\n",
       " 487: 'SAMANTHA',\n",
       " 488: 'SARA',\n",
       " 489: 'SARAH',\n",
       " 490: 'SASHA',\n",
       " 491: 'SAVANNAH',\n",
       " 492: 'SCARLETT',\n",
       " 493: 'SERENA',\n",
       " 494: 'SHAINA',\n",
       " 495: 'SHAINDEL',\n",
       " 496: 'SHAINDY',\n",
       " 497: 'SHEVY',\n",
       " 498: 'SHIFRA',\n",
       " 499: 'SHIRA',\n",
       " 500: 'SHOSHANA',\n",
       " 501: 'SIENA',\n",
       " 502: 'SIENNA',\n",
       " 503: 'SIMA',\n",
       " 504: 'SIMI',\n",
       " 505: 'SIMONE',\n",
       " 506: 'SKYLAR',\n",
       " 507: 'SLOANE',\n",
       " 508: 'SOFIA',\n",
       " 509: 'SOPHIA',\n",
       " 510: 'SOPHIE',\n",
       " 511: 'STELLA',\n",
       " 512: 'SUMMER',\n",
       " 513: 'SURI',\n",
       " 514: 'SURY',\n",
       " 515: 'SYDNEY',\n",
       " 516: 'SYLVIA',\n",
       " 517: 'TALIA',\n",
       " 518: 'TAMAR',\n",
       " 519: 'TAYLOR',\n",
       " 520: 'TESSA',\n",
       " 521: 'TOBY',\n",
       " 522: 'TZIPORA',\n",
       " 523: 'TZIPORAH',\n",
       " 524: 'TZIPPY',\n",
       " 525: 'TZIVIA',\n",
       " 526: 'VALENTINA',\n",
       " 527: 'VALERIE',\n",
       " 528: 'VANESSA',\n",
       " 529: 'VERA',\n",
       " 530: 'VERONICA',\n",
       " 531: 'VERONIKA',\n",
       " 532: 'VICTORIA',\n",
       " 533: 'VIOLET',\n",
       " 534: 'VIVIAN',\n",
       " 535: 'VIVIENNE',\n",
       " 536: 'WILLA',\n",
       " 537: 'YACHET',\n",
       " 538: 'YAEL',\n",
       " 539: 'YASMINE',\n",
       " 540: 'YEHUDIS',\n",
       " 541: 'YIDES',\n",
       " 542: 'YITTY',\n",
       " 543: 'YOCHEVED',\n",
       " 544: 'ZISSY',\n",
       " 545: 'SCARLETT',\n",
       " 546: 'ZOEY',\n",
       " 547: 'AARAV',\n",
       " 548: 'AARON',\n",
       " 549: 'ABDUL',\n",
       " 550: 'ABDULLAH',\n",
       " 551: 'ADAM',\n",
       " 552: 'ADITYA',\n",
       " 553: 'ADRIAN',\n",
       " 554: 'AHMED',\n",
       " 555: 'AIDAN',\n",
       " 556: 'AIDEN',\n",
       " 557: 'ALAN',\n",
       " 558: 'ALEX',\n",
       " 559: 'ALEXANDER',\n",
       " 560: 'ALI',\n",
       " 561: 'ALLEN',\n",
       " 562: 'ALVIN',\n",
       " 563: 'ANDREW',\n",
       " 564: 'ANDY',\n",
       " 565: 'ANSON',\n",
       " 566: 'ANTHONY',\n",
       " 567: 'ARJUN',\n",
       " 568: 'ARMAAN',\n",
       " 569: 'ARYAN',\n",
       " 570: 'AUSTIN',\n",
       " 571: 'AYAAN',\n",
       " 572: 'AYDEN',\n",
       " 573: 'BENJAMIN',\n",
       " 574: 'BENSON',\n",
       " 575: 'BRANDON',\n",
       " 576: 'BRIAN',\n",
       " 577: 'BRYAN',\n",
       " 578: 'CALEB',\n",
       " 579: 'CALVIN',\n",
       " 580: 'CARSON',\n",
       " 581: 'CHARLES',\n",
       " 582: 'CHRISTIAN',\n",
       " 583: 'CHRISTOPHER',\n",
       " 584: 'CODY',\n",
       " 585: 'CONNOR',\n",
       " 586: 'DANIEL',\n",
       " 587: 'DANNY',\n",
       " 588: 'DARREN',\n",
       " 589: 'DAVID',\n",
       " 590: 'DEREK',\n",
       " 591: 'DEVIN',\n",
       " 592: 'DYLAN',\n",
       " 593: 'EASON',\n",
       " 594: 'EDISON',\n",
       " 595: 'EDWIN',\n",
       " 596: 'ELIJAH',\n",
       " 597: 'ELVIS',\n",
       " 598: 'ERIC',\n",
       " 599: 'ETHAN',\n",
       " 600: 'EVAN',\n",
       " 601: 'FARHAN',\n",
       " 602: 'FELIX',\n",
       " 603: 'GABRIEL',\n",
       " 604: 'GAVIN',\n",
       " 605: 'GEORGE',\n",
       " 606: 'HARRISON',\n",
       " 607: 'HAYDEN',\n",
       " 608: 'HENRY',\n",
       " 609: 'IAN',\n",
       " 610: 'IBRAHIM',\n",
       " 611: 'ISAAC',\n",
       " 612: 'ISHAAN',\n",
       " 613: 'IVAN',\n",
       " 614: 'JACK',\n",
       " 615: 'JACKSON',\n",
       " 616: 'JACKY',\n",
       " 617: 'JACOB',\n",
       " 618: 'JADEN',\n",
       " 619: 'JAKE',\n",
       " 620: 'JAMES',\n",
       " 621: 'JASON',\n",
       " 622: 'JAY',\n",
       " 623: 'JAYDEN',\n",
       " 624: 'JEFFREY',\n",
       " 625: 'JEREMY',\n",
       " 626: 'JERRY',\n",
       " 627: 'JIA',\n",
       " 628: 'JOHN',\n",
       " 629: 'JOHNNY',\n",
       " 630: 'JONATHAN',\n",
       " 631: 'JORDAN',\n",
       " 632: 'JOSEPH',\n",
       " 633: 'JOSHUA',\n",
       " 634: 'JULIAN',\n",
       " 635: 'JUSTIN',\n",
       " 636: 'KAI',\n",
       " 637: 'KEVIN',\n",
       " 638: 'KINGSLEY',\n",
       " 639: 'KYLE',\n",
       " 640: 'LAWRENCE',\n",
       " 641: 'LEO',\n",
       " 642: 'LEON',\n",
       " 643: 'LIAM',\n",
       " 644: 'LOGAN',\n",
       " 645: 'LOUIS',\n",
       " 646: 'LUCAS',\n",
       " 647: 'LUKE',\n",
       " 648: 'MARCUS',\n",
       " 649: 'MARTIN',\n",
       " 650: 'MASON',\n",
       " 651: 'MATTHEW',\n",
       " 652: 'MAX',\n",
       " 653: 'MICHAEL',\n",
       " 654: 'MILES',\n",
       " 655: 'MOHAMED',\n",
       " 656: 'MOHAMMAD',\n",
       " 657: 'MOHAMMED',\n",
       " 658: 'MUHAMMAD',\n",
       " 659: 'NATHAN',\n",
       " 660: 'NATHANIEL',\n",
       " 661: 'NELSON',\n",
       " 662: 'NICHOLAS',\n",
       " 663: 'NOAH',\n",
       " 664: 'OLIVER',\n",
       " 665: 'OSCAR',\n",
       " 666: 'OWEN',\n",
       " 667: 'PATRICK',\n",
       " 668: 'PETER',\n",
       " 669: 'RAYAN',\n",
       " 670: 'RAYMOND',\n",
       " 671: 'RICHARD',\n",
       " 672: 'RICKY',\n",
       " 673: 'ROHAN',\n",
       " 674: 'RYAN',\n",
       " 675: 'SAMUEL',\n",
       " 676: 'SEAN',\n",
       " 677: 'SEBASTIAN',\n",
       " 678: 'SHAWN',\n",
       " 679: 'SIMON',\n",
       " 680: 'STANLEY',\n",
       " 681: 'STEVEN',\n",
       " 682: 'SYED',\n",
       " 683: 'TENZIN',\n",
       " 684: 'TERRY',\n",
       " 685: 'THOMAS',\n",
       " 686: 'TIMOTHY',\n",
       " 687: 'TONY',\n",
       " 688: 'TRAVIS',\n",
       " 689: 'TYLER',\n",
       " 690: 'VICTOR',\n",
       " 691: 'VINCENT',\n",
       " 692: 'WILLIAM',\n",
       " 693: 'WILSON',\n",
       " 694: 'XAVIER',\n",
       " 695: 'ZACHARY',\n",
       " 696: 'ZAIN',\n",
       " 697: 'ZAYAN',\n",
       " 698: 'AARON',\n",
       " 699: 'ABDOUL',\n",
       " 700: 'ABDOULAYE',\n",
       " 701: 'ADAM',\n",
       " 702: 'ADEN',\n",
       " 703: 'ADONIS',\n",
       " 704: 'ADRIAN',\n",
       " 705: 'AHMED',\n",
       " 706: 'AIDAN',\n",
       " 707: 'AIDEN',\n",
       " 708: 'ALEXANDER',\n",
       " 709: 'ALI',\n",
       " 710: 'ALIJAH',\n",
       " 711: 'ALVIN',\n",
       " 712: 'AMADOU',\n",
       " 713: \"AMAR'E\",\n",
       " 714: 'AMARE',\n",
       " 715: 'AMARI',\n",
       " 716: 'AMIR',\n",
       " 717: 'ANDRE',\n",
       " 718: 'ANDREW',\n",
       " 719: 'ANGEL',\n",
       " 720: 'ANTHONY',\n",
       " 721: 'ANTONIO',\n",
       " 722: 'ASHTON',\n",
       " 723: 'AUSTIN',\n",
       " 724: 'AVERY',\n",
       " 725: 'AYDEN',\n",
       " 726: 'BENJAMIN',\n",
       " 727: 'BLAKE',\n",
       " 728: 'BRANDON',\n",
       " 729: 'BRIAN',\n",
       " 730: 'BRYAN',\n",
       " 731: 'BRYCE',\n",
       " 732: 'BRYSON',\n",
       " 733: 'CALEB',\n",
       " 734: 'CAMERON',\n",
       " 735: 'CARMELO',\n",
       " 736: 'CARTER',\n",
       " 737: 'CAYDEN',\n",
       " 738: 'CHAD',\n",
       " 739: 'CHANCE',\n",
       " 740: 'CHARLES',\n",
       " 741: 'CHASE',\n",
       " 742: 'CHRIS',\n",
       " 743: 'CHRISTIAN',\n",
       " 744: 'CHRISTOPHER',\n",
       " 745: 'CODY',\n",
       " 746: 'COREY',\n",
       " 747: 'DANIEL',\n",
       " 748: 'DARIUS',\n",
       " 749: 'DARREN',\n",
       " 750: 'DAVID',\n",
       " 751: 'DERRICK',\n",
       " 752: 'DEVIN',\n",
       " 753: 'DEVON',\n",
       " 754: 'DOMINIC',\n",
       " 755: 'DONOVAN',\n",
       " 756: 'DWAYNE',\n",
       " 757: 'DYLAN',\n",
       " 758: 'EDWARD',\n",
       " 759: 'ELI',\n",
       " 760: 'ELIAS',\n",
       " 761: 'ELIJAH',\n",
       " 762: 'EMMANUEL',\n",
       " 763: 'ERIC',\n",
       " 764: 'ETHAN',\n",
       " 765: 'EVAN',\n",
       " 766: 'GABRIEL',\n",
       " 767: 'GAVIN',\n",
       " 768: 'GEORGE',\n",
       " 769: 'GIOVANNI',\n",
       " 770: 'HASSAN',\n",
       " 771: 'HAYDEN',\n",
       " 772: 'HUNTER',\n",
       " 773: 'IAN',\n",
       " 774: 'SERENA',\n",
       " 775: 'IBRAHIMA',\n",
       " 776: 'ISAAC',\n",
       " 777: 'ISAIAH',\n",
       " 778: 'ISHMAEL',\n",
       " 779: 'ISIAH',\n",
       " 780: 'JACE',\n",
       " 781: 'JACKSON',\n",
       " 782: 'JACOB',\n",
       " 783: 'JADEN',\n",
       " 784: 'JAHEIM',\n",
       " 785: 'JAHMIR',\n",
       " 786: 'JAIDEN',\n",
       " 787: 'JALEN',\n",
       " 788: 'JAMAL',\n",
       " 789: 'JAMEL',\n",
       " 790: 'JAMES',\n",
       " 791: 'JAMIR',\n",
       " 792: 'JARED',\n",
       " 793: 'JASIAH',\n",
       " 794: 'JASON',\n",
       " 795: 'JAYDEN',\n",
       " 796: 'JAYLEN',\n",
       " 797: 'JAYSON',\n",
       " 798: 'JELANI',\n",
       " 799: 'JEREMIAH',\n",
       " 800: 'JEREMY',\n",
       " 801: 'JERMAINE',\n",
       " 802: 'JESSE',\n",
       " 803: 'JOEL',\n",
       " 804: 'JOHN',\n",
       " 805: 'JONATHAN',\n",
       " 806: 'JORDAN',\n",
       " 807: 'JOSEPH',\n",
       " 808: 'JOSHUA',\n",
       " 809: 'JOSIAH',\n",
       " 810: 'SHAINA',\n",
       " 811: 'JUSTICE',\n",
       " 812: 'JUSTIN',\n",
       " 813: 'KADEN',\n",
       " 814: 'KAI',\n",
       " 815: 'KAIDEN',\n",
       " 816: 'KALEB',\n",
       " 817: 'KAMARI',\n",
       " 818: 'KAMERON',\n",
       " 819: 'KAYDEN',\n",
       " 820: 'KEITH',\n",
       " 821: 'KENNETH',\n",
       " 822: 'KEVIN',\n",
       " 823: 'KHALIL',\n",
       " 824: 'KING',\n",
       " 825: 'KIYAN',\n",
       " 826: 'KYLE',\n",
       " 827: 'KYMANI',\n",
       " 828: 'LAMAR',\n",
       " 829: 'LANDON',\n",
       " 830: 'LEVI',\n",
       " 831: 'LIAM',\n",
       " 832: 'LOGAN',\n",
       " 833: 'LUCAS',\n",
       " 834: 'MAKAI',\n",
       " 835: 'MALACHI',\n",
       " 836: 'MALCOLM',\n",
       " 837: 'MALIK',\n",
       " 838: 'MAMADOU',\n",
       " 839: 'MARC',\n",
       " 840: 'MARCUS',\n",
       " 841: 'MARQUIS',\n",
       " 842: 'MASON',\n",
       " 843: 'MATTHEW',\n",
       " 844: 'MAURICE',\n",
       " 845: 'MEKHI',\n",
       " 846: 'MESSIAH',\n",
       " 847: 'MICAH',\n",
       " 848: 'MICHAEL',\n",
       " 849: 'MILES',\n",
       " 850: 'MOHAMED',\n",
       " 851: 'MOHAMMED',\n",
       " 852: 'MOUSSA',\n",
       " 853: 'MYLES',\n",
       " 854: 'NANA',\n",
       " 855: 'NASIR',\n",
       " 856: 'NATHAN',\n",
       " 857: 'NATHANIEL',\n",
       " 858: 'NEHEMIAH',\n",
       " 859: 'NICHOLAS',\n",
       " 860: 'NICOLAS',\n",
       " 861: 'NIGEL',\n",
       " 862: 'NOAH',\n",
       " 863: 'OMAR',\n",
       " 864: 'OMARI',\n",
       " 865: 'OUSMANE',\n",
       " 866: 'PATRICK',\n",
       " 867: 'PRESTON',\n",
       " 868: 'PRINCE',\n",
       " 869: 'QUINCY',\n",
       " 870: 'RICARDO',\n",
       " 871: 'RICHARD',\n",
       " 872: 'ROBERT',\n",
       " 873: 'RODNEY',\n",
       " 874: 'RYAN',\n",
       " 875: 'SAMUEL',\n",
       " 876: 'SEAN',\n",
       " 877: 'SEBASTIAN',\n",
       " 878: 'SEKOU',\n",
       " 879: 'SETH',\n",
       " 880: 'SHAINDEL',\n",
       " 881: 'SINCERE',\n",
       " 882: 'STEPHEN',\n",
       " 883: 'STEVEN',\n",
       " 884: 'TERRELL',\n",
       " 885: 'TERRENCE',\n",
       " 886: 'TIMOTHY',\n",
       " 887: 'TRAVIS',\n",
       " 888: 'TRISTAN',\n",
       " 889: 'TROY',\n",
       " 890: 'TYLER',\n",
       " 891: 'VICTOR',\n",
       " 892: 'WILLIAM',\n",
       " 893: 'XAVIER',\n",
       " 894: 'ZACHARY',\n",
       " 895: 'ZAIRE',\n",
       " 896: 'ZION',\n",
       " 897: 'ZYAIRE',\n",
       " 898: 'AARON',\n",
       " 899: 'ABDIEL',\n",
       " 900: 'ABEL',\n",
       " 901: 'ABRAHAM',\n",
       " 902: 'ADAM',\n",
       " 903: 'ADEN',\n",
       " 904: 'ADONIS',\n",
       " 905: 'ADRIAN',\n",
       " 906: 'ADRIEL',\n",
       " 907: 'AIDAN',\n",
       " 908: 'AIDEN',\n",
       " 909: 'ALAN',\n",
       " 910: 'ALBERT',\n",
       " 911: 'ALBERTO',\n",
       " 912: 'ALDO',\n",
       " 913: 'ALEJANDRO',\n",
       " 914: 'ALEX',\n",
       " 915: 'ALEXANDER',\n",
       " 916: 'ALEXIS',\n",
       " 917: 'ALFREDO',\n",
       " 918: 'ALLAN',\n",
       " 919: 'ALLEN',\n",
       " 920: 'ALVIN',\n",
       " 921: 'AMIR',\n",
       " 922: 'ANDERSON',\n",
       " 923: 'ANDRE',\n",
       " 924: 'ANDRES',\n",
       " 925: 'ANDREW',\n",
       " 926: 'ANDY',\n",
       " 927: 'ANGEL',\n",
       " 928: 'ANGELO',\n",
       " 929: 'ANTHONY',\n",
       " 930: 'ANTONIO',\n",
       " 931: 'ARIEL',\n",
       " 932: 'ARMANDO',\n",
       " 933: 'ARMANI',\n",
       " 934: 'ARTURO',\n",
       " 935: 'ASHTON',\n",
       " 936: 'AUSTIN',\n",
       " 937: 'AVERY',\n",
       " 938: 'AXEL',\n",
       " 939: 'AYDEN',\n",
       " 940: 'BENJAMIN',\n",
       " 941: 'BRADLEY',\n",
       " 942: 'BRANDON',\n",
       " 943: 'BRAYAN',\n",
       " 944: 'BRAYDEN',\n",
       " 945: 'Jason',\n",
       " 946: 'BRYAN',\n",
       " 947: 'BRYANT',\n",
       " 948: 'BRYCE',\n",
       " 949: 'BYRON',\n",
       " 950: 'CALEB',\n",
       " 951: 'CAMERON',\n",
       " 952: 'CARLOS',\n",
       " 953: 'CARMELO',\n",
       " 954: 'CESAR',\n",
       " 955: 'ABIGAIL',\n",
       " 956: 'ADA',\n",
       " 957: 'AISHA',\n",
       " 958: 'AIZA',\n",
       " 959: 'ALEENA',\n",
       " 960: 'ALEXA',\n",
       " 961: 'ALEXANDRA',\n",
       " 962: 'ALICE',\n",
       " 963: 'ALINA',\n",
       " 964: 'ALISHA',\n",
       " 965: 'ALIYAH',\n",
       " 966: 'ALLISON',\n",
       " 967: 'ALYSSA',\n",
       " 968: 'AMANDA',\n",
       " 969: 'AMBER',\n",
       " 970: 'AMELIA',\n",
       " 971: 'AMY',\n",
       " 972: 'ANGEL',\n",
       " 973: 'ANGELA',\n",
       " 974: 'ANGELINA',\n",
       " 975: 'ANGIE',\n",
       " 976: 'ANIKA',\n",
       " 977: 'ANNA',\n",
       " 978: 'ANNABELLE',\n",
       " 979: 'ANNIE',\n",
       " 980: 'ARIA',\n",
       " 981: 'ARIANA',\n",
       " 982: 'ARIANNA',\n",
       " 983: 'ARYA',\n",
       " 984: 'ASHLEY',\n",
       " 985: 'AUDREY',\n",
       " 986: 'AVA',\n",
       " 987: 'AYESHA',\n",
       " 988: 'BELLA',\n",
       " 989: 'BONNIE',\n",
       " 990: 'BRIANNA',\n",
       " 991: 'CATHERINE',\n",
       " 992: 'CECILIA',\n",
       " 993: 'CHARLOTTE',\n",
       " 994: 'CHLOE',\n",
       " 995: 'CHRISTINA',\n",
       " 996: 'CHRISTINE',\n",
       " 997: 'CHRISTY',\n",
       " 998: 'CINDY',\n",
       " 999: 'CLAIRE',\n",
       " ...}"
      ]
     },
     "execution_count": 97,
     "metadata": {},
     "output_type": "execute_result"
    }
   ],
   "source": [
    "# careful - prohibit duplicate keys (need to be unique index value)\n",
    "baby_names[\"Child's First Name\"].to_dict()"
   ]
  },
  {
   "cell_type": "code",
   "execution_count": 98,
   "id": "b80110d4",
   "metadata": {},
   "outputs": [
    {
     "data": {
      "text/plain": [
       "'a | b | c'"
      ]
     },
     "execution_count": 98,
     "metadata": {},
     "output_type": "execute_result"
    }
   ],
   "source": [
    "' | '.join(['a', 'b', 'c'])"
   ]
  },
  {
   "cell_type": "code",
   "execution_count": 99,
   "id": "d620430b",
   "metadata": {},
   "outputs": [
    {
     "data": {
      "text/plain": [
       "0        GERALDINE\n",
       "1              GIA\n",
       "2           GIANNA\n",
       "3          GISELLE\n",
       "4            GRACE\n",
       "           ...    \n",
       "49504         Nala\n",
       "49505      Royalty\n",
       "49506      Sariyah\n",
       "49507       Simone\n",
       "49508        Zahra\n",
       "Name: Child's First Name, Length: 49509, dtype: object"
      ]
     },
     "execution_count": 99,
     "metadata": {},
     "output_type": "execute_result"
    }
   ],
   "source": [
    "# Sort, duplicate remove, and capital letter 1st\n",
    "baby_names[\"Child's First Name\"]"
   ]
  },
  {
   "cell_type": "code",
   "execution_count": 100,
   "id": "c2be73b5",
   "metadata": {},
   "outputs": [
    {
     "data": {
      "text/plain": [
       "\"GERALDINE, GIA, GIANNA, GISELLE, GRACE, GUADALUPE, HAILEY, HALEY, HANNAH, HAYLEE, HAYLEY, HAZEL, HEAVEN, HEIDI, HEIDY, HELEN, IMANI, INGRID, IRENE, IRIS, ISABEL, ISABELA, ISABELLA, ISABELLE, ISIS, ITZEL, IZABELLA, JACQUELINE, JADA, JADE, JAELYNN, JAMIE, JANELLE, JASLENE, JASMIN, JASMINE, JAYDA, JAYLA, JAYLAH, JAYLEEN, JAYLENE, JAYLIN, JAYLYN, JAZLYN, JAZMIN, JAZMINE, JENNIFER, JESSICA, JIMENA, JOCELYN, JOHANNA, JOSELYN, JULIA, JULIANA, JULIANNA, JULIET, JULIETTE, JULISSA, KAELYN, KAILEY, KAILYN, KAITLYN, KAMILA, KAREN, KARLA, KATE, KATELYN, KATELYNN, KATHERINE, KATIE, KAYLA, KAYLEE, KAYLEEN, KAYLEIGH, KAYLIE, KAYLIN, KEILY, KELLY, KEYLA, KHLOE, KIARA, KIMBERLY, KRYSTAL, KYLEE, KYLIE, LAILA, LAURA, LAUREN, LAYLA, LEA, LEAH, LEILA, LEILANI, LESLEY, LESLIE, LESLY, LEYLA, LIA, LIANA, LILIANA, LILY, LINDSAY, LIZBETH, LONDON, LUCIA, LUNA, LUZ, MADELINE, MADELYN, MADISON, MAKAYLA, MARIA, MARIAH, MARIANA, MARILYN, MARISOL, MAYA, MEGAN, MELANIE, MELANY, MELISSA, MELODY, MIA, MIAH, MICHELLE, MIKAELA, MIKAYLA, MILA, MILEY, MIRANDA, MIRIAM, MYA, NADIA, NANCY, NAOMI, NATALIA, NATALIE, NATALY, NATASHA, NATHALIA, NATHALIE, NATHALY, NAYELI, NEVAEH, NICOLE, NINA, NOEMI, NYLA, OLIVIA, PAOLA, PENELOPE, PERLA, RACHEL, RAQUEL, REBECCA, RIHANNA, RILEY, ROSA, ROSE, ROSELYN, RUBY, SABRINA, SADIE, SAMANTHA, SAMARA, SARA, SARAH, SARAI, SARIAH, SASHA, SAVANNA, SAVANNAH, SCARLET, SCARLETT, SELENA, SERENITY, SHERLYN, SHIRLEY, SIENNA, SKYLA, SKYLAR, SOFIA, SOPHIA, SOPHIE, STACY, STELLA, STEPHANIE, STEPHANY, TATIANA, TAYLOR, TIANA, TIFFANY, VALENTINA, VALERIA, VALERIE, VANESSA, VERONICA, VICTORIA, VIOLET, VIVIANA, WENDY, XIMENA, YAMILET, YARETZI, ZOE, ZOEY, ABIGAIL, ADDISON, ADELE, ADELINE, ADINA, ADRIANA, ADRIANNA, AHUVA, ALESSANDRA, ALESSIA, ALEXA, ALEXANDRA, ALEXIS, ALICE, ALICIA, ALINA, ALISA, ALIZA, ALLISON, ALYSSA, AMANDA, AMELIA, AMELIE, AMINA, AMIRA, AMY, ANASTASIA, ANGELICA, ANGELINA, ANNA, ANNABEL, ANNABELLE, ARIANA, ARIANNA, ARIEL, ARIELA, ARIELLA, ASHLEY, ATARA, AUBREY, AUDREY, AUTUMN, AVA, AVERY, AVIGAIL, AVIVA, AYLA, BAILA, BARBARA, BATSHEVA, BATYA, BEATRICE, BELLA, BIANCA, BLAKE, BLIMA, BLIMY, BRACHA, BREINDY, BRIANNA, BRIDGET, BROOKE, BROOKLYN, BRUCHA, BRUCHY, BRYNN, CAITLIN, CAMERON, CAROLINE, CASEY, CATHERINE, CECILIA, CELIA, CHANA, CHANY, CHARLIE, CHARLOTTE, CHAVA, CHAVY, CHAYA, CHLOE, CHRISTINA, CLAIRE, CLARA, COLETTE, CORA, DAHLIA, DAISY, DALIA, DANIELA, DANIELLA, DANIELLE, DEVORA, DEVORAH, DIANA, DINA, DYLAN, EDEN, ELEANOR, ELENA, ELIANA, ELISE, ELISHEVA, ELIZA, ELIZABETH, ELLA, ELLE, ELLIANA, ELLIE, ELOISE, EMERSON, EMILIA, EMILY, EMMA, ERIN, ESTER, ESTHER, ESTY, ETTY, EVA, EVE, EVELYN, FAIGA, FAIGY, FINLEY, FIONA, FRADEL, FRAIDY, FRANCESCA, FRIMET, GABRIELA, GABRIELLA, GABRIELLE, GEMMA, GENEVIEVE, GEORGIA, GIA, GIANNA, GIOVANNA, GITTEL, GITTY, GIULIANA, GOLDA, GOLDY, GRACE, GRETA, HADASSA, HADASSAH, HAILEY, HANNA, HANNAH, HARPER, HAZEL, HENNY, HINDY, IDY, ILANA, Jared, ISABEL, ISABELLA, ISABELLE, ISLA, IVY, IZABELLA, JACQUELINE, JANE, JASMINE, JENNA, JESSICA, JORDYN, JOSEPHINE, JOYCE, JULIA, JULIANA, JULIANNA, JULIE, JULIET, JULIETTE, KAITLYN, ARELY, KATE, KATHERINE, KATHRYN, KAYLA, KAYLEE, KIRA, KYLIE, LAILA, LARA, LAURA, LAUREN, LAYLA, LEA, LEAH, LEILA, LENA, LEORA, LIA, LIANA, LIBA, LIBBY, LILA, LILAH, LILIANA, LILLIAN, LILLY, LILY, LINA, LOLA, LONDON, Jariel, LUCY, LYLA, MACKENZIE, MADELEINE, MADELINE, MADELYN, MADISON, MAEVE, MAKAYLA, MALAK, MALKA, MALKY, MARGARET, MARIA, MARIAM, MARY, MATILDA, MAYA, MELANIE, MIA, MICHAELA, MICHAL, MICHELLE, MIKAYLA, MILA, MILENA, MINDY, MIRI, MIRIAM, MOLLY, MORGAN, NAOMI, NATALIA, NATALIE, NECHAMA, NICOLE, NICOLETTE, NINA, NOA, NORA, OLIVIA, PAIGE, PARKER, PEARL, PENELOPE, PEREL, PESSY, PHOEBE, PIPER, QUINN, RACHEL, RAIZEL, RAIZY, REBECCA, REESE, RIFKA, RIFKY, RILEY, RIVKA, RIVKY, ROCHEL, ROIZY, ROSE, RUBY, RUCHY, RUTH, RYAN, SABRINA, SADIE, SALMA, SAMANTHA, SARA, SARAH, SASHA, SAVANNAH, SCARLETT, SERENA, SHAINA, SHAINDEL, SHAINDY, SHEVY, SHIFRA, SHIRA, SHOSHANA, SIENA, SIENNA, SIMA, SIMI, SIMONE, SKYLAR, SLOANE, SOFIA, SOPHIA, SOPHIE, STELLA, SUMMER, SURI, SURY, SYDNEY, SYLVIA, TALIA, TAMAR, TAYLOR, TESSA, TOBY, TZIPORA, TZIPORAH, TZIPPY, TZIVIA, VALENTINA, VALERIE, VANESSA, VERA, VERONICA, VERONIKA, VICTORIA, VIOLET, VIVIAN, VIVIENNE, WILLA, YACHET, YAEL, YASMINE, YEHUDIS, YIDES, YITTY, YOCHEVED, ZISSY, SCARLETT, ZOEY, AARAV, AARON, ABDUL, ABDULLAH, ADAM, ADITYA, ADRIAN, AHMED, AIDAN, AIDEN, ALAN, ALEX, ALEXANDER, ALI, ALLEN, ALVIN, ANDREW, ANDY, ANSON, ANTHONY, ARJUN, ARMAAN, ARYAN, AUSTIN, AYAAN, AYDEN, BENJAMIN, BENSON, BRANDON, BRIAN, BRYAN, CALEB, CALVIN, CARSON, CHARLES, CHRISTIAN, CHRISTOPHER, CODY, CONNOR, DANIEL, DANNY, DARREN, DAVID, DEREK, DEVIN, DYLAN, EASON, EDISON, EDWIN, ELIJAH, ELVIS, ERIC, ETHAN, EVAN, FARHAN, FELIX, GABRIEL, GAVIN, GEORGE, HARRISON, HAYDEN, HENRY, IAN, IBRAHIM, ISAAC, ISHAAN, IVAN, JACK, JACKSON, JACKY, JACOB, JADEN, JAKE, JAMES, JASON, JAY, JAYDEN, JEFFREY, JEREMY, JERRY, JIA, JOHN, JOHNNY, JONATHAN, JORDAN, JOSEPH, JOSHUA, JULIAN, JUSTIN, KAI, KEVIN, KINGSLEY, KYLE, LAWRENCE, LEO, LEON, LIAM, LOGAN, LOUIS, LUCAS, LUKE, MARCUS, MARTIN, MASON, MATTHEW, MAX, MICHAEL, MILES, MOHAMED, MOHAMMAD, MOHAMMED, MUHAMMAD, NATHAN, NATHANIEL, NELSON, NICHOLAS, NOAH, OLIVER, OSCAR, OWEN, PATRICK, PETER, RAYAN, RAYMOND, RICHARD, RICKY, ROHAN, RYAN, SAMUEL, SEAN, SEBASTIAN, SHAWN, SIMON, STANLEY, STEVEN, SYED, TENZIN, TERRY, THOMAS, TIMOTHY, TONY, TRAVIS, TYLER, VICTOR, VINCENT, WILLIAM, WILSON, XAVIER, ZACHARY, ZAIN, ZAYAN, AARON, ABDOUL, ABDOULAYE, ADAM, ADEN, ADONIS, ADRIAN, AHMED, AIDAN, AIDEN, ALEXANDER, ALI, ALIJAH, ALVIN, AMADOU, AMAR'E, AMARE, AMARI, AMIR, ANDRE, ANDREW, ANGEL, ANTHONY, ANTONIO, ASHTON, AUSTIN, AVERY, AYDEN, BENJAMIN, BLAKE, BRANDON, BRIAN, BRYAN, BRYCE, BRYSON, CALEB, CAMERON, CARMELO, CARTER, CAYDEN, CHAD, CHANCE, CHARLES, CHASE, CHRIS, CHRISTIAN, CHRISTOPHER, CODY, COREY, DANIEL, DARIUS, DARREN, DAVID, DERRICK, DEVIN, DEVON, DOMINIC, DONOVAN, DWAYNE, DYLAN, EDWARD, ELI, ELIAS, ELIJAH, EMMANUEL, ERIC, ETHAN, EVAN, GABRIEL, GAVIN, GEORGE, GIOVANNI, HASSAN, HAYDEN, HUNTER, IAN, SERENA, IBRAHIMA, ISAAC, ISAIAH, ISHMAEL, ISIAH, JACE, JACKSON, JACOB, JADEN, JAHEIM, JAHMIR, JAIDEN, JALEN, JAMAL, JAMEL, JAMES, JAMIR, JARED, JASIAH, JASON, JAYDEN, JAYLEN, JAYSON, JELANI, JEREMIAH, JEREMY, JERMAINE, JESSE, JOEL, JOHN, JONATHAN, JORDAN, JOSEPH, JOSHUA, JOSIAH, SHAINA, JUSTICE, JUSTIN, KADEN, KAI, KAIDEN, KALEB, KAMARI, KAMERON, KAYDEN, KEITH, KENNETH, KEVIN, KHALIL, KING, KIYAN, KYLE, KYMANI, LAMAR, LANDON, LEVI, LIAM, LOGAN, LUCAS, MAKAI, MALACHI, MALCOLM, MALIK, MAMADOU, MARC, MARCUS, MARQUIS, MASON, MATTHEW, MAURICE, MEKHI, MESSIAH, MICAH, MICHAEL, MILES, MOHAMED, MOHAMMED, MOUSSA, MYLES, NANA, NASIR, NATHAN, NATHANIEL, NEHEMIAH, NICHOLAS, NICOLAS, NIGEL, NOAH, OMAR, OMARI, OUSMANE, PATRICK, PRESTON, PRINCE, QUINCY, RICARDO, RICHARD, ROBERT, RODNEY, RYAN, SAMUEL, SEAN, SEBASTIAN, SEKOU, SETH, SHAINDEL, SINCERE, STEPHEN, STEVEN, TERRELL, TERRENCE, TIMOTHY, TRAVIS, TRISTAN, TROY, TYLER, VICTOR, WILLIAM, XAVIER, ZACHARY, ZAIRE, ZION, ZYAIRE, AARON, ABDIEL, ABEL, ABRAHAM, ADAM, ADEN, ADONIS, ADRIAN, ADRIEL, AIDAN, AIDEN, ALAN, ALBERT, ALBERTO, ALDO, ALEJANDRO, ALEX, ALEXANDER, ALEXIS, ALFREDO, ALLAN, ALLEN, ALVIN, AMIR, ANDERSON, ANDRE, ANDRES, ANDREW, ANDY, ANGEL, ANGELO, ANTHONY, ANTONIO, ARIEL, ARMANDO, ARMANI, ARTURO, ASHTON, AUSTIN, AVERY, AXEL, AYDEN, BENJAMIN, BRADLEY, BRANDON, BRAYAN, BRAYDEN, Jason, BRYAN, BRYANT, BRYCE, BYRON, CALEB, CAMERON, CARLOS, CARMELO, CESAR, ABIGAIL, ADA, AISHA, AIZA, ALEENA, ALEXA, ALEXANDRA, ALICE, ALINA, ALISHA, ALIYAH, ALLISON, ALYSSA, AMANDA, AMBER, AMELIA, AMY, ANGEL, ANGELA, ANGELINA, ANGIE, ANIKA, ANNA, ANNABELLE, ANNIE, ARIA, ARIANA, ARIANNA, ARYA, ASHLEY, AUDREY, AVA, AYESHA, BELLA, BONNIE, BRIANNA, CATHERINE, CECILIA, CHARLOTTE, CHLOE, CHRISTINA, CHRISTINE, CHRISTY, CINDY, CLAIRE, CYNTHIA, DAISY, DIYA, EILEEN, ELAINE, ELENA, ELINA, ELIZABETH, ELLA, EMILY, EMMA, ERICA, ERIKA, ERIN, ESHAL, EVA, EVELYN, FATIMA, FIONA, GIANNA, GRACE, HAILEY, HANNAH, HELEN, IRENE, IRIS, ISABEL, ISABELLA, ISABELLE, IVY, JANICE, JANNAT, JASMINE, JENNIFER, JENNY, JESSICA, JESSIE, JIA, JOANNA, JOCELYN, JOY, JOYCE, JULIA, KAITLYN, KAREN, KATE, KATELYN, KATHERINE, KATIE, KAYLA, KAYLEE, KELLY, SHAINDY, KYLIE, LAUREN, LEAH, LEELA, LILLIAN, LILY, MADISON, MAGGIE, MANDY, MARYAM, MAYA, MEGAN, MELODY, MIA, MICHELLE, MILA, MINA, NATALIE, NICOLE, NINA, OLIVIA, PHOEBE, QUEENIE, RACHEL, RAINA, REBECCA, RENEE, SABRINA, SAMANTHA, SARA, SARAH, SELENA, SELINA, SERENA, SHARON, SHIRLEY, SOFIA, SOPHIA, SOPHIE, STELLA, STEPHANIE, SYEDA, TANISHA, TENZIN, TIFFANY, TINA, VANESSA, VICKY, SHEVY, VIVIAN, WENDY, WINNIE, XIN, YU, ZAHRA, ZAINAB, ZARA, ZOE, AALIYAH, ABIGAIL, ADDISON, AICHA, AISHA, AISSATOU, ALANA, ALEXIS, ALICIA, ALIYAH, ALYSSA, AMANDA, AMANI, AMAYA, AMBER, AMELIA, AMINA, AMINATA, AMIRA, AMIRAH, AMIYAH, ANAYA, ANGEL, ANGELINA, ANIYA, ANIYAH, ARIA, ARIANA, ARIANNA, ARIEL, ARIELLE, ASHLEY, AUBREY, AUTUMN, AVA, BRIANNA, BRIELLE, BROOKE, CAMILLE, CHELSEA, CHEYENNE, CHLOE, CHRISTINA, DAKOTA, DANIELLE, DESTINY, DYLAN, EDEN, EGYPT, SHIFRA, EMILY, EMMA, ERIN, ESSENCE, EVA, FAITH, FANTA, FATIMA, FATOU, FATOUMATA, GABRIELLA, GABRIELLE, GENESIS, GRACE, HAILEY, SHIRA, HARMONY, HAWA, HEAVEN, IMANI, ISABELLA, JADA, JADE, JALIYAH, JANELLE, Javier, JANIYA, JANIYAH, JASMINE, JAYDA, JAYLA, JORDYN, JULIA, KAI, KAITLYN, KALIYAH, KAMIYAH, KAYLA, KAYLEE, KELSEY, KENDRA, KENNEDY, KENYA, KHLOE, KIARA, KIMORA, KYLA, KYLIE, LAILA, LAUREN, LAYLA, LEAH, LEILANI, LONDON, LONDYN, LYRIC, MACKENZIE, MADISON, MAKAYLA, MALIA, MALIYAH, MARIAH, MARIAM, MARIAMA, MARYAM, MAYA, MCKENZIE, MELANIE, MIA, MICHELLE, MIKAYLA, MILAN, MORGAN, MYA, NADIA, NAHLA, NANA, NAOMI, NATALIA, Jaxon, NEVAEH, NIA, NYLA, NYLAH, OLIVIA, PAIGE, PARIS, PEYTON, PRINCESS, RACHEL, REBECCA, RILEY, SADE, SAMANTHA, SAMARA, SAMIYA, SAMIYAH, SANAA, SANAI, SANIYA, SANIYAH, SARAH, SARAI, SARIAH, SASHA, SAVANNAH, SERENITY, SHANIA, SHANIYA, SHILOH, SKYE, SKYLA, SKYLAR, SOPHIA, SORAYA, SUMMER, SYDNEY, SYMPHONY, TABITHA, TAMIA, TARAJI, TAYLOR, TIANA, TIANNA, TORI, TRINITY, VICTORIA, ZAHARA, ZANIYAH, ZARA, ZARIA, ZARIAH, ZOE, ZOEY, ZURI, AALIYAH, ABBY, ABIGAIL, ADRIANA, ADRIANNA, AILEEN, AIMEE, AISHA, ALANA, ALEJANDRA, ALESSANDRA, ALEXA, ALEXANDRA, ALICE, ALICIA, ALISON, ALISSON, ALIYAH, ALLISON, ALLYSON, ALONDRA, ALYSON, ALYSSA, AMANDA, AMAYA, AMBER, AMELIA, AMY, ANA, ANALIA, ANAYA, ANDREA, ANGELA, ANGELICA, ANGELINA, ANGELIQUE, ANGELY, ANGIE, ANIYAH, ANNA, ANNABELLE, APRIL, ARIANA, ARIANNA, ARIANNY, ARIEL, ARIELLA, ASHLEY, ASHLY, ATHENA, AUBREY, AURORA, AVA, AYLEEN, AYLIN, BELLA, BIANCA, BRENDA, BRIANA, BRIANNA, BRIANNY, BRIELLE, BRITNEY, BRITTANY, BRYANNA, CAMILA, CARMEN, CAROLINA, CAROLINE, CASSANDRA, CELESTE, CHARLOTTE, CHELSEA, CHLOE, SHOSHANA, CINDY, CLARA, CRISTINA, CRYSTAL, CYNTHIA, DAISY, DAMARIS, DANA, DANIELA, DANIELLA, SIENA, DANNA, DAYANA, DELILAH, DENISE, DESTINY, DIANA, DULCE, EILEEN, ELIANA, ELIANNA, ELIANNY, ELISA, ELIZABETH, ELLA, EMELY, EMILY, EMMA, ERIKA, ESMERALDA, ESTHER, ESTRELLA, EVA, EVELYN, FAITH, FATIMA, FERNANDA, GABRIELA, GABRIELLA, GABRIELLE, GENESIS, CHARLES, CHASE, CHRIS, CHRISTIAN, CHRISTOPHER, CRISTIAN, CRISTOFER, CRISTOPHER, DAMIAN, DAMIEN, DANIEL, DANNY, DANTE, DARIEL, DARWIN, SIENNA, DENNIS, DERECK, DEREK, DERICK, DEVIN, DIEGO, DOMINIC, DOMINICK, DYLAN, EDDIE, EDGAR, EDISON, EDUARDO, EDWARD, EDWIN, ELI, ELIAN, ELIAS, ELIJAH, ELVIS, EMANUEL, EMILIANO, EMILIO, EMMANUEL, ENRIQUE, ERIC, ERICK, ERIK, ESTEBAN, SIMA, EVAN, EZEKIEL, EZEQUIEL, FELIX, FERNANDO, FRANCISCO, FRANK, FRANKLIN, FREDDY, GABRIEL, GAEL, GAVIN, GEORGE, GERARDO, GIOVANI, GIOVANNI, GIOVANNY, GREGORY, GUSTAVO, HECTOR, HENRY, HUNTER, IAN, IKER, ISAAC, ISAIAH, ISMAEL, ISRAEL, IVAN, JACE, JACK, JACOB, JADEN, JADIEL, JAIDEN, JAIME, JAKE, JAMES, JANIEL, JANUEL, JARED, JARIEL, JASON, JAVIER, JAY, JAYCE, SIMI, JAYSON, JEAN, JEANCARLOS, JEFFERSON, JEFFREY, JENCARLOS, JEREMIAH, JEREMIAS, JEREMY, JERRY, JESSE, JESUS, JIMMY, JOAQUIN, JOEL, JOHAN, JOHANN, JOHN, JOHNATHAN, JOHNNY, JONAH, JONATHAN, SIMONE, JORGE, JOSE, JOSEPH, JOSHUA, JOSIAH, JOSUE, JUAN, JULIAN, JULIEN, JULIO, JULIUS, JUNIOR, JUSTIN, KADEN, KAYDEN, KELVIN, KENNETH, KENNY, KEVIN, LANDON, LARRY, LEANDRO, LEO, LEONARDO, LEONEL, LIAM, LOGAN, LORENZO, LOUIS, LUCAS, LUIS, LUKAS, LUKE, MANUEL, MARCO, MARCOS, MARCUS, MARIO, MARK, MARLON, MARTIN, MARVIN, MASON, MATEO, MATHEW, MATIAS, MATTHEW, MAURICIO, MAX, MAXIMILIANO, MAXIMO, MAXIMUS, MELVIN, MICHAEL, MIGUEL, MIKE, MOISES, NATHAN, NATHANIEL, NELSON, NICHOLAS, NICOLAS, NOAH, NOEL, OLIVER, OMAR, OSCAR, OWEN, PABLO, PATRICK, PAUL, PEDRO, PETER, PRESTON, PRINCE, RAFAEL, RANDY, RAYMOND, RICARDO, RICHARD, RILEY, ROBERT, ROBERTO, RODRIGO, ROGER, ROMEO, ROYCE, RUBEN, RYAN, SAMUEL, SANTIAGO, SEAN, SEBASTIAN, SERGIO, SHANE, SHAWN, STEPHEN, STEVE, STEVEN, TAYLOR, THOMAS, TIMOTHY, TOMAS, TRAVIS, TRISTAN, TYLER, URIEL, VICTOR, VINCENT, WILLIAM, WILSON, XAVIER, YADIEL, YAHIR, YAIR, YANDEL, YANIEL, YARIEL, YERIK, ZACHARY, ZION, AARON, ABRAHAM, ADAM, ADRIAN, AHARON, AHMED, AHRON, AIDAN, AIDEN, AKIVA, ALAN, ALBERT, ALEC, ALEX, ALEXANDER, ALI, ALLEN, AMIR, AMROM, ANDREW, ANGELO, ANTHONY, ANTONIO, ARI, SKYLAR, ARON, ARTHUR, ARYEH, ASHER, ASHTON, AUGUST, AUGUSTUS, AUSTIN, AVI, AVRAHAM, AVROHOM, AVRUM, AYDEN, BARUCH, BECKETT, BEN, BENJAMIN, BENNETT, BENZION, BERISH, BINYOMIN, BLAKE, BORUCH, BRADY, BRANDON, BRAYDEN, BRENDAN, BRIAN, BRODY, BRYAN, BRYCE, CADEN, CALEB, CALVIN, SLOANE, CARMINE, CARTER, CHAIM, CHARLES, CHARLIE, SOFIA, CHESKEL, CHRISTIAN, CHRISTOPHER, COLE, COLIN, CONNOR, CONOR, COOPER, DANIEL, DASHIELL, DAVID, DEAN, DECLAN, DENNIS, DEREK, DEVIN, DOMINIC, DOMINICK, DOV, DOVID, SOPHIA, EDWARD, EFRAIM, EITAN, ELI, ELIAS, ELIEZER, ELIJAH, ELIMELECH, ELIYAHU, ELLIOT, ELLIOTT, ELLIS, ERIC, ETHAN, EVAN, EZRA, FELIX, FILIP, FINN, FRANCESCO, FRANK, GABRIEL, GAVIN, GAVRIEL, GEORGE, GIOVANNI, GRAHAM, GRANT, GRAYSON, GREGORY, GREYSON, GRIFFIN, HARRISON, HARRY, HENRY, HERSH, HERSHEL, HERSHY, HUDSON, HUGO, HUNTER, IAN, ILAN, ISAAC, ISAIAH, ISRAEL, IVAN, JACK, JACKSON, SOPHIE, JAKE, JAMES, JASON, JASPER, JAYDEN, JESSE, JOEL, JOHN, JONAH, JONATHAN, JORDAN, JOSEPH, JOSHUA, JUDAH, JUDE, JULIAN, JUSTIN, KACPER, KAI, KENNETH, KEVIN, KIERAN, KYLE, LANDON, LAZER, LEO, LEON, LEONARDO, LEV, LEVI, LIAM, LIPA, STELLA, LORENZO, LOUIS, LUCA, LUCAS, LUKA, LUKAS, LUKE, MAKSIM, MARC, MARCO, MARCUS, MARK, MARTIN, MASON, MATEO, MATTEO, MATTHEW, MAX, MAXIM, MAXIMILIAN, MAXIMUS, MAXWELL, MAYER, MEILECH, MEIR, MENACHEM, MENASHE, MENDEL, MENDY, MICAH, MICHAEL, MILES, MILO, MOHAMED, MOHAMMED, MOISHE, MORDECHAI, MORRIS, MOSES, MOSHE, NAFTALI, NAFTULI, NATHAN, NATHANIEL, NICHOLAS, NICO, NICOLAS, NIKOLAS, NOAH, NOAM, NOLAN, NOSSON, OLIVER, OMAR, SUMMER, OWEN, PARKER, PATRICK, PAUL, PETER, PHILIP, PINCHAS, PINCHUS, QUINN, RAFAEL, RAPHAEL, RAYAN, REED, REID, RICHARD, RILEY, ROBERT, ROCCO, ROMAN, ROWAN, RYAN, RYDER, SALVATORE, SAM, SAMIR, SAMUEL, SANTINO, SEAN, SEBASTIAN, SHALOM, SHANE, SHAUL, SHAYA, SHEA, SHIA, SHIMON, SHLOIME, SHLOIMY, SHLOME, SHLOMO, SHMIEL, SHMUEL, SHNEUR, SHOLOM, SHULEM, SIDNEY, SILAS, SIMCHA, SIMON, SOLOMON, SPENCER, STEPHEN, STEVEN, THEODORE, THOMAS, TIMOTHY, TRISTAN, TYLER, TZVI, USHER, VICTOR, VINCENT, VINCENZO, WESLEY, WILLIAM, WYATT, XAVIER, YAAKOV, YAKOV, YASEEN, YECHEZKEL, YECHIEL, YEHOSHUA, YEHUDA, YEHUDAH, YIDA, YIDEL, YISRAEL, YISROEL, YITZCHAK, YITZCHOK, YOEL, YONAH, YOSEF, YOUSEF, YOUSSEF, ZACHARY, ZALMEN, ZEV, SURI, SURY, SYDNEY, SYLVIA, TALIA, TAMAR, TAYLOR, TESSA, TOBY, TZIPORA, TZIPORAH, TZIPPY, TZIVIA, VALENTINA, VALERIE, VANESSA, VERA, VERONICA, VERONIKA, VICTORIA, VIOLET, VIVIAN, VIVIENNE, WILLA, YACHET, YAEL, YASMINE, YEHUDIS, YIDES, YITTY, YOCHEVED, ZISSY, ZOE, ZOEY, AARAV, AARON, ABDUL, ABDULLAH, ADAM, ADITYA, ADRIAN, AHMED, AIDAN, AIDEN, ALAN, ALEX, ALEXANDER, ALI, ALLEN, ALVIN, ANDREW, ANDY, ANSON, ANTHONY, ARJUN, ARMAAN, ARYAN, AUSTIN, AYAAN, AYDEN, BENJAMIN, BENSON, BRANDON, BRIAN, BRYAN, CALEB, CALVIN, CARSON, CHARLES, CHRISTIAN, CHRISTOPHER, CODY, CONNOR, DANIEL, DANNY, DARREN, DAVID, DEREK, DEVIN, DYLAN, EASON, EDISON, EDWIN, ELIJAH, ELVIS, ERIC, ETHAN, EVAN, FARHAN, FELIX, GABRIEL, GAVIN, GEORGE, HARRISON, HAYDEN, HENRY, IAN, IBRAHIM, ISAAC, ISHAAN, IVAN, JACK, JACKSON, JACKY, JACOB, JADEN, JAKE, JAMES, JASON, JAY, JAYDEN, JEFFREY, JEREMY, JERRY, JIA, JOHN, JOHNNY, JONATHAN, JORDAN, JOSEPH, JOSHUA, JULIAN, JUSTIN, KAI, KEVIN, KINGSLEY, KYLE, LAWRENCE, LEO, LEON, LIAM, LOGAN, LOUIS, LUCAS, LUKE, MARCUS, MARTIN, MASON, MATTHEW, MAX, MICHAEL, MILES, MOHAMED, MOHAMMAD, MOHAMMED, MUHAMMAD, NATHAN, NATHANIEL, NELSON, NICHOLAS, NOAH, OLIVER, OSCAR, OWEN, PATRICK, PETER, RAYAN, RAYMOND, RICHARD, RICKY, ROHAN, RYAN, SAMUEL, SEAN, SEBASTIAN, SHAWN, SIMON, STANLEY, STEVEN, SYED, TENZIN, TERRY, THOMAS, TIMOTHY, TONY, TRAVIS, TYLER, VICTOR, VINCENT, WILLIAM, WILSON, XAVIER, ZACHARY, ZAIN, ZAYAN, AARON, ABDOUL, ABDOULAYE, ADAM, ADEN, ADONIS, ADRIAN, AHMED, AIDAN, AIDEN, ALEXANDER, ALI, ALIJAH, ALVIN, AMADOU, AMAR'E, AMARE, AMARI, AMIR, ANDRE, ANDREW, ANGEL, ANTHONY, ANTONIO, ASHTON, Jay, AUSTIN, AVERY, AYDEN, BENJAMIN, BLAKE, BRANDON, BRIAN, BRYAN, BRYCE, BRYSON, CALEB, CAMERON, CARMELO, CARTER, CAYDEN, CHAD, CHANCE, CHARLES, CHASE, CHRIS, CHRISTIAN, CHRISTOPHER, CODY, COREY, DANIEL, DARIUS, DARREN, DAVID, DERRICK, DEVIN, DEVON, DOMINIC, DONOVAN, DWAYNE, DYLAN, EDWARD, ELI, ELIAS, ELIJAH, EMMANUEL, ERIC, ETHAN, EVAN, GABRIEL, GAVIN, GEORGE, GIOVANNI, HASSAN, HAYDEN, HUNTER, IAN, IBRAHIM, IBRAHIMA, ISAAC, ISAIAH, ISHMAEL, ISIAH, JACE, JACKSON, JACOB, JADEN, JAHEIM, JAHMIR, JAIDEN, JALEN, JAMAL, JAMEL, JAMES, JAMIR, JARED, JASIAH, JASON, JAYDEN, JAYLEN, JAYSON, JELANI, JEREMIAH, JEREMY, JERMAINE, JESSE, JOEL, JOHN, JONATHAN, JORDAN, JOSEPH, JOSHUA, JOSIAH, JULIAN, JUSTICE, JUSTIN, KADEN, KAI, KAIDEN, KALEB, KAMARI, KAMERON, KAYDEN, KEITH, KENNETH, KEVIN, KHALIL, KING, KIYAN, KYLE, KYMANI, LAMAR, LANDON, LEVI, LIAM, LOGAN, LUCAS, MAKAI, MALACHI, MALCOLM, MALIK, MAMADOU, MARC, MARCUS, MARQUIS, MASON, MATTHEW, MAURICE, MEKHI, MESSIAH, MICAH, MICHAEL, MILES, MOHAMED, MOHAMMED, MOUSSA, MYLES, NANA, NASIR, NATHAN, NATHANIEL, NEHEMIAH, NICHOLAS, NICOLAS, NIGEL, NOAH, OMAR, OMARI, OUSMANE, PATRICK, PRESTON, PRINCE, QUINCY, RICARDO, RICHARD, ROBERT, RODNEY, RYAN, SAMUEL, SEAN, SEBASTIAN, SEKOU, SETH, SHAWN, SINCERE, STEPHEN, STEVEN, TERRELL, TERRENCE, TIMOTHY, TRAVIS, TRISTAN, TROY, TYLER, VICTOR, WILLIAM, XAVIER, ZACHARY, ZAIRE, ZION, ZYAIRE, AARON, ABDIEL, ABEL, ABRAHAM, ADAM, ADEN, ADONIS, ADRIAN, ADRIEL, AIDAN, AIDEN, ALAN, ALBERT, ALBERTO, ALDO, ALEJANDRO, ALEX, ALEXANDER, ALEXIS, ALFREDO, ALLAN, ALLEN, ALVIN, AMIR, ANDERSON, ANDRE, ANDRES, ANDREW, ANDY, ANGEL, ANGELO, ANTHONY, ANTONIO, ARIEL, ARMANDO, ARMANI, ARTURO, ASHTON, AUSTIN, AVERY, AXEL, AYDEN, BENJAMIN, BRADLEY, BRANDON, BRAYAN, BRAYDEN, BRIAN, BRYAN, BRYANT, BRYCE, BYRON, CALEB, CAMERON, CARLOS, CARMELO, CESAR, ABIGAIL, ADA, AISHA, AIZA, ALEENA, ALEXA, ALEXANDRA, ALICE, ALINA, ALISHA, ALIYAH, ALLISON, ALYSSA, AMANDA, AMBER, AMELIA, AMY, ANGEL, ANGELA, ANGELINA, ANGIE, ANIKA, ANNA, ANNABELLE, ANNIE, ARIA, ARIANA, ARIANNA, ARYA, ASHLEY, AUDREY, AVA, AYESHA, BELLA, BONNIE, BRIANNA, CATHERINE, CECILIA, CHARLOTTE, CHLOE, CHRISTINA, CHRISTINE, CHRISTY, CINDY, CLAIRE, CYNTHIA, DAISY, DIYA, EILEEN, ELAINE, ELENA, ELINA, ELIZABETH, ELLA, EMILY, EMMA, ERICA, ERIKA, ERIN, ESHAL, EVA, EVELYN, FATIMA, FIONA, GIANNA, GRACE, HAILEY, HANNAH, HELEN, IRENE, IRIS, ISABEL, ISABELLA, ISABELLE, IVY, JANICE, JANNAT, JASMINE, JENNIFER, JENNY, JESSICA, JESSIE, JIA, JOANNA, JOCELYN, JOY, JOYCE, JULIA, KAITLYN, KAREN, KATE, KATELYN, KATHERINE, KATIE, KAYLA, KAYLEE, KELLY, KHLOE, KYLIE, LAUREN, LEAH, LEELA, LILLIAN, LILY, MADISON, MAGGIE, MANDY, MARYAM, MAYA, MEGAN, MELODY, MIA, MICHELLE, MILA, MINA, NATALIE, NICOLE, NINA, OLIVIA, PHOEBE, QUEENIE, RACHEL, RAINA, REBECCA, RENEE, SABRINA, SAMANTHA, SARA, SARAH, SELENA, SELINA, SERENA, SHARON, SHIRLEY, SOFIA, SOPHIA, SOPHIE, STELLA, STEPHANIE, SYEDA, TANISHA, TENZIN, TIFFANY, TINA, VANESSA, VICKY, VICTORIA, VIVIAN, WENDY, WINNIE, XIN, YU, ZAHRA, ZAINAB, ZARA, ZOE, AALIYAH, ABIGAIL, ADDISON, AICHA, AISHA, AISSATOU, ALANA, ALEXIS, ALICIA, ALIYAH, ALYSSA, AMANDA, AMANI, AMAYA, AMBER, AMELIA, AMINA, AMINATA, AMIRA, AMIRAH, AMIYAH, ANAYA, ANGEL, ANGELINA, ANIYA, ANIYAH, ARIA, ARIANA, ARIANNA, ARIEL, ARIELLE, ASHLEY, AUBREY, AUTUMN, AVA, BRIANNA, BRIELLE, BROOKE, CAMILLE, CHELSEA, CHEYENNE, CHLOE, CHRISTINA, DAKOTA, DANIELLE, DESTINY, DYLAN, EDEN, EGYPT, ELIZABETH, EMILY, EMMA, ERIN, ESSENCE, EVA, FAITH, FANTA, FATIMA, FATOU, FATOUMATA, GABRIELLA, GABRIELLE, GENESIS, GRACE, HAILEY, HANNAH, HARMONY, HAWA, HEAVEN, IMANI, ISABELLA, JADA, JADE, JALIYAH, JANELLE, JANIYA, JANIYAH, JASMINE, JAYDA, JAYLA, JORDYN, JULIA, KAI, KAITLYN, KALIYAH, KAMIYAH, KAYLA, KAYLEE, KELSEY, KENDRA, KENNEDY, KENYA, KHLOE, KIARA, KIMORA, KYLA, KYLIE, LAILA, LAUREN, LAYLA, LEAH, LEILANI, LONDON, LONDYN, LYRIC, MACKENZIE, MADISON, MAKAYLA, MALIA, MALIYAH, MARIAH, MARIAM, MARIAMA, MARYAM, MAYA, MCKENZIE, MELANIE, MIA, MICHELLE, MIKAYLA, MILAN, MORGAN, MYA, NADIA, NAHLA, NANA, NAOMI, NATALIA, NATALIE, NEVAEH, NIA, NYLA, NYLAH, OLIVIA, PAIGE, PARIS, PEYTON, PRINCESS, RACHEL, REBECCA, RILEY, SADE, SAMANTHA, SAMARA, SAMIYA, SAMIYAH, SANAA, SANAI, SANIYA, SANIYAH, SARAH, SARAI, SARIAH, SASHA, SAVANNAH, SERENITY, SHANIA, SHANIYA, SHILOH, SKYE, SKYLA, SKYLAR, SOPHIA, SORAYA, SUMMER, SYDNEY, SYMPHONY, TABITHA, TAMIA, TARAJI, TAYLOR, TIANA, TIANNA, TORI, TRINITY, VICTORIA, ZAHARA, ZANIYAH, ZARA, ZARIA, ZARIAH, ZOE, ZOEY, ZURI, AALIYAH, ABBY, ABIGAIL, ADRIANA, ADRIANNA, AILEEN, AIMEE, AISHA, ALANA, ALEJANDRA, ALESSANDRA, ALEXA, ALEXANDRA, ALICE, ALICIA, ALISON, ALISSON, ALIYAH, ALLISON, ALLYSON, ALONDRA, ALYSON, ALYSSA, AMANDA, AMAYA, AMBER, AMELIA, AMY, ANA, ANALIA, ANAYA, ANDREA, ANGELA, ANGELICA, ANGELINA, ANGELIQUE, ANGELY, ANGIE, ANIYAH, ANNA, ANNABELLE, APRIL, ARELY, ARIANA, ARIANNA, ARIANNY, ARIEL, ARIELLA, ASHLEY, ASHLY, ATHENA, AUBREY, AURORA, AVA, AYLEEN, AYLIN, BELLA, BIANCA, BRENDA, BRIANA, BRIANNA, BRIANNY, BRIELLE, BRITNEY, BRITTANY, BRYANNA, CAMILA, CARMEN, CAROLINA, CAROLINE, CASSANDRA, CELESTE, CHARLOTTE, CHELSEA, CHLOE, CHRISTINA, CINDY, CLARA, CRISTINA, CRYSTAL, CYNTHIA, DAISY, DAMARIS, DANA, DANIELA, DANIELLA, DANIELLE, DANNA, DAYANA, DELILAH, DENISE, DESTINY, DIANA, DULCE, EILEEN, ELENA, ELIANA, ELIANNA, ELIANNY, ELISA, ELIZABETH, ELLA, EMELY, EMILY, EMMA, ERIKA, ESMERALDA, ESTHER, ESTRELLA, EVA, EVELYN, FAITH, FATIMA, FERNANDA, GABRIELA, GABRIELLA, GABRIELLE, GENESIS, GERALDINE, GIA, GIANNA, GISELLE, GRACE, GUADALUPE, HAILEY, HALEY, HANNAH, HAYLEE, HAYLEY, HAZEL, HEAVEN, HEIDI, HEIDY, HELEN, IMANI, INGRID, IRENE, IRIS, ISABEL, ISABELA, ISABELLA, ISABELLE, ISIS, ITZEL, IZABELLA, JACQUELINE, JADA, JADE, JAELYNN, JAMIE, JANELLE, JASLENE, JASMIN, JASMINE, JAYDA, JAYLA, JAYLAH, JAYLEEN, JAYLENE, JAYLIN, JAYLYN, JAZLYN, JAZMIN, JAZMINE, JENNIFER, JESSICA, JIMENA, JOCELYN, JOHANNA, JOSELYN, JULIA, JULIANA, JULIANNA, JULIET, JULIETTE, JULISSA, KAELYN, KAILEY, KAILYN, KAITLYN, KAMILA, KAREN, KARLA, KATE, KATELYN, KATELYNN, KATHERINE, KATIE, KAYLA, KAYLEE, KAYLEEN, KAYLEIGH, KAYLIE, KAYLIN, KEILY, KELLY, KEYLA, KHLOE, KIARA, KIMBERLY, KRYSTAL, KYLEE, KYLIE, LAILA, LAURA, LAUREN, LAYLA, LEA, LEAH, LEILA, LEILANI, LESLEY, LESLIE, LESLY, LEYLA, LIA, LIANA, LILIANA, LILY, LINDSAY, LIZBETH, LONDON, LUCIA, LUNA, LUZ, MADELINE, MADELYN, MADISON, MAKAYLA, MARIA, MARIAH, MARIANA, MARILYN, MARISOL, MAYA, MEGAN, MELANIE, MELANY, MELISSA, MELODY, MIA, MIAH, MICHELLE, MIKAELA, MIKAYLA, MILA, MILEY, MIRANDA, MIRIAM, MYA, NADIA, NANCY, NAOMI, NATALIA, NATALIE, NATALY, NATASHA, NATHALIA, NATHALIE, NATHALY, NAYELI, NEVAEH, NICOLE, NINA, NOEMI, NYLA, OLIVIA, PAOLA, PENELOPE, PERLA, RACHEL, RAQUEL, REBECCA, RIHANNA, RILEY, ROSA, ROSE, ROSELYN, RUBY, SABRINA, SADIE, SAMANTHA, SAMARA, SARA, SARAH, SARAI, SARIAH, SASHA, SAVANNA, SAVANNAH, SCARLET, SCARLETT, SELENA, SERENITY, SHERLYN, SHIRLEY, SIENNA, SKYLA, SKYLAR, SOFIA, SOPHIA, SOPHIE, STACY, STELLA, STEPHANIE, STEPHANY, TATIANA, TAYLOR, TIANA, TIFFANY, VALENTINA, VALERIA, VALERIE, VANESSA, VERONICA, VICTORIA, VIOLET, VIVIANA, WENDY, XIMENA, YAMILET, YARETZI, ZOE, ZOEY, ABIGAIL, ADDISON, ADELE, ADELINE, ADINA, ADRIANA, ADRIANNA, AHUVA, ALESSANDRA, ALESSIA, ALEXA, ALEXANDRA, ALEXIS, ALICE, ALICIA, ALINA, ALISA, ALIZA, ALLISON, ALYSSA, AMANDA, AMELIA, AMELIE, AMINA, AMIRA, AMY, ANASTASIA, ANGELICA, ANGELINA, ANNA, ANNABEL, ANNABELLE, ARIANA, ARIANNA, ARIEL, ARIELA, ARIELLA, ASHLEY, ATARA, AUBREY, AUDREY, AUTUMN, AVA, AVERY, AVIGAIL, AVIVA, AYLA, BAILA, BARBARA, BATSHEVA, BATYA, BEATRICE, BELLA, BIANCA, BLAKE, BLIMA, BLIMY, BRACHA, BREINDY, BRIANNA, BRIDGET, BROOKE, BROOKLYN, BRUCHA, BRUCHY, BRYNN, CAITLIN, CAMERON, CAROLINE, CASEY, CATHERINE, CECILIA, CELIA, CHANA, CHANY, CHARLIE, CHARLOTTE, CHAVA, CHAVY, CHAYA, CHLOE, CHRISTINA, CLAIRE, CLARA, COLETTE, CORA, DAHLIA, DAISY, DALIA, DANIELA, DANIELLA, DANIELLE, DEVORA, DEVORAH, DIANA, DINA, DYLAN, EDEN, ELEANOR, ELENA, ELIANA, ELISE, ELISHEVA, ELIZA, ELIZABETH, ELLA, ELLE, ELLIANA, ELLIE, ELOISE, EMERSON, EMILIA, EMILY, EMMA, ERIN, ESTER, ESTHER, ESTY, ETTY, EVA, EVE, EVELYN, FAIGA, FAIGY, FINLEY, FIONA, FRADEL, FRAIDY, FRANCESCA, FRIMET, GABRIELA, GABRIELLA, GABRIELLE, GEMMA, GENEVIEVE, GEORGIA, GIA, GIANNA, GIOVANNA, GITTEL, GITTY, GIULIANA, GOLDA, GOLDY, GRACE, GRETA, HADASSA, HADASSAH, HAILEY, HANNA, HANNAH, HARPER, HAZEL, HENNY, HINDY, IDY, ILANA, IRIS, ISABEL, ISABELLA, ISABELLE, ISLA, IVY, IZABELLA, JACQUELINE, JANE, JASMINE, JENNA, JESSICA, JORDYN, JOSEPHINE, JOYCE, JULIA, JULIANA, JULIANNA, JULIE, JULIET, JULIETTE, KAITLYN, KATE, KATHERINE, KATHRYN, KAYLA, KAYLEE, KIRA, KYLIE, LAILA, LARA, LAURA, LAUREN, LAYLA, LEA, LEAH, LEILA, LENA, LEORA, LIA, LIANA, LIBA, LIBBY, LILA, LILAH, LILIANA, LILLIAN, LILLY, LILY, LINA, LOLA, LONDON, LUCIA, LUCY, LYLA, MACKENZIE, MADELEINE, MADELINE, MADELYN, MADISON, MAEVE, MAKAYLA, MALAK, MALKA, MALKY, MARGARET, MARIA, MARIAM, MARY, MATILDA, MAYA, MELANIE, MIA, MICHAELA, MICHAL, MICHELLE, MIKAYLA, MILA, MILENA, MINDY, MIRI, MIRIAM, MOLLY, MORGAN, NAOMI, NATALIA, NATALIE, NECHAMA, NICOLE, NICOLETTE, NINA, NOA, NORA, OLIVIA, PAIGE, PARKER, PEARL, PENELOPE, PEREL, PESSY, PHOEBE, PIPER, QUINN, RACHEL, RAIZEL, RAIZY, REBECCA, REESE, RIFKA, RIFKY, RILEY, RIVKA, RIVKY, ROCHEL, ROIZY, ROSE, RUBY, RUCHY, RUTH, RYAN, SABRINA, SADIE, SALMA, SAMANTHA, SARA, SARAH, SASHA, SAVANNAH, CHARLES, CHASE, CHRIS, CHRISTIAN, CHRISTOPHER, CRISTIAN, CRISTOFER, CRISTOPHER, DAMIAN, DAMIEN, DANIEL, DANNY, DANTE, DARIEL, DARWIN, DAVID, DENNIS, DERECK, DEREK, DERICK, DEVIN, DIEGO, DOMINIC, DOMINICK, DYLAN, EDDIE, EDGAR, EDISON, EDUARDO, EDWARD, EDWIN, ELI, ELIAN, ELIAS, ELIJAH, ELVIS, EMANUEL, EMILIANO, EMILIO, EMMANUEL, ENRIQUE, ERIC, ERICK, ERIK, ESTEBAN, ETHAN, EVAN, EZEKIEL, EZEQUIEL, FELIX, FERNANDO, FRANCISCO, FRANK, FRANKLIN, FREDDY, GABRIEL, GAEL, GAVIN, GEORGE, GERARDO, GIOVANI, GIOVANNI, GIOVANNY, GREGORY, GUSTAVO, HECTOR, HENRY, HUNTER, IAN, IKER, ISAAC, ISAIAH, ISMAEL, ISRAEL, IVAN, JACE, JACK, JACOB, JADEN, JADIEL, JAIDEN, JAIME, JAKE, JAMES, JANIEL, JANUEL, JARED, JARIEL, JASON, JAVIER, JAY, JAYCE, JAYDEN, JAYSON, JEAN, JEANCARLOS, JEFFERSON, JEFFREY, JENCARLOS, JEREMIAH, JEREMIAS, JEREMY, JERRY, JESSE, JESUS, JIMMY, JOAQUIN, JOEL, JOHAN, JOHANN, JOHN, JOHNATHAN, JOHNNY, JONAH, JONATHAN, JORDAN, JORGE, JOSE, JOSEPH, JOSHUA, JOSIAH, JOSUE, JUAN, JULIAN, JULIEN, JULIO, JULIUS, JUNIOR, JUSTIN, KADEN, KAYDEN, KELVIN, KENNETH, KENNY, KEVIN, LANDON, LARRY, LEANDRO, LEO, LEONARDO, LEONEL, LIAM, LOGAN, LORENZO, LOUIS, LUCAS, LUIS, LUKAS, LUKE, MANUEL, MARCO, MARCOS, MARCUS, MARIO, MARK, MARLON, MARTIN, MARVIN, MASON, MATEO, MATHEW, MATIAS, MATTHEW, MAURICIO, MAX, MAXIMILIANO, MAXIMO, MAXIMUS, MELVIN, MICHAEL, MIGUEL, MIKE, MOISES, NATHAN, NATHANIEL, NELSON, NICHOLAS, NICOLAS, NOAH, NOEL, OLIVER, OMAR, OSCAR, OWEN, PABLO, PATRICK, PAUL, PEDRO, PETER, PRESTON, PRINCE, RAFAEL, RANDY, RAYMOND, RICARDO, RICHARD, RILEY, ROBERT, ROBERTO, RODRIGO, ROGER, ROMEO, ROYCE, RUBEN, RYAN, SAMUEL, SANTIAGO, SEAN, SEBASTIAN, SERGIO, SHANE, SHAWN, STEPHEN, STEVE, STEVEN, TAYLOR, THOMAS, TIMOTHY, TOMAS, TRAVIS, TRISTAN, TYLER, URIEL, VICTOR, VINCENT, WILLIAM, WILSON, XAVIER, YADIEL, YAHIR, YAIR, YANDEL, YANIEL, YARIEL, YERIK, ZACHARY, ZION, AARON, ABRAHAM, ADAM, ADRIAN, AHARON, AHMED, AHRON, AIDAN, AIDEN, AKIVA, ALAN, ALBERT, ALEC, ALEX, ALEXANDER, ALI, ALLEN, AMIR, AMROM, ANDREW, ANGELO, ANTHONY, ANTONIO, ARI, ARIEL, ARON, ARTHUR, ARYEH, ASHER, ASHTON, AUGUST, AUGUSTUS, AUSTIN, AVI, AVRAHAM, AVROHOM, AVRUM, AYDEN, BARUCH, BECKETT, BEN, BENJAMIN, BENNETT, BENZION, BERISH, BINYOMIN, BLAKE, BORUCH, BRADY, BRANDON, BRAYDEN, BRENDAN, BRIAN, BRODY, BRYAN, BRYCE, CADEN, CALEB, CALVIN, CAMERON, CARMINE, CARTER, CHAIM, CHARLES, CHARLIE, CHASE, CHESKEL, CHRISTIAN, CHRISTOPHER, COLE, COLIN, CONNOR, CONOR, COOPER, DANIEL, DASHIELL, DAVID, DEAN, DECLAN, DENNIS, DEREK, DEVIN, DOMINIC, DOMINICK, DOV, DOVID, DYLAN, EDWARD, EFRAIM, EITAN, ELI, ELIAS, ELIEZER, ELIJAH, ELIMELECH, ELIYAHU, ELLIOT, ELLIOTT, ELLIS, ERIC, ETHAN, EVAN, EZRA, FELIX, FILIP, FINN, FRANCESCO, FRANK, GABRIEL, GAVIN, GAVRIEL, GEORGE, GIOVANNI, GRAHAM, GRANT, GRAYSON, GREGORY, GREYSON, GRIFFIN, HARRISON, HARRY, HENRY, HERSH, HERSHEL, HERSHY, HUDSON, HUGO, HUNTER, IAN, ILAN, ISAAC, ISAIAH, ISRAEL, IVAN, JACK, JACKSON, JACOB, JAKE, JAMES, JASON, JASPER, JAYDEN, JESSE, JOEL, JOHN, JONAH, JONATHAN, JORDAN, JOSEPH, JOSHUA, JUDAH, JUDE, JULIAN, JUSTIN, KACPER, KAI, KENNETH, KEVIN, KIERAN, KYLE, LANDON, LAZER, LEO, LEON, LEONARDO, LEV, LEVI, LIAM, LIPA, LOGAN, LORENZO, LOUIS, LUCA, LUCAS, LUKA, LUKAS, LUKE, MAKSIM, MARC, MARCO, MARCUS, MARK, MARTIN, MASON, MATEO, MATTEO, MATTHEW, MAX, MAXIM, MAXIMILIAN, MAXIMUS, MAXWELL, MAYER, MEILECH, MEIR, MENACHEM, MENASHE, MENDEL, MENDY, MICAH, MICHAEL, MILES, MILO, MOHAMED, MOHAMMED, MOISHE, MORDECHAI, MORRIS, MOSES, MOSHE, NAFTALI, NAFTULI, NATHAN, NATHANIEL, NICHOLAS, NICO, NICOLAS, NIKOLAS, NOAH, NOAM, NOLAN, NOSSON, OLIVER, OMAR, OSCAR, OWEN, PARKER, PATRICK, PAUL, PETER, PHILIP, PINCHAS, PINCHUS, QUINN, RAFAEL, RAPHAEL, RAYAN, REED, REID, RICHARD, RILEY, ROBERT, ROCCO, ROMAN, ROWAN, RYAN, RYDER, SALVATORE, SAM, SAMIR, SAMUEL, SANTINO, SEAN, SEBASTIAN, SHALOM, SHANE, SHAUL, SHAYA, SHEA, SHIA, SHIMON, SHLOIME, SHLOIMY, SHLOME, SHLOMO, SHMIEL, SHMUEL, SHNEUR, SHOLOM, SHULEM, SIDNEY, SILAS, SIMCHA, SIMON, SOLOMON, SPENCER, STEPHEN, STEVEN, THEODORE, THOMAS, TIMOTHY, TRISTAN, TYLER, TZVI, USHER, VICTOR, VINCENT, VINCENZO, WESLEY, WILLIAM, WYATT, XAVIER, YAAKOV, YAKOV, YASEEN, YECHEZKEL, YECHIEL, YEHOSHUA, YEHUDA, YEHUDAH, YIDA, YIDEL, YISRAEL, YISROEL, YITZCHAK, YITZCHOK, YOEL, YONAH, YOSEF, YOUSEF, YOUSSEF, ZACHARY, ZALMEN, ZEV, ABBY, ABIGAIL, ADA, AISHA, ALEXANDRA, ALEXIS, ALICE, ALINA, ALISHA, ALLISON, ALYSSA, AMANDA, AMAYA, AMBER, AMELIA, AMINA, AMY, ANAYA, ANGEL, ANGELA, ANGELINA, ANISHA, ANNA, ANNABELLE, ANNIE, ANYA, ARIA, ARIANA, ARIANNA, ARIEL, ARISHA, ARYA, ASHLEY, ATHENA, AUDREY, AVA, AVERY, Abigail, Aisha, Aiza, Aleena, Alexandra, Alice, Alicia, Alina, Alisa, Alisha, Allison, Alyssa, Amanda, Amber, Amelia, Amina, Amy, Anaya, Anayah, Angel, Angela, Angelina, Anna, Annabelle, Anne, Annie, Anya, Aria, Ariana, Arianna, Ariel, Arisha, Arya, Ashley, Athena, Audrey, Ava, Avery, Ayesha, Bella, Carina, Caroline, Catherine, Cecilia, Celine, Charlotte, Chelsea, Chloe, AYESHA, BELLA, BONNIE, BRIANNA, CAROLINE, CATHERINE, CECILIA, CHARLOTTE, CHELSEA, CHLOE, CHRISTINA, CHRISTINE, CINDY, CLAIRE, CONNIE, CRYSTAL, CYNTHIA, DAPHNE, DIYA, DORIS, EILEEN, ELAINE, ELEANOR, ELENA, ELINA, ELIZABETH, ELLA, ELLIE, EMILY, EMMA, ERICA, ERIN, ESTHER, EVA, EVELYN, FAITH, FATIMA, FIONA, GABRIELLA, GRACE, HAFSA, HAILEY, HANNAH, HAREEM, HAZEL, HELEN, IRENE, IRIS, ISABELLA, ISABELLE, IVY, JANICE, JANNAT, JASMINE, JENNIFER, JENNY, JESSICA, JOANNA, JOCELYN, JOLIN, JOY, JOYCE, JUDY, JULIA, KAITLYN, KAREN, KATE, KATELYN, KATHERINE, KATIE, KAYLA, KAYLEE, KELLY, KHLOE, KIMBERLY, KYLIE, LAUREN, LAYLA, LEAH, LILLIAN, LILY, LINDA, LYDIA, MADELEINE, MADISON, MAGGIE, MANDY, MANHA, MARYAM, MAYA, MEGAN, MELANIE, MELODY, MIA, MICHELLE, MILA, MIRANDA, NATALIE, NICOLE, NINA, OLIVIA, PENELOPE, PHOEBE, QUEENIE, RACHEL, REBECCA, RILEY, SABRINA, SAMANTHA, SARA, SARAH, SAVANNAH, SELENA, SELINA, SERENA, SHARON, SHERRY, SHIRLEY, SOFIA, SOPHIA, SOPHIE, STELLA, STEPHANIE, SUMMER, SYDNEY, SYEDA, TASNIM, TENZIN, TIFFANY, TINA, VANESSA, VICKY, VICTORIA, VIOLET, VIVIAN, WINNIE, XIN, ZAHRA, ZAINAB, ZARA, ZOE, ZOEY, AALIYAH, ABIGAIL, ADRIANNA, AICHA, AISHA, AISSATOU, ALANA, ALANI, ALEXA, ALEXIS, ALICIA, ALIYAH, ALYSSA, AMANDA, AMAYA, AMBER, AMELIA, AMINA, AMINATA, AMIRA, AMIRAH, AMIYAH, ANGEL, ANGELINA, ANIYA, ANIYAH, ARIA, ARIANA, ARIANNA, ARIEL, ARIELLE, ASHLEY, AUBREE, AUBREY, AUTUMN, AVA, AWA, AYANNA, BELLA, BINTOU, BRIANNA, BRIELLE, CAMILLE, CHELSEA, CHEYENNE, CHLOE, CHRISTINA, DANIELLE, DEBORAH, DESTINY, ELISE, ELIZABETH, EMILY, EMMA, ERIN, FAITH, FANTA, FATIMA, FATOUMATA, GABRIELLA, GABRIELLE, GENESIS, GIANNA, GRACE, HAILEY, HANNAH, HARMONY, HAWA, HEAVEN, IMANI, ISABELLA, JADA, JADE, JALIYAH, JANELLE, JANIYAH, JASMINE, JAYDA, JAYLA, JESSICA, JORDAN, JORDYN, KAITLYN, KALIYAH, KAYLA, KAYLEE, KELSEY, KENNEDY, KHLOE, KIARA, KIMORA, KYLA, KYLEE, KYLIE, LAILA, LAUREN, LAYLA, LEAH, LEILANI, LILY, LONDON, LONDYN, LYRIC, MACKENZIE, MADISON, MAKAYLA, MAKENZIE, MALIA, MALIYAH, MARIAH, MARIAM, MARIAMA, MAYA, MCKENZIE, MEGAN, MELANIE, MELODY, MIA, MICHELLE, MIKAYLA, MILAN, MIRACLE, MORGAN, MYA, NAOMI, NEVAEH, NIA, NYLA, NYLAH, OLIVIA, OUMOU, PAIGE, PARIS, PEYTON, PHOENIX, PRINCESS, RILEY, SAMANTHA, SAMARA, SAMIYAH, SANAA, SANAI, SANIYAH, SARAH, SARAI, SARIAH, SASHA, SAVANNAH, SERENITY, SHAYLA, SKYE, SKYLA, SKYLAH, SKYLAR, SOPHIA, STEPHANIE, SUMMER, SYDNEY, TALIA, TAMIA, TAYLOR, TIANA, TORI, TRINITY, VANESSA, VICTORIA, VIOLET, WYNTER, ZOE, ZOEY, ZURI, AALIYAH, ABIGAIL, ADRIANA, ADRIANNA, AILEEN, ALANA, ALANI, ALEJANDRA, ALESSANDRA, ALEXA, ALEXANDRA, ALEXIA, ALICE, ALICIA, ALINA, ALISON, ALISSON, ALIYAH, ALLISON, ALLYSON, ALONDRA, ALYSSA, AMALIA, AMANDA, AMAYA, AMBER, AMBERLY, AMELIA, AMELIE, AMY, ANA, ANAIS, ANALIA, ANDREA, ANGELA, ANGELICA, ANGELINA, ANGELIQUE, ANGIE, ANIYAH, ANNA, APRIL, ARELY, ARIA, ARIANA, ARIANNA, ARIEL, ARIELLE, ASHLEY, ATHENA, AUBREY, AURORA, AVA, AVERY, AVRIL, AYLIN, BELLA, BIANCA, BRENDA, BRIANA, BRIANNA, BRIELLE, BRITNEY, BRITTANY, BRYANNA, CAMILA, CAMILLA, CARMEN, CAROLINA, CAROLINE, CATALINA, CATHERINE, CHARLOTTE, CHELSEA, CHLOE, CHRISTINA, CINDY, CRYSTAL, CYNTHIA, DAISY, DANA, DANIELA, DANIELLA, DANNA, DAYANA, DELILAH, DENISE, DESTINY, DIANA, DULCE, EILEEN, ELENA, ELIANA, ELIANNY, ELISA, ELIZABETH, ELLA, EMELY, EMILIA, EMILY, EMMA, ERIKA, ESMERALDA, ESTHER, EVA, EVANGELINE, EVELYN, FAITH, FATIMA, FERNANDA, GABRIELA, GABRIELLA, GENESIS, GERALDINE, GIA, GIANNA, GISELLE, GRACE, GUADALUPE, HAILEY, HALEY, HANNAH, HAYLEE, HAZEL, HEAVEN, HEIDI, HEIDY, HELEN, ISABEL, ISABELA, ISABELLA, ITZEL, IVANNA, IZABELLA, JACQUELINE, JADA, JADE, JAELYN, JAMIE, JASMIN, JASMINE, JAYLA, JAYLAH, JAYLEEN, JAYLENE, JAYLIN, JAZLYN, JAZMIN, JAZMINE, JAZZLYN, JENNIFER, JESSICA, JIMENA, JOCELYN, JOHANNA, JOSELYN, JULIA, JULIANA, JULIANNA, JULIE, JULIET, JULIETTE, JULISSA, KAILEY, KAITLYN, KAMILA, KAREN, KARINA, KARLA, KASSANDRA, KATELYN, KATHERINE, KATIE, KAYLA, KAYLEE, KAYLIE, KAYLIN, KELLY, KELSEY, KEYLA, KHLOE, KIARA, KIMBERLY, KYLIE, LAILA, LAURA, LAUREN, LAYLA, LEAH, LEILA, LEILANI, LESLEY, LESLIE, LESLY, LIA, LIANA, LILIANA, LILY, LITZY, LIZ, LIZBETH, LONDON, LUCIA, LUNA, LUZ, MACKENZIE, MADELINE, MADELYN, MADISON, MAKAYLA, MARIA, MARIAH, MARIANA, MARILYN, MAYA, MCKENZIE, MEGAN, MELANIE, MELANY, MELINA, MELISSA, MELODY, MIA, MIAH, MICHELLE, MIKAELA, MIKAYLA, MILA, MILAGROS, MILEY, MIRANDA, MIRIAM, MYA, NAOMI, NATALIA, NATALIE, NATALY, NATASHA, NATHALIA, NATHALIE, NATHALY, NAYELI, NEVAEH, NICOLE, NOEMI, NYLAH, OLIVIA, PAOLA, PARIS, PAULA, PENELOPE, PERLA, PEYTON, RACHEL, REBECCA, RIHANNA, ROSA, ROSELYN, RUBY, RUTH, SABRINA, SALOME, SAMANTHA, SANDRA, SARA, SARAH, SARAI, SAVANNA, SAVANNAH, SCARLET, SCARLETT, SELENA, SERENITY, SHERLYN, SIENNA, SKYLA, SKYLAR, SOFIA, SOPHIA, SOPHIE, STACEY, STACY, STELLA, STEPHANIE, SUMMER, TATIANA, TIFFANY, VALENTINA, VALERIA, VALERIE, VANESSA, VERONICA, VICTORIA, VIOLET, VIVIANA, WENDY, XIMENA, YAMILETH, YARETZI, YESENIA, ZOE, ZOEY, ABIGAIL, ADA, ADDISON, ADELAIDE, ADELE, ADINA, Jayce, ADRIANA, ADRIANNA, AHUVA, ALANA, ALESSANDRA, ALESSIA, ALEXA, ALEXANDRA, ALEXANDRIA, ALEXIS, ALICE, ALINA, ALISA, ALIZA, ALLISON, ALMA, ALYSSA, AMALIA, AMANDA, AMELIA, AMELIE, AMINA, AMIRA, AMY, ANASTASIA, ANGELINA, ANNA, ANNABEL, ANNABELLE, ANNE, ANTONIA, ARIA, ARIANA, ARIANNA, ARIEL, ARIELLA, ARIELLE, ASHLEY, ATHENA, AUBREY, AUDREY, AVA, AVERY, AVIGAIL, AVIVA, AYA, AYLA, BAILA, BATSHEVA, BEATRICE, BELLA, BIANCA, BLIMA, BLIMY, BRACHA, BREINDY, BRIANNA, BROOKE, BRUCHY, CAITLIN, CAROLINA, CAROLINE, CASSANDRA, CATHERINE, CECILIA, CELIA, CHANA, CHANIE, CHANY, CHARLOTTE, CHAVA, CHAVY, CHAYA, CHELSEA, CHLOE, CHRISTINA, CLAIRE, CLARA, COLETTE, CORA, DAHLIA, DAISY, DALIA, DANIELA, DANIELLA, DANIELLE, DAPHNE, DEVORA, DEVORAH, DIANA, DINA, DYLAN, EDEN, ELEANOR, ELENA, ELIANA, ELISE, ELISHEVA, ELIZA, ELIZABETH, ELLA, ELLE, ELLIANA, ELLIE, ELOISE, ELSA, EMERSON, EMILIA, EMILY, EMMA, ESME, ESTELLE, ESTER, ESTHER, ESTY, ETTY, EVA, EVANGELINE, EVE, EVELYN, FAIGA, FAIGY, FAITH, FATIMA, FIONA, FRADY, FRAIDY, FRANCES, FRANCESCA, FRIMET, GABRIELA, GABRIELLA, GABRIELLE, GEMMA, GENEVIEVE, GEORGIA, GIA, GIADA, GIANNA, GITTEL, GITTY, GIULIA, GIULIANA, GOLDA, GOLDY, GRACE, GRETA, HADASSAH, HADLEY, HAILEY, HANA, HANNA, HANNAH, HARPER, HAZEL, HELEN, HELENA, HENNY, HINDA, HINDY, IDY, INES, IRIS, ISABEL, ISABELLA, ISABELLE, ISLA, IVY, JACQUELINE, JADE, JANA, JANE, JASMINE, JENNA, JENNIFER, JESSICA, JOANNA, JOLIE, JORDAN, JOSEPHINE, JOYCE, JUDY, JULIA, JULIANA, JULIANNA, JULIE, JULIET, JULIETTE, JUNE, KAITLYN, KATE, KATELYN, KATHERINE, KATHRYN, KATIE, KAYA, KAYLA, KAYLEE, KEIRA, KIRA, LAILA, LANA, LARA, LAURA, LAUREN, LAYLA, LEA, LEAH, LEILA, LENA, LEORA, LIA, LIANA, LIBA, LIBBY, LILA, LILAH, LILIANA, LILLIAN, LILLY, LILY, LINA, LIV, LIVIA, LOLA, LOUISA, LUCIA, LUCY, LYLA, MACKENZIE, MADELEINE, MADELINE, MADELYN, MADISON, MAE, MAEVE, MALAK, MALKA, MALKY, MARGARET, MARGOT, MARIA, MARIAM, MARINA, MARY, MARYAM, MATILDA, MAYA, MELANIE, MELISSA, MIA, MICHAELA, MICHELLE, MIKAYLA, MILA, MINDY, MIREL, MIRI, MIRIAM, MOLLY, MORGAN, NAOMI, NATALIA, NATALIE, NECHAMA, NICOLE, NICOLETTE, NINA, NOA, NOOR, NORA, OLIVE, OLIVIA, PAIGE, PEARL, PENELOPE, PEREL, PERL, PERRY, PESSY, PEYTON, PHOEBE, PIPER, POLINA, QUINN, RACHEL, RAIZEL, RAIZY, RAQUEL, REAGAN, REBECCA, REEM, REESE, RIFKY, RILEY, RIVKA, RIVKY, ROCHEL, ROIZY, ROSA, ROSE, ROSIE, RUBY, RUCHY, RUTH, RYAN, SABRINA, SADIE, SAGE, SALMA, SAMANTHA, SARA, SARAH, SASHA, SAVANNAH, SCARLETT, SELMA, SHAINA, SHAINDY, SHIFRA, SHIRA, SHOSHANA, SIENA, SIENNA, SIMA, SIMONE, SKYLAR, SLOANE, SOFIA, SONIA, SOPHIA, SOPHIE, STELLA, SURY, SYDNEY, SYLVIA, SYLVIE, TALIA, TAMAR, TAYLOR, TESSA, TOBY, TZIPORA, TZIVIA, VALENTINA, VALERIE, VANESSA, VERA, VERONICA, VICTORIA, VIOLET, VIRGINIA, VIVIAN, VIVIENNE, WILLA, YAEL, YARA, YEHUDIS, YIDES, YITTA, YITTY, YOCHEVED, ZISSY, ZOE, ZOEY, AARAV, AARON, AAYAN, ABDUL, ABDULLAH, ADAM, ADITYA, ADRIAN, AHMED, AIDAN, AIDEN, ALAN, ALBERT, ALEX, ALEXANDER, ALI, ALLEN, ALSTON, ALVIN, ANDREW, ANDY, ANGUS, ANSON, ANTHONY, ARJUN, ARYAN, ASHER, AUSTIN, AYAAN, AYAN, AYDEN, BENJAMIN, BENSON, BRANDON, BRAYDEN, BRIAN, BRUCE, BRYAN, CALEB, CALVIN, CARSON, CARTER, CHARLES, CHASE, CHRISTIAN, CHRISTOPHER, CODY, CONNOR, CYRUS, DANIEL, DANNY, DARREN, DAVID, DEREK, DEVIN, DYLAN, EASON, EDISON, EDWARD, ELI, ELIJAH, ELVIS, ERIC, ETHAN, EVAN, FELIX, GABRIEL, GAVIN, GORDON, HAMZA, HAO, HARRISON, HAYDEN, HENRY, HUDSON, HUNTER, IAN, IBRAHIM, ISAAC, IVAN, JACK, JACKSON, JACKY, JACOB, JADEN, JAKE, JAMES, JASON, JASPER, JAY, JAYDEN, JEFFREY, JEREMY, JERRY, JIMMY, JOHN, JOHNNY, JONATHAN, JORDAN, JOSEPH, JOSHUA, JULIAN, JUN, JUSTIN, KAI, KENNETH, KEVIN, KINGSLEY, KINGSTON, KRISH, KYLE, LAWRENCE, LEO, LEON, LIAM, LOGAN, LOUIS, LUCAS, LUKE, MARCUS, MASON, MATTHEW, MAX, MAXWELL, MICHAEL, MILES, MOHAMED, MOHAMMAD, MOHAMMED, MUHAMMAD, MUSA, MUSTAFA, NATHAN, NATHANIEL, NEIL, NELSON, NICHOLAS, NIKHIL, NOAH, OLIVER, OSCAR, OWEN, PATRICK, RAYAN, RAYMOND, RAYYAN, REHAN, RICHARD, RICKY, ROHAN, ROY, RYAN, SAMUEL, SEAN, SEBASTIAN, SHAYAAN, SHAYAN, STANLEY, STEVEN, SUBHAN, SYED, TENZIN, Jaycob, TERRENCE, THEODORE, THOMAS, TIMOTHY, TRISTAN, TYLER, VICTOR, VIHAAN, VINCENT, WESLEY, WILLIAM, WILSON, WINSTON, YUSUF, ZACHARY, ZAIN, ZAYAN, AARON, ABDOUL, ABDOULAYE, ABDUL, ADAM, ADONIS, ADRIAN, AIDAN, AIDEN, ALEX, ALEXANDER, ALI, ALPHA, AMADOU, AMAR'E, AMARE, AMARI, AMIR, ANDRE, ANDREW, ANTHONY, ANTONIO, ARMANI, ASHTON, AUSTIN, AVERY, AYDEN, BENJAMIN, BLAKE, BOUBACAR, BRADLEY, BRANDON, BRIAN, BRYAN, BRYCE, BRYSON, CADEN, CALEB, CAMERON, CAMREN, CARMELO, CARTER, CAYDEN, CHAD, CHANCE, CHARLES, CHASE, CHRISTIAN, CHRISTOPHER, CONNOR, DAMANI, DANIEL, DARIUS, DARREN, DAVID, DERRICK, DEVIN, DOMINIC, DYLAN, ELI, ELIAS, ELIJAH, EMMANUEL, ERIC, ETHAN, EVAN, GABRIEL, GAVIN, GIOVANNI, HUNTER, IAN, IBRAHIM, IBRAHIMA, ISAAC, ISAIAH, ISRAEL, JACE, JACOB, JADEN, JAHMIR, JAIDEN, JALEN, JAMARI, JAMES, JASIAH, JASON, JAYDEN, JAYLEN, JEREMIAH, JEREMY, JERMAINE, JOEL, JOHN, JONAH, JONATHAN, JORDAN, JOSEPH, JOSHUA, JOSIAH, JUDAH, JULIAN, JUSTICE, JUSTIN, KADEN, KAI, KAIDEN, KALEB, KAMARI, KAREEM, KAYDEN, KEITH, KENNETH, KEVIN, KHALIL, KING, KIYAN, KRISTIAN, KYLE, KYMANI, LEON, LEVI, LIAM, LOGAN, LUCAS, LUKE, MAHAMADOU, MAKAI, MAKHI, MALACHI, MALIK, MAMADOU, MARCUS, MASON, MATTHEW, MAURICE, MEKHI, MESSIAH, MICAH, MICHAEL, MILES, MOHAMED, MOHAMMED, MOUSSA, MUHAMMAD, MYLES, NASIR, NATHAN, NATHANAEL, NATHANIEL, NICHOLAS, NOAH, NOEL, OMAR, OMARI, OUMAR, PAUL, PEYTON, PRESTON, PRINCE, RICHARD, RILEY, ROBERT, RYAN, SAMIR, SAMUEL, SEAN, SEBASTIAN, SHANE, SHAWN, SINCERE, STEVEN, TERRELL, THOMAS, TIMOTHY, TRISTAN, TROY, TYLER, WILLIAM, XAVIER, ZACHARY, ZAIRE, ZION, AARON, ABDIEL, ABEL, ABRAHAM, ADAM, ADAN, ADEN, ADONIS, ADRIAN, ADRIEL, AIDAN, AIDEN, ALAN, ALBERT, ALBERTO, ALDO, ALEJANDRO, ALEX, ALEXANDER, ALEXIS, ALLEN, ALVIN, AMIR, ANDERSON, ANDRE, ANDRES, ANDREW, ANDY, ANGEL, ANGELO, ANTHONY, ANTONIO, ARIEL, ARMANDO, ARMANI, ASHTON, AUSTIN, AVERY, AXEL, AYDEN, BENJAMIN, BLAKE, BRADLEY, BRANDON, BRAYAN, BRAYDEN, BRIAN, BRUCE, BRYAN, BRYANT, BRYCE, CALEB, CAMERON, CAMILO, CARLOS, CARMELO, CARTER, CESAR, CHARLES, CHARLIE, CHASE, CHRIS, CHRISTIAN, CHRISTOPHER, CRISTIAN, CRISTOPHER, DAMIAN, DAMIEN, DANIEL, DANNY, DANTE, DARIEL, DARWIN, DAVID, DEAN, DENZEL, DEREK, DEVIN, DIEGO, DOMINIC, DOMINICK, DONOVAN, DYLAN, EDDY, EDGAR, EDUARDO, EDWARD, EDWIN, ELI, ELIAN, ELIAS, ELIJAH, ELVIN, EMANUEL, EMILIANO, EMILIO, EMMANUEL, ENRIQUE, ERIC, ERICK, ERIK, ESTEBAN, ETHAN, EVAN, EZEKIEL, EZEQUIEL, FABIAN, FELIX, FERNANDO, FRANCISCO, FRANK, FRANKLIN, FREDDY, GABRIEL, GAEL, GAVIN, GEORGE, GIOVANNI, GREGORY, GUSTAVO, HECTOR, HENRY, HUGO, HUNTER, IAN, IKER, ISAAC, ISAIAH, ISMAEL, ISRAEL, IVAN, IZAIAH, JACE, JACK, JACKSON, JACOB, JADEN, JADIEL, JAEL, JAIDEN, JAIME, JAKE, JAMES, JARED, JARIEL, JASON, JAVIER, JAY, JAYCE, JAYDEN, JAYLEN, JAYREN, JAYSON, JEAN, JEFFERSON, JEFFREY, JENCARLOS, JEREMIAH, JEREMY, JESUS, JOAQUIN, JOEL, JOHAN, JOHN, JOHNNY, JONAH, JONAS, JONATHAN, JORDAN, JORGE, JOSE, JOSEPH, JOSHUA, JOSIAH, JOSUE, JUAN, JULIAN, JULIEN, JULIO, JULIUS, JUSTIN, KAIDEN, KALEB, KAYDEN, KELVIN, KENNETH, KENNY, KEVIN, KYLE, LANDON, LEANDRO, LENNY, LEO, LEONARDO, LEONEL, LIAM, LOGAN, LORENZO, LOUIS, LUCA, LUCAS, LUIS, LUKAS, LUKE, MANUEL, MARCO, MARCOS, MARCUS, MARIO, MARK, MARLON, MARTIN, MARVIN, MASON, MATEO, MATHEW, MATHIAS, MATIAS, MATTEO, MATTHEW, MAURICIO, MAX, MAXIMILIANO, MAXIMUS, MAXWELL, MELVIN, MICHAEL, MIGUEL, MIKE, MOISES, NATHAN, NATHANIEL, NELSON, NEYMAR, NICHOLAS, NICOLAS, NOAH, NOEL, OLIVER, OMAR, OSCAR, PABLO, PAUL, PEDRO, PETER, PRESTON, PRINCE, RAFAEL, RANDY, RAUL, RAYMOND, RICARDO, RICHARD, RILEY, ROBERT, ROBERTO, RODRIGO, ROMAN, ROMEO, RONALD, RUBEN, RYAN, SAMUEL, SANTIAGO, SAUL, SEAN, SEBASTIAN, SERGIO, SKYLER, STEPHEN, STEVE, STEVEN, THOMAS, TRISTAN, TYLER, URIEL, VICTOR, VINCENT, WESLEY, WILLIAM, WILSON, XAVIER, YADIEL, YAEL, YAHIR, YANDEL, YARIEL, ZACHARY, ZAYDEN, ZION, AARON, ABRAHAM, ADAM, ADRIAN, AHMAD, AHMED, AHRON, AIDAN, AIDEN, AKIVA, ALAN, ALBERT, ALEKSANDER, ALEX, ALEXANDER, ALI, ALTER, AMIR, ANDERSON, ANDREW, ANGELO, ANTHONY, ANTONIO, ARCHER, ARI, ARIEL, ARON, ARTHUR, ARYEH, ASHER, ATTICUS, AUGUST, AUSTIN, AVERY, AVRAHAM, AVROHOM, AVRUM, AYDEN, BARUCH, BECKETT, BEN, BENJAMIN, BENNETT, BENTZION, BENZION, BINYOMIN, BLAKE, BORUCH, BRADLEY, BRADY, BRANDON, BRAYDEN, BRENDAN, BRIAN, BRODY, CALEB, CALVIN, CAMERON, CARTER, CHAIM, CHARLES, CHARLIE, CHASE, CHESKEL, CHESKY, CHRIS, CHRISTIAN, CHRISTOPHER, COLE, COLIN, CONNOR, COOPER, DAMIAN, DANIEL, DAVID, DEAN, DECLAN, DEVIN, DOMINIC, DOMINICK, DOV, DOVID, DREW, DYLAN, EDWARD, EFRAIM, EITAN, ELAN, ELI, ELIAS, ELIEZER, ELIJAH, ELIMELECH, ELIYAHU, ELLIOT, ELLIOTT, ELLIS, ELUZER, EMMETT, EPHRAIM, ERIC, ERIK, ETHAN, EVAN, EVERETT, EZRA, EZRIEL, FELIX, FILIP, FINN, FRANCESCO, FRANK, FREDERICK, GABRIEL, GAVIN, GAVRIEL, GEORGE, GIOVANNI, GRAHAM, GRANT, GRAYSON, GREGORY, GRIFFIN, HAMZA, HARRISON, HARRY, HARVEY, HAYDEN, HENRY, HERSH, HERSHEL, HERSHY, HUDSON, HUGO, HUNTER, IAN, IBRAHIM, ILAN, ISAAC, ISAIAH, ISRAEL, ISSAC, IVAN, JACE, JACK, JACKSON, JACOB, JAD, JAKE, JAMES, JASON, JASPER, JAXON, JAYDEN, JEREMY, JESSE, JOEL, JOHN, JONAH, JONATHAN, JORDAN, JOSEPH, JOSHUA, JUDAH, JUDE, JULIAN, JULIEN, JUSTIN, KAI, KEVIN, KIERAN, KYLE, LANDON, LAZER, LEO, LEON, LEONARDO, LEVI, LIAM, LIPA, LOGAN, LORENZO, LOUIS, LUCA, LUCAS, LUKA, LUKAS, LUKE, MAKSIM, MALIK, MARC, MARCO, MARCUS, MARK, MARTIN, MASON, MATEO, MATTEO, MATTHEW, MAX, MAXIM, MAXIMILIAN, MAXIMUS, MAXWELL, MAYER, MEIR, MENACHEM, MENDEL, MENDY, MEYER, MICAH, MICHAEL, MILES, MILO, MOHAMED, MOHAMMAD, MOHAMMED, MOISHE, MORDECHAI, MOSES, MOSHE, MUHAMMAD, MYLES, NACHMAN, NAFTALI, NATHAN, NATHANIEL, NICHOLAS, NICO, NICOLAS, NIKITA, NIKOLAS, NOAH, NOAM, NOLAN, NOSSON, OLIVER, OMAR, OSCAR, OWEN, PARKER, PATRICK, PAUL, PETER, PHILIP, PINCHAS, PINCHUS, PRESTON, QUINN, RAFAEL, RAPHAEL, RAYAN, RAYMOND, REED, REID, REUVEN, RICHARD, ROBERT, ROCCO, ROMAN, RONAN, RORY, ROWAN, RYAN, SALVATORE, SAM, SAMI, SAMIR, SAMUEL, SEAN, SEBASTIAN, SHALOM, SHANE, SHAYA, SHEA, SHIA, SHIMON, SHLOIME, SHLOIMY, SHLOMA, SHLOME, SHLOMO, SHMIEL, SHMUEL, SHNEUR, SHOLOM, SHULEM, SILAS, SIMCHA, SIMON, SOLOMON, SPENCER, STEPHEN, STEVEN, THEO, THEODORE, Ashton, THOMAS, Nathaniel, Dina, Helena, James, TIMOTHY, TOMAS, Lipa, AMELIA, GREGORY, KATHRYN, Naftali, TRISTAN, Jacqueline, TYLER, Ariana, Adrian, Aaliyah, Ariella, PRINCE, TZVI, Jazmine, Helen, Ashley, LANDON, USHER, LEILA, LUCA, NAYELI, VICTOR, ANGELINA, VINCENT, Naftuli, Winnie, WESLEY, Steve, Rochel, MAXWELL, Massimo, Henchy, Matilda, Tzipora, Thiago, WILLIAM, Alejandro, Caleb, WYATT, Simon, NICHOLAS, RAYMOND, XAVIER, LEONARDO, STELLA, Tony, Esther, YAAKOV, CHEYENNE, Cesar, Jeremy, YAKOV, Nicolas, ESTHER, CINDY, JADA, Inaya, YECHEZKEL, YECHIEL, Elliot, YEHOSHUA, AVIVA, YEHUDA, Kevin, YISRAEL, Richard, Mackenzie, ESTER, Caden, Maliyah, CARTER, GIA, FELIX, YISROEL, Sydney, Chance, Sariah, JAYLIN, SKYLAR, NOAM, Helen, YITZCHAK, Binyamin, Jasiah, Peter, YITZCHOK, Kimberly, YOEL, YONA, ANTHONY, YOSEF, Rachel, Sebastian, Elena, YOSSI, Sara, YOUSEF, YOUSSEF, Jane, YUSUF, ZACHARY, JAEL, April, ZAIN, August, Louis, ZALMEN, ZEV, Katelyn, Destiny, Abby, Dahlia, SHOLOM, YOUSEF, MCKENZIE, Abigail, Ada, Aisha, Ava, ROCHEL, Sam, XIMENA, Leah, JOHANNA, Zariah, CAROLINA, Aleena, Ryan, Alexandra, MAXIMUS, MIRANDA, Shreya, Alice, LOUISA, Malak, Alberto, Greyson, Kaden, Alina, Ari, Allison, Alyssa, Melany, Eliyahu, ELLIS, ATHENA, Amanda, Alexandra, Kevin, Ava, Amber, Amelia, Naomi, Alana, Tomas, Amy, Ananya, Linda, Anaya, Violet, Liv, Eddie, Angel, Angela, Angelina, Giovanna, Joel, Mia, Audrey, Jeremiah, Goldy, FINN, Jonas, Simcha, David, Anika, LIV, Anna, Juan, Sadie, ZION, Jaylee, Emmett, Annabelle, Annie, AUBREY, Annika, Anya, Aria, Dina, Yossi, Chloe, Raymond, Zayden, Ariana, KEVIN, Adelyn, Nolan, Arianna, Grant, Avraham, MICAH, Yaretzi, Ariel, Dominic, Elimelech, Rehan, Jayden, OMARI, Jonah, CHAYA, Arya, Amber, Ashley, Athena, Malik, Joy, Jada, Audrey, Chloe, Lia, Zissy, Olivia, Leyla, ARIEL, JALIYAH, Sofia, ZOEY, Allison, DORIS, Shania, Felipe, Emma, HAYDEN, Chloe, Sophia, ARELY, Alex, Mia, Blake, Emily, Rayan, Hannah, Ariana, Amadou, LUKAS, Daphne, ROBERT, Alexia, JADA, MICHAEL, Levi, Fatima, Zoe, MAXIMILIAN, Charlotte, Ella, ADAM, LIAM, Eshaal, Ava, Isabella, Christian, Kamila, Shaindel, SHAINDY, Amelia, Grace, Evelyn, Natalie, Aria, Ariana, Margaux, ILAN, ALICE, EMELY, Claire, Zainab, Fatima, Bella, King, Jayson, ZAYDEN, BRUCHY, Ava, Brian, Avery, LOGAN, Ayesha, Bella, Gregory, Berl, Mila, PIPER, JUSTIN, Carina, Allyson, ELISHEVA, Diego, Caroline, Dakota, ROY, Zoe, Catherine, Louis, Cecilia, Samantha, PARIS, Emily, Celine, Angel, AYLA, Charlotte, KASSANDRA, JAVIER, ZAHRA, Perry, SELENA, Chelsea, Aniya, Jacob, Shmiel, Chloe, Savannah, Dylan, Livia, Christina, Selina, Christine, Aria, SIMONE, Cindy, Luke, BRYANT, Claire, Olive, Connie, Crystal, Cynthia, Fraidy, Rachel, Amy, Lily, Amelie, Avrohom, Milan, Daphne, Emmanuel, Eileen, JASMINE, DANIEL, YONA, Khadija, PERL, LIANA, Nyla, Cora, Elaine, Penelope, JUDAH, Elena, Lily, ARJUN, Elina, TINA, Anabella, Elise, Elizabeth, Justin, Kendra, Ella, ELI, Sophia, Gabrielle, Abraham, SEAN, ISABELA, Ellie, Natalie, Xander, Emaan, RAIZY, Emily, ELISA, Emma, LEILA, Kaylee, Erin, AVRAHAM, Gabriella, Mina, MALKA, Eunice, Eva, Evelyn, Fatima, Fiona, Grace, Hailey, ARIA, Albert, Hana, Musa, Hannah, JOHN, Sharon, Helen, Inaaya, Irene, Bryan, Iris, SALMA, FERNANDA, Isabel, Precious, Riley, KAITLYN, Isabella, Claire, Isabelle, Ivy, Menucha, Jamie, Hindy, Jannat, Joseph, Lucia, DANIEL, LAURA, REED, VIVIENNE, COLETTE, Carter, NATASHA, GISELLE, DANIELLA, ETTY, LAUREN, Rebecca, Abdul, Marcos, GRANT, Jasmine, EVA, Alexandra, Aidan, Jenna, Sabrina, Sean, Jennifer, Jenny, Jessica, Jessie, Joanna, Levi, Jocelyn, Josephine, Joy, Maeve, Rafael, Milo, Kate, Joyce, Julia, Celine, ARIEL, ALBERTO, Ruth, Cameron, TYLER, Thomas, ZURI, Brianna, Kaitlyn, ARIELLE, Karen, Karina, Kate, Serena, YAEL, Ellie, Katelyn, Dayana, Gerardo, Ashton, Tristan, MEIR, Ahmed, CHANA, MALKY, Lily, Ariella, Pablo, Katherine, Graham, Frimet, Kayla, Jack, Reid, Miles, YECHEZKEL, Mina, Azaan, Liam, Kaylee, YIDES, Keira, Simon, Kayla, Amari, Genevieve, Kelly, Alessia, Quinn, Kimberly, Lauren, Hannah, Leila, Layla, Nadia, Max, JAKE, Leah, Griffin, Marjorie, GERALDINE, Leela, Musa, JASIAH, Leila, ALEXIS, Lena, IVY, Lillian, Safa, Lily, Linda, DYLAN, Wynter, Madeline, SIENA, Madelyn, Noa, Maya, LUKE, Mya, Madison, Maggie, Manha, Eliana, CALEB, Richard, Maryam, Melina, Chaya, AYESHA, Benson, ARMANDO, Maya, Megan, Mark, Melody, Kayla, HUNTER, ALICE, Luis, Usher, Jerry, Avery, Libby, Mia, Imani, LEILANI, Mekhi, Johan, Orion, CHANY, Zachary, Michelle, Miranda, Naomi, BRUCE, Naomi, MIA, Amanda, Natalie, KATELYN, Hamza, Nicole, Nina, DEREK, Jazmin, DIANA, NATHALIA, Faiga, Olivia, Penelope, LIAM, Queenie, ZAIN, Rachel, Delilah, Keira, Kayla, Raina, ARYA, Isla, ISSAC, GIOVANNI, SUMMER, AVROHOM, SIENNA, Jackson, Rebecca, Peyton, Riya, CHELSEA, Queenie, Sabrina, Eli, Samantha, Bryson, Samara, Sara, Sarah, Sarina, EMMANUEL, Scarlett, ALLEN, Ousmane, Selena, Avigail, BOUBACAR, Selina, MALIK, Timothy, AHMED, Nolan, Shawn, BRIAN, Jesus, Kaitlyn, LAWRENCE, ALBERT, Adam, Brandon, SAUL, ELAN, WESLEY, Devorah, Juniper, Serena, Zendaya, MAE, Sharon, Liba, Tyler, Shirley, Heaven, Sofia, Sophia, SOLOMON, TAMIA, VALENTINA, Sophie, Norah, Stella, Sloane, Stephanie, ISABEL, Penelope, MIGUEL, Summer, Sunny, Sydney, Emely, Syeda, CRISTOPHER, Sylvia, Pinchus, Christina, ROMAN, Tenzin, HELENA, Tiffany, Lawrence, Aria, Lillian, LESLEY, Tina, LEON, Vanessa, Damon, ARIANNA, Alyssa, Riley, Isaias, SONIA, Madison, Vicky, EVAN, Sophie, CLARA, Kylee, FERNANDO, Victoria, Vivian, Ali, Noel, Winnie, Aliyah, Zahra, EASON, Ibrahim, Maite, Zainab, Joselyn, Morris, Hailey, Zara, Zoe, HAO, Raizy, Elijah, Anton, Zoey, Alma, Leah, Zoya, RAFAEL, Raizy, Aaliyah, KHLOE, Liliana, Abigail, Nelson, Abrielle, Aaliyah, Adrianna, Reagan, FATIMA, Aicha, Aisha, MAKAI, SAMI, Kendrick, Aissata, Aissatou, Alana, Alexandra, Gabriel, MICHAEL, Alexis, Boubacar, MICHAELA, Aliyah, Alyssa, KALEB, Jack, Griffin, Amani, Amaya, Elisheva, Angelica, Nicolas, Milana, Amber, Matthew, Alex, Amelia, Amina, Madeline, Elimelech, Aminata, ANGEL, Quinn, BRIAN, MILA, Amira, Hector, Nahla, Madelyn, Amirah, Amiyah, Anaya, GIANNA, DONOVAN, Angel, Angelina, Aniya, Aniyah, Brayan, Christian, Mohammed, Aden, MIRANDA, Aria, Ariana, Darren, Arianna, Ariel, Arielle, Gabriel, HANNAH, Ashley, Asia, Aubrey, Andy, Autumn, Ava, CHRISTIAN, Aiden, Andrew, Avery, Azaria, CHASE, Jayden, Ashton, Charlotte, Bella, Yehoshua, Vera, Clara, CHRISTINA, Kate, Molly, ROCCO, Karen, Bria, Montserrat, Hana, Brianna, Matthew, CALVIN, HELEN, Mayer, SADIE, Yassin, Brielle, JADE, Julianna, Anya, Brooke, Camille, Zoey, Chelsea, CAMERON, Chloe, Emerson, Ashley, Christina, TYLER, Elijah, Alyssa, RORY, Dakota, Anaya, NICHOLAS, Dylan, Danielle, Destiny, Nicole, Sara, Adriana, Eden, Olivia, Egypt, Moses, Blimy, NICOLE, Elizabeth, Zoe, Aaron, SHLOMO, Johnny, Finn, EMILIA, HINDY, Emani, Emily, Ian, Nicole, NORA, THOMAS, Sylvie, Emma, Brianna, MADISON, OWEN, Esther, Eva, Felix, Kadiatou, Heidy, AUDREY, Faith, MANUEL, Penelope, Fatima, LUCAS, Fatoumata, Nora, HUDSON, TRISTAN, Aaron, Gabriella, Jayce, Adeline, Gabrielle, Arianny, Genesis, Isla, Selina, Vanessa, Malka, Hunter, Morgan, Gianna, Isiah, JORGE, Giselle, Grace, Mariah, ANIYAH, Hailey, CORA, Hannah, Gavriel, Harmony, Hawa, ELISE, Heaven, Imani, MARIA, Chava, Jacqueline, Isabella, Leo, Darren, Isabelle, Edward, Isis, Jada, TIFFANY, ALINA, HEAVEN, SERGIO, DEVIN, Mohammed, Noah, Jade, Mandy, Ayleen, King, Autumn, ZAINAB, Jake, Jaliyah, Janae, Janelle, Walter, Zahir, Shayan, Janiyah, JACK, Aden, AMIRA, Lara, Jasmine, Mouhamed, Stella, MARIO, Jeremiah, Jayla, SAM, Jessica, Albert, Jordyn, Journey, Mouhamed, Kadiatou, Karen, Arjun, SARAH, Summer, Kaitlyn, Kayla, Kaylee, Kaylin, Kennedy, ISRAEL, ANTONIO, ELIYAHU, MARTIN, Khloe, Kaiden, Tamia, JADEN, Juliet, Alexis, Kiara, JUN, Kimora, Adonis, Kaiden, ISLA, NATHAN, VICTORIA, Sarah, Kourtney, Raymond, KAMILA, Lydia, Vivian, Kyla, Kylee, ANNE, Kylie, Alan, Lucien, Laila, CLAIRE, Damien, TIMOTHY, Katherine, Francis, Lauren, Dylan, ANGUS, Gavin, CARSON, Giovanni, Layla, STANLEY, Valerie, Leah, Avrohom, PRINCE, Leila, Lily, Austin, Azaria, JULIEN, Anthony, Meyer, Christina, Everett, James, Ellis, PHOENIX, Hanna, London, MATTEO, Hayden, ADINA, Londyn, SHERRY, Lyric, Mackenzie, TOBY, Henry, Madison, Harmony, Madisyn, VANESSA, Binyomin, Makayla, CAMILLE, Alina, Hana, Boruch, Malia, Maliyah, Mariah, Mariam, Jason, Mohamed, Mariama, Poppy, Maya, Jordyn, Taylor, McKenzie, Valerie, Melanie, Evie, NATHANAEL, KARLA, Marielle, ELIZA, Melody, Liam, Faigy, TERRENCE, Mia, AMAYA, Gavin, Yides, Malky, Michelle, Lucien, ANGELO, Milan, Shloime, Kaylin, Milan, Jennifer, Itzel, Bennett, KYMANI, Elijah, VICTORIA, Vanessa, Patrick, Yasmin, NATHANIEL, AISHA, Jonathan, Miracle, Julie, JAYLA, Calvin, Morgan, EDGAR, Amber, Brenda, Nicole, Amber, Sienna, Mya, Nadia, Nahla, Naomi, Nevaeh, DAHLIA, Nia, Anastasia, Pamela, Devin, MARYAM, Angelina, Hafsa, Rose, Nyla, Nylah, Olivia, ELISE, Oumou, MILEY, Paige, Paris, Isaac, ELIZABETH, Maggie, Paul, Sabrina, REAGAN, Amina, Payton, Peyton, Rebecca, Kimi, Phoenix, Jasmine, Leon, Rocco, Atara, Precious, Aria, LAYLA, Reese, Caroline, YOCHEVED, Khloe, Princess, Sydney, Riley, Aubrey, Mariana, Summer, Lenny, Saige, James, Tiffany, Eleanor, SHIFRA, Samuel, Dominic, Samantha, Samara, Samiyah, Chelsea, Sanaa, Chase, Oumou, WILLIAM, Sanai, Saniyah, Sarah, Aleena, Chloe, JESSICA, ALINA, SHEA, Sarai, Sariah, Sasha, HALEY, ALANI, Savannah, Yitty, Tristan, Scarlett, Ben, Serenity, Shania, Skyla, ALLISON, Eliza, LEORA, Skylah, Jace, Marcus, Skylar, Sofia, Leandro, MIKAELA, Sophia, Matteo, Austin, WILSON, Noel, Israel, JAYDA, Summer, Melvin, Misael, Sydney, Adrian, Talia, Tamia, Taylor, Jayden, Tiana, Trinity, LEONARDO, Victoria, Aisha, Wynter, RAYAN, Yehuda, Zaniyah, Zara, Zariah, SHALOM, Zoe, Zoey, Zuri, ARIA, Aaliyah, Dante, Abigail, Timothy, June, FATIMA, Stephanie, Logan, TENZIN, Xavier, Dante, SHMIEL, Jazlyn, BRACHA, Abril, Chance, Liliana, Yaakov, Christopher, Evelyn, Eliza, Giselle, Kaiden, Adriana, Adrianna, Arvin, Alexa, Aileen, Aimee, Mirel, Alana, LUKE, ELLIANA, DOV, LEAH, Janae, Ali, Alani, Alanis, Alanna, Arlo, Alejandra, Alessandra, AMAYA, MARK, Alexa, Alexandra, Alexia, MADELINE, Alice, BIANCA, Aylin, Kyle, ADELAIDE, Valery, ROBERT, Alicia, PAOLA, Stanley, Thomas, JOSE, Fiona, Aharon, Alina, Lev, CHELSEA, Alison, Aidan, JAXON, Alisson, Aliyah, Allison, Allyson, Mohamed, Alma, JAYREN, Gianluca, Alondra, Stanley, Alyssa, Byron, Amanda, Amaya, Vivian, Amber, Jaylene, Amelia, Sofia, Amy, FRADY, Ana, Aliyah, Adam, Jaylah, Tatiana, Pinchas, Lesly, Oliver, DEVORAH, Dylan, Anabel, Menachem, JIMENA, NELSON, RYAN, Jason, MAYA, ELIANNY, Faith, Amina, Elliott, Alicia, Anabella, Naomi, TASNIM, Harry, Analia, Anaya, JULIAN, Nia, Andrea, LUCAS, Angela, Mariam, Angelica, Hinda, ALYSSA, DANNY, SABRINA, Angelina, Asher, Rohan, DINA, Layan, Francesco, Kai, GIULIA, Kristen, HAREEM, JASPER, Angelique, Carson, Leila, Angie, Cynthia, Heaven, Thomas, Jasper, Annabella, MELVIN, Sury, Leonidas, Christian, Jasper, Annabelle, Nina, April, Vivienne, Jacob, LINA, Mateo, CARTER, Aria, MOLLY, Ariana, Arianna, Jesse, Ivan, Arianny, Parker, YESENIA, DEAN, Joseph, HELEN, Barbara, Chelsea, Ariel, Ariella, Arielle, Nyla, Ashley, Hershy, CODY, Athena, Aliza, LOLA, Aubree, Adrian, Louise, Litzy, Gabrielle, KYLE, Jessica, RILEY, Kaitlyn, EMERSON, ADAM, Ariel, Cole, Aubrey, BRIAN, Zion, Louisa, Arjun, Vincent, Audrey, Jaxon, Aurora, Autumn, Samantha, Sasha, Ava, Ariel, Derick, Pearl, Avery, Ariel, Elena, Ayleen, Aylin, Bella, MELANIE, Alexia, Bianca, Jayson, Hanley, Raphael, Brenda, KHALIL, Briana, Brianna, Mariana, Brielle, Britney, ROSA, Eliam, Anna, Abigail, Amy, Alison, Scarlet, Sherlyn, Luke, Athena, Brittany, PERLA, Bryanna, Camila, Camilla, Katelyn, HAMZA, Carla, JULIANA, Sophie, Carmen, HANNA, Mariam, Caroline, Fiona, Cataleya, Lipa, LEO, GAVIN, Eliza, Catalina, Nicole, Gittel, Leslie, Emily, Catherine, Charlotte, Chelsea, Leandro, Marilyn, Chloe, HENRY, Nyla, Crystal, Riya, Shea, Giselle, Daisy, Dayana, Summer, Daniela, Adele, Daniella, Meir, PETER, AISSATOU, Danna, BONNIE, Gemma, Dayana, Delilah, Fatou, Kenneth, Destiny, Diana, Anthony, Jared, Dulce, Dashiell, Sergio, Eileen, BINTOU, ALVIN, JACOB, Annika, Elena, ABRAHAM, Kevin, Evan, Mark, ANALIA, ARIELLE, DAVID, Leo, Eliana, Elisa, Iris, Eliza, EVAN, Elizabeth, Annalise, GABRIEL, Perel, Melany, Jimmy, Ella, Emely, Emilia, Londyn, Emily, Emma, Erika, NATHALY, Noelle, Vincent, Lorenzo, AMALIA, Nina, Esmeralda, MAKAYLA, Esther, Andrew, Wyatt, Giovanny, Selena, Eva, Arisha, Evelyn, Faith, Hannah, Delilah, Fatima, ANDY, Brittany, Gabriela, Yehudis, Anne, Elias, CHLOE, Gabriella, AMAR'E, LOGAN, Brianna, Cameron, Genesis, Aylin, Carson, Gia, Aubree, Gianna, NATALIA, Otto, Giselle, Rivka, LILY, Kennedy, Liam, Grace, Guadalupe, Allen, CHANCE, Hailey, Haley, KYLEE, Hannah, Haylee, KYLIE, Hazel, SUMMER, Heaven, Heidi, Carlos, Heidy, MARIAH, Jael, MENACHEM, JONAH, Aayan, Helen, Eli, Freya, Skyler, OSCAR, Serenity, Iris, Isabel, Amelia, Isabela, Eliana, Isabella, Isabelle, VALERIA, Isis, Zane, NATHAN, PAUL, LAUREN, Nyah, Orlando, KRISTIAN, Tzipora, Moussa, Itzel, Aniyah, Chavy, Izabella, KENNETH, Leo, Jacqueline, Owen, Carina, Quinn, Julio, Quinn, TIMOTHY, Jade, Bella, Jocelyn, Sunny, JAZLYN, Aidan, Jaliyah, TAMAR, Janelle, KAREEM, Jasmine, DEAN, MOHAMMED, LUCIA, Jayda, Jayla, Shmuel, Charlie, Charles, BENSON, GRETA, Sherlyn, Sam, Jaylah, Lauren, Paige, Jaylee, Adrian, Jayleen, Jaylene, Janelle, Etty, Jaylin, Cooper, MATTHEW, Mikaela, LITZY, Nicolas, Jazlyn, Abby, Jazmin, Hindy, OLIVIA, Jazmine, CECILIA, Itzel, Jennifer, Jessica, NOLAN, Jimena, Ayden, JEFFREY, Jocelyn, ALINA, Johanna, Joselyn, Tony, Julia, Juliana, KAYLEE, NIKHIL, Julianna, Juliet, David, Mendel, Juliette, Nathan, Dominick, Julissa, Kailey, KAYA, Kailyn, Kaitlyn, SHAYA, Kamila, JOSEPHINE, Karen, Karina, Laila, Aron, Oscar, Nechama, Karla, Kate, EMILY, Katelyn, Jaiden, Shirley, Angelica, Maxwell, BLIMY, IZAIAH, Katelynn, Katherine, Katie, Kayla, ANTONIA, Kaylee, Skylar, Peyton, Kate, Kayleen, Benson, Scarlett, Ahnaf, SAVANNAH, Kaylie, Kaylin, Nolan, Kelly, Raymond, Valentina, Kelsey, Lucy, Kendra, Keyla, Khloe, ALAN, Kiara, Kimberly, Zachary, Kylie, Leila, MIKE, Jeremiah, Chesky, George, Giuliana, Brooke, Laila, SAVANNAH, Laura, Lauren, Mae, Layla, ERIC, AMIR, NATHAN, Leah, Leanna, Skyla, Yariel, ALEXIS, MAKAYLA, Leila, Annabelle, Kylie, Leilani, Poppy, Ahnaf, FELIX, Emma, Shraga, Leslie, Robert, BRIANNA, Lesly, Maryam, Leyla, Lia, Aicha, Liana, Liliana, Lily, Filip, Makayla, Litzy, BRYANNA, Lizbeth, Leon, Lola, London, Lucia, Luna, NATALIE, Kyle, MICAH, Mendel, BLAKE, Elan, AVERY, Preston, Luz, NOA, Julianna, Madeline, Madelyn, Caleb, Genevieve, Madison, Maia, Kimora, Bracha, Maite, Makayla, NIKITA, Milan, Maryam, Esther, Malia, Maria, Camila, FRANCES, Mariah, Jayson, Prince, Sean, Jonathan, Mariana, Marilyn, Elizabeth, RIVKA, Mohammad, Alisa, Marjorie, Ayesha, JULIANNA, Maya, Melanie, Melany, Melina, Melissa, Melody, Lazer, PRESTON, Mia, Michelle, George, Mohamed, Mila, Muhammad, Mason, Milan, Aaliyah, MAKHI, Eleanor, Miley, Shawn, Miranda, Miriam, Mya, Naomi, Gia, Celine, Emilia, Nashley, Diana, Natalia, Natalie, Natasha, Nathalie, Justin, GAVRIEL, JULIO, Raizel, Goldy, CARLOS, Nathaly, Claudia, Inaaya, Nayeli, Saul, Allyson, Jaden, Nevaeh, Mackenzie, Eitan, LILAH, Hazel, Nylah, AMINA, Nicole, Nina, Noemi, Camden, BRYAN, ERIN, RICKY, SARAI, Alexander, Nyah, Aryan, AUSTIN, Nyla, Victoria, GABRIEL, KINGSTON, Nylah, Olivia, Aahil, Paris, BORUCH, VIOLET, Rebecca, Adam, Summer, Paula, KADEN, Juliette, AMANDA, Penelope, Peyton, Sebastian, Paris, Rachel, Raquel, Rebecca, Shane, Rihanna, Harrison, Riley, Kiara, Celine, AYDEN, FRANCESCO, Hanna, IBRAHIMA, Rose, Kyle, Ruby, Sabrina, Reed, Samantha, Sara, Arabella, Sarah, Sarai, Savannah, Scarlet, RAYMOND, MADELYN, Eric, Lucas, Jeffrey, Brian, KIERAN, Scarlett, CATHERINE, VIHAAN, Jayce, CHARLIE, Jaden, Autumn, Selena, Molly, Serenity, Shayla, Sherlyn, IBRAHIM, Mordechai, Jacqueline, JARIEL, Shirley, Aniya, Skylah, Skylar, Sophie, Sofia, Sophia, Esther, Sophie, Stacy, Stella, Diego, Stephanie, RICHARD, Pablo, Summer, MAGGIE, AUBREY, Tatiana, Carter, ROIZY, Taylor, Sophia, Tiffany, Trinity, Valentina, MADISON, Valeria, Santiago, Valerie, MAYER, Aileen, Valery, CYNTHIA, Edward, Vanessa, MILES, Malik, LYLA, Victoria, Adrianna, JULIE, BELLA, Violet, Karina, Grayson, Alice, Jasmine, Nylah, Brigitte, Vivian, Wendy, Ximena, Yamileth, SKYLAH, Yaretzi, DEVIN, Arely, Queena, Lila, Zara, Henry, Zoe, Cesar, Zoey, MARIAM, Keira, Natasha, ALLEN, Abigail, Ada, Addison, JERMAINE, LYDIA, Shaina, MIKAYLA, Madeleine, Adam, FILIP, Hailey, EVAN, ALISON, Emilia, Dahlia, Adelaide, Jessica, Kourtney, Graham, Adele, JOYCE, Lillian, Adeline, Adina, Gia, Layla, Aydin, JASPER, Hailie, Adriana, Savannah, Moussa, Gianna, Adrianna, Ahuva, ARIA, Aisha, Aleksandra, Alexandra, Alessandra, Wendy, Marco, Alessia, Alexa, Alexandra, Alexia, Alexis, Alice, Monserrat, Alina, Alana, Alisa, Evan, Melissa, Aliza, Michelle, STACY, ALEXANDER, CHANIE, Harrison, Micah, MUSA, Allison, KEIRA, Mariama, Alma, Alyssa, Robert, Amalia, Amanda, Talia, Amelia, Hawa, Chris, NICHOLAS, Aleena, Anna, Amalia, Amelie, Layla, MAEVE, Camille, Summer, Kaden, ALESSANDRA, Asher, SIMA, Edison, Aaron, Marvin, Amina, Aubree, Amira, LEILANI, Amy, Maya, Ana, Anastasia, Charles, CHRISTIAN, Angelina, Levi, ARON, Anisa, Anna, ANGELICA, ESTY, Annabel, Prince, ALIYAH, TZIVIA, Stella, Preston, Eileen, Annabelle, Jordyn, CHRISTINE, SERENITY, Anne, Antonia, DANIELLE, DELILAH, Aria, Ariana, Christian, Arianna, Marcus, Eliezer, Rory, Brendan, Ariella, Imran, AUDREY, Youssef, Giuseppe, Ashley, NICHOLAS, SOPHIA, Judy, OWEN, MILES, Ryder, Athena, GORDON, Gavriel, GABRIELA, Giovanni, FATIMA, BECKETT, Charles, EMMA, Eva, ROSELYN, AMIYAH, Serena, Aubrey, Yossi, Audrey, Cecelia, PAUL, Devorah, Aurora, Luka, Ava, Avery, JOEL, FRANCISCO, AKIVA, Alan, Derek, Avigail, Pedro, Zayden, Josephine, Delilah, RAFAEL, Hailey, Karina, Daniella, OLIVER, Aminata, Cayden, Aviva, NATHANIEL, Nashley, Claire, JACQUELINE, SURY, Baila, MATEO, Basya, Batsheva, Beatrice, Beatrix, JAMES, Amare, ADRIANNA, Cayden, Gianna, Phoebe, Amari, Bella, Blima, Derek, Arianna, COLE, Blimy, SAMANTHA, JUNE, Lara, AVERY, Addison, Hannah, Bracha, Zalmen, Breindy, ALMA, LEO, Brianna, Bridget, CECILIA, Angie, Moishe, Colin, Lyla, Brielle, Ruchy, Caroline, Gavin, Alex, Brooke, Karas, Bruchy, Madison, LIZBETH, Caitlin, Sima, Camilla, Bella, Camille, Caroline, Cassidy, JOEL, Wesley, SHAYAAN, ISABEL, Juliette, Fatoumata, Catherine, Alan, Aziza, Cecilia, Celine, Chana, ALEXIS, Edwin, Justice, Sabina, Chany, ZACHARY, Ada, Charlotte, Yakov, Chava, Juliana, Jude, Chavy, Chaya, Clementine, Jazmin, KYLE, JAMIE, Chiara, Chloe, Roman, Brandon, Christina, Claire, Vivian, MARYAM, JANICE, Clara, EVAN, Conor, Claudia, Clementine, Colette, Cora, Patrick, Dahlia, Daisy, Daniella, SAMARA, Tessa, Danielle, Josiah, Chany, ANGELINA, Daphne, Georgia, NATHAN, Devora, BRANDON, MAKSIM, Ian, DANIELA, Devorah, Amirah, Diana, Benjamin, Dina, RAYMOND, Dylan, Madison, Cynthia, Eden, Marcus, Kylie, NOEL, Stephanie, Edith, JAD, JORDAN, Miranda, Eleanor, SHMUEL, Elena, Eliana, Elise, Lukas, Elisheva, Aditya, Eliza, Sydney, MELISSA, Elizabeth, Chava, MEGAN, ELLA, Ella, JOHN, Ellie, Tristan, Eloise, AILEEN, Janelle, Mariah, Amina, Elsa, JESSICA, Emerson, Emilia, Emily, PETER, Emma, Jean, HENNY, SARIAH, YEHUDIS, Emmeline, Ester, Oliver, Esther, Esty, Etty, Jordan, Eva, Gabrielle, Eve, VIVIAN, NICOLETTE, Evelyn, Axel, JAIDEN, Marvin, Ayan, Alexia, Faiga, SPENCER, MAX, JACOB, ALANA, Faigy, Jennifer, Farah, Fatima, Bianca, Fiona, Fradel, JANIYAH, Fraidy, Frances, Francesca, Alessia, Freya, Frimet, Liana, Catalina, Gabriela, Gabriella, DENISE, Gabrielle, RACHEL, Gemma, Lisa, CALVIN, Genevieve, EDISON, AMADOU, Georgia, Gia, Gianna, Jaylen, Giselle, Gittel, Gitty, Zara, Layan, Weston, BENJAMIN, Giuliana, VALENTINA, GUSTAVO, Golda, Goldy, Grace, Dovid, Nathaniel, Hadassah, Hadley, Jefferson, Jeremy, AMBER, Gabriella, LOUIS, JOANNA, DULCE, SAMUEL, Noah, Hailey, Yitty, Alejandro, NATALIE, Grayson, ALEXA, Hana, Liam, Hanna, Omar, Hannah, Abigail, Shaya, Harper, Hazel, Fradel, Michelle, RILEY, Jaxon, Leanna, Helena, Henny, ARMANI, Jean, Carlos, Hinda, Leilani, Hindy, Melanie, Idy, Bradley, Ilana, KEYLA, Iris, Philip, Ivan, Mason, Jasmina, Emanuel, RACHEL, CARTER, JACE, Vicky, BRAYDEN, BROOKE, Lauryn, Eden, Isabel, Isabella, Isabelle, Isla, Tiffany, Alexander, Ivy, Jacqueline, Kaiden, Rihanna, Justin, Mendy, Jana, NOEMI, Gabriela, Yisroel, OLIVER, ADA, KAIDEN, Jane, Jordan, WYNTER, Noemi, Jeffrey, SASHA, Jasmina, CHASE, ANSON, Noah, Jasmine, Jenna, Jessica, Sarai, Catherine, MOSES, ELIMELECH, Benjamin, Aarav, Dominic, Hudson, Jordan, INES, Jordyn, Josephine, Francesca, Amelia, Joyce, Judy, Joseph, THOMAS, Ismael, Julia, Antonia, Juliana, ALISHA, Jayceon, JULISSA, Julianna, Elena, Kaylin, Seth, Elvis, ANGELO, Julie, Jason, BRODY, JESSICA, Iris, AYAAN, Valentina, Juliet, Juliette, Kelsey, Maria, Dylan, Arya, JASON, Timothy, June, Anton, Hailey, JULIAN, Brooks, Isabelle, CINDY, Alexandra, MICHELLE, Wilson, GRACE, Richard, Melissa, Frank, HERSHY, Samantha, LENA, Preston, Esteban, Jasmine, MAXWELL, Annie, JULIEN, Athena, SERENITY, JANE, Rhys, Landon, KENNY, Kaitlyn, Vivian, ISAAC, Arya, Kate, Tori, ASHTON, EVANGELINE, Lina, PAIGE, Hawa, Derek, Jimmy, Zion, OLIVE, ADA, Katerina, Katherine, JACE, Brielle, Kayla, Fatoumata, Kaylee, CHRISTIAN, Keira, Ella, Kyle, Raymond, Leonardo, Elsa, Kira, Madison, Kylie, ALEX, JESUS, Diana, Laila, Nazir, MARCUS, Duvid, ANGEL, Lara, Grace, Rivky, Derek, Laura, Lauren, Layan, Cassidy, Layla, CAROLINE, Lea, Leah, LEON, NEIL, CAMREN, Ella, Anna, Emmett, Abigail, Ayden, Leila, Lena, IAN, Leona, Luke, SOPHIE, Mohammed, Leah, JONATHAN, NICOLAS, Leora, Leyla, STEVEN, FAITH, Lia, Liana, Liba, Lia, DARIEL, Adrianna, Libby, Lila, Liliana, Layla, Hersh, Lillian, Celia, Eason, Eva, Lilly, Lily, Anderson, Lina, LENNY, Brielle, Liv, Livia, Lola, Victor, Louisa, Jake, Chaya, John, Lauren, Jordan, Bryanna, Avigail, Sanai, Louise, SABRINA, Danny, Ava, Dariel, Lucia, Luciana, ALEXANDER, MARIAH, Benjamin, Lucille, Lucy, Lea, Luna, Layla, Destiny, Mendy, Lydia, PAULA, IVANNA, Dov, CRISTIAN, JEREMY, Lyla, Isabella, KAITLYN, Chiara, NINA, Edwin, Grace, Mackenzie, Madeleine, Elizabeth, Jeremiah, Andy, Chloe, Ariel, Madeline, KATHERINE, LOGAN, Ezekiel, MATTHEW, CHRIS, DAVID, Axel, Madelyn, Madison, Salvatore, Mae, MYA, Maeve, Malak, TYLER, KEVIN, Kabir, Milana, JORDYN, EMMA, Thomas, MARIA, Malka, Malky, Margaret, TYLER, JEFFERSON, Hayden, Darren, Lillian, Margaux, CLAIRE, Chaim, Margot, Maria, Mariam, HARVEY, Mary, MASON, SCARLET, DIEGO, Athena, Maryam, Trany, Salma, JUSTICE, Ariel, Matilda, Lila, Lucia, Hannah, Moises, Binyomin, Scarlett, LEAH, Ahuva, Andy, Leslie, MUHAMMAD, Theodore, Maya, Milan, JOHN, Louis, Megan, Jael, YADIEL, GAEL, Fatima, GIOVANNI, John, Annabella, Logan, Melanie, Aviva, Mia, LAURA, Mila, Michal, Michelle, IZABELLA, MORGAN, IKER, Mikayla, Mila, Milana, LYRIC, Mina, Abrielle, ALBERT, Shimon, AMARI, Alice, Mindy, Brandon, Ian, Mira, Sabrina, Luca, Alanna, JAYLEN, Dean, Maxwell, Taylor, Nora, Mirel, Anisa, Ella, Miri, CAROLINE, IVAN, Noel, Luke, Xavier, Miriam, HAYDEN, Molly, MARCUS, Max, Malia, XIN, JAMARI, MANDY, Morgan, Mushka, Nadia, Eliana, Naomi, Adriana, Carina, Ezequiel, Natalia, MAYA, SIENNA, EDWARD, ELIJAH, Hadassah, VIOLET, RICHARD, Natalie, ABIGAIL, Nechama, ALBERT, Nicole, DALIA, Nina, Elias, Ben, Max, Noa, Nora, Norah, Olive, Wynter, Olivia, Jaden, Megan, Paige, Mark, Pearl, Alina, Theo, FABIAN, AMIR, Penelope, Perl, Pessy, Alexis, Audrey, Ethan, Peyton, Baruch, IDY, PINCHUS, MATILDA, Adina, Kelly, Phoebe, Yoel, Piper, Poppy, JONAS, Quinn, JOSUE, Rachel, Nylah, Sage, Raizel, IVAN, Raizy, Reagan, Rebecca, Tristan, Reese, JAYLA, Renee, CHAD, Paris, JAKE, REESE, Rifky, Ava, Isaiah, Riley, Sholom, GRACE, Rivka, Kaitlyn, Rivky, Rochel, Roiza, Raymond, Romy, Charlie, Rose, Ruby, ZAIRE, Caleb, Ruchy, Kayden, Sabina, Sabrina, Crystal, Lorenzo, Jadiel, ABRAHAM, JAY, Jaxson, Sadie, SERENA, Elias, Yechiel, Sage, Salma, Samantha, Sara, Emmanuel, CHASE, Sarah, ASHLEY, Sasha, Savannah, Scarlett, Serena, Leonardo, Penelope, Jonas, Shaina, Shaindel, Shaindy, DEVIN, Maximo, CADEN, Shifra, Ryan, BRYSON, Sarah, Shira, Shoshana, BATSHEVA, JOEL, Siena, Sienna, Gavin, Nathaniel, Sima, Simone, Karina, Aubrey, Savannah, Skylar, Jordan, Archer, Sloane, Valentina, Abraham, EVA, Emmanuel, LUCIA, Sofia, Kenneth, Meir, JAYLAH, Sophia, SAMANTHA, Chase, Raul, Sophie, ARIEL, YOUSSEF, NOEL, Stella, Summer, Kyle, Suri, Andrew, Leora, Jeremias, Sury, Maximilian, Sydney, Aryeh, Jorge, FRAIDY, Sylvia, Shirley, Yitzchok, Talia, Mary, Tamar, MYLES, Riley, Taylor, Tessa, Bryant, JACE, JANA, Toby, RIVKY, Jordan, Tova, Trany, Arian, Blake, Oscar, Brynn, Amira, TORI, ALYSSA, MATTHEW, Levi, Christina, Lila, MARCO, Tzipora, Ethan, FRANKLIN, Elisa, Mathew, Valentina, Valerie, Vanessa, Veronica, CHELSEA, ELIZABETH, Dominic, Jack, Drew, Victoria, Violet, Frimet, MARIANA, Jonah, EMMA, Vivian, CHAVA, LAILA, Bennett, Vivienne, Willa, Mariah, SINCERE, Hugo, Yael, Zev, Owen, GRAYSON, Yasmin, Yehudis, Dominic, Alessandra, Yides, Yitty, GABRIEL, Yocheved, Zelda, Jimmy, JAMES, SASHA, Aurora, Zissy, Zoe, Kamari, Zoey, LEA, Aarav, ALEX, ELVIN, Aaron, Aayan, Cindy, Abdul, MADELINE, Sholom, Abdullah, Alicia, Logan, Adam, Mohammad, Aditya, Kieran, Ryder, ABIGAIL, ERIC, Kimora, London, Adrian, Leilani, Eden, ADONIS, JOSEPH, Maximilian, Adyan, Melody, Zaiden, Liam, Ahmed, Adam, AUSTIN, Ahnaf, Kaden, Aidan, SOPHIA, Aiden, Elias, Alan, Albert, Alex, Israel, Alexander, Haylee, ARIANNA, Manuel, Ali, Allen, Alvin, MELODY, Alexandra, Blimy, Andrew, Jimena, Andy, Keira, Chase, MATEO, Peyton, GITTEL, Anson, MARVIN, Declan, DOMINICK, Hillel, Anthony, Arjun, STEPHANIE, Matteo, Aryan, Asher, LUKAS, Colin, HELEN, Sabrina, Lina, CARMEN, Austin, Elsa, ANDREW, Angela, Avery, KIMBERLY, Ayaan, Ayan, SHLOME, Ayden, ABEL, Benjamin, Avrum, Jasmine, Zachariah, ALEX, Benson, Justin, Bowen, Mathias, Rose, Maryam, Brandon, Francisco, Brayden, Carmelo, HECTOR, SAMUEL, Brendan, Patrick, Abdullah, Brian, PAUL, EMMANUEL, Bryan, Caleb, Zara, GRAHAM, Shaina, ALEJANDRO, Jenny, CALEB, Aissatou, Luca, Riley, Calvin, GUADALUPE, ANNABEL, Carson, Carter, Jaiden, Arielle, Samantha, Adrianna, Annabelle, Omar, Timothy, Charles, Ximena, Chris, NICOLAS, Dulce, Christian, Christopher, Hana, Colin, Aniyah, JERRY, SYDNEY, SAMIR, Shiloh, Connor, Damon, Taylor, Daniel, Danny, Darren, David, RONALD, Derek, Oumar, Jenna, Myles, Caleb, CONNOR, VANESSA, EMMETT, Cairo, BRADLEY, Devin, Allen, Dylan, Evangeline, Eason, IAN, ADELE, Eddie, Annabelle, Zachary, Eden, Edward, Audrey, Chaim, Edwin, Naomi, Ahmed, Eli, Elijah, Elvis, Emerson, Eric, Ethan, Evan, Farhan, Felix, Aria, Joyce, Gabriel, Gavin, CHARLIE, FIONA, Jamar, Liam, Michelle, Angelina, MILAGROS, Gabriel, AVRIL, Calvin, BRYAN, Alani, George, Jamie, Gordon, BLAKE, Alice, Harrison, Harry, ALEXANDRA, Alexander, Hayden, KELLY, Henry, MADISON, JOY, SYED, Hudson, GABRIEL, Hunter, Sebastian, AMY, Ian, Ibrahim, Bridget, Chris, EVELYN, Mushka, Brayden, Isaac, Ishaan, Ivan, Owen, NIA, Ana, Jack, Madison, Jackson, Shaindel, ZALMEN, LUNA, Jacob, Jaden, ARIANA, Jake, Ava, Xavier, Messiah, ANDREW, AUSTIN, ETHAN, Kali, Emma, LAYLA, Raymond, RAQUEL, James, Yitzchak, Dylan, DEBORAH, SANDRA, Fradel, Jason, VICKY, Maxim, JOSIAH, Damon, Jeremy, Mike, Selena, Enzo, Breindy, Mia, Tamar, Matthew, Jasper, ELLA, Grant, Adyan, AMBER, Ariella, Alma, Taylor, BRENDAN, MIKAYLA, Jayden, Jeffrey, Jeremy, Leon, Jerry, Sincere, Lydia, Jimmy, LIZ, John, JOLIE, Noah, Johnny, ALESSANDRA, Efraim, Shoshana, Jonathan, Jordan, Jeffrey, Daphne, SHANE, Joseph, Joshua, JANELLE, Julian, Justin, Nathan, Kai, Alondra, MILA, YOSEF, Kayden, Eloise, SEAN, Francesca, SILAS, HAILEY, Kevin, Aisha, LILY, Kimi, Cristopher, FAIGY, Kingsley, Eunice, Laila, Hailey, Jose, ERIC, Kyle, Lawrence, Malachi, RONAN, Victor, Leo, MIRI, Leon, Liam, Logan, BRIELLE, Penelope, Skyler, Skylah, SABRINA, Ian, Madeline, Louis, Lucas, Michael, Luke, Marcus, Lucia, GRACE, Christopher, Martin, Mason, Katerina, Jana, Hannah, Matthew, DAPHNE, Jaylah, Caiden, Ayala, Ana, Carter, Max, RIHANNA, Eden, MALIA, ANIYA, Yehoshua, Dominick, Maximilian, Maxwell, Sarai, Katelyn, Naftuli, Batsheva, Md, Michael, Lucille, DYLAN, Miles, Mohammad, Malka, Mohammed, Rafael, Muhammad, Anabelle, Nayeli, Nathan, Avi, KAIDEN, Samara, Nathaniel, Nicholas, KELSEY, Noah, Julissa, HAWA, Usher, Nolan, Oliver, Annie, Romeo, Ariel, Oscar, Owen, Cormac, Mason, MELANY, Abby, Amia, Meilech, Louis, Gabriel, Andres, Elena, Rayan, David, Robert, Camilla, Rachel, Victoria, Iris, PENELOPE, Theodore, Raymond, Melody, Adrian, Rehan, Richard, PINCHAS, Ricky, Danielle, Rohan, LILIANA, GEMMA, Roy, Ryan, Omar, Caroline, Elliot, Nevaeh, Samuel, Richard, Jaden, Sean, Emmanuel, Sebastian, Shawn, Benzion, EDDY, YECHIEL, ABIGAIL, Stanley, Gabriel, Ronan, Shifra, William, Steven, Syed, Tenzin, HAZEL, RILEY, Theodore, Steven, Thomas, Allison, Emily, Timothy, Tony, Parker, JORDAN, Vincent, Gregory, Tenzin, Camren, Janelle, Tristan, Tyler, Victor, Victor, Shloimy, Vihaan, Peyton, Connor, Journey, Maison, Vincent, Taylor, Wesley, William, Faiga, Aliyah, Wilson, Winston, Xavier, Zachary, Allison, Zain, Zayan, Joy, Alyssa, Ilan, SKYLAR, Ezra, Samara, FREDERICK, Yael, Lucas, Ryan, Lily, Anne, Nathalie, MILAN, Joshua, Edison, Hershel, ADAM, Colette, ADRIANNA, SYDNEY, Aaron, Julien, KIARA, Joaquin, Jefferson, AYDEN, Abdoulaye, DEREK, Edward, Abraham, Adam, AMINATA, Nayeli, Aden, ZACHARY, Adonis, Adrian, McKenzie, Aidan, DAMANI, Ariana, Aiden, Alex, DAMIEN, Alexander, Basya, Liba, Alpha, SAGE, Riley, Paul, Autumn, Ruby, CHESKEL, Amadou, Robert, Amar'e, KYLIE, Jace, Melody, Nia, Connor, Amare, Lucy, AMINA, Nylah, Amari, SHARON, LUIS, AWA, Amir, Lia, Armani, HANNAH, Jason, Rose, WESLEY, Jimena, Andre, Andrew, Baruch, BRAYAN, WILLIAM, Maisie, SHIA, Olivia, Anthony, ANTHONY, HEIDI, Aurora, Elizabeth, Antonio, Ashton, Yahir, Elaine, Silas, Nelson, Eliyahu, London, Destiny, JENNY, MENDEL, Austin, LILA, Londyn, MUHAMMAD, Gerard, Isabelle, Ariel, ZAYAN, ERICK, Vincent, RYAN, John, LIBBY, ABDOUL, Rosa, Joseph, KINGSLEY, Avery, Ayden, Benjamin, Winston, JONAH, Blake, Boubacar, JADE, Bradley, Aisha, OLIVIA, Isabel, Celeste, Brandon, Lola, Riley, Amy, Beckett, Brian, GEORGE, Elian, Yadiel, Elisa, Ian, Evelyn, Bryce, Bryson, NACHMAN, ANDY, Caiden, EZEKIEL, LANA, KAYLIE, Cairo, Anaya, Caleb, LAZER, Camden, Charlotte, Cameron, MASON, Sebastian, Erick, Michael, Zaire, Sloane, Camren, Andy, Carter, Erik, Martin, Kayla, Charlotte, Cayden, Chance, Charles, Chase, Chris, Chase, Morgan, ADRIAN, Isabel, Christian, Cecilia, Naomi, Christopher, Connor, Jalen, Frederick, Joshua, Corey, ALI, John, Daniel, Zoe, Filip, Darius, Amiyah, Alondra, David, FAITH, Theodore, Jessie, SAVANNAH, Harper, Chelsea, Aliyah, Derrick, THEO, Devin, MUSTAFA, Dominic, ALIYAH, Victoria, Judah, Dominick, Heaven, Dylan, Mila, FAITH, CARTER, Elina, Evan, Amir, Shalom, Julia, Alfred, PENELOPE, Eli, Elijah, Laura, Adelaide, Emmanuel, Eric, DAISY, MOHAMED, Ethan, Evan, Ashley, Gabriel, Celine, Gavin, Ismael, Kiara, Miles, Evelyn, ELIANA, Giovanni, Gregory, PEDRO, Victoria, Hayden, Hunter, Miles, JACKSON, Adriel, Ian, JAELYN, AAYAN, Ibrahim, Joyce, Tianna, LORENZO, Ibrahima, Anderson, Chris, Nicole, Isaac, MUHAMMAD, Isaiah, AMANDA, Joel, LUCAS, Sabrina, Isiah, LONDYN, Ismael, Skyler, Winter, Adrianna, Israel, AHMED, Abel, Jace, Kevin, Jacob, AUBREE, CAMILLA, OSCAR, Shoshana, Arthur, Jaden, Jaiden, Jalen, Jaylen, Jamal, Jamari, AARON, Amaya, Jamel, Nathan, MYLES, Ada, James, Pearl, Mirel, Trinity, Camilla, Jasiah, RAUL, Jason, SAMUEL, Gianna, Jayce, Amina, Jayceon, Yocheved, DAMIAN, SYDNEY, Stephen, Hershel, GOLDA, GABRIELLA, Chase, Carmen, Jayden, Aurora, Jaylen, Jaylin, Jeremiah, Jax, BRITNEY, Jeremy, Joel, John, ALEKSANDER, HARPER, Paul, MALIYAH, Chelsea, Camilo, NATALY, Jonathan, AVA, Jordan, BRIELLE, Isabel, Esmeralda, Edwin, Eduardo, Yehuda, Joseph, Phoebe, Joshua, JULIUS, Tristan, Eli, Josiah, DARWIN, Emily, Liana, Sawyer, Summer, Rohan, Jaden, Cayden, Rory, Julian, Justice, Justin, Kaden, Alex, Kai, LUCA, Kaiden, Kaleb, Julian, Kamari, Randy, ANDREA, Kameron, Kareem, Janice, Samuel, Karter, Alexandria, LILIANA, FRANK, Bryce, Greyson, Bradley, JAZZLYN, Kayden, Kenneth, Kevin, KENNEDY, Kendra, King, AVERY, JIMMY, Farhan, Marcus, TROY, AALIYAH, DEVORA, Piper, Sophie, Kyle, Kyrie, Chris, ISAIAH, Leon, Levi, Liam, Trinity, Kayla, Logan, Lucas, Abril, Luke, Kelly, Michelle, EVE, Gitty, Oscar, Alec, Major, Alan, Malachi, Malcolm, JASMINE, Malik, Mamadou, Marcus, Nosson, FATIMA, Maddox, Gregory, Mason, Samuel, Ezra, ZISSY, SEAN, SANIYAH, Arthur, Matthew, Shraga, Mariam, Jeffrey, Valeria, James, SEBASTIAN, Maxwell, Mekhi, Messiah, Lyla, TAYLOR, Micah, NEVAEH, Michael, Mohamed, Mouhamed, Yousef, Julian, Moussa, Muhammad, SARAH, Musa, Myles, Thiago, Nasir, Nathan, NINA, Nathaniel, KAYLA, Angelina, Angela, Rafael, Eric, KAI, Nazir, Nehemiah, Nicholas, Charles, Samantha, Noah, Paige, Hinda, ELVIS, Noel, Eli, Madeleine, Nolan, VIVIAN, Michelle, Shalom, Omar, Oumar, Ousmane, RILEY, Maya, Owen, Allison, Patrick, Zaire, Quincy, Josiah, Paul, Lauren, Riley, MAXIMILIANO, ELIAN, Peyton, Preston, ISABELLE, Prince, Kingston, Vincent, Leo, ARIANNA, Richard, BENTZION, ARMANI, Rodrigo, Riley, Nathalie, Robert, Sadie, ALPHA, Ryan, Eden, Samir, Yaakov, Samuel, Rochel, YAAKOV, Ariana, CRYSTAL, Litzy, Elias, MARY, Kayleen, Marco, Derek, MARINA, AVA, Autumn, Sean, Grace, PEYTON, Zahra, Kai, Sebastian, Shane, SARA, HUDSON, AUSTIN, Miguel, KIMORA, Shawn, ARCHER, MEKHI, Shlomo, Yisroel, Sincere, Skyler, Stephen, Taylor, Muhammad, BENJAMIN, Timothy, PEYTON, Sarah, Bruchy, JAYLEN, ISRAEL, Kelly, Kaitlyn, Travis, Tristan, Tyler, ZION, William, Jordan, Adam, Kai, Xavier, Zachariah, Elena, Marjorie, Hunter, HANNAH, Zachary, Aileen, Zaire, JULIA, ARIELLE, Vivian, Emilia, ISAAC, Zayden, Zion, ESTHER, ATHENA, Erica, Aaron, Johnny, Xavier, Abel, Abraham, ARIANNA, Samantha, SANAA, Sara, LEONEL, Arielle, ISAIAH, MATTEO, Aryan, CHARLOTTE, Adam, Magaly, AMIR, EVELYN, Peyton, Adan, Dean, VICTORIA, Aden, LIPA, Sophie, Faith, Victor, Adonis, Maxwell, Adrian, Peyton, Sasha, Zara, Princeton, Amanda, ARISHA, Amber, Raizel, ANGELINA, Rocco, Yousef, Sylvia, Adriel, Aidan, Rivky, Aiden, DAYANA, Savannah, Alan, Albert, Julio, Nevaeh, CALEB, Jeremias, Juliet, Malaysia, NEYMAR, Madisyn, Aissata, KAYLEE, Jaxon, Alberto, Alejandro, Alex, Alexander, Vincenzo, Miracle, ABDOULAYE, Kaylee, Alexis, Michael, Bowen, JOSEPH, JULIE, Alfredo, MALAK, ALANA, Giancarlo, HAZEL, Allan, Alonso, Aubrey, ROSE, Marcus, AIDEN, Amir, Morgan, Anderson, Eva, ELIAS, Emiliano, Andre, Andres, Andrew, Moshe, Alina, SHLOIMY, Aubree, Ruchel, Jaxon, Andy, Angel, Angelo, Ayla, Anthony, Antonio, Reuben, Everett, Arian, Ariel, Armani, Ashton, Yoel, Austin, Shaindy, Avery, Gordon, Axel, Ayden, Liliana, Benjamin, KAMARI, Yitzchak, Blake, NATALIA, OMAR, Bradley, Brandon, Mohamed, Wendy, Keila, VINCENT, Brayan, Brayden, Brian, Brucha, Jaylin, Kayden, Felix, Bruce, Bryan, SARAH, Bryant, Jasmina, Byron, Caleb, Cameron, ADONIS, Oscar, GIULIANA, BRYAN, QUINN, Camilo, Miranda, Carlos, Lea, Melody, Carmelo, Carter, TRINITY, Fernando, Cayden, Alston, GRIFFIN, Cesar, Lyric, Charlie, MATIAS, Ada, Ricky, Chase, Chris, Jefferson, Christian, Christopher, Marcelo, Landon, CONNOR, LEVI, Morgan, Cristian, Cristopher, Antonio, Damian, Lola, Damien, Brooke, Daniel, Danny, Dante, Ashley, Emaan, Asher, QUINN, Cameron, CHRISTINA, SARA, Dariel, Darwin, ARYAN, LAUREN, Caroline, David, JEREMIAH, HAFSA, Dean, Jessica, Gavin, Rafael, Kaden, Aryeh, JAYCE, Cecilia, Denzel, Dereck, Alberto, Mayson, Derek, Shane, HUNTER, Zara, KATELYN, Devin, KATE, Youssef, Jeremy, VALERIE, AYANNA, Aisha, Nathaniel, Christopher, Khloe, Diego, Abraham, LILLIAN, Leona, Elle, Dilan, CRYSTAL, LILY, JULIET, Caitlin, Amelia, Dominic, Dominick, Rena, Dylan, AYAN, Edgar, Edison, Eduardo, Edward, Junior, Edwin, Eli, ETHAN, KEVIN, ALANA, Stephanie, Eliam, KAREN, Miguel, Robert, Layla, Elian, Lukas, Elias, Nathan, NATHALIE, HINDA, Leon, Elijah, Steven, Mariam, Emanuel, ALANI, DYLAN, Kaitlyn, Isabel, Trinity, Emilio, SIMCHA, Emmanuel, Eric, Zuri, WINNIE, Tzvi, Jeffrey, Erick, Anabella, NICOLE, Ethan, ELI, CHRISTOPHER, Evan, Ezekiel, Ezequiel, CYRUS, Ezra, Annabelle, Tzvi, Anayah, MAXWELL, ALYSSA, Lincoln, STEPHEN, TENZIN, Jayla, Emani, Angelique, SEBASTIAN, Fabian, Corey, KYLE, Tristan, Felipe, Felix, DESTINY, Fernando, Connor, Cooper, Francisco, Frank, ARIANA, Katie, BRANDON, Gabriel, Gael, Bryce, Shneur, Jerry, Gavin, SAMIYAH, GABRIELLE, EMILIA, George, Josue, AURORA, Gerard, KAILEY, PHOEBE, JUDE, Marcos, Nathan, Giovani, Brandon, Giovanni, JAYSON, Sebastian, Eleni, Giovanny, AVA, Alina, Crystal, KHLOE, Grayson, Tess, Gregory, SELMA, Gustavo, Hanley, Hector, Henry, Isaiah, Madison, LUZ, DANA, Jay, JUAN, Hunter, Malia, Lillian, Ian, Iker, Pessy, Isaac, Isaiah, Theo, CATALINA, Avery, Isaias, BELLA, Ismael, Brooke, Lena, Israel, Frank, Trany, Ivan, BRIANNA, Caleb, Samuel, YOSSI, Jace, Jack, Jackson, Owen, Jacob, ANTHONY, HUNTER, Tina, ADAN, Jaden, Fatima, Jadiel, Jael, Jahir, Jaiden, Jair, Jake, Xavier, James, Januel, Phoenix, Jared, Jariel, JEREMY, EZRIEL, Angie, Luna, Jason, YEHUDA, HADASSAH, Aimee, Grayson, JENNIFER, Yechiel, Javier, Vicky, MAKENZIE, Jaxon, Catherine, GAVIN, Joyce, BLIMA, AMALIA, Aidan, Allan, Brianna, NOAH, Angel, OMAR, Alisson, Moishe, Jean, Camila, Scarlett, MELANIE, Jay, Omar, Jayce, Jaycob, AIDEN, Julia, Danielle, ELIAS, Jayden, Anastasia, Jayson, Scarlett, Adrianna, IAN, Jean, Jefferson, Jeffrey, LEON, Alfredo, Jeremiah, Riley, Jeremias, Jeremy, Baila, Taylor, Jesus, ANTHONY, Giuliana, Kareem, Maximus, Natalie, Jordyn, BENZION, Jimmy, Nicolas, Joaquin, Brooklyn, BIANCA, Ilana, Joel, Johan, KAYLIN, John, Luz, Muhammad, Raina, Johnny, Jonas, PHOEBE, Jonathan, Jordan, Jorge, Ezra, Hunter, Jose, Ricardo, Gianna, Joseph, Joshua, Josiah, Isaac, Josue, Juan, Yaseen, Edward, COOPER, ARIEL, Zion, Julian, Julien, Julio, Joel, Adelina, Julius, CHLOE, Grace, Eason, SYLVIE, Cameron, Junior, Justice, Justin, Juliana, ALI, Kaiden, Fiona, CAITLIN, Kayden, Ayden, Alissa, KRISH, Martin, Noah, ZAIN, Camilla, Kelvin, AHMAD, ALEXIA, Maya, Kendrick, Albert, Zoey, FAITH, Kenneth, Kenny, AVRUM, Javier, Carmen, Kevin, Roiza, JAYLENE, Mathias, Jacqueline, YAHIR, King, Kyle, Landon, DAPHNE, Jacob, Erika, Danna, Leandro, Lenny, CHAVY, Ayaan, XAVIER, Leo, Leonardo, Lina, Leonel, Myles, Austin, Levi, JONATHAN, Liam, Lian, Frederick, Sofia, Yusuf, DANIELA, Logan, Lorenzo, Louis, Makayla, Luca, Lucas, George, Ryan, Jade, Luis, Amara, Shmiel, MELODY, Luke, Maison, Mauricio, ROWAN, Manuel, Marco, Marcos, Elsa, Marcus, Mario, Noel, Ronan, Cole, Aidan, Jake, Jaxson, Mark, Marlon, Martin, Marvin, KEVIN, Thea, Sima, MAYA, Mason, Mateo, Maxim, MALACHI, Mathew, DAVID, Leonard, PATRICK, Aubrey, Mathias, Matias, Leo, CAMILO, Thomas, Etty, Alyssa, Abigail, Henry, Matteo, Matthew, Sydney, Talia, Mauricio, Max, Maximilian, NYLAH, Maximiliano, Kennedy, Maximo, EVELYN, Samuel, Adonis, Kimberly, Sanai, Harry, SOFIA, Prince, Maximus, Kayden, Maxwell, Johnny, Mayson, Bella, Jeremiah, Melvin, DAMIAN, YISROEL, Michael, August, Jonathan, Gabriella, Miguel, Luna, Mike, Milan, Moises, Nathan, Manha, Nathaniel, Nelson, Neymar, PRESTON, AVERY, Mark, Destiny, Nicholas, Nicolas, Avery, Noah, Noel, Oliver, Omar, Oscar, GENEVIEVE, Owen, Pablo, ZOEY, Patrick, Paul, Maia, Pedro, Peter, ALEXANDRIA, Preston, Prince, Joanna, Preston, Lia, Rafael, JEREMY, Mason, DENZEL, Luca, Randy, Amir, Raul, Raymond, Ian, TIANA, Mushka, Ricardo, Lazer, Richard, KING, Riley, Eliana, Tiana, Robert, Roberto, CHASE, Alex, Sophie, Rodrigo, DAVID, Anna, DIANA, Abigail, POLINA, Malachi, Romeo, NATALIE, Avery, Ryan, Cristian, Samuel, Santiago, Jonathan, Sean, Sebastian, Sergio, Steven, Jeremy, Thiago, Naomi, Siena, Thomas, Timothy, Tomas, Tristan, Leah, Tyler, Hadley, Jane, Uriel, Valentino, Maria, Victor, Vincent, VIRGINIA, Wesley, William, Logan, DIYA, Wilson, Xander, Francesco, Xavier, SOFIA, YOEL, Winston, Iker, LIA, Leonardo, Yadiel, Yahir, Amir, Roy, Danny, Yariel, ANDRE, Fatima, CHESKY, ETHAN, Zachary, JADIEL, Leilani, JUSTIN, Zion, Emmeline, Vanessa, Kamari, AMELIE, JOHNNY, Aaron, Abdullah, Abraham, Adam, Adrian, DANTE, Aharon, Sean, KELLY, Rowan, MAHAMADOU, Bruce, Aviva, Isabel, Ahmad, Gordon, Ahmed, Brooke, Zain, Felix, Aidan, Aiden, Joy, Akiva, Alan, Alec, Alex, Alexander, Jackson, Archer, CAROLINA, Roberto, Ali, Elise, Antonio, ADITYA, Amir, Kingsley, ALEX, Luna, Landon, AYA, Edward, DERRICK, Andrew, ANDERSON, Angelo, Yidel, Anthony, OUMOU, Anton, Antonio, Archer, MORDECHAI, HUGO, ELLIOT, Ashton, Ari, ADDISON, Batsheva, Ariel, VALERIE, Aron, Andres, Ivy, Daniella, Arthur, Pedro, STEVE, Mindy, Amy, Arye, Isaiah, Gabriel, Aryeh, Asher, August, Reizy, Austin, Luke, BRIANNA, Laura, Sofia, YARETZI, BRANDON, Haley, Damian, EZEQUIEL, Maya, Avery, Avi, Avraham, Shane, Kate, MAX, Leibish, Avrohom, Avrum, YITZCHOK, Axel, Baruch, Beckett, Marc, Addison, PESSY, Mariama, Ben, Brandon, REBECCA, ETHAN, Benjamin, Bennett, KIARA, Angel, Benzion, MIA, Binyomin, Suri, Kaitlyn, CAMILA, Nadia, MAURICIO, Blake, Boruch, Celine, Karter, Bradley, Olive, Eric, LESLY, MIAH, Brady, Finn, Devin, Tziporah, Brandon, Brayden, Vihaan, Brendan, Eva, Brian, Steven, Nashla, Eric, Avital, Brody, Bryce, Ayden, Marco, Caleb, ABDUL, Claire, Cameron, LESLIE, Ezra, Jayson, ANAIS, Sarah, Talia, Carter, Alan, LINDA, Malcolm, Chaim, Abraham, Giovanni, Jessie, AICHA, Khalil, Charles, Wesley, Ariana, Yandel, Bria, JAYLEEN, Anaya, Charlie, Chase, Ibrahim, Ariana, Paige, Gabriel, Cheskel, Gianna, Yasmina, Angelina, JALEN, Dylan, Bridget, Faith, Miles, Fernando, Kelsey, Fatima, Linda, Melina, Chesky, Christian, Brianna, Alex, Christopher, Cole, Hailey, Esther, Colin, Daisy, Colton, Connor, SHLOMA, Conor, Cooper, Damien, Damian, Daniel, Simone, GIANNA, Chanel, Dante, Grace, David, Dean, Cora, Aria, William, YUSUF, Emanuel, Aidan, Omari, Declan, Dennis, HADLEY, Matias, Amy, Arianna, Hassan, APRIL, Desmond, Boruch, Devin, Alexander, Dominic, Frances, Malak, Emily, Nathaniel, Brian, Victor, Dominick, KHLOE, Santino, Dov, Leyla, PRINCESS, NAOMI, Albert, BRADY, Dovid, Gregory, MARCO, Eve, MARCUS, Jaycob, Miriam, Kiara, Duvid, Ava, WILSON, Dylan, Caleb, Leora, Edward, Julius, EVANGELINE, Efraim, Jasper, Lillian, Eitan, Anthony, Suri, AMELIA, ARIEL, Serena, Elan, Eli, Amaya, ALEJANDRA, RUTH, Amiyah, Miley, Danielle, Elias, Berish, Eliezer, Annabella, Elijah, Elimelech, CATHERINE, Eliyahu, Max, Elliot, Abdullah, Willa, Elliott, ALDO, ISABELLA, ROSIE, Lola, Emmanuel, AALIYAH, Emmett, Eric, Ethan, Evan, Fiona, HAZEL, Everett, ELLIOTT, Ezra, JUDY, AHRON, Skylah, Eitan, Cindy, Lev, ALYSSA, JEFFREY, Catherine, Amelie, MICHELLE, Felix, Filip, ELLIE, JOANNA, Esme, Finn, ERIN, MARK, Elizabeth, Francesco, Francis, Armani, Natalia, KATIE, Tiffany, Moises, TIMOTHY, ANNIE, Angel, Sincere, LIVIA, Frank, YEHOSHUA, SKYE, Christopher, Ashley, Jayda, ABDIEL, Dylan, Frederick, Gabriel, Gavin, Justice, Gavriel, George, Luciana, Kylie, Giancarlo, Skylar, Gianluca, MEGAN, Giovanni, SAMANTHA, Anthony, Graham, Grant, Grayson, Luke, Sophia, EVA, Avery, Eloise, Gregory, Greyson, Cataleya, Valery, Angeline, Griffin, AHUVA, Dovid, Damian, MICHELLE, Kailey, Hamza, Harrison, Harry, Veronica, Henry, Anthony, Yadiel, ELLA, Hersh, Sergio, Clara, JAIDEN, Hershel, ZARA, Skylar, MIA, ISAIAH, Hershy, Selena, Jacob, Eleanor, Jayden, Hillel, Hudson, Hugo, Jasmine, Arianna, Lincoln, Helena, MYA, NATHANIEL, Hunter, Lailah, Christian, IRIS, ERICA, Ian, Abdoulaye, Ibrahim, Bryan, Ilan, Jackson, Eileen, David, Isaac, Isaiah, Dov, Yakov, Nathaly, JACQUELINE, Logan, Israel, Ivan, Jace, Jack, EILEEN, VINCENT, KELVIN, Anthony, Jackson, Jacob, Jake, Tessa, KENNETH, James, CYNTHIA, Jason, Jasper, Jax, Shloimy, ANDRE, Jaxon, Marco, Rayan, MASON, Jayden, AXEL, Jeremy, Harry, ADRIAN, Jesse, BRUCE, Saniyah, Joaquin, Isabelle, Joel, John, Desmond, Katie, Victor, Payton, Zachary, Jonah, Jonathan, Savannah, Chloe, Zainab, Luca, Sarah, Henry, Ellie, TRISTAN, ZACHARY, Jordan, Zoey, CHLOE, Joseph, Jaiden, Charlie, Leon, Joshua, Judah, MIKAYLA, SHAINA, Jude, Natalie, Julian, Julien, Justin, RUCHY, HAYLEE, Lucas, Kai, Kevin, Kieran, Jair, Kyle, Laith, Alexa, Amadou, RICARDO, ARI, Landon, DARIUS, Lazer, Leo, Genesis, Daphne, Gemma, Leon, Gia, Solomon, Zuri, Milan, Alvin, Jariel, DANIELLA, IVAN, Kyrie, Bryant, Leonard, JADE, Leonardo, Lev, Levi, RAYYAN, NICO, Jessica, Wesley, Liam, Lincoln, Wolf, ERIK, Lipa, John, Logan, SUMMER, Lorenzo, Louis, SELINA, Rowan, Mason, CHRISTOPHER, ALEXANDRA, Luca, Lucas, Lucien, LAYLA, Eli, Stanley, Luka, Riley, Lukas, Emmanuel, Luke, Marc, CATHERINE, Marco, RAYAN, Emilio, VIOLET, Sharon, KAREN, Marcus, Alexandra, Adriana, Evelyn, Isabelle, ELIZABETH, Mark, SHULEM, Jade, Martin, Aaron, Fatima, Mason, ELIJAH, Massimo, Mateo, Matteo, Matthew, Max, Athena, Chany, Maxim, Esmeralda, Isaac, Jake, Maximilian, Alexis, Maxwell, Jayla, MIREL, ZOEY, Shulem, FREDDY, JASMINE, Mayer, Meilech, Yahir, Audrey, Meir, Rebecca, CONNIE, Menachem, KAITLYN, Mendel, Mendy, JASMIN, Meyer, Micah, Michael, ANGELA, LILLY, Saige, Colton, Evan, Wyatt, THOMAS, MILO, Livia, Brody, Miles, Milo, Isaiah, Kai, NICOLE, Mohamed, Mohammad, Julian, Maggie, Giovanni, Mohammed, Moishe, Jorge, Salome, Mordechai, Morris, Simcha, Nasir, Shlome, Moses, ANISHA, BRITTANY, Devin, Dominick, KATHERINE, Theodore, AYDEN, SHAYAN, Katherine, Luke, Henry, Gavin, MCKENZIE, Moshe, Aiden, Esty, MARTIN, Leon, Kate, JOHAN, Scarlett, Muhammad, Elina, ADEN, Myles, Nachman, Hana, Naftali, Leila, Shlome, Kyle, ANNA, LUKE, Naftuli, Nathan, Gregory, Nathaniel, Nicholas, Avery, Nico, Owen, Nicolas, Hudson, Noah, ASHER, Noam, Nolan, Lilian, Aissatou, Madelyn, Oliver, Omar, HARRISON, Taylor, Karter, Elizabeth, MARCOS, Miranda, Ori, NECHAMA, Marilyn, Orion, Cecilia, Oscar, Zoya, Alexandra, WILLA, Otto, Owen, Makayla, Parker, LIA, Roy, ADRIANA, SANAI, Erick, AMELIA, NAOMI, Avery, Paige, Isaac, KELSEY, Patrick, Noor, Paul, Tyler, JAMES, Peter, ATTICUS, Blake, MEYER, ANA, IBRAHIM, Bianca, Ivanna, Philip, Pinchas, Preston, Quinn, Edith, Rafael, Raphael, Louisa, Rayan, Eli, Elena, Alexis, Raymond, Jason, Reid, Rhys, Richard, SHIMON, MACKENZIE, Riley, ELAINE, Micah, ALAN, GABRIELLA, Ayden, Robert, Rocco, Tiana, SUBHAN, Roman, JAY, YITTY, Ronan, Sean, BRADLEY, Hannah, Grace, Ana, LILLIAN, Fabian, Scarlett, Rory, Rowan, ADRIANA, WINSTON, Katelyn, Ryan, Golda, Ryder, Joshua, Fatima, Avraham, Salvatore, CARMELO, JUDY, Sam, BREINDY, Samir, Samuel, Santino, Sawyer, Sean, Sebastian, Sawyer, Shalom, Jack, Jessica, Shane, CONNOR, Shaya, Shea, Shia, Shimon, Julia, NYLA, ELUZER, Henry, Roman, Landon, Shloime, JACK, Chase, Devin, Aarya, DYLAN, Kaylin, Shloimy, Shlome, Ali, Jesus, Aden, Steven, Edgar, RODRIGO, Shlomo, Shmiel, JACOB, Shmuel, HANA, Yasmine, DREW, Kevin, Hope, Zelda, Shneur, Sholom, Shraga, Julissa, Cristian, Shulem, ELENA, MICHAEL, Alice, Oumou, ALLISON, TATIANA, Alexa, Silas, Simcha, HAMZA, Simon, Solomon, SARA, Spencer, Lucas, Rehan, Stanley, Stephen, Steven, Luna, Theo, Yides, Theodore, Thomas, Kenny, Timothy, Dean, Tristan, AYDEN, LAILA, Tyler, Annabelle, Victoria, Tzvi, MALIK, Alice, Paris, ISRAEL, Devora, MARIAM, Usher, Yosef, Eli, Victor, LEANDRO, Perl, Vincent, Walter, ABBY, Wesley, JARED, ALLYSON, Kira, CAMERON, William, Matteo, Philip, Wolf, Jonah, Wyatt, Xavier, Yaakov, Yakov, Ismael, Yanky, Md, Guadalupe, Mila, Angelo, Alpha, Amanda, ANIYAH, JOSEPH, Jackson, MILES, Yassin, Yechiel, Sabrina, JUSTIN, Isabella, Yehoshua, Josiah, RANDY, SEAN, Yehuda, Yeshaya, Zachary, Catherine, Emmanuel, Stella, COLIN, Yisroel, YITTA, Caleb, Joseph, Yitzchak, Nathaly, Yitzchok, Isabelle, TESSA, Xavier, Austin, Meilech, Yoel, RYAN, Zachary, Yosef, Yossi, Yousef, Hector, Youssef, Yusuf, Leonardo, Amira, Zachary, Colin, Zalmen, Zev, Joaquin, Aarya, DOMINIC, MOHAMMED, LAUREN, Abby, NOSSON, Doris, PATRICK, Alina, Elizabeth, Melanie, Alice, ESTEBAN, Arya, STEVEN, Samir, Solomon, Melody, Maya, PAIGE, Monica, MIRACLE, William, Adrianna, Kai, Jeremy, Isis, Ryder, Christina, Sebastian, Cindy, Bryan, Steven, Yasmin, ADRIANNA, Spencer, JAZMIN, Brian, SEBASTIAN, Claire, Crystal, Cynthia, Doris, CHRISTINA, Eileen, Lucas, Elaine, ELLIE, Eleanor, Elena, Sanaa, EDWARD, Eliana, Edwin, ARYEH, Maximus, KYLIE, Elina, SARAH, DEVIN, Alma, Cali, Kevin, Elizabeth, ISABELLE, Ella, Alma, RIFKY, Spencer, MILA, TIFFANY, STEVEN, AMANDA, Ellie, BAILA, Anderson, Elsa, Emily, Emma, CHRISTINA, Sebastian, PEREL, Samira, Khadijah, GIOVANNI, Kennedy, Samir, DANIELLE, Syed, Hillel, Erica, Aisha, ELSA, Miles, IRENE, Jesus, Efraim, Leonardo, Shayla, Lilah, Milan, URIEL, JAHMIR, Erin, Eshaal, Jamari, Nathaniel, Steven, Esther, ELENA, Walter, JAKE, REEM, Charlotte, Elliott, Eva, Anya, Evelyn, Fatima, JULIA, Fiona, Gabriella, Gia, Grace, AMIRAH, Hafsa, Alyssa, Tiffany, HUNTER, Hailey, Hana, Hanna, Siena, Ian, Juliette, Eden, Hannah, Inaaya, Adriana, Inaya, Irene, Avery, Marcel, Irene, Iris, Clementine, Isabel, Isabella, Isabelle, Ivy, AMINA, Annabelle, Israel, Malky, Maya, DECLAN, Jada, Janice, LARA, Ibrahima, LIANA, Maximiliano, Matias, Justin, Noam, Alyssa, SALOME, Jannat, Jasmine, Leah, Shia, Jennifer, Evelyn, Bracha, Jenny, Jessica, Jessie, Joanna, Jocelyn, Joy, Nolan, Katie, Joyce, Marc, Julia, KALEB, Kaitlyn, Karina, Kate, Katelyn, Gary, Katherine, Katie, Kayla, Kaylee, Kelly, Khadija, Jayceon, Kylie, ARIEL, Layla, Leah, Priscilla, April, Lila, Paris, Lillian, Lily, Lina, Lisa, Livia, ASHLEY, THEODORE, Luna, Lydia, Leela, Kyla, XAVIER, Madeline, Madelyn, Madison, Scarlett, Lena, Samara, Maggie, Mandy, Dakota, Maryam, Christian, Yahya, SHOSHANA, Joaquin, Xavier, Maya, AMBER, Mae, Megan, Melody, Amani, Elaine, ALISA, Kylie, Carter, Alisa, ELI, Lukas, Mia, Michelle, Bella, LOUIS, Mila, Miranda, Naomi, Julian, Nina, Zachary, Natalie, Nicole, Nina, MIRIAM, Michael, Noor, Olivia, Santiago, Colin, Kaylee, Zev, Penelope, Phoebe, Armaan, JADEN, Joel, Izabella, NYLAH, Priscilla, Brady, Blima, Aliza, CHARLES, Felix, Queena, Matthew, Queenie, JOCELYN, OUMAR, Blake, Rachel, Raina, Isabella, Lauren, Charles, Rebecca, Serenity, Emma, Simone, Riley, Keyla, Sabrina, Angelo, Safa, Samantha, MELISSA, Samara, Sara, Major, Sarah, Wyatt, Emma, Scarlett, Selena, Violet, Jimmy, Sariah, DANNY, Roman, Nolan, Jason, BRENDA, Selina, Carla, David, Jaliyah, Serena, Sharon, NELSON, Shirley, Giselle, MESSIAH, Luna, Shreya, Sofia, Madisyn, Sophia, Mateo, Juliana, Sophie, CESAR, MIRIAM, Stella, Ella, Stephanie, Evan, Maximilian, Roizy, ISAAC, Jayce, Irene, Melanie, Summer, CALEB, Syeda, REUVEN, Sylvia, Logan, Jamal, Gitty, Carly, Blessing, Timothy, BENNETT, Brooke, JORDAN, Tenzin, Adrian, MICHAEL, Tiffany, Arye, Vanessa, Vicky, Victoria, Georgia, Hershy, MELANIE, Vivian, Winnie, Arianna, John, Luca, Hadley, Zainab, Luke, MENDY, Dylan, Zara, Zoe, Liam, Ashley, Daleyza, Zoey, Aaliyah, Jennifer, Sean, ALEXIS, Abigail, Khloe, Kevin, Adrianna, Mohammed, JORDAN, Abdoul, Juan, Ashley, Evan, Aicha, Aisha, Aissatou, Jade, Lawrence, Yusuf, DOVID, Grayson, Alana, HEAVEN, Angelica, EMILIO, JOYCE, Mario, Ibrahim, Laila, CHARLES, Aleksandra, Alexandria, Alexis, Grayson, Aliyah, Brittany, Alyssa, Amara, Amaya, KALIYAH, ALLISON, Amelia, NAOMI, Amia, Connie, Amina, MICHELLE, SHIRA, BEATRICE, Omar, Aminata, Adeline, Raphael, Amira, Amirah, Amiya, EITAN, Amiyah, Madeline, Goldie, Sydney, Angelina, Maxwell, Aniya, HERSH, Aniyah, Alanis, Gael, Miranda, Annabelle, Mya, Aria, Akiva, Ariana, Arianna, EPHRAIM, KYLE, Ariel, Madelyn, ELIAS, Arielle, Ashley, KAYLA, Jayla, Aubree, Maximilian, Kristian, Briana, Lorenzo, Aubrey, Ricky, OLIVER, GABRIELA, Autumn, Ava, SARAI, Avery, Bella, Blessing, Brianna, Anisa, Jayceon, AMELIE, Neil, KAYLA, Zamir, Brielle, Calvin, Brooke, FANTA, Jared, CHELSEA, Oliver, Kamila, MADELEINE, Bradley, Denzel, Caroline, Aubrey, Messiah, JACKSON, CELIA, AYLIN, Thomas, AARAV, Brooklyn, Cali, Zoey, BRYCE, Chanel, Charlotte, ZOE, Chelsea, Chloe, Christina, JENNA, HEIDY, Dakota, Alvin, Cameron, Caleb, Danielle, LIBA, Destiny, Daniel, Egypt, Baila, Erin, Jessica, Jayden, Eliana, Elizabeth, Anika, Ella, Romy, RAIZEL, Josephine, Emily, Gabriela, Emma, Eva, EVERETT, MOUSSA, Kayden, OLIVIA, Faith, Jahir, LORENZO, Brielle, Fanta, Fatima, Fatou, IAN, AUGUST, Chelsea, Fatoumata, Gabriella, Eric, Amalia, Evangeline, Aminata, Natalia, Gabrielle, Genesis, ERIKA, Gianna, Mamadou, Grace, CHRIS, Jordan, ARIA, Jannat, Maryam, Wolf, ALSTON, Valentino, KAYLEE, Hailey, Hannah, Aaron, Nachman, Harmony, Hawa, AMARE, Heaven, Yaretzi, TALIA, Hope, Imani, KEITH, Alana, Adina, Olivia, Isabella, Isabelle, Rebecca, Heaven, LUCAS, Jada, Jade, Janelle, CARMELO, Jasmine, Beatrix, Fraidy, Kyle, Jacob, Harrison, Jayda, Karen, Messiah, Jayla, BRIANNA, Jordan, BENJAMIN, Travis, ELOISE, Jordyn, GENESIS, FAIGA, Katherine, Journee, Journey, Joy, Henny, ARTHUR, REHAN, WENDY, CHAIM, Kadiatou, Kaitlyn, Heidi, Kylee, Tova, Dereck, Joanna, Kali, Darwin, EDWIN, LEAH, Kayla, Johanna, Kaylee, KIYAN, Kelsey, HAILEY, Kennedy, Khadijah, Khloe, Carolina, Kiara, Kimora, Ayaan, PRESTON, EMILY, Yariel, Lesly, Kristen, Kyla, Kylee, Kylie, Laila, MADELEINE, Yamileth, Lailah, Lauren, Junior, Nathaniel, Alan, Tyler, Jayleen, ERIC, YAMILETH, Arianna, Kadiatou, Lauryn, AIDAN, Alonso, Layla, BRAYDEN, MELODY, Leah, Leilani, MARGOT, Liliana, Lilly, Lillian, London, Logan, Aria, Salvatore, ANGELIQUE, Aria, Eva, London, Kameron, Joselyn, Londyn, Lyric, SELENA, ELENA, ALTER, MACKENZIE, Januel, Caiden, MATHEW, Mackenzie, Madison, Amir, SOPHIE, Shirley, Julianna, Madisyn, Makayla, Malaysia, Winston, ANDRES, Malia, Zissy, Maliyah, Denis, Ezra, Jaliyah, Issac, Mariah, Jayce, Edward, KAYDEN, Mariam, Jenna, Mariama, Stella, Jasmine, Maryam, Maya, JACKSON, McKenzie, CASSANDRA, Harrison, Hudson, Melanie, Katherine, Malia, Bryson, Shayna, Joaquin, Myles, Anna, STELLA, MEGAN, Ali, Major, Asia, Julius, PEYTON, Mia, Michelle, Brielle, Mikayla, Daniella, Violet, Adan, Chloe, Farah, RYAN, Kendrick, Aaliyah, Mila, Aaron, LONDON, MARLON, Jordan, SCARLETT, Milan, Dennis, Miracle, Morgan, Mya, SCARLETT, Neymar, Eliana, Elian, Judah, Harlow, Nicholas, Nahla, MOISHE, Kelvin, Naomi, Mateo, Nevaeh, James, Nia, Nova, Danielle, Nyla, ELEANOR, TERRELL, GOLDY, Aiza, Anthony, Rifky, EDUARDO, Syed, Nylah, Amanda, Olivia, Oumou, YARIEL, Paige, Paris, Lillian, SKYLA, Randy, Penelope, Trinity, JULIETTE, JASMINE, Martin, Jazlyn, ALICIA, Peyton, Ana, Nicole, MOISES, Maximus, Phoenix, Nevaeh, Nathan, Ruben, STACEY, Nina, Ahmed, Riley, RACHEL, Gavin, MAX, Jayla, Rayyan, Samantha, FRIMET, Journey, Melanie, Aiden, Amar'e, Jose, Sanaa, Sanai, REBECCA, Saniyah, Wesley, Sarah, Hannah, Sarai, Sariah, ELI, Savannah, JASON, Serenity, Shiloh, ARIANA, Skye, Justice, Genesis, Kenny, Skyla, MOHAMMAD, John, Michaela, Journee, Aiden, Skylah, Angela, Christian, Skylar, Violeta, Giselle, Skyler, Syeda, Eve, THEODORE, Sofia, Christopher, Valentina, Aiden, Brayden, AVERY, Devora, Sophia, Summer, JOSHUA, Sydney, MOHAMED, Taylor, GABRIELLA, Toby, Tiana, Tianna, Ayan, Adele, Tori, JOSELYN, Penelope, GEORGE, SHIRLEY, Aaron, MINDY, Ella, Joshua, Luciana, Trinity, Akiva, Victoria, Violet, Winter, Wynter, Zaniyah, ELINA, Ivan, Kaylee, Zara, Skyler, Zariah, Zendaya, Liv, Zoe, Kimi, Beatrice, Julius, Zoey, Shloime, Axel, Riley, Zuri, Allison, Idy, Aaliyah, Ahmad, Abigail, Richard, Wilson, Adelyn, JORDAN, EILEEN, Adriana, Briana, Kai, Ari, Mya, SALVATORE, Daniel, Adrianna, Aileen, Mohammed, Alana, Alanis, MAMADOU, JAYDEN, Alejandra, Harper, JASON, ALVIN, Alessandra, RICHARD, DOMINIC, Alexa, Alexandra, KAYLA, Alexia, ZEV, EMILY, Silas, Owen, Alexis, Lyric, Emily, Amira, Isabella, Chase, Alice, Alicia, Alina, Alison, Yeshaya, Alissa, TZIPORA, Cheskel, Aliyah, Aicha, Zainab, Xavier, Amber, ALEXA, Allison, LUKA, Allyson, Alma, Maeve, NOOR, EZRA, Alondra, Esty, Carmelo, Rowan, Skyla, Logan, Kimberly, Alyssa, KATELYN, ESTELLE, MAYA, Camille, Sanaa, Mackenzie, ANNABELLE, Amalia, Amanda, Amaya, SKYLA, Esther, JULIANA, Amber, Katelynn, Amelia, Peter, Amy, Ana, Avrum, Valeria, Yanky, Anabella, Anabelle, Anaya, FATOUMATA, Jasmine, Angelique, Preston, Andrea, Angela, Aiden, Angelica, Angelina, Angeline, CAMERON, Cataleya, Angelique, Angie, PEYTON, Anna, Annabella, Annabelle, Jacob, Annalise, ASHER, April, DARREN, Brendan, Arabella, Arely, Aria, Ariana, Jace, ELIEZER, BRADLEY, Cassidy, Amaya, Michelle, Yocheved, Brian, Arielle, HANNAH, Arianna, Ariel, Frank, Ariella, HAILEY, Arielle, Arya, Ashley, Athena, Aubree, Aubrey, Audrey, Aurora, Paige, Autumn, Ava, Mekhi, Avery, Albert, Bryan, Diana, JOSHUA, ERIK, Ayleen, Jacob, BELLA, Aylin, Bella, Karla, GABRIELLA, DANNA, Anabel, Carla, Marlon, Ibrahim, JACOB, Bianca, Maria, Brenda, Giovanni, Eli, FIONA, AMBERLY, Sean, Briana, Brianna, Brielle, Caroline, Nadia, Selena, Brigitte, CHRISTOPHER, STEPHANIE, Brittany, Brooke, Logan, MELINA, Shawn, Bryanna, FRANCESCA, Shira, JENCARLOS, Camila, Carla, Carmen, Carolina, Caroline, Henny, Gabriella, Allison, Ella, Brayan, WILLIAM, Cataleya, Jaiden, Catalina, Nikita, Catherine, Evan, Cecilia, Max, GIADA, Brielle, Skye, Celeste, Celine, BRIANA, Charlotte, Caitlin, SOPHIE, George, Chelsea, Chloe, Christina, Justin, Crystal, SEBASTIAN, Ayleen, Brayden, Ruth, Cynthia, DAISY, Laith, Erin, TRISTAN, Maxwell, SAMANTHA, Darwin, Daisy, Roman, Daleyza, JASON, Daniela, Alisha, Daniella, Avery, Danna, Justin, Christina, Sarai, Shia, Avery, MOSHE, Dayana, Noa, Jaylin, NAFTALI, BEN, Yehudis, Delilah, USHER, Kaleb, Adonis, Hunter, Destiny, Ezekiel, Isaiah, Diana, Eileen, Elena, JOSEPH, Eliana, JOAQUIN, Elisa, Eliza, Christopher, Jayden, Margot, Elizabeth, Josue, Ella, Rachel, Emely, Joel, CHARLES, Emilia, Gael, Emily, Israel, Emma, Erika, Jordyn, Esmeralda, King, LEAH, JOLIN, Michal, Oliver, Zelda, KAI, Raquel, Nico, Esther, Cheskel, Eva, David, Brian, Evangeline, Daniela, QUEENIE, Esther, Nathaniel, Lily, Evelyn, JOSHUA, Faith, IMANI, ALICE, Cecilia, Abdullah, Jace, Francesca, Samuel, ALICIA, Devin, Gabriela, Joshua, Kaylee, Athena, VERONICA, Donovan, MARGARET, Gabriella, Ruby, Sofia, Genesis, JEAN, GIANNA, MASON, Brendan, ANGELA, TALIA, Adelaide, Charlotte, Nevaeh, BLAKE, Gia, Renee, Gianna, Giselle, Grace, Guadalupe, Hailey, ITZEL, Yael, STEVEN, Emmeline, Hunter, Zara, Hailie, Brianna, ELIJAH, Kevin, Charlie, Brian, Jana, Jennifer, Arya, PABLO, ENRIQUE, JORDAN, Hannah, DOMINICK, Syeda, SHERLYN, JENNIFER, Madelyn, Roberto, Ahmad, Amirah, Giovanni, Luka, ELEANOR, Lindsay, Haylee, Hazel, Hudson, ROMEO, Blake, Eileen, VANESSA, Heaven, Violet, Alison, Pinchas, Heidi, VERONICA, SHAWN, Camille, Austin, Beatrice, SHNEUR, JACKY, Helen, Rachel, Isabel, Isabella, Isabelle, ZOE, Bruchy, Itzel, Wilson, Ivanna, CHARLOTTE, Izabella, JESSE, LANDON, Kayla, Jacqueline, Alejandra, Jade, Adriel, Dilan, Jasmine, Jayla, Jaylah, Zaniyah, Jayleen, Jaylene, Jaylin, Jazlyn, ASHTON, Jazmin, Jennifer, Jessica, Arianna, SAVANNAH, Hunter, Jessie, Chris, Jimena, CHRISTOPHER, Helen, AMAYA, Travis, Iker, Sienna, Gabriela, EFRAIM, JANNAT, ELIZABETH, Jessie, James, Jocelyn, Joselyn, Julia, ANASTASIA, MATHIAS, James, Juliana, NEVAEH, Julianna, Victoria, Nova, HARRISON, NOAH, ADAM, Sarai, REID, Ariel, Juliet, Juliette, ESME, Hanna, Megan, Muhammad, Julissa, Kailey, PEARL, Kaitlyn, Kamila, Karen, Amelia, JEREMY, Beckett, Karla, Joel, Aria, Kate, Eduardo, Skylar, Katelyn, Kaleb, Katherine, Felix, ANYA, Ibrahim, ASHLEY, Jesse, Greyson, ESTHER, Benjamin, RUBEN, Zayden, Bradley, AMELIA, Katie, Kayla, SYEDA, Kaylee, Brian, Kayleen, MIA, Catherine, Lian, Antonio, Khloe, Kaylie, Elijah, RUBY, LEVI, Kaylin, Keila, Kelly, Kendra, REBECCA, Keyla, Khloe, Alexa, Richard, Matthew, Eric, Dominick, Kiara, Kimberly, Kylie, VERA, ROMAN, Tenzin, Kyla, Laila, Laura, BRANDON, Phoenix, Audrey, ESMERALDA, NASIR, Lauren, Avi, Layla, ALIZA, Leah, TRISTAN, Margot, Grace, Leila, Leilani, Leslie, Lesly, LUCY, Leyla, BRIAN, Lia, Liana, Ananya, Liliana, Lillian, GEORGIA, Lily, WESLEY, Harmony, YUSUF, Lindsay, Sylvia, Kingsley, ANNABELLE, Madeline, Peyton, Erika, Ibrahima, ISMAEL, Litzy, Lizbeth, Lola, London, Londyn, Livia, Margaret, Ayesha, GAVIN, Ellie, JENNIFER, Amir, Brayden, Ariel, Izabella, JONATHAN, Lucia, Luciana, Luna, Darius, Mackenzie, King, Madeline, Claire, YAKOV, Madelyn, Madison, MANHA, Magaly, Emma, Maia, ANNA, Carter, Jenna, George, Bella, Makayla, AVERY, GITTY, Maria, McKenzie, Mariah, Mariana, Marilyn, Steven, RILEY, Megan, Ayden, Oscar, Kayleen, Natalia, Myles, SAMIR, Kylie, Marjorie, Maya, Leila, Megan, PERRY, Melanie, Melany, AIDAN, SHANE, ADRIEL, Adyan, ISAAC, HENRY, Frank, Shlomo, JOCELYN, Melina, ASHLEY, Melissa, Melody, Everly, Tristan, Nahla, Nyla, PARKER, Naomi, ABDULLAH, Mia, GRACE, Alanis, ANDERSON, Zayan, Michelle, Isaiah, Mikaela, Stella, Jax, Mila, Miranda, Christopher, Monica, Jakub, Monserrat, Iris, Montserrat, Mya, Naomi, Nashla, Natalia, Natalie, Nathalie, Uriel, Mackenzie, Nathaly, Rivka, CAROLINE, Tyler, Evelyn, Johan, AISHA, TAYLOR, Leila, MACKENZIE, Nayeli, Nevaeh, Nicole, Nina, Micah, AMY, KAYDEN, Nyla, Jocelyn, KYLA, Menashe, Cameron, Jordan, Maia, Nylah, Olivia, JAMES, Paige, RUBY, Danny, Pamela, Sarina, Paris, Penelope, JONAH, KARINA, BRAYDEN, SOFIA, Ayden, Peyton, ABDUL, Arham, Louis, Rachel, Bruce, NOAH, Rebecca, SKYLER, Benjamin, Robert, Riley, Rose, Ester, Ruby, Duvid, Rayan, Tyler, Ruth, Savion, Aaron, Ruby, KIMBERLY, Chavy, Francis, Prince, Naftali, FRANK, Ori, Paula, Sabrina, Nicholas, Amira, Serenity, Salome, Samantha, Sara, Tyler, EMANUEL, ELIJAH, Sarah, VINCENT, Sarai, Savannah, Scarlett, Mia, Selena, Kareem, Serenity, Tenzin, Jasper, MOHAMMED, ZOE, Sherlyn, Damian, Nico, JULIANNA, Shirley, Mohammad, KAITLYN, DANIEL, Maximilian, YARA, Isabel, SYLVIA, ROBERTO, Austin, Andrew, Jace, Lana, Dariel, Fanta, Adan, MAXIMUS, Ethan, Sienna, Mordche, Angel, Egypt, Skyla, GIA, Skylar, Skyler, Kayden, Ariella, NOAH, LEO, Tyler, Sofia, Sophia, Sophie, Stella, Stephanie, Tatiana, Marcus, Taylor, Tiffany, Trinity, Valentina, Rose, Valeria, Valerie, Analia, William, Hayden, Valery, Vanessa, Victoria, Violet, Dante, ATHENA, Violeta, ALEXANDER, JULIAN, Mikayla, Ruby, KATIE, Sylvia, Wendy, Ximena, Yaretzi, GENESIS, Yasmin, Zoe, Angelina, Summer, NIKOLAS, Zoey, Abigail, Hamza, Timothy, Ada, Juliette, Kyrie, Addison, Adelaide, Adele, Adelina, Sean, Andrea, JUDAH, EMILIANO, Yisrael, SHAYLA, Crystal, RYAN, Adeline, Emilia, Ximena, Adina, Adriana, Adrianna, JONATHAN, Lizbeth, Francesca, IBRAHIM, Ahuva, Aisha, SKYLAR, Gustavo, Alessandra, Nina, Alessia, Alexa, Devin, Alexandra, Alexis, Daniela, Alice, ELLE, Amiya, Amaya, THOMAS, Alina, Mira, PARIS, June, Anaya, Alisa, Aliza, Rifky, LOUIS, Allison, Brandon, Alma, Alpha, Alyssa, Amare, Amanda, Marcus, Christina, JADEN, Willa, Anson, Kai, Amelia, Amelie, JESSICA, Amina, Vanessa, Amira, RICHARD, Ana, Gia, Anastasia, Libby, Naomi, Elisheva, Angelica, PENELOPE, Derrick, Julia, Angelina, CAYDEN, Margaret, Tamar, Amanda, ANNA, Anisa, Anna, Annabelle, Anne, Antonia, Aria, Ariana, Arianna, Ariel, Ariella, Ashley, Atara, Athena, Audrey, Aurora, Ava, Avery, Avigail, Avital, Aviva, Aya, Ayala, Ayla, Aziza, Baila, Barbara, Batsheva, Beatrice, Bella, Bianca, Blake, Blima, Blimy, Bracha, Brianna, Bridget, Brielle, Brooke, Brucha, Bruchy, Brynn, Caitlin, Camila, Camilla, Camille, Carly, Carolina, Caroline, Cassidy, Catherine, Cecelia, Cecilia, Celia, Celine, Chana, Chany, Charlie, Charlotte, Chava, Chavy, Chaya, Chloe, Christina, Claire, Clara, Clementine, Colette, Cora, Dahlia, Daniella, Danielle, Daphne, Delilah, Devora, Devorah, Diana, Dina, Dylan, Eden, Eleanor, Elena, Eleni, Eliana, Elisheva, Eliza, Elizabeth, Ella, Elle, Ellie, Eloise, Elsa, Emerson, Emilia, Emily, Emma, Emmeline, Erin, Esme, Ester, Esther, Esty, Etty, Eva, Evangeline, Eve, Evelyn, Everly, Evie, Faiga, Faigy, Fatima, Fiona, Fradel, Frady, Fraidy, Frances, Francesca, Frimet, Gabriela, Gabriella, Gabrielle, Gemma, Genevieve, Georgia, Gia, Gianna, Giovanna, Giselle, Gitty, Giuliana, Golda, Goldie, Goldy, Grace, Hadassah, Hadley, Hailey, Hana, Hanna, Hannah, Harlow, Harper, Hazel, Helen, Helena, Henchy, Henny, Hinda, Hindy, Iris, Isabel, Isabella, Isabelle, Isla, Ivy, Jacqueline, Jana, Jane, Jasmina, Jasmine, Jenna, Jessica, Jordyn, Josephine, Julia, Juliana, Julianna, Julie, Juliet, Juliette, June, Ethan, Juniper, Kaitlyn, Kate, Katherine, Kayla, Kaylee, Keira, Kennedy, Khloe, Kira, Kylie, Laila, Lana, Lara, Laura, Lauren, Layan, Layla, Lea, Leah, Leila, Lena, Leora, Lia, Liana, Liba, Libby, Lila, Lilah, Lilian, Liliana, Lillian, Lilly, Lily, Lina, Linda, Liv, Livia, Lola, Louisa, Lucia, Lucy, Luna, Lydia, Lyla, Mackenzie, Madeleine, Madeline, Madelyn, Madison, Mae, Maeve, Maisie, Malak, Malka, Malky, Margaret, Margot, Maria, Mariam, Marielle, Mary, Maryam, Matilda, Maya, Melanie, Menucha, Mia, Michaela, Michelle, Mikayla, Mila, Milana, Mina, Mindy, Mira, Mirel, Miriam, Molly, Morgan, Mushka, Nadia, Naomi, Natalia, Natalie, Nechama, Nicole, Nina, Noa, Noelle, Noor, Nora, Olive, Olivia, Paige, Parker, Pearl, Penelope, Perel, Perl, Perry, Pessy, Peyton, Phoebe, Piper, Poppy, Quinn, Rachel, Raizel, Raizy, Rebecca, Reese, Reizy, Rena, Rifky, Riley, Rivka, Rivky, Rochel, Roizy, Rosa, Rose, Rowan, Ruby, Ruchel, Ruchy, Ruth, Sabrina, Sadie, Salma, Samantha, Samira, Sara, Sarah, Sasha, Savannah, Scarlett, Serena, Shaina, Shaindel, Shaindy, Shayna, Shifra, Shira, Shoshana, Siena, Sienna, Sima, Simone, Skylar, Sloane, Sofia, Sophia, Sophie, Stella, Summer, Suri, Sury, Sydney, Sylvia, Sylvie, Talia, Tamar, Taylor, Tess, Tessa, Thea, Toby, Trany, Tzipora, Tziporah, Valentina, Vera, Veronica, Victoria, Violet, Vivian, Vivienne, Willa, Yael, Yasmina, Yasmine, Yehudis, Yides, Yitty, Yocheved, Zelda, Zissy, Zoe, Zoey, Aahil, Aaron, Aayan, Abdullah, Adam, Adrian, Adyan, Ahmed, Ahnaf, Aidan, Aiden, Alan, Albert, Alex, Alexander, Alfred, Ali, Allen, Alston, Alvin, Anderson, Andrew, Andy, Anson, Anthony, Arham, Arjun, Armaan, Arvin, Aryan, Asher, Austin, Ayaan, Ayan, Ayden, Azaan, Benjamin, Benson, Brandon, Brayden, Brian, Bryan, Caleb, Calvin, Cameron, Carson, Carter, Charles, Chase, Chris, Christian, Christopher, Colin, Connor, Damon, Daniel, Darren, David, Derek, Devin, Dylan, Eason, Eden, Edison, Edward, Edwin, Eli, Elijah, Elvis, Emmanuel, Eric, Ethan, Evan, Felix, Frank, Gabriel, Gary, Gavin, George, Gordon, Grayson, Harrison, Hassan, Hayden, Henry, Hudson, Hunter, Ian, Ibrahim, Isaac, Isaiah, Ivan, Jack, Jacob, Jaden, Jake, James, Jason, Jasper, Jayden, Jeffrey, Jeremy, Jerry, Jimmy, John, Jonathan, Jordan, Joseph, Joshua, Julian, Justin, Kabir, Kaden, Kai, Kayden, Kevin, Kimi, Kingsley, Kyle, Lawrence, Leo, Leon, Leonardo, Liam, Logan, Louis, Luca, Lucas, Luke, Marcus, Mark, Mason, Matthew, Max, Maxwell, Michael, Miles, Mohammad, Mohammed, Muhammad, Musa, Nathan, Nathaniel, Neil, Nicholas, Noah, Oliver, Omar, Oscar, Owen, Rayan, Raymond, Rayyan, Rehan, Richard, Ricky, Riley, Rohan, Roman, Roy, Ryan, Ryder, Samuel, Sean, Sebastian, Shawn, Shayan, Simon, Stanley, Steven, Syed, Tenzin, Theodore, Thomas, Timothy, Tony, Travis, Tristan, Tyler, Victor, Vincent, Wesley, William, Wilson, Winston, Xavier, Zachary, Zain, Zayan, Aaron, Abdoul, Abdoulaye, Abraham, Adam, Aden, Adonis, Adrian, Ahmed, Aiden, Alexander, Ali, Alpha, Amadou, Amare, Amari, Amir, Andre, Andrew, Angel, Anthony, Antonio, Asher, Ashton, Austin, Avery, Ayden, Benjamin, Blake, Bradley, Brandon, Brian, Bryan, Bryce, Bryson, Caden, Caiden, Caleb, Calvin, Cameron, Carmelo, Carter, Cayden, Chance, Charles, Chase, Christian, Christopher, Daniel, Darren, David, Devin, Dominic, Donovan, Lucas, Dylan, Eli, Elias, Elijah, Emmanuel, Eric, Ethan, Ezekiel, Ezra, Gabriel, Gavin, Giovanni, Greyson, Hunter, Ibrahim, Ibrahima, Isaac, Isaiah, Jace, Jacob, Jaden, Jaiden, Jalen, Jamar, James, Jasiah, Jason, Jaxon, Jayce, Jayceon, Jayden, Jaylen, Jayson, Jeremiah, Jeremy, Joel, John, Jonathan, Jordan, Joseph, Joshua, Josiah, Julian, Julius, Justice, Justin, Kaden, Kai, Kaiden, Kaleb, Kamari, Kareem, Karter, Kayden, Kenneth, Kevin, Khalil, King, Kingston, Kristian, Kyle, Kyrie, Landon, Levi, Liam, Logan, Lorenzo, Lucas, Luke, Major, Malachi, Malik, Mamadou, Marcus, Mason, Matthew, Mekhi, Messiah, Micah, Michael, Miles, Mohamed, Mohammed, Mouhamed, Moussa, Myles, Nasir, Nathan, Nathaniel, Nicholas, Noah, Noel, Nolan, Omar, Omari, Oumar, Peyton, Preston, Prince, Princeton, Quincy, Richard, Riley, Robert, Roman, Ryan, Samuel, Savion, Sean, Sebastian, Seth, Sincere, Steven, Thomas, Timothy, Travis, Tristan, Tyler, William, Wyatt, Xavier, Zachary, Zahir, Zaiden, Zaire, Zamir, Zane, Zayden, Zion, Aaron, Abel, Abraham, Adam, Adan, Adonis, Adrian, Adriel, Aidan, Aiden, Alan, Albert, Alberto, Alejandro, Alex, Alexander, Alexis, Allan, Allen, Amir, Anderson, Andres, Andrew, Andy, Angel, Anthony, Antonio, Ariel, Armani, Ashton, Austin, Avery, Axel, Ayden, Benjamin, Bradley, Brandon, Brayan, Brayden, Brian, Bruce, Bryan, Bryant, Bryce, Caleb, Cameron, Carlos, Carter, Cesar, Charles, Chase, Chris, Christian, Christopher, Cristian, Damian, Damien, Daniel, Danny, Dante, Dariel, Darwin, David, Dean, Dennis, Derek, Derick, Devin, Diego, Dominic, Dominick, Donovan, Dylan, Eddy, Edgar, Eduardo, Edward, Edwin, Eli, Elian, Elias, Elijah, Emanuel, Emiliano, Emilio, Emmanuel, Enrique, Enzo, Eric, Erick, Esteban, Ethan, Evan, Ezekiel, Ezequiel, Ezra, Fabian, Felix, Fernando, Francisco, Frank, Gabriel, Gael, Gavin, George, Gerardo, Giovanni, Grayson, Gregory, Hector, Henry, Hudson, Hunter, Ian, Iker, Isaac, Isaiah, Ismael, Israel, Ivan, Jace, Jack, Jackson, Jacob, Jaden, Jadiel, Jael, Jaiden, Jake, James, Jared, Jariel, Jason, Javier, Jaxon, Jaxson, Jay, Jayce, Jayceon, Jayden, Jayson, Jean, Jefferson, Jeffrey, Jeremiah, Jeremy, Jesus, Joaquin, Joel, Johan, John, Johnny, Jonah, Jonas, Jonathan, Jordan, Jorge, Jose, Joseph, Joshua, Josiah, Josue, Juan, Julian, Julio, Julius, Junior, Justin, Kaden, Kai, Kaiden, Kaleb, Kayden, Kendrick, Kenneth, Kenny, Kevin, King, Kyle, Landon, Leandro, Leo, Leon, Leonardo, Leonidas, Levi, Liam, Logan, Lorenzo, Louis, Luca, Lucas, Luis, Lukas, Luke, Maddox, Manuel, Marcelo, Marco, Marcos, Marcus, Mario, Mark, Marlon, Martin, Marvin, Mason, Mateo, Mathew, Mathias, Matias, Matteo, Matthew, Max, Maximilian, Maximiliano, Maximus, Maxwell, Melvin, Messiah, Michael, Miguel, Mike, Milan, Miles, Misael, Moises, Myles, Nathan, Nathaniel, Nelson, Neymar, Nicholas, Nicolas, Noah, Noel, Oliver, Omar, Orlando, Oscar, Owen, Pablo, Pedro, Peter, Prince, Rafael, Randy, Raymond, Ricardo, Richard, Riley, Robert, Roberto, Rodrigo, Romeo, Ruben, Ryan, Samuel, Santiago, Saul, Sean, Sebastian, Sergio, Skyler, Stephen, Steve, Steven, Theodore, Thiago, Thomas, Timothy, Tristan, Tyler, Uriel, Victor, Vincent, Walter, William, Xavier, Yadiel, Yahir, Yandel, Yariel, Zachary, Zayden, Aaron, Abraham, Adam, Adrian, Aharon, Ahmad, Ahmed, Aidan, Aiden, Akiva, Alan, Albert, Alex, Alexander, Ali, Amir, Andrew, Angelo, Anthony, Anton, Antonio, Archer, Ari, Ariel, Arlo, Aron, Arthur, Aryeh, Asher, Ashton, August, Austin, Avi, Avraham, Avrohom, Avrum, Axel, Ayden, Aydin, Baruch, Beckett, Ben, Benjamin, Bennett, Benzion, Berish, Berl, Binyamin, Binyomin, Blake, Boruch, Brady, Brandon, Brayden, Brendan, Brian, Brody, Aiden, Brooks, Caleb, Calvin, Cameron, Carter, Chaim, Charles, Charlie, Chase, Cheskel, Christian, Christopher, Cole, Colin, Connor, Conor, Cooper, Cormac, Damian, Daniel, Dante, Dashiell, David, Dean, Declan, Denis, Derek, Devin, Dominic, Dominick, Dov, Dovid, Drew, Duvid, Dylan, Edward, Efraim, Eitan, Eli, Elias, Eliezer, Elijah, Elimelech, Eliyahu, Elliot, Elliott, Ellis, Emmett, Eric, Erik, Ethan, Evan, Everett, Ezra, Felix, Filip, Finn, Francesco, Francis, Frank, Frederick, Gabriel, Gavin, Gavriel, George, Giovanni, Giuseppe, Graham, Grant, Grayson, Gregory, Greyson, Griffin, Hamza, Harrison, Harry, Hayden, Henry, Hersh, Hershel, Hershy, Hillel, Hudson, Hugo, Hunter, Ian, Ibrahim, Imran, Isaac, Israel, Issac, Ivan, Jace, Jack, Jackson, Jacob, Jake, Jakub, James, Jason, Jasper, Jax, Jaxon, Jaxson, Jayden, Jeremy, Jesse, Joel, John, Jonah, Jonathan, Jordan, Joseph, Joshua, Judah, Jude, Julian, Justin, Kai, Karas, Kareem, Kevin, Kieran, Kyle, Landon, Lazer, Leibish, Leo, Leon, Leonardo, Lev, Levi, Liam, Lincoln, Lipa, Logan, Lorenzo, Louis, Luca, Lucas, Lucien, Luka, Lukas, Luke, Marc, Marcel, Marco, Marcus, Mark, Martin, Mason, Mateo, Matteo, Matthew, Max, Maxim, Maximilian, Maximus, Maxwell, Mayer, Meilech, Meir, Menachem, Menashe, Mendel, Mendy, Micah, Michael, Milan, Miles, Milo, Mohamed, Mohammed, Moishe, Mordche, Mordechai, Morris, Moses, Moshe, Muhammad, Myles, Naftali, Naftuli, Nathan, Nathaniel, Nicholas, Nico, Nicolas, Nikita, Noah, Noam, Nolan, Nosson, Oliver, Omar, Oscar, Owen, Parker, Patrick, Paul, Peter, Philip, Pinchas, Pinchus, Preston, Quinn, Rafael, Raphael, Rayan, Raymond, Reed, Reid, Reuben, Rhys, Richard, Riley, Robert, Rocco, Roman, Ariana, Zoe, Sarah, Angela, Ashley, Joel, Ronan, Rory, Rowan, Ryan, Ryder, Salvatore, Sam, Samir, Samuel, Santino, Sawyer, Sean, Sebastian, Shalom, Shane, Shaya, Shea, Shia, Shimon, Shloime, Shloimy, Shlome, Shlomo, Shmiel, Shmuel, Sholom, Shraga, Shulem, Silas, Simcha, Simon, Solomon, Spencer, Stephen, Steven, Theo, Theodore, Thomas, Timothy, Tristan, Tyler, Tzvi, Usher, Victor, Vincent, Vincenzo, Wesley, Weston, William, Winston, Wolf, Wyatt, Xavier, Yaakov, Yahya, Yakov, Yaseen, Yechiel, Yehoshua, Yehuda, Yidel, Yisrael, Yisroel, Yitzchak, Yitzchok, Yoel, Yosef, Yossi, Yousef, Youssef, Yusuf, Zachary, Zev, Abigail, Sofia, GERALDINE, GIA, GIANNA, GISELLE, GRACE, GUADALUPE, HAILEY, HALEY, HANNAH, HAYLEE, HAYLEY, HAZEL, HEAVEN, HEIDI, HEIDY, HELEN, IMANI, INGRID, IRENE, IRIS, ISABEL, ISABELA, ISABELLA, ISABELLE, ISIS, ITZEL, IZABELLA, JACQUELINE, JADA, JADE, JAELYNN, JAMIE, JANELLE, JASLENE, JASMIN, JASMINE, JAYDA, JAYLA, JAYLAH, JAYLEEN, JAYLENE, JAYLIN, JAYLYN, JAZLYN, JAZMIN, JAZMINE, JENNIFER, JESSICA, JIMENA, JOCELYN, JOHANNA, JOSELYN, JULIA, JULIANA, JULIANNA, JULIET, JULIETTE, JULISSA, KAELYN, KAILEY, KAILYN, KAITLYN, KAMILA, KAREN, KARLA, KATE, KATELYN, KATELYNN, KATHERINE, KATIE, KAYLA, KAYLEE, KAYLEEN, KAYLEIGH, KAYLIE, KAYLIN, KEILY, KELLY, KEYLA, KHLOE, KIARA, KIMBERLY, KRYSTAL, KYLEE, KYLIE, LAILA, LAURA, LAUREN, LAYLA, LEA, LEAH, LEILA, LEILANI, LESLEY, LESLIE, LESLY, LEYLA, LIA, LIANA, LILIANA, LILY, LINDSAY, LIZBETH, LONDON, LUCIA, LUNA, LUZ, MADELINE, MADELYN, MADISON, MAKAYLA, MARIA, MARIAH, MARIANA, MARILYN, MARISOL, MAYA, MEGAN, MELANIE, MELANY, MELISSA, MELODY, MIA, MIAH, MICHELLE, MIKAELA, MIKAYLA, MILA, MILEY, MIRANDA, MIRIAM, MYA, NADIA, NANCY, NAOMI, NATALIA, NATALIE, NATALY, NATASHA, NATHALIA, NATHALIE, NATHALY, NAYELI, NEVAEH, NICOLE, NINA, NOEMI, NYLA, OLIVIA, PAOLA, PENELOPE, PERLA, RACHEL, RAQUEL, REBECCA, RIHANNA, RILEY, ROSA, ROSE, ROSELYN, RUBY, SABRINA, SADIE, SAMANTHA, SAMARA, SARA, SARAH, SARAI, SARIAH, SASHA, SAVANNA, SAVANNAH, SCARLET, SCARLETT, SELENA, SERENITY, SHERLYN, SHIRLEY, SIENNA, SKYLA, SKYLAR, SOFIA, SOPHIA, SOPHIE, STACY, STELLA, STEPHANIE, STEPHANY, TATIANA, TAYLOR, TIANA, TIFFANY, VALENTINA, VALERIA, VALERIE, VANESSA, VERONICA, VICTORIA, VIOLET, VIVIANA, WENDY, XIMENA, YAMILET, YARETZI, ZOE, ZOEY, ABIGAIL, ADDISON, ADELE, ADELINE, ADINA, ADRIANA, ADRIANNA, AHUVA, ALESSANDRA, ALESSIA, ALEXA, ALEXANDRA, ALEXIS, ALICE, ALICIA, ALINA, ALISA, ALIZA, ALLISON, ALYSSA, AMANDA, AMELIA, AMELIE, AMINA, AMIRA, AMY, ANASTASIA, ANGELICA, ANGELINA, ANNA, ANNABEL, ANNABELLE, ARIANA, ARIANNA, ARIEL, ARIELA, ARIELLA, ASHLEY, ATARA, AUBREY, AUDREY, AUTUMN, AVA, AVERY, AVIGAIL, AVIVA, AYLA, BAILA, BARBARA, BATSHEVA, BATYA, BEATRICE, BELLA, BIANCA, BLAKE, BLIMA, BLIMY, BRACHA, BREINDY, BRIANNA, BRIDGET, BROOKE, BROOKLYN, BRUCHA, BRUCHY, BRYNN, CAITLIN, CAMERON, CAROLINE, CASEY, CATHERINE, CECILIA, CELIA, CHANA, CHANY, CHARLIE, CHARLOTTE, CHAVA, CHAVY, CHAYA, CHLOE, CHRISTINA, CLAIRE, CLARA, COLETTE, CORA, DAHLIA, DAISY, DALIA, DANIELA, DANIELLA, DANIELLE, DEVORA, DEVORAH, DIANA, DINA, DYLAN, EDEN, ELEANOR, ELENA, ELIANA, ELISE, ELISHEVA, ELIZA, ELIZABETH, ELLA, ELLE, ELLIANA, ELLIE, ELOISE, EMERSON, EMILIA, EMILY, EMMA, ERIN, ESTER, ESTHER, ESTY, ETTY, EVA, EVE, EVELYN, FAIGA, FAIGY, FINLEY, FIONA, FRADEL, FRAIDY, FRANCESCA, FRIMET, GABRIELA, GABRIELLA, GABRIELLE, GEMMA, GENEVIEVE, GEORGIA, GIA, GIANNA, GIOVANNA, GITTEL, GITTY, GIULIANA, GOLDA, GOLDY, GRACE, GRETA, HADASSA, HADASSAH, HAILEY, HANNA, HANNAH, HARPER, HAZEL, HENNY, HINDY, IDY, ILANA, IRIS, ISABEL, ISABELLA, ISABELLE, ISLA, IVY, IZABELLA, JACQUELINE, JANE, JASMINE, JENNA, JESSICA, JORDYN, JOSEPHINE, JOYCE, JULIA, JULIANA, JULIANNA, JULIE, JULIET, JULIETTE, KAITLYN, Alexander, KATE, KATHERINE, KATHRYN, KAYLA, KAYLEE, KIRA, KYLIE, LAILA, LARA, LAURA, LAUREN, LAYLA, LEA, LEAH, LEILA, LENA, LEORA, LIA, LIANA, LIBA, LIBBY, LILA, LILAH, LILIANA, LILLIAN, LILLY, LILY, LINA, LOLA, LONDON, LUCIA, LUCY, LYLA, MACKENZIE, MADELEINE, MADELINE, MADELYN, MADISON, MAEVE, MAKAYLA, MALAK, MALKA, MALKY, MARGARET, MARIA, MARIAM, MARY, MATILDA, MAYA, MELANIE, MIA, MICHAELA, MICHAL, MICHELLE, MIKAYLA, MILA, MILENA, MINDY, MIRI, MIRIAM, MOLLY, MORGAN, NAOMI, NATALIA, NATALIE, NECHAMA, NICOLE, NICOLETTE, NINA, NOA, NORA, OLIVIA, PAIGE, PARKER, PEARL, PENELOPE, PEREL, PESSY, PHOEBE, PIPER, QUINN, RACHEL, RAIZEL, RAIZY, REBECCA, REESE, RIFKA, RIFKY, RILEY, RIVKA, RIVKY, ROCHEL, ROIZY, ROSE, RUBY, RUCHY, RUTH, RYAN, SABRINA, SADIE, SALMA, SAMANTHA, SARA, SARAH, SASHA, SAVANNAH, SCARLETT, SERENA, SHAINA, SHAINDEL, SHAINDY, SHEVY, SHIFRA, SHIRA, SHOSHANA, SIENA, SIENNA, SIMA, SIMI, SIMONE, SKYLAR, SLOANE, SOFIA, SOPHIA, SOPHIE, STELLA, SUMMER, SURI, SURY, SYDNEY, SYLVIA, TALIA, TAMAR, TAYLOR, TESSA, TOBY, TZIPORA, TZIPORAH, TZIPPY, TZIVIA, VALENTINA, VALERIE, VANESSA, VERA, VERONICA, VERONIKA, VICTORIA, VIOLET, VIVIAN, VIVIENNE, WILLA, YACHET, YAEL, YASMINE, YEHUDIS, YIDES, YITTY, YOCHEVED, ZISSY, ZOE, ZOEY, AARAV, AARON, ABDUL, ABDULLAH, ADAM, ADITYA, ADRIAN, AHMED, AIDAN, AIDEN, ALAN, ALEX, ALEXANDER, ALI, ALLEN, ALVIN, ANDREW, ANDY, ANSON, ANTHONY, ARJUN, ARMAAN, ARYAN, AUSTIN, AYAAN, AYDEN, BENJAMIN, BENSON, BRANDON, BRIAN, BRYAN, CALEB, CALVIN, CARSON, CHARLES, CHRISTIAN, CHRISTOPHER, CODY, CONNOR, DANIEL, DANNY, DARREN, DAVID, DEREK, DEVIN, DYLAN, EASON, EDISON, EDWIN, ELIJAH, ELVIS, ERIC, ETHAN, EVAN, FARHAN, FELIX, GABRIEL, GAVIN, GEORGE, HARRISON, HAYDEN, HENRY, IAN, IBRAHIM, ISAAC, ISHAAN, IVAN, JACK, JACKSON, JACKY, JACOB, JADEN, JAKE, JAMES, JASON, JAY, JAYDEN, JEFFREY, JEREMY, JERRY, JIA, JOHN, JOHNNY, JONATHAN, JORDAN, JOSEPH, JOSHUA, JULIAN, JUSTIN, KAI, KEVIN, KINGSLEY, KYLE, LAWRENCE, LEO, LEON, LIAM, LOGAN, LOUIS, LUCAS, LUKE, MARCUS, MARTIN, MASON, MATTHEW, MAX, MICHAEL, MILES, MOHAMED, MOHAMMAD, MOHAMMED, MUHAMMAD, NATHAN, NATHANIEL, NELSON, NICHOLAS, NOAH, OLIVER, OSCAR, OWEN, PATRICK, PETER, RAYAN, RAYMOND, RICHARD, RICKY, ROHAN, RYAN, SAMUEL, SEAN, SEBASTIAN, SHAWN, SIMON, STANLEY, STEVEN, SYED, TENZIN, TERRY, THOMAS, TIMOTHY, TONY, TRAVIS, TYLER, VICTOR, VINCENT, WILLIAM, WILSON, XAVIER, ZACHARY, ZAIN, ZAYAN, AARON, ABDOUL, ABDOULAYE, ADAM, ADEN, ADONIS, ADRIAN, AHMED, AIDAN, AIDEN, ALEXANDER, ALI, ALIJAH, ALVIN, AMADOU, AMAR'E, AMARE, AMARI, AMIR, ANDRE, ANDREW, ANGEL, ANTHONY, ANTONIO, ASHTON, AUSTIN, AVERY, AYDEN, BENJAMIN, BLAKE, BRANDON, BRIAN, BRYAN, BRYCE, BRYSON, CALEB, CAMERON, CARMELO, CARTER, CAYDEN, CHAD, CHANCE, CHARLES, CHASE, CHRIS, CHRISTIAN, CHRISTOPHER, CODY, COREY, DANIEL, DARIUS, DARREN, DAVID, DERRICK, DEVIN, DEVON, DOMINIC, DONOVAN, DWAYNE, DYLAN, EDWARD, ELI, ELIAS, ELIJAH, EMMANUEL, ERIC, ETHAN, EVAN, GABRIEL, GAVIN, GEORGE, GIOVANNI, HASSAN, HAYDEN, HUNTER, IAN, IBRAHIM, IBRAHIMA, ISAAC, ISAIAH, ISHMAEL, ISIAH, JACE, JACKSON, JACOB, JADEN, JAHEIM, JAHMIR, JAIDEN, JALEN, JAMAL, JAMEL, JAMES, JAMIR, JARED, JASIAH, JASON, JAYDEN, JAYLEN, JAYSON, JELANI, JEREMIAH, JEREMY, JERMAINE, JESSE, JOEL, JOHN, JONATHAN, JORDAN, JOSEPH, JOSHUA, JOSIAH, JULIAN, JUSTICE, JUSTIN, KADEN, KAI, KAIDEN, KALEB, KAMARI, KAMERON, KAYDEN, KEITH, KENNETH, KEVIN, KHALIL, KING, KIYAN, KYLE, KYMANI, LAMAR, LANDON, LEVI, LIAM, LOGAN, LUCAS, MAKAI, MALACHI, MALCOLM, MALIK, MAMADOU, MARC, MARCUS, MARQUIS, MASON, MATTHEW, MAURICE, MEKHI, MESSIAH, MICAH, MICHAEL, MILES, MOHAMED, MOHAMMED, MOUSSA, MYLES, NANA, NASIR, NATHAN, NATHANIEL, NEHEMIAH, NICHOLAS, NICOLAS, NIGEL, NOAH, OMAR, OMARI, OUSMANE, PATRICK, PRESTON, PRINCE, QUINCY, RICARDO, RICHARD, ROBERT, RODNEY, RYAN, SAMUEL, SEAN, SEBASTIAN, SEKOU, SETH, SHAWN, SINCERE, STEPHEN, STEVEN, TERRELL, TERRENCE, TIMOTHY, TRAVIS, TRISTAN, TROY, TYLER, VICTOR, WILLIAM, XAVIER, ZACHARY, ZAIRE, ZION, ZYAIRE, AARON, ABDIEL, ABEL, ABRAHAM, ADAM, ADEN, ADONIS, ADRIAN, ADRIEL, AIDAN, AIDEN, ALAN, ALBERT, ALBERTO, ALDO, ALEJANDRO, ALEX, ALEXANDER, ALEXIS, ALFREDO, ALLAN, ALLEN, ALVIN, AMIR, ANDERSON, ANDRE, ANDRES, ANDREW, ANDY, ANGEL, ANGELO, ANTHONY, ANTONIO, ARIEL, ARMANDO, ARMANI, ARTURO, ASHTON, AUSTIN, AVERY, AXEL, AYDEN, BENJAMIN, BRADLEY, BRANDON, BRAYAN, BRAYDEN, BRIAN, BRYAN, BRYANT, BRYCE, BYRON, CALEB, CAMERON, CARLOS, CARMELO, CESAR, ABIGAIL, ADA, AISHA, AIZA, ALEENA, ALEXA, ALEXANDRA, ALICE, ALINA, ALISHA, ALIYAH, ALLISON, ALYSSA, AMANDA, AMBER, AMELIA, AMY, ANGEL, ANGELA, ANGELINA, ANGIE, ANIKA, ANNA, ANNABELLE, ANNIE, ARIA, ARIANA, ARIANNA, ARYA, ASHLEY, AUDREY, AVA, AYESHA, BELLA, BONNIE, BRIANNA, CATHERINE, CECILIA, CHARLOTTE, CHLOE, CHRISTINA, CHRISTINE, CHRISTY, CINDY, CLAIRE, CYNTHIA, DAISY, DIYA, EILEEN, ELAINE, ELENA, ELINA, ELIZABETH, ELLA, EMILY, EMMA, ERICA, ERIKA, ERIN, ESHAL, EVA, EVELYN, FATIMA, FIONA, GIANNA, GRACE, HAILEY, HANNAH, HELEN, IRENE, IRIS, ISABEL, ISABELLA, ISABELLE, IVY, JANICE, JANNAT, JASMINE, JENNIFER, JENNY, JESSICA, JESSIE, JIA, JOANNA, JOCELYN, JOY, JOYCE, JULIA, Johan, KAITLYN, KAREN, KATE, KATELYN, KATHERINE, KATIE, KAYLA, KAYLEE, KELLY, KHLOE, KYLIE, LAUREN, LEAH, LEELA, LILLIAN, LILY, MADISON, MAGGIE, MANDY, MARYAM, MAYA, MEGAN, MELODY, MIA, MICHELLE, MILA, MINA, NATALIE, NICOLE, NINA, OLIVIA, PHOEBE, QUEENIE, RACHEL, RAINA, REBECCA, RENEE, SABRINA, SAMANTHA, SARA, SARAH, SELENA, SELINA, SERENA, SHARON, SHIRLEY, SOFIA, SOPHIA, SOPHIE, STELLA, STEPHANIE, SYEDA, TANISHA, TENZIN, TIFFANY, TINA, VANESSA, VICKY, VICTORIA, VIVIAN, WENDY, WINNIE, XIN, YU, ZAHRA, ZAINAB, ZARA, ZOE, AALIYAH, ABIGAIL, ADDISON, AICHA, AISHA, AISSATOU, ALANA, ALEXIS, ALICIA, ALIYAH, ALYSSA, AMANDA, AMANI, AMAYA, AMBER, AMELIA, AMINA, AMINATA, AMIRA, AMIRAH, AMIYAH, ANAYA, ANGEL, ANGELINA, ANIYA, ANIYAH, ARIA, ARIANA, ARIANNA, ARIEL, ARIELLE, ASHLEY, AUBREY, AUTUMN, AVA, BRIANNA, BRIELLE, BROOKE, CAMILLE, CHELSEA, CHEYENNE, CHLOE, CHRISTINA, DAKOTA, DANIELLE, DESTINY, DYLAN, EDEN, EGYPT, ELIZABETH, EMILY, EMMA, ERIN, ESSENCE, EVA, FAITH, FANTA, FATIMA, FATOU, FATOUMATA, GABRIELLA, GABRIELLE, GENESIS, GRACE, HAILEY, HANNAH, HARMONY, HAWA, HEAVEN, IMANI, ISABELLA, JADA, JADE, JALIYAH, JANELLE, JANIYA, JANIYAH, JASMINE, JAYDA, JAYLA, JORDYN, JULIA, KAI, KAITLYN, KALIYAH, KAMIYAH, KAYLA, KAYLEE, KELSEY, KENDRA, KENNEDY, KENYA, KHLOE, KIARA, KIMORA, KYLA, KYLIE, LAILA, LAUREN, LAYLA, LEAH, LEILANI, LONDON, LONDYN, LYRIC, MACKENZIE, MADISON, MAKAYLA, MALIA, MALIYAH, MARIAH, MARIAM, MARIAMA, MARYAM, MAYA, MCKENZIE, MELANIE, MIA, MICHELLE, MIKAYLA, MILAN, MORGAN, MYA, NADIA, NAHLA, NANA, NAOMI, NATALIA, NATALIE, NEVAEH, NIA, NYLA, NYLAH, OLIVIA, PAIGE, PARIS, PEYTON, PRINCESS, RACHEL, REBECCA, RILEY, SADE, SAMANTHA, SAMARA, SAMIYA, SAMIYAH, SANAA, Aaron, SANAI, SANIYA, SANIYAH, SARAH, SARAI, SARIAH, SASHA, SAVANNAH, SERENITY, SHANIA, SHANIYA, SHILOH, SKYE, SKYLA, SKYLAR, SOPHIA, SORAYA, SUMMER, SYDNEY, SYMPHONY, TABITHA, TAMIA, TARAJI, TAYLOR, TIANA, TIANNA, TORI, TRINITY, VICTORIA, ZAHARA, ZANIYAH, ZARA, ZARIA, ZARIAH, ZOE, ZOEY, ZURI, AALIYAH, ABBY, ABIGAIL, ADRIANA, ADRIANNA, AILEEN, AIMEE, AISHA, ALANA, ALEJANDRA, ALESSANDRA, ALEXA, ALEXANDRA, ALICE, ALICIA, ALISON, ALISSON, ALIYAH, ALLISON, ALLYSON, ALONDRA, ALYSON, ALYSSA, AMANDA, AMAYA, AMBER, AMELIA, AMY, ANA, ANALIA, ANAYA, ANDREA, ANGELA, ANGELICA, ANGELINA, ANGELIQUE, ANGELY, ANGIE, ANIYAH, ANNA, ANNABELLE, APRIL, ARELY, ARIANA, ARIANNA, ARIANNY, ARIEL, ARIELLA, ASHLEY, ASHLY, ATHENA, AUBREY, AURORA, AVA, AYLEEN, AYLIN, BELLA, BIANCA, BRENDA, BRIANA, BRIANNA, BRIANNY, BRIELLE, BRITNEY, BRITTANY, BRYANNA, CAMILA, CARMEN, CAROLINA, CAROLINE, CASSANDRA, CELESTE, CHARLOTTE, CHELSEA, CHLOE, CHRISTINA, CINDY, CLARA, CRISTINA, CRYSTAL, CYNTHIA, DAISY, DAMARIS, DANA, DANIELA, DANIELLA, DANIELLE, DANNA, DAYANA, DELILAH, DENISE, DESTINY, DIANA, DULCE, EILEEN, ELENA, ELIANA, ELIANNA, ELIANNY, ELISA, ELIZABETH, ELLA, EMELY, EMILY, EMMA, ERIKA, ESMERALDA, ESTHER, ESTRELLA, EVA, EVELYN, FAITH, FATIMA, FERNANDA, GABRIELA, GABRIELLA, GABRIELLE, GENESIS, STEPHEN, STEVEN, THEODORE, THOMAS, TIMOTHY, TRISTAN, TYLER, TZVI, USHER, VICTOR, VINCENT, VINCENZO, WESLEY, WILLIAM, WYATT, XAVIER, YAAKOV, YAKOV, YASEEN, YECHEZKEL, YECHIEL, YEHOSHUA, YEHUDA, YEHUDAH, YIDA, YIDEL, YISRAEL, YISROEL, YITZCHAK, YITZCHOK, YOEL, YONAH, YOSEF, YOUSEF, YOUSSEF, ZACHARY, ZALMEN, ZEV, ABBY, ABIGAIL, ADA, AISHA, ALEXANDRA, ALEXIS, ALICE, ALINA, ALISHA, ALLISON, ALYSSA, AMANDA, AMAYA, AMBER, AMELIA, AMINA, AMY, ANAYA, ANGEL, ANGELA, ANGELINA, ANISHA, ANNA, ANNABELLE, ANNIE, ANYA, ARIA, ARIANA, ARIANNA, ARIEL, ARISHA, ARYA, ASHLEY, ATHENA, AUDREY, AVA, AVERY, AYESHA, BELLA, BONNIE, BRIANNA, CAROLINE, CATHERINE, CECILIA, CHARLOTTE, CHELSEA, CHLOE, CHRISTINA, CHRISTINE, CINDY, CLAIRE, CONNIE, CRYSTAL, CYNTHIA, DAPHNE, DIYA, DORIS, EILEEN, ELAINE, ELEANOR, ELENA, ELINA, ELIZABETH, ELLA, ELLIE, EMILY, EMMA, ERICA, ERIN, ESTHER, EVA, EVELYN, FAITH, FATIMA, FIONA, GABRIELLA, GRACE, HAFSA, HAILEY, HANNAH, HAREEM, HAZEL, HELEN, IRENE, IRIS, ISABELLA, ISABELLE, IVY, JANICE, JANNAT, JASMINE, JENNIFER, JENNY, JESSICA, JOANNA, JOCELYN, JOLIN, JOY, JOYCE, JUDY, JULIA, KAITLYN, KAREN, KATE, KATELYN, KATHERINE, KATIE, KAYLA, KAYLEE, KELLY, KHLOE, KIMBERLY, KYLIE, LAUREN, LAYLA, LEAH, LILLIAN, LILY, LINDA, LYDIA, MADELEINE, MADISON, MAGGIE, MANDY, MANHA, MARYAM, MAYA, MEGAN, MELANIE, MELODY, MIA, MICHELLE, MILA, MIRANDA, NATALIE, NICOLE, NINA, OLIVIA, PENELOPE, PHOEBE, QUEENIE, RACHEL, REBECCA, RILEY, SABRINA, SAMANTHA, SARA, SARAH, SAVANNAH, SELENA, SELINA, SERENA, SHARON, SHERRY, SHIRLEY, SOFIA, SOPHIA, SOPHIE, STELLA, STEPHANIE, SUMMER, SYDNEY, SYEDA, TASNIM, TENZIN, TIFFANY, TINA, VANESSA, VICKY, VICTORIA, VIOLET, VIVIAN, WINNIE, XIN, ZAHRA, ZAINAB, ZARA, ZOE, ZOEY, AALIYAH, ABIGAIL, ADRIANNA, AICHA, AISHA, AISSATOU, ALANA, ALANI, ALEXA, ALEXIS, ALICIA, ALIYAH, ALYSSA, AMANDA, AMAYA, AMBER, AMELIA, AMINA, AMINATA, AMIRA, AMIRAH, AMIYAH, ANGEL, ANGELINA, ANIYA, ANIYAH, ARIA, ARIANA, ARIANNA, ARIEL, ARIELLE, ASHLEY, AUBREE, AUBREY, AUTUMN, AVA, AWA, AYANNA, BELLA, BINTOU, BRIANNA, BRIELLE, CAMILLE, CHELSEA, CHEYENNE, CHLOE, CHRISTINA, DANIELLE, DEBORAH, DESTINY, ELISE, ELIZABETH, EMILY, EMMA, ERIN, FAITH, FANTA, FATIMA, FATOUMATA, GABRIELLA, GABRIELLE, GENESIS, GIANNA, GRACE, HAILEY, HANNAH, HARMONY, HAWA, HEAVEN, IMANI, ISABELLA, JADA, JADE, JALIYAH, JANELLE, JANIYAH, JASMINE, JAYDA, JAYLA, JESSICA, JORDAN, JORDYN, KAITLYN, KALIYAH, KAYLA, KAYLEE, KELSEY, KENNEDY, KHLOE, KIARA, KIMORA, KYLA, KYLEE, KYLIE, LAILA, LAUREN, LAYLA, LEAH, LEILANI, LILY, LONDON, LONDYN, LYRIC, MACKENZIE, MADISON, MAKAYLA, MAKENZIE, MALIA, MALIYAH, MARIAH, MARIAM, MARIAMA, MAYA, MCKENZIE, MEGAN, MELANIE, MELODY, MIA, MICHELLE, MIKAYLA, MILAN, MIRACLE, MORGAN, MYA, NAOMI, NEVAEH, NIA, NYLA, NYLAH, OLIVIA, OUMOU, PAIGE, PARIS, PEYTON, PHOENIX, PRINCESS, RILEY, SAMANTHA, SAMARA, SAMIYAH, SANAA, SANAI, SANIYAH, SARAH, SARAI, SARIAH, SASHA, SAVANNAH, SERENITY, SHAYLA, SKYE, SKYLA, SKYLAH, SKYLAR, SOPHIA, STEPHANIE, SUMMER, SYDNEY, TALIA, TAMIA, TAYLOR, TIANA, TORI, TRINITY, VANESSA, VICTORIA, VIOLET, WYNTER, ZOE, ZOEY, ZURI, AALIYAH, ABIGAIL, ADRIANA, ADRIANNA, AILEEN, ALANA, ALANI, ALEJANDRA, ALESSANDRA, ALEXA, ALEXANDRA, ALEXIA, ALICE, ALICIA, ALINA, ALISON, ALISSON, ALIYAH, ALLISON, ALLYSON, ALONDRA, ALYSSA, AMALIA, AMANDA, AMAYA, AMBER, AMBERLY, AMELIA, AMELIE, AMY, ANA, ANAIS, ANALIA, ANDREA, ANGELA, ANGELICA, ANGELINA, ANGELIQUE, ANGIE, ANIYAH, ANNA, APRIL, ARELY, ARIA, ARIANA, ARIANNA, ARIEL, ARIELLE, ASHLEY, ATHENA, AUBREY, AURORA, AVA, AVERY, AVRIL, AYLIN, BELLA, BIANCA, BRENDA, BRIANA, BRIANNA, BRIELLE, BRITNEY, BRITTANY, BRYANNA, CAMILA, CAMILLA, CARMEN, CAROLINA, CAROLINE, CATALINA, CATHERINE, CHARLOTTE, CHELSEA, CHLOE, CHRISTINA, CINDY, CRYSTAL, CYNTHIA, DAISY, DANA, DANIELA, DANIELLA, DANNA, DAYANA, DELILAH, DENISE, DESTINY, DIANA, DULCE, EILEEN, ELENA, ELIANA, ELIANNY, ELISA, ELIZABETH, ELLA, EMELY, EMILIA, EMILY, EMMA, ERIKA, ESMERALDA, ESTHER, EVA, EVANGELINE, EVELYN, FAITH, FATIMA, FERNANDA, GABRIELA, CHARLES, CHASE, CHRIS, CHRISTIAN, CHRISTOPHER, CRISTIAN, CRISTOFER, CRISTOPHER, DAMIAN, DAMIEN, DANIEL, DANNY, DANTE, DARIEL, DARWIN, DAVID, DENNIS, DERECK, DEREK, DERICK, DEVIN, DIEGO, DOMINIC, DOMINICK, DYLAN, EDDIE, EDGAR, EDISON, EDUARDO, EDWARD, EDWIN, ELI, ELIAN, ELIAS, ELIJAH, ELVIS, EMANUEL, EMILIANO, EMILIO, EMMANUEL, ENRIQUE, ERIC, ERICK, ERIK, ESTEBAN, ETHAN, EVAN, EZEKIEL, EZEQUIEL, FELIX, FERNANDO, FRANCISCO, FRANK, FRANKLIN, FREDDY, GABRIEL, GAEL, GAVIN, GEORGE, GERARDO, GIOVANI, GIOVANNI, GIOVANNY, GREGORY, GUSTAVO, HECTOR, HENRY, HUNTER, IAN, IKER, ISAAC, ISAIAH, ISMAEL, ISRAEL, IVAN, JACE, JACK, JACOB, JADEN, JADIEL, JAIDEN, JAIME, JAKE, JAMES, JANIEL, JANUEL, JARED, JARIEL, JASON, Kayla, Celine, Inaaya, Sophie, Tiffany, Anna, Ellie, Zoey, Anaya, Annie, Eva, Iris, Katherine, Angelina, Ayesha, Tenzin, Victoria, Amy, Harper, Jasmine, Madison, Alisha, Audrey, Eleanor, Karina, Manha, JAVIER, JAY, JAYCE, JAYDEN, JAYSON, JEAN, JEANCARLOS, JEFFERSON, JEFFREY, JENCARLOS, JEREMIAH, JEREMIAS, JEREMY, JERRY, JESSE, JESUS, JIMMY, JOAQUIN, JOEL, JOHAN, JOHANN, JOHN, JOHNATHAN, JOHNNY, JONAH, JONATHAN, JORDAN, JORGE, JOSE, JOSEPH, JOSHUA, JOSIAH, JOSUE, JUAN, JULIAN, JULIEN, JULIO, JULIUS, JUNIOR, JUSTIN, KADEN, KAYDEN, KELVIN, KENNETH, KENNY, KEVIN, LANDON, LARRY, LEANDRO, LEO, LEONARDO, LEONEL, LIAM, LOGAN, LORENZO, LOUIS, LUCAS, LUIS, LUKAS, LUKE, MANUEL, MARCO, MARCOS, MARCUS, MARIO, MARK, MARLON, MARTIN, MARVIN, MASON, MATEO, MATHEW, MATIAS, MATTHEW, MAURICIO, MAX, MAXIMILIANO, MAXIMO, MAXIMUS, MELVIN, MICHAEL, MIGUEL, MIKE, MOISES, NATHAN, NATHANIEL, NELSON, NICHOLAS, NICOLAS, NOAH, NOEL, OLIVER, OMAR, OSCAR, OWEN, PABLO, PATRICK, PAUL, PEDRO, PETER, PRESTON, PRINCE, RAFAEL, RANDY, RAYMOND, RICARDO, RICHARD, RILEY, ROBERT, ROBERTO, RODRIGO, ROGER, ROMEO, ROYCE, RUBEN, RYAN, SAMUEL, SANTIAGO, SEAN, SEBASTIAN, SERGIO, SHANE, SHAWN, STEPHEN, STEVE, STEVEN, TAYLOR, THOMAS, TIMOTHY, TOMAS, TRAVIS, TRISTAN, TYLER, URIEL, VICTOR, VINCENT, WILLIAM, WILSON, XAVIER, YADIEL, YAHIR, YAIR, YANDEL, YANIEL, YARIEL, YERIK, ZACHARY, ZION, AARON, ABRAHAM, ADAM, ADRIAN, AHARON, AHMED, AHRON, AIDAN, AIDEN, AKIVA, ALAN, ALBERT, ALEC, ALEX, ALEXANDER, ALI, ALLEN, AMIR, AMROM, ANDREW, ANGELO, ANTHONY, ANTONIO, ARI, ARIEL, ARON, ARTHUR, ARYEH, ASHER, ASHTON, AUGUST, AUGUSTUS, AUSTIN, AVI, AVRAHAM, AVROHOM, AVRUM, AYDEN, BARUCH, BECKETT, BEN, BENJAMIN, BENNETT, BENZION, BERISH, BINYOMIN, BLAKE, BORUCH, BRADY, BRANDON, BRAYDEN, BRENDAN, BRIAN, BRODY, BRYAN, BRYCE, CADEN, CALEB, CALVIN, CAMERON, CARMINE, CARTER, CHAIM, CHARLES, CHARLIE, CHASE, CHESKEL, CHRISTIAN, CHRISTOPHER, COLE, COLIN, CONNOR, CONOR, COOPER, DANIEL, DASHIELL, DAVID, DEAN, DECLAN, DENNIS, DEREK, DEVIN, DOMINIC, DOMINICK, DOV, DOVID, DYLAN, EDWARD, EFRAIM, EITAN, ELI, ELIAS, ELIEZER, ELIJAH, ELIMELECH, ELIYAHU, ELLIOT, ELLIOTT, ELLIS, ERIC, ETHAN, EVAN, EZRA, FELIX, FILIP, FINN, FRANCESCO, FRANK, GABRIEL, GAVIN, GAVRIEL, GEORGE, GIOVANNI, GRAHAM, GRANT, GRAYSON, GREGORY, GREYSON, GRIFFIN, HARRISON, HARRY, HENRY, HERSH, HERSHEL, HERSHY, HUDSON, HUGO, HUNTER, IAN, ILAN, ISAAC, ISAIAH, ISRAEL, IVAN, JACK, JACKSON, JACOB, JAKE, JAMES, JASON, JASPER, JAYDEN, JESSE, JOEL, JOHN, JONAH, JONATHAN, JORDAN, JOSEPH, JOSHUA, JUDAH, JUDE, JULIAN, JUSTIN, KACPER, KAI, KENNETH, KEVIN, KIERAN, KYLE, LANDON, LAZER, LEO, LEON, LEONARDO, LEV, LEVI, LIAM, LIPA, LOGAN, LORENZO, LOUIS, LUCA, LUCAS, LUKA, LUKAS, LUKE, MAKSIM, MARC, MARCO, MARCUS, MARK, MARTIN, MASON, MATEO, MATTEO, MATTHEW, MAX, MAXIM, MAXIMILIAN, MAXIMUS, MAXWELL, MAYER, MEILECH, MEIR, MENACHEM, MENASHE, MENDEL, MENDY, MICAH, MICHAEL, MILES, MILO, MOHAMED, MOHAMMED, MOISHE, MORDECHAI, MORRIS, MOSES, MOSHE, NAFTALI, NAFTULI, NATHAN, NATHANIEL, NICHOLAS, NICO, NICOLAS, NIKOLAS, NOAH, NOAM, NOLAN, NOSSON, OLIVER, OMAR, OSCAR, OWEN, PARKER, PATRICK, PAUL, PETER, PHILIP, PINCHAS, PINCHUS, QUINN, RAFAEL, RAPHAEL, RAYAN, REED, REID, RICHARD, RILEY, ROBERT, ROCCO, ROMAN, ROWAN, RYAN, RYDER, SALVATORE, SAM, SAMIR, SAMUEL, SANTINO, SEAN, SEBASTIAN, SHALOM, SHANE, SHAUL, SHAYA, SHEA, SHIA, SHIMON, SHLOIME, SHLOIMY, SHLOME, SHLOMO, SHMIEL, SHMUEL, SHNEUR, SHOLOM, SHULEM, SIDNEY, SILAS, SIMCHA, SIMON, SOLOMON, SPENCER, SARAH, SASHA, SAVANNAH, SCARLETT, SELMA, SHAINA, SHAINDY, SHIFRA, SHIRA, SHOSHANA, SIENA, SIENNA, SIMA, SIMONE, SKYLAR, SLOANE, SOFIA, SONIA, SOPHIA, SOPHIE, STELLA, SURY, SYDNEY, SYLVIA, SYLVIE, TALIA, TAMAR, TAYLOR, TESSA, TOBY, TZIPORA, TZIVIA, VALENTINA, VALERIE, VANESSA, VERA, VERONICA, VICTORIA, VIOLET, VIRGINIA, VIVIAN, VIVIENNE, WILLA, YAEL, YARA, YEHUDIS, YIDES, YITTA, YITTY, YOCHEVED, ZISSY, ZOE, ZOEY, AARAV, AARON, AAYAN, ABDUL, ABDULLAH, ADAM, ADITYA, ADRIAN, AHMED, AIDAN, AIDEN, ALAN, ALBERT, ALEX, ALEXANDER, ALI, ALLEN, ALSTON, ALVIN, ANDREW, ANDY, ANGUS, ANSON, ANTHONY, ARJUN, ARYAN, ASHER, AUSTIN, AYAAN, AYAN, AYDEN, BENJAMIN, BENSON, BRANDON, BRAYDEN, BRIAN, BRUCE, BRYAN, CALEB, CALVIN, CARSON, CARTER, CHARLES, CHASE, CHRISTIAN, CHRISTOPHER, CODY, CONNOR, CYRUS, DANIEL, DANNY, DARREN, DAVID, DEREK, DEVIN, DYLAN, EASON, EDISON, EDWARD, ELI, ELIJAH, ELVIS, ERIC, ETHAN, EVAN, FELIX, GABRIEL, GAVIN, GORDON, HAMZA, HAO, HARRISON, HAYDEN, HENRY, HUDSON, HUNTER, IAN, IBRAHIM, ISAAC, IVAN, JACK, JACKSON, JACKY, JACOB, JADEN, JAKE, JAMES, JASON, JASPER, JAY, JAYDEN, JEFFREY, JEREMY, JERRY, JIMMY, JOHN, JOHNNY, JONATHAN, JORDAN, JOSEPH, JOSHUA, JULIAN, JUN, JUSTIN, KAI, KENNETH, KEVIN, KINGSLEY, KINGSTON, KRISH, KYLE, LAWRENCE, LEO, LEON, LIAM, LOGAN, LOUIS, LUCAS, LUKE, MARCUS, MASON, MATTHEW, MAX, MAXWELL, MICHAEL, MILES, MOHAMED, MOHAMMAD, MOHAMMED, MUHAMMAD, MUSA, MUSTAFA, NATHAN, NATHANIEL, NEIL, NELSON, NICHOLAS, NIKHIL, NOAH, OLIVER, OSCAR, OWEN, PATRICK, RAYAN, RAYMOND, RAYYAN, REHAN, RICHARD, RICKY, ROHAN, ROY, RYAN, SAMUEL, SEAN, SEBASTIAN, SHAYAAN, SHAYAN, STANLEY, STEVEN, SUBHAN, SYED, TENZIN, TERRENCE, THEODORE, THOMAS, TIMOTHY, TRISTAN, TYLER, VICTOR, VIHAAN, VINCENT, WESLEY, WILLIAM, WILSON, WINSTON, YUSUF, ZACHARY, ZAIN, ZAYAN, AARON, ABDOUL, ABDOULAYE, ABDUL, ADAM, ADONIS, ADRIAN, AIDAN, AIDEN, ALEX, ALEXANDER, ALI, ALPHA, AMADOU, AMAR'E, AMARE, AMARI, AMIR, ANDRE, ANDREW, ANTHONY, ANTONIO, ARMANI, ASHTON, AUSTIN, AVERY, AYDEN, BENJAMIN, BLAKE, BOUBACAR, BRADLEY, BRANDON, BRIAN, BRYAN, BRYCE, BRYSON, CADEN, CALEB, CAMERON, CAMREN, CARMELO, CARTER, CAYDEN, CHAD, CHANCE, CHARLES, CHASE, CHRISTIAN, CHRISTOPHER, CONNOR, DAMANI, DANIEL, DARIUS, DARREN, DAVID, DERRICK, DEVIN, DOMINIC, DYLAN, ELI, ELIAS, ELIJAH, EMMANUEL, ERIC, ETHAN, EVAN, GABRIEL, GAVIN, GIOVANNI, HUNTER, IAN, IBRAHIM, IBRAHIMA, ISAAC, ISAIAH, ISRAEL, JACE, JACOB, JADEN, JAHMIR, JAIDEN, JALEN, JAMARI, JAMES, JASIAH, JASON, JAYDEN, JAYLEN, JEREMIAH, JEREMY, JERMAINE, JOEL, JOHN, JONAH, JONATHAN, JORDAN, JOSEPH, JOSHUA, JOSIAH, JUDAH, JULIAN, JUSTICE, JUSTIN, KADEN, KAI, KAIDEN, KALEB, KAMARI, KAREEM, KAYDEN, KEITH, KENNETH, KEVIN, KHALIL, KING, KIYAN, KRISTIAN, KYLE, KYMANI, LEON, LEVI, LIAM, LOGAN, LUCAS, LUKE, MAHAMADOU, MAKAI, MAKHI, MALACHI, MALIK, MAMADOU, MARCUS, MASON, MATTHEW, MAURICE, MEKHI, MESSIAH, MICAH, MICHAEL, MILES, MOHAMED, MOHAMMED, MOUSSA, MUHAMMAD, MYLES, NASIR, NATHAN, NATHANAEL, NATHANIEL, NICHOLAS, NOAH, NOEL, OMAR, OMARI, OUMAR, PAUL, PEYTON, PRESTON, PRINCE, RICHARD, RILEY, ROBERT, RYAN, SAMIR, SAMUEL, SEAN, SEBASTIAN, SHANE, SHAWN, SINCERE, STEVEN, TERRELL, THOMAS, TIMOTHY, TRISTAN, TROY, TYLER, WILLIAM, XAVIER, ZACHARY, ZAIRE, ZION, AARON, ABDIEL, ABEL, ABRAHAM, ADAM, ADAN, ADEN, ADONIS, ADRIAN, ADRIEL, AIDAN, AIDEN, ALAN, ALBERT, ALBERTO, ALDO, ALEJANDRO, ALEX, ALEXANDER, ALEXIS, ALLEN, ALVIN, AMIR, ANDERSON, ANDRE, ANDRES, ANDREW, ANDY, ANGEL, ANGELO, ANTHONY, ANTONIO, ARIEL, ARMANDO, ARMANI, ASHTON, AUSTIN, AVERY, AXEL, AYDEN, BENJAMIN, BLAKE, BRADLEY, BRANDON, BRAYAN, BRAYDEN, BRIAN, BRUCE, BRYAN, BRYANT, BRYCE, CALEB, CAMERON, CAMILO, CARLOS, CARMELO, CARTER, CESAR, CHARLES, CHARLIE, CHASE, CHRIS, CHRISTIAN, CHRISTOPHER, CRISTIAN, CRISTOPHER, DAMIAN, DAMIEN, DANIEL, DANNY, DANTE, DARIEL, DARWIN, DAVID, DEAN, DENZEL, DEREK, DEVIN, DIEGO, DOMINIC, DOMINICK, DONOVAN, DYLAN, EDDY, EDGAR, EDUARDO, EDWARD, EDWIN, ELI, ELIAN, ELIAS, ELIJAH, ELVIN, EMANUEL, EMILIANO, EMILIO, EMMANUEL, ENRIQUE, ERIC, ERICK, ERIK, ESTEBAN, GABRIELLA, GENESIS, GERALDINE, GIA, GIANNA, GISELLE, GRACE, GUADALUPE, HAILEY, HALEY, HANNAH, HAYLEE, HAZEL, HEAVEN, HEIDI, HEIDY, HELEN, ISABEL, ISABELA, ISABELLA, ITZEL, IVANNA, IZABELLA, JACQUELINE, JADA, JADE, JAELYN, JAMIE, JASMIN, JASMINE, JAYLA, JAYLAH, JAYLEEN, JAYLENE, JAYLIN, JAZLYN, JAZMIN, JAZMINE, JAZZLYN, JENNIFER, JESSICA, JIMENA, JOCELYN, JOHANNA, JOSELYN, JULIA, JULIANA, JULIANNA, JULIE, JULIET, JULIETTE, JULISSA, KAILEY, KAITLYN, KAMILA, KAREN, KARINA, KARLA, KASSANDRA, KATELYN, KATHERINE, KATIE, KAYLA, KAYLEE, KAYLIE, KAYLIN, KELLY, KELSEY, KEYLA, KHLOE, KIARA, KIMBERLY, KYLIE, LAILA, LAURA, LAUREN, LAYLA, LEAH, LEILA, LEILANI, LESLEY, LESLIE, LESLY, LIA, LIANA, LILIANA, LILY, LITZY, LIZ, LIZBETH, LONDON, LUCIA, LUNA, LUZ, MACKENZIE, MADELINE, MADELYN, MADISON, MAKAYLA, MARIA, MARIAH, MARIANA, MARILYN, MAYA, MCKENZIE, MEGAN, MELANIE, MELANY, MELINA, MELISSA, MELODY, MIA, MIAH, MICHELLE, MIKAELA, MIKAYLA, MILA, MILAGROS, MILEY, MIRANDA, MIRIAM, MYA, NAOMI, NATALIA, NATALIE, NATALY, NATASHA, NATHALIA, NATHALIE, NATHALY, NAYELI, NEVAEH, NICOLE, NOEMI, NYLAH, OLIVIA, PAOLA, PARIS, PAULA, PENELOPE, PERLA, PEYTON, RACHEL, REBECCA, RIHANNA, ROSA, ROSELYN, RUBY, RUTH, SABRINA, SALOME, SAMANTHA, SANDRA, SARA, SARAH, SARAI, SAVANNA, SAVANNAH, SCARLET, SCARLETT, SELENA, SERENITY, SHERLYN, SIENNA, SKYLA, SKYLAR, SOFIA, SOPHIA, SOPHIE, STACEY, STACY, STELLA, STEPHANIE, SUMMER, TATIANA, TIFFANY, VALENTINA, VALERIA, VALERIE, VANESSA, VERONICA, VICTORIA, VIOLET, VIVIANA, WENDY, XIMENA, YAMILETH, YARETZI, YESENIA, ZOE, ZOEY, ABIGAIL, ADA, ADDISON, ADELAIDE, ADELE, ADINA, ADRIANA, ADRIANNA, AHUVA, ALANA, ALESSANDRA, ALESSIA, ALEXA, ALEXANDRA, ALEXANDRIA, ALEXIS, ALICE, ALINA, ALISA, ALIZA, ALLISON, ALMA, ALYSSA, AMALIA, AMANDA, AMELIA, AMELIE, AMINA, AMIRA, AMY, ANASTASIA, ANGELINA, ANNA, ANNABEL, ANNABELLE, ANNE, ANTONIA, ARIA, ARIANA, ARIANNA, ARIEL, ARIELLA, ARIELLE, ASHLEY, ATHENA, AUBREY, AUDREY, AVA, AVERY, AVIGAIL, AVIVA, AYA, AYLA, BAILA, BATSHEVA, BEATRICE, BELLA, BIANCA, BLIMA, BLIMY, BRACHA, BREINDY, BRIANNA, BROOKE, BRUCHY, CAITLIN, CAROLINA, CAROLINE, CASSANDRA, CATHERINE, CECILIA, CELIA, CHANA, CHANIE, CHANY, CHARLOTTE, CHAVA, CHAVY, CHAYA, CHELSEA, CHLOE, CHRISTINA, CLAIRE, CLARA, COLETTE, CORA, DAHLIA, DAISY, DALIA, DANIELA, DANIELLA, DANIELLE, DAPHNE, DEVORA, DEVORAH, DIANA, DINA, DYLAN, EDEN, ELEANOR, ELENA, ELIANA, ELISE, ELISHEVA, ELIZA, ELIZABETH, ELLA, ELLE, ELLIANA, ELLIE, ELOISE, ELSA, EMERSON, EMILIA, EMILY, EMMA, ESME, ESTELLE, ESTER, ESTHER, ESTY, ETTY, EVA, EVANGELINE, EVE, EVELYN, FAIGA, FAIGY, FAITH, FATIMA, FIONA, FRADY, FRAIDY, FRANCES, FRANCESCA, FRIMET, GABRIELA, GABRIELLA, GABRIELLE, GEMMA, GENEVIEVE, GEORGIA, GIA, GIADA, GIANNA, GITTEL, GITTY, GIULIA, GIULIANA, GOLDA, GOLDY, GRACE, GRETA, HADASSAH, HADLEY, HAILEY, HANA, HANNA, HANNAH, HARPER, HAZEL, HELEN, HELENA, HENNY, HINDA, HINDY, IDY, INES, IRIS, ISABEL, ISABELLA, ISABELLE, ISLA, IVY, JACQUELINE, JADE, JANA, JANE, JASMINE, JENNA, JENNIFER, JESSICA, JOANNA, JOLIE, JORDAN, JOSEPHINE, JOYCE, JUDY, JULIA, JULIANA, JULIANNA, JULIE, JULIET, JULIETTE, JUNE, KAITLYN, KATE, KATELYN, KATHERINE, KATHRYN, KATIE, KAYA, KAYLA, KAYLEE, KEIRA, KIRA, LAILA, LANA, LARA, LAURA, LAUREN, LAYLA, LEA, LEAH, LEILA, LENA, LEORA, LIA, LIANA, LIBA, LIBBY, LILA, LILAH, LILIANA, LILLIAN, LILLY, LILY, LINA, LIV, LIVIA, LOLA, LOUISA, LUCIA, LUCY, LYLA, MACKENZIE, MADELEINE, MADELINE, MADELYN, MADISON, MAE, MAEVE, MALAK, MALKA, MALKY, MARGARET, MARGOT, MARIA, MARIAM, MARINA, MARY, MARYAM, MATILDA, MAYA, MELANIE, MELISSA, MIA, MICHAELA, MICHELLE, MIKAYLA, MILA, MINDY, MIREL, MIRI, MIRIAM, MOLLY, MORGAN, NAOMI, NATALIA, NATALIE, NECHAMA, NICOLE, NICOLETTE, NINA, NOA, NOOR, NORA, OLIVE, OLIVIA, PAIGE, PEARL, PENELOPE, PEREL, PERL, PERRY, PESSY, PEYTON, PHOEBE, PIPER, POLINA, QUINN, RACHEL, RAIZEL, RAIZY, RAQUEL, REAGAN, REBECCA, REEM, REESE, RIFKY, RILEY, RIVKA, RIVKY, ROCHEL, ROIZY, ROSA, ROSE, ROSIE, RUBY, RUCHY, RUTH, RYAN, SABRINA, SADIE, SAGE, SALMA, SAMANTHA, SARA, Alina, Allison, Alyssa, Amanda, Amber, Amelia, Amy, Ananya, Anaya, Angel, Angela, Angelina, Anika, Anna, Annabelle, Annie, Annika, Anya, Aria, Ariana, Arianna, Ariel, Arya, Ashley, Athena, Audrey, Ava, Avery, Ayesha, Bella, Carina, Caroline, Catherine, Cecilia, Celine, Charlotte, Chelsea, Chloe, Christina, Christine, Cindy, Claire, Connie, Crystal, Cynthia, Daphne, Eileen, Elaine, Elena, Elina, Elise, Elizabeth, Ella, Ellie, Emaan, Emily, Emma, Erin, Eunice, Eva, Evelyn, Fatima, Fiona, Grace, Hailey, Hana, Hannah, Helen, Inaaya, Irene, Iris, Isabel, Isabella, Isabelle, Ivy, Jamie, Jannat, Jasmine, Jenna, Jennifer, Jenny, Jessica, John, Jessie, Joanna, Jocelyn, Josephine, Joy, Joyce, Julia, Kaitlyn, Karen, Karina, Kate, Katelyn, Katherine, Kayla, Kaylee, Keira, Kelly, Kimberly, Lauren, Layla, Leah, Leela, Leila, Lena, Lillian, Lily, Linda, Madeline, Madelyn, Madison, Maggie, Manha, Maryam, Maya, Megan, Melody, Mia, Michelle, Miranda, Naomi, Natalie, Nicole, Nina, Olivia, Penelope, Queenie, Rachel, Raina, Rebecca, Riya, Sabrina, Samantha, Samara, Sara, Sarah, Sarina, Scarlett, Selena, Selina, Serena, Sharon, Shirley, Sofia, Sophia, Sophie, Stella, Stephanie, Summer, Mason, Sunny, Sydney, Syeda, Sylvia, Tenzin, Tiffany, Tina, Vanessa, Vicky, Victoria, Vivian, Winnie, Zahra, Zainab, Zara, Zoe, Zoey, Zoya, Aaliyah, Abigail, Abrielle, Adrianna, Aicha, Aisha, Aissata, Aissatou, Alana, Alexandra, Alexis, Aliyah, Alyssa, Amani, Amaya, Amber, Amelia, Amina, Aminata, Amira, Amirah, Amiyah, Anaya, Angel, Angelina, Aniya, Aniyah, Aria, Ariana, Arianna, Ariel, Arielle, Ashley, Asia, Aubrey, Autumn, Ava, Avery, Azaria, Bella, Bria, Brianna, Brielle, Brooke, Camille, Chelsea, Chloe, Christina, Dakota, Danielle, Destiny, Eden, Egypt, Elizabeth, Emani, Emily, Emma, Esther, Eva, Faith, Fatima, Fatoumata, Gabriella, Gabrielle, Genesis, Gianna, Giselle, Grace, Hailey, Hannah, Harmony, Hawa, Heaven, Imani, Isabella, Isabelle, Isis, Jada, Jade, Jaliyah, Janae, Janelle, Janiyah, Jasmine, Jayla, Jessica, Jordyn, Journey, Kadiatou, Kaitlyn, Kayla, Kaylee, Kaylin, Kennedy, Khloe, Kiara, Kimora, Kourtney, Kyla, Kylee, Kylie, Laila, Lauren, Layla, Leah, Leila, Lily, London, Londyn, Lyric, Mackenzie, Madison, Madisyn, Makayla, Malia, Maliyah, Mariah, Mariam, Mariama, Maya, McKenzie, Melanie, Melody, Mia, Michelle, Milan, Miracle, Morgan, Mya, Nadia, Nahla, Naomi, Nevaeh, Nia, Nyla, Nylah, Olivia, Oumou, Paige, Paris, Payton, Peyton, Phoenix, Precious, Princess, Riley, Saige, Samantha, Samara, Samiyah, Sanaa, Sanai, Saniyah, Sarah, Sarai, Sariah, Sasha, Savannah, Scarlett, Serenity, Shania, Skyla, Skylah, Skylar, Sofia, Sophia, Summer, Sydney, Talia, Tamia, Taylor, Tiana, Trinity, Victoria, Wynter, Zaniyah, Zara, Zariah, Zoe, Zoey, Zuri, Aaliyah, Abigail, Abril, Adriana, Adrianna, Aileen, Aimee, Alana, Alani, Alanis, Alanna, Alejandra, Alessandra, Alexa, Alexandra, Alexia, Alice, Alicia, Alina, Alison, Alisson, Aliyah, Allison, Allyson, Alma, Alondra, Alyssa, Amanda, Amaya, Amber, Amelia, Amy, Ana, Anabel, Anabella, Analia, Anaya, Andrea, Angela, Angelica, Angelina, Angelique, Angie, Annabella, Annabelle, April, Aria, Ariana, Arianna, Arianny, Ariel, Ariella, Arielle, Ashley, Athena, Aubree, Aubrey, Audrey, Aurora, Autumn, Ava, Avery, Ayleen, Aylin, Bella, Bianca, Brenda, Briana, Brianna, Brielle, Britney, Brittany, Bryanna, Camila, Camilla, Carla, Carmen, Caroline, Cataleya, Catalina, Catherine, Charlotte, Chelsea, Chloe, Crystal, Daisy, Daniela, Daniella, Danna, Dayana, Delilah, Destiny, Diana, Dulce, Eileen, Elena, Eliana, Elisa, Eliza, Elizabeth, Ella, Emely, Emilia, Emily, Emma, ETHAN, EVAN, EZEKIEL, EZEQUIEL, FABIAN, FELIX, FERNANDO, FRANCISCO, FRANK, FRANKLIN, FREDDY, GABRIEL, GAEL, GAVIN, GEORGE, GIOVANNI, GREGORY, GUSTAVO, HECTOR, HENRY, HUGO, HUNTER, IAN, IKER, ISAAC, ISAIAH, ISMAEL, ISRAEL, IVAN, IZAIAH, JACE, JACK, JACKSON, JACOB, JADEN, JADIEL, JAEL, JAIDEN, JAIME, JAKE, JAMES, JARED, JARIEL, JASON, JAVIER, JAY, JAYCE, JAYDEN, JAYLEN, JAYREN, JAYSON, JEAN, JEFFERSON, JEFFREY, JENCARLOS, JEREMIAH, JEREMY, JESUS, JOAQUIN, JOEL, JOHAN, JOHN, JOHNNY, JONAH, JONAS, JONATHAN, JORDAN, JORGE, JOSE, JOSEPH, JOSHUA, JOSIAH, JOSUE, JUAN, JULIAN, JULIEN, JULIO, JULIUS, JUSTIN, KAIDEN, KALEB, KAYDEN, KELVIN, KENNETH, KENNY, KEVIN, KYLE, LANDON, LEANDRO, LENNY, LEO, LEONARDO, LEONEL, LIAM, LOGAN, LORENZO, LOUIS, LUCA, LUCAS, LUIS, LUKAS, LUKE, MANUEL, MARCO, MARCOS, MARCUS, MARIO, MARK, MARLON, MARTIN, MARVIN, MASON, MATEO, MATHEW, MATHIAS, MATIAS, MATTEO, MATTHEW, MAURICIO, MAX, MAXIMILIANO, MAXIMUS, MAXWELL, MELVIN, MICHAEL, MIGUEL, MIKE, MOISES, NATHAN, NATHANIEL, NELSON, NEYMAR, NICHOLAS, NICOLAS, NOAH, NOEL, OLIVER, OMAR, OSCAR, PABLO, PAUL, PEDRO, PETER, PRESTON, PRINCE, RAFAEL, RANDY, RAUL, RAYMOND, RICARDO, RICHARD, RILEY, ROBERT, ROBERTO, RODRIGO, ROMAN, ROMEO, RONALD, RUBEN, RYAN, SAMUEL, SANTIAGO, SAUL, SEAN, SEBASTIAN, SERGIO, SKYLER, STEPHEN, STEVE, STEVEN, THOMAS, TRISTAN, TYLER, URIEL, VICTOR, VINCENT, WESLEY, WILLIAM, WILSON, XAVIER, YADIEL, YAEL, YAHIR, YANDEL, YARIEL, ZACHARY, ZAYDEN, ZION, AARON, ABRAHAM, ADAM, ADRIAN, AHMAD, AHMED, AHRON, AIDAN, AIDEN, AKIVA, ALAN, ALBERT, ALEKSANDER, ALEX, ALEXANDER, ALI, ALTER, AMIR, ANDERSON, ANDREW, ANGELO, ANTHONY, ANTONIO, ARCHER, ARI, ARIEL, ARON, ARTHUR, ARYEH, ASHER, ATTICUS, AUGUST, AUSTIN, AVERY, AVRAHAM, AVROHOM, AVRUM, AYDEN, BARUCH, BECKETT, BEN, BENJAMIN, BENNETT, BENTZION, BENZION, BINYOMIN, BLAKE, BORUCH, BRADLEY, BRADY, BRANDON, BRAYDEN, BRENDAN, BRIAN, BRODY, CALEB, CALVIN, CAMERON, CARTER, CHAIM, CHARLES, CHARLIE, CHASE, CHESKEL, CHESKY, CHRIS, CHRISTIAN, CHRISTOPHER, COLE, COLIN, CONNOR, COOPER, DAMIAN, DANIEL, DAVID, DEAN, DECLAN, DEVIN, DOMINIC, DOMINICK, DOV, DOVID, DREW, DYLAN, EDWARD, EFRAIM, EITAN, ELAN, ELI, ELIAS, ELIEZER, ELIJAH, ELIMELECH, ELIYAHU, ELLIOT, ELLIOTT, ELLIS, ELUZER, EMMETT, EPHRAIM, ERIC, ERIK, ETHAN, EVAN, EVERETT, EZRA, EZRIEL, FELIX, FILIP, FINN, FRANCESCO, FRANK, FREDERICK, GABRIEL, GAVIN, GAVRIEL, GEORGE, GIOVANNI, GRAHAM, GRANT, GRAYSON, GREGORY, GRIFFIN, HAMZA, HARRISON, HARRY, HARVEY, HAYDEN, HENRY, HERSH, HERSHEL, HERSHY, HUDSON, HUGO, HUNTER, IAN, IBRAHIM, ILAN, ISAAC, ISAIAH, ISRAEL, ISSAC, IVAN, JACE, JACK, JACKSON, JACOB, JAD, JAKE, JAMES, JASON, JASPER, JAXON, JAYDEN, JEREMY, JESSE, JOEL, JOHN, JONAH, JONATHAN, JORDAN, JOSEPH, JOSHUA, JUDAH, JUDE, JULIAN, JULIEN, JUSTIN, KAI, KEVIN, KIERAN, KYLE, LANDON, LAZER, LEO, LEON, LEONARDO, LEVI, LIAM, LIPA, LOGAN, LORENZO, LOUIS, LUCA, LUCAS, LUKA, LUKAS, LUKE, MAKSIM, MALIK, MARC, MARCO, MARCUS, MARK, MARTIN, MASON, MATEO, MATTEO, MATTHEW, MAX, MAXIM, MAXIMILIAN, MAXIMUS, MAXWELL, MAYER, MEIR, MENACHEM, MENDEL, MENDY, MEYER, MICAH, MICHAEL, MILES, MILO, MOHAMED, MOHAMMAD, MOHAMMED, MOISHE, MORDECHAI, MOSES, MOSHE, MUHAMMAD, MYLES, NACHMAN, NAFTALI, NATHAN, NATHANIEL, NICHOLAS, NICO, NICOLAS, NIKITA, NIKOLAS, NOAH, NOAM, NOLAN, NOSSON, OLIVER, OMAR, OSCAR, OWEN, PARKER, PATRICK, PAUL, PETER, PHILIP, PINCHAS, PINCHUS, PRESTON, QUINN, RAFAEL, RAPHAEL, RAYAN, RAYMOND, REED, REID, REUVEN, RICHARD, ROBERT, ROCCO, ROMAN, RONAN, RORY, ROWAN, RYAN, SALVATORE, SAM, SAMI, SAMIR, SAMUEL, SEAN, SEBASTIAN, SHALOM, SHANE, SHAYA, SHEA, SHIA, SHIMON, SHLOIME, SHLOIMY, SHLOMA, SHLOME, SHLOMO, SHMIEL, SHMUEL, SHNEUR, SHOLOM, SHULEM, SILAS, SIMCHA, SIMON, SOLOMON, SPENCER, STEPHEN, STEVEN, THEO, THEODORE, THOMAS, TIMOTHY, TOMAS, TRISTAN, TYLER, TZVI, USHER, VICTOR, VINCENT, WESLEY, WILLIAM, WYATT, XAVIER, YAAKOV, YAKOV, YECHEZKEL, YECHIEL, YEHOSHUA, YEHUDA, YISRAEL, YISROEL, YITZCHAK, YITZCHOK, YOEL, YONA, YOSEF, YOSSI, YOUSEF, YOUSSEF, YUSUF, ZACHARY, ZAIN, ZALMEN, ZEV, Abby, Abigail, Ada, Aisha, Aleena, Alexandra, Alice, Piper, Poppy, Quinn, Rachel, Raizel, Raizy, Reagan, Rebecca, Reese, Renee, Rifky, Riley, Rivka, Rivky, Rochel, Roiza, Romy, Rose, Ruby, Ruchy, Sabina, Sabrina, Sadie, Sage, Salma, Samantha, Sara, Sarah, Sasha, Savannah, Scarlett, Serena, Shaina, Shaindel, Shaindy, Shifra, Shira, Shoshana, Siena, Sienna, Sima, Simone, Skylar, Sloane, Sofia, Sophia, Sophie, Stella, Summer, Suri, Sury, Sydney, Sylvia, Talia, Tamar, Taylor, Tessa, Toby, Tova, Trany, Tzipora, Valentina, Valerie, Vanessa, Veronica, Victoria, Violet, Vivian, Vivienne, Willa, Yael, Yasmin, Yehudis, Yides, Yitty, Yocheved, Zelda, Zissy, Zoe, Zoey, Aarav, Aaron, Aayan, Abdul, Abdullah, Adam, Aditya, Adrian, Adyan, Ahmed, Ahnaf, Aidan, Aiden, Alan, Albert, Alex, Alexander, Ali, Allen, Alvin, Andrew, Andy, Anson, Anthony, Arjun, Aryan, Asher, Austin, Avery, Ayaan, Ayan, Ayden, Benjamin, Benson, Bowen, Brandon, Brayden, Brendan, Brian, Bryan, Caleb, Calvin, Carson, Carter, Charles, Chris, Christian, Christopher, Colin, Connor, Damon, Daniel, Danny, Darren, David, Derek, Devin, Dylan, Eason, Eddie, Eden, Edward, Edwin, Eli, Elijah, Elvis, Eric, Ethan, Evan, Farhan, Felix, Gabriel, Gavin, George, Gordon, Harrison, Harry, Hayden, Henry, Johnny, Hudson, Hunter, Ian, Ibrahim, Isaac, Ishaan, Ivan, Jack, Jackson, Jacob, Jaden, Jake, James, Jason, Jasper, Jayden, Jeffrey, Jeremy, Jerry, Jimmy, John, Johnny, Jonathan, Jordan, Joseph, Joshua, Julian, Justin, Kai, Kayden, Kevin, Kimi, Kingsley, Kyle, Lawrence, Leo, Leon, Liam, Logan, Louis, Lucas, Luke, Marcus, Martin, Mason, Matthew, Max, Maximilian, Maxwell, Md, Michael, Miles, Mohammad, Mohammed, Muhammad, Nathan, Nathaniel, Nicholas, Noah, Nolan, Oliver, Oscar, Owen, Rayan, Raymond, Rehan, Richard, Ricky, Rohan, Roy, Ryan, Samuel, Sean, Sebastian, Shawn, Stanley, Steven, Syed, Tenzin, Theodore, Thomas, Timothy, Tony, Tristan, Tyler, Victor, Vihaan, Vincent, Wesley, William, Wilson, Winston, Xavier, Zachary, Zain, Zayan, Aaron, Abdoulaye, Abraham, Adam, Aden, Adonis, Adrian, Aidan, Aiden, Alex, Alexander, Alpha, Amadou, Amar'e, Amare, Amari, Amir, Andre, Andrew, Anthony, Antonio, Ashton, Austin, Avery, Ayden, Benjamin, Blake, Boubacar, Bradley, Brandon, Brian, Bryce, Bryson, Caiden, Cairo, Caleb, Camden, Cameron, Camren, Carter, Cayden, Chance, Charles, Chase, Chris, Christian, Christopher, Connor, Corey, Daniel, Darius, David, Derrick, Devin, Dominic, Dominick, Dylan, Eli, Elijah, Emmanuel, Eric, Ethan, Evan, Gabriel, Gavin, Giovanni, Gregory, Hayden, Hunter, Ian, Ibrahim, Ibrahima, Isaac, Isaiah, Isiah, Ismael, Israel, Jace, Jacob, Jaden, Jaiden, Jalen, Jamal, Jamari, Jamel, James, Jasiah, Jason, Jayce, Jayceon, Jayden, Jaylen, Jaylin, Jeremiah, Jeremy, Joel, John, Jonathan, Jordan, Joseph, Joshua, Josiah, Julian, Justice, Justin, Kaden, Kai, Kaiden, Kaleb, Kamari, Kameron, Kareem, Karter, Kayden, Kenneth, Kevin, King, Kyle, Kyrie, Leon, Levi, Liam, Logan, Lucas, Luke, Major, Malachi, Malcolm, Malik, Mamadou, Marcus, Mason, Matthew, Maxwell, Mekhi, Messiah, Micah, Michael, Mohamed, Mouhamed, Moussa, Muhammad, Musa, Myles, Nasir, Nathan, Nathaniel, Nazir, Nehemiah, Nicholas, Noah, Noel, Nolan, Omar, Oumar, Ousmane, Owen, Patrick, Paul, Peyton, Preston, Prince, Richard, Riley, Robert, Ryan, Samir, Samuel, Sean, Sebastian, Shane, Shawn, Sincere, Skyler, Stephen, Taylor, Timothy, Travis, Tristan, Tyler, William, Xavier, Zachariah, Zachary, Zaire, Zayden, Zion, Aaron, Abel, Abraham, Adam, Adan, Aden, Adonis, Adrian, Adriel, Aidan, Erika, Esmeralda, Esther, Eva, Evelyn, Faith, Fatima, Gabriela, Gabriella, Genesis, Gia, Gianna, Giselle, Grace, Guadalupe, Hailey, Haley, Hannah, Haylee, Heaven, Heidi, Heidy, Helen, Iris, Isabel, Isabela, Isabella, Isabelle, Isis, Itzel, Izabella, Jacqueline, Jade, Jaliyah, Janelle, Jasmine, Jayda, Jayla, Jaylah, Jaylee, Jayleen, Jaylene, Jaylin, Jazlyn, Jazmin, Jazmine, Jennifer, Jessica, Jimena, Jocelyn, Johanna, Joselyn, Julia, Juliana, Julianna, Juliet, Juliette, Julissa, Kailey, Kailyn, Kaitlyn, Kamila, Karen, Karina, Karla, Kate, Katelyn, Katelynn, Katherine, Katie, Kayla, Kaylee, Kayleen, Kaylie, Kaylin, Kelly, Kelsey, Kendra, Keyla, Khloe, Kiara, Kimberly, Kylie, Laila, Laura, Lauren, Layla, Leah, Leanna, Leila, Leilani, Leslie, Lesly, Leyla, Lia, Liana, Liliana, Lily, Litzy, Lizbeth, Lola, London, Lucia, Luna, Luz, Madeline, Madelyn, Madison, Maia, Maite, Makayla, Malia, Maria, Mariah, Mariana, Marilyn, Marjorie, Maya, Melanie, Melany, Melina, Melissa, Melody, Mia, Michelle, Mila, Milan, Miley, Miranda, Miriam, Mya, Naomi, Nashley, Natalia, Natalie, Natasha, Nathalie, Nathaly, Nayeli, Nevaeh, Nicole, Nina, Noemi, Nyah, Nyla, Nylah, Olivia, Paris, Paula, Penelope, Peyton, Rachel, Raquel, Rebecca, Rihanna, Riley, Rose, Ruby, Sabrina, Samantha, Sara, Sarah, Sarai, Savannah, Scarlet, Scarlett, Selena, Serenity, Shayla, Sherlyn, Shirley, Skylah, Skylar, Sofia, Sophia, Sophie, Stacy, Stella, Stephanie, Summer, Tatiana, Taylor, Tiffany, Trinity, Valentina, Valeria, Valerie, Valery, Vanessa, Victoria, Violet, Vivian, Wendy, Ximena, Yamileth, Yaretzi, Zara, Zoe, Zoey, Abigail, Ada, Addison, Adelaide, Adele, Adeline, Adina, Adriana, Adrianna, Ahuva, Aisha, Aleksandra, Alessandra, Alessia, Alexa, Alexandra, Alexia, Alexis, Alice, Alina, Alisa, Aliza, Allison, Alma, Alyssa, Amalia, Amanda, Amelia, Amelie, Amina, Amira, Amy, Ana, Anastasia, Angelina, Anisa, Anna, Annabel, Annabelle, Anne, Jonas, Antonia, Aria, Ariana, Arianna, Ariella, Ashley, Athena, Aubrey, Audrey, Aurora, Ava, Avery, Avigail, Aviva, Baila, Basya, Batsheva, Beatrice, Beatrix, Bella, Blima, Blimy, Bracha, Breindy, Brianna, Bridget, Brielle, Brooke, Bruchy, Caitlin, Camilla, Camille, Caroline, Cassidy, Catherine, Cecilia, Celine, Chana, Chany, Charlotte, Chava, Chavy, Chaya, Chiara, Chloe, Christina, Claire, Clara, Claudia, Clementine, Colette, Cora, Dahlia, Daisy, Daniella, Danielle, Daphne, Devora, Devorah, Diana, Dina, Dylan, Eden, Edith, Eleanor, Elena, Eliana, Elise, Elisheva, Eliza, Elizabeth, Ella, Ellie, Eloise, Elsa, Emerson, Emilia, Emily, Emma, Emmeline, Ester, Esther, Esty, Etty, Eva, Eve, Evelyn, Faiga, Faigy, Farah, Fatima, Fiona, Fradel, Fraidy, Frances, Francesca, Freya, Frimet, Gabriela, Gabriella, Gabrielle, Gemma, Genevieve, Georgia, Gia, Gianna, Giselle, Gittel, Gitty, Giuliana, Golda, Goldy, Grace, Hadassah, Hadley, Hailey, Hana, Hanna, Hannah, Harper, Hazel, Helena, Henny, Hinda, Hindy, Idy, Ilana, Iris, Isabel, Isabella, Isabelle, Isla, Ivy, Jacqueline, Jana, Jane, Jasmina, Jasmine, Jenna, Jessica, Jordan, Jordyn, Josephine, Joyce, Judy, Julia, Juliana, Julianna, Julie, Juliet, Juliette, June, Kaitlyn, Kate, Katerina, Katherine, Kayla, Kaylee, Keira, Kira, Kylie, Laila, Lara, Laura, Lauren, Layan, Layla, Lea, Leah, Leila, Lena, Leona, Leora, Leyla, Lia, Liana, Liba, Libby, Lila, Liliana, Lillian, Lilly, Lily, Lina, Liv, Livia, Lola, Louisa, Louise, Lucia, Luciana, Lucille, Lucy, Luna, Lydia, Lyla, Mackenzie, Madeleine, Madeline, Madelyn, Madison, Mae, Maeve, Malak, Malka, Malky, Margaret, Margaux, Margot, Maria, Mariam, Mary, Maryam, Matilda, Maya, Megan, Melanie, Mia, Michal, Michelle, Mikayla, Mila, Milana, Mina, Mindy, Mira, Mirel, Miri, Miriam, Molly, Morgan, Mushka, Nadia, Naomi, Natalia, Natalie, Nechama, Nicole, Nina, Noa, Nora, Norah, Olive, Olivia, Paige, Pearl, Penelope, Perl, Pessy, Peyton, Phoebe, Nathan, Nathaniel, Nicholas, Nico, Nicolas, Noah, Noam, Nolan, Oliver, Omar, Ori, Orion, Oscar, Otto, Owen, Parker, Patrick, Paul, Peter, Philip, Pinchas, Preston, Quinn, Rafael, Raphael, Rayan, Raymond, Reid, Rhys, Richard, Riley, Robert, Rocco, Roman, Ronan, Rory, Rowan, Ryan, Ryder, Salvatore, Sam, Samir, Samuel, Santino, Sawyer, Sean, Sebastian, Shalom, Shane, Shaya, Shea, Shia, Shimon, Shloime, Shloimy, Shlome, Shlomo, Shmiel, Shmuel, Shneur, Sholom, Shraga, Shulem, Silas, Simcha, Simon, Solomon, Spencer, Stanley, Stephen, Steven, Theo, Theodore, Thomas, Timothy, Tristan, Tyler, Tzvi, Usher, Victor, Vincent, Walter, Wesley, William, Wolf, Wyatt, Xavier, Yaakov, Yakov, Yanky, Yassin, Yechiel, Yehoshua, Yehuda, Yeshaya, Yisroel, Yitzchak, Yitzchok, Yoel, Yosef, Yossi, Yousef, Youssef, Yusuf, Zachary, Zalmen, Zev, Aarya, Abby, Abigail, Aisha, Aiza, Aleena, Alexandra, Alice, Alicia, Alina, Alisa, Alisha, Allison, Alyssa, Amanda, Amber, Amelia, Amina, Amy, Anaya, Anayah, Angel, Angela, Angelina, Anna, Annabelle, Anne, Annie, Anya, Aria, Ariana, Arianna, Ariel, Arisha, Arya, Ashley, Athena, Audrey, Ava, Avery, Ayesha, Bella, Carina, Caroline, Catherine, Cecilia, Celine, Charlotte, Chelsea, Chloe, Christina, Cindy, Claire, Crystal, Cynthia, Doris, Eileen, Elaine, Eleanor, Elena, Eliana, Elina, Elizabeth, Ella, Ellie, Elsa, Emily, Emma, Erica, Erin, Eshaal, Esther, Eva, Evelyn, Fatima, Fiona, Gabriella, Gia, Grace, Hafsa, Hailey, Hana, Hanna, Hannah, Inaaya, Inaya, Irene, Iris, Isabel, Isabella, Isabelle, Ivy, Janice, Jannat, Jasmine, Jennifer, Jenny, Jessica, Jessie, Joanna, Jocelyn, Joy, Joyce, Julia, Kaitlyn, Karina, Kate, Katelyn, Katherine, Katie, Kayla, Kaylee, Kelly, Khadija, Kylie, Layla, Leah, Lila, Lillian, Lily, Lina, Lisa, Livia, Luna, Lydia, Madeline, Madelyn, Madison, Maggie, Mandy, Maryam, Maya, Megan, Melody, Mia, Michelle, Mila, Miranda, Naomi, Natalie, Nicole, Nina, Noor, Olivia, Penelope, Phoebe, Priscilla, Queena, Queenie, Rachel, Raina, Rebecca, Riley, Sabrina, Safa, Samantha, Samara, Sara, Sarah, Scarlett, Selena, Selina, Serena, Sharon, Shirley, Shreya, Sofia, Sophia, Sophie, Stella, Stephanie, Summer, Syeda, Sylvia, Tenzin, Tiffany, Vanessa, Vicky, Victoria, Vivian, Winnie, Zainab, Zara, Zoe, Zoey, Aaliyah, Abigail, Adrianna, Aicha, Aisha, Aissatou, Alana, Alexandria, Alexis, Aliyah, Alyssa, Amara, Amaya, Amelia, Amia, Amina, Aminata, Amira, Amirah, Amiya, Amiyah, Angelina, Aniya, Aniyah, Annabelle, Aria, Ariana, Arianna, Ariel, Arielle, Ashley, Aubree, Aubrey, Autumn, Ava, Avery, Bella, Blessing, Brianna, Brielle, Brooke, Brooklyn, Cali, Chanel, Charlotte, Chelsea, Chloe, Christina, Dakota, Danielle, Destiny, Egypt, Eliana, Elizabeth, Ella, Emily, Emma, Eva, Faith, Fanta, Fatima, Fatou, Fatoumata, Gabriella, Gabrielle, Genesis, Gianna, Grace, Hailey, Hannah, Harmony, Hawa, Heaven, Hope, Imani, Isabella, Isabelle, Jada, Jade, Janelle, Jasmine, Jayda, Jayla, Jordan, Jordyn, Journee, Journey, Joy, Kadiatou, Kaitlyn, Kali, Kayla, Kaylee, Kelsey, Kennedy, Khadijah, Khloe, Kiara, Kimora, Kristen, Kyla, Kylee, Kylie, Laila, Lailah, Lauren, Lauryn, Layla, Leah, Leilani, Lillian, Logan, London, Londyn, Lyric, Mackenzie, Madison, Madisyn, Makayla, Malaysia, Malia, Maliyah, Mariah, Mariam, Mariama, Maryam, Maya, McKenzie, Melanie, Mia, Michelle, Mikayla, Mila, Milan, Miracle, Morgan, Mya, Nahla, Naomi, Nevaeh, Nia, Nova, Nyla, Nylah, Olivia, Oumou, Paige, Paris, Aiden, Alan, Albert, Alberto, Alejandro, Alex, Alexander, Alexis, Alfredo, Allan, Alonso, Amir, Anderson, Andre, Andres, Andrew, Andy, Angel, Angelo, Anthony, Antonio, Arian, Ariel, Armani, Ashton, Austin, Avery, Axel, Ayden, Benjamin, Blake, Bradley, Brandon, Brayan, Brayden, Brian, Bruce, Bryan, Bryant, Byron, Caleb, Cameron, Camilo, Carlos, Carmelo, Carter, Cayden, Cesar, Charlie, Chase, Chris, Christian, Christopher, Cristian, Cristopher, Damian, Damien, Daniel, Danny, Dante, Dariel, Darwin, David, Dean, Denzel, Dereck, Derek, Devin, Diego, Dilan, Dominic, Dominick, Dylan, Edgar, Edison, Eduardo, Edward, Edwin, Eli, Eliam, Elian, Elias, Elijah, Emanuel, Emilio, Emmanuel, Eric, Erick, Ethan, Evan, Ezekiel, Ezequiel, Ezra, Fabian, Felipe, Felix, Fernando, Francisco, Frank, Gabriel, Gael, Gavin, George, Gerard, Giovani, Giovanni, Giovanny, Grayson, Gregory, Gustavo, Hanley, Hector, Henry, Hunter, Ian, Iker, Isaac, Isaiah, Isaias, Ismael, Israel, Ivan, Jace, Jack, Jackson, Jacob, Jaden, Jadiel, Jael, Jahir, Jaiden, Jair, Jake, James, Januel, Jared, Jariel, Jason, Javier, Jaxon, Jay, Jayce, Jaycob, Jayden, Jayson, Jean, Jefferson, Jeffrey, Jeremiah, Jeremias, Jeremy, Jesus, Jimmy, Joaquin, Joel, Johan, John, Johnny, Jonas, Jonathan, Jordan, Jorge, Jose, Joseph, Joshua, Josiah, Josue, Juan, Julian, Julien, Julio, Julius, Junior, Justice, Justin, Kaiden, Kayden, Kelvin, Kendrick, Kenneth, Kenny, Kevin, King, Kyle, Landon, Leandro, Lenny, Leo, Leonardo, Leonel, Maryam, Fiona, Jessica, Natalie, Stella, Vivian, Zara, Avery, Levi, Liam, Lian, Logan, Lorenzo, Louis, Luca, Lucas, Luis, Luke, Maison, Manuel, Marco, Marcos, Marcus, Mario, Mark, Marlon, Martin, Marvin, Mason, Mateo, Mathew, Mathias, Matias, Matteo, Matthew, Mauricio, Max, Maximilian, Maximiliano, Maximo, Maximus, Maxwell, Mayson, Melvin, Michael, Miguel, Mike, Milan, Moises, Nathan, Nathaniel, Nelson, Neymar, Nicholas, Nicolas, Noah, Noel, Oliver, Omar, Oscar, Owen, Pablo, Patrick, Paul, Pedro, Peter, Preston, Prince, Rafael, Randy, Raul, Raymond, Ricardo, Richard, Riley, Robert, Roberto, Rodrigo, Romeo, Ryan, Samuel, Santiago, Sean, Sebastian, Sergio, Steven, Thiago, Thomas, Timothy, Tomas, Tristan, Tyler, Uriel, Valentino, Victor, Vincent, Wesley, William, Wilson, Xander, Xavier, Yadiel, Yahir, Yariel, Zachary, Zion, Aaron, Abdullah, Abraham, Adam, Adrian, Aharon, Ahmad, Ahmed, Aidan, Aiden, Akiva, Alan, Alec, Alex, Alexander, Ali, Amir, Andrew, Angelo, Anthony, Anton, Antonio, Archer, Ari, Ariel, Aron, Arthur, Arye, Aryeh, Asher, August, Austin, Avery, Avi, Avraham, Avrohom, Avrum, Axel, Baruch, Beckett, Ben, Benjamin, Bennett, Benzion, Binyomin, Blake, Boruch, Bradley, Brady, Brandon, Brayden, Brendan, Brian, Brody, Bryce, Caleb, Cameron, Carter, Chaim, Charles, Charlie, Chase, Cheskel, Chesky, Christian, Christopher, Cole, Colin, Colton, Connor, Conor, Cooper, Damian, Daniel, Dante, David, Dean, Declan, Dennis, Desmond, Devin, Dominic, Dominick, Dov, Dovid, Duvid, Dylan, Edward, Efraim, Eitan, Elan, Eli, Elias, Eliezer, Elijah, Elimelech, Eliyahu, Elliot, Elliott, Emmanuel, Emmett, Eric, Ethan, Evan, Everett, Ezra, Felix, Filip, Finn, Francesco, Francis, Frank, Frederick, Gabriel, Gavin, Gavriel, George, Giancarlo, Gianluca, Giovanni, Graham, Grant, Grayson, Gregory, Greyson, Griffin, Hamza, Harrison, Harry, Henry, Hersh, Hershel, Hershy, Hillel, Hudson, Hugo, Hunter, Ian, Ibrahim, Ilan, Isaac, Isaiah, Israel, Ivan, Jace, Jack, Jackson, Jacob, Jake, James, Jason, Jasper, Jax, Jaxon, Jayden, Jeremy, Jesse, Joaquin, Joel, John, Jonah, Jonathan, Jordan, Joseph, Joshua, Judah, Jude, Julian, Julien, Justin, Kai, Kevin, Kieran, Kyle, Laith, Landon, Lazer, Leo, Leon, Leonard, Leonardo, Lev, Levi, Liam, Lincoln, Lipa, Logan, Lorenzo, Louis, Luca, Lucas, Lucien, Luka, Lukas, Luke, Marc, Marco, Marcus, Mark, Martin, Mason, Massimo, Mateo, Matteo, Matthew, Max, Maxim, Maximilian, Maxwell, Mayer, Meilech, Meir, Menachem, Mendel, Mendy, Meyer, Micah, Michael, Miles, Milo, Mohamed, Mohammad, Mohammed, Moishe, Mordechai, Morris, Moses, Moshe, Muhammad, Myles, Nachman, Naftali, Naftuli, Penelope, Peyton, Phoenix, Riley, Samantha, Sanaa, Sanai, Saniyah, Sarah, Sarai, Sariah, Savannah, Serenity, Shiloh, Skye, Skyla, Skylah, Skylar, Skyler, Sofia, Sophia, Summer, Sydney, Taylor, Tiana, Tianna, Tori, Trinity, Victoria, Violet, Winter, Wynter, Zaniyah, Zara, Zariah, Zendaya, Zoe, Zoey, Zuri, Aaliyah, Abigail, Adelyn, Adriana, Adrianna, Aileen, Alana, Alanis, Alejandra, Alessandra, Alexa, Alexandra, Alexia, Alexis, Alice, Alicia, Alina, Alison, Alissa, Aliyah, Allison, Allyson, Alma, Alondra, Alyssa, Amalia, Amanda, Amaya, Amber, Amelia, Amy, Ana, Anabella, Anabelle, Anaya, Andrea, Angela, Angelica, Angelina, Angeline, Angelique, Angie, Anna, Annabella, Annabelle, Annalise, April, Arabella, Arely, Aria, Ariana, Arianna, Ariel, Ariella, Arielle, Arya, Ashley, Athena, Aubree, Aubrey, Audrey, Aurora, Autumn, Ava, Avery, Ayleen, Aylin, Bella, Bianca, Brenda, Briana, Brianna, Brielle, Brigitte, Brittany, Brooke, Bryanna, Camila, Carla, Carmen, Carolina, Caroline, Cataleya, Catalina, Catherine, Cecilia, Celeste, Celine, Charlotte, Chelsea, Chloe, Christina, Crystal, Cynthia, Daisy, Daleyza, Daniela, Daniella, Danna, Dayana, Delilah, Destiny, Diana, Eileen, Elena, Eliana, Elisa, Eliza, Elizabeth, Ella, Emely, Emilia, Emily, Emma, Erika, Esmeralda, Esther, Eva, Evangeline, Evelyn, Faith, Francesca, Gabriela, Gabriella, Genesis, Gia, Gianna, Giselle, Grace, Guadalupe, Hailey, Hailie, Hannah, Haylee, Hazel, Heaven, Heidi, Helen, Isabel, Isabella, Isabelle, Itzel, Ivanna, Izabella, Jacqueline, Jade, Jasmine, Jayla, Jaylah, Jayleen, Jaylene, Jaylin, Jazlyn, Jazmin, Jennifer, Jessica, Jessie, Jimena, Jocelyn, Joselyn, Julia, Juliana, Julianna, Juliet, Juliette, Julissa, Kailey, Kaitlyn, Kamila, Karen, Karla, Kate, Katelyn, Katherine, Katie, Kayla, Kaylee, Kayleen, Kaylie, Kaylin, Keila, Kelly, Kendra, Keyla, Khloe, Kiara, Kimberly, Kylie, Laila, Laura, Lauren, Layla, Leah, Leila, Leilani, Leslie, Lesly, Leyla, Lia, Liana, Liliana, Lillian, Lily, Lindsay, Litzy, Lizbeth, Lola, London, Londyn, Lucia, Luciana, Luna, Mackenzie, Madeline, Madelyn, Madison, Magaly, Maia, Makayla, Maria, Mariah, Mariana, Marilyn, Marjorie, Maya, Megan, Melanie, Melany, Melina, Melissa, Melody, Mia, Michelle, Mikaela, Mila, Miranda, Monica, Monserrat, Montserrat, Mya, Naomi, Nashla, Natalia, Natalie, Nathalie, Nathaly, Nayeli, Nevaeh, Nicole, Nina, Nyla, Nylah, Olivia, Paige, Pamela, Paris, Penelope, Peyton, Rachel, Rebecca, Riley, Rose, Ruby, Ruth, Sabrina, Salome, Samantha, Sara, Sarah, Sarai, Savannah, Scarlett, Selena, Serenity, Sherlyn, Shirley, Sienna, Skyla, Skylar, Skyler, Sofia, Sophia, Sophie, Stella, Stephanie, Tatiana, Taylor, Tiffany, Trinity, Valentina, Valeria, Valerie, Valery, Vanessa, Victoria, Violet, Violeta, Wendy, Ximena, Yaretzi, Yasmin, Zoe, Zoey, Abigail, Ada, Addison, Adelaide, Adele, Adelina, Adeline, Adina, Adriana, Adrianna, Ahuva, Aisha, Alessandra, Alessia, Alexa, Alexandra, Alexis, Alice, Alina, Alisa, Aliza, Allison, Alma, Alyssa, Amanda, Amelia, Amelie, Amina, Amira, Ana, Anastasia, Angelica, Angelina, Anisa, Anna, Annabelle, Anne, Antonia, Aria, Ariana, Arianna, Ariel, Ariella, Ashley, Atara, Athena, Audrey, Aurora, Ava, Avery, Avigail, Avital, Aviva, Aya, Ayala, Ayla, Aziza, Baila, Barbara, Batsheva, Beatrice, Bella, Bianca, Blake, Blima, Blimy, Bracha, Brianna, Bridget, Brielle, Brooke, Brucha, Bruchy, Brynn, Caitlin, Camila, Camilla, Camille, Carly, Carolina, Caroline, Cassidy, Catherine, Cecelia, Cecilia, Celia, Celine, Chana, Chany, Charlie, Charlotte, Chava, Chavy, Chaya, Chloe, Christina, Claire, Clara, Clementine, Colette, Cora, Dahlia, Daniella, Danielle, Daphne, Delilah, Devora, Devorah, Diana, Dina, Dylan, Eden, Eleanor, Elena, Eleni, Eliana, Elisheva, Eliza, Elizabeth, Ella, Elle, Ellie, Eloise, Elsa, Emerson, Emilia, Emily, Emma, Emmeline, Erin, Esme, Ester, Esther, Esty, Etty, Eva, Evangeline, Eve, Evelyn, Everly, Evie, Faiga, Faigy, Fatima, Fiona, Fradel, Frady, Fraidy, Frances, Francesca, Frimet, Gabriela, Gabriella, Gabrielle, Gemma, Genevieve, Georgia, Gia, Gianna, Giovanna, Giselle, Gitty, Giuliana, Austin, Avery, Ayden, Benjamin, Blake, Bradley, Brandon, Brian, Bryan, Bryce, Bryson, Caden, Caiden, Caleb, Calvin, Cameron, Carmelo, Carter, Cayden, Chance, Charles, Chase, Christian, Christopher, Daniel, Darren, David, Devin, Dominic, Donovan, Dylan, Eli, Elias, Elijah, Emmanuel, Eric, Ethan, Ezekiel, Ezra, Gabriel, Gavin, Giovanni, Greyson, Hunter, Ibrahim, Ibrahima, Isaac, Isaiah, Jace, Jacob, Jaden, Jaiden, Jalen, Jamar, James, Jasiah, Jason, Jaxon, Jayce, Jayceon, Jayden, Jaylen, Jayson, Jeremiah, Jeremy, Joel, John, Jonathan, Jordan, Joseph, Joshua, Josiah, Julian, Julius, Justice, Justin, Kaden, Kai, Kaiden, Kaleb, Kamari, Kareem, Karter, Kayden, Kenneth, Kevin, Khalil, King, Kingston, Kristian, Kyle, Kyrie, Landon, Levi, Liam, Logan, Lorenzo, Lucas, Luke, Major, Malachi, Malik, Mamadou, Marcus, Mason, Matthew, Mekhi, Messiah, Micah, Michael, Miles, Mohamed, Mohammed, Mouhamed, Moussa, Myles, Nasir, Nathan, Nathaniel, Nicholas, Noah, Noel, Nolan, Omar, Omari, Oumar, Peyton, Preston, Prince, Princeton, Quincy, Richard, Riley, Robert, Roman, Ryan, Samuel, Savion, Sean, Sebastian, Seth, Sincere, Steven, Thomas, Timothy, Travis, Tristan, Tyler, William, Wyatt, Xavier, Zachary, Zahir, Zaiden, Zaire, Zamir, Zane, Zayden, Zion, Aaron, Abel, Abraham, Adam, Adan, Adonis, Adrian, Adriel, Aidan, Aiden, Alan, Albert, Alberto, Alejandro, Alex, Alexander, Alexis, Allan, Allen, Amir, Anderson, Andres, Andrew, Andy, Angel, Anthony, Antonio, Ariel, Armani, Ashton, Austin, Avery, Axel, Ayden, Benjamin, Bradley, Brandon, Brayan, Brayden, Brian, Bruce, Bryan, Bryant, Bryce, Caleb, Cameron, Carlos, Carter, Cesar, Charles, Chase, Chris, Christian, Christopher, Cristian, Damian, Damien, Daniel, Danny, Dante, Dariel, Darwin, David, Dean, Dennis, Derek, Derick, Devin, Diego, Dominic, Dominick, Donovan, Dylan, Eddy, Edgar, Eduardo, Edward, Edwin, Eli, Elian, Elias, Elijah, Emanuel, Emiliano, Emilio, Emmanuel, Enrique, Enzo, Eric, Erick, Esteban, Ethan, Evan, Ezekiel, Ezequiel, Ezra, Fabian, Felix, Fernando, Francisco, Frank, Gabriel, Gael, Gavin, George, Gerardo, Giovanni, Grayson, Gregory, Hector, Henry, Hudson, Hunter, Ian, Iker, Isaac, Isaiah, Ismael, Israel, Ivan, Jace, Jack, Jackson, Jacob, Jaden, Jadiel, Jael, Jaiden, Jake, James, Jared, Jariel, Jason, Javier, Jaxon, Jaxson, Jay, Jayce, Jayceon, Jayden, Jayson, Jean, Jefferson, Jeffrey, Jeremiah, Jeremy, Jesus, Joaquin, Joel, Johan, John, Johnny, Jonah, Jonas, Jonathan, Jordan, Jorge, Jose, Joseph, Joshua, Josiah, Josue, Juan, Julian, Julio, Julius, Junior, Justin, Kaden, Kai, Kaiden, Kaleb, Kayden, Kendrick, Kenneth, Kenny, Kevin, King, Kyle, Landon, Leandro, Leo, Leon, Leonardo, Leonidas, Levi, Liam, Logan, Lorenzo, Louis, Luca, Lucas, Luis, Lukas, Luke, Maddox, Manuel, Marcelo, Marco, Marcos, Marcus, Mario, Mark, Marlon, Martin, Marvin, Mason, Mateo, Mathew, Mathias, Matias, Matteo, Matthew, Max, Maximilian, Maximiliano, Maximus, Maxwell, Melvin, Messiah, Michael, Miguel, Mike, Milan, Miles, Misael, Moises, Myles, Nathan, Nathaniel, Nelson, Neymar, Nicholas, Nicolas, Noah, Noel, Oliver, Omar, Orlando, Oscar, Owen, Pablo, Pedro, Peter, Prince, Rafael, Randy, Raymond, Ricardo, Richard, Riley, Robert, Roberto, Rodrigo, Romeo, Ruben, Ryan, Samuel, Santiago, Saul, Sean, Sebastian, Sergio, Skyler, Stephen, Steve, Steven, Theodore, Thiago, Thomas, Timothy, Tristan, Tyler, Uriel, Victor, Vincent, Walter, William, Xavier, Yadiel, Yahir, Yandel, Yariel, Zachary, Zayden, Aaron, Abraham, Adam, Adrian, Aharon, Ahmad, Ahmed, Aidan, Aiden, Akiva, Alan, Albert, Alex, Alexander, Ali, Amir, Andrew, Angelo, Anthony, Anton, Antonio, Archer, Ari, Ariel, Arlo, Aron, Arthur, Aryeh, Asher, Ashton, August, Austin, Avi, Avraham, Avrohom, Avrum, Axel, Ayden, Aydin, Baruch, Beckett, Ben, Benjamin, Bennett, Benzion, Berish, Berl, Binyamin, Binyomin, Blake, Boruch, Brady, Brandon, Brayden, Brendan, Brian, Brody, Brooks, Caleb, Calvin, Cameron, Carter, Chaim, Charles, Charlie, Chase, Cheskel, Christian, Christopher, Cole, Colin, Connor, Conor, Cooper, Cormac, Damian, Golda, Goldie, Goldy, Grace, Hadassah, Hadley, Hailey, Hana, Hanna, Hannah, Harlow, Harper, Hazel, Helen, Helena, Henchy, Henny, Hinda, Hindy, Iris, Isabel, Isabella, Isabelle, Isla, Ivy, Jacqueline, Jana, Jane, Jasmina, Jasmine, Jenna, Jessica, Jordyn, Josephine, Julia, Juliana, Julianna, Julie, Juliet, Juliette, June, Juniper, Kaitlyn, Kate, Katherine, Kayla, Kaylee, Keira, Kennedy, Khloe, Kira, Kylie, Laila, Lana, Lara, Laura, Lauren, Layan, Layla, Lea, Leah, Leila, Lena, Leora, Lia, Liana, Liba, Libby, Lila, Lilah, Lilian, Liliana, Lillian, Lilly, Lily, Lina, Linda, Liv, Livia, Lola, Louisa, Lucia, Lucy, Luna, Lydia, Lyla, Mackenzie, Madeleine, Madeline, Madelyn, Madison, Mae, Maeve, Maisie, Malak, Malka, Malky, Margaret, Margot, Maria, Mariam, Marielle, Mary, Maryam, Matilda, Maya, Melanie, Menucha, Mia, Michaela, Michelle, Mikayla, Mila, Milana, Mina, Mindy, Mira, Mirel, Miriam, Molly, Morgan, Mushka, Nadia, Naomi, Natalia, Natalie, Nechama, Nicole, Nina, Noa, Noelle, Noor, Nora, Olive, Olivia, Paige, Parker, Pearl, Penelope, Perel, Perl, Perry, Pessy, Peyton, Phoebe, Piper, Poppy, Quinn, Rachel, Raizel, Raizy, Rebecca, Reese, Reizy, Rena, Rifky, Riley, Rivka, Rivky, Rochel, Roizy, Rosa, Rose, Rowan, Ruby, Ruchel, Ruchy, Ruth, Sabrina, Sadie, Salma, Samantha, Samira, Sara, Sarah, Sasha, Savannah, Scarlett, Serena, Shaina, Shaindel, Shaindy, Shayna, Shifra, Shira, Shoshana, Siena, Sienna, Sima, Simone, Skylar, Sloane, Sofia, Sophia, Sophie, Stella, Summer, Suri, Sury, Sydney, Sylvia, Sylvie, Talia, Tamar, Taylor, Tess, Tessa, Thea, Toby, Trany, Tzipora, Tziporah, Valentina, Vera, Veronica, Victoria, Violet, Vivian, Vivienne, Willa, Yael, Yasmina, Yasmine, Yehudis, Yides, Yitty, Yocheved, Zelda, Zissy, Zoe, Zoey, Aahil, Aaron, Aayan, Abdullah, Adam, Adrian, Adyan, Ahmed, Ahnaf, Aidan, Aiden, Alan, Albert, Alex, Alexander, Alfred, Ali, Allen, Alston, Alvin, Anderson, Andrew, Andy, Anson, Anthony, Arham, Arjun, Armaan, Arvin, Aryan, Asher, Austin, Ayaan, Ayan, Ayden, Azaan, Benjamin, Benson, Brandon, Brayden, Brian, Bryan, Caleb, Calvin, Cameron, Carson, Carter, Charles, Chase, Chris, Christian, Christopher, Colin, Connor, Damon, Daniel, Darren, David, Derek, Devin, Dylan, Eason, Eden, Edison, Edward, Edwin, Eli, Elijah, Elvis, Emmanuel, Eric, Ethan, Evan, Felix, Frank, Gabriel, Gary, Gavin, George, Gordon, Grayson, Harrison, Hassan, Hayden, Henry, Hudson, Hunter, Ian, Ibrahim, Isaac, Isaiah, Ivan, Jack, Jacob, Jaden, Jake, James, Jason, Jasper, Jayden, Jeffrey, Jeremy, Jerry, Jimmy, John, Jonathan, Jordan, Joseph, Joshua, Julian, Justin, Kabir, Kaden, Kai, Kayden, Kevin, Kimi, Kingsley, Kyle, Lawrence, Leo, Leon, Leonardo, Liam, Logan, Louis, Luca, Lucas, Luke, Marcus, Mark, Mason, Matthew, Max, Maxwell, Michael, Miles, Mohammad, Mohammed, Muhammad, Musa, Nathan, Nathaniel, Neil, Nicholas, Noah, Oliver, Omar, Oscar, Owen, Rayan, Raymond, Rayyan, Rehan, Richard, Ricky, Riley, Rohan, Roman, Roy, Ryan, Ryder, Samuel, Sean, Sebastian, Shawn, Shayan, Simon, Stanley, Steven, Syed, Tenzin, Theodore, Thomas, Timothy, Tony, Travis, Tristan, Tyler, Victor, Vincent, Wesley, William, Wilson, Winston, Xavier, Zachary, Zain, Zayan, Aaron, Abdoul, Abdoulaye, Abraham, Adam, Aden, Adonis, Adrian, Ahmed, Aiden, Alexander, Ali, Alpha, Amadou, Amare, Amari, Amir, Andre, Andrew, Angel, Anthony, Antonio, Asher, Ashton, Daniel, Dante, Dashiell, David, Dean, Declan, Denis, Derek, Devin, Dominic, Dominick, Dov, Dovid, Drew, Duvid, Dylan, Edward, Efraim, Eitan, Eli, Elias, Eliezer, Elijah, Elimelech, Eliyahu, Elliot, Elliott, Ellis, Emmett, Daniel, Eric, Erik, Ethan, Evan, Everett, Ezra, Felix, Filip, Finn, Francesco, Francis, Frank, Frederick, Gabriel, Gavin, Gavriel, George, Giovanni, Giuseppe, Graham, Grant, Grayson, Gregory, Greyson, Griffin, Hamza, Harrison, Harry, Hayden, Henry, Hersh, Hershel, Hershy, Hillel, Hudson, Hugo, Hunter, Ian, Ibrahim, Imran, Isaac, Israel, Issac, Ivan, Jace, Jack, Jackson, Jacob, Jake, Jakub, James, Jason, Jasper, Jax, Jaxon, Jaxson, Jayden, Jeremy, Jesse, Joel, John, Jonah, Jonathan, Jordan, Joseph, Joshua, Judah, Jude, Julian, Justin, Kai, Karas, Kareem, Kevin, Kieran, Kyle, Landon, Lazer, Leibish, Leo, Leon, Leonardo, Lev, Levi, Liam, Lincoln, Lipa, Logan, Lorenzo, Louis, Luca, Lucas, Lucien, Luka, Lukas, Luke, Marc, Marcel, Marco, Marcus, Mark, Martin, Mason, Mateo, Matteo, Matthew, Max, Maxim, Maximilian, Maximus, Maxwell, Mayer, Meilech, Meir, Menachem, Menashe, Mendel, Mendy, Micah, Michael, Milan, Miles, Milo, Mohamed, Mohammed, Moishe, Mordche, Mordechai, Morris, Moses, Moshe, Muhammad, Myles, Naftali, Naftuli, Nathan, Nathaniel, Nicholas, Nico, Nicolas, Nikita, Noah, Noam, Nolan, Nosson, Oliver, Omar, Oscar, Owen, Parker, Patrick, Paul, Peter, Philip, Pinchas, Pinchus, Preston, Quinn, Rafael, Raphael, Rayan, Raymond, Reed, Reid, Reuben, Rhys, Richard, Riley, Robert, Rocco, Roman, Riley, Elena, Luna, Mila, Samantha, Catherine, Christina, Isabel, Isabelle, Joanna, Melody, Phoebe, Rachel, Sara, Aisha, Aliza, Amanda, Cynthia, Hailey, Hana, Leah, Lily, Noor, Eshaal, Joy, Nicole, Penelope, Jenny, Jocelyn, Kaylee, Layla, Lillian, Naomi, Abby, Aiza, Amber, Anabia, Ariel, Arisha, Aurora, Eliana, Irene, Ivy, Madeline, Michelle, Stephanie, Aleena, Alexandra, Jonathan, Ronan, Rory, Rowan, Ryan, Ryder, Salvatore, Sam, Samir, Samuel, Santino, Sawyer, Sean, Sebastian, Shalom, Shane, Shaya, Shea, Shia, Shimon, Shloime, Shloimy, Shlome, Shlomo, Shmiel, Shmuel, Sholom, Shraga, Shulem, Silas, Simcha, Simon, Solomon, Spencer, Stephen, Steven, Theo, Theodore, Thomas, Timothy, Tristan, Tyler, Tzvi, Usher, Victor, Vincent, Vincenzo, Wesley, Weston, William, Winston, Wolf, Wyatt, Xavier, Yaakov, Yahya, Yakov, Yaseen, Yechiel, Yehoshua, Yehuda, Yidel, Yisrael, Yisroel, Yitzchak, Yitzchok, Yoel, Yosef, Yossi, Yousef, Youssef, Yusuf, Zachary, Zev, Alyssa, Carina, Crystal, Elaine, Janice, Kelly, Mahnoor, Queenie, Rebecca, Serena, Sylvia, Vicky, Winnie, Athena, Chelsea, Emilia, Hafsa, Hazel, Jannat, Julia, Lydia, Nora, Norah, Riya, Sabiha, Safa, Selena, Valerie, Ada, Aizah, Amara, Amira, Arianna, Cindy, Jessie, Joyce, Kaitlyn, Karen, Kira, Livia, Myra, Nina, Nusrat, Syeda, Zoya, Aaliyah, Amina, Angel, Ayat, Daphne, Elise, Erin, Helen, Khadija, Liana, Rayna, Vanessa, Vera, Zahra, Ava, Skylar, Madison, Aaliyah, Amelia, Isabella, Olivia, Savannah, Brielle, Mia, Riley, Abigail, Fatoumata, Malia, Serenity, Chloe, Faith, Zoe, Zuri, Naomi, Fatima, Aria, Emma, Emily, Kaylee, Bella, Leah, Nyla, Ariel, Jayla, Mariam, Maya, Nevaeh, Taylor, Zoey, Ariah, Avery, Laila, Michelle, Sarah, Victoria, Autumn, Layla, Amaya, Aminata, Amira, Dakota, Harmony, Jade, Leilani, Peyton, Amina, Chelsea, Hawa, Kayla, Nylah, Ella, Grace, Imani, Aisha, Charlotte, London, Paige, Tori, Amirah, Amiyah, Egypt, Gabriella, Hailey, Kylie, Heaven, Kali, Kennedy, Miracle, Aliyah, Arianna, Destiny, Makayla, Oumou, Alyssa, Arielle, Genesis, Hannah, Isabelle, Phoenix, Summer, Gianna, Journey, Aissatou, Alexis, Angel, Aniyah, Arya, Aubree, Journee, Londyn, Mariah, Mikayla, Nia, Nova, Paris, Zara, Aicha, Amara, Aubrey, Blessing, Elizabeth, Mariama, Morgan, Sophia, Ariyah, Brianna, Brooke, Gabrielle, Jasmine, Kelsey, Lauren, Melanie, Mya, Sarai, Alana, Jada, Jordan, Kadiatou, Khadija, Khloe, Melody, Milani, Penelope, Rylee, Sariah, Sydney, Ashley, Celine, Empress, Joy, Kimora, Leila, Lyric, McKenzie, Royalty, Sevyn, Skylah, Anaya, Ariana, Eva, Fatou, Kehlani, Kyla, Maliyah, Nala, Skyler, Alani, Azariah, Cali, Chanel, Jaliyah, Janiyah, Jordyn, Kaliyah, Kennedi, David, Kiara, Kori, Maimouna, Maryam, Mila, Skye, Trinity, Wynter, Zaniyah, Mia, Isabella, Emma, Sophia, Camila, Sofia, Victoria, Abigail, Valentina, Emily, Leah, Ava, Luna, Ashley, Olivia, Scarlett, Genesis, Zoe, Amelia, Madison, Elizabeth, Samantha, Ariana, Brianna, Alexa, Amy, Hailey, Valerie, Chloe, Kylie, Melanie, Sarah, Kaylee, Allison, Charlotte, Gabriella, Arianna, Bella, Maya, Penelope, Gianna, Emely, Mila, Riley, Alaia, Grace, Aaliyah, Amaya, Layla, Evelyn, Jade, Kimberly, Daniela, Nicole, Valeria, Aria, Elena, Juliette, Emilia, Maria, Hannah, Eliana, Katherine, Zoey, Aubrey, Gabriela, Amalia, Ana, Kayla, Leslie, Alyssa, Avery, Jazlyn, Sarai, Natalie, Angelina, Leilani, Michelle, Amanda, Delilah, Eva, Isabel, Juliet, Ximena, Yaretzi, Adriana, Alice, Andrea, Ella, Julia, Kamila, Lucia, Natalia, Samara, Jayleen, Khloe, Stephanie, Amaia, Chelsea, Diana, Liliana, Naomi, Aylin, Jayla, Lia, Maia, Serenity, Alexandra, Aurora, Stella, Aliyah, Danna, Jennifer, Ruby, Skylar, Alani, Catalina, Daisy, Jazmin, Kiara, Melissa, Rachel, Savannah, Sherlyn, Violet, Alison, Antonella, Ariella, Juliana, Keyla, London, Melany, Daniella, Isabelle, Sasha, Angela, Hazel, Jasmine, Keily, Leila, Mya, Sara, Alana, Camilla, Giselle, Karla, Kaylani, Leia, Lily, Mariana, Melody, Milani, Nova, Rebecca, Adeline, Amber, Ariel, Arya, Fernanda, Laila, Nathalie, Aileen, Alanna, Alessandra, Alina, Angelica, Angie, Briana, Helen, Itzel, Izabella, Jaylin, Nevaeh, Peyton, Vanessa, Autumn, Brielle, Celine, Dayana, Destiny, Galilea, Harley, Haylee, Mackenzie, Madelyn, Nashla, Samira, Addison, Aliah, Alma, Anna, Athena, Bianca, Brittany, Crystal, Daleyza, Gia, Jocelyn, Joselyn, Karen, Lizbeth, Miranda, Nashly, Nayeli, Priscilla, Rylee, Scarlet, Sienna, Sophie, Stacy, Zara, Adelyn, Anastasia, Ariadne, Audrey, Daphne, Esmeralda, Everly, Fatima, Jessica, Julianna, Leyla, Liana, Luciana, Malia, Nathalia, Nyla, Sabrina, Selena, Adele, Aitana, Aleah, Alia, Alicia, Alondra, Amira, April, Arlette, Ayla, Caroline, Claire, Esther, Jaslene, Kaitlyn, Lauren, Madeline, Marilyn, Sadie, Yamileth, Abby, Adalynn, Aimee, Alaina, Alba, Alejandra, Amelie, Anabella, Analia, Annabelle, Ariadna, Arianny, Ayleen, Brianny, Cecilia, Celeste, Deborah, Eliza, Evangeline, Faith, Guadalupe, Jaylah, Jaylene, Jazmine, Kailey, Khaleesi, Lesly, Nayla, Paris, Renata, Skyla, Taylor, Tiffany, Valery, Esther, Leah, Olivia, Emma, Chaya, Sarah, Sophia, Rachel, Miriam, Ava, Charlotte, Rivka, Mia, Chana, Isabella, Sara, Ella, Amelia, Abigail, Sofia, Elizabeth, Maya, Lily, Emily, Evelyn, Gitty, Malka, Penelope, Eleanor, Raizy, Alexandra, Hannah, Grace, Zoe, Stella, Mila, Sophie, Chloe, Malky, Emilia, Julia, Victoria, Anna, Faigy, Riley, Lucy, Rivky, Nora, Valentina, Eva, Madison, Alice, Ruby, Shaindy, Eliana, Aria, Avery, Claire, Scarlett, Yitty, Gabriella, Layla, Vivian, Hindy, Rebecca, Sadie, Dina, Naomi, Sienna, Toby, Madeline, Audrey, Josephine, Bella, Maria, Noa, Baila, Caroline, Lillian, Natalie, Talia, Fiona, Harper, Sloane, Samantha, Ariana, Chany, Sury, Gianna, Juliette, Nina, Rose, Violet, Ariella, Hazel, Isla, Luna, Isabelle, Katherine, Goldy, Mackenzie, Margot, Nicole, Adele, Elle, Esty, Juliana, Sydney, Angelina, Molly, Zissy, Alexa, Anastasia, Chava, Hailey, Lia, Libby, Maryam, Vivienne, Amina, Devorah, Isabel, Julianna, Kayla, Madelyn, Michelle, Rochel, Alma, Cecilia, Eloise, Frances, Liliana, Maeve, Mariam, Mindy, Adriana, Catherine, Diana, Ellie, Francesca, Annabelle, Beatrice, Bruchy, Devora, Henny, Jane, Lila, Lucia, Olive, Yides, Blimy, Eliza, Fraidy, Lola, Nechama, Pessy, Quinn, Skylar, Zoey, Adeline, Alessandra, Aurora, Bracha, Chavy, Clara, Dylan, Faiga, Gittel, Lyla, Mira, Siena, Vera, Addison, Jordan, Alessia, Cora, Hana, Juliet, Lara, Madeleine, Ruth, Shifra, Adina, Ayla, Brooke, Eve, Lina, Margaret, Milana, Ahuva, Alina, Eden, Giuliana, Hanna, Liana, Pearl, Sasha, Shoshana, Willa, Yael, Yocheved, Hadassah, Iris, Leila, Lena, Natalia, Sabrina, Tessa, Yehudis, Alyssa, Aya, Emerson, Everly, Gemma, Genevieve, Parker, Savannah, Sima, Bridget, Colette, Daniella, Georgia, Golda, Liba, Liv, Noor, Aliza, Arianna, Avigail, Blima, Breindy, Charlie, Fradel, Frady, Gabrielle, Julie, Laila, Matilda, Perl, Rowan, Ryan, Sage, Amalia, Jacqueline, Jana, June, Kaia, Kennedy, Livia, Louisa, Morgan, Sylvie, Tehila, Tziporah, Ada, Aubrey, Batsheva, Brianna, Brielle, Celine, Edith, Elena, Elise, Hinda, Idy, Jenna, Juniper, Laura, Mary, Perry, Phoebe, Raizel, Raquel, Ruchel, Ruchy, Salma, Shaina, Shira, Simone, Taylor, Tzipora, Veronica, Zara, Adelaide, Bianca, Cameron, Celia, Fatima, Kate, Keira, Kira, Lana, Louise, Malak, Peyton, Piper, Samira, Toba, Willow, Alexis, Amelie, Anisa, Arabella, Blake, Camilla, Chiara, Daisy, Danielle, Emery, Etty, Farida, Finley, Freida, Frieda, Gwendolyn, Lauren, Leora, Lydia, Nava, Paige, Perel, Rahaf, Reagan, Reese, Sabina, Sama, Shaindel, Tamar, Thea, Theodora, Tzirel, Yasmina, Aisha, Allison, Amira, Ana, Antonia, Aviva, Ayala, Camille, Daphne, Estelle, Gaia, Harley, Helena, Imogen, Ivy, Katerina, Layan, Lea, Mabel, Madina, Maisie, Melania, Michal, Milania, Millie, Nadia, Noelle, Poppy, Raya, Rivkah, Roizy, Shevy, Teagan, Alisa, Athena, Camila, Celeste, Evie, Gabriela, Gia, Harlow, Hope, Jordan, Josie, Lielle, Lilly, Marie, Michaela, Mina, Norah, Reem, Reizy, Saoirse, Tzippy, Yasmine, Zelda, Muhammad, Ethan, Ryan, Jayden, Aiden, Lucas, Jorge, Liam, Mason, William, Daniel, Eric, Mohammad, Evan, Jasper, Logan, Matthew, Kevin, Nathan, Austin, Jason, Noah, Justin, Leo, Aaron, Ivan, Henry, Ayaan, James, Ibrahim, Jacob, Oliver, Owen, Alexander, Dylan, Eason, Ian, Mohammed, Andy, Adam, Jonathan, Jeremy, Max, Arham, Benjamin, Kyle, Zachary, Isaac, Brandon, Rayan, Theodore, Adrian, Alex, Tenzin, Tyler, Joshua, Michael, Aidan, Andrew, Brian, David, Kai, Samuel, Alan, Jaden, Louis, Aryan, Gavin, Raymond, Darren, Hudson, Jackson, Joseph, Abdullah, Bryan, Musa, Nicholas, Syed, Ali, Allen, Ayan, Charles, Gabriel, Vincent, Abdul, Anson, Ayden, Kayden, Marcus, Thomas, Aarav, Arjun, Connor, Julian, Kyson, Md, Anthony, Caleb, Felix, Harrison, Kingsley, Luke, Roy, Alston, Christopher, Elijah, George, Jerry, Zayn, Alvin, Carson, Leon, Asher, Jack, Jordan, Oscar, Steven, Zayan, Devin, Eden, Edward, Kimi, Mustafa, Nolan, Rayyan, Aayan, Ahmed, Hayden, Jeffrey, Sebastian, Victor, Yusuf, Abrar, Christian, Derek, Hamza, Hassan, Miles, Niam, Sheldon, Albert, Arthur, Cyrus, Elliot, Jimmy, John, Jose, Nathaniel, Preston, Saifan, Sean, Travis, Tristan, Veer, Aahil, Benson, Grayson, Hunter, Leonardo, Maxwell, Micah, Safwan, Spencer, Wesley, Yahya, Aydin, Cameron, Danny, Dean, Eli, Harry, Ishaan, Kabir, Shawn, Tahmid, Wyatt, Xavier, Noah, Liam, Aiden, Mason, Ethan, Jeremiah, Amir, Elijah, Josiah, Joshua, Carter, Jayden, Logan, David, Michael, Isaiah, King, Chase, Kyrie, Christian, Zion, Jace, Cameron, Kayden, Anthony, Micah, Kaiden, Bryson, Christopher, Malachi, Ryan, Daniel, Ibrahim, Jordan, Messiah, Mohamed, Alexander, Amari, Jayce, Nathan, Aaron, Bryce, Hunter, Jacob, Nasir, Matthew, Prince, Xavier, Karter, Tristan, Jonathan, Justin, Tyler, Kaleb, Sebastian, Ayden, Jason, Joseph, Austin, Jaden, Nathaniel, Samuel, Dylan, James, Joel, Asher, Kai, Caleb, Gabriel, Jayceon, Mamadou, Emmanuel, Zachary, Ezekiel, Nicholas, Zaire, Adonis, Benjamin, Ashton, Avery, Kameron, Legend, Levi, Lucas, Andrew, Eli, Julian, Omari, Adam, Ezra, Cairo, Israel, Jaiden, Jaxon, Justice, Kamari, Brandon, Greyson, Muhammad, Sincere, Andre, Ibrahima, Jackson, Jaylen, Kaden, Abdoulaye, Caiden, Chance, Evan, Giovanni, Grayson, Kevin, Omar, Shawn, August, Isaac, Khalil, Kyle, Marcus, Zane, Ali, Maison, Princeton, Robert, Ace, Bryan, Gianni, Jamel, Jamir, John, Nolan, Ousmane, Alpha, Amadou, Jaxson, Kareem, Kingston, Luke, Mekhi, Myles, Stephen, Aden, Adrian, Alex, Boubacar, Cayden, Connor, Corey, Dallas, Hayden, Jonah, Kamren, Major, Phoenix, Sean, Abdoul, Carson, Dominic, Jasiah, Julius, Kenneth, Landon, Malik, Mark, Miles, Mouhamed, Oumar, Samir, Solomon, Timothy, William, Zayden, Liam, Jacob, Dylan, Matthew, Noah, Sebastian, Jayden, Lucas, Ethan, Aaron, Angel, Daniel, Logan, Alexander, Mason, Aiden, Mateo, Joshua, David, Adrian, Anthony, Michael, Joseph, Ian, Christopher, Elias, Gabriel, Ryan, Isaac, Jose, Thiago, Elijah, James, Oliver, Josiah, Nathan, Julian, Justin, Carlos, Gael, Luis, Alan, Jeremy, Jonathan, Leonardo, Kevin, Samuel, Jeremiah, Benjamin, Nicholas, Christian, John, Santiago, Axel, Erick, Brandon, Joel, Juan, Matias, William, Andrew, Diego, Isaiah, Nicolas, Xavier, Ayden, Austin, Jason, Emmanuel, Kayden, Jayce, Caleb, Bryan, Jordan, Nathaniel, Alejandro, Damian, Derek, Jadiel, Eli, Matteo, Adam, Alex, Jace, Henry, Josue, Miguel, Evan, Grayson, Hunter, Adriel, Giovanni, Victor, Abdiel, Jesus, Edward, Ivan, King, Cristian, Jake, Steven, Thomas, Edwin, Elian, Iker, Ezra, Mathias, Max, Moises, Bryson, Noel, Tyler, Alexis, Cameron, Ismael, Johan, Abraham, Andres, Enzo, Rafael, Amir, Brayden, Eric, Ezekiel, Greyson, Jaden, Leo, Luca, Adonis, Emilio, Francisco, George, Julius, Landon, Uriel, Carter, Dominic, Jared, Javier, Jaxon, Oscar, Owen, Zachary, Abel, Cesar, Jefferson, Manuel, Milan, Robert, Avery, Hector, Jonas, Antonio, Dariel, Eliam, Jorge, Lorenzo, Lukas, Maximus, Richard, Tristan, Zion, Ariel, Chris, Emanuel, Marcos, Martin, Omar, Vincent, Aidan, Bryce, Ean, Emiliano, Luke, Mathew, Xander, Ashton, Brayan, Brian, Chase, Jackson, Jaxson, Pablo, Pedro, Allen, Anderson, Bradley, Fernando, Israel, Jack, Jax, Kenneth, Leonel, Maximiliano, Dante, Ezequiel, Jaime, Jariel, Kyle, Levi, Nolan, Roman, Yadiel, Armando, Edgar, Eduardo, Jonah, Julien, Kaleb, Marvin, Albert, Andy, Armani, Charles, Issac, Jean, Joziah, Kaiden, Mario, Messiah, Adiel, Bryant, Gavin, Hugo, Isaias, Jaiden, Jaycob, Jaylen, Joaquin, Kenny, Kyrie, Leon, Maison, Marco, Nelson, Roger, Theodore, Allan, Bruno, Enrique, Kai, Louis, Marcus, Matthias, Maverick, Melvin, Ricardo, Ruben, Sergio, Stephen, Tomas, Asher, Byron, Camilo, Carmelo, Damien, Dereck, Dominick, Emil, Felipe, Jael, Johnny, Kayson, Kendrick, Maddox, Mike, Raymond, Roberto, Rodrigo, Saul, Yariel, Zander, Zayden, Zayn, David, Joseph, Jacob, Moshe, James, Michael, Henry, Daniel, Jack, Benjamin, Noah, Alexander, Adam, Chaim, William, Samuel, Leo, John, Theodore, Charles, Oliver, Abraham, Ryan, Nicholas, Thomas, Liam, Isaac, Matthew, Ethan, Lucas, Yosef, Eli, Anthony, Gabriel, Max, Menachem, Shimon, Asher, Dylan, Luke, Mordechai, Sebastian, Logan, Yisroel, Yehuda, Andrew, Mason, Nathan, Julian, Miles, Christopher, Jackson, Aiden, Luca, Owen, Shmuel, Yakov, Yitzchok, George, Robert, Aaron, Shlomo, Aron, Ezra, Joshua, Levi, Connor, Maxwell, Zachary, Ali, Mark, Christian, Jonathan, Nathaniel, Avraham, Zev, Hudson, Harrison, Vincent, Leon, Meir, Solomon, Leonardo, Eliezer, Mohamed, Tzvi, Yaakov, Arthur, Omar, Adrian, Ari, Oscar, Mendel, Peter, Amir, Louis, Aidan, Elliot, Wyatt, Edward, Finn, Jake, Simon, Dominic, Dov, Elias, Evan, Sam, Roman, Shaya, Tyler, Shulem, Jason, Jonah, Steven, Cole, Grayson, Jordan, Shia, Charlie, Patrick, Ahmed, Aryeh, Dean, Hershy, Rafael, Cameron, Nicolas, Pinchas, Antonio, August, Carter, Elijah, Felix, Simcha, Ariel, Martin, Matteo, Chase, Judah, Kevin, Landon, Lorenzo, Maximilian, Naftali, Eliyahu, Giovanni, Jude, Raphael, Wesley, Cooper, Elliott, Ellis, Everett, Jaxon, Jayden, Joel, Lipa, Milo, Mohammed, Shmiel, Theo, Hugo, Hunter, Parker, Rayan, Salvatore, Yehoshua, Caleb, Gavin, Israel, Avrohom, Conor, Mateo, Mendy, Moses, Sean, Victor, Yechiel, Alex, Hamza, Justin, Mayer, Nolan, Paul, Timothy, Usher, Yousef, Akiva, Albert, Declan, Efraim, Ian, Nico, Yisrael, Angelo, Ben, Dovid, Eric, Frank, Harry, Ibrahim, Lincoln, Rocco, Arlo, Austin, Bennett, Calvin, Colin, Francis, Hershel, Philip, Richard, Spencer, Yusuf, Enzo, Graham, Grant, Imran, Jasper, Kai, Marc, Noam, Pinchus, Shane, Zayn, Avrum, Axel, Brandon, Elimelech, Eyad, Jad, Jaxson, Jesse, Marcus, Maxim, Moishe, Saul, Sholom, Aharon, Benzion, Binyomin, Dominick, Gavriel, Lev, Lukas, Muhammad, Naftuli, Nuchem, Preston, River, Rowan, Santino, Shea, Shlome, Alan, Blake, Eitan, Emmett, Gregory, Harvey, Kieran, Lazer, Ronan, Ryder, Sawyer, Shloimy, Youssef, Zain, Abdullah, Ameer, Anderson, Desmond, Emerson, Ezriel, Finley, Luka, Malik, Brody, Brooks, Duvid, Greyson, Rhys, Shalom, Shloime, Silas, Tristan, Yaseen, Amrom, Brendan, Cheskel, Clark, Fishel, Hillel, Isaiah, Marcel, Mechel, Xavier, Yoel, Yossi, Abe, Baruch, Binyamin, Brayden, Damian, Eluzer, Emanuel, Erik, Gideon, Guy, Ivan, Kian, Leonard, Meshilem, Nachman, Nikolas, Quinn, Ralph, Reid, Selim, Shraga, Vincenzo, Xander, Yahya, Yonatan, Augustus, Bodhi, Brian, Chesky, Cyrus, Derek, Jameson, Josiah, Otto, Pierce, Rory, Samir, Shloma, Tobias, Zakaria, SCARLETT, SERENA, SHAINA, SHAINDEL, SHAINDY, SHEVY, SHIFRA, SHIRA, SHOSHANA, SIENA, SIENNA, SIMA, SIMI, SIMONE, SKYLAR, SLOANE, SOFIA, SOPHIA, SOPHIE, STELLA, SUMMER, SURI, SURY, SYDNEY, SYLVIA, TALIA, TAMAR, TAYLOR, TESSA, TOBY, TZIPORA, TZIPORAH, TZIPPY, TZIVIA, VALENTINA, VALERIE, VANESSA, VERA, VERONICA, VERONIKA, VICTORIA, VIOLET, VIVIAN, VIVIENNE, WILLA, YACHET, YAEL, YASMINE, YEHUDIS, YIDES, YITTY, YOCHEVED, ZISSY, ZOE, ZOEY, AARAV, AARON, ABDUL, ABDULLAH, ADAM, ADITYA, ADRIAN, AHMED, AIDAN, AIDEN, ALAN, ALEX, ALEXANDER, ALI, ALLEN, ALVIN, ANDREW, ANDY, ANSON, ANTHONY, ARJUN, ARMAAN, ARYAN, AUSTIN, AYAAN, AYDEN, BENJAMIN, BENSON, BRANDON, BRIAN, BRYAN, CALEB, CALVIN, CARSON, CHARLES, CHRISTIAN, CHRISTOPHER, CODY, CONNOR, DANIEL, DANNY, DARREN, DAVID, DEREK, DEVIN, DYLAN, EASON, EDISON, EDWIN, ELIJAH, ELVIS, ERIC, ETHAN, EVAN, FARHAN, FELIX, GABRIEL, GAVIN, GEORGE, HARRISON, HAYDEN, HENRY, IAN, IBRAHIM, ISAAC, ISHAAN, IVAN, JACK, JACKSON, JACKY, JACOB, JADEN, JAKE, JAMES, JASON, JAY, JAYDEN, JEFFREY, JEREMY, JERRY, JIA, JOHN, JOHNNY, JONATHAN, JORDAN, JOSEPH, JOSHUA, JULIAN, JUSTIN, KAI, KEVIN, KINGSLEY, KYLE, LAWRENCE, LEO, LEON, LIAM, LOGAN, LOUIS, LUCAS, LUKE, MARCUS, MARTIN, MASON, MATTHEW, MAX, MICHAEL, MILES, MOHAMED, MOHAMMAD, MOHAMMED, MUHAMMAD, NATHAN, NATHANIEL, NELSON, NICHOLAS, NOAH, OLIVER, OSCAR, OWEN, PATRICK, PETER, RAYAN, RAYMOND, RICHARD, RICKY, ROHAN, RYAN, SAMUEL, SEAN, SEBASTIAN, SHAWN, SIMON, STANLEY, STEVEN, SYED, TENZIN, TERRY, THOMAS, TIMOTHY, TONY, TRAVIS, TYLER, VICTOR, VINCENT, WILLIAM, WILSON, XAVIER, ZACHARY, ZAIN, ZAYAN, AARON, ABDOUL, ABDOULAYE, ADAM, ADEN, ADONIS, ADRIAN, AHMED, AIDAN, AIDEN, ALEXANDER, ALI, ALIJAH, ALVIN, AMADOU, AMAR'E, AMARE, AMARI, AMIR, ANDRE, ANDREW, ANGEL, ANTHONY, ANTONIO, ASHTON, AUSTIN, AVERY, AYDEN, BENJAMIN, BLAKE, BRANDON, BRIAN, BRYAN, BRYCE, BRYSON, CALEB, CAMERON, CARMELO, CARTER, CAYDEN, CHAD, CHANCE, CHARLES, CHASE, CHRIS, CHRISTIAN, CHRISTOPHER, CODY, COREY, DANIEL, DARIUS, DARREN, DAVID, DERRICK, DEVIN, DEVON, DOMINIC, DONOVAN, DWAYNE, DYLAN, EDWARD, ELI, ELIAS, ELIJAH, EMMANUEL, ERIC, ETHAN, EVAN, GABRIEL, GAVIN, GEORGE, GIOVANNI, HASSAN, HAYDEN, HUNTER, IAN, IBRAHIM, IBRAHIMA, ISAAC, ISAIAH, ISHMAEL, ISIAH, JACE, JACKSON, JACOB, JADEN, JAHEIM, JAHMIR, JAIDEN, JALEN, JAMAL, JAMEL, JAMES, JAMIR, JARED, JASIAH, JASON, JAYDEN, JAYLEN, JAYSON, JELANI, JEREMIAH, JEREMY, JERMAINE, JESSE, JOEL, JOHN, JONATHAN, JORDAN, JOSEPH, JOSHUA, JOSIAH, JULIAN, JUSTICE, JUSTIN, KADEN, KAI, KAIDEN, KALEB, KAMARI, KAMERON, KAYDEN, KEITH, KENNETH, KEVIN, KHALIL, KING, KIYAN, KYLE, KYMANI, LAMAR, LANDON, LEVI, LIAM, LOGAN, LUCAS, MAKAI, MALACHI, MALCOLM, MALIK, MAMADOU, MARC, MARCUS, MARQUIS, MASON, MATTHEW, MAURICE, MEKHI, MESSIAH, MICAH, MICHAEL, MILES, MOHAMED, MOHAMMED, MOUSSA, MYLES, NANA, NASIR, NATHAN, NATHANIEL, NEHEMIAH, NICHOLAS, NICOLAS, NIGEL, NOAH, OMAR, OMARI, OUSMANE, PATRICK, PRESTON, PRINCE, QUINCY, RICARDO, RICHARD, ROBERT, RODNEY, RYAN, SAMUEL, SEAN, SEBASTIAN, SEKOU, SETH, SHAWN, SINCERE, STEPHEN, STEVEN, TERRELL, TERRENCE, TIMOTHY, TRAVIS, TRISTAN, TROY, TYLER, VICTOR, WILLIAM, XAVIER, ZACHARY, ZAIRE, ZION, ZYAIRE, AARON, ABDIEL, ABEL, ABRAHAM, ADAM, ADEN, ADONIS, ADRIAN, ADRIEL, AIDAN, AIDEN, ALAN, ALBERT, ALBERTO, ALDO, ALEJANDRO, ALEX, ALEXANDER, ALEXIS, ALFREDO, ALLAN, ALLEN, ALVIN, AMIR, ANDERSON, ANDRE, ANDRES, ANDREW, ANDY, ANGEL, ANGELO, ANTHONY, ANTONIO, ARIEL, ARMANDO, ARMANI, ARTURO, ASHTON, AUSTIN, AVERY, AXEL, AYDEN, BENJAMIN, BRADLEY, BRANDON, BRAYAN, BRAYDEN, BRIAN, BRYAN, BRYANT, BRYCE, BYRON, CALEB, CAMERON, CARLOS, CARMELO, CESAR, ABIGAIL, ADA, AISHA, AIZA, ALEENA, ALEXA, ALEXANDRA, ALICE, ALINA, ALISHA, ALIYAH, ALLISON, ALYSSA, AMANDA, AMBER, AMELIA, AMY, ANGEL, ANGELA, ANGELINA, ANGIE, ANIKA, ANNA, ANNABELLE, ANNIE, ARIA, ARIANA, ARIANNA, ARYA, ASHLEY, AUDREY, AVA, AYESHA, BELLA, BONNIE, BRIANNA, CATHERINE, CECILIA, CHARLOTTE, CHLOE, CHRISTINA, CHRISTINE, CHRISTY, CINDY, CLAIRE, CYNTHIA, DAISY, DIYA, EILEEN, ELAINE, ELENA, ELINA, ELIZABETH, ELLA, EMILY, EMMA, ERICA, ERIKA, ERIN, ESHAL, EVA, EVELYN, FATIMA, FIONA, GIANNA, GRACE, HAILEY, HANNAH, HELEN, IRENE, IRIS, ISABEL, ISABELLA, ISABELLE, IVY, JANICE, JANNAT, JASMINE, JENNIFER, JENNY, JESSICA, JESSIE, JIA, JOANNA, JOCELYN, JOY, JOYCE, JULIA, KAITLYN, KAREN, KATE, KATELYN, KATHERINE, KATIE, KAYLA, KAYLEE, KELLY, KHLOE, KYLIE, LAUREN, LEAH, LEELA, LILLIAN, LILY, MADISON, MAGGIE, MANDY, MARYAM, MAYA, MEGAN, MELODY, MIA, MICHELLE, MILA, MINA, NATALIE, NICOLE, NINA, OLIVIA, PHOEBE, QUEENIE, RACHEL, RAINA, REBECCA, RENEE, SABRINA, SAMANTHA, SARA, SARAH, SELENA, SELINA, SERENA, SHARON, SHIRLEY, SOFIA, SOPHIA, SOPHIE, STELLA, STEPHANIE, SYEDA, TANISHA, TENZIN, TIFFANY, TINA, VANESSA, VICKY, VICTORIA, VIVIAN, WENDY, WINNIE, XIN, YU, ZAHRA, ZAINAB, ZARA, ZOE, AALIYAH, ABIGAIL, ADDISON, AICHA, AISHA, AISSATOU, ALANA, ALEXIS, ALICIA, ALIYAH, ALYSSA, AMANDA, AMANI, AMAYA, AMBER, AMELIA, AMINA, AMINATA, AMIRA, AMIRAH, AMIYAH, ANAYA, ANGEL, ANGELINA, ANIYA, ANIYAH, ARIA, ARIANA, ARIANNA, ARIEL, ARIELLE, ASHLEY, AUBREY, AUTUMN, AVA, BRIANNA, BRIELLE, BROOKE, CAMILLE, CHELSEA, CHEYENNE, CHLOE, CHRISTINA, DAKOTA, DANIELLE, DESTINY, DYLAN, EDEN, EGYPT, ELIZABETH, EMILY, EMMA, ERIN, ESSENCE, EVA, FAITH, FANTA, FATIMA, FATOU, Joseph, FATOUMATA, GABRIELLA, GABRIELLE, GENESIS, GRACE, HAILEY, HANNAH, HARMONY, HAWA, HEAVEN, IMANI, ISABELLA, JADA, JADE, JALIYAH, JANELLE, JANIYA, JANIYAH, JASMINE, JAYDA, JAYLA, JORDYN, JULIA, KAI, KAITLYN, KALIYAH, KAMIYAH, KAYLA, KAYLEE, KELSEY, KENDRA, KENNEDY, KENYA, KHLOE, KIARA, KIMORA, KYLA, KYLIE, LAILA, LAUREN, LAYLA, LEAH, LEILANI, LONDON, LONDYN, LYRIC, MACKENZIE, MADISON, MAKAYLA, MALIA, MALIYAH, MARIAH, MARIAM, MARIAMA, MARYAM, MAYA, MCKENZIE, MELANIE, MIA, MICHELLE, MIKAYLA, MILAN, MORGAN, MYA, NADIA, NAHLA, NANA, NAOMI, NATALIA, NATALIE, NEVAEH, NIA, NYLA, NYLAH, OLIVIA, PAIGE, Angel, PARIS, PEYTON, PRINCESS, RACHEL, REBECCA, RILEY, SADE, SAMANTHA, SAMARA, SAMIYA, SAMIYAH, SANAA, SANAI, SANIYA, SANIYAH, SARAH, SARAI, SARIAH, SASHA, SAVANNAH, SERENITY, SHANIA, SHANIYA, SHILOH, SKYE, SKYLA, SKYLAR, SOPHIA, SORAYA, SUMMER, SYDNEY, SYMPHONY, TABITHA, TAMIA, TARAJI, TAYLOR, TIANA, TIANNA, TORI, TRINITY, VICTORIA, ZAHARA, ZANIYAH, ZARA, ZARIA, ZARIAH, ZOE, ZOEY, ZURI, AALIYAH, ABBY, ABIGAIL, ADRIANA, ADRIANNA, AILEEN, AIMEE, AISHA, ALANA, ALEJANDRA, ALESSANDRA, ALEXA, ALEXANDRA, ALICE, ALICIA, ALISON, ALISSON, ALIYAH, ALLISON, ALLYSON, ALONDRA, ALYSON, ALYSSA, AMANDA, AMAYA, AMBER, AMELIA, AMY, ANA, ANALIA, ANAYA, ANDREA, ANGELA, ANGELICA, ANGELINA, ANGELIQUE, ANGELY, ANGIE, ANIYAH, ANNA, ANNABELLE, APRIL, ARELY, ARIANA, ARIANNA, ARIANNY, ARIEL, ARIELLA, ASHLEY, ASHLY, ATHENA, AUBREY, AURORA, AVA, AYLEEN, AYLIN, BELLA, BIANCA, BRENDA, BRIANA, BRIANNA, BRIANNY, BRIELLE, BRITNEY, BRITTANY, BRYANNA, CAMILA, CARMEN, CAROLINA, CAROLINE, CASSANDRA, CELESTE, CHARLOTTE, CHELSEA, CHLOE, CHRISTINA, CINDY, CLARA, CRISTINA, CRYSTAL, CYNTHIA, DAISY, DAMARIS, DANA, DANIELA, DANIELLA, DANIELLE, DANNA, DAYANA, DELILAH, DENISE, DESTINY, DIANA, DULCE, EILEEN, ELENA, ELIANA, ELIANNA, ELIANNY, ELISA, ELIZABETH, ELLA, EMELY, EMILY, EMMA, ERIKA, ESMERALDA, ESTHER, ESTRELLA, EVA, EVELYN, FAITH, FATIMA, FERNANDA, GABRIELA, GABRIELLA, GABRIELLE, GENESIS, GERALDINE, GIA, GIANNA, GISELLE, GRACE, GUADALUPE, HAILEY, HALEY, HANNAH, HAYLEE, HAYLEY, HAZEL, HEAVEN, HEIDI, HEIDY, HELEN, IMANI, INGRID, IRENE, IRIS, ISABEL, ISABELA, ISABELLA, ISABELLE, ISIS, ITZEL, IZABELLA, JACQUELINE, JADA, JADE, JAELYNN, JAMIE, JANELLE, JASLENE, JASMIN, JASMINE, JAYDA, JAYLA, JAYLAH, JAYLEEN, JAYLENE, JAYLIN, JAYLYN, JAZLYN, JAZMIN, JAZMINE, JENNIFER, JESSICA, JIMENA, JOCELYN, JOHANNA, JOSELYN, JULIA, JULIANA, JULIANNA, JULIET, JULIETTE, JULISSA, KAELYN, KAILEY, KAILYN, KAITLYN, KAMILA, KAREN, KARLA, KATE, KATELYN, KATELYNN, KATHERINE, KATIE, KAYLA, KAYLEE, KAYLEEN, KAYLEIGH, KAYLIE, KAYLIN, KEILY, KELLY, KEYLA, KHLOE, KIARA, KIMBERLY, KRYSTAL, KYLEE, KYLIE, LAILA, LAURA, LAUREN, LAYLA, LEA, LEAH, LEILA, LEILANI, LESLEY, LESLIE, LESLY, LEYLA, LIA, LIANA, LILIANA, LILY, LINDSAY, LIZBETH, LONDON, LUCIA, LUNA, LUZ, MADELINE, MADELYN, MADISON, MAKAYLA, MARIA, MARIAH, MARIANA, MARILYN, MARISOL, MAYA, MEGAN, MELANIE, MELANY, MELISSA, MELODY, MIA, MIAH, MICHELLE, MIKAELA, MIKAYLA, MILA, MILEY, MIRANDA, MIRIAM, MYA, NADIA, NANCY, NAOMI, NATALIA, NATALIE, NATALY, NATASHA, NATHALIA, NATHALIE, NATHALY, NAYELI, NEVAEH, NICOLE, NINA, NOEMI, NYLA, OLIVIA, PAOLA, PENELOPE, PERLA, RACHEL, RAQUEL, REBECCA, RIHANNA, RILEY, ROSA, ROSE, ROSELYN, RUBY, SABRINA, SADIE, SAMANTHA, SAMARA, SARA, SARAH, SARAI, SARIAH, SASHA, SAVANNA, SAVANNAH, SCARLET, SCARLETT, SELENA, SERENITY, SHERLYN, SHIRLEY, SIENNA, SKYLA, SKYLAR, SOFIA, SOPHIA, SOPHIE, STACY, STELLA, STEPHANIE, STEPHANY, TATIANA, TAYLOR, TIANA, TIFFANY, VALENTINA, VALERIA, VALERIE, VANESSA, VERONICA, VICTORIA, VIOLET, VIVIANA, WENDY, XIMENA, YAMILET, YARETZI, ZOE, ZOEY, ABIGAIL, ADDISON, ADELE, ADELINE, ADINA, ADRIANA, ADRIANNA, AHUVA, ALESSANDRA, ALESSIA, ALEXA, ALEXANDRA, ALEXIS, ALICE, ALICIA, ALINA, ALISA, ALIZA, ALLISON, ALYSSA, AMANDA, AMELIA, AMELIE, AMINA, AMIRA, AMY, ANASTASIA, ANGELICA, ANGELINA, ANNA, ANNABEL, ANNABELLE, ARIANA, ARIANNA, ARIEL, ARIELA, ARIELLA, ASHLEY, ATARA, AUBREY, AUDREY, AUTUMN, AVA, AVERY, AVIGAIL, AVIVA, AYLA, BAILA, BARBARA, BATSHEVA, BATYA, BEATRICE, BELLA, BIANCA, BLAKE, BLIMA, BLIMY, BRACHA, BREINDY, BRIANNA, BRIDGET, BROOKE, BROOKLYN, BRUCHA, BRUCHY, BRYNN, CAITLIN, CAMERON, CAROLINE, CASEY, CATHERINE, CECILIA, CELIA, CHANA, CHANY, CHARLIE, CHARLOTTE, CHAVA, CHAVY, CHAYA, CHLOE, CHRISTINA, CLAIRE, CLARA, COLETTE, CORA, DAHLIA, DAISY, DALIA, DANIELA, DANIELLA, DANIELLE, DEVORA, DEVORAH, DIANA, DINA, DYLAN, EDEN, ELEANOR, ELENA, ELIANA, ELISE, ELISHEVA, ELIZA, ELIZABETH, ELLA, ELLE, ELLIANA, ELLIE, ELOISE, EMERSON, EMILIA, EMILY, EMMA, ERIN, ESTER, ESTHER, ESTY, ETTY, EVA, EVE, EVELYN, FAIGA, FAIGY, FINLEY, FIONA, FRADEL, FRAIDY, FRANCESCA, FRIMET, GABRIELA, GABRIELLA, GABRIELLE, GEMMA, GENEVIEVE, GEORGIA, GIA, GIANNA, GIOVANNA, GITTEL, GITTY, GIULIANA, GOLDA, GOLDY, GRACE, GRETA, HADASSA, HADASSAH, HAILEY, HANNA, HANNAH, HARPER, HAZEL, HENNY, HINDY, IDY, ILANA, IRIS, ISABEL, ISABELLA, ISABELLE, ISLA, IVY, IZABELLA, JACQUELINE, JANE, JASMINE, JENNA, Joshua, JESSICA, JORDYN, JOSEPHINE, JOYCE, JULIA, JULIANA, JULIANNA, JULIE, JULIET, JULIETTE, KAITLYN, KATE, KATHERINE, KATHRYN, KAYLA, KAYLEE, KIRA, KYLIE, LAILA, LARA, LAURA, LAUREN, LAYLA, LEA, LEAH, LEILA, LENA, LEORA, LIA, LIANA, LIBA, LIBBY, LILA, LILAH, LILIANA, LILLIAN, LILLY, LILY, LINA, LOLA, LONDON, LUCIA, LUCY, LYLA, MACKENZIE, MADELEINE, MADELINE, MADELYN, MADISON, MAEVE, MAKAYLA, MALAK, MALKA, MALKY, MARGARET, MARIA, MARIAM, MARY, MATILDA, MAYA, MELANIE, MIA, MICHAELA, MICHAL, MICHELLE, MIKAYLA, MILA, MILENA, MINDY, MIRI, MIRIAM, MOLLY, MORGAN, NAOMI, NATALIA, Adrian, NATALIE, NECHAMA, NICOLE, NICOLETTE, NINA, NOA, NORA, OLIVIA, PAIGE, PARKER, PEARL, PENELOPE, PEREL, PESSY, PHOEBE, PIPER, QUINN, RACHEL, RAIZEL, RAIZY, REBECCA, REESE, RIFKA, RIFKY, RILEY, RIVKA, RIVKY, ROCHEL, ROIZY, ROSE, RUBY, RUCHY, RUTH, RYAN, SABRINA, SADIE, SALMA, SAMANTHA, SARA, SARAH, SASHA, SAVANNAH, CHARLES, CHASE, CHRIS, CHRISTIAN, CHRISTOPHER, CRISTIAN, CRISTOFER, CRISTOPHER, DAMIAN, DAMIEN, DANIEL, DANNY, DANTE, DARIEL, DARWIN, DAVID, DENNIS, DERECK, DEREK, DERICK, DEVIN, DIEGO, DOMINIC, DOMINICK, DYLAN, EDDIE, EDGAR, EDISON, EDUARDO, EDWARD, EDWIN, ELI, ELIAN, ELIAS, ELIJAH, ELVIS, EMANUEL, EMILIANO, EMILIO, EMMANUEL, ENRIQUE, ERIC, ERICK, ERIK, ESTEBAN, ETHAN, EVAN, EZEKIEL, EZEQUIEL, FELIX, FERNANDO, FRANCISCO, FRANK, FRANKLIN, FREDDY, GABRIEL, GAEL, GAVIN, GEORGE, GERARDO, GIOVANI, GIOVANNI, GIOVANNY, GREGORY, GUSTAVO, HECTOR, HENRY, HUNTER, IAN, IKER, ISAAC, ISAIAH, ISMAEL, ISRAEL, IVAN, JACE, JACK, JACOB, JADEN, JADIEL, JAIDEN, JAIME, JAKE, JAMES, JANIEL, JANUEL, JARED, JARIEL, JASON, JAVIER, JAY, JAYCE, JAYDEN, JAYSON, JEAN, JEANCARLOS, JEFFERSON, JEFFREY, JENCARLOS, JEREMIAH, JEREMIAS, JEREMY, JERRY, JESSE, JESUS, JIMMY, JOAQUIN, JOEL, JOHAN, JOHANN, JOHN, JOHNATHAN, JOHNNY, JONAH, JONATHAN, JORDAN, JORGE, JOSE, JOSEPH, JOSHUA, JOSIAH, JOSUE, JUAN, JULIAN, JULIEN, JULIO, JULIUS, JUNIOR, JUSTIN, KADEN, KAYDEN, KELVIN, KENNETH, KENNY, KEVIN, LANDON, LARRY, LEANDRO, LEO, LEONARDO, LEONEL, LIAM, LOGAN, LORENZO, LOUIS, LUCAS, LUIS, LUKAS, LUKE, MANUEL, MARCO, MARCOS, MARCUS, MARIO, MARK, MARLON, MARTIN, MARVIN, MASON, MATEO, MATHEW, MATIAS, MATTHEW, MAURICIO, MAX, MAXIMILIANO, MAXIMO, MAXIMUS, MELVIN, MICHAEL, MIGUEL, MIKE, MOISES, NATHAN, NATHANIEL, NELSON, NICHOLAS, NICOLAS, NOAH, NOEL, OLIVER, OMAR, OSCAR, OWEN, PABLO, PATRICK, PAUL, PEDRO, PETER, PRESTON, PRINCE, RAFAEL, RANDY, RAYMOND, RICARDO, RICHARD, RILEY, ROBERT, ROBERTO, RODRIGO, ROGER, ROMEO, ROYCE, RUBEN, RYAN, SAMUEL, SANTIAGO, SEAN, SEBASTIAN, SERGIO, SHANE, SHAWN, STEPHEN, STEVE, STEVEN, TAYLOR, THOMAS, TIMOTHY, TOMAS, TRAVIS, TRISTAN, TYLER, URIEL, VICTOR, VINCENT, WILLIAM, WILSON, XAVIER, YADIEL, YAHIR, YAIR, YANDEL, YANIEL, YARIEL, YERIK, ZACHARY, ZION, AARON, ABRAHAM, ADAM, ADRIAN, AHARON, AHMED, AHRON, AIDAN, AIDEN, AKIVA, ALAN, ALBERT, ALEC, ALEX, ALEXANDER, ALI, ALLEN, AMIR, AMROM, ANDREW, ANGELO, ANTHONY, ANTONIO, ARI, ARIEL, ARON, ARTHUR, ARYEH, ASHER, ASHTON, AUGUST, AUGUSTUS, AUSTIN, AVI, AVRAHAM, AVROHOM, AVRUM, AYDEN, BARUCH, BECKETT, BEN, BENJAMIN, BENNETT, BENZION, BERISH, BINYOMIN, BLAKE, BORUCH, BRADY, BRANDON, BRAYDEN, BRENDAN, BRIAN, BRODY, BRYAN, BRYCE, CADEN, CALEB, CALVIN, CAMERON, CARMINE, CARTER, CHAIM, CHARLES, CHARLIE, CHASE, CHESKEL, CHRISTIAN, CHRISTOPHER, COLE, COLIN, CONNOR, CONOR, COOPER, DANIEL, DASHIELL, DAVID, DEAN, DECLAN, DENNIS, DEREK, DEVIN, DOMINIC, DOMINICK, DOV, DOVID, DYLAN, EDWARD, EFRAIM, EITAN, ELI, ELIAS, ELIEZER, ELIJAH, ELIMELECH, ELIYAHU, ELLIOT, ELLIOTT, ELLIS, ERIC, ETHAN, EVAN, EZRA, FELIX, FILIP, FINN, FRANCESCO, FRANK, GABRIEL, GAVIN, GAVRIEL, GEORGE, GIOVANNI, GRAHAM, GRANT, GRAYSON, GREGORY, GREYSON, GRIFFIN, HARRISON, HARRY, HENRY, HERSH, HERSHEL, HERSHY, HUDSON, HUGO, HUNTER, IAN, ILAN, ISAAC, ISAIAH, ISRAEL, IVAN, JACK, JACKSON, JACOB, JAKE, JAMES, JASON, JASPER, JAYDEN, JESSE, JOEL, JOHN, JONAH, JONATHAN, JORDAN, JOSEPH, JOSHUA, JUDAH, JUDE, JULIAN, JUSTIN, KACPER, KAI, KENNETH, KEVIN, KIERAN, KYLE, LANDON, LAZER, LEO, LEON, LEONARDO, LEV, LEVI, LIAM, LIPA, LOGAN, LORENZO, LOUIS, LUCA, LUCAS, LUKA, LUKAS, LUKE, MAKSIM, MARC, MARCO, MARCUS, MARK, MARTIN, MASON, MATEO, MATTEO, MATTHEW, MAX, MAXIM, MAXIMILIAN, MAXIMUS, MAXWELL, MAYER, MEILECH, MEIR, MENACHEM, MENASHE, MENDEL, MENDY, MICAH, MICHAEL, MILES, MILO, MOHAMED, MOHAMMED, MOISHE, MORDECHAI, MORRIS, MOSES, MOSHE, NAFTALI, NAFTULI, NATHAN, NATHANIEL, NICHOLAS, NICO, NICOLAS, NIKOLAS, NOAH, NOAM, NOLAN, NOSSON, OLIVER, OMAR, OSCAR, OWEN, PARKER, PATRICK, PAUL, PETER, PHILIP, PINCHAS, PINCHUS, QUINN, RAFAEL, RAPHAEL, RAYAN, REED, REID, RICHARD, RILEY, ROBERT, ROCCO, ROMAN, ROWAN, RYAN, RYDER, SALVATORE, SAM, SAMIR, SAMUEL, SANTINO, SEAN, SEBASTIAN, SHALOM, SHANE, SHAUL, SHAYA, SHEA, SHIA, SHIMON, SHLOIME, SHLOIMY, SHLOME, SHLOMO, SHMIEL, SHMUEL, SHNEUR, SHOLOM, SHULEM, SIDNEY, SILAS, SIMCHA, SIMON, SOLOMON, SPENCER, STEPHEN, STEVEN, THEODORE, THOMAS, TIMOTHY, TRISTAN, TYLER, TZVI, USHER, VICTOR, VINCENT, VINCENZO, WESLEY, WILLIAM, WYATT, XAVIER, YAAKOV, YAKOV, YASEEN, YECHEZKEL, YECHIEL, YEHOSHUA, YEHUDA, YEHUDAH, YIDA, YIDEL, YISRAEL, YISROEL, YITZCHAK, YITZCHOK, YOEL, YONAH, YOSEF, YOUSEF, YOUSSEF, ZACHARY, ZALMEN, ZEV, ABBY, ABIGAIL, ADA, AISHA, ALEXANDRA, ALEXIS, ALICE, ALINA, ALISHA, ALLISON, ALYSSA, AMANDA, AMAYA, AMBER, AMELIA, AMINA, AMY, ANAYA, ANGEL, ANGELA, ANGELINA, ANISHA, ANNA, ANNABELLE, ANNIE, ANYA, ARIA, ARIANA, ARIANNA, ARIEL, ARISHA, ARYA, ASHLEY, ATHENA, AUDREY, AVA, AVERY, Cassidy, Catherine, Cecilia, Celine, Chana, Chany, Charlotte, Chava, Chavy, Chaya, Chiara, Chloe, Christina, Claire, Clara, Claudia, Clementine, Colette, Cora, Dahlia, Daisy, Daniella, Danielle, Daphne, Devora, Devorah, Diana, Dina, Dylan, Eden, Edith, Eleanor, Elena, Eliana, Elise, Elisheva, Eliza, Elizabeth, Ella, Ellie, Eloise, Elsa, Emerson, Emilia, Emily, Emma, Emmeline, Ester, Esther, Esty, Etty, Eva, Eve, Evelyn, Faiga, Faigy, Farah, Fatima, Fiona, AYESHA, BELLA, BONNIE, BRIANNA, CAROLINE, CATHERINE, CECILIA, CHARLOTTE, CHELSEA, CHLOE, CHRISTINA, CHRISTINE, CINDY, CLAIRE, CONNIE, CRYSTAL, CYNTHIA, DAPHNE, DIYA, DORIS, EILEEN, ELAINE, ELEANOR, ELENA, ELINA, ELIZABETH, ELLA, ELLIE, EMILY, EMMA, ERICA, ERIN, ESTHER, EVA, EVELYN, FAITH, FATIMA, FIONA, GABRIELLA, GRACE, HAFSA, HAILEY, HANNAH, HAREEM, HAZEL, HELEN, IRENE, IRIS, ISABELLA, ISABELLE, IVY, JANICE, JANNAT, JASMINE, JENNIFER, JENNY, JESSICA, JOANNA, JOCELYN, JOLIN, JOY, JOYCE, JUDY, JULIA, KAITLYN, KAREN, KATE, KATELYN, KATHERINE, KATIE, KAYLA, KAYLEE, KELLY, KHLOE, KIMBERLY, KYLIE, LAUREN, LAYLA, LEAH, LILLIAN, LILY, LINDA, LYDIA, MADELEINE, MADISON, MAGGIE, MANDY, MANHA, MARYAM, MAYA, MEGAN, MELANIE, MELODY, MIA, MICHELLE, MILA, MIRANDA, NATALIE, NICOLE, NINA, OLIVIA, PENELOPE, PHOEBE, QUEENIE, RACHEL, REBECCA, RILEY, SABRINA, SAMANTHA, SARA, SARAH, SAVANNAH, SELENA, SELINA, SERENA, SHARON, SHERRY, SHIRLEY, SOFIA, SOPHIA, SOPHIE, STELLA, STEPHANIE, SUMMER, SYDNEY, SYEDA, TASNIM, TENZIN, TIFFANY, TINA, VANESSA, VICKY, VICTORIA, VIOLET, VIVIAN, WINNIE, XIN, ZAHRA, ZAINAB, ZARA, ZOE, ZOEY, AALIYAH, ABIGAIL, ADRIANNA, AICHA, AISHA, AISSATOU, ALANA, ALANI, ALEXA, ALEXIS, ALICIA, ALIYAH, ALYSSA, AMANDA, AMAYA, AMBER, AMELIA, AMINA, AMINATA, AMIRA, AMIRAH, AMIYAH, ANGEL, ANGELINA, ANIYA, ANIYAH, ARIA, ARIANA, ARIANNA, ARIEL, ARIELLE, ASHLEY, AUBREE, AUBREY, AUTUMN, AVA, AWA, AYANNA, BELLA, BINTOU, BRIANNA, BRIELLE, CAMILLE, CHELSEA, CHEYENNE, CHLOE, CHRISTINA, DANIELLE, DEBORAH, DESTINY, ELISE, ELIZABETH, EMILY, EMMA, ERIN, FAITH, FANTA, FATIMA, FATOUMATA, GABRIELLA, GABRIELLE, GENESIS, GIANNA, GRACE, HAILEY, HANNAH, HARMONY, HAWA, HEAVEN, IMANI, ISABELLA, JADA, JADE, JALIYAH, JANELLE, JANIYAH, JASMINE, JAYDA, JAYLA, JESSICA, JORDAN, JORDYN, KAITLYN, KALIYAH, KAYLA, KAYLEE, KELSEY, KENNEDY, KHLOE, KIARA, KIMORA, KYLA, KYLEE, KYLIE, LAILA, LAUREN, LAYLA, LEAH, LEILANI, LILY, LONDON, LONDYN, LYRIC, MACKENZIE, MADISON, MAKAYLA, MAKENZIE, MALIA, MALIYAH, MARIAH, MARIAM, MARIAMA, MAYA, MCKENZIE, MEGAN, MELANIE, MELODY, MIA, MICHELLE, MIKAYLA, MILAN, MIRACLE, MORGAN, MYA, NAOMI, NEVAEH, NIA, NYLA, NYLAH, OLIVIA, OUMOU, PAIGE, PARIS, PEYTON, PHOENIX, PRINCESS, RILEY, SAMANTHA, SAMARA, SAMIYAH, SANAA, SANAI, SANIYAH, SARAH, SARAI, SARIAH, SASHA, SAVANNAH, SERENITY, SHAYLA, SKYE, SKYLA, SKYLAH, SKYLAR, SOPHIA, STEPHANIE, SUMMER, SYDNEY, TALIA, TAMIA, TAYLOR, TIANA, TORI, TRINITY, VANESSA, VICTORIA, VIOLET, WYNTER, ZOE, ZOEY, ZURI, AALIYAH, ABIGAIL, ADRIANA, ADRIANNA, AILEEN, ALANA, ALANI, ALEJANDRA, ALESSANDRA, ALEXA, ALEXANDRA, ALEXIA, ALICE, ALICIA, ALINA, ALISON, ALISSON, ALIYAH, ALLISON, ALLYSON, ALONDRA, ALYSSA, AMALIA, AMANDA, AMAYA, AMBER, AMBERLY, AMELIA, AMELIE, AMY, ANA, ANAIS, ANALIA, ANDREA, ANGELA, ANGELICA, ANGELINA, ANGELIQUE, ANGIE, ANIYAH, ANNA, APRIL, ARELY, ARIA, ARIANA, ARIANNA, ARIEL, ARIELLE, ASHLEY, ATHENA, AUBREY, AURORA, AVA, AVERY, AVRIL, AYLIN, BELLA, BIANCA, BRENDA, BRIANA, BRIANNA, BRIELLE, BRITNEY, BRITTANY, BRYANNA, CAMILA, CAMILLA, CARMEN, CAROLINA, CAROLINE, CATALINA, CATHERINE, CHARLOTTE, CHELSEA, CHLOE, CHRISTINA, CINDY, CRYSTAL, CYNTHIA, DAISY, DANA, DANIELA, DANIELLA, DANNA, DAYANA, DELILAH, DENISE, DESTINY, DIANA, DULCE, EILEEN, ELENA, ELIANA, ELIANNY, ELISA, ELIZABETH, ELLA, EMELY, EMILIA, EMILY, EMMA, ERIKA, ESMERALDA, ESTHER, EVA, EVANGELINE, EVELYN, FAITH, FATIMA, FERNANDA, GABRIELA, GABRIELLA, GENESIS, GERALDINE, GIA, GIANNA, GISELLE, GRACE, GUADALUPE, HAILEY, HALEY, HANNAH, HAYLEE, HAZEL, HEAVEN, HEIDI, HEIDY, HELEN, ISABEL, ISABELA, ISABELLA, ITZEL, IVANNA, IZABELLA, JACQUELINE, JADA, JADE, JAELYN, JAMIE, JASMIN, JASMINE, JAYLA, JAYLAH, JAYLEEN, JAYLENE, JAYLIN, JAZLYN, JAZMIN, JAZMINE, JAZZLYN, JENNIFER, JESSICA, JIMENA, JOCELYN, JOHANNA, JOSELYN, JULIA, JULIANA, JULIANNA, JULIE, JULIET, JULIETTE, JULISSA, KAILEY, KAITLYN, KAMILA, KAREN, KARINA, KARLA, KASSANDRA, KATELYN, KATHERINE, KATIE, KAYLA, KAYLEE, KAYLIE, KAYLIN, KELLY, KELSEY, KEYLA, KHLOE, KIARA, KIMBERLY, KYLIE, LAILA, LAURA, LAUREN, LAYLA, LEAH, LEILA, LEILANI, LESLEY, LESLIE, LESLY, LIA, LIANA, LILIANA, LILY, LITZY, LIZ, LIZBETH, LONDON, LUCIA, LUNA, LUZ, MACKENZIE, MADELINE, MADELYN, MADISON, MAKAYLA, MARIA, MARIAH, MARIANA, MARILYN, MAYA, MCKENZIE, MEGAN, MELANIE, MELANY, MELINA, MELISSA, MELODY, MIA, MIAH, MICHELLE, MIKAELA, MIKAYLA, MILA, MILAGROS, MILEY, MIRANDA, MIRIAM, MYA, NAOMI, NATALIA, NATALIE, NATALY, NATASHA, NATHALIA, NATHALIE, NATHALY, NAYELI, NEVAEH, NICOLE, NOEMI, NYLAH, OLIVIA, PAOLA, PARIS, PAULA, PENELOPE, PERLA, PEYTON, RACHEL, REBECCA, RIHANNA, ROSA, ROSELYN, RUBY, RUTH, SABRINA, SALOME, SAMANTHA, SANDRA, SARA, SARAH, SARAI, SAVANNA, SAVANNAH, SCARLET, SCARLETT, SELENA, SERENITY, SHERLYN, SIENNA, SKYLA, SKYLAR, SOFIA, SOPHIA, SOPHIE, STACEY, STACY, STELLA, STEPHANIE, SUMMER, TATIANA, TIFFANY, VALENTINA, VALERIA, VALERIE, VANESSA, VERONICA, VICTORIA, VIOLET, VIVIANA, WENDY, XIMENA, YAMILETH, YARETZI, YESENIA, ZOE, ZOEY, ABIGAIL, ADA, ADDISON, ADELAIDE, ADELE, ADINA, Josiah, ADRIANA, ADRIANNA, AHUVA, ALANA, ALESSANDRA, ALESSIA, ALEXA, ALEXANDRA, ALEXANDRIA, ALEXIS, ALICE, ALINA, ALISA, ALIZA, ALLISON, ALMA, ALYSSA, AMALIA, AMANDA, AMELIA, AMELIE, AMINA, AMIRA, AMY, ANASTASIA, ANGELINA, ANNA, ANNABEL, ANNABELLE, ANNE, ANTONIA, ARIA, ARIANA, ARIANNA, ARIEL, ARIELLA, ARIELLE, ASHLEY, ATHENA, AUBREY, AUDREY, AVA, AVERY, AVIGAIL, AVIVA, AYA, AYLA, BAILA, BATSHEVA, BEATRICE, BELLA, BIANCA, BLIMA, BLIMY, BRACHA, BREINDY, BRIANNA, BROOKE, BRUCHY, CAITLIN, CAROLINA, CAROLINE, CASSANDRA, CATHERINE, CECILIA, CELIA, CHANA, CHANIE, CHANY, CHARLOTTE, CHAVA, CHAVY, CHAYA, CHELSEA, CHLOE, CHRISTINA, CLAIRE, CLARA, COLETTE, CORA, DAHLIA, DAISY, DALIA, DANIELA, DANIELLA, DANIELLE, DAPHNE, DEVORA, DEVORAH, DIANA, DINA, DYLAN, EDEN, ELEANOR, ELENA, ELIANA, ELISE, ELISHEVA, ELIZA, ELIZABETH, ELLA, ELLE, ELLIANA, ELLIE, ELOISE, ELSA, EMERSON, EMILIA, EMILY, EMMA, ESME, ESTELLE, ESTER, ESTHER, ESTY, ETTY, EVA, EVANGELINE, EVE, EVELYN, FAIGA, FAIGY, FAITH, FATIMA, FIONA, FRADY, FRAIDY, FRANCES, FRANCESCA, FRIMET, GABRIELA, GABRIELLA, GABRIELLE, GEMMA, GENEVIEVE, GEORGIA, GIA, GIADA, GIANNA, GITTEL, GITTY, GIULIA, GIULIANA, GOLDA, GOLDY, GRACE, GRETA, HADASSAH, HADLEY, HAILEY, HANA, HANNA, HANNAH, HARPER, HAZEL, HELEN, HELENA, HENNY, HINDA, HINDY, IDY, INES, IRIS, ISABEL, ISABELLA, ISABELLE, ISLA, IVY, JACQUELINE, JADE, JANA, JANE, JASMINE, JENNA, JENNIFER, JESSICA, JOANNA, JOLIE, JORDAN, JOSEPHINE, JOYCE, JUDY, JULIA, JULIANA, JULIANNA, JULIE, JULIET, JULIETTE, JUNE, KAITLYN, KATE, KATELYN, KATHERINE, KATHRYN, KATIE, KAYA, KAYLA, KAYLEE, KEIRA, KIRA, LAILA, LANA, LARA, LAURA, LAUREN, LAYLA, LEA, LEAH, LEILA, LENA, LEORA, LIA, LIANA, LIBA, LIBBY, LILA, LILAH, LILIANA, LILLIAN, LILLY, LILY, LINA, LIV, LIVIA, LOLA, LOUISA, LUCIA, LUCY, LYLA, MACKENZIE, MADELEINE, MADELINE, MADELYN, MADISON, MAE, MAEVE, MALAK, MALKA, MALKY, MARGARET, MARGOT, MARIA, MARIAM, MARINA, MARY, MARYAM, MATILDA, MAYA, MELANIE, MELISSA, MIA, MICHAELA, MICHELLE, MIKAYLA, MILA, MINDY, MIREL, MIRI, MIRIAM, MOLLY, MORGAN, NAOMI, NATALIA, NATALIE, NECHAMA, NICOLE, NICOLETTE, NINA, NOA, NOOR, NORA, OLIVE, OLIVIA, PAIGE, PEARL, PENELOPE, PEREL, PERL, PERRY, PESSY, PEYTON, PHOEBE, PIPER, POLINA, QUINN, RACHEL, RAIZEL, RAIZY, RAQUEL, REAGAN, REBECCA, REEM, REESE, RIFKY, RILEY, RIVKA, RIVKY, ROCHEL, ROIZY, ROSA, ROSE, ROSIE, RUBY, RUCHY, RUTH, RYAN, SABRINA, SADIE, SAGE, SALMA, SAMANTHA, SARA, SARAH, SASHA, SAVANNAH, SCARLETT, SELMA, SHAINA, SHAINDY, SHIFRA, SHIRA, SHOSHANA, SIENA, SIENNA, SIMA, SIMONE, SKYLAR, SLOANE, SOFIA, SONIA, SOPHIA, SOPHIE, STELLA, SURY, SYDNEY, SYLVIA, SYLVIE, TALIA, TAMAR, TAYLOR, TESSA, TOBY, TZIPORA, TZIVIA, VALENTINA, VALERIE, VANESSA, VERA, VERONICA, VICTORIA, VIOLET, VIRGINIA, VIVIAN, VIVIENNE, WILLA, YAEL, YARA, YEHUDIS, YIDES, YITTA, YITTY, YOCHEVED, ZISSY, ZOE, ZOEY, AARAV, AARON, AAYAN, ABDUL, ABDULLAH, ADAM, ADITYA, ADRIAN, AHMED, AIDAN, AIDEN, ALAN, ALBERT, ALEX, ALEXANDER, ALI, ALLEN, ALSTON, ALVIN, ANDREW, ANDY, ANGUS, ANSON, ANTHONY, ARJUN, ARYAN, ASHER, AUSTIN, AYAAN, AYAN, AYDEN, BENJAMIN, BENSON, BRANDON, BRAYDEN, BRIAN, BRUCE, BRYAN, CALEB, CALVIN, CARSON, CARTER, CHARLES, CHASE, CHRISTIAN, CHRISTOPHER, CODY, CONNOR, CYRUS, DANIEL, DANNY, DARREN, DAVID, DEREK, DEVIN, DYLAN, EASON, EDISON, EDWARD, ELI, ELIJAH, ELVIS, ERIC, ETHAN, EVAN, FELIX, GABRIEL, GAVIN, GORDON, HAMZA, HAO, HARRISON, HAYDEN, HENRY, HUDSON, HUNTER, IAN, IBRAHIM, ISAAC, IVAN, JACK, JACKSON, JACKY, JACOB, JADEN, JAKE, JAMES, JASON, JASPER, JAY, JAYDEN, JEFFREY, JEREMY, JERRY, JIMMY, JOHN, JOHNNY, JONATHAN, JORDAN, JOSEPH, JOSHUA, JULIAN, JUN, JUSTIN, KAI, KENNETH, KEVIN, KINGSLEY, KINGSTON, KRISH, KYLE, LAWRENCE, LEO, LEON, LIAM, LOGAN, LOUIS, LUCAS, LUKE, MARCUS, MASON, MATTHEW, MAX, MAXWELL, MICHAEL, MILES, MOHAMED, MOHAMMAD, MOHAMMED, MUHAMMAD, MUSA, MUSTAFA, NATHAN, NATHANIEL, NEIL, NELSON, NICHOLAS, NIKHIL, NOAH, OLIVER, OSCAR, OWEN, PATRICK, RAYAN, RAYMOND, RAYYAN, REHAN, RICHARD, RICKY, ROHAN, ROY, RYAN, SAMUEL, SEAN, SEBASTIAN, SHAYAAN, SHAYAN, STANLEY, STEVEN, SUBHAN, SYED, TENZIN, Josue, TERRENCE, THEODORE, THOMAS, TIMOTHY, TRISTAN, TYLER, VICTOR, VIHAAN, VINCENT, WESLEY, WILLIAM, WILSON, WINSTON, YUSUF, ZACHARY, ZAIN, ZAYAN, AARON, ABDOUL, ABDOULAYE, ABDUL, ADAM, ADONIS, ADRIAN, AIDAN, AIDEN, ALEX, ALEXANDER, ALI, ALPHA, AMADOU, AMAR'E, AMARE, AMARI, AMIR, ANDRE, ANDREW, ANTHONY, ANTONIO, ARMANI, ASHTON, AUSTIN, AVERY, AYDEN, BENJAMIN, BLAKE, BOUBACAR, BRADLEY, BRANDON, BRIAN, BRYAN, BRYCE, BRYSON, CADEN, CALEB, CAMERON, CAMREN, CARMELO, CARTER, CAYDEN, CHAD, CHANCE, CHARLES, CHASE, CHRISTIAN, CHRISTOPHER, CONNOR, DAMANI, DANIEL, DARIUS, DARREN, DAVID, DERRICK, DEVIN, DOMINIC, DYLAN, ELI, ELIAS, ELIJAH, EMMANUEL, ERIC, ETHAN, EVAN, GABRIEL, GAVIN, GIOVANNI, HUNTER, IAN, IBRAHIM, IBRAHIMA, ISAAC, ISAIAH, ISRAEL, JACE, JACOB, JADEN, JAHMIR, JAIDEN, JALEN, JAMARI, JAMES, JASIAH, JASON, JAYDEN, JAYLEN, JEREMIAH, JEREMY, JERMAINE, JOEL, JOHN, JONAH, JONATHAN, JORDAN, JOSEPH, JOSHUA, JOSIAH, JUDAH, JULIAN, JUSTICE, JUSTIN, KADEN, KAI, KAIDEN, KALEB, KAMARI, KAREEM, KAYDEN, KEITH, KENNETH, KEVIN, KHALIL, KING, KIYAN, KRISTIAN, KYLE, KYMANI, LEON, LEVI, LIAM, LOGAN, LUCAS, LUKE, MAHAMADOU, MAKAI, MAKHI, MALACHI, MALIK, MAMADOU, MARCUS, MASON, MATTHEW, MAURICE, MEKHI, MESSIAH, MICAH, MICHAEL, MILES, MOHAMED, MOHAMMED, MOUSSA, MUHAMMAD, MYLES, NASIR, NATHAN, NATHANAEL, NATHANIEL, NICHOLAS, NOAH, NOEL, OMAR, OMARI, OUMAR, PAUL, PEYTON, PRESTON, PRINCE, RICHARD, RILEY, ROBERT, RYAN, SAMIR, SAMUEL, SEAN, SEBASTIAN, SHANE, SHAWN, SINCERE, STEVEN, TERRELL, THOMAS, TIMOTHY, TRISTAN, TROY, TYLER, WILLIAM, XAVIER, ZACHARY, ZAIRE, ZION, AARON, ABDIEL, ABEL, ABRAHAM, ADAM, ADAN, ADEN, ADONIS, ADRIAN, ADRIEL, AIDAN, AIDEN, ALAN, ALBERT, ALBERTO, ALDO, ALEJANDRO, ALEX, ALEXANDER, ALEXIS, ALLEN, ALVIN, AMIR, ANDERSON, ANDRE, ANDRES, ANDREW, ANDY, ANGEL, ANGELO, ANTHONY, ANTONIO, ARIEL, ARMANDO, ARMANI, ASHTON, AUSTIN, AVERY, AXEL, AYDEN, BENJAMIN, BLAKE, BRADLEY, BRANDON, BRAYAN, BRAYDEN, BRIAN, BRUCE, BRYAN, BRYANT, BRYCE, CALEB, CAMERON, CAMILO, CARLOS, CARMELO, CARTER, CESAR, CHARLES, CHARLIE, CHASE, CHRIS, CHRISTIAN, CHRISTOPHER, CRISTIAN, CRISTOPHER, DAMIAN, DAMIEN, DANIEL, DANNY, DANTE, DARIEL, DARWIN, DAVID, DEAN, DENZEL, DEREK, DEVIN, DIEGO, DOMINIC, DOMINICK, DONOVAN, DYLAN, EDDY, EDGAR, EDUARDO, EDWARD, EDWIN, ELI, ELIAN, ELIAS, ELIJAH, ELVIN, EMANUEL, EMILIANO, EMILIO, EMMANUEL, ENRIQUE, ERIC, ERICK, ERIK, ESTEBAN, ETHAN, EVAN, EZEKIEL, EZEQUIEL, FABIAN, FELIX, FERNANDO, FRANCISCO, FRANK, FRANKLIN, FREDDY, GABRIEL, GAEL, GAVIN, GEORGE, GIOVANNI, GREGORY, GUSTAVO, HECTOR, HENRY, HUGO, HUNTER, IAN, IKER, ISAAC, ISAIAH, ISMAEL, ISRAEL, IVAN, IZAIAH, JACE, JACK, JACKSON, JACOB, JADEN, JADIEL, JAEL, JAIDEN, JAIME, JAKE, JAMES, JARED, JARIEL, JASON, JAVIER, JAY, JAYCE, JAYDEN, JAYLEN, JAYREN, JAYSON, JEAN, JEFFERSON, JEFFREY, JENCARLOS, JEREMIAH, JEREMY, JESUS, JOAQUIN, JOEL, JOHAN, JOHN, JOHNNY, JONAH, JONAS, JONATHAN, JORDAN, JORGE, JOSE, JOSEPH, JOSHUA, JOSIAH, JOSUE, JUAN, JULIAN, JULIEN, JULIO, JULIUS, JUSTIN, KAIDEN, KALEB, KAYDEN, KELVIN, KENNETH, KENNY, KEVIN, KYLE, LANDON, LEANDRO, LENNY, LEO, LEONARDO, LEONEL, LIAM, LOGAN, LORENZO, LOUIS, LUCA, LUCAS, LUIS, LUKAS, LUKE, MANUEL, MARCO, MARCOS, MARCUS, MARIO, MARK, MARLON, MARTIN, MARVIN, MASON, MATEO, MATHEW, MATHIAS, MATIAS, MATTEO, MATTHEW, MAURICIO, MAX, MAXIMILIANO, MAXIMUS, MAXWELL, MELVIN, MICHAEL, MIGUEL, MIKE, MOISES, NATHAN, NATHANIEL, NELSON, NEYMAR, NICHOLAS, NICOLAS, NOAH, NOEL, OLIVER, OMAR, OSCAR, PABLO, PAUL, PEDRO, PETER, PRESTON, PRINCE, RAFAEL, RANDY, RAUL, RAYMOND, RICARDO, RICHARD, RILEY, ROBERT, ROBERTO, RODRIGO, ROMAN, ROMEO, RONALD, RUBEN, RYAN, SAMUEL, SANTIAGO, SAUL, SEAN, SEBASTIAN, SERGIO, SKYLER, STEPHEN, STEVE, STEVEN, THOMAS, TRISTAN, TYLER, URIEL, VICTOR, VINCENT, WESLEY, WILLIAM, WILSON, XAVIER, YADIEL, YAEL, YAHIR, YANDEL, YARIEL, ZACHARY, ZAYDEN, ZION, AARON, ABRAHAM, ADAM, ADRIAN, AHMAD, AHMED, AHRON, AIDAN, AIDEN, AKIVA, ALAN, ALBERT, ALEKSANDER, ALEX, ALEXANDER, ALI, ALTER, AMIR, ANDERSON, ANDREW, ANGELO, ANTHONY, ANTONIO, ARCHER, ARI, ARIEL, ARON, ARTHUR, ARYEH, ASHER, ATTICUS, AUGUST, AUSTIN, AVERY, AVRAHAM, AVROHOM, AVRUM, AYDEN, BARUCH, BECKETT, BEN, BENJAMIN, BENNETT, BENTZION, BENZION, BINYOMIN, BLAKE, BORUCH, BRADLEY, BRADY, BRANDON, BRAYDEN, BRENDAN, BRIAN, BRODY, CALEB, CALVIN, CAMERON, CARTER, CHAIM, CHARLES, CHARLIE, CHASE, CHESKEL, CHESKY, CHRIS, CHRISTIAN, CHRISTOPHER, COLE, COLIN, CONNOR, COOPER, DAMIAN, DANIEL, DAVID, DEAN, DECLAN, DEVIN, DOMINIC, DOMINICK, DOV, DOVID, DREW, DYLAN, EDWARD, EFRAIM, EITAN, ELAN, ELI, ELIAS, ELIEZER, ELIJAH, ELIMELECH, ELIYAHU, ELLIOT, ELLIOTT, ELLIS, ELUZER, EMMETT, EPHRAIM, ERIC, ERIK, ETHAN, EVAN, EVERETT, EZRA, EZRIEL, FELIX, FILIP, FINN, FRANCESCO, FRANK, FREDERICK, GABRIEL, GAVIN, GAVRIEL, GEORGE, GIOVANNI, GRAHAM, GRANT, GRAYSON, GREGORY, GRIFFIN, HAMZA, HARRISON, HARRY, HARVEY, HAYDEN, HENRY, HERSH, HERSHEL, HERSHY, HUDSON, HUGO, HUNTER, IAN, IBRAHIM, ILAN, ISAAC, ISAIAH, ISRAEL, ISSAC, IVAN, JACE, JACK, JACKSON, JACOB, JAD, JAKE, JAMES, JASON, JASPER, JAXON, JAYDEN, JEREMY, JESSE, JOEL, JOHN, JONAH, JONATHAN, JORDAN, JOSEPH, JOSHUA, JUDAH, JUDE, JULIAN, JULIEN, JUSTIN, KAI, KEVIN, KIERAN, KYLE, LANDON, LAZER, LEO, LEON, LEONARDO, LEVI, LIAM, LIPA, LOGAN, LORENZO, LOUIS, LUCA, LUCAS, LUKA, LUKAS, LUKE, MAKSIM, MALIK, MARC, MARCO, MARCUS, MARK, MARTIN, MASON, MATEO, MATTEO, MATTHEW, MAX, MAXIM, MAXIMILIAN, MAXIMUS, MAXWELL, MAYER, MEIR, MENACHEM, MENDEL, MENDY, MEYER, MICAH, MICHAEL, MILES, MILO, MOHAMED, MOHAMMAD, MOHAMMED, MOISHE, MORDECHAI, MOSES, MOSHE, MUHAMMAD, MYLES, NACHMAN, NAFTALI, NATHAN, NATHANIEL, NICHOLAS, NICO, NICOLAS, NIKITA, NIKOLAS, NOAH, NOAM, NOLAN, NOSSON, OLIVER, OMAR, OSCAR, OWEN, PARKER, PATRICK, PAUL, PETER, PHILIP, PINCHAS, PINCHUS, PRESTON, QUINN, RAFAEL, RAPHAEL, RAYAN, RAYMOND, REED, REID, REUVEN, RICHARD, ROBERT, ROCCO, ROMAN, RONAN, RORY, ROWAN, RYAN, SALVATORE, SAM, SAMI, SAMIR, SAMUEL, SEAN, SEBASTIAN, SHALOM, SHANE, SHAYA, SHEA, SHIA, SHIMON, SHLOIME, SHLOIMY, SHLOMA, SHLOME, SHLOMO, SHMIEL, SHMUEL, SHNEUR, SHOLOM, SHULEM, SILAS, SIMCHA, SIMON, SOLOMON, SPENCER, STEPHEN, STEVEN, THEO, THEODORE, THOMAS, TIMOTHY, TOMAS, TRISTAN, TYLER, TZVI, USHER, VICTOR, VINCENT, WESLEY, WILLIAM, WYATT, XAVIER, YAAKOV, YAKOV, YECHEZKEL, YECHIEL, YEHOSHUA, YEHUDA, YISRAEL, YISROEL, YITZCHAK, YITZCHOK, YOEL, YONA, YOSEF, YOSSI, YOUSEF, YOUSSEF, YUSUF, ZACHARY, ZAIN, ZALMEN, ZEV, Abby, Abigail, Ada, Aisha, Aleena, Alexandra, Alice, Alina, Allison, Alyssa, Amanda, Amber, Amelia, Amy, Ananya, Anaya, Angel, Angela, Angelina, Anika, Anna, Annabelle, Annie, Annika, Anya, Aria, Ariana, Arianna, Ariel, Arya, Ashley, Athena, Audrey, Ava, Avery, Ayesha, Bella, Carina, Caroline, Catherine, Cecilia, Celine, Charlotte, Chelsea, Chloe, Christina, Christine, Cindy, Claire, Connie, Crystal, Cynthia, Daphne, Eileen, Elaine, Elena, Elina, Elise, Elizabeth, Ella, Ellie, Emaan, Emily, Emma, Erin, Eunice, Eva, Evelyn, Fatima, Fiona, Grace, Hailey, Hana, Hannah, Helen, Inaaya, Irene, Iris, Isabel, Isabella, Isabelle, Ivy, Jamie, Jannat, Jasmine, Jenna, Jennifer, Jenny, Jessica, Jessie, Joanna, Jocelyn, Josephine, Joy, Joyce, Julia, Kaitlyn, Karen, Karina, Kate, Katelyn, Katherine, Kayla, Kaylee, Keira, Kelly, Kimberly, Lauren, Layla, Leah, Leela, Leila, Lena, Lillian, Lily, Linda, Madeline, Madelyn, Madison, Maggie, Manha, Maryam, Maya, Megan, Melody, Mia, Michelle, Miranda, Naomi, Natalie, Nicole, Nina, Olivia, Penelope, Queenie, Rachel, Raina, Rebecca, Riya, Sabrina, Samantha, Samara, Sara, Sarah, Sarina, Scarlett, Selena, Selina, Serena, Sharon, Shirley, Sofia, Sophia, Sophie, Stella, Stephanie, Summer, Sunny, Sydney, Syeda, Sylvia, Tenzin, Tiffany, Tina, Vanessa, Vicky, Victoria, Vivian, Winnie, Zahra, Zainab, Zara, Zoe, Zoey, Zoya, Aaliyah, Abigail, Abrielle, Adrianna, Aicha, Aisha, Aissata, Aissatou, Alana, Alexandra, Alexis, Aliyah, Alyssa, Amani, Amaya, Amber, Amelia, Amina, Aminata, Amira, Amirah, Amiyah, Anaya, Angel, Angelina, Aniya, Aniyah, Aria, Ariana, Arianna, Ariel, Arielle, Ashley, Asia, Aubrey, Autumn, Ava, Avery, Azaria, Bella, Bria, Brianna, Brielle, Brooke, Camille, Chelsea, Chloe, Christina, Dakota, Danielle, Destiny, Eden, Egypt, Elizabeth, Emani, Emily, Emma, Esther, Eva, Faith, Fatima, Fatoumata, Gabriella, Gabrielle, Genesis, Gianna, Giselle, Grace, Hailey, Hannah, Harmony, Hawa, Heaven, Imani, Isabella, Isabelle, Isis, Jada, Jade, Jaliyah, Janae, Janelle, Janiyah, Jasmine, Jayla, Jessica, Jordyn, Journey, Kadiatou, Kaitlyn, Kayla, Kaylee, Kaylin, Kennedy, Khloe, Kiara, Kimora, Kourtney, Kyla, Kylee, Kylie, Laila, Lauren, Layla, Leah, Leila, Lily, London, Londyn, Lyric, Mackenzie, Madison, Madisyn, Makayla, Malia, Maliyah, Mariah, Mariam, Mariama, Maya, McKenzie, Melanie, Melody, Mia, Michelle, Milan, Miracle, Morgan, Mya, Nadia, Nahla, Naomi, Nevaeh, Nia, Nyla, Nylah, Olivia, Oumou, Paige, Paris, Payton, Peyton, Phoenix, Precious, Princess, Riley, Saige, Samantha, Samara, Samiyah, Sanaa, Sanai, Saniyah, Sarah, Sarai, Sariah, Sasha, Savannah, Scarlett, Serenity, Shania, Skyla, Skylah, Skylar, Sofia, Sophia, Summer, Sydney, Talia, Tamia, Taylor, Tiana, Trinity, Victoria, Wynter, Zaniyah, Zara, Zariah, Zoe, Zoey, Zuri, Aaliyah, Abigail, Abril, Adriana, Adrianna, Aileen, Aimee, Alana, Alani, Alanis, Alanna, Alejandra, Alessandra, Alexa, Alexandra, Alexia, Alice, Alicia, Alina, Alison, Alisson, Aliyah, Allison, Allyson, Alma, Alondra, Alyssa, Amanda, Amaya, Amber, Amelia, Amy, Ana, Anabel, Anabella, Analia, Anaya, Andrea, Angela, Angelica, Angelina, Angelique, Angie, Annabella, Annabelle, April, Aria, Ariana, Arianna, Arianny, Ariel, Ariella, Arielle, Ashley, Athena, Aubree, Aubrey, Audrey, Aurora, Autumn, Ava, Avery, Ayleen, Aylin, Bella, Bianca, Brenda, Briana, Brianna, Brielle, Britney, Brittany, Bryanna, Camila, Camilla, Carla, Carmen, Caroline, Cataleya, Catalina, Catherine, Charlotte, Chelsea, Chloe, Crystal, Daisy, Daniela, Daniella, Danna, Dayana, Delilah, Destiny, Diana, Dulce, Eileen, Elena, Eliana, Elisa, Eliza, Elizabeth, Ella, Emely, Emilia, Emily, Emma, Erika, Esmeralda, Esther, Eva, Evelyn, Faith, Fatima, Gabriela, Gabriella, Genesis, Gia, Gianna, Giselle, Grace, Elias, Guadalupe, Hailey, Haley, Hannah, Haylee, Heaven, Heidi, Heidy, Helen, Iris, Isabel, Isabela, Isabella, Isabelle, Isis, Itzel, Izabella, Jacqueline, Jade, Jaliyah, Janelle, Jasmine, Jayda, Jayla, Jaylah, Jaylee, Jayleen, Jaylene, Jaylin, Jazlyn, Jazmin, Jazmine, Jennifer, Jessica, Jimena, Jocelyn, Johanna, Joselyn, Julia, Juliana, Julianna, Juliet, Juliette, Julissa, Kailey, Kailyn, Kaitlyn, Kamila, Karen, Karina, Karla, Kate, Katelyn, Katelynn, Katherine, Katie, Kayla, Kaylee, Kayleen, Kaylie, Kaylin, Kelly, Kelsey, Kendra, Keyla, Khloe, Kiara, Kimberly, Kylie, Laila, Laura, Lauren, Layla, Leah, Leanna, Leila, Leilani, Leslie, Lesly, Leyla, Lia, Liana, Liliana, Lily, Litzy, Lizbeth, Lola, London, Lucia, Luna, Luz, Madeline, Madelyn, Madison, Maia, Maite, Makayla, Malia, Maria, Mariah, Mariana, Marilyn, Marjorie, Maya, Melanie, Melany, Melina, Melissa, Melody, Mia, Michelle, Mila, Milan, Miley, Miranda, Miriam, Mya, Naomi, Nashley, Natalia, Natalie, Natasha, Nathalie, Nathaly, Nayeli, Nevaeh, Nicole, Nina, Noemi, Nyah, Nyla, Nylah, Olivia, Paris, Paula, Penelope, Peyton, Rachel, Raquel, Rebecca, Rihanna, Riley, Rose, Ruby, Sabrina, Samantha, Sara, Sarah, Sarai, Savannah, Scarlet, Scarlett, Selena, Serenity, Shayla, Sherlyn, Shirley, Skylah, Skylar, Sofia, Sophia, Sophie, Stacy, Stella, Stephanie, Summer, Tatiana, Taylor, Tiffany, Trinity, Valentina, Valeria, Valerie, Valery, Vanessa, Victoria, Violet, Vivian, Wendy, Ximena, Yamileth, Yaretzi, Zara, Zoe, Zoey, Abigail, Ada, Addison, Adelaide, Adele, Adeline, Adina, Adriana, Adrianna, Ahuva, Aisha, Aleksandra, Alessandra, Alessia, Alexa, Alexandra, Alexia, Alexis, Alice, Alina, Alisa, Aliza, Allison, Alma, Alyssa, Amalia, Amanda, Amelia, Amelie, Amina, Amira, Amy, Ana, Anastasia, Angelina, Anisa, Anna, Annabel, Annabelle, Anne, Antonia, Aria, Ariana, Arianna, Ariella, Graham, Poppy, Lyric, Emmett, Amber, Naomi, Ruby, Harrison, Edith, Major, Rose, Shaina, Israel, Brayden, Gianna, Alice, Tessa, Christopher, Abraham, Phoenix, Nina, Christina, Lillian, Preston, Felix, Frieda, Ariana, Gavin, Kevin, Riley, Amir, Jasiah, Evelyn, Eva, Jonathan, Kimora, Kate, Lillian, Valentina, Alma, Derrick, Maggie, Ariel, Yakov, Jake, Xander, Ivy, Eva, Sarah, Ximena, Ada, Nova, Marcus, Georgia, Chava, Muhammad, Aliyah, Margot, Noah, Aubree, Alanna, Madelyn, Evan, Charlie, Kayla, Dayana, Josephine, Logan, Joel, Nelson, Ava, Alyssa, Jayce, Tristan, Zalmen, Giovanni, Crystal, Richard, Queenie, Amaia, Riley, Jennifer, Aissatou, Lucia, Alex, Jacqueline, Anabia, Yechiel, Katerina, Ryan, Neil, Dalia, Fatima, Lena, Cristian, Elian, Michael, Vicky, Ivan, Frances, Alexander, Winston, Hudson, Rivka, Richard, Nyla, Shmuel, Richard, Sloane, Kyree, Beatrice, Kaitlyn, Allyson, Kian, Hailey, Maison, Ryan, Muhammad, Cindy, Alisson, Ella, Mika, Lucia, Ariella, Landon, Esty, Jordyn, Grayson, Bradley, Olivia, Noemi, Batsheva, Elizabeth, Jennifer, Javier, Arabella, Meyer, Mekhi, Ahron, Brandon, Roman, Fatima, Mohammed, Scarlett, Jose, Emmanuel, Nelson, Reid, Alan, Dominick, Caroline, Joyce, Brandon, Alaia, Rina, Angelina, Gabriel, Steven, Arisha, Charlotte, Skyler, Harley, Aria, Adam, Chase, Mariana, Abdiel, Trinity, Adam, Kyle, Joaquin, Keira, Darwin, Jacqueline, Noa, Levi, Norah, Aaliyah, Mya, Fabian, Hershy, Wolf, Dylan, Menachem, Jaxson, Chaim, Iker, Anderson, Carter, Michelle, Lia, Benjamin, Franklin, Aiden, Esther, Alexander, Catherine, Moshe, Gabriel, Nevaeh, Zoe, Aissatou, Winnie, Kevin, Kenneth, Melanie, Arisha, Sydney, Luna, Ella, Aviel, Nadia, Dominic, Grayson, Annabelle, Ruby, Libby, Austin, Emaan, Amaya, Jade, Nathan, Charles, Janelle, Kaylee, Lia, Genesis, Zain, Dylan, Walter, Aliyah, Brayden, Samaira, Ella, Anaya, Jordan, Ahmed, Kayden, Meshilem, Nina, Aaryan, Amanda, Etty, Lucas, Juliette, Aidan, Ximena, Derek, Rebecca, Victoria, Faith, Jamal, Brooke, Aarav, Alondra, Julia, Anaya, Messiah, Pearl, Camden, Bracha, Austin, Nathan, Nolan, Eva, Lilly, Zayden, Mila, Harrison, Edward, Gia, Sylvia, Penelope, Julia, Ryan, Ada, Lauryn, Wynter, Juniper, Sophie, Rivka, Evangeline, Eva, Wyatt, Matthew, Salvatore, Emilia, Alonso, Lawrence, Mason, Anastasia, Armani, Kenny, Jay, Jade, Wyatt, Aileen, Enzo, Janiya, Liam, Vincent, Destiny, Lucas, Luka, George, Elena, Mauricio, Maxwell, Giovanni, Mateo, Livia, Nolan, Ellie, Ian, Ian, Willow, Fatima, Noah, Caleb, Esmeralda, Andrew, Zabdiel, Sienna, Kyrie, Kenneth, Lilliana, Faigy, Ethan, Alexia, Nathaniel, Michaela, Philip, Jake, Cynthia, Kevin, Bethany, Alia, Brianna, Zahra, Jaden, Kennedy, Ryan, Elaine, Leah, Vanessa, Reuven, Caiden, Ayden, Juliet, Connor, Lucy, Sean, Ali, Ezra, Samuel, Aylin, Anna, Julian, Amir, Eliyahu, Jonael, Jasmine, Gitty, Ian, Frieda, Skyla, Julian, Celeste, Amadou, Ava, Chelsea, Francis, Ahmed, Teagan, Connor, Mason, Milan, Yadiel, Bryce, Yehudis, Jude, Scarlet, Elijah, Joel, Mila, Vicky, Keira, Luca, Peyton, Joseph, Jeremy, Rhys, Logan, Sabrina, Kayla, Charles, Jannat, Ariana, Jeremiah, Vivian, Selim, Skylar, Avery, George, Emilia, Edwin, Sophie, Brendan, Andrew, Miri, Walker, Kayla, Penelope, Elianny, Marlowe, Yitty, Elise, Juan, Amina, Sanaa, Ian, Kaliyah, Catherine, Joy, Laura, Vanessa, Miranda, Edison, Ivy, Hanna, Noelle, Gabrielle, Asher, Yousef, Raymond, Hadley, Journee, Joel, Sincere, Elias, Rohan, Lipa, Kayden, Alexis, Anthony, Chase, Aaliyah, Sophia, Victoria, Israel, Alexis, Mary, Blimy, Daniel, Jariel, Luka, Savannah, Luis, Jasmine, Kaden, Meir, Kimora, Jefferson, Jason, Alina, Bailey, Victoria, Eliana, Umar, Jessie, Arianna, Bodhi, Kaitlyn, Shirley, Lukas, Naftuli, Brenda, Alani, Russell, Eluzer, Malika, Michal, Anaya, Giovanni, Cayden, Lorenzo, Eli, Avigail, Everly, Margaret, Dariel, Skyla, Eric, Hershel, Micah, Dylan, Eileen, Aden, Miriam, Ellis, Nicholas, Savannah, Berl, Jayla, Skye, Cameron, Adeline, Henry, Ariella, Pessy, Rehan, Jacob, Adam, Abrar, Isabela, Katherine, Jocelyn, Arianna, Joshua, Aaryan, Tianna, Robert, Arthur, Lauren, Emily, Antonio, Dante, Elizabeth, Anson, Victor, Celine, Eitan, Jayden, Mohammad, Tenzin, Dylan, Angel, Pedro, Ezra, Naomi, Luna, Simcha, Leibish, Carter, Lorenzo, Celine, Maya, Sarai, Jeremiah, Angelo, Layla, Sofia, Yaretzi, Aharon, Kayden, Anabia, Miriam, Ali, Jaxon, Silas, Tanisha, Edward, Blima, Allyson, Morgan, Chace, Yusuf, Sasha, Mya, Kelsey, Christian, Daphne, Jadiel, Jayceon, Francesca, Khloe, David, Priscilla, Hunter, Tristan, Ivan, Stella, George, Ana, Connor, Atara, Elianny, Maison, Hawa, Julia, Josef, Kamari, Hoorain, Joseph, Noor, Zoey, Mekhi, Journey, James, Jaylee, Stephanie, Chelsea, Maryam, Zara, Cora, Kevin, Nyla, Allison, Emma, Tyler, Ibrahima, Maria, Naomi, London, Judy, Violet, Luke, Josephine, Charlotte, Zev, Ricardo, Rebecca, Xavier, Christina, Julian, Isaiah, Amayah, Willa, Ayat, Abdullah, Maia, Summer, Amelia, Jeremy, Iris, Elisa, Jenna, Tiffany, Angelina, Ayaan, Tiana, Claire, Princess, Aaron, Talia, Jace, Camila, Chloe, Nolan, William, Ibrahim, Ali, Delilah, Layla, Amelia, Diana, Lucia, Benjamin, Miranda, Rowan, Nylah, Lucas, Rivkah, Gianna, Carmen, Alexa, Musa, Jonathan, Melody, Joseph, Sonia, Preston, Rocco, Leilani, Mariama, Shawn, Hayden, Aiden, Sylvia, Shaindel, David, Gianna, William, Sari, Angel, Madeleine, Jonathan, Kylie, Noah, Hunter, Greyson, Nicolas, Johnny, Charlie, Bintou, Angelica, Samir, Naftuli, Stanley, Aliza, Tori, Raizel, Lilia, Matthew, Mia, Olive, Zahara, Isabella, Zara, Shlome, Zara, Jessica, Charles, Arianna, Isaiah, Maximiliano, Daniella, Jaden, Valentino, Ali, Samuel, Claire, Jeremiah, Erika, Jayden, Aahil, Itzel, Kaliyah, Tristan, Zev, Ariana, Colin, Riley, Colton, Analia, Maria, Rylee, Aisha, Elias, Freya, Amina, Fradel, Raymond, Valerie, Wesley, Maximus, Eduardo, Julia, Ivan, Analia, Alicia, Queena, Aleah, Malky, Declan, Jad, Anton, Arya, Aicha, Nicholas, Wesley, Eileen, Valerie, Freya, Lily, Vivian, Ana, Jaxon, Yosef, Ashton, Alexis, Yasmina, Bella, Shraga, Alston, Rifky, Omari, Sylvia, Emma, Anaya, Samuel, Landon, Timur, Madison, Manha, Griffin, Bentzion, Annabel, Grayson, Grayson, Brielle, Alessandro, Maya, Jayce, Celine, Briana, Clara, Elisa, Brody, Miles, Joel, August, Nalani, Destiny, Peretz, Trany, Thomas, Noah, Kali, Jamir, Josue, Kira, Mariam, Nova, Simon, Harry, Journey, Walter, Anson, Eli, Asher, Lucas, Bradley, Talia, Leah, Sury, Wendy, Mohammad, Lauren, Dayana, Omar, Zaire, Fiona, Emmanuel, Bryanna, Jason, Leia, Xavier, Isabelle, Kennedy, Nicholas, Gregory, Quinn, Sophia, Jefferson, Leonard, Brian, Laila, Caleb, Isaias, Abel, Ava, Johnny, Arthur, Richard, Samantha, Salma, Miguel, Addison, Aria, Daniela, Alvin, Zoe, Lauren, Emily, Sasha, Kristina, Kaylee, Zachary, Nicole, Maximilian, Rocco, Cali, Richard, Zara, Ayesha, Khloe, Ivan, Jacob, Yitty, Rayyan, Isaac, Tyler, Felix, Hafsa, Zariah, Noor, Byron, Musa, Elias, Allison, Lola, Alana, William, Ibrahim, Luke, Nathaniel, Annalise, Eunice, Nicole, Jacqueline, Adriana, Kaleb, August, Sebastian, Francisco, Elsa, Daniela, Ashly, Milani, Gemma, Yaakov, Jaheim, Ana, Skyler, June, Parker, Trinity, Eli, Nicole, Oliver, Dov, Athena, Eliot, Yasmin, Shira, Christopher, Aurora, Brayden, Diana, Khalil, Skylar, Eliana, Harry, Axel, Aaron, Eleanor, Lily, Moses, Quincy, Isla, Jayden, Eyad, Alpha, Max, Tony, Hersh, Damon, Shifra, Elijah, Leo, Alice, Frederick, Maya, Jasper, Grace, Noah, Eliyahu, Mia, Diana, Alanna, Isabella, Yusuf, Samantha, Liam, Antonella, Adrian, Katerina, Leila, Leon, Annalise, Isabella, Josue, Alisha, Max, Zendaya, Caiden, Morgan, Eliezer, Amelia, Athena, Prince, Valentina, Mahnoor, Tyler, Vivienne, Avrohom, Alexa, Shlomo, Benjamin, Jeffrey, Thomas, Johan, Naftali, Aaliyah, Annabelle, Kayla, Jayla, Nicholas, Isabelle, Anastasia, Hugo, Eric, Seth, Michael, Antonio, Menachem, Carter, Angelina, Jayla, Ayan, Karen, Enzo, Aryeh, Zara, Dakota, Samantha, Mark, Isabel, Lena, Cole, Eli, Nasir, Shloime, Bruchy, Elena, Camilla, Crystal, Yusuf, Ashley, Kiera, Blake, Mike, Andrew, Ryder, Kylie, Andrea, Carson, Evan, Aliza, Ryder, Joaquin, Audrey, Ashley, Sariah, Santino, Roman, Milo, Michelle, Kaitlyn, Carina, Cassandra, Brendan, Emily, Elizabeth, Rafael, Zoe, Samara, Breindy, Bryce, Oumou, Amir, Cyrus, Naomi, Noach, Isaac, Ayla, Moshe, Hunter, Frady, Hailey, Lillian, Alyssa, Daniel, Matias, Molly, Eileen, Allison, Arya, Luke, Madison, Nala, Matthew, Harrison, Isaac, Nylah, Haniya, Milena, Angel, Danna, Danielle, Noel, Ibrahim, Cindy, Aniyah, Leila, Oscar, Amirah, Tziporah, Sophie, Kaiden, Ava, Samuel, Jayden, Maximus, Evan, Mohammed, James, Hersh, Bianca, Xavier, Nicolas, Ariana, Pedro, Mariam, Victoria, Iris, Rose, Esty, Nova, Rachel, John, Hazel, Elliott, Arianna, Natalia, Juliet, Angela, Aidan, Henry, Leela, Conor, Cooper, Max, Sarah, Alexandra, Tamara, Tova, Elisheva, Sydney, Clara, Maeve, Janelle, Ayden, Brian, Nicholas, Berish, Alan, Dominick, Makayla, Leah, Maxim, Lincoln, Abdul, Amia, Kayden, Tyler, Abdullah, Francesca, Emiliano, Kendra, Robert, Ruby, Francis, George, Giovanni, Kendrick, Harley, Mckenzie, Fernando, Logan, Antonella, Jasiah, Lilah, Ashton, Tori, Frederick, Levi, Jose, Chelsea, Avraham, Rosa, Emerson, Cynthia, Royal, Joseph, Harrison, Oliver, Jacky, Nathaniel, Camille, Ali, Tyler, Savannah, Devora, Mia, Theodore, Yousef, Charlotte, Alessandra, Henry, Aayan, Saige, Donovan, Tristan, Morris, Mariah, Cecilia, Rayan, Ari, Richard, Janice, Syed, Amy, Sarah, David, Hannah, Elizabeth, Sadie, Leon, Avery, Anisa, Aaron, Fatima, Sabrina, Jannatul, Bella, Ousmane, Denisse, Reese, Damien, Aileen, Simcha, Jazmin, Delilah, Zainab, Faiga, Natalie, Leila, Anne, Royal, Skylar, Michelle, Avrohom, Sincere, Sulaiman, Mariah, Alberto, Valerie, Chaya, Zelda, Kyle, Hannah, Kamila, Brooke, Chany, Kyle, Kylie, Messiah, Messiah, Ryan, Gia, Zissy, August, Gittel, Alpha, Elian, Martin, Scarlet, Anna, Sophie, Mikayla, Malak, Nora, Lea, Evelyn, Aylin, Elisheva, Genevieve, Bryson, Veronica, Laura, Katherine, Mohamed, Arielle, Violet, Ryan, Raizel, Giuliana, Harmony, Zain, Xavier, Leia, Prince, Evan, Andre, James, Perl, Daniela, Bianca, Aisha, Giulia, Grace, Victor, Amari, Josephine, Naomi, Allen, Alexis, Armaan, Ian, Summer, Alyssa, Jaxson, Maximus, Derek, Savannah, Samira, Isabel, Genesis, Anne, Alexandra, Robert, Silas, Ean, David, Randy, Kate, Feynman, Fabian, Riley, Dominic, April, Leon, Xavier, Marco, Aviva, Alejandro, Aubrey, Moussa, Mohamed, Spencer, Caroline, Cheskel, Matthew, Madison, Logan, Amy, Malik, Allan, Mila, Liam, Brooks, Jonathan, Zuri, Justice, Mayer, Jordan, Adriel, Raphael, Hanna, Vincent, Isaac, Sophia, Lauren, Aryeh, Hadassah, Chloe, Louis, Edison, Saul, Danny, Ronan, Leilani, Giselle, Samuel, Annabelle, Zahra, Hunter, Yechiel, Jeremy, Zayn, Kimi, Jeremy, Leilany, Caleb, Elias, Isabel, Luke, Bryan, Ayden, Scarlett, Alaia, Jasmine, Maya, Abigail, Aaron, Alayna, Gabriela, Lukas, Yadiel, McKenzie, Graham, Emma, David, Sholom, Annabelle, Raquel, Camilla, Gabriela, Aminata, Calvin, Austin, Kaiden, Leah, Colton, Zachary, Esther, Gabriella, Elena, Amari, Ayesha, Aiden, Melany, Marlowe, Aarav, Shalom, Violet, Cristian, Jaycob, Brian, Zayden, Sophia, Laila, Shifra, Elimelech, Naomi, Hudson, Shaya, Arlette, Maxwell, Youssef, Bryan, Matteo, Evelyn, William, Dominic, Cairo, Serenity, Isaac, Maia, Justin, Andre, Anthony, Julia, Elle, Nasir, Katie, Zayden, Dylan, Yakov, Paul, Grace, Mariam, Genesis, Lucas, Aharon, Christopher, Omar, Chris, Karter, Taliyah, Randy, Noah, Jason, Leandro, Princeton, Chase, Gemma, Christian, Sami, Jorge, Matilda, Md, Amalia, Jacob, Selim, Lesly, Madina, Sima, Natalie, Hunter, Itzel, Jonathan, Malik, Tenzin, Jennifer, Kai, Anika, Timothy, Annabelle, Lev, Benjamin, Eden, Jayden, Krish, Yitzchok, Tehila, Alexandra, Shoshana, Benjamin, Toba, Londyn, Steven, Olivia, Thiago, Daria, Mordechai, Xavier, Aayan, Eden, Alice, Aryan, Kailee, Sage, Landon, Jeffrey, Quinn, Zachary, Marcos, Sabina, Jax, Elijah, Raizy, Anjali, Kelly, Nolan, Andy, Giovanni, Jackson, Finley, Kaylee, Leonardo, Leslie, Adrian, Jeffrey, Rachel, Rayan, Lola, Amiyah, Hope, Ryan, Colin, Ricardo, Lev, Elijah, Jordi, Ean, Milana, Rivkah, Karina, Nikolas, Audrey, Dina, Abby, Mackenzie, Eden, Joel, Nachman, Hazel, Erick, Jaden, Vera, Nicholas, Greyson, Aizah, Aiza, Amalia, Toby, Katelyn, Levi, Harry, Samantha, Stella, Freida, Audrey, Francesco, Irene, Frank, Vanessa, Major, Duvid, Ella, Melissa, Zayden, Abraham, Valentina, Kaleb, Valery, Caiden, Hunter, Yael, Marco, Anastasia, Nelson, Mateo, Alexis, Tristan, Jaylen, Alina, Giselle, Montserrat, Zayan, Zainab, Laura, Khloe, Luciana, Amirah, Ariel, Samantha, Eason, Olivia, Leonidas, Abigail, Elliot, Elizabeth, Dallas, Michael, Kira, Valery, Gavin, Alexandra, Christopher, Lorenzo, Sean, Stella, Ruth, Steven, Alice, Valentina, Kaleb, Mirel, Aiden, Owen, Sharon, Justin, Eliana, Tzvi, Edward, Toby, Devin, Jay, Brielle, Kiara, Jason, Terry, Rayan, Kevin, Noemi, Hershel, Libby, Timothy, Gael, Alex, Wyatt, Liv, Jason, Justin, Alexis, Michael, Martin, Gia, Lyla, Asher, Greyson, Eliam, Aria, Jade, Alejandro, Matthew, Jayden, Rifka, Jordyn, Maxwell, Stephanie, Kaiden, Katie, Quinn, Jessica, Faiga, Bryan, Jayson, Juliana, Mason, Lara, Isaias, Selina, Gianna, Matthew, Shoshana, Camila, Bryson, Ezra, Ahron, Joshua, Emilio, Abel, Aya, Adrianna, Nathaly, Mustafa, Esme, Elijah, Janiyah, Allison, Steven, Jimena, Georgia, Marco, Mathew, Leah, Hannah, Frimet, Harper, Ambar, Greyson, Henry, Kylie, Grayson, Catherine, Leela, Avi, Scarlett, Eloise, Everett, Amina, April, Hugo, Juliana, Caleb, Peyton, Elijah, Katherine, Vanessa, Nathaniel, Michael, Kaylee, Mariam, Leyla, Charlie, Ariel, Boruch, Autumn, Parker, Asher, Esther, Kyrie, Kaitlyn, Muhammad, Giselle, Nia, Jimena, Willow, Kaylie, Marc, Marco, Myra, Lydia, Zoe, Hamza, Lily, Ariel, Kyle, Zion, Emma, Sean, Sarah, Kyson, Ava, Sebastian, Nikolai, Louis, Cooper, Alexa, Lila, Lydia, Alexandra, Yisrael, Bryan, Mateo, Lionel, Alisha, Marcos, Serena, Derrick, Helen, Sarah, Liam, Yisroel, Omar, Amiyah, Sury, Martin, Blake, Grayson, Tyler, Austin, Jeremy, Raphael, Jason, Dina, Brooke, Shlomo, Skye, Dylan, Zayn, Rachel, Maximiliano, Hannah, Kai, Yachet, Damian, Chloe, Zoey, Mikayla, Shane, Lea, Maxwell, Morgan, Johann, Gianna, Mira, Mia, Hashim, King, Joyce, Eve, Ezekiel, Bella, Zoey, Cecilia, Peretz, Justice, Adam, Luciana, Ezekiel, London, Summer, Oumar, Devin, Ashley, Abraham, Sara, Kyle, Olivia, Adelaide, Jazmine, Khloe, Damari, Julianna, Elsa, Jack, Yosef, Ruby, Kiara, Avery, Batsheva, Zariah, Yehudis, Caroline, Emma, Victoria, Owen, Yael, Maliyah, Stephanie, Levi, Jenny, Alyssa, Matteo, Paris, Ezra, Isabelle, Angela, Mariam, Yoel, Samantha, Enrique, Jonah, Liliana, Elimelech, Bennett, Joshua, Joshua, Jocelyn, Otis, Bella, Arianna, Milan, Amber, Alan, Ashley, Olivia, Alessandro, Dylan, Nicolette, Alexander, Sophia, Angelica, Brianna, Brandon, Ashley, Albert, Audrey, Autumn, Ethan, Pierce, Yitzchok, Tristan, Philip, Fatoumata, Leon, Julian, Eleanor, Adele, Richard, Sofia, Owen, Gavin, Ava, Valerie, Jazmin, Zayan, Mohamed, Jonas, Albert, Matthew, Gabriel, Christopher, Liora, Abdiel, Catalina, Adrian, Grace, Tziporah, Sophia, Grayson, Dahlia, Yehuda, Emilio, Romeo, Hudson, Gianluca, Liliana, Valeria, Isaac, Khadija, Tiffany, Summer, Myles, Imani, Sabrina, Lucas, Selena, Israel, Phoebe, Sarai, Devorah, Anna, Ezriel, Moses, Sanaa, Kevin, Miles, Kamila, Yisrael, Zion, Cecilia, Asher, Madeline, Lipa, Aron, Celine, Anahi, Adina, Ariel, Nayeli, Paige, Noa, Adelina, Syed, Arielle, Margot, Melanie, Jaime, Gavin, Jada, Michael, Jackson, Daniella, Angie, Angel, Arham, Angelina, Katherine, Liana, Sadie, Nora, Tristan, Malka, Adeline, Kaia, Elijah, Kimberly, Rachel, Paul, Alex, Sherlyn, Beckett, Adam, Adriana, Paige, Pinchas, Eduardo, Suri, Oscar, Jack, Raymond, Siena, Penelope, Israel, Nia, Victoria, Amber, Jamie, Jonah, Emmanuel, Kelly, Annie, Bella, Oscar, Ellie, Taylor, Zaire, Brady, Elina, Alex, Peyton, Raquel, Arya, Esther, Zachary, Emilia, Moishe, Sebastian, Lia, Lazer, Olivia, Eliana, Eliza, Jackson, Ezekiel, Blessing, Lily, Athena, Dean, Avraham, Kabir, Lily, Armaan, Aubrey, Milani, Christian, Rebecca, Melanie, Felix, Chava, Jordan, Ayaan, Stella, Shlome, Malia, Goldy, Victor, Christian, Amanda, Oliver, Marcus, Sebastian, Ibrahim, Alanis, Evangeline, Andy, Arlo, Cassidy, Mamadou, Elena, Akiva, Ruchy, Etty, Ariel, Jasper, Hamza, Marlon, Daisy, Beatrix, Chelsea, Wyatt, Caleb, Skylar, Raina, Angela, Meshilem, Noam, Alex, Yariel, David, Zara, Luca, Rowan, Emely, Kameron, Nicolas, Arden, Charlotte, Jacob, Sienna, Inaaya, Nathaniel, Stephen, Erick, Adrianna, Guadalupe, Edwin, Roman, Prince, Joshua, Jeffrey, Winston, Jay, Jolie, Alyssa, Mira, Guadalupe, Louisa, Baruch, Adonis, Erika, Ahmad, Franklin, Winnie, Violet, Josiah, Ellis, Aliah, Lilly, Maria, Dean, Andrew, Lillian, Miranda, Mackenzie, Avigail, Anderson, Kennedy, Ronaldo, Ethan, Israel, Lauren, Lucian, Ezequiel, Tyler, Avery, Skylar, Chloe, Kyle, Allan, Leo, Elya, Louis, Mustafa, Seth, Jacob, Chad, Gitty, Abigail, John, Joseph, Carter, Mario, Clementine, Ryan, Skyla, Helen, Giuliana, Emmanuel, Jenny, Julien, Hailey, Dylan, Hazel, Sam, Hazel, Ian, Emmett, Sean, Shmiel, Hadley, Farhan, Jackson, Anastasia, Paris, Chloe, Cleo, Mohammed, Skylar, Shloma, Lindsay, Summer, Colin, Sophia, Yisroel, Avery, Mateo, Janiyah, Valeria, Adrian, Kareem, Kayla, Moussa, Jesse, Diego, Kai, Lola, Aaron, Mya, Amira, Oscar, Malik, Haniya, Miles, Mario, Jamari, Hudson, Heidy, Vincenzo, William, Lizeth, Madeline, Karen, Thea, Olivia, Martin, Ariah, King, Timothy, Muhammad, Esteban, Suri, Mila, Luis, Yuna, Audrey, Mila, Elise, Melody, Aryan, Eliana, Max, Aboubacar, Zoey, Rochel, Nechama, Charlotte, Allen, Grace, Jack, Lia, Oliver, Roy, Mariah, Maya, Jeremiah, Armando, Joseph, Zoe, Shmuel, Kieran, Caden, Xavier, Harper, Jayden, Priscilla, Grant, Lenny, Amaya, Finn, Aaron, Joy, Luna, Bruno, Laila, Mina, Basya, Paul, Marcus, Peter, June, Jaxon, Steven, Alice, Aileen, Adeline, Berl, Efraim, Miguel, Ella, Aurora, Frank, Conor, King, Jesse, Oscar, Kaylani, Mason, Edward, Aubrey, Aicha, Gregory, Shloimy, Kyrie, Liliana, Carla, Richard, Megan, Maia, Malak, Brian, Aurora, Henny, Jordan, Otto, Giovanni, Arlo, Sam, Sean, Emma, Eric, Albert, Ariana, Wesley, Kevin, Jace, Angelo, Evan, Ethan, Noah, Bella, Mason, Ibrahim, Adonis, Louis, Tenzin, Rafael, Josef, Juliette, Darren, Mendy, Amelia, Zoey, Jason, Brittany, Alison, Isabella, Alyssa, Gianna, Christopher, Valentino, Marcus, Tina, Chance, Emily, Christian, Axel, Harper, Jace, Baila, Akiva, Amy, Dean, Ashley, Queenie, Kyla, Dylan, Armani, Hailey, Chany, Jaxson, Sasha, Aron, Oscar, Alma, Paige, Greta, Liv, Belen, Max, Luca, Madison, Jasper, Briana, Benjamin, Brayan, Sabina, Liam, Lila, Fernando, Ashton, Leila, Mindy, Samiyah, Egypt, Annie, Layla, Jaxon, Destiny, Youssef, Savannah, Mendy, John, Jordan, Francis, Pessy, Ivan, Luca, Sasha, Ezra, Pablo, Amira, Cole, Aisha, Julian, Ryan, Benjamin, Amalia, Lincoln, Maliyah, Michelle, Justin, Felix, Hannah, Shea, Nehemiah, Chloe, Fatima, Alisa, Alexandria, Roman, Ruth, Andrea, Brooklyn, Serena, Brandon, Arianna, Sebastian, Marley, Benzion, Vivian, Jake, Yusuf, Malek, Ibrahim, Esmeralda, Amir, Mateo, Maia, Ayan, Mila, Ariana, Ivan, Rohan, Darren, Gabrielle, Gael, Elizabeth, Jonathan, Frank, Max, Motty, Talia, Devorah, Kai, Ahuva, Ellie, Nina, Jazlyn, Harper, Gregory, Jaxon, Maimouna, Roselyn, Daniella, Sylvie, Angelo, Shea, Ashton, Anaya, Eason, Zainab, Keyla, Alexander, Thiago, Amira, Usher, Austin, Perry, Jameson, Saniyah, Makayla, Jimmy, Charlie, Mikaela, Amara, Angelique, Shaindy, Ali, Pinchus, Brandon, Desmond, Madison, Juan, Chaim, Milan, Nathan, Veronica, Jocelyn, Grayson, Miles, Aubrey, Ruchy, Pinchus, Livia, Carter, Skyla, Mordche, Aahil, Milan, Frady, Jayce, Paige, Shaina, George, Erica, Evangeline, John, Charlotte, Owen, Joshua, Angela, Arturo, Emilia, Robert, Elliot, Liana, Bella, Wilson, Eva, Alyssa, Leila, Alvin, Angelina, Alani, Heaven, Shimon, Peyton, Tessa, Elan, Ahmed, McKenzie, Brianna, James, Jaiden, Nyla, Oliver, Jackson, Maya, Karter, Brielle, Edison, Aisha, Amara, Anisa, Gabriella, Ryder, Yamileth, Caleb, Nathalia, Marcus, Daniel, Rifky, Kaden, Dovid, Lucas, Ariana, Miles, Sabrina, Andrew, Madeline, Jacob, Makayla, Leo, Ryan, Hindy, Heaven, Ousmane, Natalia, Avi, Brandon, Josiah, Jesus, Alondra, Brooklyn, Arham, Mouhamed, Ricky, Aidan, Natalia, Jace, Karla, Noam, Jayceon, Yocheved, Bianca, Olivia, Allen, Derek, Brianna, Brayan, Ellie, Abigail, Shloime, Milo, Jaylene, Amelie, Mia, Kelvin, Lawrence, Makayla, Malia, Andre, Perel, Alana, Nylah, Alina, Sophia, Ayla, Adam, Oren, Sky, Hunter, Mira, Willa, Shane, Mendel, Israel, Bryan, Isabelle, Santiago, Chaya, Liam, Sean, Victor, Hailey, Baila, Emerson, Alexander, Gabriella, Stephanie, Robert, Livia, Jonathan, Landon, Madison, Kai, Brooke, Jack, Jordan, Isaiah, Victor, Vincent, Simone, Aria, Mikael, Rose, Eloise, Danielle, Baruch, Yitzchak, Saifan, Winston, Darwin, Eliza, Leo, Ahmed, Daniel, Brianna, Patrick, Gabriel, Tyler, Serena, Isabel, Keyla, Judy, Nicolas, Devin, Nathan, Cali, Maya, Daniel, Abigail, Vincent, Alan, Oliver, Fatima, Faith, Ruth, Imani, Neymar, Mindy, Marcus, Jayceon, Jessica, Meera, Eden, Chase, Lena, Hugo, Jake, Mikaela, Charlotte, Simone, Lyric, Isaac, Marc, Ariel, Axel, Aizah, Luke, Milani, Eva, Brittany, Alexa, Leo, Antonia, Isaiah, David, Yaseen, Malachi, Tamar, Jadiel, Fraidy, Caroline, Avery, Arielle, Benson, Melina, Nathaniel, Michelle, Cayden, Austin, Jaxson, Erin, Preston, Chelsea, Iker, Maryam, Helen, Eva, Fanta, Royal, Moises, Kamari, Aliyah, Yehuda, Theodore, Zion, Ayden, Fiona, Faigy, Kaitlyn, Alexander, Kate, Kimi, Juliet, Taylor, Leslie, Zachary, Brianna, Britney, Henry, Kelly, Connor, Goldy, Nathaniel, Ahmad, Samantha, Shaya, Samuel, Kai, Ethan, Kayden, Nathan, Adriel, Perl, Sebastian, Caroline, Margaux, Amanda, Marcus, Layla, Arielle, Joy, August, Tiana, Bradley, Faith, Amber, Clara, Lillian, Kelly, Esme, Lucy, Dalia, Maliha, Mikayla, Celine, Chance, Alisa, Evelyn, Jocelyn, Tiffany, Caleb, Brucha, Nico, Zachary, Jonathan, Jessica, Nadia, Felix, Daniel, William, Lara, Nathanael, Idy, London, Bianca, Maxwell, Zara, Brayden, Michelle, Kailey, Fiona, Jaiden, Avery, Kevin, Margaret, Lily, Luna, Diana, Darius, Diana, Emmanuel, Morris, Prince, Mila, Eliel, Karen, Aria, Julio, Pearl, Lana, Raymond, Aydin, Manuel, Amber, Malik, Blake, Omar, Karas, Stephen, Christopher, Aydin, Rayyan, Lizbeth, Shalom, Imran, Jasmine, Logan, Yaakov, Ariana, Avery, Calvin, Eli, Joanna, Blake, Jerry, Salma, Jaxson, Thomas, Alani, Alex, Peyton, Louise, Aliyah, Victor, Aliyah, Gabriela, Adonis, Aria, Josiah, Raizy, Lorenzo, Sofia, Benjamin, Andres, Melody, Mathias, Noor, Carson, Brielle, Gabriel, Jeremy, Mohammed, Leah, Rodrigo, Timothy, Matias, Elizabeth, Chris, Makai, Grace, Amir, Nicolette, Jaden, Peyton, Michael, Louis, Adam, Miles, Jaylen, Fishel, Mohamed, River, Athena, Liam, Brielle, Kayla, Legend, Levi, Evelina, Eitan, Pinchas, London, Laila, Phoebe, Keira, Jayda, Joziah, Natalie, Wendy, Elias, Zoey, Ameer, Lauren, Harmony, Brandon, Jeremy, Johnny, Daisy, Miri, Hector, Kimberly, Hareem, Amaya, Anas, Charlie, Taylor, John, Stella, Brian, Rachel, Parker, Skylar, Ella, James, Sarai, Mohammad, Alani, Logan, Matilda, Micah, Tamia, Solomon, Logan, Peter, Khaleesi, Hinda, Josiah, Jane, Annie, Nolan, Londyn, Cayden, Edith, Mackenzie, Omar, Peyton, Frank, Eliezer, Angel, Maximus, Cameron, Thomas, Kiara, Leonardo, Jabari, Miah, Stephen, Kayleen, Charlotte, Claire, Enzo, Allison, Eden, Thomas, Francesco, Brayden, Amina, Yonatan, Eleanor, Joseph, Reign, London, Oumou, Jasmine, Catherine, Yaretzi, Adina, Charles, Elvis, Owen, Trinity, Gabriel, Ariella, Breindy, Aleena, Preston, Kyrie, Michelle, Helen, Abraham, Leilani, Dylan, Rayan, Kaden, Isla, Fiona, Dahlia, Melissa, Adyan, Connor, Edward, Isabela, Bryanna, Sarah, Selena, Noel, Leonardo, Marley, Shia, Isla, Sylvia, Elaine, Amelia, Nico, Muhammad, Owen, Quinn, Maxwell, Alana, Leila, Ayden, Jessica, Eric, Uriel, Karen, Logan, Yides, Sophie, Lana, Chloe, Nala, Omar, Thomas, Victor, Lenny, Leonel, Louisa, Hinda, Anthony, Damian, Damien, Rachel, Jaylin, Aaron, Jacqueline, Elodie, Anthony, Grant, Sebastian, Ahmed, Mira, Kenny, Kyle, Mordechai, Hannah, Ivanna, Christina, Isabella, Izabella, Aleena, Ethan, Lia, Mathew, Hana, Joaquin, Julian, Janelle, Tzvi, Shia, Maeve, Arielle, Reuven, Kyle, Bryson, Evie, Leah, Nashla, Cameron, Jason, Keily, Amira, Sienna, Kymani, Jariel, Vincent, Judah, Riley, Yocheved, Leo, Joyce, Jack, Zion, Fernanda, Avery, Jesus, Arya, Jaxon, Molly, Emily, Phoebe, Alicia, Audrey, Kadiatou, Reese, Sherlyn, Kian, Eva, Natasha, Sofia, Taylor, Wilson, Kaleb, Samuel, Stacy, Nathalie, Micah, Avery, Elliott, Jonas, Isabelle, Irene, Hunter, Julianna, Anthony, Isabella, Naomi, Wesley, Justin, Lydia, Sholom, Riley, Dominick, Chesky, Sienna, Matthias, Victor, Yossi, Ariella, Emanuel, William, Alessandra, Esther, Megan, Giuseppe, Kaylie, Antonio, Christina, Evelyn, Harper, Liana, Golda, Kaden, Boubacar, Jean, Jaylene, Alina, Bryce, Jael, Adriana, Nathalia, Andy, Karla, Angel, Hector, Juliana, Jaelyn, Leandro, Golda, Aminata, Calvin, Zoe, Anne, Amanda, Chana, Christian, Ava, Kaylee, Arjun, Carter, Ben, Jade, Lina, Blimy, Cameron, Micah, Anna, Ariel, Claire, King, Jane, Colette, Lucas, Alejandra, Laura, Anthony, Mya, Edwin, Mark, Athena, Eliza, Michael, Fraidy, Shirley, Kingston, Bryan, Muhammad, Reem, Benzion, Manuel, Zachary, Leah, Emily, Yides, Eleanor, Peter, Isabel, Tristan, Victoria, Fradel, Julia, Autumn, Madelyn, Christina, Faith, Anna, Heaven, Farida, Jaden, Yahya, Goldie, Sergio, Alan, Isabelle, Mackenzie, Kaiden, Andy, Dominic, Stanley, Nicole, Albert, Julia, Aiden, Ayleen, Devora, Amirah, Joseph, Milan, Austin, Elena, Ezequiel, Eliam, Charles, Aubrey, Chana, Sarai, Dominick, Avery, Shiloh, Luca, Mia, Layla, John, Riley, Andrew, Grace, Louise, Daniel, Omari, Austin, Leonardo, Melody, Abdoul, Ahuva, Messiah, Karter, Salvatore, Menashe, Josephine, Emanuel, Meilech, Henry, Layan, Yassin, Leonidas, Gabriella, Mason, Gittel, Moises, Theo, Kali, Adrian, Malaysia, Alessia, Josephine, Aiden, Jasmin, Ivy, Mark, Legend, Elizabeth, Jacob, Chase, Melissa, Angelo, Landon, Theodore, Aidan, Jared, Owen, Giselle, Bella, Gabriel, Ryder, Liba, Addison, Francisco, Londyn, Justin, Bennett, Abigail, Carter, Jayson, Leo, Bruce, Cameron, Malaysia, Mohamed, Alessandra, Sarahi, Sasha, Robert, Lauren, Daniella, Herman, James, Delilah, Morgan, Hamza, Jenna, Hailey, Zahra, Savannah, Layla, Brynn, Evelyn, Juliette, Abdoulaye, Kai, Hannah, Kelvin, Angelique, Ahnaf, Selina, Sebastian, Edison, Keily, Amara, Lincoln, Lucy, Robert, Julius, Elias, Miles, Andres, Declan, Ayden, Caleb, Elijah, Caroline, Ayala, Jaden, Avrum, Emma, Julianna, Cody, Jared, Ariella, Shirley, Adrian, Efraim, Sloane, Sara, Tenzin, Simon, Eden, Ellie, Mirel, Leon, Dov, Hannah, Shimon, Hana, Rose, Cora, Sean, Binyamin, Christina, Marcel, Jordan, Angie, Alison, Avery, Asher, Samira, Arielle, Shira, Hailey, Angelina, Nashla, Jacob, Jamal, David, Emily, Mariama, Siena, Albert, Jacqueline, Natalie, Justin, Barbara, Nathan, Shulem, Derek, Isabelle, Serenity, Brayden, Arjun, Nia, Dakota, Michelle, Phoebe, Sabrina, Melany, Isaiah, Bryce, Zoey, Augustus, Ava, Anthony, Zoe, Shmiel, Hanna, Madelyn, Felipe, Queena, Blake, Jaiden, Elliot, Roberto, Shawn, Kate, Peter, Emilia, Joy, Sarah, Uriel, Julie, Inaaya, Ayelet, Matteo, Crosby, Ivy, Beatrice, Liliana, Milana, Amina, Judah, Christian, Elise, Jayleen, Isabelle, Cyrus, Christian, Reagan, Maya, Laila, Arianna, Emma, Pierce, Abigail, Usher, Mariah, Poppy, Antonia, Amelia, Chris, Noach, Catherine, Sadie, Amari, Ibrahima, Amadou, Zachary, Ahmad, Danielle, Ella, Byron, Alvin, Aaron, Mathias, Brandon, Beckett, Harrison, Maximilian, Rafael, Marcus, Brianna, Natalie, Timothy, Drew, Leonidas, Nylah, Ismael, Evan, Egypt, Jessie, Aria, Penelope, Malia, Simon, Iris, Elisa, Paige, Zoey, Adiel, Idy, Juniper, Shevy, Samir, Adriana, Mariam, Penelope, Alexandra, Leilani, Zalmen, Audrey, Luz, Jace, Nina, Penelope, Anderson, Daphne, Edgar, Jackson, Asher, Mila, Hanna, Natalia, Jasmine, Emilia, Raymond, Kaia, Batya, Cameron, Daniel, Aarya, Nechama, Liba, Alex, Montserrat, Abdoul, Leon, Wolf, Luna, Aleena, Gabrielle, Sara, Anna, Timothy, Ian, Jayden, Sawyer, Julien, Chase, Roy, Zuri, Joshua, Alina, Matthew, Ashley, Damon, Amelia, Valerie, Benson, Sydney, Aidan, Katherine, Eliana, Gabriella, Amaya, Jace, Blima, Eli, Steven, Kayla, Briella, Elena, Alejandra, Malka, Luna, Boruch, Diego, Jude, Nicholas, Sienna, Aden, Ethan, Adrian, Sofia, Vivienne, Tiffany, Aniyah, Amy, Rory, Luke, Angela, Yossi, Liana, Bryant, George, Maryam, Emely, Serenity, Riley, Griffin, Isaiah, Sophie, Scarlett, Hana, Christopher, Christina, Elle, Alexander, Arianny, Fatima, Mahnoor, Maisie, Archer, John, Gavriel, Spencer, Evan, Jean, Lucia, Nathan, Lily, Ayden, Ronald, Addison, Julius, Taylor, Aidan, Jonas, Ephraim, Mackenzie, Brayden, Shloimy, Kaylee, Jazlyn, Zahra, Camren, Frimet, Princeton, Jackson, Dillon, Annabelle, Jonah, Rafael, Ayden, Jorge, Gavin, Cameron, Preston, Amir, Cesar, Bradley, Carlos, Aria, Joanna, Mark, Gary, Aleah, Avery, Ruby, Connor, Binyomin, Maria, Meir, Kenny, Nicholas, Everett, Kori, Amina, Christian, Lyla, Aurora, Malachi, Lukas, Kameron, Jaelyn, Lisa, Caden, Izabella, Naftali, Xavier, Margaux, Yoel, Crystal, Megan, Autumn, Amy, Nathan, Rebecca, Bryan, Jordan, Kira, James, Bracha, Arianna, Alan, Santiago, Jonah, Hailey, Ari, Paris, Isabella, Ana, Brian, Carlos, Jaylin, Johan, Genesis, Manha, Lilah, Bonnie, Jannatul, Stella, Jerry, Mason, Samara, Julissa, Reid, Theodore, Yehoshua, Mia, Ben, Patrick, Roberto, Rivky, Judah, Sara, William, Jasper, Sofia, Veronica, Maxim, Axel, Alexander, Gabriella, Catalina, Juliana, Tzipora, Madeline, Alice, Mia, Henny, Nelson, Juliet, Madeline, Grace, Dominic, Kazi, Clark, Madison, Lina, Syeda, Shane, Madelyn, Chavy, Azaan, Gabrielle, Jacqueline, Khalil, Adele, Julie, Lukas, Olive, Heaven, Violeta, Blake, Helena, Victoria, Autumn, Chavy, Abby, Logan, Leanna, Avery, Gavin, Hershy, Lazer, Adelyn, Edwin, Khloe, Henry, Hindy, Camden, Pablo, Madeleine, Jael, Gavriel, Fatoumata, Nathaniel, Riva, Hudson, Julio, Malky, Jonah, Adelaide, Ariel, Jaylah, Madison, Ariel, Aiden, Annabelle, Miracle, Cameron, Matteo, Thomas, Logan, Marjorie, Tova, Colette, Mariana, Mackenzie, Abdul, Vincent, Felix, Perla, Aaliyah, Miracle, Josiah, Savannah, Abraham, Juliette, Rivky, Abdullah, Sanai, Ariah, Amalia, Jaiden, Bradley, Sydney, Abigail, Yahir, Solomon, Clara, Shaindy, Zoe, Samuel, Noor, Sara, Anaya, Leyla, Aviva, Destiny, Alston, Theo, Yehoshua, Kingsley, Eshan, Mary, Emily, Natalie, Lizbeth, Amanda, Sariyah, Hudson, Joshua, Myles, Scarlett, Zissy, Inaya, Sergio, Isabella, Alyssa, Genevieve, Jaliyah, Jayla, Sarah, Luke, Sylvie, Esther, Andrew, Javier, Roman, Mohammad, Melanie, Aubrey, Vincenzo, Ethan, Jack, James, Eric, Chloe, Rochel, Paul, Perel, Jada, Noel, Rosemary, Autumn, Sanai, Maximilian, Amaya, Eve, Andrew, Vera, Frances, Mae, Nevaeh, Justin, Nicole, Nosson, Ameer, Everly, Serenity, Zara, Kelsey, Shulem, Moishe, Damian, Nora, Vienna, Cristopher, Sara, Jayce, Ismael, Hazel, Edgar, Laila, Dovid, Katherine, Maryam, Adam, Kenneth, Finn, Maximus, Kingsley, Cataleya, Chase, Alexis, Timur, Charles, Chanel, Mayer, Steven, Mason, Alaina, Julian, Camila, Dante, George, Eric, Julian, Amelia, Saul, Brody, Riley, Aiden, Ronan, Alina, Malika, Avrum, Goldie, Chris, Vivian, Kayden, Charles, Wesley, Anthony, Violet, Eric, Layla, Nabiha, Elliot, Danna, Dariel, Maxwell, Mamadou, Elianna, Lucy, Noah, Gabriela, Jimmy, Bintou, Louis, Aisha, Nicole, Edward, Eli, Diyora, Enrique, John, Corey, Gabriel, Amaia, Sima, Savannah, Julianna, Alessandra, Levi, Kayla, Bruchy, Jahmir, Nathaly, Jayleen, Scarlett, Gael, Liam, Cesar, Christine, Fatou, Allen, Aidan, Adrian, Kira, Antonio, Otto, Layla, Nathalie, Cheskel, Arthur, Joselyn, Joel, Alayna, Yaritza, Mendel, Isaac, Alessia, Ashley, Athena, Aubrey, Audrey, Aurora, Ava, Avery, Avigail, Aviva, Baila, Basya, Batsheva, Beatrice, Beatrix, Bella, Blima, Blimy, Bracha, Breindy, Brianna, Bridget, Brielle, Brooke, Bruchy, Caitlin, Camilla, Camille, Caroline, Fradel, Fraidy, Frances, Francesca, Freya, Frimet, Gabriela, Gabriella, Gabrielle, Gemma, Genevieve, Georgia, Gia, Gianna, Giselle, Gittel, Gitty, Giuliana, Golda, Goldy, Grace, Hadassah, Hadley, Hailey, Hana, Hanna, Hannah, Harper, Hazel, Helena, Henny, Hinda, Hindy, Idy, Ilana, Iris, Isabel, Isabella, Isabelle, Isla, Ivy, Jacqueline, Jana, Jane, Jasmina, Jasmine, Jenna, Jessica, Jordan, Jordyn, Josephine, Joyce, Judy, Julia, Juliana, Julianna, Julie, Juliet, Juliette, June, Kaitlyn, Kate, Katerina, Katherine, Kayla, Kaylee, Keira, Kira, Kylie, Laila, Lara, Laura, Lauren, James, Layan, Layla, Lea, Leah, Leila, Lena, Leona, Leora, Leyla, Lia, Liana, Liba, Libby, Lila, Liliana, Lillian, Lilly, Lily, Lina, Liv, Livia, Lola, Louisa, Louise, Lucia, Luciana, Lucille, Lucy, Luna, Lydia, Lyla, Mackenzie, Madeleine, Madeline, Madelyn, Madison, Mae, Maeve, Malak, Malka, Malky, Margaret, Margaux, Margot, Maria, Mariam, Mary, Maryam, Matilda, Maya, Megan, Melanie, Mia, Michal, Michelle, Mikayla, Mila, Milana, Mina, Mindy, Mira, Mirel, Miri, Miriam, Molly, Morgan, Mushka, Nadia, Naomi, Natalia, Natalie, Nechama, Nicole, Nina, Noa, Nora, Norah, Olive, Olivia, Paige, Pearl, Penelope, Perl, Pessy, Peyton, Phoebe, Piper, Poppy, Quinn, Rachel, Raizel, Raizy, Reagan, Rebecca, Reese, Renee, Rifky, Riley, Rivka, Rivky, Rochel, Roiza, Romy, Rose, Ruby, Ruchy, Sabina, Sabrina, Sadie, Sage, Salma, Samantha, Sara, Sarah, Sasha, Savannah, Scarlett, Serena, Shaina, Shaindel, Shaindy, Shifra, Shira, Shoshana, Siena, Sienna, Sima, Simone, Skylar, Sloane, Sofia, Sophia, Sophie, Stella, Summer, Suri, Sury, Sydney, Sylvia, Talia, Tamar, Taylor, Tessa, Toby, Tova, Trany, Tzipora, Valentina, Valerie, Vanessa, Veronica, Victoria, Violet, Vivian, Vivienne, Willa, Yael, Yasmin, Yehudis, Yides, Yitty, Yocheved, Zelda, Zissy, Zoe, Zoey, Aarav, Aaron, Aayan, Abdul, Abdullah, Adam, Aditya, Adrian, Adyan, Ahmed, Ahnaf, Aidan, Aiden, Alan, Albert, Alex, Alexander, Ali, Allen, Alvin, Andrew, Andy, Anson, Anthony, Arjun, Aryan, Asher, Austin, Avery, Ayaan, Ayan, Ayden, Benjamin, Benson, Bowen, Brandon, Brayden, Brendan, Brian, Bryan, Caleb, Calvin, Carson, Carter, Charles, Chris, Christian, Christopher, Colin, Connor, Damon, Daniel, Januel, Danny, Darren, David, Derek, Devin, Dylan, Eason, Eddie, Eden, Edward, Edwin, Eli, Elijah, Elvis, Eric, Ethan, Evan, Farhan, Felix, Gabriel, Gavin, George, Gordon, Harrison, Harry, Hayden, Henry, Hudson, Hunter, Ian, Ibrahim, Isaac, Ishaan, Ivan, Jack, Jackson, Jacob, Jaden, Jake, James, Jason, Jasper, Jayden, Jeffrey, Jeremy, Jerry, Jimmy, John, Johnny, Jonathan, Jordan, Joseph, Joshua, Julian, Justin, Kai, Kayden, Kevin, Kimi, Kingsley, Kyle, Lawrence, Leo, Leon, Liam, Logan, Louis, Lucas, Luke, Marcus, Martin, Mason, Matthew, Max, Maximilian, Maxwell, Md, Michael, Miles, Mohammad, Mohammed, Muhammad, Nathan, Nathaniel, Nicholas, Noah, Nolan, Oliver, Oscar, Owen, Rayan, Raymond, Rehan, Richard, Ricky, Rohan, Roy, Ryan, Samuel, Sean, Sebastian, Shawn, Stanley, Steven, Syed, Tenzin, Theodore, Thomas, Timothy, Tony, Tristan, Tyler, Victor, Vihaan, Vincent, Wesley, William, Wilson, Winston, Xavier, Zachary, Zain, Zayan, Aaron, Abdoulaye, Abraham, Adam, Aden, Adonis, Adrian, Aidan, Aiden, Alex, Alexander, Alpha, Amadou, Amar'e, Amare, Amari, Amir, Andre, Andrew, Anthony, Antonio, Ashton, Austin, Avery, Ayden, Benjamin, Blake, Boubacar, Bradley, Brandon, Brian, Bryce, Bryson, Caiden, Cairo, Caleb, Camden, Cameron, Camren, Carter, Cayden, Chance, Charles, Chase, Chris, Christian, Christopher, Connor, Corey, Daniel, Darius, David, Derrick, Devin, Dominic, Dominick, Dylan, Eli, Elijah, Emmanuel, Eric, Ethan, Evan, Gabriel, Gavin, Giovanni, Gregory, Hayden, Hunter, Ian, Ibrahim, Ibrahima, Isaac, Isaiah, Isiah, Ismael, Israel, Jace, Jacob, Jaden, Jaiden, Jalen, Jamal, Jamari, Jamel, James, Jasiah, Jason, Jayce, Jayceon, Jayden, Jaylen, Jaylin, Jeremiah, Jeremy, Joel, John, Jonathan, Jordan, Joseph, Joshua, Josiah, Julian, Justice, Justin, Kaden, Kai, Kaiden, Kaleb, Kamari, Kameron, Kareem, Karter, Kayden, Kenneth, Kevin, King, Kyle, Kyrie, Leon, Levi, Liam, Logan, Lucas, Luke, Major, Malachi, Malcolm, Malik, Mamadou, Marcus, Mason, Matthew, Maxwell, Mekhi, Messiah, Micah, Michael, Mohamed, Mouhamed, Moussa, Muhammad, Musa, Myles, Nasir, Nathan, Nathaniel, Nazir, Nehemiah, Nicholas, Noah, Noel, Nolan, Omar, Oumar, Ousmane, Owen, Patrick, Paul, Peyton, Preston, Prince, Richard, Riley, Robert, Ryan, Samir, Samuel, Sean, Sebastian, Shane, Shawn, Sincere, Skyler, Stephen, Taylor, Timothy, Travis, Tristan, Tyler, William, Xavier, Zachariah, Zachary, Zaire, Zayden, Zion, Aaron, Abel, Abraham, Adam, Adan, Aden, Adonis, Adrian, Adriel, Aidan, Aiden, Alan, Albert, Alberto, Alejandro, Alex, Alexander, Alexis, Alfredo, Allan, Alonso, Amir, Anderson, Andre, Andres, Andrew, Andy, Angel, Angelo, Anthony, Antonio, Arian, Ariel, Armani, Ashton, Austin, Avery, Axel, Ayden, Benjamin, Blake, Bradley, Brandon, Brayan, Brayden, Brian, Bruce, Bryan, Bryant, Byron, Caleb, Cameron, Camilo, Carlos, Carmelo, Carter, Cayden, Cesar, Charlie, Chase, Chris, Christopher, Cristian, Cristopher, Damian, Damien, Daniel, Danny, Dante, Dariel, Darwin, David, Dean, Denzel, Dereck, Derek, Devin, Diego, Dilan, Dominic, Dominick, Dylan, Edgar, Edison, Eduardo, Edward, Edwin, Eli, Eliam, Elian, Elias, Elijah, Emanuel, Emilio, Emmanuel, Eric, Erick, Ethan, Evan, Ezekiel, Ezequiel, Ezra, Fabian, Felipe, Felix, Fernando, Francisco, Frank, Gabriel, Gael, Gavin, George, Gerard, Giovani, Giovanni, Giovanny, Grayson, Gregory, Gustavo, Hanley, Hector, Henry, Hunter, Ian, Iker, Isaac, Isaiah, Isaias, Ismael, Israel, Ivan, Jace, Jack, Jackson, Jacob, Jaden, Jadiel, Jael, Jahir, Jaiden, Jair, Jake, Juan, Julian, Julien, Julio, Julius, Junior, Justice, Justin, Kaiden, Kayden, Kelvin, Kendrick, Kenneth, Kenny, Kevin, King, Kyle, Landon, Leandro, Lenny, Leo, Leonardo, Leonel, Levi, Liam, Lian, Logan, Lorenzo, Louis, Luca, Lucas, Luis, Luke, Maison, Manuel, Marco, Marcos, Marcus, Mario, Mark, Marlon, Martin, Marvin, Mason, Mateo, Mathew, Mathias, Matias, Matteo, Matthew, Mauricio, Max, Maximilian, Maximiliano, Maximo, Maximus, Maxwell, Mayson, Melvin, Michael, Miguel, Mike, Milan, Moises, Nathan, Nathaniel, Nelson, Neymar, Nicholas, Nicolas, Noah, Noel, Oliver, Omar, Oscar, Owen, Pablo, Patrick, Paul, Pedro, Peter, Preston, Prince, Rafael, Randy, Raul, Raymond, Ricardo, Richard, Riley, Robert, Roberto, Rodrigo, Romeo, Ryan, Samuel, Santiago, Sean, Sebastian, Sergio, Steven, Thiago, Thomas, Timothy, Tomas, Tristan, Tyler, Uriel, Valentino, Victor, Vincent, Wesley, William, Wilson, Xander, Xavier, Yadiel, Yahir, Yariel, Zachary, Zion, Aaron, Abdullah, Abraham, Adam, Adrian, Aharon, Ahmad, Ahmed, Aidan, Aiden, Akiva, Alan, Alec, Alex, Alexander, Ali, Amir, Andrew, Angelo, Anthony, Anton, Antonio, Archer, Ari, Ariel, Aron, Arthur, Arye, Aryeh, Asher, August, Austin, Avery, Avi, Avraham, Avrohom, Avrum, Axel, Baruch, Beckett, Ben, Benjamin, Bennett, Benzion, Binyomin, Blake, Boruch, Bradley, Brady, Brandon, Brayden, Brendan, Brian, Brody, Bryce, Caleb, Cameron, Carter, Chaim, Charles, Charlie, Chase, Cheskel, Chesky, Christian, Christopher, Cole, Colin, Colton, Connor, Conor, Cooper, Damian, Daniel, Dante, David, Dean, Declan, Dennis, Desmond, Devin, Dominic, Dominick, Dov, Dovid, Duvid, Dylan, Edward, Efraim, Eitan, Elan, Eli, Elias, Eliezer, Elijah, Elimelech, Eliyahu, Elliot, Elliott, Emmanuel, Emmett, Eric, Ethan, Evan, Everett, Ezra, Felix, Filip, Finn, Francesco, Francis, Frank, Frederick, Gabriel, Gavin, Gavriel, George, Giancarlo, Gianluca, Giovanni, Graham, Grant, Grayson, Gregory, Greyson, Griffin, Hamza, Harrison, Harry, Henry, Hersh, Hershel, Hershy, Hillel, Hudson, Hugo, Hunter, Ian, Ibrahim, Ilan, Isaac, Isaiah, Israel, Ivan, Jace, Jack, Jackson, Jacob, Jake, James, Jason, Jasper, Jax, Jaxon, Jayden, Jeremy, Jesse, Joaquin, Joel, John, Jonah, Jonathan, Jordan, Joseph, Joshua, Judah, Jude, Julian, Julien, Justin, Kai, Kevin, Kieran, Kyle, Laith, Landon, Lazer, Leo, Leon, Leonard, Leonardo, Lev, Levi, Liam, Lincoln, Lipa, Logan, Lorenzo, Louis, Luca, Lucas, Lucien, Luka, Lukas, Luke, Marc, Marco, Marcus, Mark, Martin, Mason, Massimo, Mateo, Matteo, Matthew, Max, Maxim, Maximilian, Maxwell, Mayer, Meilech, Meir, Menachem, Mendel, Mendy, Meyer, Micah, Michael, Miles, Milo, Mohamed, Mohammad, Mohammed, Moishe, Mordechai, Morris, Moses, Moshe, Muhammad, Myles, Nachman, Naftali, Naftuli, Nathan, Nathaniel, Nicholas, Nico, Nicolas, Noah, Noam, Nolan, Oliver, Omar, Ori, Orion, Oscar, Otto, Owen, Parker, Patrick, Paul, Peter, Philip, Pinchas, Preston, Quinn, Rafael, Raphael, Rayan, Raymond, Reid, Rhys, Richard, Riley, Robert, Rocco, Roman, Ronan, Rory, Rowan, Ryan, Ryder, Salvatore, Sam, Samir, Samuel, Santino, Sawyer, Sean, Sebastian, Shalom, Shane, Shaya, Shea, Shia, Shimon, Shloime, Shloimy, Shlome, Shlomo, Shmiel, Shmuel, Shneur, Sholom, Shraga, Shulem, Silas, Simcha, Simon, Solomon, Spencer, Stanley, Stephen, Steven, Theo, Theodore, Thomas, Timothy, Tristan, Tyler, Tzvi, Usher, Victor, Vincent, Walter, Wesley, William, Wolf, Wyatt, Xavier, Yaakov, Yakov, Yanky, Yassin, Yechiel, Yehoshua, Yehuda, Yeshaya, Yisroel, Yitzchak, Yitzchok, Yoel, Yosef, Yossi, Yousef, Youssef, Yusuf, Zachary, Zalmen, Zev, Aarya, Abby, Abigail, Aisha, Aiza, Aleena, Alexandra, Alice, Alicia, Alina, Alisa, Alisha, Allison, Alyssa, Amanda, Amber, Amelia, Amina, Amy, Anaya, Anayah, Angel, Angela, Angelina, Anna, Annabelle, Anne, Annie, Anya, Aria, Ariana, Arianna, Ariel, Arisha, Arya, Ashley, Athena, Audrey, Ava, Avery, Ayesha, Bella, Carina, Caroline, Catherine, Cecilia, Celine, Charlotte, Chelsea, Chloe, Christina, Cindy, Claire, Crystal, Cynthia, Doris, Eileen, Elaine, Eleanor, Elena, Eliana, Elina, Elizabeth, Ella, Ellie, Elsa, Emily, Emma, Erica, Erin, Eshaal, Esther, Eva, Evelyn, Fatima, Fiona, Gabriella, Gia, Grace, Hafsa, Hailey, Hana, Hanna, Hannah, Inaaya, Inaya, Irene, Iris, Isabel, Isabella, Isabelle, Ivy, Janice, Jannat, Jasmine, Jennifer, Jenny, Jessica, Jessie, Joanna, Jocelyn, Joy, Joyce, Julia, Kaitlyn, Karina, Kate, Katelyn, Katherine, Katie, Kayla, Kaylee, Kelly, Khadija, Kylie, Layla, Leah, Lila, Lillian, Lily, Lina, Lisa, Livia, Luna, Lydia, Madeline, Madelyn, Madison, Maggie, Mandy, Maryam, Maya, Megan, Melody, Mia, Michelle, Mila, Miranda, Naomi, Natalie, Nicole, Nina, Noor, Olivia, Penelope, Phoebe, Priscilla, Queena, Queenie, Rachel, Raina, Rebecca, Riley, Sabrina, Safa, Samantha, Samara, Sara, Sarah, Scarlett, Selena, Selina, Serena, Sharon, Shirley, Shreya, Sofia, Sophia, Sophie, Stella, Stephanie, Summer, Syeda, Sylvia, Tenzin, Tiffany, Vanessa, Vicky, Victoria, Vivian, Winnie, Zainab, Zara, Zoe, Zoey, Aaliyah, Abigail, Adrianna, Aicha, Aisha, Aissatou, Alana, Alexandria, Alexis, Aliyah, Alyssa, Amara, Amaya, Amelia, Amia, Amina, Aminata, Amira, Amirah, Amiya, Amiyah, Angelina, Aniya, Aniyah, Annabelle, Aria, Ariana, Arianna, Ariel, Arielle, Ashley, Aubree, Aubrey, Autumn, Ava, Avery, Bella, Blessing, Brianna, Brielle, Brooke, Brooklyn, Cali, Chanel, Charlotte, Chelsea, Chloe, Christina, Dakota, Danielle, Destiny, Egypt, Eliana, Elizabeth, Ella, Emily, Emma, Eva, Faith, Fanta, Fatima, Fatou, Fatoumata, Gabriella, Gabrielle, Genesis, Gianna, Grace, Hailey, Hannah, Harmony, Hawa, Heaven, Hope, Imani, Isabella, Isabelle, Jada, Jade, Janelle, Jasmine, Jayda, Jayla, Jordan, Jordyn, Journee, Journey, Joy, Kadiatou, Kaitlyn, Kali, Kayla, Kaylee, Kelsey, Kennedy, Khadijah, Khloe, Kiara, Kimora, Kristen, Kyla, Kylee, Kylie, Laila, Lailah, Lauren, Lauryn, Layla, Leah, Leilani, Lillian, Logan, London, Londyn, Lyric, Mackenzie, Madison, Madisyn, Makayla, Malaysia, Malia, Maliyah, Mariah, Mariam, Mariama, Maryam, Maya, McKenzie, Melanie, Mia, Michelle, Mikayla, Mila, Milan, Miracle, Morgan, Mya, Nahla, Naomi, Nevaeh, Nia, Nova, Nyla, Nylah, Olivia, Oumou, Paige, Paris, Penelope, Peyton, Phoenix, Riley, Samantha, Sanaa, Sanai, Saniyah, Sarah, Sarai, Sariah, Savannah, Serenity, Shiloh, Skye, Skyla, Skylah, Skylar, Skyler, Aubrey, Sofia, Sophia, Summer, Sydney, Taylor, Tiana, Tianna, Tori, Trinity, Victoria, Violet, Winter, Wynter, Zaniyah, Zara, Zariah, Zendaya, Zoe, Zoey, Zuri, Aaliyah, Abigail, Adelyn, Adriana, Adrianna, Aileen, Alana, Alanis, Alejandra, Alessandra, Alexa, Alexandra, Alexia, Alexis, Alice, Alicia, Alina, Alison, Alissa, Aliyah, Allison, Allyson, Alma, Alondra, Alyssa, Amalia, Amanda, Amaya, Amber, Amelia, Amy, Ana, Anabella, Anabelle, Anaya, Andrea, Angela, Angelica, Angelina, Angeline, Angelique, Angie, Anna, Annabella, Annabelle, Annalise, April, Arabella, Arely, Aria, Ariana, Arianna, Ariel, Ariella, Arielle, Arya, Ashley, Athena, Aubree, Audrey, Aurora, Autumn, Ava, Avery, Ayleen, Aylin, Bella, Bianca, Brenda, Briana, Brianna, Brielle, Brigitte, Brittany, Brooke, Bryanna, Camila, Carla, Carmen, Carolina, Caroline, Cataleya, Catalina, Catherine, Cecilia, Celeste, Celine, Charlotte, Chelsea, Chloe, Christina, Crystal, Cynthia, Daisy, Daleyza, Daniela, Daniella, Danna, Dayana, Delilah, Destiny, Diana, Eileen, Elena, Eliana, Elisa, Eliza, Elizabeth, Ella, Emely, Emilia, Emily, Emma, Erika, Esmeralda, Esther, Eva, Evangeline, Evelyn, Faith, Francesca, Gabriela, Gabriella, Genesis, Gia, Gianna, Giselle, Grace, Guadalupe, Hailey, Hailie, Hannah, Haylee, Hazel, Heaven, Heidi, Helen, Isabel, Isabella, Isabelle, Itzel, Ivanna, Izabella, Jacqueline, Jade, Jasmine, Jayla, Jaylah, Jayleen, Jaylene, Jaylin, Jazlyn, Jazmin, Jennifer, Jessica, Jessie, Jimena, Jocelyn, Joselyn, Julia, Juliana, Julianna, Juliet, Juliette, Julissa, Kailey, Kaitlyn, Kamila, Karen, Karla, Kate, Katelyn, Katherine, Katie, Kayla, Kaylee, Kayleen, Kaylie, Kaylin, Keila, Kelly, Kendra, Keyla, Khloe, Kiara, Kimberly, Kylie, Laila, Laura, Lauren, Layla, Leah, Leila, Leilani, Leslie, Lesly, Leyla, Lia, Liana, Liliana, Lillian, Lily, Lindsay, Litzy, Lizbeth, Lola, London, Londyn, Lucia, Luciana, Luna, Mackenzie, Madeline, Madelyn, Madison, Magaly, Maia, Makayla, Maria, Mariah, Mariana, Marilyn, Marjorie, Maya, Megan, Melanie, Melany, Melina, Melissa, Melody, Mia, Michelle, Mikaela, Mila, Miranda, Monica, Monserrat, Montserrat, Mya, Naomi, Nashla, Natalia, Natalie, Nathalie, Nathaly, Nayeli, Nevaeh, Nicole, Nina, Nyla, Nylah, Olivia, Paige, Pamela, Paris, Penelope, Peyton, Rachel, Rebecca, Riley, Rose, Ruby, Ruth, Sabrina, Salome, Samantha, Sara, Sarah, Sarai, Savannah, Scarlett, Selena, Serenity, Sherlyn, Shirley, Sienna, Skyla, Skylar, Skyler, Sofia, Sophia, Sophie, Stella, Stephanie, Tatiana, Taylor, Tiffany, Trinity, Valentina, Valeria, Valerie, Valery, Vanessa, Victoria, Violet, Violeta, Wendy, Ximena, Yaretzi, Yasmin, Zoe, Zoey, Abigail, Ada, Addison, Adelaide, Adele, Adelina, Adeline, Adina, Adriana, Adrianna, Ahuva, Aisha, Alessandra, Alessia, Alexa, Alexandra, Alexis, Alice, Alina, Alisa, Aliza, Allison, Alma, Alyssa, Amanda, Amelia, Amelie, Amina, Amira, Ana, Anastasia, Angelica, Angelina, Anisa, Anna, Annabelle, Anne, Antonia, Aria, Ariana, Arianna, Ariel, Ariella, Ashley, Atara, Athena, Audrey, Aurora, Ava, Avery, Avigail, Avital, Aviva, Aya, Ayala, Ayla, Aziza, Baila, Barbara, Batsheva, Beatrice, Bella, Bianca, Blake, Blima, Blimy, Bracha, Brianna, Bridget, Brielle, Brooke, Brucha, Bruchy, Brynn, Caitlin, Camila, Camilla, Camille, Carly, Carolina, Caroline, Cassidy, Catherine, Cecelia, Cecilia, Celia, Celine, Chana, Chany, Charlie, Charlotte, Chava, Chavy, Chaya, Chloe, Christina, Claire, Clara, Clementine, Colette, Cora, Dahlia, Daniella, Danielle, Daphne, Delilah, Devora, Devorah, Diana, Dina, Dylan, Eden, Eleanor, Elena, Eleni, Eliana, Elisheva, Eliza, Elizabeth, Ella, Elle, Ellie, Eloise, Elsa, Emerson, Emilia, Emily, Emma, Emmeline, Erin, Esme, Ester, Esther, Esty, Etty, Eva, Evangeline, Eve, Evelyn, Everly, Evie, Faiga, Faigy, Fatima, Fiona, Fradel, Frady, Fraidy, Frances, Francesca, Frimet, Gabriela, Gabriella, Gabrielle, Gemma, Genevieve, Georgia, Gia, Gianna, Giovanna, Giselle, Gitty, Giuliana, Golda, Goldie, Goldy, Grace, Hadassah, Hadley, Hailey, Hana, Hanna, Hannah, Harlow, Harper, Hazel, Helen, Helena, Henchy, Henny, Hinda, Hindy, Iris, Isabel, Isabella, Isabelle, Isla, Ivy, Jacqueline, Jana, Jane, Jasmina, Jasmine, Jenna, Jessica, Jordyn, Josephine, Julia, Juliana, Julianna, Julie, Juliet, Juliette, June, Juniper, Kaitlyn, Kate, Katherine, Kayla, Kaylee, Keira, Kennedy, Khloe, Kira, Kylie, Laila, Lana, Lara, Laura, Lauren, Layan, Layla, Lea, Leah, Leila, Lena, Leora, Lia, Liana, Liba, Libby, Lila, Lilah, Lilian, Liliana, Lillian, Lilly, Lily, Lina, Linda, Liv, Livia, Lola, Louisa, Lucia, Lucy, Luna, Lydia, Lyla, Mackenzie, Madeleine, Madeline, Madelyn, Madison, Mae, Maeve, Maisie, Malak, Malka, Malky, Margaret, Margot, Maria, Mariam, Marielle, Mary, Maryam, Matilda, Maya, Melanie, Menucha, Mia, Michaela, Michelle, Mikayla, Mila, Milana, Mina, Mindy, Mira, Mirel, Miriam, Molly, Morgan, Mushka, Nadia, Naomi, Natalia, Natalie, Nechama, Nicole, Nina, Noa, Noelle, Noor, Nora, Olive, Olivia, Paige, Parker, Pearl, Penelope, Perel, Perl, Perry, Pessy, Peyton, Phoebe, Piper, Poppy, Quinn, Rachel, Raizel, Raizy, Rebecca, Reese, Reizy, Rena, Rifky, Riley, Rivka, Rivky, Rochel, Roizy, Rosa, Rose, Rowan, Ruby, Ruchel, Ruchy, Ruth, Sabrina, Sadie, Salma, Samantha, Samira, Sara, Sarah, Sasha, Savannah, Scarlett, Serena, Shaina, Shaindel, Shaindy, Shayna, Shifra, Shira, Shoshana, Siena, Sienna, Sima, Simone, Skylar, Sloane, Sofia, Sophia, Sophie, Stella, Summer, Suri, Sury, Sydney, Sylvia, Sylvie, Talia, Brayden, Tamar, Taylor, Tess, Tessa, Thea, Toby, Trany, Tzipora, Tziporah, Valentina, Vera, Veronica, Victoria, Violet, Vivian, Vivienne, Willa, Yael, Yasmina, Yasmine, Yehudis, Yides, Yitty, Yocheved, Zelda, Zissy, Zoe, Zoey, Aahil, Aaron, Aayan, Abdullah, Adam, Adrian, Adyan, Ahmed, Ahnaf, Aidan, Aiden, Alan, Albert, Alex, Alexander, Alfred, Ali, Allen, Alston, Alvin, Anderson, Andrew, Andy, Anson, Anthony, Arham, Arjun, Armaan, Arvin, Aryan, Asher, Austin, Ayaan, Ayan, Ayden, Azaan, Benjamin, Benson, Brandon, Brayden, Brian, Bryan, Caleb, Calvin, Cameron, Carson, Carter, Charles, Chase, Chris, Christian, Christopher, Colin, Connor, Damon, Daniel, Darren, David, Derek, Devin, Dylan, Eason, Eden, Edison, Edward, Edwin, Eli, Elijah, Elvis, Emmanuel, Eric, Ethan, Evan, Felix, Frank, Gabriel, Gary, Gavin, George, Gordon, Grayson, Harrison, Hassan, Hayden, Henry, Hudson, Hunter, Ian, Ibrahim, Isaac, Isaiah, Ivan, Jack, Jacob, Jaden, Jake, James, Jason, Jasper, Jayden, Jeffrey, Jeremy, Jerry, Jimmy, John, Jonathan, Jordan, Joseph, Joshua, Julian, Justin, Kabir, Kaden, Kai, Kayden, Kevin, Kimi, Kingsley, Kyle, Lawrence, Leo, Leon, Leonardo, Liam, Logan, Louis, Luca, Lucas, Luke, Marcus, Mark, Mason, Matthew, Max, Maxwell, Michael, Miles, Mohammad, Mohammed, Muhammad, Musa, Nathan, Nathaniel, Neil, Nicholas, Noah, Oliver, Omar, Oscar, Owen, Rayan, Raymond, Rayyan, Rehan, Richard, Ricky, Riley, Rohan, Roman, Roy, Ryan, Ryder, Samuel, Sean, Sebastian, Shawn, Shayan, Simon, Stanley, Steven, Syed, Tenzin, Theodore, Thomas, Timothy, Tony, Travis, Tristan, Tyler, Victor, Vincent, Wesley, William, Wilson, Winston, Xavier, Zachary, Zain, Zayan, Aaron, Abdoul, Abdoulaye, Abraham, Adam, Aden, Adonis, Adrian, Ahmed, Aiden, Alexander, Ali, Alpha, Amadou, Amare, Amari, Amir, Andre, Andrew, Angel, Anthony, Antonio, Asher, Ashton, Austin, Avery, Ayden, Benjamin, Blake, Bradley, Brandon, Brian, Bryan, Bryce, Bryson, Caden, Caiden, Caleb, Calvin, Cameron, Carmelo, Carter, Cayden, Chance, Charles, Chase, Christian, Christopher, Daniel, Darren, David, Devin, Dominic, Donovan, Dylan, Eli, Elias, Elijah, Emmanuel, Eric, Ethan, Ezekiel, Ezra, Gabriel, Gavin, Giovanni, Greyson, Hunter, Ibrahim, Ibrahima, Isaac, Isaiah, Jace, Jacob, Jaden, Jaiden, Jalen, Jamar, James, Jasiah, Jason, Jaxon, Jayce, Jayceon, Jayden, Jaylen, Jayson, Jeremiah, Jeremy, Joel, John, Jonathan, Jordan, Joseph, Joshua, Josiah, Julian, Julius, Justice, Justin, Kaden, Kai, Kaiden, Kaleb, Kamari, Kareem, Karter, Kayden, Kenneth, Kevin, Khalil, King, Kingston, Kristian, Kyle, Kyrie, Landon, Levi, Liam, Logan, Lorenzo, Lucas, Luke, Major, Malachi, Malik, Mamadou, Marcus, Mason, Matthew, Mekhi, Messiah, Micah, Michael, Miles, Mohamed, Mohammed, Mouhamed, Moussa, Myles, Nasir, Nathan, Nathaniel, Nicholas, Noah, Noel, Nolan, Omar, Omari, Oumar, Peyton, Preston, Prince, Princeton, Quincy, Richard, Riley, Robert, Roman, Ryan, Samuel, Savion, Sean, Sebastian, Seth, Sincere, Steven, Thomas, Timothy, Travis, Tristan, Tyler, William, Wyatt, Xavier, Zachary, Zahir, Zaiden, Zaire, Zamir, Zane, Zayden, Zion, Aaron, Abel, Abraham, Adam, Adan, Adonis, Adrian, Adriel, Aidan, Aiden, Alan, Albert, Alberto, Alejandro, Alex, Alexander, Alexis, Allan, Allen, Amir, Anderson, Andres, Andrew, Andy, Angel, Anthony, Antonio, Ariel, Armani, Ashton, Austin, Avery, Axel, Ayden, Benjamin, Bradley, Brandon, Brayan, Brian, Bruce, Bryan, Bryant, Bryce, Caleb, Cameron, Carlos, Carter, Cesar, Charles, Chase, Chris, Christian, Christopher, Cristian, Damian, Damien, Daniel, Danny, Dante, Dariel, Darwin, David, Dean, Dennis, Derek, Derick, Devin, Diego, Dominic, Dominick, Donovan, Dylan, Eddy, Edgar, Eduardo, Edward, Edwin, Eli, Elian, Elias, Elijah, Emanuel, Emiliano, Emilio, Emmanuel, Enrique, Enzo, Eric, Erick, Esteban, Ethan, Evan, Ezekiel, Ezequiel, Ezra, Fabian, Felix, Fernando, Francisco, Frank, Gabriel, Gael, Gavin, George, Gerardo, Giovanni, Grayson, Gregory, Hector, Henry, Hudson, Hunter, Ian, Iker, Isaac, Isaiah, Ismael, Israel, Ivan, Jace, Jack, Jackson, Jacob, Jaden, Jadiel, Jael, Jaiden, Jake, James, Jared, Jariel, Jason, Javier, Jaxon, Jaxson, Jay, Jayce, Jayceon, Jayden, Jayson, Jean, Jefferson, Jeffrey, Jeremiah, Jeremy, Jesus, Joaquin, Joel, Johan, John, Johnny, Jonah, Jonas, Jonathan, Jordan, Jorge, Jose, Joseph, Joshua, Josiah, Josue, Juan, Julian, Julio, Julius, Junior, Justin, Kaden, Kai, Kaiden, Kaleb, Kayden, Kendrick, Kenneth, Kenny, Kevin, King, Kyle, Landon, Leandro, Leo, Leon, Leonardo, Leonidas, Levi, Liam, Logan, Lorenzo, Louis, Luca, Lucas, Luis, Lukas, Luke, Maddox, Manuel, Marcelo, Marco, Marcos, Marcus, Mario, Mark, Marlon, Martin, Marvin, Mason, Mateo, Mathew, Mathias, Matias, Matteo, Matthew, Max, Maximilian, Maximiliano, Maximus, Maxwell, Melvin, Messiah, Michael, Miguel, Mike, Milan, Miles, Misael, Moises, Myles, Nathan, Nathaniel, Nelson, Neymar, Nicholas, Nicolas, Noah, Noel, Oliver, Omar, Orlando, Oscar, Owen, Pablo, Pedro, Peter, Prince, Rafael, Randy, Raymond, Ricardo, Richard, Riley, Robert, Roberto, Rodrigo, Romeo, Ruben, Ryan, Samuel, Santiago, Saul, Sean, Sebastian, Sergio, Skyler, Stephen, Steve, Steven, Theodore, Thiago, Thomas, Timothy, Tristan, Tyler, Uriel, Victor, Vincent, Walter, William, Xavier, Yadiel, Yahir, Yandel, Yariel, Zachary, Zayden, Aaron, Abraham, Adam, Adrian, Aharon, Ahmad, Ahmed, Aidan, Aiden, Akiva, Alan, Albert, Alex, Alexander, Ali, Amir, Andrew, Angelo, Anthony, Anton, Antonio, Archer, Ari, Ariel, Arlo, Aron, Arthur, Aryeh, Asher, Ashton, August, Austin, Avi, Avraham, Avrohom, Avrum, Axel, Ayden, Aydin, Baruch, Beckett, Ben, Benjamin, Bennett, Benzion, Berish, Berl, Binyamin, Binyomin, Blake, Boruch, Brady, Brandon, Brayden, Brendan, Brian, Brody, Brooks, Caleb, Calvin, Cameron, Carter, Chaim, Charles, Charlie, Chase, Cheskel, Christian, Christopher, Cole, Colin, Connor, Conor, Cooper, Cormac, Damian, Daniel, Dante, Dashiell, David, Dean, Declan, Denis, Derek, Devin, Dominic, Dominick, Dov, Dovid, Drew, Duvid, Dylan, Edward, Efraim, Eitan, Eli, Elias, Eliezer, Elijah, Elimelech, Eliyahu, Elliot, Elliott, Ellis, Emmett, Eric, Erik, Ethan, Evan, Everett, Ezra, Felix, Filip, Finn, Francesco, Francis, Frank, Frederick, Gabriel, Gavin, Gavriel, George, Giovanni, Giuseppe, Graham, Grant, Grayson, Gregory, Greyson, Griffin, Hamza, Harrison, Harry, Hayden, Henry, Hersh, Hershel, Hershy, Hillel, Hudson, Hugo, Hunter, Ian, Ibrahim, Imran, Isaac, Israel, Issac, Ivan, Jace, Jack, Jackson, Jacob, Jake, Jakub, James, Jason, Jasper, Jax, Jaxon, Jaxson, Jayden, Jeremy, Jesse, Joel, John, Jonah, Jonathan, Jordan, Joseph, Joshua, Judah, Jude, Julian, Justin, Kai, Karas, Kareem, Kevin, Kieran, Kyle, Landon, Lazer, Leibish, Leo, Leon, Leonardo, Lev, Levi, Liam, Lincoln, Lipa, Logan, Lorenzo, Louis, Luca, Lucas, Lucien, Luka, Lukas, Luke, Marc, Marcel, Marco, Marcus, Mark, Martin, Mason, Mateo, Matteo, Matthew, Max, Maxim, Maximilian, Maximus, Maxwell, Mayer, Meilech, Meir, Menachem, Menashe, Mendel, Mendy, Micah, Michael, Milan, Miles, Milo, Mohamed, Mohammed, Moishe, Mordche, Mordechai, Morris, Moses, Moshe, Muhammad, Myles, Naftali, Naftuli, Nathan, Nathaniel, Nicholas, Nico, Nicolas, Nikita, Noah, Noam, Nolan, Nosson, Oliver, Omar, Oscar, Owen, Parker, Patrick, Paul, Peter, Philip, Pinchas, Pinchus, Preston, Quinn, Rafael, Raphael, Rayan, Raymond, Reed, Reid, Reuben, Rhys, Richard, Riley, Robert, Rocco, Roman, Ronan, Rory, Rowan, Ryan, Ryder, Salvatore, Sam, Samir, Samuel, Santino, Sawyer, Sean, Sebastian, Shalom, Shane, Shaya, Shea, Shia, Shimon, Shloime, Shloimy, Shlome, Shlomo, Shmiel, Shmuel, Sholom, Shraga, Shulem, Silas, Simcha, Simon, Solomon, Spencer, Stephen, Steven, Theo, Theodore, Thomas, Timothy, Tristan, Tyler, Tzvi, Usher, Victor, Vincent, Vincenzo, Wesley, Weston, William, Winston, Wolf, Wyatt, Xavier, Yaakov, Yahya, Yakov, Yaseen, Yechiel, Yehoshua, Yehuda, Yidel, Yisrael, Yisroel, Yitzchak, Yitzchok, Yoel, Yosef, Yossi, Yousef, Youssef, Yusuf, Zachary, Zev, Liam, Noah, Matthew, Sebastian, Dylan, Jacob, Ethan, Lucas, Jayden, Mateo, Aiden, Mason, Daniel, Angel, Logan, Alexander, Michael, Gael, Isaac, David, Ian, Aaron, Oliver, Gabriel, Joshua, Adrian, Elias, Elijah, Thiago, Ryan, Josiah, Samuel, Axel, Joseph, Anthony, Julian, Luis, Jeremiah, Nicholas, Christopher, Christian, Jonathan, Benjamin, James, Ayden, Jeremy, Kayden, Leonardo, Nicolas, Jason, Nathan, Santiago, Justin, Josue, Emmanuel, Matias, Diego, Andrew, Carlos, Isaiah, Jose, Juan, Kevin, Leo, Steven, Damian, Austin, Caleb, Elian, Evan, John, Xavier, Matteo, Adriel, Alan, Grayson, Greyson, Jace, Alejandro, Erick, Jayce, Jesus, William, Alex, Amir, Eli, Lorenzo, Jadiel, Jordan, Luca, Miguel, Andres, Emilio, Nathaniel, Ivan, Jaxon, Abdiel, Brandon, Joel, Zion, Asher, Jake, Dariel, Enzo, Javier, Kaiden, Miles, Robert, Adam, Adonis, Dominic, Hunter, Ismael, Jaxson, Lukas, Edward, Henry, Noel, Victor, Bryson, Iker, Israel, Messiah, Milan, Abraham, Ezra, Kenneth, Avery, Cristian, Derek, Emiliano, Ezekiel, Jack, Kaleb, Rafael, Bryan, Eliel, Isaias, Jonah, King, Chase, Dante, Francisco, Hector, Jorge, Levi, Manuel, Prince, Alexis, Brian, Cesar, Landon, Legend, Mathias, Max, Nolan, Owen, Roman, Theodore, Thomas, Tyler, Wesley, Ariel, Ashton, Carter, Edwin, Giovanni, Julius, Leon, Ean, Jayson, Johan, Milo, Saul, Uriel, Antonio, Cameron, Chris, Eliam, Ezequiel, Jared, Jonas, Kai, Maximiliano, Maximus, Moises, Pablo, Yadiel, Abel, Angelo, Bryce, Emanuel, George, Jackson, Kelvin, Oscar, Tristan, Zachary, Aidan, Andy, August, Cairo, Eduardo, Eric, Jariel, Jay, Jaycob, Joaquin, Luke, Martin, Amari, Jaden, Leonel, Pedro, Peter, Ricardo, Valentino, Zayden, Alonso, Ermias, Fernando, Gavin, Jaiden, Kairo, Kendrick, Kyrie, Leandro, Samir, Zaid, Ace, Alessandro, Bradley, Charles, Elliot, Felipe, Gianni, Jael, Jaziel, Jefferson, Maison, Marco, Marcos, Micah, Randy, Raymond, Richard, Roberto, Valentin, Adiel, Allan, Byron, Damien, Edgar, Felix, Jaylen, Johnny, Karter, Kenny, Myles, Omar, Sean, Wilson, Xander, Yariel, Isabella, Emma, Sophia, Mia, Camila, Luna, Valentina, Sofia, Victoria, Ava, Olivia, Amelia, Alaia, Leah, Zoe, Genesis, Abigail, Scarlett, Emily, Ashley, Ariana, Penelope, Samantha, Charlotte, Hailey, Mila, Chloe, Elizabeth, Melanie, Allison, Madison, Gianna, Bella, Elena, Amaya, Amy, Kaylee, Grace, Valerie, Alexa, Emilia, Gabriella, Eliana, Arya, Brianna, Daniela, Kimberly, Riley, Maya, Valeria, Arianna, Jade, Sarah, Kylie, Ana, Layla, Amaia, Aria, Emely, Aaliyah, Amalia, Leilani, Natalie, Andrea, Eva, Evelyn, Hannah, Zoey, Jayleen, Lia, Samara, Alison, Juliet, Isabel, Kayla, Khloe, Maria, Melody, Savannah, Violet, Diana, Kamila, Kiara, Lucia, Rose, Alice, Aliyah, Gabriela, Jazlyn, Natalia, Athena, Celine, Ella, Michelle, Serenity, Alina, Antonella, Juliette, Sarai, Alexandra, Amanda, Avery, Kaylani, Aurora, Stephanie, Alyssa, Jasmine, Nicole, Nova, Adriana, Alana, Maia, Ximena, Ariella, Danna, Esther, Liliana, London, Melany, Skylar, Aleah, Catalina, Leslie, Naomi, Sophie, Angela, Aubrey, Daniella, Destiny, Ellie, Giselle, Itzel, Liana, Mariana, Sienna, Vanessa, Angelina, Angie, Kailani, Katherine, Madelyn, Ruby, Valery, Yaretzi, Alessia, Alia, Amber, Amira, Anastasia, Autumn, Briana, Brielle, Jayla, Jazmin, Juliana, Keyla, Luciana, Nyla, Rachel, Zara, Alma, Alondra, Dahlia, Dayana, Eliza, Esmeralda, Julia, Kehlani, Laila, Malia, Nylah, Alanna, Audrey, Eileen, Elisa, Lily, Lizbeth, Melissa, Mya, Nashla, Sara, Selena, Summer, Adeline, Alani, Analia, Angelica, Annalise, April, Ariel, Delilah, Heaven, Julissa, Khaleesi, Lauren, Leila, Liah, Luz, Meghan, Stella, Aileen, Alayna, Amara, Dara, Elianny, Guadalupe, Isabela, Isabelle, Jessica, Kaitlyn, Karen, Lesly, Miah, Zuri, Adelynn, Ailani, Alicia, Arlette, Aubree, Ayla, Bianca, Cali, Evangeline, Everly, Fernanda, Heidy, Jaylin, Jennifer, Miracle, Miranda, Rylee, Abby, Adele, Alahia, Cataleya, Crystal, Gia, Harley, Izabella, Julianna, Kali, Keily, Laia, Litzy, Lyanna, Mackenzie, Milani, Nina, Scarlet, Sherlyn, Skyla, Tiffany, Yareli, Yaritza, Ethan, Lucas, Aiden, Muhammad, Jayden, Ryan, Jasper, Liam, Daniel, Noah, Mason, Leo, William, Ayaan, Evan, Nathan, Alexander, Jason, Oliver, Henry, Mohammad, Austin, Kyle, Aaron, Arham, Dylan, Eric, Justin, Matthew, Andrew, Ibrahim, Abdullah, Adam, Ian, James, Benjamin, Tenzin, Logan, Owen, Theodore, Jacob, Ayden, Kai, Kevin, Jonathan, George, Jeremy, Nicholas, Rayan, Zayan, Zayn, Caleb, Max, Leon, Vincent, Adrian, Alex, Alvin, Andy, Jackson, Marcus, Ali, Joseph, Julian, Luke, Mohammed, Yusuf, Christopher, Eason, Jack, Joshua, Kayden, Anthony, Brian, Hunter, Ivan, Tyler, Brandon, Hudson, Winston, Alan, Aryan, Charles, Eden, Gavin, Jaden, Luca, Nathaniel, Samuel, Zachary, Elijah, Isaac, Michael, Wesley, Arthur, David, Md, Musa, Abrar, Allen, Ayan, Cody, Darren, Gabriel, Shayan, Aayan, Ahmed, Aidan, Arjun, Asher, Bryan, Derek, Grayson, Hamza, Jeffrey, Kingsley, Maxwell, Neil, Nolan, Oscar, Steven, Syed, Xavier, Zain, Anson, Connor, John, Levi, Louis, Miles, Theo, Aarav, Albert, Alston, Enzo, Farhan, Felix, Kabir, Omar, Preston, Sean, Tristan, Vihaan, Anderson, Ashton, Christian, Elias, Jake, Jimmy, Landon, Rayyan, Safwan, Saifan, Thomas, Aahil, Ahad, Ahmad, Ahnaf, Amir, Bodhi, Chris, Edison, Elliot, Hayden, Hugo, Ishaan, Jordan, Kaleb, Kenneth, Patrick, Raymond, Rohaan, Ryder, Sebastian, Travis, Chloe, Olivia, Mia, Emma, Sophia, Amelia, Charlotte, Emily, Grace, Isabella, Ella, Ava, Evelyn, Hannah, Aria, Bella, Hailey, Sarah, Arya, Claire, Ellie, Fatima, Kayla, Maryam, Zoe, Audrey, Abigail, Anna, Avery, Alyssa, Maya, Alice, Celine, Emilia, Inaaya, Jasmine, Riley, Sofia, Tenzin, Zoey, Alina, Fiona, Joanna, Anaya, Annie, Ayesha, Eva, Leah, Luna, Sophie, Zainab, Amaya, Angela, Elena, Mila, Anabia, Inaya, Ariana, Manha, Penelope, Zara, Katherine, Nina, Aiza, Aliza, Eleanor, Eliana, Harper, Irene, Jannatul, Kylie, Layla, Natalie, Phoebe, Scarlett, Zahra, Ariel, Ashley, Ayat, Cynthia, Jessica, Jocelyn, Madeline, Sara, Vivian, Amy, Angelina, Catherine, Khadija, Madison, Melody, Rachel, Stella, Abby, Julia, Nora, Ada, Aleena, Allison, Ariella, Athena, Aurora, Elise, Elizabeth, Ivy, Kaylee, Michelle, Naomi, Alexandra, Cecilia, Daisy, Erin, Iris, Isla, Joy, Karen, Kiara, Lily, Mariam, Ophelia, Zoya, Aaliyah, Alisha, Angie, Elina, Esther, Kelly, Kira, Miya, Norah, Rhea, Ruby, Skylar, Stephanie, Violet, Aisha, Alayna, Aliya, Amara, Ayra, Dua, Hazel, Helen, Hoorain, Janice, Jannat, Josephine, Lena, Lydia, Madeleine, Muntaha, Nabiha, Nicole, Selina, Serena, Vanessa, Vicky, David, Joseph, Michael, Moshe, Jacob, James, Jack, Noah, Benjamin, Henry, Daniel, Alexander, Leo, Theodore, Charles, Oliver, Samuel, John, Liam, Abraham, Chaim, Adam, William, Isaac, Mordechai, Ethan, Luca, Lucas, Yosef, Gabriel, Shimon, Matthew, Yitzchok, Nicholas, Miles, Thomas, Asher, Eli, Julian, Yehuda, Dylan, Yisroel, Max, Luke, Anthony, Nathan, Aron, Menachem, Ryan, Owen, Ezra, George, Sebastian, Shlomo, Jackson, Robert, Aiden, Meir, Aaron, Levi, Zachary, Mason, Shmuel, Christopher, Logan, Andrew, Tzvi, Yakov, Shaya, Zev, Avraham, Jonathan, Mark, Maxwell, Leonardo, Solomon, Ali, Ari, Dov, Elliot, Nathaniel, Jonah, Adrian, Arthur, Hudson, Joshua, Mohamed, Shulem, Cameron, Christian, Jordan, Theo, Omar, Yaakov, Leon, Oscar, Rafael, Dovid, Muhammad, Simcha, Simon, Harrison, Mendel, Wyatt, Amir, Lipa, Yechiel, Aidan, Louis, Peter, Vincent, Caleb, Matteo, Evan, Milo, Sam, Usher, Ariel, Elias, Eliyahu, Lorenzo, August, Connor, Aryeh, Judah, Patrick, Roman, Shia, Edward, Hunter, Jude, Ahmed, Eliezer, Nolan, Shmiel, Carter, Cooper, Dean, Finn, Hershy, Salvatore, Akiva, Dominic, Everett, Felix, Naftali, Raphael, Declan, Elliott, Gavin, Joel, Charlie, Giovanni, Justin, Lazer, Mateo, Mendy, Naftuli, Nicolas, Steven, Victor, Yusuf, Austin, Ben, Ibrahim, Jake, Nico, Parker, Shloimy, Albert, Alex, Avrohom, Benzion, Brody, Greyson, Jason, Yehoshua, Yoel, Cole, Colin, Hersh, Wesley, Antonio, Arlo, Beau, Brooks, Chase, Frank, Harry, Hershel, Jasper, Lev, Luka, Ronan, Rowan, Shlome, Cheskel, Elijah, Emmett, Hugo, Jaxon, Kai, Kevin, Martin, River, Shalom, Aharon, Blake, Eitan, Grant, Grayson, Jameson, Maximilian, Moses, Paul, Philip, Shloime, Shloma, Tyler, Yisrael, Alan, Gavriel, Graham, Maximus, Mayer, Noam, Richard, Ryder, Youssef, Binyomin, Elimelech, Israel, Landon, Maxim, Pinchus, Rayan, Remy, Shea, Sonny, Yousef, Berl, Damian, Efraim, Jace, Jayden, Kieran, Morris, Santino, Shaul, Sholom, Abdulloh, Angelo, Avi, Bodhi, Chesky, Elya, Griffin, Hillel, Lukas, Mohammed, Zain, Archer, Axel, Brayden, Bryce, Jad, Jaxson, Jesse, Marco, Otto, Pierce, Yitzchak, Yossi, Ahron, Avrum, Bennett, Calvin, Francis, Frederick, Ian, Ibrohim, Imran, Ivan, Julien, Kyle, Malcolm, Moishe, Raymond, Reid, Selim, Spencer, Xavier, Yida, Yonah, Yonatan, Zayn, Ashton, Bradley, Brandon, Brian, Cyrus, Ellis, Enzo, Eric, Gregory, Hamza, Hayden, Jamie, Malek, Micah, Moishy, Reuven, Rocco, Rory, Stephen, Zalmen, Abubakr, Binyamin, Desmond, Duvid, Emerson, Francesco, Guy, Idris, Laith, Lincoln, Meilech, Menashe, Muhammad Ali, Myles, Oskar, Pinchas, Rhys, Scott, Sean, Shane, Timothy, Yidel, Younis, Amrom, Avery, Ayden, Devin, Dion, Eden, Ezriel, Fishel, Grey, Jakob, Leonard, Nachman, Neil, Noach, Orion, Otis, Ralph, Tomas, Tristan, Viktor, Walter, Weston, Yeshaya, Chaya, Leah, Esther, Olivia, Miriam, Emma, Rachel, Sarah, Charlotte, Sophia, Rivka, Sara, Mia, Chana, Ella, Sofia, Emily, Ava, Gitty, Maya, Lily, Amelia, Zoe, Penelope, Sophie, Faigy, Isabella, Victoria, Mila, Malky, Alexandra, Elizabeth, Emilia, Abigail, Rivky, Eleanor, Baila, Hannah, Grace, Avery, Chloe, Julia, Nora, Anna, Eva, Layla, Malka, Evelyn, Aria, Eliana, Madison, Stella, Ruby, Violet, Rose, Gabriella, Josephine, Lucy, Isla, Raizy, Scarlett, Sienna, Dina, Riley, Noa, Harper, Naomi, Valentina, Devorah, Hindy, Margot, Chany, Clara, Lillian, Sadie, Shaindy, Juliette, Luna, Toby, Vivian, Chava, Esty, Natalie, Rebecca, Isabel, Libby, Maria, Sury, Alice, Ariana, Talia, Claire, Molly, Yitty, Caroline, Eloise, Hazel, Margaret, Sloane, Ariella, Isabelle, Madeline, Yides, Nina, Quinn, Beatrice, Bella, Vera, Adele, Amina, Audrey, Ellie, Fraidy, Lila, Liliana, Lucia, Lyla, Alessia, Aurora, Francesca, Gianna, Kayla, Maeve, Ada, Ayla, Fiona, Goldy, Jane, Pearl, Cecilia, Henny, Ruchy, Hailey, Madeleine, Nechama, Celine, Frances, Liv, Skylar, Angelina, Bruchy, Catherine, Gemma, Juliana, Lina, Mindy, Nicole, Sabrina, Adeline, Annabelle, Bracha, Eliza, Elle, Juliet, June, Sasha, Alessandra, Arianna, Chavy, Lea, Mariam, Olive, Parker, Samantha, Siena, Yael, Yehudis, Adina, Aisha, Alma, Blima, Breindy, Dylan, Etty, Faiga, Layan, Pessy, Vivienne, Yocheved, Zissy, Adriana, Anastasia, Diana, Elisheva, Hinda, Iris, Kaia, Laila, Maryam, Poppy, Rochel, Serena, Shoshana, Simone, Sydney, Zoey, Adelaide, Ahuva, Blimy, Elena, Eve, Frimet, Imona, Lana, Leila, Lena, Liba, Mackenzie, Reese, Veronica, Addison, Colette, Devora, Eden, Edith, Georgia, Hadassah, Lia, Liana, Louise, Raizel, Batsheva, Blake, Emmy, Jenna, Katherine, Madelyn, Mary, Paige, Perel, Phoebe, Savannah, Summer, Willa, Cora, Esme, Frady, Genevieve, Gittel, Jana, Lilah, Michelle, Piper, Ruth, Shaindel, Amelie, Amira, Ana, Aviva, Elise, Everly, Frida, Hanna, Ivy, Keira, Lara, Lilly, Luciana, Mira, Remi, Roizy, Sima, Aliza, Arya, Autumn, Camilla, Charlie, Emerson, Giuliana, Idy, Julianna, Laura, Lola, Louisa, Malika, Matilda, Nova, Rosa, Shevy, Suri, Willow, Alina, Alyssa, Annabel, Daniella, Daphne, Elliott, Evie, Iymona, Jade, Jessica, Kamila, Morgan, Nadia, Remy, Romy, Sylvie, Tziporah, Vienna, Zelda, Allison, Athena, Aurelia, Ayala, Bianca, Bina, Brooke, Dana, Devoiry, Emery, Estelle, Fradel, Gabriela, Gabrielle, Georgina, Golda, Jasmine, Malak, Muslima, Nava, Perry, Shaina, Sylvia, Thea, Tzippy, Yasmina, Anya, Aubrey, Aya, Brielle, Camila, Celia, Dalia, Dua, Ester, Goldie, Helena, Hendy, Ines, Jacqueline, Leia, Livia, Lucille, Meira, Melissa, Michal, Milana, Millie, Noor, Peyton, Reem, Rosie, Ruchel, Samira, Shifra, Shira, Tzipora, Winnie, Zara, Aliya, Amara, Astrid, Blair, Brianna, Brooklyn, Camille, Celeste, Dahlia, Devory, Fatima, Frieda, Giovanna, Juniper, Kira, Lielle, Lydia, Miri, Natalia, Noelle, Reizy, Riva, Serafina, Tessa, Noah, Amir, Liam, Mason, Elijah, King, Josiah, Aiden, Ethan, Jayden, Carter, Zion, Jeremiah, Amari, Messiah, Joshua, Kayden, Kyrie, Legend, Kairo, Michael, Bryson, Ryan, Mohamed, Christian, Daniel, Cairo, Logan, Adonis, Kaiden, Karter, Cameron, David, Chase, Nasir, Ibrahim, Isaiah, Aaron, Jace, Jayce, Samuel, Ayden, Ashton, Caleb, Hunter, Tyler, Emmanuel, Anthony, Jacob, Jonathan, Alexander, Jordan, Malachi, Nicholas, Xavier, Christopher, Dylan, Elias, Gabriel, Kenzo, Micah, Prince, Jaxon, Kai, Matthew, Sebastian, Levi, Justin, Jaden, Jason, Mamadou, Austin, Avery, Kaleb, Zaire, Ezra, Muhammad, Nathan, Nathaniel, William, Asher, Benjamin, Eli, Isaac, Myles, Nolan, Adrian, Andrew, Bryce, Chance, Israel, Joel, Justice, Kamari, Malik, Royal, Tristan, Ezekiel, James, John, Jonah, Kevin, Roman, Shiloh, Sincere, Yusuf, Abdoulaye, Caiden, Jaxson, Lucas, Omar, Omari, Ace, Cayden, Jasiah, Jesse, Joseph, Khalil, Mekhi, Miles, Preston, Royce, Saint, Thierno, Adam, Alex, Hassan, Jayceon, Kyle, Major, Makai, Oumar, Alpha, Amadou, Brandon, Grayson, Ibrahima, Jackson, Jaiden, Julian, Landon, Quincy, Zachary, Zane, Zyaire, Boubacar, Bryan, Kyro, Mohammed, Mouhamed, Moussa, Orion, Raphael, Richard, Thomas, Ahmed, Andre, Caden, Dallas, Eric, Ermias, Evan, Hayden, Ismael, Jamir, Jaylen, Kaden, Leon, Ava, Madison, Skylar, Riley, Amelia, Olivia, Zuri, Isabella, Fatoumata, Serenity, Zoey, Chloe, Aria, Fatima, Leah, Melody, Amina, Mariam, Nova, Aaliyah, Brielle, Layla, Mia, Grace, Nyla, Sophia, Aisha, Kylie, Miracle, Wynter, Autumn, Kayla, Kehlani, Reign, Savannah, Abigail, Aminata, Amira, Harmony, Leilani, Naomi, Zoe, Ariah, Bella, Gianna, Nevaeh, Phoenix, Taylor, Genesis, Amiyah, Emma, Faith, Jade, Journee, London, Makayla, Mya, Rylee, Gabriella, Jayla, Kali, Kennedy, Malia, Nylah, Summer, Victoria, Ariana, Arielle, Gabrielle, Hannah, Jordyn, Maliyah, Paige, Peyton, Alani, Amaya, Arya, Destiny, Khloe, Paris, Sarai, Sienna, Ariel, Avery, Dream, Ella, Imani, Kaylee, Lyric, Aicha, Amara, Amora, Aubrey, Dior, Khadijah, Kimora, Leila, Mackenzie, Mariama, Maya, Milan, Royalty, Ryan, Sarah, Aliyah, Bintou, Isabelle, Journey, Laila, Melanie, Michelle, Milani, Sage, Shiloh, Winter, Alexis, Amirah, Emily, Hailey, Hope, Jaliyah, Jasmine, Trinity, Zainab, Anaya, Arianna, Cali, Elizabeth, Eva, Jewel, Kori, Londyn, Luna, Maryam, Nia, Skylah, Amayah, Aniyah, Aurora, Brianna, Chelsea, Egypt, Eliana, Jada, Janiyah, Kalani, Lauren, Mckenzie, Morgan, Sapphire, Tori, Zara, Zora, Amani, Ariyah, Eden, Gia, Hawa, Kamiyah, Kenzie, Khadija, Khaleesi, Lauryn, Nailah, Nala, Oumou, Royal, Sanai, Sariyah, Sevyn, Zariah, Zhuri, SCARLETT, SERENA, SHAINA, SHAINDEL, SHAINDY, SHEVY, SHIFRA, SHIRA, SHOSHANA, SIENA, SIENNA, SIMA, SIMI, SIMONE, SKYLAR, SLOANE, SOFIA, SOPHIA, SOPHIE, STELLA, SUMMER, SURI, SURY, SYDNEY, SYLVIA, TALIA, TAMAR, TAYLOR, TESSA, TOBY, TZIPORA, TZIPORAH, TZIPPY, TZIVIA, VALENTINA, VALERIE, VANESSA, VERA, VERONICA, VERONIKA, VICTORIA, VIOLET, VIVIAN, VIVIENNE, WILLA, YACHET, YAEL, YASMINE, YEHUDIS, YIDES, YITTY, YOCHEVED, ZISSY, ZOE, ZOEY, AARAV, AARON, ABDUL, ABDULLAH, ADAM, ADITYA, ADRIAN, AHMED, AIDAN, AIDEN, ALAN, ALEX, ALEXANDER, ALI, ALLEN, ALVIN, ANDREW, ANDY, ANSON, ANTHONY, ARJUN, ARMAAN, ARYAN, AUSTIN, AYAAN, AYDEN, BENJAMIN, BENSON, BRANDON, BRIAN, BRYAN, CALEB, CALVIN, CARSON, CHARLES, CHRISTIAN, CHRISTOPHER, CODY, CONNOR, DANIEL, DANNY, DARREN, DAVID, DEREK, DEVIN, DYLAN, EASON, EDISON, EDWIN, ELIJAH, ELVIS, ERIC, ETHAN, EVAN, FARHAN, FELIX, GABRIEL, GAVIN, GEORGE, HARRISON, HAYDEN, HENRY, IAN, IBRAHIM, ISAAC, ISHAAN, IVAN, JACK, JACKSON, JACKY, JACOB, JADEN, JAKE, JAMES, JASON, JAY, JAYDEN, JEFFREY, JEREMY, JERRY, JIA, JOHN, JOHNNY, JONATHAN, JORDAN, JOSEPH, JOSHUA, JULIAN, JUSTIN, KAI, KEVIN, KINGSLEY, KYLE, LAWRENCE, LEO, LEON, LIAM, LOGAN, LOUIS, LUCAS, LUKE, MARCUS, MARTIN, MASON, MATTHEW, MAX, MICHAEL, MILES, MOHAMED, MOHAMMAD, MOHAMMED, MUHAMMAD, NATHAN, NATHANIEL, NELSON, NICHOLAS, NOAH, OLIVER, OSCAR, OWEN, PATRICK, PETER, RAYAN, RAYMOND, RICHARD, RICKY, ROHAN, RYAN, SAMUEL, SEAN, SEBASTIAN, SHAWN, SIMON, STANLEY, STEVEN, SYED, TENZIN, TERRY, THOMAS, TIMOTHY, TONY, TRAVIS, TYLER, VICTOR, VINCENT, WILLIAM, WILSON, XAVIER, ZACHARY, ZAIN, ZAYAN, AARON, ABDOUL, ABDOULAYE, ADAM, ADEN, ADONIS, ADRIAN, AHMED, AIDAN, AIDEN, ALEXANDER, ALI, ALIJAH, ALVIN, AMADOU, AMAR'E, AMARE, AMARI, AMIR, ANDRE, ANDREW, ANGEL, ANTHONY, ANTONIO, ASHTON, AUSTIN, AVERY, AYDEN, BENJAMIN, BLAKE, BRANDON, BRIAN, BRYAN, BRYCE, BRYSON, CALEB, CAMERON, CARMELO, CARTER, CAYDEN, CHAD, CHANCE, CHARLES, CHASE, CHRIS, CHRISTIAN, CHRISTOPHER, CODY, COREY, DANIEL, DARIUS, DARREN, DAVID, DERRICK, DEVIN, DEVON, DOMINIC, DONOVAN, DWAYNE, DYLAN, EDWARD, ELI, ELIAS, ELIJAH, EMMANUEL, ERIC, ETHAN, EVAN, GABRIEL, GAVIN, GEORGE, GIOVANNI, HASSAN, HAYDEN, HUNTER, IAN, IBRAHIM, IBRAHIMA, ISAAC, ISAIAH, ISHMAEL, ISIAH, JACE, JACKSON, JACOB, JADEN, JAHEIM, JAHMIR, JAIDEN, JALEN, JAMAL, JAMEL, JAMES, JAMIR, JARED, JASIAH, JASON, JAYDEN, JAYLEN, JAYSON, JELANI, JEREMIAH, JEREMY, JERMAINE, JESSE, JOEL, JOHN, JONATHAN, JORDAN, JOSEPH, JOSHUA, JOSIAH, JULIAN, JUSTICE, JUSTIN, KADEN, KAI, KAIDEN, KALEB, KAMARI, KAMERON, KAYDEN, KEITH, KENNETH, KEVIN, KHALIL, KING, KIYAN, KYLE, KYMANI, LAMAR, LANDON, LEVI, LIAM, LOGAN, LUCAS, MAKAI, MALACHI, MALCOLM, MALIK, MAMADOU, MARC, MARCUS, MARQUIS, MASON, MATTHEW, MAURICE, MEKHI, MESSIAH, MICAH, MICHAEL, MILES, MOHAMED, MOHAMMED, MOUSSA, MYLES, NANA, NASIR, NATHAN, NATHANIEL, NEHEMIAH, NICHOLAS, NICOLAS, NIGEL, NOAH, OMAR, OMARI, OUSMANE, PATRICK, PRESTON, PRINCE, QUINCY, RICARDO, RICHARD, ROBERT, RODNEY, RYAN, SAMUEL, SEAN, SEBASTIAN, SEKOU, SETH, SHAWN, SINCERE, STEPHEN, STEVEN, TERRELL, TERRENCE, TIMOTHY, TRAVIS, TRISTAN, TROY, TYLER, VICTOR, WILLIAM, XAVIER, ZACHARY, ZAIRE, ZION, ZYAIRE, AARON, ABDIEL, ABEL, ABRAHAM, ADAM, ADEN, ADONIS, ADRIAN, ADRIEL, AIDAN, AIDEN, ALAN, ALBERT, ALBERTO, ALDO, ALEJANDRO, ALEX, ALEXANDER, ALEXIS, ALFREDO, ALLAN, ALLEN, ALVIN, AMIR, ANDERSON, ANDRE, ANDRES, ANDREW, ANDY, ANGEL, ANGELO, ANTHONY, ANTONIO, ARIEL, ARMANDO, ARMANI, ARTURO, ASHTON, AUSTIN, AVERY, AXEL, AYDEN, BENJAMIN, BRADLEY, BRANDON, BRAYAN, BRAYDEN, BRIAN, BRYAN, BRYANT, BRYCE, BYRON, CALEB, CAMERON, CARLOS, CARMELO, CESAR, ABIGAIL, ADA, AISHA, AIZA, ALEENA, ALEXA, ALEXANDRA, ALICE, ALINA, ALISHA, ALIYAH, ALLISON, ALYSSA, AMANDA, AMBER, AMELIA, AMY, ANGEL, ANGELA, ANGELINA, ANGIE, ANIKA, ANNA, ANNABELLE, ANNIE, ARIA, ARIANA, ARIANNA, ARYA, ASHLEY, AUDREY, AVA, AYESHA, BELLA, BONNIE, BRIANNA, CATHERINE, CECILIA, CHARLOTTE, CHLOE, CHRISTINA, CHRISTINE, CHRISTY, CINDY, CLAIRE, CYNTHIA, DAISY, DIYA, EILEEN, ELAINE, ELENA, ELINA, ELIZABETH, ELLA, EMILY, EMMA, ERICA, ERIKA, ERIN, ESHAL, EVA, EVELYN, FATIMA, FIONA, GIANNA, GRACE, HAILEY, HANNAH, HELEN, IRENE, IRIS, ISABEL, ISABELLA, ISABELLE, IVY, JANICE, JANNAT, JASMINE, JENNIFER, JENNY, JESSICA, JESSIE, JIA, JOANNA, JOCELYN, JOY, JOYCE, JULIA, KAITLYN, KAREN, KATE, KATELYN, KATHERINE, KATIE, KAYLA, KAYLEE, KELLY, KHLOE, KYLIE, LAUREN, LEAH, LEELA, LILLIAN, LILY, MADISON, MAGGIE, MANDY, MARYAM, MAYA, MEGAN, MELODY, MIA, MICHELLE, MILA, MINA, NATALIE, NICOLE, NINA, OLIVIA, PHOEBE, QUEENIE, RACHEL, RAINA, REBECCA, RENEE, SABRINA, SAMANTHA, SARA, SARAH, SELENA, SELINA, SERENA, SHARON, SHIRLEY, SOFIA, SOPHIA, SOPHIE, STELLA, STEPHANIE, SYEDA, TANISHA, TENZIN, TIFFANY, TINA, VANESSA, VICKY, VICTORIA, VIVIAN, WENDY, WINNIE, XIN, YU, ZAHRA, ZAINAB, ZARA, ZOE, AALIYAH, ABIGAIL, ADDISON, AICHA, AISHA, AISSATOU, ALANA, ALEXIS, ALICIA, ALIYAH, ALYSSA, AMANDA, AMANI, AMAYA, AMBER, AMELIA, AMINA, AMINATA, AMIRA, AMIRAH, AMIYAH, ANAYA, ANGEL, ANGELINA, ANIYA, ANIYAH, ARIA, ARIANA, ARIANNA, ARIEL, ARIELLE, ASHLEY, AUBREY, AUTUMN, AVA, BRIANNA, BRIELLE, BROOKE, CAMILLE, CHELSEA, CHEYENNE, CHLOE, CHRISTINA, DAKOTA, DANIELLE, DESTINY, DYLAN, EDEN, EGYPT, ELIZABETH, EMILY, EMMA, ERIN, ESSENCE, EVA, FAITH, FANTA, FATIMA, FATOU, FATOUMATA, GABRIELLA, GABRIELLE, GENESIS, GRACE, HAILEY, HANNAH, HARMONY, HAWA, HEAVEN, IMANI, ISABELLA, JADA, JADE, JALIYAH, JANELLE, JANIYA, ARELY, JANIYAH, JASMINE, JAYDA, JAYLA, JORDYN, JULIA, KAI, KAITLYN, KALIYAH, KAMIYAH, KAYLA, KAYLEE, KELSEY, KENDRA, KENNEDY, KENYA, KHLOE, KIARA, KIMORA, KYLA, KYLIE, LAILA, LAUREN, LAYLA, LEAH, LEILANI, LONDON, LONDYN, LYRIC, MACKENZIE, MADISON, MAKAYLA, MALIA, MALIYAH, MARIAH, MARIAM, MARIAMA, MARYAM, MAYA, MCKENZIE, MELANIE, MIA, MICHELLE, MIKAYLA, MILAN, MORGAN, MYA, NADIA, NAHLA, NANA, NAOMI, NATALIA, NATALIE, NEVAEH, NIA, NYLA, NYLAH, OLIVIA, PAIGE, PARIS, PEYTON, PRINCESS, RACHEL, REBECCA, RILEY, SADE, SAMANTHA, SAMARA, SAMIYA, SAMIYAH, SANAA, SANAI, SANIYA, ARIANA, SANIYAH, SARAH, SARAI, SARIAH, SASHA, SAVANNAH, SERENITY, SHANIA, SHANIYA, SHILOH, SKYE, SKYLA, SKYLAR, SOPHIA, SORAYA, SUMMER, SYDNEY, SYMPHONY, TABITHA, TAMIA, TARAJI, TAYLOR, TIANA, TIANNA, TORI, TRINITY, VICTORIA, ZAHARA, ZANIYAH, ZARA, ZARIA, ZARIAH, ZOE, ZOEY, ZURI, AALIYAH, ABBY, ABIGAIL, ADRIANA, ADRIANNA, AILEEN, AIMEE, AISHA, ALANA, ALEJANDRA, ALESSANDRA, ALEXA, ALEXANDRA, ALICE, ALICIA, ALISON, ALISSON, ALIYAH, ALLISON, ALLYSON, ALONDRA, ALYSON, ALYSSA, AMANDA, AMAYA, AMBER, AMELIA, AMY, ANA, ANALIA, ANAYA, ANDREA, ANGELA, ANGELICA, ANGELINA, ANGELIQUE, ANGELY, ANGIE, ANIYAH, ANNA, ANNABELLE, APRIL, ARIANNA, ARIANNY, ARIEL, ARIELLA, ASHLEY, ASHLY, ATHENA, AUBREY, AURORA, AVA, AYLEEN, AYLIN, BELLA, BIANCA, BRENDA, BRIANA, BRIANNA, BRIANNY, BRIELLE, BRITNEY, BRITTANY, BRYANNA, CAMILA, CARMEN, CAROLINA, CAROLINE, CASSANDRA, CELESTE, CHARLOTTE, CHELSEA, CHLOE, CHRISTINA, CINDY, CLARA, CRISTINA, CRYSTAL, CYNTHIA, DAISY, DAMARIS, DANA, DANIELA, DANIELLA, DANIELLE, DANNA, DAYANA, DELILAH, DENISE, DESTINY, DIANA, DULCE, EILEEN, ELENA, ELIANA, ELIANNA, ELIANNY, ELISA, ELIZABETH, ELLA, EMELY, EMILY, EMMA, ERIKA, ESMERALDA, ESTHER, ESTRELLA, EVA, EVELYN, FAITH, FATIMA, FERNANDA, GABRIELA, GABRIELLA, GABRIELLE, GENESIS, GERALDINE, GIA, GIANNA, GISELLE, GRACE, GUADALUPE, HAILEY, HALEY, HANNAH, HAYLEE, HAYLEY, HAZEL, HEAVEN, HEIDI, HEIDY, HELEN, IMANI, INGRID, IRENE, IRIS, ISABEL, ISABELA, ISABELLA, ISABELLE, ISIS, ITZEL, IZABELLA, JACQUELINE, JADA, JADE, JAELYNN, JAMIE, JANELLE, JASLENE, JASMIN, JASMINE, JAYDA, JAYLA, JAYLAH, JAYLEEN, JAYLENE, JAYLIN, JAYLYN, JAZLYN, JAZMIN, JAZMINE, JENNIFER, JESSICA, JIMENA, JOCELYN, JOHANNA, JOSELYN, JULIA, JULIANA, JULIANNA, JULIET, JULIETTE, JULISSA, KAELYN, KAILEY, KAILYN, KAITLYN, KAMILA, KAREN, KARLA, KATE, KATELYN, KATELYNN, KATHERINE, KATIE, KAYLA, KAYLEE, KAYLEEN, KAYLEIGH, KAYLIE, KAYLIN, KEILY, KELLY, KEYLA, KHLOE, KIARA, KIMBERLY, KRYSTAL, KYLEE, KYLIE, LAILA, LAURA, LAUREN, LAYLA, LEA, LEAH, LEILA, LEILANI, LESLEY, LESLIE, LESLY, LEYLA, LIA, LIANA, LILIANA, LILY, LINDSAY, LIZBETH, LONDON, LUCIA, LUNA, LUZ, MADELINE, MADELYN, MADISON, MAKAYLA, MARIA, MARIAH, MARIANA, MARILYN, MARISOL, MAYA, MEGAN, MELANIE, MELANY, MELISSA, MELODY, MIA, MIAH, MICHELLE, MIKAELA, MIKAYLA, MILA, MILEY, MIRANDA, MIRIAM, MYA, NADIA, NANCY, NAOMI, NATALIA, NATALIE, NATALY, NATASHA, NATHALIA, NATHALIE, NATHALY, NAYELI, NEVAEH, NICOLE, NINA, NOEMI, NYLA, OLIVIA, PAOLA, PENELOPE, PERLA, RACHEL, RAQUEL, REBECCA, RIHANNA, RILEY, ROSA, ROSE, ROSELYN, RUBY, SABRINA, SADIE, SAMANTHA, SAMARA, SARA, SARAH, SARAI, SARIAH, SASHA, SAVANNA, SAVANNAH, SCARLET, SCARLETT, SELENA, SERENITY, SHERLYN, SHIRLEY, SIENNA, SKYLA, SKYLAR, SOFIA, SOPHIA, SOPHIE, STACY, STELLA, STEPHANIE, STEPHANY, TATIANA, TAYLOR, TIANA, TIFFANY, VALENTINA, VALERIA, VALERIE, VANESSA, VERONICA, VICTORIA, VIOLET, VIVIANA, WENDY, XIMENA, YAMILET, YARETZI, ZOE, ZOEY, ABIGAIL, ADDISON, ADELE, ADELINE, ADINA, ADRIANA, ADRIANNA, AHUVA, ALESSANDRA, ALESSIA, ALEXA, ALEXANDRA, ALEXIS, ALICE, ALICIA, ALINA, ALISA, ALIZA, ALLISON, ALYSSA, AMANDA, AMELIA, AMELIE, AMINA, AMIRA, AMY, ANASTASIA, ANGELICA, ANGELINA, ANNA, ANNABEL, ANNABELLE, ARIANA, ARIANNA, ARIEL, ARIELA, ARIELLA, ASHLEY, ATARA, AUBREY, AUDREY, AUTUMN, AVA, AVERY, AVIGAIL, AVIVA, AYLA, BAILA, BARBARA, BATSHEVA, BATYA, BEATRICE, BELLA, BIANCA, BLAKE, BLIMA, BLIMY, BRACHA, BREINDY, BRIANNA, BRIDGET, BROOKE, BROOKLYN, BRUCHA, BRUCHY, BRYNN, CAITLIN, CAMERON, CAROLINE, CASEY, CATHERINE, CECILIA, CELIA, CHANA, CHANY, CHARLIE, CHARLOTTE, CHAVA, CHAVY, CHAYA, CHLOE, CHRISTINA, CLAIRE, CLARA, COLETTE, CORA, DAHLIA, DAISY, DALIA, DANIELA, DANIELLA, DANIELLE, DEVORA, DEVORAH, DIANA, DINA, DYLAN, EDEN, ELEANOR, ELENA, ELIANA, ELISE, ELISHEVA, ELIZA, ELIZABETH, ELLA, ELLE, ELLIANA, ELLIE, ELOISE, EMERSON, EMILIA, EMILY, EMMA, ERIN, ESTER, ESTHER, ESTY, ETTY, EVA, EVE, EVELYN, FAIGA, FAIGY, FINLEY, FIONA, FRADEL, FRAIDY, FRANCESCA, FRIMET, GABRIELA, GABRIELLA, GABRIELLE, GEMMA, GENEVIEVE, GEORGIA, GIA, GIANNA, GIOVANNA, GITTEL, GITTY, GIULIANA, GOLDA, GOLDY, GRACE, GRETA, HADASSA, HADASSAH, HAILEY, HANNA, HANNAH, HARPER, HAZEL, HENNY, HINDY, IDY, ILANA, IRIS, ISABEL, ISABELLA, ISABELLE, ISLA, IVY, IZABELLA, JACQUELINE, JANE, JASMINE, JENNA, JESSICA, JORDYN, JOSEPHINE, JOYCE, JULIA, JULIANA, JULIANNA, JULIE, JULIET, JULIETTE, KAITLYN, KATE, KATHERINE, KATHRYN, KAYLA, KAYLEE, KIRA, FRANKLIN, KYLIE, LAILA, LARA, LAURA, LAUREN, LAYLA, LEA, LEAH, LEILA, LENA, LEORA, LIA, LIANA, LIBA, LIBBY, LILA, LILAH, LILIANA, LILLIAN, LILLY, LILY, LINA, LOLA, LONDON, LUCIA, LUCY, LYLA, MACKENZIE, MADELEINE, MADELINE, MADELYN, MADISON, MAEVE, MAKAYLA, MALAK, MALKA, MALKY, MARGARET, MARIA, MARIAM, MARY, MATILDA, MAYA, MELANIE, MIA, MICHAELA, MICHAL, MICHELLE, MIKAYLA, MILA, MILENA, MINDY, MIRI, MIRIAM, MOLLY, MORGAN, NAOMI, NATALIA, NATALIE, NECHAMA, NICOLE, NICOLETTE, NINA, NOA, NORA, OLIVIA, PAIGE, PARKER, PEARL, PENELOPE, PEREL, PESSY, PHOEBE, PIPER, QUINN, RACHEL, RAIZEL, RAIZY, REBECCA, REESE, RIFKA, RIFKY, RILEY, RIVKA, RIVKY, ROCHEL, ROIZY, ROSE, RUBY, RUCHY, RUTH, RYAN, SABRINA, SADIE, SALMA, SAMANTHA, SARA, SARAH, SASHA, SAVANNAH, CHARLES, CHASE, CHRIS, CHRISTIAN, CHRISTOPHER, CRISTIAN, CRISTOFER, CRISTOPHER, DAMIAN, DAMIEN, DANIEL, DANNY, DANTE, DARIEL, DARWIN, DAVID, DENNIS, DERECK, DEREK, DERICK, DEVIN, DIEGO, DOMINIC, DOMINICK, DYLAN, EDDIE, EDGAR, EDISON, EDUARDO, EDWARD, EDWIN, ELI, ELIAN, ELIAS, ELIJAH, ELVIS, EMANUEL, EMILIANO, EMILIO, EMMANUEL, ENRIQUE, ERIC, ERICK, ERIK, ESTEBAN, ETHAN, EVAN, EZEKIEL, EZEQUIEL, FELIX, FERNANDO, FRANCISCO, FRANK, FREDDY, GABRIEL, GAEL, GAVIN, GEORGE, GERARDO, GIOVANI, GIOVANNI, GIOVANNY, GREGORY, GUSTAVO, HECTOR, HENRY, HUNTER, IAN, IKER, ISAAC, ISAIAH, ISMAEL, ISRAEL, IVAN, JACE, JACK, JACOB, JADEN, JADIEL, JAIDEN, JAIME, JAKE, JAMES, JANIEL, JANUEL, JARED, JARIEL, JASON, JAVIER, JAY, JAYCE, JAYDEN, JAYSON, JEAN, JEANCARLOS, JEFFERSON, JEFFREY, JENCARLOS, JEREMIAH, JEREMIAS, JEREMY, JERRY, JESSE, JESUS, JIMMY, JOAQUIN, JOEL, JOHAN, JOHANN, JOHN, JOHNATHAN, JOHNNY, JONAH, JONATHAN, JORDAN, JORGE, JOSE, JOSEPH, JOSHUA, JOSIAH, JOSUE, JUAN, JULIAN, JULIEN, JULIO, JULIUS, JUNIOR, JUSTIN, KADEN, KAYDEN, KELVIN, KENNETH, KENNY, KEVIN, LANDON, LARRY, LEANDRO, LEO, LEONARDO, LEONEL, LIAM, LOGAN, LORENZO, LOUIS, LUCAS, LUIS, LUKAS, LUKE, MANUEL, MARCO, MARCOS, MARCUS, MARIO, MARK, MARLON, MARTIN, MARVIN, MASON, MATEO, MATHEW, MATIAS, MATTHEW, MAURICIO, MAX, MAXIMILIANO, MAXIMO, MAXIMUS, MELVIN, MICHAEL, MIGUEL, MIKE, MOISES, NATHAN, NATHANIEL, NELSON, NICHOLAS, NICOLAS, NOAH, NOEL, OLIVER, OMAR, OSCAR, OWEN, PABLO, PATRICK, PAUL, PEDRO, PETER, PRESTON, PRINCE, RAFAEL, RANDY, RAYMOND, RICARDO, RICHARD, RILEY, ROBERT, ROBERTO, RODRIGO, ROGER, ROMEO, ROYCE, RUBEN, RYAN, SAMUEL, SANTIAGO, SEAN, SEBASTIAN, SERGIO, SHANE, SHAWN, STEPHEN, STEVE, STEVEN, TAYLOR, THOMAS, TIMOTHY, TOMAS, TRAVIS, TRISTAN, TYLER, URIEL, VICTOR, VINCENT, WILLIAM, WILSON, XAVIER, YADIEL, YAHIR, YAIR, YANDEL, YANIEL, YARIEL, YERIK, ZACHARY, ZION, AARON, ABRAHAM, ADAM, ADRIAN, AHARON, AHMED, AHRON, AIDAN, AIDEN, AKIVA, ALAN, ALBERT, ALEC, ALEX, ALEXANDER, ALI, ALLEN, AMIR, AMROM, ANDREW, ANGELO, ANTHONY, ANTONIO, ARI, ARIEL, ARON, ARTHUR, ARYEH, ASHER, ASHTON, AUGUST, AUGUSTUS, AUSTIN, AVI, AVRAHAM, AVROHOM, AVRUM, AYDEN, BARUCH, BECKETT, BEN, BENJAMIN, BENNETT, BENZION, BERISH, BINYOMIN, BLAKE, BORUCH, BRADY, BRANDON, BRAYDEN, BRENDAN, BRIAN, BRODY, BRYAN, BRYCE, CADEN, CALEB, CALVIN, CAMERON, CARMINE, CARTER, CHAIM, CHARLES, CHARLIE, CHASE, CHESKEL, CHRISTIAN, CHRISTOPHER, COLE, COLIN, CONNOR, CONOR, COOPER, DANIEL, DASHIELL, DAVID, DEAN, DECLAN, DENNIS, DEREK, DEVIN, DOMINIC, DOMINICK, DOV, DOVID, DYLAN, EDWARD, EFRAIM, EITAN, ELI, ELIAS, ELIEZER, ELIJAH, ELIMELECH, ELIYAHU, ELLIOT, ELLIOTT, ELLIS, ERIC, ETHAN, EVAN, EZRA, FELIX, FILIP, FINN, FRANCESCO, FRANK, GABRIEL, GAVIN, GAVRIEL, GEORGE, GIOVANNI, GRAHAM, GRANT, GRAYSON, GREGORY, GREYSON, GRIFFIN, HARRISON, HARRY, HENRY, HERSH, HERSHEL, HERSHY, HUDSON, HUGO, HUNTER, IAN, ILAN, ISAAC, ISAIAH, ISRAEL, IVAN, JACK, JACKSON, JACOB, JAKE, JAMES, JASON, JASPER, JAYDEN, JESSE, JOEL, JOHN, JONAH, JONATHAN, JORDAN, JOSEPH, JOSHUA, JUDAH, JUDE, JULIAN, JUSTIN, KACPER, KAI, KENNETH, KEVIN, KIERAN, KYLE, LANDON, LAZER, LEO, LEON, LEONARDO, LEV, LEVI, LIAM, LIPA, LOGAN, LORENZO, LOUIS, LUCA, LUCAS, LUKA, LUKAS, LUKE, MAKSIM, MARC, MARCO, MARCUS, MARK, MARTIN, MASON, MATEO, MATTEO, MATTHEW, MAX, MAXIM, MAXIMILIAN, MAXIMUS, MAXWELL, MAYER, MEILECH, MEIR, MENACHEM, MENASHE, MENDEL, MENDY, MICAH, MICHAEL, MILES, MILO, MOHAMED, MOHAMMED, MOISHE, MORDECHAI, MORRIS, MOSES, MOSHE, NAFTALI, NAFTULI, NATHAN, NATHANIEL, NICHOLAS, NICO, NICOLAS, NIKOLAS, NOAH, NOAM, NOLAN, NOSSON, OLIVER, OMAR, OSCAR, OWEN, PARKER, PATRICK, PAUL, PETER, PHILIP, PINCHAS, PINCHUS, QUINN, RAFAEL, RAPHAEL, RAYAN, REED, REID, RICHARD, RILEY, ROBERT, ROCCO, ROMAN, ROWAN, RYAN, RYDER, SALVATORE, SAM, SAMIR, SAMUEL, SANTINO, SEAN, SEBASTIAN, SHALOM, SHANE, SHAUL, SHAYA, SHEA, SHIA, SHIMON, SHLOIME, SHLOIMY, SHLOME, SHLOMO, SHMIEL, SHMUEL, SHNEUR, SHOLOM, SHULEM, SIDNEY, SILAS, SIMCHA, SIMON, SOLOMON, SPENCER, STEPHEN, STEVEN, THEODORE, THOMAS, TIMOTHY, TRISTAN, TYLER, TZVI, USHER, VICTOR, VINCENT, VINCENZO, WESLEY, WILLIAM, WYATT, XAVIER, YAAKOV, YAKOV, YASEEN, YECHEZKEL, YECHIEL, YEHOSHUA, YEHUDA, YEHUDAH, YIDA, YIDEL, YISRAEL, YISROEL, YITZCHAK, YITZCHOK, YOEL, YONAH, YOSEF, YOUSEF, YOUSSEF, ZACHARY, ZALMEN, ZEV, ABBY, ABIGAIL, ADA, AISHA, ALEXANDRA, ALEXIS, ALICE, ALINA, ALISHA, ALLISON, ALYSSA, AMANDA, AMAYA, AMBER, AMELIA, AMINA, AMY, ANAYA, ANGEL, ANGELA, ANGELINA, ANISHA, ANNA, ANNABELLE, ANNIE, ANYA, ARIA, ARIANA, ARIANNA, ARIEL, ARISHA, ARYA, ASHLEY, ATHENA, AUDREY, AVA, AVERY, AYESHA, BELLA, BONNIE, BRIANNA, CAROLINE, CATHERINE, CECILIA, CHARLOTTE, CHELSEA, CHLOE, CHRISTINA, CHRISTINE, CINDY, CLAIRE, CONNIE, CRYSTAL, CYNTHIA, DAPHNE, DIYA, DORIS, EILEEN, ELAINE, ELEANOR, ELENA, ELINA, ELIZABETH, ELLA, ELLIE, EMILY, EMMA, ERICA, ERIN, ESTHER, EVA, EVELYN, FAITH, FATIMA, FIONA, GABRIELLA, GRACE, HAFSA, HAILEY, HANNAH, HAREEM, HAZEL, HELEN, IRENE, IRIS, ISABELLA, ISABELLE, IVY, JANICE, JANNAT, JASMINE, JENNIFER, JENNY, JESSICA, JOANNA, JOCELYN, JOLIN, JOY, JOYCE, JUDY, JULIA, KAITLYN, KAREN, KATE, KATELYN, KATHERINE, KATIE, KAYLA, KAYLEE, KELLY, KHLOE, KIMBERLY, KYLIE, LAUREN, LAYLA, LEAH, LILLIAN, LILY, LINDA, LYDIA, MADELEINE, MADISON, MAGGIE, MANDY, MANHA, MARYAM, MAYA, MEGAN, MELANIE, MELODY, MIA, MICHELLE, MILA, MIRANDA, NATALIE, NICOLE, NINA, OLIVIA, PENELOPE, PHOEBE, QUEENIE, RACHEL, REBECCA, RILEY, SABRINA, SAMANTHA, SARA, SARAH, SAVANNAH, SELENA, SELINA, SERENA, SHARON, SHERRY, SHIRLEY, SOFIA, SOPHIA, SOPHIE, STELLA, STEPHANIE, SUMMER, SYDNEY, SYEDA, TASNIM, TENZIN, TIFFANY, TINA, VANESSA, VICKY, VICTORIA, VIOLET, VIVIAN, WINNIE, XIN, ZAHRA, ZAINAB, ZARA, ZOE, ZOEY, AALIYAH, ABIGAIL, ADRIANNA, AICHA, AISHA, AISSATOU, ALANA, ALANI, ALEXA, ALEXIS, ALICIA, ALIYAH, ALYSSA, AMANDA, AMAYA, AMBER, AMELIA, AMINA, AMINATA, AMIRA, AMIRAH, AMIYAH, ANGEL, ANGELINA, ANIYA, ANIYAH, ARIA, ARIANA, ARIANNA, ARIEL, ARIELLE, ASHLEY, AUBREE, AUBREY, AUTUMN, AVA, AWA, AYANNA, BELLA, BINTOU, BRIANNA, BRIELLE, CAMILLE, CHELSEA, CHEYENNE, CHLOE, CHRISTINA, DANIELLE, DEBORAH, DESTINY, ELISE, ELIZABETH, EMILY, EMMA, ERIN, FAITH, FANTA, FATIMA, FATOUMATA, GABRIELLA, GABRIELLE, GENESIS, GIANNA, GRACE, HAILEY, HANNAH, HARMONY, HAWA, HEAVEN, IMANI, ISABELLA, JADA, JADE, JALIYAH, JANELLE, JANIYAH, JASMINE, JAYDA, JAYLA, JESSICA, JORDAN, JORDYN, KAITLYN, KALIYAH, KAYLA, KAYLEE, KELSEY, KENNEDY, KHLOE, KIARA, KIMORA, KYLA, KYLEE, KYLIE, LAILA, LAUREN, LAYLA, LEAH, LEILANI, LILY, LONDON, LONDYN, LYRIC, MACKENZIE, MADISON, MAKAYLA, MAKENZIE, MALIA, MALIYAH, MARIAH, MARIAM, MARIAMA, MAYA, MCKENZIE, MEGAN, MELANIE, MELODY, MIA, MICHELLE, MIKAYLA, MILAN, MIRACLE, MORGAN, MYA, NAOMI, NEVAEH, NIA, NYLA, NYLAH, OLIVIA, OUMOU, PAIGE, PARIS, PEYTON, PHOENIX, PRINCESS, RILEY, SAMANTHA, SAMARA, SAMIYAH, SANAA, SANAI, SANIYAH, SARAH, SARAI, SARIAH, SASHA, SAVANNAH, SERENITY, SHAYLA, SKYE, SKYLA, SKYLAH, SKYLAR, SOPHIA, STEPHANIE, SUMMER, SYDNEY, TALIA, TAMIA, TAYLOR, TIANA, TORI, TRINITY, VANESSA, VICTORIA, VIOLET, WYNTER, ZOE, ZOEY, ZURI, AALIYAH, ABIGAIL, ADRIANA, ADRIANNA, AILEEN, ALANA, ALANI, ALEJANDRA, ALESSANDRA, ALEXA, ALEXANDRA, ALEXIA, ALICE, ALICIA, ALINA, ALISON, ALISSON, ALIYAH, ALLISON, ALLYSON, ALONDRA, ALYSSA, AMALIA, AMANDA, AMAYA, AMBER, AMBERLY, AMELIA, AMELIE, AMY, ANA, ANAIS, ANALIA, ANDREA, ANGELA, ANGELICA, ANGELINA, ANGELIQUE, ANGIE, ANIYAH, ANNA, APRIL, ARELY, ARIA, ARIANA, ARIANNA, ARIEL, ARIELLE, ASHLEY, ATHENA, AUBREY, AURORA, AVA, AVERY, AVRIL, AYLIN, BELLA, BIANCA, BRENDA, BRIANA, BRIANNA, BRIELLE, BRITNEY, BRITTANY, BRYANNA, CAMILA, CAMILLA, CARMEN, CAROLINA, CAROLINE, CATALINA, CATHERINE, CHARLOTTE, CHELSEA, CHLOE, CHRISTINA, CINDY, CRYSTAL, CYNTHIA, DAISY, DANA, DANIELA, DANIELLA, DANNA, DAYANA, DELILAH, DENISE, DESTINY, DIANA, DULCE, EILEEN, ELENA, ELIANA, ELIANNY, ELISA, ELIZABETH, ELLA, EMELY, EMILIA, EMILY, EMMA, ERIKA, ESMERALDA, ESTHER, EVA, EVANGELINE, EVELYN, FAITH, FATIMA, FERNANDA, GABRIELA, GABRIELLA, GENESIS, GERALDINE, GIA, GIANNA, GISELLE, GRACE, GUADALUPE, HAILEY, HALEY, HANNAH, HAYLEE, HAZEL, HEAVEN, HEIDI, HEIDY, HELEN, ISABEL, ISABELA, ISABELLA, ITZEL, IVANNA, IZABELLA, JACQUELINE, JADA, JADE, JAELYN, JAMIE, JASMIN, JASMINE, JAYLA, JAYLAH, JAYLEEN, JAYLENE, JAYLIN, JAZLYN, JAZMIN, JAZMINE, JAZZLYN, JENNIFER, JESSICA, JIMENA, JOCELYN, JOHANNA, JOSELYN, JULIA, JULIANA, JULIANNA, JULIE, JULIET, JULIETTE, JULISSA, KAILEY, KAITLYN, KAMILA, KAREN, KARINA, KARLA, KASSANDRA, KATELYN, KATHERINE, KATIE, KAYLA, KAYLEE, KAYLIE, KAYLIN, KELLY, KELSEY, KEYLA, KHLOE, KIARA, KIMBERLY, KYLIE, LAILA, LAURA, LAUREN, LAYLA, LEAH, LEILA, LEILANI, LESLEY, LESLIE, LESLY, LIA, LIANA, LILIANA, LILY, LITZY, LIZ, LIZBETH, LONDON, LUCIA, LUNA, LUZ, MACKENZIE, MADELINE, MADELYN, MADISON, MAKAYLA, MARIA, MARIAH, MARIANA, MARILYN, MAYA, MCKENZIE, MEGAN, MELANIE, MELANY, MELINA, MELISSA, MELODY, MIA, MIAH, MICHELLE, MIKAELA, MIKAYLA, MILA, MILAGROS, MILEY, MIRANDA, MIRIAM, MYA, NAOMI, NATALIA, NATALIE, NATALY, NATASHA, NATHALIA, NATHALIE, NATHALY, NAYELI, NEVAEH, NICOLE, NOEMI, NYLAH, OLIVIA, PAOLA, PARIS, PAULA, PENELOPE, PERLA, PEYTON, RACHEL, REBECCA, RIHANNA, ROSA, ROSELYN, RUBY, RUTH, SABRINA, SALOME, SAMANTHA, SANDRA, SARA, SARAH, SARAI, SAVANNA, SAVANNAH, SCARLET, SCARLETT, SELENA, SERENITY, SHERLYN, SIENNA, SKYLA, SKYLAR, SOFIA, SOPHIA, SOPHIE, STACEY, STACY, STELLA, STEPHANIE, SUMMER, TATIANA, TIFFANY, VALENTINA, VALERIA, VALERIE, VANESSA, VERONICA, VICTORIA, VIOLET, VIVIANA, WENDY, XIMENA, YAMILETH, YARETZI, YESENIA, ZOE, ZOEY, ABIGAIL, ADA, ADDISON, ADELAIDE, ADELE, ADINA, ADRIANA, ADRIANNA, AHUVA, ALANA, ALESSANDRA, ALESSIA, ALEXA, ALEXANDRA, ALEXANDRIA, ALEXIS, ALICE, ALINA, ALISA, ALIZA, ALLISON, ALMA, ALYSSA, AMALIA, AMANDA, AMELIA, AMELIE, AMINA, AMIRA, AMY, ANASTASIA, ANGELINA, ANNA, ANNABEL, ANNABELLE, ANNE, ANTONIA, ARIA, ARIANA, ARIANNA, ARIEL, ARIELLA, ARIELLE, ASHLEY, ATHENA, AUBREY, AUDREY, AVA, AVERY, AVIGAIL, AVIVA, AYA, AYLA, BAILA, BATSHEVA, BEATRICE, BELLA, BIANCA, BLIMA, BLIMY, BRACHA, BREINDY, BRIANNA, BROOKE, BRUCHY, CAITLIN, CAROLINA, CAROLINE, CASSANDRA, CATHERINE, CECILIA, CELIA, CHANA, CHANIE, CHANY, CHARLOTTE, CHAVA, CHAVY, CHAYA, CHELSEA, CHLOE, CHRISTINA, CLAIRE, CLARA, COLETTE, CORA, DAHLIA, DAISY, DALIA, DANIELA, DANIELLA, DANIELLE, DAPHNE, DEVORA, DEVORAH, DIANA, DINA, DYLAN, EDEN, ELEANOR, ELENA, ELIANA, ELISE, ELISHEVA, ELIZA, ELIZABETH, ELLA, ELLE, ELLIANA, ELLIE, ELOISE, ELSA, EMERSON, EMILIA, EMILY, EMMA, ESME, ESTELLE, ESTER, ESTHER, ESTY, ETTY, EVA, EVANGELINE, EVE, EVELYN, FAIGA, FAIGY, FAITH, FATIMA, FIONA, FRADY, FRAIDY, FRANCES, FRANCESCA, FRIMET, GABRIELA, GABRIELLA, GABRIELLE, GEMMA, GENEVIEVE, GEORGIA, GIA, GIADA, GIANNA, GITTEL, GITTY, GIULIA, GIULIANA, GOLDA, GOLDY, GRACE, GRETA, HADASSAH, HADLEY, HAILEY, HANA, HANNA, HANNAH, HARPER, HAZEL, HELEN, HELENA, HENNY, HINDA, HINDY, IDY, INES, IRIS, ISABEL, ISABELLA, ISABELLE, ISLA, IVY, JACQUELINE, JADE, JANA, JANE, JASMINE, JENNA, JENNIFER, JESSICA, JOANNA, JOLIE, JORDAN, JOSEPHINE, JOYCE, JUDY, JULIA, JULIANA, JULIANNA, JULIE, JULIET, JULIETTE, JUNE, KAITLYN, KATE, KATELYN, KATHERINE, KATHRYN, KATIE, KAYA, KAYLA, KAYLEE, KEIRA, KIRA, LAILA, LANA, LARA, LAURA, LAUREN, LAYLA, LEA, LEAH, LEILA, LENA, LEORA, LIA, LIANA, LIBA, LIBBY, LILA, LILAH, LILIANA, LILLIAN, LILLY, LILY, LINA, LIV, LIVIA, LOLA, LOUISA, LUCIA, LUCY, LYLA, MACKENZIE, MADELEINE, MADELINE, MADELYN, MADISON, MAE, MAEVE, MALAK, MALKA, MALKY, MARGARET, MARGOT, MARIA, MARIAM, MARINA, MARY, MARYAM, MATILDA, MAYA, MELANIE, MELISSA, MIA, MICHAELA, MICHELLE, MIKAYLA, MILA, MINDY, MIREL, MIRI, MIRIAM, MOLLY, MORGAN, NAOMI, NATALIA, NATALIE, NECHAMA, NICOLE, NICOLETTE, NINA, NOA, NOOR, NORA, OLIVE, OLIVIA, PAIGE, PEARL, PENELOPE, PEREL, PERL, PERRY, PESSY, PEYTON, PHOEBE, PIPER, POLINA, QUINN, RACHEL, RAIZEL, RAIZY, RAQUEL, REAGAN, REBECCA, REEM, REESE, RIFKY, RILEY, RIVKA, RIVKY, ROCHEL, ROIZY, ROSA, ROSE, ROSIE, RUBY, RUCHY, RUTH, RYAN, SABRINA, SADIE, SAGE, SALMA, SAMANTHA, SARA, SARAH, SASHA, SAVANNAH, SCARLETT, SELMA, SHAINA, SHAINDY, SHIFRA, SHIRA, SHOSHANA, SIENA, SIENNA, SIMA, SIMONE, SKYLAR, SLOANE, SOFIA, SONIA, SOPHIA, SOPHIE, STELLA, SURY, SYDNEY, SYLVIA, SYLVIE, TALIA, TAMAR, TAYLOR, TESSA, TOBY, TZIPORA, TZIVIA, VALENTINA, VALERIE, VANESSA, VERA, VERONICA, VICTORIA, VIOLET, VIRGINIA, VIVIAN, VIVIENNE, WILLA, YAEL, YARA, YEHUDIS, YIDES, YITTA, YITTY, YOCHEVED, ZISSY, ZOE, ZOEY, AARAV, AARON, AAYAN, ABDUL, ABDULLAH, ADAM, ADITYA, ADRIAN, AHMED, AIDAN, AIDEN, ALAN, ALBERT, ALEX, ALEXANDER, ALI, ALLEN, ALSTON, ALVIN, ANDREW, ANDY, ANGUS, ANSON, ANTHONY, ARJUN, ARYAN, ASHER, AUSTIN, AYAAN, AYAN, AYDEN, BENJAMIN, BENSON, BRANDON, BRAYDEN, BRIAN, BRUCE, BRYAN, CALEB, CALVIN, CARSON, CARTER, CHARLES, CHASE, CHRISTIAN, CHRISTOPHER, CODY, CONNOR, CYRUS, DANIEL, DANNY, DARREN, DAVID, DEREK, DEVIN, DYLAN, EASON, EDISON, EDWARD, ELI, ELIJAH, ELVIS, ERIC, ETHAN, EVAN, FELIX, GABRIEL, GAVIN, GORDON, HAMZA, HAO, HARRISON, HAYDEN, HENRY, HUDSON, HUNTER, IAN, IBRAHIM, ISAAC, IVAN, JACK, JACKSON, JACKY, JACOB, JADEN, JAKE, JAMES, JASON, JASPER, JAY, JAYDEN, JEFFREY, JEREMY, JERRY, JIMMY, JOHN, JOHNNY, JONATHAN, JORDAN, JOSEPH, JOSHUA, JULIAN, JUN, JUSTIN, KAI, KENNETH, KEVIN, KINGSLEY, KINGSTON, KRISH, KYLE, LAWRENCE, LEO, LEON, LIAM, LOGAN, LOUIS, LUCAS, LUKE, MARCUS, MASON, MATTHEW, MAX, MAXWELL, MICHAEL, MILES, MOHAMED, MOHAMMAD, MOHAMMED, MUHAMMAD, MUSA, MUSTAFA, NATHAN, NATHANIEL, NEIL, NELSON, NICHOLAS, NIKHIL, NOAH, OLIVER, OSCAR, OWEN, PATRICK, RAYAN, RAYMOND, RAYYAN, REHAN, RICHARD, RICKY, ROHAN, ROY, RYAN, SAMUEL, SEAN, SEBASTIAN, SHAYAAN, SHAYAN, STANLEY, STEVEN, SUBHAN, SYED, TENZIN, TERRENCE, THEODORE, THOMAS, TIMOTHY, TRISTAN, TYLER, VICTOR, VIHAAN, VINCENT, WESLEY, WILLIAM, WILSON, WINSTON, YUSUF, ZACHARY, ZAIN, ZAYAN, AARON, ABDOUL, ABDOULAYE, ABDUL, ADAM, ADONIS, ADRIAN, AIDAN, AIDEN, ALEX, ALEXANDER, ALI, ALPHA, AMADOU, AMAR'E, AMARE, AMARI, AMIR, ANDRE, ANDREW, ANTHONY, ANTONIO, ARMANI, ASHTON, AUSTIN, AVERY, AYDEN, BENJAMIN, BLAKE, BOUBACAR, BRADLEY, BRANDON, BRIAN, BRYAN, BRYCE, BRYSON, CADEN, CALEB, CAMERON, CAMREN, CARMELO, CARTER, CAYDEN, CHAD, CHANCE, CHARLES, CHASE, CHRISTIAN, CHRISTOPHER, CONNOR, DAMANI, DANIEL, DARIUS, DARREN, DAVID, DERRICK, DEVIN, DOMINIC, DYLAN, ELI, ELIAS, ELIJAH, EMMANUEL, ERIC, ETHAN, EVAN, GABRIEL, GAVIN, GIOVANNI, HUNTER, IAN, IBRAHIM, IBRAHIMA, ISAAC, ISAIAH, ISRAEL, JACE, JACOB, JADEN, JAHMIR, JAIDEN, JALEN, JAMARI, JAMES, JASIAH, JASON, JAYDEN, JAYLEN, JEREMIAH, JEREMY, JERMAINE, JOEL, JOHN, JONAH, JONATHAN, JORDAN, JOSEPH, JOSHUA, JOSIAH, JUDAH, JULIAN, JUSTICE, JUSTIN, KADEN, KAI, KAIDEN, KALEB, KAMARI, KAREEM, KAYDEN, KEITH, KENNETH, KEVIN, KHALIL, KING, KIYAN, KRISTIAN, KYLE, KYMANI, LEON, LEVI, LIAM, LOGAN, LUCAS, LUKE, MAHAMADOU, MAKAI, MAKHI, MALACHI, MALIK, MAMADOU, MARCUS, MASON, MATTHEW, MAURICE, MEKHI, MESSIAH, MICAH, MICHAEL, MILES, MOHAMED, MOHAMMED, MOUSSA, MUHAMMAD, MYLES, NASIR, NATHAN, NATHANAEL, NATHANIEL, NICHOLAS, NOAH, NOEL, OMAR, OMARI, OUMAR, PAUL, PEYTON, PRESTON, PRINCE, RICHARD, RILEY, ROBERT, RYAN, SAMIR, SAMUEL, SEAN, SEBASTIAN, SHANE, SHAWN, SINCERE, STEVEN, TERRELL, THOMAS, TIMOTHY, TRISTAN, TROY, TYLER, WILLIAM, XAVIER, ZACHARY, ZAIRE, ZION, AARON, ABDIEL, ABEL, ABRAHAM, ADAM, ADAN, ADEN, ADONIS, ADRIAN, ADRIEL, AIDAN, AIDEN, ALAN, ALBERT, ALBERTO, ALDO, ALEJANDRO, ALEX, ALEXANDER, ALEXIS, ALLEN, ALVIN, AMIR, ANDERSON, ANDRE, ANDRES, ANDREW, ANDY, ANGEL, ANGELO, ANTHONY, ANTONIO, ARIEL, ARMANDO, ARMANI, ASHTON, AUSTIN, AVERY, AXEL, AYDEN, BENJAMIN, BLAKE, BRADLEY, BRANDON, BRAYAN, BRAYDEN, BRIAN, BRUCE, BRYAN, BRYANT, BRYCE, CALEB, CAMERON, CAMILO, CARLOS, CARMELO, CARTER, CESAR, CHARLES, CHARLIE, CHASE, CHRIS, CHRISTIAN, CHRISTOPHER, CRISTIAN, CRISTOPHER, DAMIAN, DAMIEN, DANIEL, DANNY, DANTE, DARIEL, DARWIN, DAVID, DEAN, DENZEL, DEREK, DEVIN, DIEGO, DOMINIC, DOMINICK, DONOVAN, DYLAN, EDDY, EDGAR, EDUARDO, EDWARD, EDWIN, ELI, ELIAN, ELIAS, ELIJAH, ELVIN, EMANUEL, EMILIANO, EMILIO, EMMANUEL, ENRIQUE, ERIC, ERICK, ERIK, ESTEBAN, ETHAN, EVAN, EZEKIEL, EZEQUIEL, FABIAN, FELIX, FERNANDO, FRANCISCO, FRANK, FRANKLIN, FREDDY, GABRIEL, GAEL, GAVIN, GEORGE, GIOVANNI, GREGORY, GUSTAVO, HECTOR, HENRY, HUGO, HUNTER, IAN, IKER, ISAAC, ISAIAH, ISMAEL, ISRAEL, IVAN, IZAIAH, JACE, JACK, JACKSON, JACOB, JADEN, JADIEL, JAEL, JAIDEN, JAIME, JAKE, JAMES, JARED, JARIEL, JASON, JAVIER, JAY, JAYCE, JAYDEN, JAYLEN, JAYREN, JAYSON, JEAN, JEFFERSON, JEFFREY, JENCARLOS, JEREMIAH, JEREMY, JESUS, JOAQUIN, JOEL, JOHAN, JOHN, JOHNNY, JONAH, JONAS, JONATHAN, JORDAN, JORGE, JOSE, JOSEPH, JOSHUA, JOSIAH, JOSUE, JUAN, JULIAN, JULIEN, JULIO, JULIUS, JUSTIN, KAIDEN, KALEB, KAYDEN, KELVIN, KENNETH, KENNY, KEVIN, KYLE, LANDON, LEANDRO, LENNY, LEO, LEONARDO, LEONEL, LIAM, LOGAN, LORENZO, LOUIS, LUCA, LUCAS, LUIS, LUKAS, LUKE, MANUEL, MARCO, MARCOS, MARCUS, MARIO, MARK, MARLON, MARTIN, MARVIN, MASON, MATEO, MATHEW, MATHIAS, MATIAS, MATTEO, MATTHEW, MAURICIO, MAX, MAXIMILIANO, MAXIMUS, MAXWELL, MELVIN, MICHAEL, MIGUEL, MIKE, MOISES, NATHAN, NATHANIEL, NELSON, NEYMAR, NICHOLAS, NICOLAS, NOAH, NOEL, OLIVER, OMAR, OSCAR, PABLO, PAUL, PEDRO, PETER, PRESTON, PRINCE, RAFAEL, RANDY, RAUL, RAYMOND, RICARDO, RICHARD, RILEY, ROBERT, ROBERTO, RODRIGO, ROMAN, ROMEO, RONALD, RUBEN, RYAN, SAMUEL, SANTIAGO, SAUL, SEAN, SEBASTIAN, SERGIO, SKYLER, STEPHEN, STEVE, STEVEN, THOMAS, TRISTAN, TYLER, URIEL, VICTOR, VINCENT, WESLEY, WILLIAM, WILSON, XAVIER, YADIEL, YAEL, YAHIR, YANDEL, YARIEL, ZACHARY, ZAYDEN, ZION, AARON, ABRAHAM, ADAM, ADRIAN, AHMAD, AHMED, AHRON, AIDAN, AIDEN, AKIVA, ALAN, ALBERT, ALEKSANDER, ALEX, ALEXANDER, ALI, ALTER, AMIR, ANDERSON, ANDREW, ANGELO, ANTHONY, ANTONIO, ARCHER, ARI, ARIEL, ARON, ARTHUR, ARYEH, ASHER, ATTICUS, AUGUST, AUSTIN, AVERY, AVRAHAM, AVROHOM, AVRUM, AYDEN, BARUCH, BECKETT, BEN, BENJAMIN, BENNETT, BENTZION, BENZION, BINYOMIN, BLAKE, BORUCH, BRADLEY, BRADY, BRANDON, BRAYDEN, BRENDAN, BRIAN, BRODY, CALEB, CALVIN, CAMERON, CARTER, CHAIM, CHARLES, CHARLIE, CHASE, CHESKEL, CHESKY, CHRIS, CHRISTIAN, CHRISTOPHER, COLE, COLIN, CONNOR, COOPER, DAMIAN, DANIEL, DAVID, DEAN, DECLAN, DEVIN, DOMINIC, DOMINICK, DOV, DOVID, DREW, DYLAN, EDWARD, EFRAIM, EITAN, ELAN, ELI, ELIAS, ELIEZER, ELIJAH, ELIMELECH, ELIYAHU, ELLIOT, ELLIOTT, ELLIS, ELUZER, EMMETT, EPHRAIM, ERIC, ERIK, ETHAN, EVAN, EVERETT, EZRA, EZRIEL, FELIX, FILIP, FINN, FRANCESCO, FRANK, FREDERICK, GABRIEL, GAVIN, GAVRIEL, GEORGE, GIOVANNI, GRAHAM, GRANT, GRAYSON, GREGORY, GRIFFIN, HAMZA, HARRISON, HARRY, HARVEY, HAYDEN, HENRY, HERSH, HERSHEL, HERSHY, HUDSON, HUGO, HUNTER, IAN, IBRAHIM, ILAN, ISAAC, ISAIAH, ISRAEL, ISSAC, IVAN, JACE, JACK, JACKSON, JACOB, JAD, JAKE, JAMES, JASON, JASPER, JAXON, JAYDEN, JEREMY, JESSE, JOEL, JOHN, JONAH, JONATHAN, JORDAN, JOSEPH, JOSHUA, JUDAH, JUDE, JULIAN, JULIEN, JUSTIN, KAI, KEVIN, KIERAN, KYLE, LANDON, LAZER, LEO, LEON, LEONARDO, LEVI, LIAM, LIPA, LOGAN, LORENZO, LOUIS, LUCA, LUCAS, LUKA, LUKAS, LUKE, MAKSIM, MALIK, MARC, MARCO, MARCUS, MARK, MARTIN, MASON, MATEO, MATTEO, MATTHEW, MAX, MAXIM, MAXIMILIAN, MAXIMUS, MAXWELL, MAYER, MEIR, MENACHEM, MENDEL, MENDY, MEYER, MICAH, MICHAEL, MILES, MILO, MOHAMED, MOHAMMAD, MOHAMMED, MOISHE, MORDECHAI, MOSES, MOSHE, MUHAMMAD, MYLES, NACHMAN, NAFTALI, NATHAN, NATHANIEL, NICHOLAS, NICO, NICOLAS, NIKITA, NIKOLAS, NOAH, NOAM, NOLAN, NOSSON, OLIVER, OMAR, OSCAR, OWEN, PARKER, PATRICK, PAUL, PETER, PHILIP, PINCHAS, PINCHUS, PRESTON, QUINN, RAFAEL, RAPHAEL, RAYAN, RAYMOND, REED, REID, REUVEN, RICHARD, ROBERT, ROCCO, ROMAN, RONAN, RORY, ROWAN, RYAN, SALVATORE, SAM, SAMI, SAMIR, SAMUEL, SEAN, SEBASTIAN, SHALOM, SHANE, SHAYA, SHEA, SHIA, SHIMON, SHLOIME, SHLOIMY, SHLOMA, SHLOME, SHLOMO, SHMIEL, SHMUEL, SHNEUR, SHOLOM, SHULEM, SILAS, SIMCHA, SIMON, SOLOMON, SPENCER, STEPHEN, STEVEN, THEO, THEODORE, THOMAS, TIMOTHY, TOMAS, TRISTAN, TYLER, TZVI, USHER, VICTOR, VINCENT, WESLEY, WILLIAM, WYATT, XAVIER, YAAKOV, YAKOV, YECHEZKEL, YECHIEL, YEHOSHUA, YEHUDA, YISRAEL, YISROEL, YITZCHAK, YITZCHOK, YOEL, YONA, YOSEF, YOSSI, YOUSEF, YOUSSEF, YUSUF, ZACHARY, ZAIN, ZALMEN, ZEV, Abby, Abigail, Ada, Aisha, Aleena, Alexandra, Alice, Alina, Allison, Alyssa, Amanda, Amber, Amelia, Amy, Ananya, Anaya, Angel, Angela, Angelina, Anika, Anna, Annabelle, Annie, Annika, Anya, Aria, Ariana, Arianna, Ariel, Arya, Ashley, Athena, Audrey, Abigail, Aisha, Aiza, Aleena, Ava, Avery, Ayesha, Bella, Carina, Caroline, Catherine, Cecilia, Celine, Charlotte, Chelsea, Chloe, Christina, Christine, Cindy, Claire, Connie, Crystal, Cynthia, Daphne, Eileen, Elaine, Elena, Elina, Elise, Elizabeth, Ella, Ellie, Emaan, Emily, Emma, Erin, Eunice, Eva, Evelyn, Fatima, Fiona, Grace, Hailey, Hana, Hannah, Helen, Inaaya, Irene, Iris, Isabel, Isabella, Isabelle, Ivy, Jamie, Jannat, Jasmine, Jenna, Jennifer, Jenny, Jessica, Jessie, Joanna, Jocelyn, Josephine, Joy, Joyce, Julia, Kaitlyn, Karen, Karina, Kate, Katelyn, Katherine, Kayla, Kaylee, Keira, Kelly, Kimberly, Lauren, Layla, Leah, Leela, Leila, Lena, Lillian, Lily, Linda, Madeline, Madelyn, Madison, Maggie, Manha, Maryam, Maya, Megan, Melody, Mia, Michelle, Miranda, Naomi, Natalie, Nicole, Nina, Olivia, Penelope, Queenie, Rachel, Raina, Rebecca, Riya, Sabrina, Samantha, Samara, Sara, Sarah, Sarina, Scarlett, Selena, Selina, Serena, Sharon, Shirley, Sofia, Sophia, Sophie, Stella, Stephanie, Summer, Sunny, Sydney, Syeda, Sylvia, Tenzin, Tiffany, Tina, Vanessa, Vicky, Victoria, Vivian, Winnie, Zahra, Zainab, Zara, Zoe, Zoey, Zoya, Aaliyah, Abigail, Abrielle, Adrianna, Aicha, Aisha, Aissata, Aissatou, Alana, Alexandra, Alexis, Aliyah, Alyssa, Amani, Amaya, Amber, Amelia, Amina, Aminata, Amira, Amirah, Amiyah, Anaya, Angel, Angelina, Aniya, Aniyah, Aria, Ariana, Arianna, Ariel, Arielle, Ashley, Asia, Aubrey, Autumn, Ava, Avery, Azaria, Bella, Bria, Brianna, Brielle, Brooke, Camille, Chelsea, Chloe, Christina, Dakota, Danielle, Destiny, Eden, Egypt, Elizabeth, Emani, Emily, Emma, Esther, Eva, Faith, Fatima, Fatoumata, Gabriella, Gabrielle, Genesis, Gianna, Giselle, Grace, Hailey, Hannah, Harmony, Hawa, Heaven, Imani, Isabella, Isabelle, Isis, Jada, Jade, Jaliyah, Janae, Janelle, Janiyah, Jasmine, Jayla, Jessica, Jordyn, Journey, Kadiatou, Kaitlyn, Kayla, Kaylee, Kaylin, Kennedy, Khloe, Kiara, Kimora, Kourtney, Kyla, Kylee, Kylie, Laila, Lauren, Layla, Leah, Leila, Lily, London, Londyn, Lyric, Mackenzie, Madison, Madisyn, Makayla, Malia, Maliyah, Mariah, Mariam, Mariama, Maya, McKenzie, Melanie, Melody, Mia, Michelle, Milan, Miracle, Morgan, Mya, Nadia, Nahla, Naomi, Nevaeh, Nia, Nyla, Nylah, Olivia, Oumou, Paige, Paris, Payton, Peyton, Angela, Phoenix, Precious, Princess, Riley, Saige, Samantha, Samara, Samiyah, Sanaa, Sanai, Saniyah, Sarah, Sarai, Sariah, Sasha, Savannah, Scarlett, Serenity, Shania, Skyla, Skylah, Skylar, Sofia, Sophia, Summer, Sydney, Talia, Tamia, Taylor, Tiana, Trinity, Victoria, Wynter, Zaniyah, Zara, Zariah, Zoe, Zoey, Zuri, Aaliyah, Abigail, Abril, Adriana, Adrianna, Aileen, Aimee, Alana, Alani, Alanis, Alanna, Alejandra, Alessandra, Alexa, Alexandra, Alexia, Alice, Alicia, Alina, Alison, Alisson, Aliyah, Allison, Allyson, Alma, Alondra, Alyssa, Amanda, Amaya, Amber, Amelia, Amy, Ana, Anabel, Anabella, Analia, Anaya, Andrea, Angelica, Angelina, Angelique, Angie, Annabella, Annabelle, April, Aria, Ariana, Arianna, Arianny, Ariel, Ariella, Arielle, Ashley, Athena, Aubree, Aubrey, Audrey, Aurora, Autumn, Ava, Avery, Ayleen, Aylin, Bella, Bianca, Brenda, Briana, Brianna, Brielle, Britney, Brittany, Bryanna, Camila, Camilla, Carla, Carmen, Caroline, Cataleya, Catalina, Catherine, Charlotte, Chelsea, Chloe, Crystal, Daisy, Daniela, Daniella, Danna, Dayana, Delilah, Destiny, Diana, Dulce, Eileen, Elena, Eliana, Elisa, Eliza, Elizabeth, Ella, Emely, Emilia, Emily, Emma, Erika, Esmeralda, Esther, Eva, Evelyn, Faith, Fatima, Gabriela, Gabriella, Genesis, Gia, Gianna, Giselle, Grace, Liana, Guadalupe, Hailey, Haley, Hannah, Haylee, Heaven, Heidi, Heidy, Helen, Iris, Isabel, Isabela, Isabella, Isabelle, Isis, Itzel, Izabella, Jacqueline, Jade, Jaliyah, Janelle, Jasmine, Jayda, Jayla, Jaylah, Jaylee, Jayleen, Jaylene, Jaylin, Jazlyn, Jazmin, Jazmine, Jennifer, Jessica, Jimena, Jocelyn, Johanna, Joselyn, Julia, Juliana, Julianna, Juliet, Juliette, Julissa, Kailey, Kailyn, Kaitlyn, Kamila, Karen, Karina, Karla, Kate, Katelyn, Katelynn, Katherine, Katie, Kayla, Kaylee, Kayleen, Kaylie, Kaylin, Kelly, Kelsey, Kendra, Keyla, Khloe, Kiara, Kimberly, Kylie, Laila, Laura, Lauren, Layla, Leah, Leanna, Leila, Leilani, Leslie, Lesly, Leyla, Lia, Liliana, Lily, Litzy, Lizbeth, Lola, London, Lucia, Luna, Luz, Madeline, Madelyn, Madison, Maia, Maite, Makayla, Malia, Maria, Mariah, Mariana, Marilyn, Marjorie, Maya, Melanie, Melany, Melina, Melissa, Melody, Mia, Michelle, Mila, Milan, Miley, Miranda, Miriam, Mya, Naomi, Nashley, Natalia, Natalie, Natasha, Nathalie, Nathaly, Nayeli, Nevaeh, Nicole, Nina, Noemi, Nyah, Nyla, Nylah, Olivia, Paris, Paula, Penelope, Peyton, Rachel, Raquel, Rebecca, Rihanna, Riley, Rose, Ruby, Sabrina, Samantha, Sara, Sarah, Sarai, Savannah, Scarlet, Scarlett, Selena, Serenity, Shayla, Sherlyn, Shirley, Skylah, Skylar, Sofia, Sophia, Sophie, Stacy, Stella, Stephanie, Summer, Tatiana, Taylor, Tiffany, Trinity, Valentina, Valeria, Valerie, Valery, Vanessa, Victoria, Violet, Vivian, Wendy, Ximena, Yamileth, Yaretzi, Zara, Zoe, Zoey, Abigail, Ada, Addison, Adelaide, Adele, Adeline, Adina, Adriana, Adrianna, Ahuva, Aisha, Aleksandra, Alessandra, Alessia, Alexa, Alexandra, Alexia, Alexis, Alice, Alina, Alisa, Aliza, Allison, Alma, Alyssa, Amalia, Amanda, Amelia, Amelie, Amina, Amira, Amy, Ana, Anastasia, Angelina, Anisa, Anna, Annabel, Annabelle, Anne, Antonia, Aria, Ariana, Arianna, Ariella, Ashley, Athena, Aubrey, Audrey, Aurora, Ava, Avery, Avigail, Aviva, Baila, Basya, Batsheva, Beatrice, Beatrix, Bella, Blima, Blimy, Bracha, Breindy, Brianna, Bridget, Brielle, Brooke, Bruchy, Caitlin, Camilla, Camille, Caroline, Cassidy, Catherine, Cecilia, Celine, Chana, Chany, Charlotte, Chava, Chavy, Chaya, Chiara, Chloe, Christina, Claire, Clara, Claudia, Clementine, Colette, Cora, Dahlia, Daisy, Daniella, Danielle, Daphne, Devora, Devorah, Diana, Dina, Dylan, Eden, Edith, Eleanor, Elena, Eliana, Elise, Elisheva, Eliza, Elizabeth, Ella, Ellie, Eloise, Elsa, Emerson, Emilia, Emily, Emma, Emmeline, Ester, Esther, Esty, Etty, Eva, Eve, Evelyn, Faiga, Faigy, Farah, Fatima, Fiona, Fradel, Fraidy, Frances, Francesca, Freya, Frimet, Gabriela, Gabriella, Gabrielle, Gemma, Genevieve, Georgia, Gia, Gianna, Giselle, Gittel, Gitty, Giuliana, Golda, Goldy, Grace, Hadassah, Hadley, Hailey, Hana, Hanna, Hannah, Harper, Hazel, Helena, Henny, Hinda, Hindy, Idy, Ilana, Iris, Isabel, Isabella, Isabelle, Isla, Ivy, Jacqueline, Jana, Jane, Jasmina, Jasmine, Jenna, Jessica, Jordan, Jordyn, Josephine, Joyce, Judy, Julia, Juliana, Julianna, Julie, Juliet, Juliette, June, Kaitlyn, Kate, Katerina, Katherine, Kayla, Kaylee, Keira, Carmelo, Kira, Kylie, Laila, Lara, Laura, Lauren, Layan, Layla, Lea, Leah, Leila, Lena, Leona, Leora, Leyla, Lia, Liana, Liba, Libby, Lila, Liliana, Lillian, Lilly, Lily, Lina, Liv, Livia, Lola, Louisa, Louise, Lucia, Luciana, Lucille, Lucy, Luna, Lydia, Lyla, Mackenzie, Madeleine, Madeline, Madelyn, Madison, Mae, Maeve, Malak, Malka, Malky, Margaret, Margaux, Margot, Maria, Mariam, Mary, Maryam, Matilda, Maya, Megan, Melanie, Mia, Michal, Michelle, Mikayla, Mila, Milana, Mina, Mindy, Mira, Mirel, Miri, Miriam, Molly, Morgan, Mushka, Nadia, Naomi, Natalia, Natalie, Nechama, Nicole, Nina, Noa, Nora, Norah, Olive, Olivia, Paige, Pearl, Penelope, Perl, Pessy, Peyton, Phoebe, Piper, Poppy, Quinn, Rachel, Raizel, Raizy, Reagan, Rebecca, Reese, Renee, Rifky, Riley, Rivka, Rivky, Rochel, Roiza, Romy, Rose, Ruby, Ruchy, Sabina, Sabrina, Sadie, Sage, Salma, Samantha, Sara, Sarah, Sasha, Savannah, Scarlett, Serena, Shaina, Shaindel, Shaindy, Shifra, Shira, Shoshana, Siena, Sienna, Sima, Simone, Skylar, Sloane, Sofia, Sophia, Sophie, Stella, Summer, Suri, Sury, Sydney, Sylvia, Talia, Tamar, Taylor, Tessa, Toby, Tova, Trany, Tzipora, Valentina, Valerie, Vanessa, Veronica, Victoria, Violet, Vivian, Vivienne, Willa, Yael, Yasmin, Yehudis, Yides, Yitty, Yocheved, Zelda, Zissy, Zoe, Zoey, Aarav, Aaron, Aayan, Abdul, Abdullah, Adam, Aditya, Adrian, Adyan, Ahmed, Ahnaf, Aidan, Aiden, Alan, Albert, Alex, Alexander, Ali, Allen, Alvin, Andrew, Andy, Anson, Anthony, Arjun, Aryan, Asher, Austin, Avery, Ayaan, Ayan, Ayden, Benjamin, Benson, Bowen, Brandon, Brayden, Brendan, Brian, Bryan, Caleb, Calvin, Carson, Carter, Charles, Chris, Christian, Christopher, Colin, Connor, Damon, Daniel, Danny, Darren, David, Derek, Devin, Dylan, Eason, Eddie, Eden, Edward, Edwin, Eli, Elijah, Elvis, Eric, Ethan, Evan, Farhan, Felix, Gabriel, Gavin, George, Gordon, Harrison, Harry, Hayden, Henry, Hudson, Hunter, Ian, Ibrahim, Isaac, Ishaan, Ivan, Jack, Jackson, Jacob, Jaden, Jake, James, Jason, Jasper, Jayden, Jeffrey, Jeremy, Jerry, Jimmy, John, Johnny, Jonathan, Jordan, Joseph, Joshua, Julian, Justin, Kai, Kayden, Kevin, Kimi, Kingsley, Kyle, Lawrence, Leo, Leon, Liam, Logan, Louis, Lucas, Luke, Marcus, Martin, Mason, Matthew, Max, Maximilian, Maxwell, Md, Michael, Miles, Mohammad, Mohammed, Muhammad, Nathan, Nathaniel, Nicholas, Noah, Nolan, Oliver, Oscar, Owen, Rayan, Raymond, Rehan, Richard, Ricky, Rohan, Roy, Ryan, Samuel, Sean, Sebastian, Shawn, Stanley, Steven, Syed, Tenzin, Theodore, Thomas, Timothy, Tony, Tristan, Tyler, Victor, Vihaan, Vincent, Wesley, William, Wilson, Winston, Xavier, Zachary, Zain, Zayan, Aaron, Abdoulaye, Abraham, Adam, Aden, Adonis, Adrian, Aidan, Aiden, Alex, Alexander, Alpha, Carter, Amadou, Amar'e, Amare, Amari, Amir, Andre, Andrew, Anthony, Antonio, Ashton, Austin, Avery, Ayden, Benjamin, Blake, Boubacar, Bradley, Brandon, Brian, Bryce, Bryson, Caiden, Cairo, Caleb, Camden, Cameron, Camren, Carter, Cayden, Chance, Charles, Chase, Chris, Christian, Christopher, Connor, Corey, Daniel, Darius, David, Derrick, Devin, Dominic, Dominick, Dylan, Eli, Elijah, Emmanuel, Eric, Ethan, Evan, Gabriel, Gavin, Giovanni, Gregory, Hayden, Hunter, Ian, Ibrahim, Ibrahima, Isaac, Isaiah, Isiah, Ismael, Israel, Jace, Jacob, Jaden, Jaiden, Jalen, Jamal, Jamari, Jamel, James, Jasiah, Jason, Jayce, Jayceon, Jayden, Jaylen, Jaylin, Jeremiah, Jeremy, Joel, John, Jonathan, Jordan, Joseph, Joshua, Josiah, Julian, Justice, Justin, Kaden, Kai, Kaiden, Kaleb, Kamari, Kameron, Kareem, Karter, Kayden, Kenneth, Kevin, King, Kyle, Kyrie, Leon, Levi, Liam, Logan, Lucas, Luke, Major, Malachi, Malcolm, Malik, Mamadou, Marcus, Mason, Matthew, Maxwell, Mekhi, Messiah, Micah, Michael, Mohamed, Mouhamed, Moussa, Muhammad, Musa, Myles, Nasir, Nathan, Nathaniel, Nazir, Nehemiah, Nicholas, Noah, Noel, Nolan, Omar, Oumar, Ousmane, Owen, Patrick, Paul, Peyton, Preston, Prince, Richard, Riley, Robert, Ryan, Samir, Samuel, Sean, Sebastian, Shane, Shawn, Sincere, Skyler, Stephen, Taylor, Timothy, Travis, Tristan, Tyler, William, Xavier, Zachariah, Zachary, Zaire, Zayden, Zion, Aaron, Abel, Abraham, Adam, Adan, Aden, Adonis, Adrian, Adriel, Aidan, Aiden, Alan, Albert, Alberto, Alejandro, Alex, Alexander, Alexis, Alfredo, Allan, Alonso, Amir, Anderson, Andre, Andres, Andrew, Andy, Angel, Angelo, Anthony, Antonio, Arian, Ariel, Armani, Ashton, Austin, Avery, Axel, Ayden, Benjamin, Blake, Bradley, Brandon, Brayan, Brayden, Brian, Bruce, Bryan, Bryant, Byron, Caleb, Cameron, Camilo, Carlos, Cayden, Cesar, Charlie, Chase, Chris, Christian, Christopher, Cristian, Cristopher, Damian, Damien, Daniel, Danny, Dante, Dariel, Darwin, David, Dean, Denzel, Dereck, Derek, Devin, Diego, Dilan, Dominic, Dominick, Dylan, Edgar, Edison, Eduardo, Edward, Edwin, Eli, Eliam, Elian, Elias, Elijah, Emanuel, Emilio, Emmanuel, Eric, Erick, Ethan, Evan, Ezekiel, Ezequiel, Ezra, Fabian, Felipe, Felix, Fernando, Francisco, Frank, Gabriel, Gael, Gavin, George, Gerard, Giovani, Giovanni, Giovanny, Grayson, Gregory, Gustavo, Hanley, Hector, Henry, Hunter, Ian, Iker, Isaac, Isaiah, Isaias, Ismael, Israel, Ivan, Jace, Jack, Jackson, Jacob, Jaden, Jadiel, Jael, Jahir, Jaiden, Jair, Jake, James, Januel, Jared, Jariel, Jason, Javier, Jaxon, Jay, Jayce, Jaycob, Jayden, Jayson, Jean, Jefferson, Jeffrey, Jeremiah, Jeremias, Jeremy, Jesus, Jimmy, Joaquin, Joel, Johan, John, Johnny, Jonas, Jonathan, Jordan, Jorge, Jose, Joseph, Joshua, Josiah, Josue, Juan, Julian, Julien, Julio, Julius, Junior, Justice, Justin, Kaiden, Kayden, Kelvin, Kendrick, Kenneth, Kenny, Kevin, King, Kyle, Landon, Leandro, Lenny, Leo, Leonardo, Leonel, Levi, Liam, Lian, Logan, Lorenzo, Louis, Luca, Lucas, Luis, Luke, Maison, Manuel, Marco, Marcos, Marcus, Mario, Mark, Marlon, Martin, Marvin, Mason, Mateo, Mathew, Mathias, Matias, Matteo, Matthew, Mauricio, Max, Maximilian, Maximiliano, Maximo, Maximus, Maxwell, Mayson, Melvin, Michael, Miguel, Mike, Milan, Moises, Nathan, Nathaniel, Nelson, Neymar, Nicholas, Nicolas, Noah, Noel, Oliver, Omar, Oscar, Owen, Pablo, Patrick, Paul, Pedro, Peter, Preston, Prince, Rafael, Randy, Raul, Raymond, Ricardo, Richard, Riley, Robert, Roberto, Rodrigo, Romeo, Ryan, Samuel, Santiago, Sean, Sebastian, Sergio, Steven, Thiago, Thomas, Timothy, Tomas, Tristan, Tyler, Uriel, Valentino, Victor, Vincent, Wesley, William, Wilson, Xander, Xavier, Yadiel, Yahir, Yariel, Zachary, Zion, Aaron, Abdullah, Abraham, Adam, Adrian, Aharon, Ahmad, Ahmed, Aidan, Aiden, Akiva, Alan, Alec, Alex, Alexander, Ali, Amir, Andrew, Angelo, Anthony, Anton, Antonio, Archer, Ari, Ariel, Aron, Arthur, Arye, Aryeh, Asher, August, Austin, Avery, Avi, Avraham, Avrohom, Avrum, Axel, Baruch, Beckett, Ben, Benjamin, Bennett, Benzion, Binyomin, Blake, Boruch, Bradley, Brady, Brandon, Brayden, Brendan, Brian, Brody, Bryce, Caleb, Cameron, Carter, Chaim, Charles, Charlie, Chase, Cheskel, Chesky, Christian, Christopher, Cole, Colin, Colton, Connor, Conor, Cooper, Damian, Daniel, Dante, David, Dean, Declan, Dennis, Desmond, Devin, Dominic, Dominick, Dov, Dovid, Duvid, Dylan, Edward, Efraim, Eitan, Elan, Eli, Elias, Eliezer, Elijah, Elimelech, Eliyahu, Elliot, Elliott, Emmanuel, Emmett, Eric, Ethan, Evan, Everett, Ezra, Felix, Filip, Finn, Francesco, Francis, Frank, Frederick, Gabriel, Gavin, Gavriel, George, Giancarlo, Gianluca, Giovanni, Graham, Grant, Grayson, Gregory, Greyson, Griffin, Hamza, Harrison, Harry, Henry, Hersh, Hershel, Hershy, Hillel, Hudson, Hugo, Hunter, Ian, Ibrahim, Ilan, Isaac, Isaiah, Israel, Ivan, Jace, Jack, Jackson, Jacob, Jake, James, Jason, Jasper, Jax, Jaxon, Jayden, Jeremy, Jesse, Joaquin, Joel, John, Jonah, Jonathan, Jordan, Joseph, Joshua, Judah, Jude, Julian, Julien, Justin, Kai, Kevin, Kieran, Kyle, Laith, Landon, Lazer, Leo, Leon, Leonard, Leonardo, Lev, Levi, Liam, Lincoln, Lipa, Logan, Lorenzo, Louis, Luca, Lucas, Lucien, Luka, Lukas, Luke, Marc, Marco, Marcus, Mark, Martin, Mason, Massimo, Mateo, Matteo, Matthew, Max, Maxim, Maximilian, Maxwell, Mayer, Meilech, Meir, Menachem, Mendel, Mendy, Meyer, Micah, Michael, Miles, Milo, Mohamed, Mohammad, Mohammed, Moishe, Mordechai, Morris, Moses, Moshe, Muhammad, Myles, Nachman, Naftali, Naftuli, Nathan, Nathaniel, Nicholas, Nico, Nicolas, Noah, Noam, Nolan, Oliver, Omar, Ori, Orion, Oscar, Otto, Owen, Parker, Patrick, Paul, Peter, Philip, Pinchas, Preston, Quinn, Rafael, Raphael, Rayan, Raymond, Reid, Rhys, Richard, Riley, Robert, Rocco, Roman, Ronan, Rory, Rowan, Ryan, Ryder, Salvatore, Sam, Samir, Samuel, Santino, Sawyer, Sean, Sebastian, Shalom, Shane, Shaya, Shea, Shia, Shimon, Shloime, Shloimy, Shlome, Shlomo, Shmiel, Shmuel, Shneur, Sholom, Shraga, Shulem, Silas, Simcha, Simon, Solomon, Spencer, Stanley, Stephen, Steven, Theo, Theodore, Thomas, Timothy, Tristan, Tyler, Tzvi, Usher, Victor, Vincent, Walter, Wesley, William, Wolf, Wyatt, Xavier, Yaakov, Yakov, Yanky, Yassin, Yechiel, Yehoshua, Yehuda, Yeshaya, Yisroel, Yitzchak, Yitzchok, Yoel, Yosef, Yossi, Yousef, Youssef, Yusuf, Zachary, Zalmen, Zev, Aarya, Abby, Ronan, Rory, Rowan, Ryan, Ryder, Salvatore, Sam, Samir, Samuel, Santino, Sawyer, Sean, Sebastian, Shalom, Shane, Shaya, Shea, Shia, Shimon, Shloime, Shloimy, Shlome, Shlomo, Shmiel, Shmuel, Sholom, Shraga, Shulem, Silas, Simcha, Simon, Solomon, Spencer, Stephen, Alexandra, Alice, Alicia, Alina, Alisa, Alisha, Allison, Alyssa, Amanda, Amber, Amelia, Amina, Amy, Anaya, Anayah, Angel, Angela, Angelina, Anna, Annabelle, Anne, Annie, Anya, Aria, Ariana, Arianna, Ariel, Arisha, Arya, Ashley, Athena, Audrey, Ava, Avery, Ayesha, Bella, Carina, Caroline, Catherine, Cecilia, Celine, Charlotte, Chelsea, Chloe, Christina, Cindy, Claire, Crystal, Cynthia, Doris, Eileen, Elaine, Eleanor, Elena, Eliana, Elina, Elizabeth, Ella, Ellie, Elsa, Emily, Emma, Erica, Erin, Eshaal, Esther, Eva, Evelyn, Fatima, Fiona, Gabriella, Gia, Grace, Hafsa, Hailey, Hana, Hanna, Hannah, Inaaya, Inaya, Irene, Iris, Isabel, Isabella, Isabelle, Ivy, Janice, Jannat, Jasmine, Jennifer, Jenny, Jessica, Jessie, Joanna, Jocelyn, Joy, Joyce, Julia, Kaitlyn, Karina, Kate, Katelyn, Katherine, Katie, Kayla, Kaylee, Kelly, Khadija, Kylie, Layla, Leah, Lila, Lillian, Lily, Lina, Lisa, Livia, Luna, Lydia, Madeline, Madelyn, Madison, Maggie, Mandy, Maryam, Maya, Megan, Melody, Mia, Michelle, Mila, Miranda, Naomi, Natalie, Nicole, Nina, Noor, Olivia, Penelope, Phoebe, Priscilla, Queena, Queenie, Rachel, Raina, Rebecca, Riley, Sabrina, Safa, Samantha, Samara, Sara, Sarah, Scarlett, Selena, Selina, Serena, Sharon, Shirley, Shreya, Sofia, Sophia, Sophie, Stella, Stephanie, Summer, Syeda, Sylvia, Tenzin, Tiffany, Vanessa, Vicky, Victoria, Vivian, Winnie, Zainab, Zara, Zoe, Zoey, Aaliyah, Abigail, Adrianna, Aicha, Aisha, Aissatou, Alana, Alexandria, Alexis, Aliyah, Alyssa, Amara, Amaya, Amelia, Amia, Amina, Aminata, Amira, Amirah, Amiya, Amiyah, Angelina, Aniya, Aniyah, Annabelle, Aria, Ariana, Arianna, Ariel, Brenda, Arielle, Ashley, Aubree, Aubrey, Autumn, Ava, Avery, Bella, Blessing, Brianna, Brielle, Brooke, Brooklyn, Cali, Chanel, Charlotte, Chelsea, Chloe, Christina, Dakota, Danielle, Destiny, Egypt, Eliana, Elizabeth, Ella, Emily, Emma, Eva, Faith, Fanta, Fatima, Fatou, Fatoumata, Gabriella, Gabrielle, Genesis, Gianna, Grace, Hailey, Hannah, Harmony, Hawa, Heaven, Hope, Imani, Isabella, Isabelle, Jada, Jade, Janelle, Jasmine, Jayda, Jayla, Jordan, Jordyn, Journee, Journey, Joy, Kadiatou, Kaitlyn, Kali, Kayla, Kaylee, Kelsey, Kennedy, Khadijah, Khloe, Kiara, Kimora, Kristen, Kyla, Kylee, Kylie, Laila, Lailah, Lauren, Lauryn, Layla, Leah, Leilani, Lillian, Logan, London, Londyn, Lyric, Mackenzie, Madison, Madisyn, Makayla, Malaysia, Malia, Maliyah, Mariah, Mariam, Mariama, Maryam, Maya, McKenzie, Melanie, Mia, Michelle, Mikayla, Mila, Milan, Miracle, Morgan, Mya, Nahla, Naomi, Nevaeh, Nia, Nova, Nyla, Nylah, Olivia, Oumou, Paige, Paris, Penelope, Peyton, Phoenix, Riley, Samantha, Sanaa, Sanai, Saniyah, Sarah, Sarai, Sariah, Savannah, Serenity, Shiloh, Skye, Skyla, Skylah, Skylar, Skyler, Sofia, Sophia, Summer, Sydney, Taylor, Tiana, Tianna, Tori, Trinity, Victoria, Violet, Winter, Wynter, Zaniyah, Zara, Zariah, Zendaya, Zoe, Zoey, Zuri, Aaliyah, Abigail, Adelyn, Adriana, Adrianna, Aileen, Alana, Alanis, Alejandra, Alessandra, Alexa, Alexandra, Alexia, Alexis, Alice, Alicia, Alina, Alison, Alissa, Aliyah, Allison, Allyson, Alma, Alondra, Alyssa, Amalia, Amanda, Amaya, Amber, Amelia, Amy, Ana, Anabella, Anabelle, Anaya, Andrea, Angela, Angelica, Angelina, Angeline, Angelique, Angie, Anna, Annabella, Annabelle, Annalise, April, Arabella, Arely, Aria, Ariana, Arianna, Ariel, Ariella, Arielle, Arya, Ashley, Athena, Aubree, Aubrey, Audrey, Aurora, Autumn, Ava, Avery, Ayleen, Aylin, Bella, Bianca, Briana, Brianna, Brielle, Brigitte, Brittany, Brooke, Bryanna, Camila, Carla, Carmen, Carolina, Caroline, Cataleya, Catalina, Catherine, Cecilia, Celeste, Celine, Charlotte, Chelsea, Chloe, Christina, Crystal, Cynthia, Daisy, Daleyza, Daniela, Daniella, Danna, Dayana, Delilah, Destiny, Diana, Eileen, Elena, Eliana, Elisa, Eliza, Elizabeth, Ella, Emely, Emilia, Emily, Emma, Erika, Esmeralda, Esther, Eva, Evangeline, Evelyn, Faith, Francesca, Gabriela, Gabriella, Genesis, Gia, Gianna, Giselle, Grace, Guadalupe, Hailey, Hailie, Hannah, Haylee, Hazel, Heaven, Heidi, Helen, Isabel, Isabella, Isabelle, Itzel, Ivanna, Izabella, Jacqueline, Jade, Jasmine, Jayla, Jaylah, Jayleen, Jaylene, Jaylin, Jazlyn, Jazmin, Jennifer, Jessica, Jessie, Jimena, Jocelyn, Joselyn, Julia, Juliana, Julianna, Juliet, Juliette, Julissa, Kailey, Kaitlyn, Kamila, Karen, Karla, Kate, Katelyn, Katherine, Katie, Kayla, Kaylee, Kayleen, Kaylie, Kaylin, Keila, Kelly, Kendra, Keyla, Khloe, Kiara, Kimberly, Kylie, Laila, Laura, Lauren, Layla, Leah, Leila, Leilani, Leslie, Lesly, Leyla, Lia, Liana, Liliana, Lillian, Lily, Lindsay, Litzy, Lizbeth, Lola, London, Londyn, Lucia, Luciana, Luna, Mackenzie, Madeline, Madelyn, Madison, Magaly, Maia, Makayla, Maria, Mariah, Mariana, Marilyn, Marjorie, Maya, Megan, Melanie, Melany, Melina, Melissa, Melody, Mia, Michelle, Mikaela, Mila, Miranda, Monica, Monserrat, Montserrat, Mya, Naomi, Nashla, Natalia, Natalie, Nathalie, Nathaly, Nayeli, Nevaeh, Nicole, Nina, Nyla, Nylah, Olivia, Paige, Pamela, Paris, Penelope, Peyton, Rachel, Rebecca, Riley, Rose, Ruby, Ruth, Sabrina, Salome, Samantha, Sara, Sarah, Sarai, Savannah, Scarlett, Selena, Serenity, Sherlyn, Shirley, Sienna, Skyla, Skylar, Skyler, Sofia, Sophia, Sophie, Stella, Stephanie, Tatiana, Taylor, Tiffany, Trinity, Valentina, Valeria, Valerie, Valery, Vanessa, Victoria, Violet, Violeta, Wendy, Ximena, Yaretzi, Yasmin, Zoe, Zoey, Abigail, Ada, Addison, Adelaide, Adele, Adelina, Adeline, Adina, Adriana, Adrianna, Ahuva, Aisha, Alessandra, Alessia, Alexa, Alexandra, Alexis, Alice, Alina, Alisa, Aliza, Allison, Alma, Alyssa, Amanda, Amelia, Amelie, Amina, Amira, Ana, Anastasia, Angelica, Angelina, Anisa, Anna, Annabelle, Anne, Antonia, Aria, Ariana, Arianna, Ariel, Ariella, Ashley, Atara, Athena, Audrey, Aurora, Ava, Avery, Avigail, Avital, Aviva, Aya, Ayala, Ayla, Aziza, Baila, Barbara, Batsheva, Beatrice, Bella, Bianca, Blake, Blima, Blimy, Bracha, Brianna, Bridget, Brielle, Brooke, Brucha, Bruchy, Brynn, Caitlin, Camila, Camilla, Camille, Carly, Carolina, Caroline, Cassidy, Catherine, Cecelia, Cecilia, Celia, Celine, Chana, Chany, Charlie, Charlotte, Chava, Chavy, Chaya, Chloe, Christina, Claire, Clara, Clementine, Colette, Cora, Dahlia, Daniella, Danielle, Daphne, Delilah, Devora, Devorah, Diana, Dina, Dylan, Eden, Eleanor, Elena, Eleni, Eliana, Elisheva, Eliza, Elizabeth, Ella, Elle, Ellie, Eloise, Elsa, Emerson, Emilia, Emily, Emma, Emmeline, Erin, Esme, Ester, Esther, Esty, Etty, Eva, Evangeline, Eve, Evelyn, Everly, Evie, Faiga, Faigy, Fatima, Fiona, Fradel, Frady, Fraidy, Frances, Francesca, Frimet, Gabriela, Gabriella, Gabrielle, Gemma, Genevieve, Georgia, Gia, Gianna, Giovanna, Giselle, Gitty, Giuliana, Golda, Goldie, Goldy, Grace, Hadassah, Hadley, Hailey, Hana, Hanna, Hannah, Harlow, Harper, Hazel, Helen, Helena, Henchy, Henny, Hinda, Hindy, Iris, Isabel, Isabella, Isabelle, Isla, Ivy, Jacqueline, Jana, Jane, Jasmina, Jasmine, Jenna, Jessica, Jordyn, Josephine, Julia, Juliana, Julianna, Julie, Juliet, Juliette, June, Juniper, Kaitlyn, Kate, Katherine, Kayla, Kaylee, Keira, Kennedy, Khloe, Kira, Kylie, Laila, Lana, Lara, Laura, Lauren, Layan, Layla, Lea, Leah, Leila, Lena, Leora, Lia, Liana, Liba, Libby, Lila, Lilah, Lilian, Liliana, Lillian, Lilly, Lily, Lina, Linda, Liv, Livia, Lola, Louisa, Lucia, Lucy, Luna, Lydia, Lyla, Mackenzie, Madeleine, Madeline, Madelyn, Madison, Mae, Maeve, Maisie, Malak, Malka, Malky, Margaret, Margot, Maria, Mariam, Marielle, Mary, Maryam, Matilda, Maya, Melanie, Menucha, Mia, Michaela, Michelle, Mikayla, Mila, Milana, Mina, Mindy, Mira, Mirel, Miriam, Molly, Morgan, Mushka, Nadia, Naomi, Natalia, Natalie, Nechama, Nicole, Nina, Noa, Noelle, Noor, Nora, Olive, Olivia, Paige, Parker, Pearl, Penelope, Perel, Perl, Perry, Pessy, Peyton, Phoebe, Piper, Poppy, Quinn, Rachel, Raizel, Raizy, Rebecca, Reese, Reizy, Rena, Rifky, Riley, Rivka, Rivky, Rochel, Roizy, Rosa, Rose, Rowan, Ruby, Ruchel, Ruchy, Ruth, Sabrina, Sadie, Salma, Samantha, Samira, Sara, Sarah, Sasha, Savannah, Scarlett, Serena, Shaina, Shaindel, Shaindy, Shayna, Shifra, Shira, Shoshana, Siena, Sienna, Sima, Simone, Skylar, Sloane, Sofia, Sophia, Sophie, Stella, Summer, Suri, Sury, Sydney, Sylvia, Sylvie, Talia, Tamar, Taylor, Tess, Tessa, Thea, Toby, Trany, Tzipora, Tziporah, Valentina, Vera, Veronica, Victoria, Violet, Vivian, Vivienne, Willa, Yael, Yasmina, Yasmine, Yehudis, Yides, Yitty, Yocheved, Zelda, Zissy, Zoe, Zoey, Aahil, Aaron, Aayan, Abdullah, Adam, Adrian, Adyan, Ahmed, Ahnaf, Aidan, Aiden, Alan, Albert, Alex, Alexander, Alfred, Ali, Allen, Alston, Alvin, Anderson, Andrew, Andy, Anson, Anthony, Arham, Arjun, Armaan, Arvin, Aryan, Asher, Austin, Ayaan, Ayan, Ayden, Azaan, Benjamin, Benson, Brandon, Brayden, Brian, Bryan, Caleb, Calvin, Cameron, Carson, Carter, Charles, Chase, Chris, Christian, Christopher, Charles, Colin, Connor, Damon, Daniel, Darren, David, Derek, Devin, Dylan, Eason, Eden, Edison, Edward, Edwin, Eli, Elijah, Elvis, Emmanuel, Eric, Ethan, Evan, Felix, Frank, Gabriel, Gary, Gavin, George, Gordon, Grayson, Harrison, Hassan, Hayden, Henry, Hudson, Hunter, Ian, Ibrahim, Isaac, Isaiah, Ivan, Jack, Jacob, Jaden, Jake, James, Jason, Jasper, Jayden, Jeffrey, Jeremy, Jerry, Jimmy, John, Jonathan, Jordan, Joseph, Joshua, Julian, Justin, Kabir, Kaden, Kai, Kayden, Kevin, Kimi, Kingsley, Kyle, Lawrence, Leo, Leon, Leonardo, Liam, Logan, Louis, Luca, Lucas, Luke, Marcus, Mark, Mason, Matthew, Max, Maxwell, Michael, Miles, Mohammad, Mohammed, Muhammad, Musa, Nathan, Nathaniel, Neil, Nicholas, Noah, Oliver, Omar, Oscar, Owen, Rayan, Raymond, Rayyan, Rehan, Richard, Ricky, Riley, Rohan, Roman, Roy, Ryan, Ryder, Samuel, Sean, Sebastian, Shawn, Shayan, Simon, Stanley, Steven, Syed, Tenzin, Theodore, Thomas, Timothy, Tony, Travis, Tristan, Tyler, Victor, Vincent, Wesley, William, Wilson, Winston, Xavier, Zachary, Zain, Zayan, Aaron, Abdoul, Abdoulaye, Abraham, Adam, Aden, Adonis, Adrian, Ahmed, Aiden, Alexander, Ali, Alpha, Amadou, Amare, Amari, Amir, Andre, Andrew, Angel, Anthony, Antonio, Asher, Ashton, Austin, Avery, Ayden, Benjamin, Blake, Bradley, Brandon, Brian, Bryan, Bryce, Bryson, Caden, Caiden, Caleb, Calvin, Cameron, Carmelo, Carter, Cayden, Chance, Charles, Chase, Christian, Christopher, Daniel, Darren, David, Devin, Dominic, Donovan, Dylan, Eli, Elias, Elijah, Emmanuel, Eric, Ethan, Ezekiel, Ezra, Gabriel, Gavin, Giovanni, Greyson, Hunter, Ibrahim, Ibrahima, Isaac, Isaiah, Jace, Jacob, Jaden, Jaiden, Jalen, Jamar, James, Jasiah, Jason, Jaxon, Jayce, Jayceon, Jayden, Jaylen, Jayson, Jeremiah, Jeremy, Joel, John, Jonathan, Jordan, Joseph, Joshua, Josiah, Julian, Julius, Justice, Justin, Kaden, Kai, Kaiden, Kaleb, Kamari, Kareem, Karter, Kayden, Kenneth, Kevin, Khalil, King, Kingston, Kristian, Kyle, Kyrie, Landon, Levi, Liam, Logan, Lorenzo, Lucas, Luke, Major, Malachi, Malik, Mamadou, Marcus, Mason, Matthew, Mekhi, Messiah, Micah, Michael, Miles, Mohamed, Mohammed, Mouhamed, Moussa, Myles, Nasir, Nathan, Nathaniel, Nicholas, Noah, Noel, Nolan, Omar, Omari, Oumar, Peyton, Preston, Prince, Princeton, Quincy, Richard, Riley, Robert, Roman, Ryan, Samuel, Savion, Sean, Sebastian, Seth, Sincere, Steven, Thomas, Timothy, Travis, Tristan, Tyler, William, Wyatt, Xavier, Zachary, Zahir, Zaiden, Zaire, Zamir, Zane, Zayden, Zion, Aaron, Abel, Abraham, Adam, Adan, Adonis, Adrian, Adriel, Aidan, Aiden, Alan, Albert, Alberto, Alejandro, Alex, Alexander, Alexis, Allan, Allen, Amir, Anderson, Andres, Andrew, Andy, Angel, Anthony, Antonio, Ariel, Armani, Ashton, Austin, Avery, Axel, Ayden, Benjamin, Bradley, Brandon, Brayan, Brayden, Brian, Bruce, Bryan, Bryant, Bryce, Caleb, Cameron, Carlos, Carter, Cesar, Chase, Chris, Christian, Christopher, Cristian, Damian, Damien, Daniel, Danny, Dante, Dariel, Darwin, David, Dean, Dennis, Derek, Derick, Devin, Diego, Dominic, Dominick, Donovan, Dylan, Eddy, Edgar, Eduardo, Edward, Edwin, Eli, Elian, Elias, Elijah, Emanuel, Emiliano, Emilio, Emmanuel, Enrique, Enzo, Eric, Erick, Esteban, Ethan, Evan, Ezekiel, Ezequiel, Ezra, Fabian, Felix, Fernando, Francisco, Frank, Gabriel, Gael, Gavin, George, Gerardo, Giovanni, Grayson, Gregory, Hector, Henry, Hudson, Hunter, Ian, Iker, Isaac, Isaiah, Ismael, Israel, Ivan, Jace, Jack, Jackson, Jacob, Jaden, Jadiel, Jael, Jaiden, Jake, James, Jared, Jariel, Jason, Javier, Jaxon, Jaxson, Jay, Jayce, Jayceon, Jayden, Jayson, Jean, Jefferson, Jeffrey, Jeremiah, Jeremy, Jesus, Joaquin, Joel, Johan, John, Johnny, Jonah, Jonas, Jonathan, Jordan, Jorge, Jose, Joseph, Joshua, Josiah, Josue, Juan, Julian, Julio, Julius, Junior, Justin, Kaden, Kai, Kaiden, Kaleb, Kayden, Kendrick, Kenneth, Kenny, Kevin, King, Kyle, Landon, Leandro, Leo, Leon, Leonardo, Leonidas, Levi, Liam, Logan, Lorenzo, Louis, Luca, Lucas, Luis, Lukas, Luke, Maddox, Manuel, Marcelo, Marco, Marcos, Marcus, Mario, Mark, Marlon, Martin, Marvin, Mason, Mateo, Mathew, Mathias, Matias, Matteo, Matthew, Max, Maximilian, Maximiliano, Maximus, Maxwell, Melvin, Messiah, Michael, Miguel, Mike, Milan, Miles, Misael, Moises, Myles, Nathan, Nathaniel, Nelson, Neymar, Nicholas, Nicolas, Noah, Noel, Oliver, Omar, Orlando, Oscar, Owen, Pablo, Pedro, Peter, Prince, Rafael, Randy, Raymond, Ricardo, Richard, Riley, Robert, Roberto, Rodrigo, Romeo, Ruben, Ryan, Samuel, Santiago, Saul, Sean, Sebastian, Sergio, Skyler, Stephen, Steve, Steven, Theodore, Thiago, Thomas, Timothy, Tristan, Tyler, Uriel, Victor, Vincent, Walter, William, Xavier, Yadiel, Yahir, Yandel, Yariel, Zachary, Zayden, Aaron, Abraham, Adam, Adrian, Aharon, Ahmad, Ahmed, Logan, Aidan, Aiden, Akiva, Alan, Albert, Alex, Alexander, Ali, Amir, Andrew, Angelo, Anthony, Anton, Antonio, Archer, Ari, Ariel, Arlo, Aron, Arthur, Aryeh, Asher, Ashton, August, Austin, Avi, Avraham, Avrohom, Avrum, Axel, Ayden, Aydin, Baruch, Beckett, Ben, Benjamin, Bennett, Benzion, Berish, Berl, Binyamin, Binyomin, Blake, Boruch, Brady, Brandon, Brayden, Brendan, Brian, Brody, Brooks, Caleb, Calvin, Cameron, Carter, Chaim, Charles, Charlie, Chase, Cheskel, Christian, Christopher, Cole, Colin, Connor, Conor, Cooper, Cormac, Damian, Daniel, Dante, Dashiell, David, Dean, Declan, Denis, Derek, Devin, Dominic, Dominick, Dov, Dovid, Drew, Duvid, Dylan, Edward, Efraim, Eitan, Eli, Elias, Eliezer, Elijah, Elimelech, Eliyahu, Elliot, Elliott, Ellis, Emmett, Eric, Erik, Ethan, Evan, Everett, Ezra, Felix, Filip, Finn, Francesco, Francis, Frank, Frederick, Gabriel, Gavin, Gavriel, George, Giovanni, Giuseppe, Graham, Grant, Grayson, Gregory, Greyson, Griffin, Hamza, Harrison, Harry, Hayden, Henry, Hersh, Hershel, Hershy, Hillel, Hudson, Hugo, Hunter, Ian, Ibrahim, Imran, Isaac, Israel, Issac, Ivan, Jace, Jack, Jackson, Jacob, Jake, Jakub, James, Jason, Jasper, Jax, Jaxon, Jaxson, Jayden, Jeremy, Jesse, Joel, John, Jonah, Jonathan, Jordan, Joseph, Joshua, Judah, Jude, Julian, Justin, Kai, Karas, Kareem, Kevin, Kieran, Kyle, Landon, Lazer, Leibish, Leo, Leon, Leonardo, Lev, Levi, Liam, Lincoln, Lipa, Logan, Lorenzo, Louis, Luca, Lucas, Lucien, Luka, Lukas, Luke, Marc, Marcel, Marco, Marcus, Mark, Martin, Mason, Mateo, Matteo, Matthew, Max, Maxim, Maximilian, Maximus, Maxwell, Mayer, Meilech, Meir, Menachem, Menashe, Mendel, Mendy, Micah, Michael, Milan, Miles, Milo, Mohamed, Mohammed, Moishe, Mordche, Mordechai, Morris, Moses, Moshe, Muhammad, Myles, Naftali, Naftuli, Nathan, Nathaniel, Nicholas, Nico, Nicolas, Nikita, Noah, Noam, Nolan, Nosson, Oliver, Omar, Oscar, Owen, Parker, Patrick, Paul, Peter, Philip, Pinchas, Pinchus, Preston, Quinn, Rafael, Raphael, Rayan, Raymond, Reed, Reid, Reuben, Rhys, Richard, Riley, Robert, Rocco, Roman, Steven, Theo, Theodore, Thomas, Timothy, Tristan, Tyler, Tzvi, Usher, Victor, Vincent, Vincenzo, Wesley, Weston, William, Winston, Wolf, Wyatt, Xavier, Yaakov, Yahya, Yakov, Yaseen, Yechiel, Yehoshua, Yehuda, Yidel, Yisrael, Yisroel, Yitzchak, Yitzchok, Yoel, Yosef, Yossi, Yousef, Youssef, Yusuf, Zachary, Zev, Thiago, Ian, Anthony, Christopher, Joshua, Elijah, Michael, Gabriel, Isaac, Joseph, Ryan, Julian, Josiah, Ayden, Matias, Jeremy, Santiago, Justin, Nathan, Axel, Kayden, James, Oliver, Jeremiah, Jonathan, Jose, Brandon, Luis, Carlos, Christian, Nicholas, Benjamin, Xavier, Andrew, Kevin, Leonardo, Diego, Austin, Erick, John, Emmanuel, Alejandro, Damian, Jesus, Josue, Nicolas, Matteo, Alan, Isaiah, Jace, Caleb, Jayce, Nathaniel, Samuel, Joel, Juan, William, Henry, Leo, Miguel, Asher, Bryan, Evan, Adriel, Jason, Javier, Alex, Adam, Carter, Grayson, Rafael, Steven, Hunter, Victor, Elian, Lorenzo, Ean, King, Cristian, Ivan, Mathias, Dominic, Ezra, Francisco, Giovanni, Oscar, Abel, Jaden, Jake, Jaxon, Jonah, Luca, Adonis, Brayden, Emilio, Hector, Ismael, Johan, Jordan, Maximiliano, Abdiel, Andres, Greyson, Kaiden, Nolan, Amir, Eli, Enzo, Iker, Jadiel, Milan, Thomas, Tyler, Zayden, Abraham, Bryson, Julius, Tristan, Zachary, Derek, Edward, Edwin, Lukas, Noel, Ashton, Avery, Jonas, Landon, Levi, Martin, Owen, Yadiel, Chase, Dante, Dariel, Jorge, Messiah, Alexis, Allan, Antonio, Jack, Kai, Kaleb, Kenneth, Leandro, Marcus, Moises, Prince, Robert, Ezekiel, George, Israel, Jaxson, Kyrie, Pablo, Pedro, Zaid, Zion, Ariel, Cameron, Cesar, Emanuel, Isaias, Jackson, Manuel, Maximus, Roman, Danny, Eric, Jael, Jefferson, Leon, Stephen, Wesley, Allen, Anderson, Andy, Damien, Emiliano, Jay, Jayson, Maison, Marco, Marcos, Max, Albert, Brian, Bryce, Charles, Eduardo, Ezequiel, Joaquin, Julio, Kyle, Marcelo, Mario, Ricardo, Uriel, Xander, Angelo, Charlie, Jared, Mathew, Matthias, Maxwell, Armani, Chris, Edgar, Jaiden, Jax, Jean, Jeffrey, Randy, Theodore, Vincent, Yael, Yariel, Amari, Caiden, Esteban, Jariel, Jeremias, Joziah, Leonel, Luke, Maximilian, Orion, Raymond, Rodrigo, Tomas, Alessandro, Alfredo, Alvin, Andre, Arturo, Cayden, Connor, Cristopher, Dominick, Elliot, Fabian, Justice, Kendrick, Lennox, Lincoln, Maddox, Omar, Richard, Romeo, Samir, Isabella, Emma, Sophia, Mia, Camila, Sofia, Luna, Valentina, Abigail, Amelia, Leah, Victoria, Emily, Ava, Genesis, Samantha, Olivia, Scarlett, Mila, Ariana, Zoe, Alexa, Ashley, Allison, Alaia, Kaylee, Bella, Hailey, Melanie, Madison, Penelope, Amaya, Amy, Savannah, Elizabeth, Aaliyah, Grace, Kylie, Charlotte, Gianna, Sarah, Daniela, Emilia, Kimberly, Samara, Valerie, Jade, Valeria, Aria, Layla, Zoey, Brianna, Chloe, Gabriella, Leilani, Evelyn, Juliette, Eliana, Avery, Riley, Amaia, Arianna, Delilah, Elena, Hannah, Lia, Maya, Aubrey, Andrea, Catalina, Melody, Antonella, Ximena, Ana, Angelina, Eva, Gabriela, Katherine, Sara, Adriana, Alyssa, Amalia, Ella, Naomi, Nicole, Alana, Diana, Jazlyn, Rose, Isabel, Maria, Aurora, Danna, Jayleen, Kaylani, Nova, Alexandra, Alice, Aliyah, Athena, Emely, Kayla, Keily, Khloe, Michelle, Natalia, Jayla, Melissa, Natalie, Serenity, Skylar, Alison, Amanda, Arya, Chelsea, Lily, Lucia, Violet, Yaretzi, Kamila, Kiara, Maia, Sarai, Selena, Alejandra, Alicia, Amber, Angela, Briana, Julia, Leslie, Vanessa, Aliah, Jasmine, Juliet, Karla, Kehlani, Ruby, Stephanie, Aileen, Alani, Daniella, Isabelle, Juliana, Stella, Adeline, Alondra, Angelica, April, Esmeralda, Faith, Ivanna, Kaitlyn, Leila, Madelyn, Nashla, Nayeli, Nylah, Sienna, Alessandra, Analia, Aylin, Bianca, Elisa, Liliana, Anna, Arlette, Esther, Everly, Harmony, Jennifer, Keyla, Lizbeth, Mariana, Alanna, Alayna, Alina, Ariella, Briella, Destiny, Giselle, Itzel, Jocelyn, Kailani, Leia, London, Madeline, Melany, Summer, Alma, Anais, Autumn, Ayla, Cecilia, Daleyza, Dayana, Eileen, Ellie, Harley, Heaven, Julissa, Mackenzie, Nevaeh, Nyla, Peyton, Adrianna, Amira, Anastasia, Anaya, Angelique, Annabelle, Ariadna, Brittany, Jacqueline, Jaylene, Jimena, Kailey, Lauren, Lillian, Makayla, Micaela, Montserrat, Aleah, Annalise, Ariah, Arleth, Aubree, Brielle, Camille, Celine, Emmy, Gia, Hazel, Isabela, Jaylah, Jazmin, Leyla, Luciana, Meghan, Melina, Miranda, Paloma, Sherlyn, Stacy, Taylor, Valery, Zara, Adelyn, Alia, Alisson, Arielle, Chanel, Dahlia, Daisy, Elianny, Elliana, Ivy, Jaslyn, Jessica, Julianna, Julie, Kaylie, Kelly, Liana, Lianna, Malia, Mya, Phoenix, Rebecca, Sophie, Muhammad, Ethan, Jasper, Aiden, Ryan, Lucas, Jayden, Liam, Noah, Daniel, Eric, Jason, Aaron, Mohammad, Owen, William, Evan, Justin, Adam, Mason, Nathan, Jacob, Ayaan, Ian, Leo, Logan, Matthew, Oliver, Alexander, Henry, Kyle, James, Kevin, Dylan, Theodore, Andrew, Austin, Joshua, Benjamin, Brian, Tenzin, Arham, Jonathan, Vincent, Ibrahim, Max, Brandon, Ivan, Jack, Alex, Aryan, Mohammed, Musa, Abdullah, Connor, Marcus, Syed, Leon, Allen, Adrian, Zachary, Alan, Christopher, Isaac, Kayden, Luke, Maxwell, Nicholas, Rayan, Safwan, Ali, Charles, Eason, John, Julian, Samuel, David, Louis, Oscar, Abrar, Andy, Anthony, Elijah, Jeremy, Jordan, Luca, Michael, Nathaniel, Nolan, Winston, Yusuf, Zayan, Aarav, Alvin, Elvis, Jaden, Jeffrey, Kai, Sebastian, Wesley, Zayn, Carter, Edward, Gavin, Harrison, Hudson, Hunter, Jackson, Raymond, Tristan, Zain, Abdul, Ayden, Bryan, Caleb, Darren, Gabriel, Grayson, Joseph, Ahmed, Aidan, Arjun, George, Hayden, Kingsley, Rayyan, Ahmad, Anson, Ashton, Christian, Colin, Elias, Kabir, Sean, Timothy, Tyler, Veer, Ayan, Brayden, Derek, Eden, Eli, Felix, Ishaan, Kenneth, Md, Omar, Rehan, Saif, Aayan, Asher, Cyrus, Ismail, Rohan, Steven, Xander, Xavier, Aahil, Brendan, Calvin, Cameron, Chase, Devin, Edison, Hamza, Ivaan, Jerry, Miles, Mustafa, Parker, Ryder, Sahil, Skyler, Wilson, Chloe, Olivia, Mia, Sophia, Emma, Amelia, Emily, Evelyn, Grace, Isabella, Ava, Aria, Bella, Arya, Charlotte, Alina, Hannah, Ella, Joanna, Sarah, Zoe, Alice, Avery, Inaaya, Maya, Claire, Fatima, Harper, Luna, Abigail, Stella, Tenzin, Anna, Audrey, Sophie, Annie, Ellie, Hailey, Maryam, Anaya, Sofia, Victoria, Zara, Elena, Zoey, Aisha, Iris, Penelope, Alyssa, Amy, Ariana, Emilia, Vivian, Ashley, Irene, Ivy, Madison, Riley, Celine, Eva, Inaya, Kaylee, Layla, Leah, Scarlett, Serena, Amber, Ayat, Fiona, Kayla, Michelle, Mila, Zahra, Zainab, Aleena, Amaya, Ariel, Eleanor, Elizabeth, Hanna, Isabelle, Jasmine, Jessica, Josephine, Natalie, Nora, Angela, Nicole, Rachel, Zoya, Alisha, Allison, Anabia, Ayesha, Catherine, Jannat, Kaitlyn, Katherine, Kira, Lydia, Madeline, Melody, Miya, Syeda, Tiffany, Chelsea, Clara, Eliana, Gianna, Julia, Kaia, Madeleine, Myra, Phoebe, Samara, Sara, Skylar, Abby, Aliza, Annika, Eileen, Elina, Kelly, Naomi, Nina, Safa, Stephanie, Aiza, Anika, Cynthia, Diya, Isabel, Jocelyn, Karina, Khadijah, Reina, Samantha, Sylvia, Aayat, Alexandra, Aliya, Amira, Arisha, Aurora, Elaine, Eshaal, Esther, Hafsa, Isla, Jennifer, Joy, Leela, Leila, Lillian, Liyana, Maliha, Manha, Selina, Summer, Tina, David, Joseph, Michael, Moshe, Jacob, Benjamin, Alexander, James, William, Jack, Samuel, Daniel, Leo, Henry, Theodore, John, Liam, Noah, Adam, Isaac, Oliver, Chaim, Gabriel, Abraham, Mordechai, Matthew, Charles, Lucas, Nicholas, Ethan, Eli, Luca, Menachem, Yosef, Ryan, Thomas, Dylan, Max, Shimon, Yehuda, Anthony, Asher, Julian, Logan, Yitzchok, Aiden, Mason, Miles, Yisroel, Luke, Nathan, Aaron, Andrew, George, Jackson, Shlomo, Hudson, Ari, Joshua, Zachary, Yakov, Ezra, Aron, Meir, Tzvi, Omar, Owen, Yaakov, Zev, Vincent, Sebastian, Avraham, Christopher, Evan, Mark, Nathaniel, Shmuel, Robert, Connor, Levi, Maxwell, Jonathan, Peter, Elias, Finn, Leon, Oscar, Shaya, Arthur, Simon, Elliot, Felix, Jonah, Ahmed, Eliezer, Hunter, Mohamed, Edward, Simcha, Christian, Leonardo, Adrian, Jake, Aidan, Ali, Dov, Shulem, Cameron, Caleb, Dean, Grayson, Rafael, Wyatt, August, Dovid, Martin, Nolan, Austin, Cole, Jason, Jordan, Mendel, Naftali, Raphael, Amir, Solomon, Gavin, Harrison, Hershy, Nico, Theo, Eliyahu, Giovanni, Joel, Jude, Milo, Yusuf, Israel, Lev, Moses, Parker, Patrick, Victor, Cooper, Judah, Muhammad, Shia, Tyler, Wesley, Carter, Charlie, Lipa, Matteo, Paul, Akiva, Axel, Dominic, Lorenzo, Louis, Luka, Rayan, Alex, Aryeh, Elijah, Jasper, Steven, Timothy, Youssef, Avrohom, Brandon, Brody, Ian, Naftuli, Rowan, Salvatore, Sam, Shlome, Shmiel, Yechiel, Ariel, Bennett, Declan, Kevin, Mayer, Nicolas, Richard, Arlo, Graham, Harry, Kai, Morris, Noam, Pinchus, Remy, Ronan, Shea, Hamza, Hugo, Ibrahim, Marco, Micah, Roman, Ahron, Albert, Baruch, Benzion, Calvin, Chase, Colin, Efraim, Mateo, Shloimy, Shloma, Spencer, Yousef, Zayn, Cheskel, Frederick, Jayden, Marc, Rory, Yossi, Antonio, Avrum, Ben, Duvid, Francis, Imran, Lazer, Lukas, Maximilian, Meyer, Myles, Pinchas, Raymond, Zain, Alan, Brayden, Jaxon, Kieran, Lincoln, Moishe, Reid, River, Santino, Shane, Shloime, Tristan, Usher, Walter, Eitan, Ellis, Elya, Fishel, Gregory, Leonard, Meilech, Mendy, Rocco, Sean, Selim, Yoel, Conor, Elimelech, Emmett, Everett, Grant, Greyson, Griffin, Julius, Mohammed, Philip, Reuven, Riley, Shalom, Yehoshua, Zalmen, Abdulloh, Angelo, Archer, Avery, Avi, Blake, Boruch, Desmond, Dominick, Hayden, Hillel, Holden, Marcus, Mechel, Samir, Shaul, Stephen, Xavier, Yitzchak, Aharon, Berish, Binyomin, Brady, Brian, Carmine, Elliott, Eric, Francesco, Giuseppe, Jaxson, Justin, Kyle, Marcel, Maximus, Orion, Ryder, Sholom, Silas, Yidel, Ansel, Berl, Binyamin, Burech, Chesky, Emir, Hershel, Ilan, Ivan, Jad, Jameson, Kian, Laith, Maverick, Maxim, Mordche, Quinn, Sammy, Umar, Wilder, Yanky, Abdullah, Ahmad, Amirjon, Arye, Bodhi, Brendan, Cody, Colton, Cyrus, Finnegan, Frank, Gavriel, Hassan, Jace, Jax, Landon, Malek, Malik, Milan, Nikolas, Otis, Rhys, Sawyer, Shneur, Stefan, Weston, Yisrael, Zane, Esther, Leah, Sarah, Olivia, Chaya, Emma, Rachel, Charlotte, Chana, Sophia, Mia, Miriam, Rivka, Ella, Sara, Ava, Maya, Sofia, Emily, Abigail, Amelia, Isabella, Elizabeth, Grace, Chloe, Hannah, Mila, Anna, Rivky, Zoe, Eleanor, Emilia, Victoria, Julia, Stella, Gitty, Raizy, Lily, Faigy, Malka, Alice, Penelope, Baila, Nora, Sophie, Eliana, Evelyn, Riley, Alexandra, Avery, Malky, Sienna, Lucy, Aria, Devorah, Madison, Shaindy, Harper, Eva, Gabriella, Naomi, Scarlett, Talia, Violet, Rose, Sury, Juliette, Hindy, Lila, Valentina, Isabelle, Josephine, Layla, Nina, Yitty, Maria, Natalie, Nicole, Caroline, Fiona, Margaret, Mindy, Noa, Ariana, Chany, Clara, Katherine, Quinn, Ruby, Samantha, Claire, Luna, Ariella, Lucia, Madeline, Audrey, Ellie, Goldy, Isla, Pearl, Blimy, Amina, Cecilia, Chava, Margot, Nechama, Savannah, Sloane, Isabel, Rebecca, Rochel, Dina, Lillian, Toby, Zissy, Adele, Pessy, Eloise, Gianna, Hailey, Juliana, Mariam, Sadie, Vivienne, Addison, Vivian, Zoey, Alessia, Angelina, Blima, Catherine, Celine, Georgia, Vera, Beatrice, Brooke, Lia, Molly, Sabrina, Yides, Bella, Dylan, Elena, Elle, Ivy, Juliet, Kayla, Sydney, Adina, Colette, Eliza, Esty, Francesca, Liana, Mackenzie, Yocheved, Adeline, Leila, Alina, Batsheva, June, Lola, Madelyn, Amira, Ayla, Cora, Devora, Eve, Liv, Lyla, Ruchy, Ruth, Sima, Skylar, Aisha, Alessandra, Aurora, Aviva, Camilla, Hazel, Jane, Lea, Lena, Louisa, Maryam, Matilda, Piper, Tessa, Veronica, Ahuva, Annabelle, Bracha, Brielle, Gittel, Leora, Liba, Libby, Liliana, Mary, Poppy, Simone, Willa, Yehudis, Adriana, Diana, Fraidy, Frances, Giuliana, Laila, Madeleine, Michelle, Milana, Shifra, Aliza, Amalia, Arielle, Blake, Camille, Chavy, Eden, Elise, Esme, Gemma, Idy, Louise, Mira, Olive, Parker, Perl, Shoshana, Ada, Anastasia, Arianna, Frady, Genevieve, Hinda, Keira, Lauren, Malika, Raizel, Reese, Remy, Rivkah, Sasha, Shaindel, Siena, Allison, Emerson, Faiga, Gia, Golda, Henny, Iris, Layan, Lilah, Lydia, Perel, Shira, Alma, Aya, Charlie, Elisheva, Hadassah, Hanna, Lina, Morgan, Nava, Noelle, Reem, Shukrona, Summer, Tehila, Alisa, Athena, Callie, Etty, Frieda, Mabel, Margaux, Melina, Millie, Noor, Rifky, Serena, Shaina, Taylor, Theodora, Trany, Yael, Yara, Brianna, Camila, Kaia, Maeve, Marina, Melissa, Rahaf, Samira, Simi, Suri, Sylvia, Tamar, Tzipora, Adelina, Ashley, Ayala, Dahlia, Daisy, Daniella, Devoiry, Evie, Florence, Kate, Lara, Laura, Michaela, Mikaela, Miri, Raquel, Rina, Teagan, Thea, Valerie, Zara, Zelda, Arya, Aubrey, Billie, Dalia, Daria, Elina, Emmy, Fradel, Freida, Georgina, Greta, Hana, Imona, Jasmine, Juniper, Lana, Leyla, Lielle, Mayar, Melanie, Mushka, Paloma, Remi, Romy, Shevy, Stephanie, Tallulah, Alexis, Ana, Angela, Anisa, Avigail, Bruchy, Chiara, Everly, Farah, Frida, Frimet, Gabrielle, Goldie, Helena, Jenna, Joanna, Judy, Julianna, Kennedy, Kira, Leia, Lilian, Livia, Mollie, Olympia, Orly, Parizoda, Phoebe, Reagan, Rowan, Sylvie, Vanessa, Viviana, Noah, Liam, Aiden, Jeremiah, Josiah, Logan, Amir, Ethan, Elijah, Jayden, Mason, Joshua, Carter, Messiah, Michael, Zion, Kyrie, Kayden, King, Hunter, Ryan, Mohamed, Daniel, Caleb, Chase, Kaiden, Christian, Amari, Isaiah, Malachi, Prince, Jace, Tristan, Samuel, David, Bryson, Jacob, Jayce, Kairo, Nathan, Ayden, Bryce, Anthony, Micah, Nasir, Xavier, Gabriel, Ashton, Jordan, Adonis, Dylan, Tyler, Ibrahim, Jason, Cameron, Kai, Karter, Nathaniel, Christopher, Emmanuel, Justin, Mamadou, Omari, Aaron, William, Alexander, Asher, Levi, Nicholas, Avery, James, Jaxon, Matthew, Austin, Chance, Jaden, Joseph, Cairo, Isaac, Jaylen, Jonathan, Kenzo, Legend, Zaire, Benjamin, Brandon, Caiden, Jaiden, Kameron, Kevin, Sebastian, Cayden, Eli, Elias, Giovanni, Greyson, Jayceon, Julian, Lucas, Malik, Zachary, Zane, Andrew, Khalil, Sincere, Grayson, Leo, Mekhi, Muhammad, Oumar, Abdoulaye, Ali, Ezekiel, Jaxson, Marcus, Maximus, Roman, Zaiden, Ace, Adrian, Jamari, Joel, Kyle, Luke, Major, Preston, Princeton, Zayden, August, Bryan, Ibrahima, John, Kamari, Moussa, Ahmed, Dominic, Ezra, Jamir, Jasiah, Nolan, Omar, Ousmane, Timothy, Alex, Dallas, Julius, Justice, Kaleb, Kareem, Khari, Kingston, Mark, Miles, Musa, Nazir, Nehemiah, Noel, Richard, Robert, Stephen, Andre, Darius, Israel, Judah, Mahamadou, Mouhamed, Myles, Quincy, Sage, Sean, Seth, Ava, Madison, Olivia, Skylar, Amelia, Zuri, Riley, Chloe, Isabella, Zoey, Aaliyah, Savannah, Nova, Brielle, Abigail, Aria, Mia, Fatoumata, Bella, Serenity, Fatima, Ariah, Faith, Harmony, Nevaeh, Nyla, Zoe, Layla, Aisha, Gabriella, Sarah, Hailey, Amina, Autumn, Gabrielle, Amiyah, Maya, Nylah, Taylor, Grace, Kayla, Mariama, Naomi, Paris, Sarai, Victoria, Alani, Amaya, Aniyah, Laila, Khloe, Leah, London, Malia, Mariam, Destiny, Elizabeth, Genesis, Kylie, Makayla, Miracle, Sophia, Arielle, Eliana, Emily, Heaven, Jayla, Journee, Mya, Nia, Paige, Aliyah, Arya, Egypt, Gianna, Kaylee, Aubrey, Avery, Emma, Hannah, Hawa, Jada, Kali, Londyn, Michelle, Oumou, Peyton, Summer, Aminata, Amirah, Ariana, Ariel, Imani, Trinity, Christina, Leilani, Sage, Saniyah, Alyssa, Aniya, Heavenly, Kennedy, Lyric, Skyla, Arianna, Brianna, Brooke, Cali, Emmanuella, Hope, Jade, Jordyn, Kehlani, Khadija, Maliyah, Melody, Aissatou, Amayah, Amira, Dream, Fanta, Jayda, Kelsey, Marley, Milani, Morgan, Nailah, Phoenix, Princess, Sanai, Tori, Wynter, Yara, Addison, Anaya, Ariyah, Cassidy, Elise, Eva, Kaliyah, Kaylani, Kimora, Kyla, Mackenzie, Mila, Reign, Rylee, Skylah, Zaria, Azariah, Bailey, Demi, Esther, Isabelle, Janiyah, Journey, Khadijah, Lauren, Madisyn, Mariah, McKenzie, Melanie, Milan, Nala, Royalty, Sariyah, Simone, Zahra\""
      ]
     },
     "execution_count": 100,
     "metadata": {},
     "output_type": "execute_result"
    }
   ],
   "source": [
    "# series to string with comma\n",
    "\", \".join(baby_names[\"Child's First Name\"])"
   ]
  },
  {
   "cell_type": "code",
   "execution_count": 101,
   "id": "1966cd08",
   "metadata": {},
   "outputs": [
    {
     "data": {
      "text/plain": [
       "7922       Aahil\n",
       "1111     Aaliyah\n",
       "547        Aarav\n",
       "548        Aaron\n",
       "11951      Aarya\n",
       "          ...   \n",
       "205         Zoey\n",
       "39472       Zora\n",
       "6663        Zoya\n",
       "1295        Zuri\n",
       "897       Zyaire\n",
       "Name: Child's First Name, Length: 1938, dtype: object"
      ]
     },
     "execution_count": 101,
     "metadata": {},
     "output_type": "execute_result"
    }
   ],
   "source": [
    "baby_names[\"Child's First Name\"].str.title().drop_duplicates().sort_values()"
   ]
  },
  {
   "cell_type": "code",
   "execution_count": 102,
   "id": "452a7e32",
   "metadata": {},
   "outputs": [
    {
     "data": {
      "text/plain": [
       "\"Aahil, Aaliyah, Aarav, Aaron, Aarya, Aaryan, Aayan, Aayat, Abby, Abdiel, Abdoul, Abdoulaye, Abdul, Abdullah, Abdulloh, Abe, Abel, Abigail, Aboubacar, Abraham, Abrar, Abrielle, Abril, Abubakr, Ace, Ada, Adalynn, Adam, Adan, Addison, Adelaide, Adele, Adelina, Adeline, Adelyn, Adelynn, Aden, Adiel, Adina, Aditya, Adonis, Adrian, Adriana, Adrianna, Adriel, Adyan, Ahad, Aharon, Ahmad, Ahmed, Ahnaf, Ahron, Ahuva, Aicha, Aidan, Aiden, Ailani, Aileen, Aimee, Aisha, Aissata, Aissatou, Aitana, Aiza, Aizah, Akiva, Alahia, Alaia, Alaina, Alan, Alana, Alani, Alanis, Alanna, Alayna, Alba, Albert, Alberto, Aldo, Aleah, Alec, Aleena, Alejandra, Alejandro, Aleksander, Aleksandra, Alessandra, Alessandro, Alessia, Alex, Alexa, Alexander, Alexandra, Alexandria, Alexia, Alexis, Alfred, Alfredo, Ali, Alia, Aliah, Alice, Alicia, Alijah, Alina, Alisa, Alisha, Alison, Alissa, Alisson, Aliya, Aliyah, Aliza, Allan, Allen, Allison, Allyson, Alma, Alondra, Alonso, Alpha, Alston, Alter, Alvin, Alyson, Alyssa, Amadou, Amaia, Amalia, Amanda, Amani, Amar'E, Amara, Amare, Amari, Amaya, Amayah, Ambar, Amber, Amberly, Ameer, Amelia, Amelie, Amia, Amina, Aminata, Amir, Amira, Amirah, Amirjon, Amiya, Amiyah, Amora, Amrom, Amy, Ana, Anabel, Anabella, Anabelle, Anabia, Anahi, Anais, Analia, Ananya, Anas, Anastasia, Anaya, Anayah, Anderson, Andre, Andrea, Andres, Andrew, Andy, Angel, Angela, Angelica, Angelina, Angeline, Angelique, Angelo, Angely, Angie, Angus, Anika, Anisa, Anisha, Aniya, Aniyah, Anjali, Anna, Annabel, Annabella, Annabelle, Annalise, Anne, Annie, Annika, Ansel, Anson, Anthony, Anton, Antonella, Antonia, Antonio, Anya, April, Arabella, Archer, Arden, Arely, Arham, Ari, Aria, Ariadna, Ariadne, Ariah, Arian, Ariana, Arianna, Arianny, Ariel, Ariela, Ariella, Arielle, Arisha, Ariyah, Arjun, Arleth, Arlette, Arlo, Armaan, Armando, Armani, Aron, Arthur, Arturo, Arvin, Arya, Aryan, Arye, Aryeh, Asher, Ashley, Ashly, Ashton, Asia, Astrid, Atara, Athena, Atticus, Aubree, Aubrey, Audrey, August, Augustus, Aurelia, Aurora, Austin, Autumn, Ava, Avery, Avi, Aviel, Avigail, Avital, Aviva, Avraham, Avril, Avrohom, Avrum, Awa, Axel, Aya, Ayaan, Ayala, Ayan, Ayanna, Ayat, Ayden, Aydin, Ayelet, Ayesha, Ayla, Ayleen, Aylin, Ayra, Azaan, Azaria, Azariah, Aziza, Baila, Bailey, Barbara, Baruch, Basya, Batsheva, Batya, Beatrice, Beatrix, Beau, Beckett, Belen, Bella, Ben, Benjamin, Bennett, Benson, Bentzion, Benzion, Berish, Berl, Bethany, Bianca, Billie, Bina, Bintou, Binyamin, Binyomin, Blair, Blake, Blessing, Blima, Blimy, Bodhi, Bonnie, Boruch, Boubacar, Bowen, Bracha, Bradley, Brady, Brandon, Brayan, Brayden, Breindy, Brenda, Brendan, Bria, Brian, Briana, Brianna, Brianny, Bridget, Briella, Brielle, Brigitte, Britney, Brittany, Brody, Brooke, Brooklyn, Brooks, Bruce, Brucha, Bruchy, Bruno, Bryan, Bryanna, Bryant, Bryce, Brynn, Bryson, Burech, Byron, Caden, Caiden, Cairo, Caitlin, Caleb, Cali, Callie, Calvin, Camden, Cameron, Camila, Camilla, Camille, Camilo, Camren, Carina, Carla, Carlos, Carly, Carmelo, Carmen, Carmine, Carolina, Caroline, Carson, Carter, Casey, Cassandra, Cassidy, Cataleya, Catalina, Catherine, Cayden, Cecelia, Cecilia, Celeste, Celia, Celine, Cesar, Chace, Chad, Chaim, Chana, Chance, Chanel, Chanie, Chany, Charles, Charlie, Charlotte, Chase, Chava, Chavy, Chaya, Chelsea, Cheskel, Chesky, Cheyenne, Chiara, Chloe, Chris, Christian, Christina, Christine, Christopher, Christy, Cindy, Claire, Clara, Clark, Claudia, Clementine, Cleo, Cody, Cole, Colette, Colin, Colton, Connie, Connor, Conor, Cooper, Cora, Corey, Cormac, Cristian, Cristina, Cristofer, Cristopher, Crosby, Crystal, Cynthia, Cyrus, Dahlia, Daisy, Dakota, Daleyza, Dalia, Dallas, Damani, Damari, Damaris, Damian, Damien, Damon, Dana, Daniel, Daniela, Daniella, Danielle, Danna, Danny, Dante, Daphne, Dara, Daria, Dariel, Darius, Darren, Darwin, Dashiell, David, Dayana, Dean, Deborah, Declan, Delilah, Demi, Denis, Denise, Denisse, Dennis, Denzel, Dereck, Derek, Derick, Derrick, Desmond, Destiny, Devin, Devoiry, Devon, Devora, Devorah, Devory, Diana, Diego, Dilan, Dillon, Dina, Dion, Dior, Diya, Diyora, Dominic, Dominick, Donovan, Doris, Dov, Dovid, Dream, Drew, Dua, Dulce, Duvid, Dwayne, Dylan, Ean, Eason, Eddie, Eddy, Eden, Edgar, Edison, Edith, Eduardo, Edward, Edwin, Efraim, Egypt, Eileen, Eitan, Elaine, Elan, Eleanor, Elena, Eleni, Eli, Eliam, Elian, Eliana, Elianna, Elianny, Elias, Eliel, Eliezer, Elijah, Elimelech, Elina, Eliot, Elisa, Elise, Elisheva, Eliyahu, Eliza, Elizabeth, Ella, Elle, Elliana, Ellie, Elliot, Elliott, Ellis, Elodie, Eloise, Elsa, Eluzer, Elvin, Elvis, Elya, Emaan, Emani, Emanuel, Emely, Emerson, Emery, Emil, Emilia, Emiliano, Emilio, Emily, Emir, Emma, Emmanuel, Emmanuella, Emmeline, Emmett, Emmy, Empress, Enrique, Enzo, Ephraim, Eric, Erica, Erick, Erik, Erika, Erin, Ermias, Eshaal, Eshal, Eshan, Esme, Esmeralda, Essence, Esteban, Estelle, Ester, Esther, Estrella, Esty, Ethan, Etty, Eunice, Eva, Evan, Evangeline, Eve, Evelina, Evelyn, Everett, Everly, Evie, Eyad, Ezekiel, Ezequiel, Ezra, Ezriel, Fabian, Faiga, Faigy, Faith, Fanta, Farah, Farhan, Farida, Fatima, Fatou, Fatoumata, Felipe, Felix, Fernanda, Fernando, Feynman, Filip, Finley, Finn, Finnegan, Fiona, Fishel, Florence, Fradel, Frady, Fraidy, Frances, Francesca, Francesco, Francis, Francisco, Frank, Franklin, Freddy, Frederick, Freida, Freya, Frida, Frieda, Frimet, Gabriel, Gabriela, Gabriella, Gabrielle, Gael, Gaia, Galilea, Gary, Gavin, Gavriel, Gemma, Genesis, Genevieve, George, Georgia, Georgina, Geraldine, Gerard, Gerardo, Gia, Giada, Giancarlo, Gianluca, Gianna, Gianni, Gideon, Giovani, Giovanna, Giovanni, Giovanny, Giselle, Gittel, Gitty, Giulia, Giuliana, Giuseppe, Golda, Goldie, Goldy, Gordon, Grace, Graham, Grant, Grayson, Gregory, Greta, Grey, Greyson, Griffin, Guadalupe, Gustavo, Guy, Gwendolyn, Hadassa, Hadassah, Hadley, Hafsa, Hailey, Hailie, Haley, Hamza, Hana, Haniya, Hanley, Hanna, Hannah, Hao, Hareem, Harley, Harlow, Harmony, Harper, Harrison, Harry, Harvey, Hashim, Hassan, Hawa, Hayden, Haylee, Hayley, Hazel, Heaven, Heavenly, Hector, Heidi, Heidy, Helen, Helena, Henchy, Hendy, Henny, Henry, Herman, Hersh, Hershel, Hershy, Hillel, Hinda, Hindy, Holden, Hoorain, Hope, Hudson, Hugo, Hunter, Ian, Ibrahim, Ibrahima, Ibrohim, Idris, Idy, Iker, Ilan, Ilana, Imani, Imogen, Imona, Imran, Inaaya, Inaya, Ines, Ingrid, Irene, Iris, Isaac, Isabel, Isabela, Isabella, Isabelle, Isaiah, Isaias, Ishaan, Ishmael, Isiah, Isis, Isla, Ismael, Ismail, Israel, Issac, Itzel, Ivaan, Ivan, Ivanna, Ivy, Iymona, Izabella, Izaiah, Jabari, Jace, Jack, Jackson, Jacky, Jacob, Jacqueline, Jad, Jada, Jade, Jaden, Jadiel, Jael, Jaelyn, Jaelynn, Jaheim, Jahir, Jahmir, Jaiden, Jaime, Jair, Jake, Jakob, Jakub, Jalen, Jaliyah, Jamal, Jamar, Jamari, Jamel, James, Jameson, Jamie, Jamir, Jana, Janae, Jane, Janelle, Janice, Janiel, Janiya, Janiyah, Jannat, Jannatul, Januel, Jared, Jariel, Jasiah, Jaslene, Jaslyn, Jasmin, Jasmina, Jasmine, Jason, Jasper, Javier, Jax, Jaxon, Jaxson, Jay, Jayce, Jayceon, Jaycob, Jayda, Jayden, Jayla, Jaylah, Jaylee, Jayleen, Jaylen, Jaylene, Jaylin, Jaylyn, Jayren, Jayson, Jaziel, Jazlyn, Jazmin, Jazmine, Jazzlyn, Jean, Jeancarlos, Jefferson, Jeffrey, Jelani, Jencarlos, Jenna, Jennifer, Jenny, Jeremiah, Jeremias, Jeremy, Jermaine, Jerry, Jesse, Jessica, Jessie, Jesus, Jewel, Jia, Jimena, Jimmy, Joanna, Joaquin, Jocelyn, Joel, Johan, Johann, Johanna, John, Johnathan, Johnny, Jolie, Jolin, Jonael, Jonah, Jonas, Jonathan, Jordan, Jordi, Jordyn, Jorge, Jose, Josef, Joselyn, Joseph, Josephine, Joshua, Josiah, Josie, Josue, Journee, Journey, Joy, Joyce, Joziah, Juan, Judah, Jude, Judy, Julia, Julian, Juliana, Julianna, Julie, Julien, Juliet, Juliette, Julio, Julissa, Julius, Jun, June, Junior, Juniper, Justice, Justin, Kabir, Kacper, Kaden, Kadiatou, Kaelyn, Kai, Kaia, Kaiden, Kailani, Kailee, Kailey, Kailyn, Kairo, Kaitlyn, Kalani, Kaleb, Kali, Kaliyah, Kamari, Kameron, Kamila, Kamiyah, Kamren, Karas, Kareem, Karen, Karina, Karla, Karter, Kassandra, Kate, Katelyn, Katelynn, Katerina, Katherine, Kathryn, Katie, Kaya, Kayden, Kayla, Kaylani, Kaylee, Kayleen, Kayleigh, Kaylie, Kaylin, Kayson, Kazi, Kehlani, Keila, Keily, Keira, Keith, Kelly, Kelsey, Kelvin, Kendra, Kendrick, Kennedi, Kennedy, Kenneth, Kenny, Kenya, Kenzie, Kenzo, Kevin, Keyla, Khadija, Khadijah, Khaleesi, Khalil, Khari, Khloe, Kian, Kiara, Kiera, Kieran, Kimberly, Kimi, Kimora, King, Kingsley, Kingston, Kira, Kiyan, Kori, Kourtney, Krish, Kristen, Kristian, Kristina, Krystal, Kyla, Kyle, Kylee, Kylie, Kymani, Kyree, Kyrie, Kyro, Kyson, Laia, Laila, Lailah, Laith, Lamar, Lana, Landon, Lara, Larry, Laura, Lauren, Lauryn, Lawrence, Layan, Layla, Lazer, Lea, Leah, Leandro, Leanna, Leela, Legend, Leia, Leibish, Leila, Leilani, Leilany, Lena, Lennox, Lenny, Leo, Leon, Leona, Leonard, Leonardo, Leonel, Leonidas, Leora, Lesley, Leslie, Lesly, Lev, Levi, Leyla, Lia, Liah, Liam, Lian, Liana, Lianna, Liba, Libby, Lielle, Lila, Lilah, Lilia, Lilian, Liliana, Lillian, Lilliana, Lilly, Lily, Lina, Lincoln, Linda, Lindsay, Lionel, Liora, Lipa, Lisa, Litzy, Liv, Livia, Liyana, Liz, Lizbeth, Lizeth, Logan, Lola, London, Londyn, Lorenzo, Louis, Louisa, Louise, Luca, Lucas, Lucia, Lucian, Luciana, Lucien, Lucille, Lucy, Luis, Luka, Lukas, Luke, Luna, Luz, Lyanna, Lydia, Lyla, Lyric, Mabel, Mackenzie, Maddox, Madeleine, Madeline, Madelyn, Madina, Madison, Madisyn, Mae, Maeve, Magaly, Maggie, Mahamadou, Mahnoor, Maia, Maimouna, Maisie, Maison, Maite, Major, Makai, Makayla, Makenzie, Makhi, Maksim, Malachi, Malak, Malaysia, Malcolm, Malek, Malia, Maliha, Malik, Malika, Maliyah, Malka, Malky, Mamadou, Mandy, Manha, Manuel, Marc, Marcel, Marcelo, Marco, Marcos, Marcus, Margaret, Margaux, Margot, Maria, Mariah, Mariam, Mariama, Mariana, Marie, Marielle, Marilyn, Marina, Mario, Marisol, Marjorie, Mark, Marley, Marlon, Marlowe, Marquis, Martin, Marvin, Mary, Maryam, Mason, Massimo, Mateo, Mathew, Mathias, Matias, Matilda, Matteo, Matthew, Matthias, Maurice, Mauricio, Maverick, Max, Maxim, Maximilian, Maximiliano, Maximo, Maximus, Maxwell, Maya, Mayar, Mayer, Mayson, Mckenzie, Md, Mechel, Meera, Megan, Meghan, Meilech, Meir, Meira, Mekhi, Melania, Melanie, Melany, Melina, Melissa, Melody, Melvin, Menachem, Menashe, Mendel, Mendy, Menucha, Meshilem, Messiah, Meyer, Mia, Miah, Micaela, Micah, Michael, Michaela, Michal, Michelle, Miguel, Mika, Mikael, Mikaela, Mikayla, Mike, Mila, Milagros, Milan, Milana, Milani, Milania, Milena, Miles, Miley, Millie, Milo, Mina, Mindy, Mira, Miracle, Miranda, Mirel, Miri, Miriam, Misael, Miya, Mohamed, Mohammad, Mohammed, Moises, Moishe, Moishy, Mollie, Molly, Monica, Monserrat, Montserrat, Mordche, Mordechai, Morgan, Morris, Moses, Moshe, Motty, Mouhamed, Moussa, Muhammad, Muhammad Ali, Muntaha, Musa, Mushka, Muslima, Mustafa, Mya, Myles, Myra, Nabiha, Nachman, Nadia, Naftali, Naftuli, Nahla, Nailah, Nala, Nalani, Nana, Nancy, Naomi, Nashla, Nashley, Nashly, Nasir, Natalia, Natalie, Nataly, Natasha, Nathalia, Nathalie, Nathaly, Nathan, Nathanael, Nathaniel, Nava, Nayeli, Nayla, Nazir, Nechama, Nehemiah, Neil, Nelson, Nevaeh, Neymar, Nia, Niam, Nicholas, Nico, Nicolas, Nicole, Nicolette, Nigel, Nikhil, Nikita, Nikolai, Nikolas, Nina, Noa, Noach, Noah, Noam, Noel, Noelle, Noemi, Nolan, Noor, Nora, Norah, Nosson, Nova, Nuchem, Nusrat, Nyah, Nyla, Nylah, Olive, Oliver, Olivia, Olympia, Omar, Omari, Ophelia, Oren, Ori, Orion, Orlando, Orly, Oscar, Oskar, Otis, Otto, Oumar, Oumou, Ousmane, Owen, Pablo, Paige, Paloma, Pamela, Paola, Paris, Parizoda, Parker, Patrick, Paul, Paula, Payton, Pearl, Pedro, Penelope, Perel, Peretz, Perl, Perla, Perry, Pessy, Peter, Peyton, Philip, Phoebe, Phoenix, Pierce, Pinchas, Pinchus, Piper, Polina, Poppy, Precious, Preston, Prince, Princess, Princeton, Priscilla, Queena, Queenie, Quincy, Quinn, Rachel, Rafael, Rahaf, Raina, Raizel, Raizy, Ralph, Randy, Raphael, Raquel, Raul, Raya, Rayan, Raymond, Rayna, Rayyan, Reagan, Rebecca, Reed, Reem, Reese, Rehan, Reid, Reign, Reina, Reizy, Remi, Remy, Rena, Renata, Renee, Reuben, Reuven, Rhea, Rhys, Ricardo, Richard, Ricky, Rifka, Rifky, Rihanna, Riley, Rina, Riva, River, Rivka, Rivkah, Rivky, Riya, Robert, Roberto, Rocco, Rochel, Rodney, Rodrigo, Roger, Rohaan, Rohan, Roiza, Roizy, Roman, Romeo, Romy, Ronald, Ronaldo, Ronan, Rory, Rosa, Rose, Roselyn, Rosemary, Rosie, Rowan, Roy, Royal, Royalty, Royce, Ruben, Ruby, Ruchel, Ruchy, Russell, Ruth, Ryan, Ryder, Rylee, Sabiha, Sabina, Sabrina, Sade, Sadie, Safa, Safwan, Sage, Sahil, Saif, Saifan, Saige, Saint, Salma, Salome, Salvatore, Sam, Sama, Samaira, Samantha, Samara, Sami, Samir, Samira, Samiya, Samiyah, Sammy, Samuel, Sanaa, Sanai, Sandra, Saniya, Saniyah, Santiago, Santino, Saoirse, Sapphire, Sara, Sarah, Sarahi, Sarai, Sari, Sariah, Sarina, Sariyah, Sasha, Saul, Savanna, Savannah, Savion, Sawyer, Scarlet, Scarlett, Scott, Sean, Sebastian, Sekou, Selena, Selim, Selina, Selma, Serafina, Serena, Serenity, Sergio, Seth, Sevyn, Shaina, Shaindel, Shaindy, Shalom, Shane, Shania, Shaniya, Sharon, Shaul, Shawn, Shaya, Shayaan, Shayan, Shayla, Shayna, Shea, Sheldon, Sherlyn, Sherry, Shevy, Shia, Shifra, Shiloh, Shimon, Shira, Shirley, Shloime, Shloimy, Shloma, Shlome, Shlomo, Shmiel, Shmuel, Shneur, Sholom, Shoshana, Shraga, Shreya, Shukrona, Shulem, Sidney, Siena, Sienna, Silas, Sima, Simcha, Simi, Simon, Simone, Sincere, Sky, Skye, Skyla, Skylah, Skylar, Skyler, Sloane, Sofia, Solomon, Sonia, Sonny, Sophia, Sophie, Soraya, Spencer, Stacey, Stacy, Stanley, Stefan, Stella, Stephanie, Stephany, Stephen, Steve, Steven, Subhan, Sulaiman, Summer, Sunny, Suri, Sury, Sydney, Syed, Syeda, Sylvia, Sylvie, Symphony, Tabitha, Tahmid, Talia, Taliyah, Tallulah, Tamar, Tamara, Tamia, Tanisha, Taraji, Tasnim, Tatiana, Taylor, Teagan, Tehila, Tenzin, Terrell, Terrence, Terry, Tess, Tessa, Thea, Theo, Theodora, Theodore, Thiago, Thierno, Thomas, Tiana, Tianna, Tiffany, Timothy, Timur, Tina, Toba, Tobias, Toby, Tomas, Tony, Tori, Tova, Trany, Travis, Trinity, Tristan, Troy, Tyler, Tzipora, Tziporah, Tzippy, Tzirel, Tzivia, Tzvi, Umar, Uriel, Usher, Valentin, Valentina, Valentino, Valeria, Valerie, Valery, Vanessa, Veer, Vera, Veronica, Veronika, Vicky, Victor, Victoria, Vienna, Vihaan, Viktor, Vincent, Vincenzo, Violet, Violeta, Virginia, Vivian, Viviana, Vivienne, Walker, Walter, Wendy, Wesley, Weston, Wilder, Willa, William, Willow, Wilson, Winnie, Winston, Winter, Wolf, Wyatt, Wynter, Xander, Xavier, Ximena, Xin, Yaakov, Yachet, Yadiel, Yael, Yahir, Yahya, Yair, Yakov, Yamilet, Yamileth, Yandel, Yaniel, Yanky, Yara, Yareli, Yaretzi, Yariel, Yaritza, Yaseen, Yasmin, Yasmina, Yasmine, Yassin, Yechezkel, Yechiel, Yehoshua, Yehuda, Yehudah, Yehudis, Yerik, Yesenia, Yeshaya, Yida, Yidel, Yides, Yisrael, Yisroel, Yitta, Yitty, Yitzchak, Yitzchok, Yocheved, Yoel, Yona, Yonah, Yonatan, Yosef, Yossi, Younis, Yousef, Youssef, Yu, Yuna, Yusuf, Zabdiel, Zachariah, Zachary, Zahara, Zahir, Zahra, Zaid, Zaiden, Zain, Zainab, Zaire, Zakaria, Zalmen, Zamir, Zander, Zane, Zaniyah, Zara, Zaria, Zariah, Zayan, Zayden, Zayn, Zelda, Zendaya, Zev, Zhuri, Zion, Zissy, Zoe, Zoey, Zora, Zoya, Zuri, Zyaire\""
      ]
     },
     "execution_count": 102,
     "metadata": {},
     "output_type": "execute_result"
    }
   ],
   "source": [
    "\", \".join(baby_names[\"Child's First Name\"].str.title().drop_duplicates().sort_values())"
   ]
  },
  {
   "cell_type": "markdown",
   "id": "f6a51016",
   "metadata": {},
   "source": [
    "## pd.read_excel() - multiple worksheet - Dictionary access"
   ]
  },
  {
   "cell_type": "code",
   "execution_count": 104,
   "id": "a4141a7f",
   "metadata": {},
   "outputs": [
    {
     "data": {
      "text/html": [
       "<div>\n",
       "<style scoped>\n",
       "    .dataframe tbody tr th:only-of-type {\n",
       "        vertical-align: middle;\n",
       "    }\n",
       "\n",
       "    .dataframe tbody tr th {\n",
       "        vertical-align: top;\n",
       "    }\n",
       "\n",
       "    .dataframe thead th {\n",
       "        text-align: right;\n",
       "    }\n",
       "</style>\n",
       "<table border=\"1\" class=\"dataframe\">\n",
       "  <thead>\n",
       "    <tr style=\"text-align: right;\">\n",
       "      <th></th>\n",
       "      <th>First Name</th>\n",
       "      <th>Last Name</th>\n",
       "      <th>City</th>\n",
       "      <th>Gender</th>\n",
       "    </tr>\n",
       "  </thead>\n",
       "  <tbody>\n",
       "    <tr>\n",
       "      <th>0</th>\n",
       "      <td>Parker</td>\n",
       "      <td>Power</td>\n",
       "      <td>Raleigh</td>\n",
       "      <td>F</td>\n",
       "    </tr>\n",
       "    <tr>\n",
       "      <th>1</th>\n",
       "      <td>Preston</td>\n",
       "      <td>Prescott</td>\n",
       "      <td>Philadelphia</td>\n",
       "      <td>F</td>\n",
       "    </tr>\n",
       "    <tr>\n",
       "      <th>2</th>\n",
       "      <td>Ronaldo</td>\n",
       "      <td>Donaldo</td>\n",
       "      <td>Bangor</td>\n",
       "      <td>M</td>\n",
       "    </tr>\n",
       "    <tr>\n",
       "      <th>3</th>\n",
       "      <td>Megan</td>\n",
       "      <td>Stiller</td>\n",
       "      <td>San Francisco</td>\n",
       "      <td>M</td>\n",
       "    </tr>\n",
       "    <tr>\n",
       "      <th>4</th>\n",
       "      <td>Bustin</td>\n",
       "      <td>Jieber</td>\n",
       "      <td>Austin</td>\n",
       "      <td>F</td>\n",
       "    </tr>\n",
       "  </tbody>\n",
       "</table>\n",
       "</div>"
      ],
      "text/plain": [
       "  First Name Last Name           City Gender\n",
       "0     Parker     Power        Raleigh      F\n",
       "1    Preston  Prescott   Philadelphia      F\n",
       "2    Ronaldo   Donaldo         Bangor      M\n",
       "3      Megan   Stiller  San Francisco      M\n",
       "4     Bustin    Jieber         Austin      F"
      ]
     },
     "execution_count": 104,
     "metadata": {},
     "output_type": "execute_result"
    }
   ],
   "source": [
    "pd.read_excel(Path.joinpath(input_files_dir, 'Data - Multiple Worksheets.xlsx'), sheet_name='Data 2')"
   ]
  },
  {
   "cell_type": "code",
   "execution_count": 106,
   "id": "da06aa04",
   "metadata": {},
   "outputs": [
    {
     "data": {
      "text/plain": [
       "{0:   First Name Last Name           City Gender\n",
       " 0    Brandon     James          Miami      M\n",
       " 1       Sean   Hawkins         Denver      M\n",
       " 2       Judy       Day    Los Angeles      F\n",
       " 3     Ashley      Ruiz  San Francisco      F\n",
       " 4  Stephanie     Gomez       Portland      F,\n",
       " 1:   First Name Last Name           City Gender\n",
       " 0     Parker     Power        Raleigh      F\n",
       " 1    Preston  Prescott   Philadelphia      F\n",
       " 2    Ronaldo   Donaldo         Bangor      M\n",
       " 3      Megan   Stiller  San Francisco      M\n",
       " 4     Bustin    Jieber         Austin      F}"
      ]
     },
     "execution_count": 106,
     "metadata": {},
     "output_type": "execute_result"
    }
   ],
   "source": [
    "data = pd.read_excel(Path.joinpath(input_files_dir, 'Data - Multiple Worksheets.xlsx'), sheet_name=[0, 1])\n",
    "data"
   ]
  },
  {
   "cell_type": "code",
   "execution_count": 107,
   "id": "e9eddded",
   "metadata": {},
   "outputs": [
    {
     "data": {
      "text/plain": [
       "dict"
      ]
     },
     "execution_count": 107,
     "metadata": {},
     "output_type": "execute_result"
    }
   ],
   "source": [
    "type(data)"
   ]
  },
  {
   "cell_type": "code",
   "execution_count": 108,
   "id": "eeda8252",
   "metadata": {},
   "outputs": [
    {
     "data": {
      "text/html": [
       "<div>\n",
       "<style scoped>\n",
       "    .dataframe tbody tr th:only-of-type {\n",
       "        vertical-align: middle;\n",
       "    }\n",
       "\n",
       "    .dataframe tbody tr th {\n",
       "        vertical-align: top;\n",
       "    }\n",
       "\n",
       "    .dataframe thead th {\n",
       "        text-align: right;\n",
       "    }\n",
       "</style>\n",
       "<table border=\"1\" class=\"dataframe\">\n",
       "  <thead>\n",
       "    <tr style=\"text-align: right;\">\n",
       "      <th></th>\n",
       "      <th>First Name</th>\n",
       "      <th>Last Name</th>\n",
       "      <th>City</th>\n",
       "      <th>Gender</th>\n",
       "    </tr>\n",
       "  </thead>\n",
       "  <tbody>\n",
       "    <tr>\n",
       "      <th>0</th>\n",
       "      <td>Brandon</td>\n",
       "      <td>James</td>\n",
       "      <td>Miami</td>\n",
       "      <td>M</td>\n",
       "    </tr>\n",
       "    <tr>\n",
       "      <th>1</th>\n",
       "      <td>Sean</td>\n",
       "      <td>Hawkins</td>\n",
       "      <td>Denver</td>\n",
       "      <td>M</td>\n",
       "    </tr>\n",
       "    <tr>\n",
       "      <th>2</th>\n",
       "      <td>Judy</td>\n",
       "      <td>Day</td>\n",
       "      <td>Los Angeles</td>\n",
       "      <td>F</td>\n",
       "    </tr>\n",
       "    <tr>\n",
       "      <th>3</th>\n",
       "      <td>Ashley</td>\n",
       "      <td>Ruiz</td>\n",
       "      <td>San Francisco</td>\n",
       "      <td>F</td>\n",
       "    </tr>\n",
       "    <tr>\n",
       "      <th>4</th>\n",
       "      <td>Stephanie</td>\n",
       "      <td>Gomez</td>\n",
       "      <td>Portland</td>\n",
       "      <td>F</td>\n",
       "    </tr>\n",
       "  </tbody>\n",
       "</table>\n",
       "</div>"
      ],
      "text/plain": [
       "  First Name Last Name           City Gender\n",
       "0    Brandon     James          Miami      M\n",
       "1       Sean   Hawkins         Denver      M\n",
       "2       Judy       Day    Los Angeles      F\n",
       "3     Ashley      Ruiz  San Francisco      F\n",
       "4  Stephanie     Gomez       Portland      F"
      ]
     },
     "execution_count": 108,
     "metadata": {},
     "output_type": "execute_result"
    }
   ],
   "source": [
    "data[0]"
   ]
  },
  {
   "cell_type": "code",
   "execution_count": 109,
   "id": "6aa1044e",
   "metadata": {},
   "outputs": [
    {
     "data": {
      "text/html": [
       "<div>\n",
       "<style scoped>\n",
       "    .dataframe tbody tr th:only-of-type {\n",
       "        vertical-align: middle;\n",
       "    }\n",
       "\n",
       "    .dataframe tbody tr th {\n",
       "        vertical-align: top;\n",
       "    }\n",
       "\n",
       "    .dataframe thead th {\n",
       "        text-align: right;\n",
       "    }\n",
       "</style>\n",
       "<table border=\"1\" class=\"dataframe\">\n",
       "  <thead>\n",
       "    <tr style=\"text-align: right;\">\n",
       "      <th></th>\n",
       "      <th>First Name</th>\n",
       "      <th>Last Name</th>\n",
       "      <th>City</th>\n",
       "      <th>Gender</th>\n",
       "    </tr>\n",
       "  </thead>\n",
       "  <tbody>\n",
       "    <tr>\n",
       "      <th>0</th>\n",
       "      <td>Parker</td>\n",
       "      <td>Power</td>\n",
       "      <td>Raleigh</td>\n",
       "      <td>F</td>\n",
       "    </tr>\n",
       "    <tr>\n",
       "      <th>1</th>\n",
       "      <td>Preston</td>\n",
       "      <td>Prescott</td>\n",
       "      <td>Philadelphia</td>\n",
       "      <td>F</td>\n",
       "    </tr>\n",
       "    <tr>\n",
       "      <th>2</th>\n",
       "      <td>Ronaldo</td>\n",
       "      <td>Donaldo</td>\n",
       "      <td>Bangor</td>\n",
       "      <td>M</td>\n",
       "    </tr>\n",
       "    <tr>\n",
       "      <th>3</th>\n",
       "      <td>Megan</td>\n",
       "      <td>Stiller</td>\n",
       "      <td>San Francisco</td>\n",
       "      <td>M</td>\n",
       "    </tr>\n",
       "    <tr>\n",
       "      <th>4</th>\n",
       "      <td>Bustin</td>\n",
       "      <td>Jieber</td>\n",
       "      <td>Austin</td>\n",
       "      <td>F</td>\n",
       "    </tr>\n",
       "  </tbody>\n",
       "</table>\n",
       "</div>"
      ],
      "text/plain": [
       "  First Name Last Name           City Gender\n",
       "0     Parker     Power        Raleigh      F\n",
       "1    Preston  Prescott   Philadelphia      F\n",
       "2    Ronaldo   Donaldo         Bangor      M\n",
       "3      Megan   Stiller  San Francisco      M\n",
       "4     Bustin    Jieber         Austin      F"
      ]
     },
     "execution_count": 109,
     "metadata": {},
     "output_type": "execute_result"
    }
   ],
   "source": [
    "data[1]"
   ]
  },
  {
   "cell_type": "code",
   "execution_count": 111,
   "id": "8f4a9d43",
   "metadata": {},
   "outputs": [
    {
     "data": {
      "text/plain": [
       "{'Data 1':   First Name Last Name           City Gender\n",
       " 0    Brandon     James          Miami      M\n",
       " 1       Sean   Hawkins         Denver      M\n",
       " 2       Judy       Day    Los Angeles      F\n",
       " 3     Ashley      Ruiz  San Francisco      F\n",
       " 4  Stephanie     Gomez       Portland      F,\n",
       " 'Data 2':   First Name Last Name           City Gender\n",
       " 0     Parker     Power        Raleigh      F\n",
       " 1    Preston  Prescott   Philadelphia      F\n",
       " 2    Ronaldo   Donaldo         Bangor      M\n",
       " 3      Megan   Stiller  San Francisco      M\n",
       " 4     Bustin    Jieber         Austin      F}"
      ]
     },
     "execution_count": 111,
     "metadata": {},
     "output_type": "execute_result"
    }
   ],
   "source": [
    "# Use sheet name instead of index\n",
    "data = pd.read_excel(Path.joinpath(input_files_dir, 'Data - Multiple Worksheets.xlsx'), sheet_name=['Data 1', 'Data 2'])\n",
    "data"
   ]
  },
  {
   "cell_type": "code",
   "execution_count": 113,
   "id": "19ea66ec",
   "metadata": {},
   "outputs": [
    {
     "data": {
      "text/plain": [
       "{'Data 1':   First Name Last Name           City Gender\n",
       " 0    Brandon     James          Miami      M\n",
       " 1       Sean   Hawkins         Denver      M\n",
       " 2       Judy       Day    Los Angeles      F\n",
       " 3     Ashley      Ruiz  San Francisco      F\n",
       " 4  Stephanie     Gomez       Portland      F,\n",
       " 'Data 2':   First Name Last Name           City Gender\n",
       " 0     Parker     Power        Raleigh      F\n",
       " 1    Preston  Prescott   Philadelphia      F\n",
       " 2    Ronaldo   Donaldo         Bangor      M\n",
       " 3      Megan   Stiller  San Francisco      M\n",
       " 4     Bustin    Jieber         Austin      F}"
      ]
     },
     "execution_count": 113,
     "metadata": {},
     "output_type": "execute_result"
    }
   ],
   "source": [
    "# if have so many sheets and import all sheet, import all sheet name- use None\n",
    "data = pd.read_excel(Path.joinpath(input_files_dir, 'Data - Multiple Worksheets.xlsx'), sheet_name=None)\n",
    "data"
   ]
  },
  {
   "cell_type": "markdown",
   "id": "40c3b00d",
   "metadata": {},
   "source": [
    "## Visualization"
   ]
  },
  {
   "cell_type": "code",
   "execution_count": 114,
   "id": "2fccb743",
   "metadata": {},
   "outputs": [],
   "source": [
    "import pandas as pd\n",
    "from pandas_datareader import data\n",
    "import matplotlib.pyplot as plt"
   ]
  },
  {
   "cell_type": "code",
   "execution_count": 115,
   "id": "1286cb59",
   "metadata": {},
   "outputs": [],
   "source": [
    "# appear directly below cell\n",
    "%matplotlib inline"
   ]
  },
  {
   "cell_type": "markdown",
   "id": "74cf44f7",
   "metadata": {},
   "source": [
    "### use plot method to render a line chart"
   ]
  },
  {
   "cell_type": "code",
   "execution_count": 130,
   "id": "bfb68f61",
   "metadata": {},
   "outputs": [
    {
     "data": {
      "text/html": [
       "<div>\n",
       "<style scoped>\n",
       "    .dataframe tbody tr th:only-of-type {\n",
       "        vertical-align: middle;\n",
       "    }\n",
       "\n",
       "    .dataframe tbody tr th {\n",
       "        vertical-align: top;\n",
       "    }\n",
       "\n",
       "    .dataframe thead th {\n",
       "        text-align: right;\n",
       "    }\n",
       "</style>\n",
       "<table border=\"1\" class=\"dataframe\">\n",
       "  <thead>\n",
       "    <tr style=\"text-align: right;\">\n",
       "      <th></th>\n",
       "      <th>Open</th>\n",
       "      <th>High</th>\n",
       "      <th>Low</th>\n",
       "      <th>Close</th>\n",
       "      <th>Volume</th>\n",
       "    </tr>\n",
       "    <tr>\n",
       "      <th>Date</th>\n",
       "      <th></th>\n",
       "      <th></th>\n",
       "      <th></th>\n",
       "      <th></th>\n",
       "      <th></th>\n",
       "    </tr>\n",
       "  </thead>\n",
       "  <tbody>\n",
       "    <tr>\n",
       "      <th>2020-12-31</th>\n",
       "      <td>6.68</td>\n",
       "      <td>6.80</td>\n",
       "      <td>6.630</td>\n",
       "      <td>6.63</td>\n",
       "      <td>7530565.0</td>\n",
       "    </tr>\n",
       "    <tr>\n",
       "      <th>2020-12-30</th>\n",
       "      <td>6.79</td>\n",
       "      <td>6.81</td>\n",
       "      <td>6.600</td>\n",
       "      <td>6.67</td>\n",
       "      <td>9434913.0</td>\n",
       "    </tr>\n",
       "    <tr>\n",
       "      <th>2020-12-29</th>\n",
       "      <td>6.98</td>\n",
       "      <td>7.00</td>\n",
       "      <td>6.675</td>\n",
       "      <td>6.77</td>\n",
       "      <td>11284185.0</td>\n",
       "    </tr>\n",
       "  </tbody>\n",
       "</table>\n",
       "</div>"
      ],
      "text/plain": [
       "            Open  High    Low  Close      Volume\n",
       "Date                                            \n",
       "2020-12-31  6.68  6.80  6.630   6.63   7530565.0\n",
       "2020-12-30  6.79  6.81  6.600   6.67   9434913.0\n",
       "2020-12-29  6.98  7.00  6.675   6.77  11284185.0"
      ]
     },
     "execution_count": 130,
     "metadata": {},
     "output_type": "execute_result"
    }
   ],
   "source": [
    "# Latest error in yahoo data. Replace yahoo to stooq\n",
    "bb = data.DataReader(name='BB', data_source='stooq', start='2007-01-01', end='2020-12-31')\n",
    "bb.head(3)"
   ]
  },
  {
   "cell_type": "raw",
   "id": "f87cfb2a",
   "metadata": {},
   "source": [
    "bb = pd.read_csv(Path.joinpath(input_files_dir, 'bb_stock_yahoo_datareader.csv'), index_col='Date')\n",
    "bb.head(3)"
   ]
  },
  {
   "cell_type": "code",
   "execution_count": 131,
   "id": "0a9e67c8",
   "metadata": {},
   "outputs": [
    {
     "data": {
      "text/plain": [
       "<AxesSubplot:xlabel='Date'>"
      ]
     },
     "execution_count": 131,
     "metadata": {},
     "output_type": "execute_result"
    },
    {
     "data": {
      "image/png": "[encoded data removed]",
      "text/plain": [
       "<Figure size 640x480 with 1 Axes>"
      ]
     },
     "metadata": {},
     "output_type": "display_data"
    }
   ],
   "source": [
    "bb.plot()"
   ]
  },
  {
   "cell_type": "code",
   "execution_count": 132,
   "id": "b88414e1",
   "metadata": {},
   "outputs": [
    {
     "data": {
      "text/plain": [
       "<AxesSubplot:xlabel='Date'>"
      ]
     },
     "execution_count": 132,
     "metadata": {},
     "output_type": "execute_result"
    },
    {
     "data": {
      "image/png": "[encoded data removed]",
      "text/plain": [
       "<Figure size 640x480 with 1 Axes>"
      ]
     },
     "metadata": {},
     "output_type": "display_data"
    }
   ],
   "source": [
    "bb.plot(y='Volume')"
   ]
  },
  {
   "cell_type": "code",
   "execution_count": 133,
   "id": "1fe71381",
   "metadata": {},
   "outputs": [
    {
     "data": {
      "text/plain": [
       "<AxesSubplot:xlabel='Date'>"
      ]
     },
     "execution_count": 133,
     "metadata": {},
     "output_type": "execute_result"
    },
    {
     "data": {
      "image/png": "[encoded data removed]",
      "text/plain": [
       "<Figure size 640x480 with 1 Axes>"
      ]
     },
     "metadata": {},
     "output_type": "display_data"
    }
   ],
   "source": [
    "bb.plot(y='High')"
   ]
  },
  {
   "cell_type": "code",
   "execution_count": 134,
   "id": "6191ad9a",
   "metadata": {},
   "outputs": [
    {
     "data": {
      "text/plain": [
       "<AxesSubplot:xlabel='Date'>"
      ]
     },
     "execution_count": 134,
     "metadata": {},
     "output_type": "execute_result"
    },
    {
     "data": {
      "image/png": "[encoded data removed]",
      "text/plain": [
       "<Figure size 640x480 with 1 Axes>"
      ]
     },
     "metadata": {},
     "output_type": "display_data"
    }
   ],
   "source": [
    "bb['High'].plot()"
   ]
  },
  {
   "cell_type": "code",
   "execution_count": 135,
   "id": "9f5e88a2",
   "metadata": {},
   "outputs": [
    {
     "data": {
      "text/plain": [
       "<AxesSubplot:xlabel='Date'>"
      ]
     },
     "execution_count": 135,
     "metadata": {},
     "output_type": "execute_result"
    },
    {
     "data": {
      "image/png": "[encoded data removed]",
      "text/plain": [
       "<Figure size 640x480 with 1 Axes>"
      ]
     },
     "metadata": {},
     "output_type": "display_data"
    }
   ],
   "source": [
    "bb[['High', 'Close']].plot()"
   ]
  },
  {
   "cell_type": "markdown",
   "id": "ede0f568",
   "metadata": {},
   "source": [
    "## customization"
   ]
  },
  {
   "cell_type": "code",
   "execution_count": 136,
   "id": "38065909",
   "metadata": {},
   "outputs": [
    {
     "data": {
      "text/plain": [
       "['Solarize_Light2',\n",
       " '_classic_test_patch',\n",
       " '_mpl-gallery',\n",
       " '_mpl-gallery-nogrid',\n",
       " 'bmh',\n",
       " 'classic',\n",
       " 'dark_background',\n",
       " 'fast',\n",
       " 'fivethirtyeight',\n",
       " 'ggplot',\n",
       " 'grayscale',\n",
       " 'seaborn',\n",
       " 'seaborn-bright',\n",
       " 'seaborn-colorblind',\n",
       " 'seaborn-dark',\n",
       " 'seaborn-dark-palette',\n",
       " 'seaborn-darkgrid',\n",
       " 'seaborn-deep',\n",
       " 'seaborn-muted',\n",
       " 'seaborn-notebook',\n",
       " 'seaborn-paper',\n",
       " 'seaborn-pastel',\n",
       " 'seaborn-poster',\n",
       " 'seaborn-talk',\n",
       " 'seaborn-ticks',\n",
       " 'seaborn-white',\n",
       " 'seaborn-whitegrid',\n",
       " 'tableau-colorblind10']"
      ]
     },
     "execution_count": 136,
     "metadata": {},
     "output_type": "execute_result"
    }
   ],
   "source": [
    "plt.style.available"
   ]
  },
  {
   "cell_type": "code",
   "execution_count": 137,
   "id": "1e1241a5",
   "metadata": {},
   "outputs": [],
   "source": [
    "plt.style.use('dark_background')"
   ]
  },
  {
   "cell_type": "code",
   "execution_count": 138,
   "id": "22fdb118",
   "metadata": {},
   "outputs": [
    {
     "data": {
      "text/plain": [
       "<AxesSubplot:xlabel='Date'>"
      ]
     },
     "execution_count": 138,
     "metadata": {},
     "output_type": "execute_result"
    },
    {
     "data": {
      "image/png": "[encoded data removed]",
      "text/plain": [
       "<Figure size 640x480 with 1 Axes>"
      ]
     },
     "metadata": {},
     "output_type": "display_data"
    }
   ],
   "source": [
    "bb['Close'].plot()"
   ]
  },
  {
   "cell_type": "code",
   "execution_count": 139,
   "id": "5dc6c7f5",
   "metadata": {},
   "outputs": [
    {
     "data": {
      "text/plain": [
       "<AxesSubplot:xlabel='Date'>"
      ]
     },
     "execution_count": 139,
     "metadata": {},
     "output_type": "execute_result"
    },
    {
     "data": {
      "image/png": "[encoded data removed]",
      "text/plain": [
       "<Figure size 640x480 with 1 Axes>"
      ]
     },
     "metadata": {},
     "output_type": "display_data"
    }
   ],
   "source": [
    "plt.style.use('ggplot')\n",
    "bb['Close'].plot()"
   ]
  },
  {
   "cell_type": "code",
   "execution_count": 140,
   "id": "1f0ff2e8",
   "metadata": {},
   "outputs": [],
   "source": [
    "def rank_performance(stock_price):\n",
    "    if stock_price <= 10:\n",
    "        return 'Poor'\n",
    "    elif stock_price <= 50:\n",
    "        return 'Satisfactory'\n",
    "    else:\n",
    "        return 'Steller'"
   ]
  },
  {
   "cell_type": "code",
   "execution_count": 141,
   "id": "e6874f74",
   "metadata": {},
   "outputs": [
    {
     "data": {
      "text/plain": [
       "Poor            1541\n",
       "Satisfactory    1125\n",
       "Steller          859\n",
       "Name: Close, dtype: int64"
      ]
     },
     "execution_count": 141,
     "metadata": {},
     "output_type": "execute_result"
    }
   ],
   "source": [
    "bb['Close'].apply(rank_performance).value_counts()"
   ]
  },
  {
   "cell_type": "code",
   "execution_count": 142,
   "id": "452249c0",
   "metadata": {},
   "outputs": [
    {
     "data": {
      "text/plain": [
       "<AxesSubplot:>"
      ]
     },
     "execution_count": 142,
     "metadata": {},
     "output_type": "execute_result"
    },
    {
     "data": {
      "image/png": "[encoded data removed]",
      "text/plain": [
       "<Figure size 640x480 with 1 Axes>"
      ]
     },
     "metadata": {},
     "output_type": "display_data"
    }
   ],
   "source": [
    "plt.style.use('ggplot')\n",
    "bb['Close'].apply(rank_performance).value_counts().plot(kind='line') # kind= line default"
   ]
  },
  {
   "cell_type": "code",
   "execution_count": 143,
   "id": "77e0eea8",
   "metadata": {},
   "outputs": [
    {
     "data": {
      "text/plain": [
       "<AxesSubplot:>"
      ]
     },
     "execution_count": 143,
     "metadata": {},
     "output_type": "execute_result"
    },
    {
     "data": {
      "image/png": "[encoded data removed]",
      "text/plain": [
       "<Figure size 640x480 with 1 Axes>"
      ]
     },
     "metadata": {},
     "output_type": "display_data"
    }
   ],
   "source": [
    "bb['Close'].apply(rank_performance).value_counts().plot(kind='bar')"
   ]
  },
  {
   "cell_type": "code",
   "execution_count": 144,
   "id": "b847e62e",
   "metadata": {},
   "outputs": [
    {
     "data": {
      "text/plain": [
       "<AxesSubplot:>"
      ]
     },
     "execution_count": 144,
     "metadata": {},
     "output_type": "execute_result"
    },
    {
     "data": {
      "image/png": "[encoded data removed]",
      "text/plain": [
       "<Figure size 640x480 with 1 Axes>"
      ]
     },
     "metadata": {},
     "output_type": "display_data"
    }
   ],
   "source": [
    "plt.style.use('tableau-colorblind10')\n",
    "bb['Close'].apply(rank_performance).value_counts().plot(kind='barh')"
   ]
  },
  {
   "cell_type": "code",
   "execution_count": 145,
   "id": "e2c00afd",
   "metadata": {},
   "outputs": [
    {
     "data": {
      "text/plain": [
       "<AxesSubplot:ylabel='Close'>"
      ]
     },
     "execution_count": 145,
     "metadata": {},
     "output_type": "execute_result"
    },
    {
     "data": {
      "image/png": "[encoded data removed]",
      "text/plain": [
       "<Figure size 640x480 with 1 Axes>"
      ]
     },
     "metadata": {},
     "output_type": "display_data"
    }
   ],
   "source": [
    "plt.style.use('dark_background')\n",
    "bb['Close'].apply(rank_performance).value_counts().plot(kind='pie')"
   ]
  },
  {
   "cell_type": "code",
   "execution_count": null,
   "id": "8dc16899",
   "metadata": {},
   "outputs": [],
   "source": []
  },
  {
   "cell_type": "markdown",
   "id": "1cd763f2",
   "metadata": {},
   "source": [
    "## options and settings module"
   ]
  },
  {
   "cell_type": "code",
   "execution_count": 146,
   "id": "6f46ee13",
   "metadata": {},
   "outputs": [],
   "source": [
    "import pandas as pd\n",
    "import numpy as np"
   ]
  },
  {
   "cell_type": "markdown",
   "id": "c4d1923e",
   "metadata": {},
   "source": [
    "### changing options with attributes and dot syntax"
   ]
  },
  {
   "cell_type": "code",
   "execution_count": 147,
   "id": "82e6e570",
   "metadata": {},
   "outputs": [
    {
     "data": {
      "text/html": [
       "<div>\n",
       "<style scoped>\n",
       "    .dataframe tbody tr th:only-of-type {\n",
       "        vertical-align: middle;\n",
       "    }\n",
       "\n",
       "    .dataframe tbody tr th {\n",
       "        vertical-align: top;\n",
       "    }\n",
       "\n",
       "    .dataframe thead th {\n",
       "        text-align: right;\n",
       "    }\n",
       "</style>\n",
       "<table border=\"1\" class=\"dataframe\">\n",
       "  <thead>\n",
       "    <tr style=\"text-align: right;\">\n",
       "      <th></th>\n",
       "      <th>0</th>\n",
       "      <th>1</th>\n",
       "      <th>2</th>\n",
       "      <th>3</th>\n",
       "      <th>4</th>\n",
       "      <th>5</th>\n",
       "      <th>6</th>\n",
       "      <th>7</th>\n",
       "      <th>8</th>\n",
       "      <th>9</th>\n",
       "      <th>...</th>\n",
       "      <th>40</th>\n",
       "      <th>41</th>\n",
       "      <th>42</th>\n",
       "      <th>43</th>\n",
       "      <th>44</th>\n",
       "      <th>45</th>\n",
       "      <th>46</th>\n",
       "      <th>47</th>\n",
       "      <th>48</th>\n",
       "      <th>49</th>\n",
       "    </tr>\n",
       "  </thead>\n",
       "  <tbody>\n",
       "    <tr>\n",
       "      <th>0</th>\n",
       "      <td>82</td>\n",
       "      <td>76</td>\n",
       "      <td>66</td>\n",
       "      <td>19</td>\n",
       "      <td>97</td>\n",
       "      <td>60</td>\n",
       "      <td>8</td>\n",
       "      <td>33</td>\n",
       "      <td>39</td>\n",
       "      <td>45</td>\n",
       "      <td>...</td>\n",
       "      <td>41</td>\n",
       "      <td>85</td>\n",
       "      <td>30</td>\n",
       "      <td>50</td>\n",
       "      <td>56</td>\n",
       "      <td>92</td>\n",
       "      <td>48</td>\n",
       "      <td>3</td>\n",
       "      <td>18</td>\n",
       "      <td>55</td>\n",
       "    </tr>\n",
       "    <tr>\n",
       "      <th>1</th>\n",
       "      <td>70</td>\n",
       "      <td>37</td>\n",
       "      <td>53</td>\n",
       "      <td>86</td>\n",
       "      <td>20</td>\n",
       "      <td>79</td>\n",
       "      <td>27</td>\n",
       "      <td>46</td>\n",
       "      <td>73</td>\n",
       "      <td>84</td>\n",
       "      <td>...</td>\n",
       "      <td>22</td>\n",
       "      <td>92</td>\n",
       "      <td>25</td>\n",
       "      <td>64</td>\n",
       "      <td>58</td>\n",
       "      <td>87</td>\n",
       "      <td>97</td>\n",
       "      <td>34</td>\n",
       "      <td>51</td>\n",
       "      <td>65</td>\n",
       "    </tr>\n",
       "  </tbody>\n",
       "</table>\n",
       "<p>2 rows × 50 columns</p>\n",
       "</div>"
      ],
      "text/plain": [
       "   0   1   2   3   4   5   6   7   8   9   ...  40  41  42  43  44  45  46  \\\n",
       "0  82  76  66  19  97  60   8  33  39  45  ...  41  85  30  50  56  92  48   \n",
       "1  70  37  53  86  20  79  27  46  73  84  ...  22  92  25  64  58  87  97   \n",
       "\n",
       "   47  48  49  \n",
       "0   3  18  55  \n",
       "1  34  51  65  \n",
       "\n",
       "[2 rows x 50 columns]"
      ]
     },
     "execution_count": 147,
     "metadata": {},
     "output_type": "execute_result"
    }
   ],
   "source": [
    "data = np.random.randint(0, 100, [1000, 50])\n",
    "df = pd.DataFrame(data)\n",
    "df.head(2)"
   ]
  },
  {
   "cell_type": "code",
   "execution_count": 148,
   "id": "07f2f2cb",
   "metadata": {},
   "outputs": [
    {
     "data": {
      "text/plain": [
       "60"
      ]
     },
     "execution_count": 148,
     "metadata": {},
     "output_type": "execute_result"
    }
   ],
   "source": [
    "pd.options.display.max_rows"
   ]
  },
  {
   "cell_type": "code",
   "execution_count": 149,
   "id": "f4554da5",
   "metadata": {},
   "outputs": [],
   "source": [
    "pd.options.display.max_rows = 4"
   ]
  },
  {
   "cell_type": "code",
   "execution_count": 150,
   "id": "3ad0802a",
   "metadata": {},
   "outputs": [
    {
     "data": {
      "text/html": [
       "<div>\n",
       "<style scoped>\n",
       "    .dataframe tbody tr th:only-of-type {\n",
       "        vertical-align: middle;\n",
       "    }\n",
       "\n",
       "    .dataframe tbody tr th {\n",
       "        vertical-align: top;\n",
       "    }\n",
       "\n",
       "    .dataframe thead th {\n",
       "        text-align: right;\n",
       "    }\n",
       "</style>\n",
       "<table border=\"1\" class=\"dataframe\">\n",
       "  <thead>\n",
       "    <tr style=\"text-align: right;\">\n",
       "      <th></th>\n",
       "      <th>0</th>\n",
       "      <th>1</th>\n",
       "      <th>2</th>\n",
       "      <th>3</th>\n",
       "      <th>4</th>\n",
       "      <th>5</th>\n",
       "      <th>6</th>\n",
       "      <th>7</th>\n",
       "      <th>8</th>\n",
       "      <th>9</th>\n",
       "      <th>...</th>\n",
       "      <th>40</th>\n",
       "      <th>41</th>\n",
       "      <th>42</th>\n",
       "      <th>43</th>\n",
       "      <th>44</th>\n",
       "      <th>45</th>\n",
       "      <th>46</th>\n",
       "      <th>47</th>\n",
       "      <th>48</th>\n",
       "      <th>49</th>\n",
       "    </tr>\n",
       "  </thead>\n",
       "  <tbody>\n",
       "    <tr>\n",
       "      <th>0</th>\n",
       "      <td>82</td>\n",
       "      <td>76</td>\n",
       "      <td>66</td>\n",
       "      <td>19</td>\n",
       "      <td>97</td>\n",
       "      <td>60</td>\n",
       "      <td>8</td>\n",
       "      <td>33</td>\n",
       "      <td>39</td>\n",
       "      <td>45</td>\n",
       "      <td>...</td>\n",
       "      <td>41</td>\n",
       "      <td>85</td>\n",
       "      <td>30</td>\n",
       "      <td>50</td>\n",
       "      <td>56</td>\n",
       "      <td>92</td>\n",
       "      <td>48</td>\n",
       "      <td>3</td>\n",
       "      <td>18</td>\n",
       "      <td>55</td>\n",
       "    </tr>\n",
       "    <tr>\n",
       "      <th>1</th>\n",
       "      <td>70</td>\n",
       "      <td>37</td>\n",
       "      <td>53</td>\n",
       "      <td>86</td>\n",
       "      <td>20</td>\n",
       "      <td>79</td>\n",
       "      <td>27</td>\n",
       "      <td>46</td>\n",
       "      <td>73</td>\n",
       "      <td>84</td>\n",
       "      <td>...</td>\n",
       "      <td>22</td>\n",
       "      <td>92</td>\n",
       "      <td>25</td>\n",
       "      <td>64</td>\n",
       "      <td>58</td>\n",
       "      <td>87</td>\n",
       "      <td>97</td>\n",
       "      <td>34</td>\n",
       "      <td>51</td>\n",
       "      <td>65</td>\n",
       "    </tr>\n",
       "    <tr>\n",
       "      <th>...</th>\n",
       "      <td>...</td>\n",
       "      <td>...</td>\n",
       "      <td>...</td>\n",
       "      <td>...</td>\n",
       "      <td>...</td>\n",
       "      <td>...</td>\n",
       "      <td>...</td>\n",
       "      <td>...</td>\n",
       "      <td>...</td>\n",
       "      <td>...</td>\n",
       "      <td>...</td>\n",
       "      <td>...</td>\n",
       "      <td>...</td>\n",
       "      <td>...</td>\n",
       "      <td>...</td>\n",
       "      <td>...</td>\n",
       "      <td>...</td>\n",
       "      <td>...</td>\n",
       "      <td>...</td>\n",
       "      <td>...</td>\n",
       "      <td>...</td>\n",
       "    </tr>\n",
       "    <tr>\n",
       "      <th>998</th>\n",
       "      <td>9</td>\n",
       "      <td>19</td>\n",
       "      <td>28</td>\n",
       "      <td>91</td>\n",
       "      <td>70</td>\n",
       "      <td>22</td>\n",
       "      <td>77</td>\n",
       "      <td>98</td>\n",
       "      <td>48</td>\n",
       "      <td>71</td>\n",
       "      <td>...</td>\n",
       "      <td>52</td>\n",
       "      <td>89</td>\n",
       "      <td>14</td>\n",
       "      <td>64</td>\n",
       "      <td>71</td>\n",
       "      <td>1</td>\n",
       "      <td>55</td>\n",
       "      <td>34</td>\n",
       "      <td>81</td>\n",
       "      <td>63</td>\n",
       "    </tr>\n",
       "    <tr>\n",
       "      <th>999</th>\n",
       "      <td>25</td>\n",
       "      <td>77</td>\n",
       "      <td>66</td>\n",
       "      <td>73</td>\n",
       "      <td>41</td>\n",
       "      <td>49</td>\n",
       "      <td>91</td>\n",
       "      <td>50</td>\n",
       "      <td>33</td>\n",
       "      <td>88</td>\n",
       "      <td>...</td>\n",
       "      <td>52</td>\n",
       "      <td>53</td>\n",
       "      <td>21</td>\n",
       "      <td>99</td>\n",
       "      <td>52</td>\n",
       "      <td>21</td>\n",
       "      <td>86</td>\n",
       "      <td>34</td>\n",
       "      <td>21</td>\n",
       "      <td>82</td>\n",
       "    </tr>\n",
       "  </tbody>\n",
       "</table>\n",
       "<p>1000 rows × 50 columns</p>\n",
       "</div>"
      ],
      "text/plain": [
       "     0   1   2   3   4   5   6   7   8   9   ...  40  41  42  43  44  45  46  \\\n",
       "0    82  76  66  19  97  60   8  33  39  45  ...  41  85  30  50  56  92  48   \n",
       "1    70  37  53  86  20  79  27  46  73  84  ...  22  92  25  64  58  87  97   \n",
       "..   ..  ..  ..  ..  ..  ..  ..  ..  ..  ..  ...  ..  ..  ..  ..  ..  ..  ..   \n",
       "998   9  19  28  91  70  22  77  98  48  71  ...  52  89  14  64  71   1  55   \n",
       "999  25  77  66  73  41  49  91  50  33  88  ...  52  53  21  99  52  21  86   \n",
       "\n",
       "     47  48  49  \n",
       "0     3  18  55  \n",
       "1    34  51  65  \n",
       "..   ..  ..  ..  \n",
       "998  34  81  63  \n",
       "999  34  21  82  \n",
       "\n",
       "[1000 rows x 50 columns]"
      ]
     },
     "execution_count": 150,
     "metadata": {},
     "output_type": "execute_result"
    }
   ],
   "source": [
    "df"
   ]
  },
  {
   "cell_type": "code",
   "execution_count": 151,
   "id": "9800c803",
   "metadata": {},
   "outputs": [],
   "source": [
    "pd.options.display.max_columns =46"
   ]
  },
  {
   "cell_type": "code",
   "execution_count": 152,
   "id": "fca5f00a",
   "metadata": {},
   "outputs": [
    {
     "data": {
      "text/html": [
       "<div>\n",
       "<style scoped>\n",
       "    .dataframe tbody tr th:only-of-type {\n",
       "        vertical-align: middle;\n",
       "    }\n",
       "\n",
       "    .dataframe tbody tr th {\n",
       "        vertical-align: top;\n",
       "    }\n",
       "\n",
       "    .dataframe thead th {\n",
       "        text-align: right;\n",
       "    }\n",
       "</style>\n",
       "<table border=\"1\" class=\"dataframe\">\n",
       "  <thead>\n",
       "    <tr style=\"text-align: right;\">\n",
       "      <th></th>\n",
       "      <th>0</th>\n",
       "      <th>1</th>\n",
       "      <th>2</th>\n",
       "      <th>3</th>\n",
       "      <th>4</th>\n",
       "      <th>5</th>\n",
       "      <th>6</th>\n",
       "      <th>7</th>\n",
       "      <th>8</th>\n",
       "      <th>9</th>\n",
       "      <th>10</th>\n",
       "      <th>11</th>\n",
       "      <th>12</th>\n",
       "      <th>13</th>\n",
       "      <th>14</th>\n",
       "      <th>15</th>\n",
       "      <th>16</th>\n",
       "      <th>17</th>\n",
       "      <th>18</th>\n",
       "      <th>19</th>\n",
       "      <th>20</th>\n",
       "      <th>21</th>\n",
       "      <th>22</th>\n",
       "      <th>...</th>\n",
       "      <th>27</th>\n",
       "      <th>28</th>\n",
       "      <th>29</th>\n",
       "      <th>30</th>\n",
       "      <th>31</th>\n",
       "      <th>32</th>\n",
       "      <th>33</th>\n",
       "      <th>34</th>\n",
       "      <th>35</th>\n",
       "      <th>36</th>\n",
       "      <th>37</th>\n",
       "      <th>38</th>\n",
       "      <th>39</th>\n",
       "      <th>40</th>\n",
       "      <th>41</th>\n",
       "      <th>42</th>\n",
       "      <th>43</th>\n",
       "      <th>44</th>\n",
       "      <th>45</th>\n",
       "      <th>46</th>\n",
       "      <th>47</th>\n",
       "      <th>48</th>\n",
       "      <th>49</th>\n",
       "    </tr>\n",
       "  </thead>\n",
       "  <tbody>\n",
       "    <tr>\n",
       "      <th>0</th>\n",
       "      <td>82</td>\n",
       "      <td>76</td>\n",
       "      <td>66</td>\n",
       "      <td>19</td>\n",
       "      <td>97</td>\n",
       "      <td>60</td>\n",
       "      <td>8</td>\n",
       "      <td>33</td>\n",
       "      <td>39</td>\n",
       "      <td>45</td>\n",
       "      <td>63</td>\n",
       "      <td>3</td>\n",
       "      <td>4</td>\n",
       "      <td>96</td>\n",
       "      <td>81</td>\n",
       "      <td>90</td>\n",
       "      <td>73</td>\n",
       "      <td>60</td>\n",
       "      <td>66</td>\n",
       "      <td>72</td>\n",
       "      <td>78</td>\n",
       "      <td>73</td>\n",
       "      <td>48</td>\n",
       "      <td>...</td>\n",
       "      <td>95</td>\n",
       "      <td>99</td>\n",
       "      <td>78</td>\n",
       "      <td>25</td>\n",
       "      <td>41</td>\n",
       "      <td>96</td>\n",
       "      <td>32</td>\n",
       "      <td>51</td>\n",
       "      <td>42</td>\n",
       "      <td>12</td>\n",
       "      <td>49</td>\n",
       "      <td>88</td>\n",
       "      <td>47</td>\n",
       "      <td>41</td>\n",
       "      <td>85</td>\n",
       "      <td>30</td>\n",
       "      <td>50</td>\n",
       "      <td>56</td>\n",
       "      <td>92</td>\n",
       "      <td>48</td>\n",
       "      <td>3</td>\n",
       "      <td>18</td>\n",
       "      <td>55</td>\n",
       "    </tr>\n",
       "    <tr>\n",
       "      <th>1</th>\n",
       "      <td>70</td>\n",
       "      <td>37</td>\n",
       "      <td>53</td>\n",
       "      <td>86</td>\n",
       "      <td>20</td>\n",
       "      <td>79</td>\n",
       "      <td>27</td>\n",
       "      <td>46</td>\n",
       "      <td>73</td>\n",
       "      <td>84</td>\n",
       "      <td>4</td>\n",
       "      <td>35</td>\n",
       "      <td>78</td>\n",
       "      <td>91</td>\n",
       "      <td>10</td>\n",
       "      <td>70</td>\n",
       "      <td>30</td>\n",
       "      <td>57</td>\n",
       "      <td>92</td>\n",
       "      <td>1</td>\n",
       "      <td>37</td>\n",
       "      <td>22</td>\n",
       "      <td>90</td>\n",
       "      <td>...</td>\n",
       "      <td>18</td>\n",
       "      <td>38</td>\n",
       "      <td>23</td>\n",
       "      <td>25</td>\n",
       "      <td>76</td>\n",
       "      <td>95</td>\n",
       "      <td>41</td>\n",
       "      <td>54</td>\n",
       "      <td>41</td>\n",
       "      <td>89</td>\n",
       "      <td>91</td>\n",
       "      <td>53</td>\n",
       "      <td>1</td>\n",
       "      <td>22</td>\n",
       "      <td>92</td>\n",
       "      <td>25</td>\n",
       "      <td>64</td>\n",
       "      <td>58</td>\n",
       "      <td>87</td>\n",
       "      <td>97</td>\n",
       "      <td>34</td>\n",
       "      <td>51</td>\n",
       "      <td>65</td>\n",
       "    </tr>\n",
       "    <tr>\n",
       "      <th>...</th>\n",
       "      <td>...</td>\n",
       "      <td>...</td>\n",
       "      <td>...</td>\n",
       "      <td>...</td>\n",
       "      <td>...</td>\n",
       "      <td>...</td>\n",
       "      <td>...</td>\n",
       "      <td>...</td>\n",
       "      <td>...</td>\n",
       "      <td>...</td>\n",
       "      <td>...</td>\n",
       "      <td>...</td>\n",
       "      <td>...</td>\n",
       "      <td>...</td>\n",
       "      <td>...</td>\n",
       "      <td>...</td>\n",
       "      <td>...</td>\n",
       "      <td>...</td>\n",
       "      <td>...</td>\n",
       "      <td>...</td>\n",
       "      <td>...</td>\n",
       "      <td>...</td>\n",
       "      <td>...</td>\n",
       "      <td>...</td>\n",
       "      <td>...</td>\n",
       "      <td>...</td>\n",
       "      <td>...</td>\n",
       "      <td>...</td>\n",
       "      <td>...</td>\n",
       "      <td>...</td>\n",
       "      <td>...</td>\n",
       "      <td>...</td>\n",
       "      <td>...</td>\n",
       "      <td>...</td>\n",
       "      <td>...</td>\n",
       "      <td>...</td>\n",
       "      <td>...</td>\n",
       "      <td>...</td>\n",
       "      <td>...</td>\n",
       "      <td>...</td>\n",
       "      <td>...</td>\n",
       "      <td>...</td>\n",
       "      <td>...</td>\n",
       "      <td>...</td>\n",
       "      <td>...</td>\n",
       "      <td>...</td>\n",
       "      <td>...</td>\n",
       "    </tr>\n",
       "    <tr>\n",
       "      <th>998</th>\n",
       "      <td>9</td>\n",
       "      <td>19</td>\n",
       "      <td>28</td>\n",
       "      <td>91</td>\n",
       "      <td>70</td>\n",
       "      <td>22</td>\n",
       "      <td>77</td>\n",
       "      <td>98</td>\n",
       "      <td>48</td>\n",
       "      <td>71</td>\n",
       "      <td>44</td>\n",
       "      <td>24</td>\n",
       "      <td>39</td>\n",
       "      <td>23</td>\n",
       "      <td>46</td>\n",
       "      <td>45</td>\n",
       "      <td>10</td>\n",
       "      <td>74</td>\n",
       "      <td>22</td>\n",
       "      <td>18</td>\n",
       "      <td>3</td>\n",
       "      <td>76</td>\n",
       "      <td>65</td>\n",
       "      <td>...</td>\n",
       "      <td>39</td>\n",
       "      <td>74</td>\n",
       "      <td>91</td>\n",
       "      <td>77</td>\n",
       "      <td>46</td>\n",
       "      <td>85</td>\n",
       "      <td>85</td>\n",
       "      <td>85</td>\n",
       "      <td>66</td>\n",
       "      <td>99</td>\n",
       "      <td>11</td>\n",
       "      <td>31</td>\n",
       "      <td>75</td>\n",
       "      <td>52</td>\n",
       "      <td>89</td>\n",
       "      <td>14</td>\n",
       "      <td>64</td>\n",
       "      <td>71</td>\n",
       "      <td>1</td>\n",
       "      <td>55</td>\n",
       "      <td>34</td>\n",
       "      <td>81</td>\n",
       "      <td>63</td>\n",
       "    </tr>\n",
       "    <tr>\n",
       "      <th>999</th>\n",
       "      <td>25</td>\n",
       "      <td>77</td>\n",
       "      <td>66</td>\n",
       "      <td>73</td>\n",
       "      <td>41</td>\n",
       "      <td>49</td>\n",
       "      <td>91</td>\n",
       "      <td>50</td>\n",
       "      <td>33</td>\n",
       "      <td>88</td>\n",
       "      <td>22</td>\n",
       "      <td>60</td>\n",
       "      <td>54</td>\n",
       "      <td>21</td>\n",
       "      <td>98</td>\n",
       "      <td>87</td>\n",
       "      <td>51</td>\n",
       "      <td>35</td>\n",
       "      <td>10</td>\n",
       "      <td>51</td>\n",
       "      <td>52</td>\n",
       "      <td>10</td>\n",
       "      <td>24</td>\n",
       "      <td>...</td>\n",
       "      <td>69</td>\n",
       "      <td>42</td>\n",
       "      <td>2</td>\n",
       "      <td>3</td>\n",
       "      <td>41</td>\n",
       "      <td>68</td>\n",
       "      <td>41</td>\n",
       "      <td>66</td>\n",
       "      <td>29</td>\n",
       "      <td>4</td>\n",
       "      <td>50</td>\n",
       "      <td>11</td>\n",
       "      <td>34</td>\n",
       "      <td>52</td>\n",
       "      <td>53</td>\n",
       "      <td>21</td>\n",
       "      <td>99</td>\n",
       "      <td>52</td>\n",
       "      <td>21</td>\n",
       "      <td>86</td>\n",
       "      <td>34</td>\n",
       "      <td>21</td>\n",
       "      <td>82</td>\n",
       "    </tr>\n",
       "  </tbody>\n",
       "</table>\n",
       "<p>1000 rows × 50 columns</p>\n",
       "</div>"
      ],
      "text/plain": [
       "     0   1   2   3   4   5   6   7   8   9   10  11  12  13  14  15  16  17  \\\n",
       "0    82  76  66  19  97  60   8  33  39  45  63   3   4  96  81  90  73  60   \n",
       "1    70  37  53  86  20  79  27  46  73  84   4  35  78  91  10  70  30  57   \n",
       "..   ..  ..  ..  ..  ..  ..  ..  ..  ..  ..  ..  ..  ..  ..  ..  ..  ..  ..   \n",
       "998   9  19  28  91  70  22  77  98  48  71  44  24  39  23  46  45  10  74   \n",
       "999  25  77  66  73  41  49  91  50  33  88  22  60  54  21  98  87  51  35   \n",
       "\n",
       "     18  19  20  21  22  ...  27  28  29  30  31  32  33  34  35  36  37  38  \\\n",
       "0    66  72  78  73  48  ...  95  99  78  25  41  96  32  51  42  12  49  88   \n",
       "1    92   1  37  22  90  ...  18  38  23  25  76  95  41  54  41  89  91  53   \n",
       "..   ..  ..  ..  ..  ..  ...  ..  ..  ..  ..  ..  ..  ..  ..  ..  ..  ..  ..   \n",
       "998  22  18   3  76  65  ...  39  74  91  77  46  85  85  85  66  99  11  31   \n",
       "999  10  51  52  10  24  ...  69  42   2   3  41  68  41  66  29   4  50  11   \n",
       "\n",
       "     39  40  41  42  43  44  45  46  47  48  49  \n",
       "0    47  41  85  30  50  56  92  48   3  18  55  \n",
       "1     1  22  92  25  64  58  87  97  34  51  65  \n",
       "..   ..  ..  ..  ..  ..  ..  ..  ..  ..  ..  ..  \n",
       "998  75  52  89  14  64  71   1  55  34  81  63  \n",
       "999  34  52  53  21  99  52  21  86  34  21  82  \n",
       "\n",
       "[1000 rows x 50 columns]"
      ]
     },
     "execution_count": 152,
     "metadata": {},
     "output_type": "execute_result"
    }
   ],
   "source": [
    "df"
   ]
  },
  {
   "cell_type": "markdown",
   "id": "18d2a7dc",
   "metadata": {},
   "source": [
    "### changing pandas options with methods"
   ]
  },
  {
   "cell_type": "code",
   "execution_count": 153,
   "id": "68d45fbc",
   "metadata": {},
   "outputs": [
    {
     "ename": "OptionError",
     "evalue": "'Pattern matched multiple keys'",
     "output_type": "error",
     "traceback": [
      "\u001b[1;31m---------------------------------------------------------------------------\u001b[0m",
      "\u001b[1;31mOptionError\u001b[0m                               Traceback (most recent call last)",
      "\u001b[1;32m~\\AppData\\Local\\Temp\\ipykernel_3084\\2817928992.py\u001b[0m in \u001b[0;36m<module>\u001b[1;34m\u001b[0m\n\u001b[1;32m----> 1\u001b[1;33m \u001b[0mpd\u001b[0m\u001b[1;33m.\u001b[0m\u001b[0mget_option\u001b[0m\u001b[1;33m(\u001b[0m\u001b[1;34m'max_rows'\u001b[0m\u001b[1;33m)\u001b[0m\u001b[1;33m\u001b[0m\u001b[1;33m\u001b[0m\u001b[0m\n\u001b[0m",
      "\u001b[1;32m~\\anaconda3\\lib\\site-packages\\pandas\\_config\\config.py\u001b[0m in \u001b[0;36m__call__\u001b[1;34m(self, *args, **kwds)\u001b[0m\n\u001b[0;32m    254\u001b[0m \u001b[1;33m\u001b[0m\u001b[0m\n\u001b[0;32m    255\u001b[0m     \u001b[1;32mdef\u001b[0m \u001b[0m__call__\u001b[0m\u001b[1;33m(\u001b[0m\u001b[0mself\u001b[0m\u001b[1;33m,\u001b[0m \u001b[1;33m*\u001b[0m\u001b[0margs\u001b[0m\u001b[1;33m,\u001b[0m \u001b[1;33m**\u001b[0m\u001b[0mkwds\u001b[0m\u001b[1;33m)\u001b[0m\u001b[1;33m:\u001b[0m\u001b[1;33m\u001b[0m\u001b[1;33m\u001b[0m\u001b[0m\n\u001b[1;32m--> 256\u001b[1;33m         \u001b[1;32mreturn\u001b[0m \u001b[0mself\u001b[0m\u001b[1;33m.\u001b[0m\u001b[0m__func__\u001b[0m\u001b[1;33m(\u001b[0m\u001b[1;33m*\u001b[0m\u001b[0margs\u001b[0m\u001b[1;33m,\u001b[0m \u001b[1;33m**\u001b[0m\u001b[0mkwds\u001b[0m\u001b[1;33m)\u001b[0m\u001b[1;33m\u001b[0m\u001b[1;33m\u001b[0m\u001b[0m\n\u001b[0m\u001b[0;32m    257\u001b[0m \u001b[1;33m\u001b[0m\u001b[0m\n\u001b[0;32m    258\u001b[0m     \u001b[1;33m@\u001b[0m\u001b[0mproperty\u001b[0m\u001b[1;33m\u001b[0m\u001b[1;33m\u001b[0m\u001b[0m\n",
      "\u001b[1;32m~\\anaconda3\\lib\\site-packages\\pandas\\_config\\config.py\u001b[0m in \u001b[0;36m_get_option\u001b[1;34m(pat, silent)\u001b[0m\n\u001b[0;32m    126\u001b[0m \u001b[1;33m\u001b[0m\u001b[0m\n\u001b[0;32m    127\u001b[0m \u001b[1;32mdef\u001b[0m \u001b[0m_get_option\u001b[0m\u001b[1;33m(\u001b[0m\u001b[0mpat\u001b[0m\u001b[1;33m:\u001b[0m \u001b[0mstr\u001b[0m\u001b[1;33m,\u001b[0m \u001b[0msilent\u001b[0m\u001b[1;33m:\u001b[0m \u001b[0mbool\u001b[0m \u001b[1;33m=\u001b[0m \u001b[1;32mFalse\u001b[0m\u001b[1;33m)\u001b[0m\u001b[1;33m:\u001b[0m\u001b[1;33m\u001b[0m\u001b[1;33m\u001b[0m\u001b[0m\n\u001b[1;32m--> 128\u001b[1;33m     \u001b[0mkey\u001b[0m \u001b[1;33m=\u001b[0m \u001b[0m_get_single_key\u001b[0m\u001b[1;33m(\u001b[0m\u001b[0mpat\u001b[0m\u001b[1;33m,\u001b[0m \u001b[0msilent\u001b[0m\u001b[1;33m)\u001b[0m\u001b[1;33m\u001b[0m\u001b[1;33m\u001b[0m\u001b[0m\n\u001b[0m\u001b[0;32m    129\u001b[0m \u001b[1;33m\u001b[0m\u001b[0m\n\u001b[0;32m    130\u001b[0m     \u001b[1;31m# walk the nested dict\u001b[0m\u001b[1;33m\u001b[0m\u001b[1;33m\u001b[0m\u001b[0m\n",
      "\u001b[1;32m~\\anaconda3\\lib\\site-packages\\pandas\\_config\\config.py\u001b[0m in \u001b[0;36m_get_single_key\u001b[1;34m(pat, silent)\u001b[0m\n\u001b[0;32m    114\u001b[0m         \u001b[1;32mraise\u001b[0m \u001b[0mOptionError\u001b[0m\u001b[1;33m(\u001b[0m\u001b[1;34mf\"No such keys(s): {repr(pat)}\"\u001b[0m\u001b[1;33m)\u001b[0m\u001b[1;33m\u001b[0m\u001b[1;33m\u001b[0m\u001b[0m\n\u001b[0;32m    115\u001b[0m     \u001b[1;32mif\u001b[0m \u001b[0mlen\u001b[0m\u001b[1;33m(\u001b[0m\u001b[0mkeys\u001b[0m\u001b[1;33m)\u001b[0m \u001b[1;33m>\u001b[0m \u001b[1;36m1\u001b[0m\u001b[1;33m:\u001b[0m\u001b[1;33m\u001b[0m\u001b[1;33m\u001b[0m\u001b[0m\n\u001b[1;32m--> 116\u001b[1;33m         \u001b[1;32mraise\u001b[0m \u001b[0mOptionError\u001b[0m\u001b[1;33m(\u001b[0m\u001b[1;34m\"Pattern matched multiple keys\"\u001b[0m\u001b[1;33m)\u001b[0m\u001b[1;33m\u001b[0m\u001b[1;33m\u001b[0m\u001b[0m\n\u001b[0m\u001b[0;32m    117\u001b[0m     \u001b[0mkey\u001b[0m \u001b[1;33m=\u001b[0m \u001b[0mkeys\u001b[0m\u001b[1;33m[\u001b[0m\u001b[1;36m0\u001b[0m\u001b[1;33m]\u001b[0m\u001b[1;33m\u001b[0m\u001b[1;33m\u001b[0m\u001b[0m\n\u001b[0;32m    118\u001b[0m \u001b[1;33m\u001b[0m\u001b[0m\n",
      "\u001b[1;31mOptionError\u001b[0m: 'Pattern matched multiple keys'"
     ]
    }
   ],
   "source": [
    "pd.get_option('max_rows')"
   ]
  },
  {
   "cell_type": "code",
   "execution_count": 154,
   "id": "ce73282c",
   "metadata": {},
   "outputs": [
    {
     "ename": "OptionError",
     "evalue": "'Pattern matched multiple keys'",
     "output_type": "error",
     "traceback": [
      "\u001b[1;31m---------------------------------------------------------------------------\u001b[0m",
      "\u001b[1;31mOptionError\u001b[0m                               Traceback (most recent call last)",
      "\u001b[1;32m~\\AppData\\Local\\Temp\\ipykernel_3084\\312487285.py\u001b[0m in \u001b[0;36m<module>\u001b[1;34m\u001b[0m\n\u001b[1;32m----> 1\u001b[1;33m \u001b[0mpd\u001b[0m\u001b[1;33m.\u001b[0m\u001b[0mset_option\u001b[0m\u001b[1;33m(\u001b[0m\u001b[1;34m'max_columns'\u001b[0m\u001b[1;33m,\u001b[0m \u001b[1;36m7\u001b[0m\u001b[1;33m)\u001b[0m\u001b[1;33m\u001b[0m\u001b[1;33m\u001b[0m\u001b[0m\n\u001b[0m",
      "\u001b[1;32m~\\anaconda3\\lib\\site-packages\\pandas\\_config\\config.py\u001b[0m in \u001b[0;36m__call__\u001b[1;34m(self, *args, **kwds)\u001b[0m\n\u001b[0;32m    254\u001b[0m \u001b[1;33m\u001b[0m\u001b[0m\n\u001b[0;32m    255\u001b[0m     \u001b[1;32mdef\u001b[0m \u001b[0m__call__\u001b[0m\u001b[1;33m(\u001b[0m\u001b[0mself\u001b[0m\u001b[1;33m,\u001b[0m \u001b[1;33m*\u001b[0m\u001b[0margs\u001b[0m\u001b[1;33m,\u001b[0m \u001b[1;33m**\u001b[0m\u001b[0mkwds\u001b[0m\u001b[1;33m)\u001b[0m\u001b[1;33m:\u001b[0m\u001b[1;33m\u001b[0m\u001b[1;33m\u001b[0m\u001b[0m\n\u001b[1;32m--> 256\u001b[1;33m         \u001b[1;32mreturn\u001b[0m \u001b[0mself\u001b[0m\u001b[1;33m.\u001b[0m\u001b[0m__func__\u001b[0m\u001b[1;33m(\u001b[0m\u001b[1;33m*\u001b[0m\u001b[0margs\u001b[0m\u001b[1;33m,\u001b[0m \u001b[1;33m**\u001b[0m\u001b[0mkwds\u001b[0m\u001b[1;33m)\u001b[0m\u001b[1;33m\u001b[0m\u001b[1;33m\u001b[0m\u001b[0m\n\u001b[0m\u001b[0;32m    257\u001b[0m \u001b[1;33m\u001b[0m\u001b[0m\n\u001b[0;32m    258\u001b[0m     \u001b[1;33m@\u001b[0m\u001b[0mproperty\u001b[0m\u001b[1;33m\u001b[0m\u001b[1;33m\u001b[0m\u001b[0m\n",
      "\u001b[1;32m~\\anaconda3\\lib\\site-packages\\pandas\\_config\\config.py\u001b[0m in \u001b[0;36m_set_option\u001b[1;34m(*args, **kwargs)\u001b[0m\n\u001b[0;32m    147\u001b[0m \u001b[1;33m\u001b[0m\u001b[0m\n\u001b[0;32m    148\u001b[0m     \u001b[1;32mfor\u001b[0m \u001b[0mk\u001b[0m\u001b[1;33m,\u001b[0m \u001b[0mv\u001b[0m \u001b[1;32min\u001b[0m \u001b[0mzip\u001b[0m\u001b[1;33m(\u001b[0m\u001b[0margs\u001b[0m\u001b[1;33m[\u001b[0m\u001b[1;33m:\u001b[0m\u001b[1;33m:\u001b[0m\u001b[1;36m2\u001b[0m\u001b[1;33m]\u001b[0m\u001b[1;33m,\u001b[0m \u001b[0margs\u001b[0m\u001b[1;33m[\u001b[0m\u001b[1;36m1\u001b[0m\u001b[1;33m:\u001b[0m\u001b[1;33m:\u001b[0m\u001b[1;36m2\u001b[0m\u001b[1;33m]\u001b[0m\u001b[1;33m)\u001b[0m\u001b[1;33m:\u001b[0m\u001b[1;33m\u001b[0m\u001b[1;33m\u001b[0m\u001b[0m\n\u001b[1;32m--> 149\u001b[1;33m         \u001b[0mkey\u001b[0m \u001b[1;33m=\u001b[0m \u001b[0m_get_single_key\u001b[0m\u001b[1;33m(\u001b[0m\u001b[0mk\u001b[0m\u001b[1;33m,\u001b[0m \u001b[0msilent\u001b[0m\u001b[1;33m)\u001b[0m\u001b[1;33m\u001b[0m\u001b[1;33m\u001b[0m\u001b[0m\n\u001b[0m\u001b[0;32m    150\u001b[0m \u001b[1;33m\u001b[0m\u001b[0m\n\u001b[0;32m    151\u001b[0m         \u001b[0mo\u001b[0m \u001b[1;33m=\u001b[0m \u001b[0m_get_registered_option\u001b[0m\u001b[1;33m(\u001b[0m\u001b[0mkey\u001b[0m\u001b[1;33m)\u001b[0m\u001b[1;33m\u001b[0m\u001b[1;33m\u001b[0m\u001b[0m\n",
      "\u001b[1;32m~\\anaconda3\\lib\\site-packages\\pandas\\_config\\config.py\u001b[0m in \u001b[0;36m_get_single_key\u001b[1;34m(pat, silent)\u001b[0m\n\u001b[0;32m    114\u001b[0m         \u001b[1;32mraise\u001b[0m \u001b[0mOptionError\u001b[0m\u001b[1;33m(\u001b[0m\u001b[1;34mf\"No such keys(s): {repr(pat)}\"\u001b[0m\u001b[1;33m)\u001b[0m\u001b[1;33m\u001b[0m\u001b[1;33m\u001b[0m\u001b[0m\n\u001b[0;32m    115\u001b[0m     \u001b[1;32mif\u001b[0m \u001b[0mlen\u001b[0m\u001b[1;33m(\u001b[0m\u001b[0mkeys\u001b[0m\u001b[1;33m)\u001b[0m \u001b[1;33m>\u001b[0m \u001b[1;36m1\u001b[0m\u001b[1;33m:\u001b[0m\u001b[1;33m\u001b[0m\u001b[1;33m\u001b[0m\u001b[0m\n\u001b[1;32m--> 116\u001b[1;33m         \u001b[1;32mraise\u001b[0m \u001b[0mOptionError\u001b[0m\u001b[1;33m(\u001b[0m\u001b[1;34m\"Pattern matched multiple keys\"\u001b[0m\u001b[1;33m)\u001b[0m\u001b[1;33m\u001b[0m\u001b[1;33m\u001b[0m\u001b[0m\n\u001b[0m\u001b[0;32m    117\u001b[0m     \u001b[0mkey\u001b[0m \u001b[1;33m=\u001b[0m \u001b[0mkeys\u001b[0m\u001b[1;33m[\u001b[0m\u001b[1;36m0\u001b[0m\u001b[1;33m]\u001b[0m\u001b[1;33m\u001b[0m\u001b[1;33m\u001b[0m\u001b[0m\n\u001b[0;32m    118\u001b[0m \u001b[1;33m\u001b[0m\u001b[0m\n",
      "\u001b[1;31mOptionError\u001b[0m: 'Pattern matched multiple keys'"
     ]
    }
   ],
   "source": [
    "pd.set_option('max_columns', 7)"
   ]
  },
  {
   "cell_type": "code",
   "execution_count": 155,
   "id": "4824b899",
   "metadata": {},
   "outputs": [
    {
     "data": {
      "text/html": [
       "<div>\n",
       "<style scoped>\n",
       "    .dataframe tbody tr th:only-of-type {\n",
       "        vertical-align: middle;\n",
       "    }\n",
       "\n",
       "    .dataframe tbody tr th {\n",
       "        vertical-align: top;\n",
       "    }\n",
       "\n",
       "    .dataframe thead th {\n",
       "        text-align: right;\n",
       "    }\n",
       "</style>\n",
       "<table border=\"1\" class=\"dataframe\">\n",
       "  <thead>\n",
       "    <tr style=\"text-align: right;\">\n",
       "      <th></th>\n",
       "      <th>0</th>\n",
       "      <th>1</th>\n",
       "      <th>2</th>\n",
       "      <th>3</th>\n",
       "      <th>4</th>\n",
       "      <th>5</th>\n",
       "      <th>6</th>\n",
       "      <th>7</th>\n",
       "      <th>8</th>\n",
       "      <th>9</th>\n",
       "      <th>10</th>\n",
       "      <th>11</th>\n",
       "      <th>12</th>\n",
       "      <th>13</th>\n",
       "      <th>14</th>\n",
       "      <th>15</th>\n",
       "      <th>16</th>\n",
       "      <th>17</th>\n",
       "      <th>18</th>\n",
       "      <th>19</th>\n",
       "      <th>20</th>\n",
       "      <th>21</th>\n",
       "      <th>22</th>\n",
       "      <th>...</th>\n",
       "      <th>27</th>\n",
       "      <th>28</th>\n",
       "      <th>29</th>\n",
       "      <th>30</th>\n",
       "      <th>31</th>\n",
       "      <th>32</th>\n",
       "      <th>33</th>\n",
       "      <th>34</th>\n",
       "      <th>35</th>\n",
       "      <th>36</th>\n",
       "      <th>37</th>\n",
       "      <th>38</th>\n",
       "      <th>39</th>\n",
       "      <th>40</th>\n",
       "      <th>41</th>\n",
       "      <th>42</th>\n",
       "      <th>43</th>\n",
       "      <th>44</th>\n",
       "      <th>45</th>\n",
       "      <th>46</th>\n",
       "      <th>47</th>\n",
       "      <th>48</th>\n",
       "      <th>49</th>\n",
       "    </tr>\n",
       "  </thead>\n",
       "  <tbody>\n",
       "    <tr>\n",
       "      <th>0</th>\n",
       "      <td>82</td>\n",
       "      <td>76</td>\n",
       "      <td>66</td>\n",
       "      <td>19</td>\n",
       "      <td>97</td>\n",
       "      <td>60</td>\n",
       "      <td>8</td>\n",
       "      <td>33</td>\n",
       "      <td>39</td>\n",
       "      <td>45</td>\n",
       "      <td>63</td>\n",
       "      <td>3</td>\n",
       "      <td>4</td>\n",
       "      <td>96</td>\n",
       "      <td>81</td>\n",
       "      <td>90</td>\n",
       "      <td>73</td>\n",
       "      <td>60</td>\n",
       "      <td>66</td>\n",
       "      <td>72</td>\n",
       "      <td>78</td>\n",
       "      <td>73</td>\n",
       "      <td>48</td>\n",
       "      <td>...</td>\n",
       "      <td>95</td>\n",
       "      <td>99</td>\n",
       "      <td>78</td>\n",
       "      <td>25</td>\n",
       "      <td>41</td>\n",
       "      <td>96</td>\n",
       "      <td>32</td>\n",
       "      <td>51</td>\n",
       "      <td>42</td>\n",
       "      <td>12</td>\n",
       "      <td>49</td>\n",
       "      <td>88</td>\n",
       "      <td>47</td>\n",
       "      <td>41</td>\n",
       "      <td>85</td>\n",
       "      <td>30</td>\n",
       "      <td>50</td>\n",
       "      <td>56</td>\n",
       "      <td>92</td>\n",
       "      <td>48</td>\n",
       "      <td>3</td>\n",
       "      <td>18</td>\n",
       "      <td>55</td>\n",
       "    </tr>\n",
       "    <tr>\n",
       "      <th>1</th>\n",
       "      <td>70</td>\n",
       "      <td>37</td>\n",
       "      <td>53</td>\n",
       "      <td>86</td>\n",
       "      <td>20</td>\n",
       "      <td>79</td>\n",
       "      <td>27</td>\n",
       "      <td>46</td>\n",
       "      <td>73</td>\n",
       "      <td>84</td>\n",
       "      <td>4</td>\n",
       "      <td>35</td>\n",
       "      <td>78</td>\n",
       "      <td>91</td>\n",
       "      <td>10</td>\n",
       "      <td>70</td>\n",
       "      <td>30</td>\n",
       "      <td>57</td>\n",
       "      <td>92</td>\n",
       "      <td>1</td>\n",
       "      <td>37</td>\n",
       "      <td>22</td>\n",
       "      <td>90</td>\n",
       "      <td>...</td>\n",
       "      <td>18</td>\n",
       "      <td>38</td>\n",
       "      <td>23</td>\n",
       "      <td>25</td>\n",
       "      <td>76</td>\n",
       "      <td>95</td>\n",
       "      <td>41</td>\n",
       "      <td>54</td>\n",
       "      <td>41</td>\n",
       "      <td>89</td>\n",
       "      <td>91</td>\n",
       "      <td>53</td>\n",
       "      <td>1</td>\n",
       "      <td>22</td>\n",
       "      <td>92</td>\n",
       "      <td>25</td>\n",
       "      <td>64</td>\n",
       "      <td>58</td>\n",
       "      <td>87</td>\n",
       "      <td>97</td>\n",
       "      <td>34</td>\n",
       "      <td>51</td>\n",
       "      <td>65</td>\n",
       "    </tr>\n",
       "    <tr>\n",
       "      <th>...</th>\n",
       "      <td>...</td>\n",
       "      <td>...</td>\n",
       "      <td>...</td>\n",
       "      <td>...</td>\n",
       "      <td>...</td>\n",
       "      <td>...</td>\n",
       "      <td>...</td>\n",
       "      <td>...</td>\n",
       "      <td>...</td>\n",
       "      <td>...</td>\n",
       "      <td>...</td>\n",
       "      <td>...</td>\n",
       "      <td>...</td>\n",
       "      <td>...</td>\n",
       "      <td>...</td>\n",
       "      <td>...</td>\n",
       "      <td>...</td>\n",
       "      <td>...</td>\n",
       "      <td>...</td>\n",
       "      <td>...</td>\n",
       "      <td>...</td>\n",
       "      <td>...</td>\n",
       "      <td>...</td>\n",
       "      <td>...</td>\n",
       "      <td>...</td>\n",
       "      <td>...</td>\n",
       "      <td>...</td>\n",
       "      <td>...</td>\n",
       "      <td>...</td>\n",
       "      <td>...</td>\n",
       "      <td>...</td>\n",
       "      <td>...</td>\n",
       "      <td>...</td>\n",
       "      <td>...</td>\n",
       "      <td>...</td>\n",
       "      <td>...</td>\n",
       "      <td>...</td>\n",
       "      <td>...</td>\n",
       "      <td>...</td>\n",
       "      <td>...</td>\n",
       "      <td>...</td>\n",
       "      <td>...</td>\n",
       "      <td>...</td>\n",
       "      <td>...</td>\n",
       "      <td>...</td>\n",
       "      <td>...</td>\n",
       "      <td>...</td>\n",
       "    </tr>\n",
       "    <tr>\n",
       "      <th>998</th>\n",
       "      <td>9</td>\n",
       "      <td>19</td>\n",
       "      <td>28</td>\n",
       "      <td>91</td>\n",
       "      <td>70</td>\n",
       "      <td>22</td>\n",
       "      <td>77</td>\n",
       "      <td>98</td>\n",
       "      <td>48</td>\n",
       "      <td>71</td>\n",
       "      <td>44</td>\n",
       "      <td>24</td>\n",
       "      <td>39</td>\n",
       "      <td>23</td>\n",
       "      <td>46</td>\n",
       "      <td>45</td>\n",
       "      <td>10</td>\n",
       "      <td>74</td>\n",
       "      <td>22</td>\n",
       "      <td>18</td>\n",
       "      <td>3</td>\n",
       "      <td>76</td>\n",
       "      <td>65</td>\n",
       "      <td>...</td>\n",
       "      <td>39</td>\n",
       "      <td>74</td>\n",
       "      <td>91</td>\n",
       "      <td>77</td>\n",
       "      <td>46</td>\n",
       "      <td>85</td>\n",
       "      <td>85</td>\n",
       "      <td>85</td>\n",
       "      <td>66</td>\n",
       "      <td>99</td>\n",
       "      <td>11</td>\n",
       "      <td>31</td>\n",
       "      <td>75</td>\n",
       "      <td>52</td>\n",
       "      <td>89</td>\n",
       "      <td>14</td>\n",
       "      <td>64</td>\n",
       "      <td>71</td>\n",
       "      <td>1</td>\n",
       "      <td>55</td>\n",
       "      <td>34</td>\n",
       "      <td>81</td>\n",
       "      <td>63</td>\n",
       "    </tr>\n",
       "    <tr>\n",
       "      <th>999</th>\n",
       "      <td>25</td>\n",
       "      <td>77</td>\n",
       "      <td>66</td>\n",
       "      <td>73</td>\n",
       "      <td>41</td>\n",
       "      <td>49</td>\n",
       "      <td>91</td>\n",
       "      <td>50</td>\n",
       "      <td>33</td>\n",
       "      <td>88</td>\n",
       "      <td>22</td>\n",
       "      <td>60</td>\n",
       "      <td>54</td>\n",
       "      <td>21</td>\n",
       "      <td>98</td>\n",
       "      <td>87</td>\n",
       "      <td>51</td>\n",
       "      <td>35</td>\n",
       "      <td>10</td>\n",
       "      <td>51</td>\n",
       "      <td>52</td>\n",
       "      <td>10</td>\n",
       "      <td>24</td>\n",
       "      <td>...</td>\n",
       "      <td>69</td>\n",
       "      <td>42</td>\n",
       "      <td>2</td>\n",
       "      <td>3</td>\n",
       "      <td>41</td>\n",
       "      <td>68</td>\n",
       "      <td>41</td>\n",
       "      <td>66</td>\n",
       "      <td>29</td>\n",
       "      <td>4</td>\n",
       "      <td>50</td>\n",
       "      <td>11</td>\n",
       "      <td>34</td>\n",
       "      <td>52</td>\n",
       "      <td>53</td>\n",
       "      <td>21</td>\n",
       "      <td>99</td>\n",
       "      <td>52</td>\n",
       "      <td>21</td>\n",
       "      <td>86</td>\n",
       "      <td>34</td>\n",
       "      <td>21</td>\n",
       "      <td>82</td>\n",
       "    </tr>\n",
       "  </tbody>\n",
       "</table>\n",
       "<p>1000 rows × 50 columns</p>\n",
       "</div>"
      ],
      "text/plain": [
       "     0   1   2   3   4   5   6   7   8   9   10  11  12  13  14  15  16  17  \\\n",
       "0    82  76  66  19  97  60   8  33  39  45  63   3   4  96  81  90  73  60   \n",
       "1    70  37  53  86  20  79  27  46  73  84   4  35  78  91  10  70  30  57   \n",
       "..   ..  ..  ..  ..  ..  ..  ..  ..  ..  ..  ..  ..  ..  ..  ..  ..  ..  ..   \n",
       "998   9  19  28  91  70  22  77  98  48  71  44  24  39  23  46  45  10  74   \n",
       "999  25  77  66  73  41  49  91  50  33  88  22  60  54  21  98  87  51  35   \n",
       "\n",
       "     18  19  20  21  22  ...  27  28  29  30  31  32  33  34  35  36  37  38  \\\n",
       "0    66  72  78  73  48  ...  95  99  78  25  41  96  32  51  42  12  49  88   \n",
       "1    92   1  37  22  90  ...  18  38  23  25  76  95  41  54  41  89  91  53   \n",
       "..   ..  ..  ..  ..  ..  ...  ..  ..  ..  ..  ..  ..  ..  ..  ..  ..  ..  ..   \n",
       "998  22  18   3  76  65  ...  39  74  91  77  46  85  85  85  66  99  11  31   \n",
       "999  10  51  52  10  24  ...  69  42   2   3  41  68  41  66  29   4  50  11   \n",
       "\n",
       "     39  40  41  42  43  44  45  46  47  48  49  \n",
       "0    47  41  85  30  50  56  92  48   3  18  55  \n",
       "1     1  22  92  25  64  58  87  97  34  51  65  \n",
       "..   ..  ..  ..  ..  ..  ..  ..  ..  ..  ..  ..  \n",
       "998  75  52  89  14  64  71   1  55  34  81  63  \n",
       "999  34  52  53  21  99  52  21  86  34  21  82  \n",
       "\n",
       "[1000 rows x 50 columns]"
      ]
     },
     "execution_count": 155,
     "metadata": {},
     "output_type": "execute_result"
    }
   ],
   "source": [
    "df"
   ]
  },
  {
   "cell_type": "code",
   "execution_count": 156,
   "id": "edb20967",
   "metadata": {},
   "outputs": [],
   "source": [
    "pd.reset_option('max_rows')"
   ]
  },
  {
   "cell_type": "code",
   "execution_count": 157,
   "id": "d3db1a78",
   "metadata": {},
   "outputs": [
    {
     "data": {
      "text/html": [
       "<div>\n",
       "<style scoped>\n",
       "    .dataframe tbody tr th:only-of-type {\n",
       "        vertical-align: middle;\n",
       "    }\n",
       "\n",
       "    .dataframe tbody tr th {\n",
       "        vertical-align: top;\n",
       "    }\n",
       "\n",
       "    .dataframe thead th {\n",
       "        text-align: right;\n",
       "    }\n",
       "</style>\n",
       "<table border=\"1\" class=\"dataframe\">\n",
       "  <thead>\n",
       "    <tr style=\"text-align: right;\">\n",
       "      <th></th>\n",
       "      <th>0</th>\n",
       "      <th>1</th>\n",
       "      <th>2</th>\n",
       "      <th>3</th>\n",
       "      <th>4</th>\n",
       "      <th>5</th>\n",
       "      <th>6</th>\n",
       "      <th>7</th>\n",
       "      <th>8</th>\n",
       "      <th>9</th>\n",
       "      <th>10</th>\n",
       "      <th>11</th>\n",
       "      <th>12</th>\n",
       "      <th>13</th>\n",
       "      <th>14</th>\n",
       "      <th>15</th>\n",
       "      <th>16</th>\n",
       "      <th>17</th>\n",
       "      <th>18</th>\n",
       "      <th>19</th>\n",
       "      <th>20</th>\n",
       "      <th>21</th>\n",
       "      <th>22</th>\n",
       "      <th>...</th>\n",
       "      <th>27</th>\n",
       "      <th>28</th>\n",
       "      <th>29</th>\n",
       "      <th>30</th>\n",
       "      <th>31</th>\n",
       "      <th>32</th>\n",
       "      <th>33</th>\n",
       "      <th>34</th>\n",
       "      <th>35</th>\n",
       "      <th>36</th>\n",
       "      <th>37</th>\n",
       "      <th>38</th>\n",
       "      <th>39</th>\n",
       "      <th>40</th>\n",
       "      <th>41</th>\n",
       "      <th>42</th>\n",
       "      <th>43</th>\n",
       "      <th>44</th>\n",
       "      <th>45</th>\n",
       "      <th>46</th>\n",
       "      <th>47</th>\n",
       "      <th>48</th>\n",
       "      <th>49</th>\n",
       "    </tr>\n",
       "  </thead>\n",
       "  <tbody>\n",
       "    <tr>\n",
       "      <th>0</th>\n",
       "      <td>82</td>\n",
       "      <td>76</td>\n",
       "      <td>66</td>\n",
       "      <td>19</td>\n",
       "      <td>97</td>\n",
       "      <td>60</td>\n",
       "      <td>8</td>\n",
       "      <td>33</td>\n",
       "      <td>39</td>\n",
       "      <td>45</td>\n",
       "      <td>63</td>\n",
       "      <td>3</td>\n",
       "      <td>4</td>\n",
       "      <td>96</td>\n",
       "      <td>81</td>\n",
       "      <td>90</td>\n",
       "      <td>73</td>\n",
       "      <td>60</td>\n",
       "      <td>66</td>\n",
       "      <td>72</td>\n",
       "      <td>78</td>\n",
       "      <td>73</td>\n",
       "      <td>48</td>\n",
       "      <td>...</td>\n",
       "      <td>95</td>\n",
       "      <td>99</td>\n",
       "      <td>78</td>\n",
       "      <td>25</td>\n",
       "      <td>41</td>\n",
       "      <td>96</td>\n",
       "      <td>32</td>\n",
       "      <td>51</td>\n",
       "      <td>42</td>\n",
       "      <td>12</td>\n",
       "      <td>49</td>\n",
       "      <td>88</td>\n",
       "      <td>47</td>\n",
       "      <td>41</td>\n",
       "      <td>85</td>\n",
       "      <td>30</td>\n",
       "      <td>50</td>\n",
       "      <td>56</td>\n",
       "      <td>92</td>\n",
       "      <td>48</td>\n",
       "      <td>3</td>\n",
       "      <td>18</td>\n",
       "      <td>55</td>\n",
       "    </tr>\n",
       "    <tr>\n",
       "      <th>1</th>\n",
       "      <td>70</td>\n",
       "      <td>37</td>\n",
       "      <td>53</td>\n",
       "      <td>86</td>\n",
       "      <td>20</td>\n",
       "      <td>79</td>\n",
       "      <td>27</td>\n",
       "      <td>46</td>\n",
       "      <td>73</td>\n",
       "      <td>84</td>\n",
       "      <td>4</td>\n",
       "      <td>35</td>\n",
       "      <td>78</td>\n",
       "      <td>91</td>\n",
       "      <td>10</td>\n",
       "      <td>70</td>\n",
       "      <td>30</td>\n",
       "      <td>57</td>\n",
       "      <td>92</td>\n",
       "      <td>1</td>\n",
       "      <td>37</td>\n",
       "      <td>22</td>\n",
       "      <td>90</td>\n",
       "      <td>...</td>\n",
       "      <td>18</td>\n",
       "      <td>38</td>\n",
       "      <td>23</td>\n",
       "      <td>25</td>\n",
       "      <td>76</td>\n",
       "      <td>95</td>\n",
       "      <td>41</td>\n",
       "      <td>54</td>\n",
       "      <td>41</td>\n",
       "      <td>89</td>\n",
       "      <td>91</td>\n",
       "      <td>53</td>\n",
       "      <td>1</td>\n",
       "      <td>22</td>\n",
       "      <td>92</td>\n",
       "      <td>25</td>\n",
       "      <td>64</td>\n",
       "      <td>58</td>\n",
       "      <td>87</td>\n",
       "      <td>97</td>\n",
       "      <td>34</td>\n",
       "      <td>51</td>\n",
       "      <td>65</td>\n",
       "    </tr>\n",
       "    <tr>\n",
       "      <th>2</th>\n",
       "      <td>78</td>\n",
       "      <td>4</td>\n",
       "      <td>96</td>\n",
       "      <td>48</td>\n",
       "      <td>23</td>\n",
       "      <td>24</td>\n",
       "      <td>57</td>\n",
       "      <td>9</td>\n",
       "      <td>22</td>\n",
       "      <td>15</td>\n",
       "      <td>60</td>\n",
       "      <td>80</td>\n",
       "      <td>78</td>\n",
       "      <td>61</td>\n",
       "      <td>90</td>\n",
       "      <td>6</td>\n",
       "      <td>91</td>\n",
       "      <td>61</td>\n",
       "      <td>73</td>\n",
       "      <td>86</td>\n",
       "      <td>39</td>\n",
       "      <td>56</td>\n",
       "      <td>0</td>\n",
       "      <td>...</td>\n",
       "      <td>31</td>\n",
       "      <td>45</td>\n",
       "      <td>67</td>\n",
       "      <td>12</td>\n",
       "      <td>25</td>\n",
       "      <td>19</td>\n",
       "      <td>0</td>\n",
       "      <td>70</td>\n",
       "      <td>44</td>\n",
       "      <td>76</td>\n",
       "      <td>44</td>\n",
       "      <td>37</td>\n",
       "      <td>41</td>\n",
       "      <td>28</td>\n",
       "      <td>81</td>\n",
       "      <td>5</td>\n",
       "      <td>63</td>\n",
       "      <td>97</td>\n",
       "      <td>85</td>\n",
       "      <td>16</td>\n",
       "      <td>68</td>\n",
       "      <td>40</td>\n",
       "      <td>52</td>\n",
       "    </tr>\n",
       "    <tr>\n",
       "      <th>3</th>\n",
       "      <td>67</td>\n",
       "      <td>55</td>\n",
       "      <td>72</td>\n",
       "      <td>49</td>\n",
       "      <td>59</td>\n",
       "      <td>53</td>\n",
       "      <td>63</td>\n",
       "      <td>85</td>\n",
       "      <td>90</td>\n",
       "      <td>20</td>\n",
       "      <td>79</td>\n",
       "      <td>72</td>\n",
       "      <td>59</td>\n",
       "      <td>70</td>\n",
       "      <td>51</td>\n",
       "      <td>83</td>\n",
       "      <td>59</td>\n",
       "      <td>63</td>\n",
       "      <td>87</td>\n",
       "      <td>53</td>\n",
       "      <td>35</td>\n",
       "      <td>34</td>\n",
       "      <td>87</td>\n",
       "      <td>...</td>\n",
       "      <td>94</td>\n",
       "      <td>8</td>\n",
       "      <td>21</td>\n",
       "      <td>94</td>\n",
       "      <td>63</td>\n",
       "      <td>44</td>\n",
       "      <td>2</td>\n",
       "      <td>63</td>\n",
       "      <td>2</td>\n",
       "      <td>60</td>\n",
       "      <td>39</td>\n",
       "      <td>70</td>\n",
       "      <td>21</td>\n",
       "      <td>30</td>\n",
       "      <td>55</td>\n",
       "      <td>10</td>\n",
       "      <td>57</td>\n",
       "      <td>97</td>\n",
       "      <td>56</td>\n",
       "      <td>73</td>\n",
       "      <td>16</td>\n",
       "      <td>88</td>\n",
       "      <td>18</td>\n",
       "    </tr>\n",
       "    <tr>\n",
       "      <th>4</th>\n",
       "      <td>33</td>\n",
       "      <td>9</td>\n",
       "      <td>61</td>\n",
       "      <td>36</td>\n",
       "      <td>60</td>\n",
       "      <td>80</td>\n",
       "      <td>56</td>\n",
       "      <td>68</td>\n",
       "      <td>13</td>\n",
       "      <td>97</td>\n",
       "      <td>84</td>\n",
       "      <td>60</td>\n",
       "      <td>19</td>\n",
       "      <td>47</td>\n",
       "      <td>45</td>\n",
       "      <td>30</td>\n",
       "      <td>5</td>\n",
       "      <td>33</td>\n",
       "      <td>9</td>\n",
       "      <td>15</td>\n",
       "      <td>69</td>\n",
       "      <td>86</td>\n",
       "      <td>10</td>\n",
       "      <td>...</td>\n",
       "      <td>41</td>\n",
       "      <td>59</td>\n",
       "      <td>24</td>\n",
       "      <td>75</td>\n",
       "      <td>98</td>\n",
       "      <td>7</td>\n",
       "      <td>77</td>\n",
       "      <td>4</td>\n",
       "      <td>98</td>\n",
       "      <td>1</td>\n",
       "      <td>32</td>\n",
       "      <td>27</td>\n",
       "      <td>21</td>\n",
       "      <td>81</td>\n",
       "      <td>15</td>\n",
       "      <td>30</td>\n",
       "      <td>17</td>\n",
       "      <td>1</td>\n",
       "      <td>71</td>\n",
       "      <td>90</td>\n",
       "      <td>80</td>\n",
       "      <td>13</td>\n",
       "      <td>69</td>\n",
       "    </tr>\n",
       "    <tr>\n",
       "      <th>...</th>\n",
       "      <td>...</td>\n",
       "      <td>...</td>\n",
       "      <td>...</td>\n",
       "      <td>...</td>\n",
       "      <td>...</td>\n",
       "      <td>...</td>\n",
       "      <td>...</td>\n",
       "      <td>...</td>\n",
       "      <td>...</td>\n",
       "      <td>...</td>\n",
       "      <td>...</td>\n",
       "      <td>...</td>\n",
       "      <td>...</td>\n",
       "      <td>...</td>\n",
       "      <td>...</td>\n",
       "      <td>...</td>\n",
       "      <td>...</td>\n",
       "      <td>...</td>\n",
       "      <td>...</td>\n",
       "      <td>...</td>\n",
       "      <td>...</td>\n",
       "      <td>...</td>\n",
       "      <td>...</td>\n",
       "      <td>...</td>\n",
       "      <td>...</td>\n",
       "      <td>...</td>\n",
       "      <td>...</td>\n",
       "      <td>...</td>\n",
       "      <td>...</td>\n",
       "      <td>...</td>\n",
       "      <td>...</td>\n",
       "      <td>...</td>\n",
       "      <td>...</td>\n",
       "      <td>...</td>\n",
       "      <td>...</td>\n",
       "      <td>...</td>\n",
       "      <td>...</td>\n",
       "      <td>...</td>\n",
       "      <td>...</td>\n",
       "      <td>...</td>\n",
       "      <td>...</td>\n",
       "      <td>...</td>\n",
       "      <td>...</td>\n",
       "      <td>...</td>\n",
       "      <td>...</td>\n",
       "      <td>...</td>\n",
       "      <td>...</td>\n",
       "    </tr>\n",
       "    <tr>\n",
       "      <th>995</th>\n",
       "      <td>49</td>\n",
       "      <td>56</td>\n",
       "      <td>99</td>\n",
       "      <td>67</td>\n",
       "      <td>72</td>\n",
       "      <td>44</td>\n",
       "      <td>40</td>\n",
       "      <td>4</td>\n",
       "      <td>19</td>\n",
       "      <td>77</td>\n",
       "      <td>14</td>\n",
       "      <td>83</td>\n",
       "      <td>59</td>\n",
       "      <td>60</td>\n",
       "      <td>88</td>\n",
       "      <td>80</td>\n",
       "      <td>63</td>\n",
       "      <td>36</td>\n",
       "      <td>60</td>\n",
       "      <td>11</td>\n",
       "      <td>8</td>\n",
       "      <td>60</td>\n",
       "      <td>95</td>\n",
       "      <td>...</td>\n",
       "      <td>54</td>\n",
       "      <td>67</td>\n",
       "      <td>56</td>\n",
       "      <td>49</td>\n",
       "      <td>89</td>\n",
       "      <td>12</td>\n",
       "      <td>72</td>\n",
       "      <td>76</td>\n",
       "      <td>80</td>\n",
       "      <td>35</td>\n",
       "      <td>31</td>\n",
       "      <td>7</td>\n",
       "      <td>1</td>\n",
       "      <td>52</td>\n",
       "      <td>78</td>\n",
       "      <td>63</td>\n",
       "      <td>25</td>\n",
       "      <td>68</td>\n",
       "      <td>42</td>\n",
       "      <td>70</td>\n",
       "      <td>66</td>\n",
       "      <td>31</td>\n",
       "      <td>59</td>\n",
       "    </tr>\n",
       "    <tr>\n",
       "      <th>996</th>\n",
       "      <td>66</td>\n",
       "      <td>0</td>\n",
       "      <td>3</td>\n",
       "      <td>65</td>\n",
       "      <td>99</td>\n",
       "      <td>88</td>\n",
       "      <td>38</td>\n",
       "      <td>31</td>\n",
       "      <td>39</td>\n",
       "      <td>44</td>\n",
       "      <td>14</td>\n",
       "      <td>35</td>\n",
       "      <td>45</td>\n",
       "      <td>14</td>\n",
       "      <td>49</td>\n",
       "      <td>94</td>\n",
       "      <td>19</td>\n",
       "      <td>90</td>\n",
       "      <td>87</td>\n",
       "      <td>62</td>\n",
       "      <td>2</td>\n",
       "      <td>50</td>\n",
       "      <td>76</td>\n",
       "      <td>...</td>\n",
       "      <td>52</td>\n",
       "      <td>79</td>\n",
       "      <td>9</td>\n",
       "      <td>79</td>\n",
       "      <td>49</td>\n",
       "      <td>15</td>\n",
       "      <td>69</td>\n",
       "      <td>7</td>\n",
       "      <td>21</td>\n",
       "      <td>18</td>\n",
       "      <td>19</td>\n",
       "      <td>43</td>\n",
       "      <td>97</td>\n",
       "      <td>51</td>\n",
       "      <td>16</td>\n",
       "      <td>53</td>\n",
       "      <td>57</td>\n",
       "      <td>82</td>\n",
       "      <td>65</td>\n",
       "      <td>87</td>\n",
       "      <td>34</td>\n",
       "      <td>81</td>\n",
       "      <td>42</td>\n",
       "    </tr>\n",
       "    <tr>\n",
       "      <th>997</th>\n",
       "      <td>24</td>\n",
       "      <td>55</td>\n",
       "      <td>48</td>\n",
       "      <td>59</td>\n",
       "      <td>82</td>\n",
       "      <td>81</td>\n",
       "      <td>83</td>\n",
       "      <td>39</td>\n",
       "      <td>62</td>\n",
       "      <td>11</td>\n",
       "      <td>28</td>\n",
       "      <td>35</td>\n",
       "      <td>12</td>\n",
       "      <td>14</td>\n",
       "      <td>6</td>\n",
       "      <td>43</td>\n",
       "      <td>78</td>\n",
       "      <td>80</td>\n",
       "      <td>72</td>\n",
       "      <td>17</td>\n",
       "      <td>85</td>\n",
       "      <td>38</td>\n",
       "      <td>43</td>\n",
       "      <td>...</td>\n",
       "      <td>16</td>\n",
       "      <td>58</td>\n",
       "      <td>20</td>\n",
       "      <td>79</td>\n",
       "      <td>74</td>\n",
       "      <td>61</td>\n",
       "      <td>52</td>\n",
       "      <td>61</td>\n",
       "      <td>76</td>\n",
       "      <td>54</td>\n",
       "      <td>49</td>\n",
       "      <td>93</td>\n",
       "      <td>82</td>\n",
       "      <td>67</td>\n",
       "      <td>72</td>\n",
       "      <td>55</td>\n",
       "      <td>92</td>\n",
       "      <td>50</td>\n",
       "      <td>65</td>\n",
       "      <td>46</td>\n",
       "      <td>73</td>\n",
       "      <td>69</td>\n",
       "      <td>95</td>\n",
       "    </tr>\n",
       "    <tr>\n",
       "      <th>998</th>\n",
       "      <td>9</td>\n",
       "      <td>19</td>\n",
       "      <td>28</td>\n",
       "      <td>91</td>\n",
       "      <td>70</td>\n",
       "      <td>22</td>\n",
       "      <td>77</td>\n",
       "      <td>98</td>\n",
       "      <td>48</td>\n",
       "      <td>71</td>\n",
       "      <td>44</td>\n",
       "      <td>24</td>\n",
       "      <td>39</td>\n",
       "      <td>23</td>\n",
       "      <td>46</td>\n",
       "      <td>45</td>\n",
       "      <td>10</td>\n",
       "      <td>74</td>\n",
       "      <td>22</td>\n",
       "      <td>18</td>\n",
       "      <td>3</td>\n",
       "      <td>76</td>\n",
       "      <td>65</td>\n",
       "      <td>...</td>\n",
       "      <td>39</td>\n",
       "      <td>74</td>\n",
       "      <td>91</td>\n",
       "      <td>77</td>\n",
       "      <td>46</td>\n",
       "      <td>85</td>\n",
       "      <td>85</td>\n",
       "      <td>85</td>\n",
       "      <td>66</td>\n",
       "      <td>99</td>\n",
       "      <td>11</td>\n",
       "      <td>31</td>\n",
       "      <td>75</td>\n",
       "      <td>52</td>\n",
       "      <td>89</td>\n",
       "      <td>14</td>\n",
       "      <td>64</td>\n",
       "      <td>71</td>\n",
       "      <td>1</td>\n",
       "      <td>55</td>\n",
       "      <td>34</td>\n",
       "      <td>81</td>\n",
       "      <td>63</td>\n",
       "    </tr>\n",
       "    <tr>\n",
       "      <th>999</th>\n",
       "      <td>25</td>\n",
       "      <td>77</td>\n",
       "      <td>66</td>\n",
       "      <td>73</td>\n",
       "      <td>41</td>\n",
       "      <td>49</td>\n",
       "      <td>91</td>\n",
       "      <td>50</td>\n",
       "      <td>33</td>\n",
       "      <td>88</td>\n",
       "      <td>22</td>\n",
       "      <td>60</td>\n",
       "      <td>54</td>\n",
       "      <td>21</td>\n",
       "      <td>98</td>\n",
       "      <td>87</td>\n",
       "      <td>51</td>\n",
       "      <td>35</td>\n",
       "      <td>10</td>\n",
       "      <td>51</td>\n",
       "      <td>52</td>\n",
       "      <td>10</td>\n",
       "      <td>24</td>\n",
       "      <td>...</td>\n",
       "      <td>69</td>\n",
       "      <td>42</td>\n",
       "      <td>2</td>\n",
       "      <td>3</td>\n",
       "      <td>41</td>\n",
       "      <td>68</td>\n",
       "      <td>41</td>\n",
       "      <td>66</td>\n",
       "      <td>29</td>\n",
       "      <td>4</td>\n",
       "      <td>50</td>\n",
       "      <td>11</td>\n",
       "      <td>34</td>\n",
       "      <td>52</td>\n",
       "      <td>53</td>\n",
       "      <td>21</td>\n",
       "      <td>99</td>\n",
       "      <td>52</td>\n",
       "      <td>21</td>\n",
       "      <td>86</td>\n",
       "      <td>34</td>\n",
       "      <td>21</td>\n",
       "      <td>82</td>\n",
       "    </tr>\n",
       "  </tbody>\n",
       "</table>\n",
       "<p>1000 rows × 50 columns</p>\n",
       "</div>"
      ],
      "text/plain": [
       "     0   1   2   3   4   5   6   7   8   9   10  11  12  13  14  15  16  17  \\\n",
       "0    82  76  66  19  97  60   8  33  39  45  63   3   4  96  81  90  73  60   \n",
       "1    70  37  53  86  20  79  27  46  73  84   4  35  78  91  10  70  30  57   \n",
       "2    78   4  96  48  23  24  57   9  22  15  60  80  78  61  90   6  91  61   \n",
       "3    67  55  72  49  59  53  63  85  90  20  79  72  59  70  51  83  59  63   \n",
       "4    33   9  61  36  60  80  56  68  13  97  84  60  19  47  45  30   5  33   \n",
       "..   ..  ..  ..  ..  ..  ..  ..  ..  ..  ..  ..  ..  ..  ..  ..  ..  ..  ..   \n",
       "995  49  56  99  67  72  44  40   4  19  77  14  83  59  60  88  80  63  36   \n",
       "996  66   0   3  65  99  88  38  31  39  44  14  35  45  14  49  94  19  90   \n",
       "997  24  55  48  59  82  81  83  39  62  11  28  35  12  14   6  43  78  80   \n",
       "998   9  19  28  91  70  22  77  98  48  71  44  24  39  23  46  45  10  74   \n",
       "999  25  77  66  73  41  49  91  50  33  88  22  60  54  21  98  87  51  35   \n",
       "\n",
       "     18  19  20  21  22  ...  27  28  29  30  31  32  33  34  35  36  37  38  \\\n",
       "0    66  72  78  73  48  ...  95  99  78  25  41  96  32  51  42  12  49  88   \n",
       "1    92   1  37  22  90  ...  18  38  23  25  76  95  41  54  41  89  91  53   \n",
       "2    73  86  39  56   0  ...  31  45  67  12  25  19   0  70  44  76  44  37   \n",
       "3    87  53  35  34  87  ...  94   8  21  94  63  44   2  63   2  60  39  70   \n",
       "4     9  15  69  86  10  ...  41  59  24  75  98   7  77   4  98   1  32  27   \n",
       "..   ..  ..  ..  ..  ..  ...  ..  ..  ..  ..  ..  ..  ..  ..  ..  ..  ..  ..   \n",
       "995  60  11   8  60  95  ...  54  67  56  49  89  12  72  76  80  35  31   7   \n",
       "996  87  62   2  50  76  ...  52  79   9  79  49  15  69   7  21  18  19  43   \n",
       "997  72  17  85  38  43  ...  16  58  20  79  74  61  52  61  76  54  49  93   \n",
       "998  22  18   3  76  65  ...  39  74  91  77  46  85  85  85  66  99  11  31   \n",
       "999  10  51  52  10  24  ...  69  42   2   3  41  68  41  66  29   4  50  11   \n",
       "\n",
       "     39  40  41  42  43  44  45  46  47  48  49  \n",
       "0    47  41  85  30  50  56  92  48   3  18  55  \n",
       "1     1  22  92  25  64  58  87  97  34  51  65  \n",
       "2    41  28  81   5  63  97  85  16  68  40  52  \n",
       "3    21  30  55  10  57  97  56  73  16  88  18  \n",
       "4    21  81  15  30  17   1  71  90  80  13  69  \n",
       "..   ..  ..  ..  ..  ..  ..  ..  ..  ..  ..  ..  \n",
       "995   1  52  78  63  25  68  42  70  66  31  59  \n",
       "996  97  51  16  53  57  82  65  87  34  81  42  \n",
       "997  82  67  72  55  92  50  65  46  73  69  95  \n",
       "998  75  52  89  14  64  71   1  55  34  81  63  \n",
       "999  34  52  53  21  99  52  21  86  34  21  82  \n",
       "\n",
       "[1000 rows x 50 columns]"
      ]
     },
     "execution_count": 157,
     "metadata": {},
     "output_type": "execute_result"
    }
   ],
   "source": [
    "df"
   ]
  },
  {
   "cell_type": "markdown",
   "id": "6cfa5c07",
   "metadata": {},
   "source": [
    "## precision option"
   ]
  },
  {
   "cell_type": "code",
   "execution_count": 158,
   "id": "2d5bda9b",
   "metadata": {},
   "outputs": [],
   "source": [
    "# alters the number of digits that appears after the decimal points in a floating point number.\n",
    "# It doesn't actually modify the number but hide the complexity \n",
    "# Temporary view of data"
   ]
  },
  {
   "cell_type": "code",
   "execution_count": 159,
   "id": "0ef56b94",
   "metadata": {},
   "outputs": [
    {
     "data": {
      "text/html": [
       "<div>\n",
       "<style scoped>\n",
       "    .dataframe tbody tr th:only-of-type {\n",
       "        vertical-align: middle;\n",
       "    }\n",
       "\n",
       "    .dataframe tbody tr th {\n",
       "        vertical-align: top;\n",
       "    }\n",
       "\n",
       "    .dataframe thead th {\n",
       "        text-align: right;\n",
       "    }\n",
       "</style>\n",
       "<table border=\"1\" class=\"dataframe\">\n",
       "  <thead>\n",
       "    <tr style=\"text-align: right;\">\n",
       "      <th></th>\n",
       "      <th>0</th>\n",
       "      <th>1</th>\n",
       "      <th>2</th>\n",
       "      <th>3</th>\n",
       "      <th>4</th>\n",
       "    </tr>\n",
       "  </thead>\n",
       "  <tbody>\n",
       "    <tr>\n",
       "      <th>0</th>\n",
       "      <td>1.082897</td>\n",
       "      <td>1.636851</td>\n",
       "      <td>-2.130498</td>\n",
       "      <td>0.583366</td>\n",
       "      <td>-1.662951</td>\n",
       "    </tr>\n",
       "    <tr>\n",
       "      <th>1</th>\n",
       "      <td>0.597074</td>\n",
       "      <td>1.088702</td>\n",
       "      <td>0.246941</td>\n",
       "      <td>-0.991259</td>\n",
       "      <td>-0.784877</td>\n",
       "    </tr>\n",
       "    <tr>\n",
       "      <th>2</th>\n",
       "      <td>0.167365</td>\n",
       "      <td>0.710256</td>\n",
       "      <td>-0.100108</td>\n",
       "      <td>-1.232158</td>\n",
       "      <td>-1.211519</td>\n",
       "    </tr>\n",
       "    <tr>\n",
       "      <th>3</th>\n",
       "      <td>1.673699</td>\n",
       "      <td>-0.844388</td>\n",
       "      <td>0.822220</td>\n",
       "      <td>-0.112097</td>\n",
       "      <td>-2.432837</td>\n",
       "    </tr>\n",
       "    <tr>\n",
       "      <th>4</th>\n",
       "      <td>1.605887</td>\n",
       "      <td>-1.661402</td>\n",
       "      <td>-1.928791</td>\n",
       "      <td>-0.682431</td>\n",
       "      <td>-0.554296</td>\n",
       "    </tr>\n",
       "  </tbody>\n",
       "</table>\n",
       "</div>"
      ],
      "text/plain": [
       "          0         1         2         3         4\n",
       "0  1.082897  1.636851 -2.130498  0.583366 -1.662951\n",
       "1  0.597074  1.088702  0.246941 -0.991259 -0.784877\n",
       "2  0.167365  0.710256 -0.100108 -1.232158 -1.211519\n",
       "3  1.673699 -0.844388  0.822220 -0.112097 -2.432837\n",
       "4  1.605887 -1.661402 -1.928791 -0.682431 -0.554296"
      ]
     },
     "execution_count": 159,
     "metadata": {},
     "output_type": "execute_result"
    }
   ],
   "source": [
    "df = pd.DataFrame(np.random.randn(5,5))\n",
    "df"
   ]
  },
  {
   "cell_type": "code",
   "execution_count": 170,
   "id": "2defed60",
   "metadata": {},
   "outputs": [
    {
     "data": {
      "text/plain": [
       "6"
      ]
     },
     "execution_count": 170,
     "metadata": {},
     "output_type": "execute_result"
    }
   ],
   "source": [
    "pd.get_option('display.precision')"
   ]
  },
  {
   "cell_type": "code",
   "execution_count": 171,
   "id": "0ca01ed0",
   "metadata": {},
   "outputs": [
    {
     "data": {
      "text/html": [
       "<div>\n",
       "<style scoped>\n",
       "    .dataframe tbody tr th:only-of-type {\n",
       "        vertical-align: middle;\n",
       "    }\n",
       "\n",
       "    .dataframe tbody tr th {\n",
       "        vertical-align: top;\n",
       "    }\n",
       "\n",
       "    .dataframe thead th {\n",
       "        text-align: right;\n",
       "    }\n",
       "</style>\n",
       "<table border=\"1\" class=\"dataframe\">\n",
       "  <thead>\n",
       "    <tr style=\"text-align: right;\">\n",
       "      <th></th>\n",
       "      <th>0</th>\n",
       "      <th>1</th>\n",
       "      <th>2</th>\n",
       "      <th>3</th>\n",
       "      <th>4</th>\n",
       "    </tr>\n",
       "  </thead>\n",
       "  <tbody>\n",
       "    <tr>\n",
       "      <th>0</th>\n",
       "      <td>1.08</td>\n",
       "      <td>1.64</td>\n",
       "      <td>-2.13</td>\n",
       "      <td>0.58</td>\n",
       "      <td>-1.66</td>\n",
       "    </tr>\n",
       "    <tr>\n",
       "      <th>1</th>\n",
       "      <td>0.60</td>\n",
       "      <td>1.09</td>\n",
       "      <td>0.25</td>\n",
       "      <td>-0.99</td>\n",
       "      <td>-0.78</td>\n",
       "    </tr>\n",
       "    <tr>\n",
       "      <th>2</th>\n",
       "      <td>0.17</td>\n",
       "      <td>0.71</td>\n",
       "      <td>-0.10</td>\n",
       "      <td>-1.23</td>\n",
       "      <td>-1.21</td>\n",
       "    </tr>\n",
       "    <tr>\n",
       "      <th>3</th>\n",
       "      <td>1.67</td>\n",
       "      <td>-0.84</td>\n",
       "      <td>0.82</td>\n",
       "      <td>-0.11</td>\n",
       "      <td>-2.43</td>\n",
       "    </tr>\n",
       "    <tr>\n",
       "      <th>4</th>\n",
       "      <td>1.61</td>\n",
       "      <td>-1.66</td>\n",
       "      <td>-1.93</td>\n",
       "      <td>-0.68</td>\n",
       "      <td>-0.55</td>\n",
       "    </tr>\n",
       "  </tbody>\n",
       "</table>\n",
       "</div>"
      ],
      "text/plain": [
       "      0     1     2     3     4\n",
       "0  1.08  1.64 -2.13  0.58 -1.66\n",
       "1  0.60  1.09  0.25 -0.99 -0.78\n",
       "2  0.17  0.71 -0.10 -1.23 -1.21\n",
       "3  1.67 -0.84  0.82 -0.11 -2.43\n",
       "4  1.61 -1.66 -1.93 -0.68 -0.55"
      ]
     },
     "execution_count": 171,
     "metadata": {},
     "output_type": "execute_result"
    }
   ],
   "source": [
    "pd.set_option('display.precision', 2)\n",
    "df"
   ]
  },
  {
   "cell_type": "code",
   "execution_count": 172,
   "id": "87d45bac",
   "metadata": {},
   "outputs": [],
   "source": [
    "pd.reset_option('display.precision')"
   ]
  },
  {
   "cell_type": "code",
   "execution_count": 174,
   "id": "a2fb251b",
   "metadata": {},
   "outputs": [
    {
     "data": {
      "text/html": [
       "<div>\n",
       "<style scoped>\n",
       "    .dataframe tbody tr th:only-of-type {\n",
       "        vertical-align: middle;\n",
       "    }\n",
       "\n",
       "    .dataframe tbody tr th {\n",
       "        vertical-align: top;\n",
       "    }\n",
       "\n",
       "    .dataframe thead th {\n",
       "        text-align: right;\n",
       "    }\n",
       "</style>\n",
       "<table border=\"1\" class=\"dataframe\">\n",
       "  <thead>\n",
       "    <tr style=\"text-align: right;\">\n",
       "      <th></th>\n",
       "      <th>0</th>\n",
       "      <th>1</th>\n",
       "      <th>2</th>\n",
       "      <th>3</th>\n",
       "      <th>4</th>\n",
       "    </tr>\n",
       "  </thead>\n",
       "  <tbody>\n",
       "    <tr>\n",
       "      <th>0</th>\n",
       "      <td>1.082897</td>\n",
       "      <td>1.636851</td>\n",
       "      <td>-2.130498</td>\n",
       "      <td>0.583366</td>\n",
       "      <td>-1.662951</td>\n",
       "    </tr>\n",
       "    <tr>\n",
       "      <th>1</th>\n",
       "      <td>0.597074</td>\n",
       "      <td>1.088702</td>\n",
       "      <td>0.246941</td>\n",
       "      <td>-0.991259</td>\n",
       "      <td>-0.784877</td>\n",
       "    </tr>\n",
       "    <tr>\n",
       "      <th>2</th>\n",
       "      <td>0.167365</td>\n",
       "      <td>0.710256</td>\n",
       "      <td>-0.100108</td>\n",
       "      <td>-1.232158</td>\n",
       "      <td>-1.211519</td>\n",
       "    </tr>\n",
       "    <tr>\n",
       "      <th>3</th>\n",
       "      <td>1.673699</td>\n",
       "      <td>-0.844388</td>\n",
       "      <td>0.822220</td>\n",
       "      <td>-0.112097</td>\n",
       "      <td>-2.432837</td>\n",
       "    </tr>\n",
       "    <tr>\n",
       "      <th>4</th>\n",
       "      <td>1.605887</td>\n",
       "      <td>-1.661402</td>\n",
       "      <td>-1.928791</td>\n",
       "      <td>-0.682431</td>\n",
       "      <td>-0.554296</td>\n",
       "    </tr>\n",
       "  </tbody>\n",
       "</table>\n",
       "</div>"
      ],
      "text/plain": [
       "          0         1         2         3         4\n",
       "0  1.082897  1.636851 -2.130498  0.583366 -1.662951\n",
       "1  0.597074  1.088702  0.246941 -0.991259 -0.784877\n",
       "2  0.167365  0.710256 -0.100108 -1.232158 -1.211519\n",
       "3  1.673699 -0.844388  0.822220 -0.112097 -2.432837\n",
       "4  1.605887 -1.661402 -1.928791 -0.682431 -0.554296"
      ]
     },
     "execution_count": 174,
     "metadata": {},
     "output_type": "execute_result"
    }
   ],
   "source": [
    "df"
   ]
  },
  {
   "cell_type": "code",
   "execution_count": null,
   "id": "c4d9cf98",
   "metadata": {},
   "outputs": [],
   "source": []
  }
 ],
 "metadata": {
  "kernelspec": {
   "display_name": "Python 3 (ipykernel)",
   "language": "python",
   "name": "python3"
  },
  "language_info": {
   "codemirror_mode": {
    "name": "ipython",
    "version": 3
   },
   "file_extension": ".py",
   "mimetype": "text/x-python",
   "name": "python",
   "nbconvert_exporter": "python",
   "pygments_lexer": "ipython3",
   "version": "3.9.13"
  }
 },
 "nbformat": 4,
 "nbformat_minor": 5
}
